{
 "cells": [
  {
   "cell_type": "markdown",
   "id": "f9dcbaec",
   "metadata": {},
   "source": [
    "## 1. Import od necessary libraries"
   ]
  },
  {
   "cell_type": "code",
   "execution_count": 1,
   "id": "237ab561",
   "metadata": {},
   "outputs": [],
   "source": [
    "import pyodbc as odbc\n",
    "import pandas as pd\n",
    "import sqlalchemy as sa\n",
    "import matplotlib\n",
    "from geopy import distance"
   ]
  },
  {
   "cell_type": "markdown",
   "id": "2e1b2c13",
   "metadata": {},
   "source": [
    "## 2. Creating connection with SQL Server Database using pyodbbc + SQLAlchemy"
   ]
  },
  {
   "cell_type": "code",
   "execution_count": 2,
   "id": "b896aaeb",
   "metadata": {},
   "outputs": [],
   "source": [
    "DRIVER_NAME = 'SQL SERVER'\n",
    "SERVER_NAME = 'DESKTOP-6DMIBIJ'\n",
    "DATABASE_NAME = 'Olist'\n",
    "\n",
    "connection_string = f\"mssql+pyodbc://@{SERVER_NAME}/{DATABASE_NAME}?driver=ODBC+Driver+17+for+SQL+Server&trusted_connection=yes\"\n",
    "engine = sa.create_engine(connection_string)"
   ]
  },
  {
   "cell_type": "markdown",
   "id": "bdaa1835",
   "metadata": {},
   "source": [
    "## 3. Load Datasets"
   ]
  },
  {
   "cell_type": "markdown",
   "id": "f00013cf",
   "metadata": {},
   "source": [
    "#### Customers table"
   ]
  },
  {
   "cell_type": "code",
   "execution_count": 3,
   "id": "6818056b",
   "metadata": {},
   "outputs": [
    {
     "name": "stdout",
     "output_type": "stream",
     "text": [
      "Shape of df_customers: (99441, 5)\n",
      "\n"
     ]
    },
    {
     "data": {
      "application/vnd.microsoft.datawrangler.viewer.v0+json": {
       "columns": [
        {
         "name": "index",
         "rawType": "int64",
         "type": "integer"
        },
        {
         "name": "customer_id",
         "rawType": "object",
         "type": "string"
        },
        {
         "name": "customer_unique_id",
         "rawType": "object",
         "type": "string"
        },
        {
         "name": "customer_zip_code_prefix",
         "rawType": "int64",
         "type": "integer"
        },
        {
         "name": "customer_city",
         "rawType": "object",
         "type": "unknown"
        },
        {
         "name": "customer_state",
         "rawType": "object",
         "type": "unknown"
        }
       ],
       "ref": "ec97140c-995f-4b83-951a-e9f94e5ff002",
       "rows": [
        [
         "0",
         "00012a2ce6f8dcda20d059ce98491703",
         "248ffe10d632bebe4f7267f1f44844c9",
         "6273",
         "osasco",
         "SP"
        ],
        [
         "1",
         "000161a058600d5901f007fab4c27140",
         "b0015e09bb4b6e47c52844fab5fb6638",
         "35550",
         "itapecerica",
         "MG"
        ],
        [
         "2",
         "0001fd6190edaaf884bcaf3d49edf079",
         "94b11d37cd61cb2994a194d11f89682b",
         "29830",
         null,
         null
        ],
        [
         "3",
         "0002414f95344307404f0ace7a26f1d5",
         "4893ad4ea28b2c5b3ddf4e82e79db9e6",
         "39664",
         "mendonca",
         "MG"
        ],
        [
         "4",
         "000379cdec625522490c315e70c7a9fb",
         "0b83f73b19c2019e182fd552c048a22c",
         "4841",
         null,
         null
        ]
       ],
       "shape": {
        "columns": 5,
        "rows": 5
       }
      },
      "text/html": [
       "<div>\n",
       "<style scoped>\n",
       "    .dataframe tbody tr th:only-of-type {\n",
       "        vertical-align: middle;\n",
       "    }\n",
       "\n",
       "    .dataframe tbody tr th {\n",
       "        vertical-align: top;\n",
       "    }\n",
       "\n",
       "    .dataframe thead th {\n",
       "        text-align: right;\n",
       "    }\n",
       "</style>\n",
       "<table border=\"1\" class=\"dataframe\">\n",
       "  <thead>\n",
       "    <tr style=\"text-align: right;\">\n",
       "      <th></th>\n",
       "      <th>customer_id</th>\n",
       "      <th>customer_unique_id</th>\n",
       "      <th>customer_zip_code_prefix</th>\n",
       "      <th>customer_city</th>\n",
       "      <th>customer_state</th>\n",
       "    </tr>\n",
       "  </thead>\n",
       "  <tbody>\n",
       "    <tr>\n",
       "      <th>0</th>\n",
       "      <td>00012a2ce6f8dcda20d059ce98491703</td>\n",
       "      <td>248ffe10d632bebe4f7267f1f44844c9</td>\n",
       "      <td>6273</td>\n",
       "      <td>osasco</td>\n",
       "      <td>SP</td>\n",
       "    </tr>\n",
       "    <tr>\n",
       "      <th>1</th>\n",
       "      <td>000161a058600d5901f007fab4c27140</td>\n",
       "      <td>b0015e09bb4b6e47c52844fab5fb6638</td>\n",
       "      <td>35550</td>\n",
       "      <td>itapecerica</td>\n",
       "      <td>MG</td>\n",
       "    </tr>\n",
       "    <tr>\n",
       "      <th>2</th>\n",
       "      <td>0001fd6190edaaf884bcaf3d49edf079</td>\n",
       "      <td>94b11d37cd61cb2994a194d11f89682b</td>\n",
       "      <td>29830</td>\n",
       "      <td>None</td>\n",
       "      <td>None</td>\n",
       "    </tr>\n",
       "    <tr>\n",
       "      <th>3</th>\n",
       "      <td>0002414f95344307404f0ace7a26f1d5</td>\n",
       "      <td>4893ad4ea28b2c5b3ddf4e82e79db9e6</td>\n",
       "      <td>39664</td>\n",
       "      <td>mendonca</td>\n",
       "      <td>MG</td>\n",
       "    </tr>\n",
       "    <tr>\n",
       "      <th>4</th>\n",
       "      <td>000379cdec625522490c315e70c7a9fb</td>\n",
       "      <td>0b83f73b19c2019e182fd552c048a22c</td>\n",
       "      <td>4841</td>\n",
       "      <td>None</td>\n",
       "      <td>None</td>\n",
       "    </tr>\n",
       "  </tbody>\n",
       "</table>\n",
       "</div>"
      ],
      "text/plain": [
       "                        customer_id                customer_unique_id  \\\n",
       "0  00012a2ce6f8dcda20d059ce98491703  248ffe10d632bebe4f7267f1f44844c9   \n",
       "1  000161a058600d5901f007fab4c27140  b0015e09bb4b6e47c52844fab5fb6638   \n",
       "2  0001fd6190edaaf884bcaf3d49edf079  94b11d37cd61cb2994a194d11f89682b   \n",
       "3  0002414f95344307404f0ace7a26f1d5  4893ad4ea28b2c5b3ddf4e82e79db9e6   \n",
       "4  000379cdec625522490c315e70c7a9fb  0b83f73b19c2019e182fd552c048a22c   \n",
       "\n",
       "   customer_zip_code_prefix customer_city customer_state  \n",
       "0                      6273        osasco             SP  \n",
       "1                     35550   itapecerica             MG  \n",
       "2                     29830          None           None  \n",
       "3                     39664      mendonca             MG  \n",
       "4                      4841          None           None  "
      ]
     },
     "execution_count": 3,
     "metadata": {},
     "output_type": "execute_result"
    }
   ],
   "source": [
    "df_customers = pd.read_sql('SELECT* FROM dbo.customers', engine)\n",
    "print(f\"Shape of df_customers: {df_customers.shape}\\n\")\n",
    "df_customers.head()"
   ]
  },
  {
   "cell_type": "markdown",
   "id": "11b35366",
   "metadata": {},
   "source": [
    "#### Geolocation table"
   ]
  },
  {
   "cell_type": "code",
   "execution_count": 4,
   "id": "0cfad09b",
   "metadata": {},
   "outputs": [
    {
     "name": "stdout",
     "output_type": "stream",
     "text": [
      "Shape of df_geolocation: (1000163, 5)\n",
      "\n"
     ]
    },
    {
     "data": {
      "application/vnd.microsoft.datawrangler.viewer.v0+json": {
       "columns": [
        {
         "name": "index",
         "rawType": "int64",
         "type": "integer"
        },
        {
         "name": "geolocation_zip_code_prefix",
         "rawType": "int64",
         "type": "integer"
        },
        {
         "name": "geolocation_lat",
         "rawType": "float64",
         "type": "float"
        },
        {
         "name": "geolocation_lng",
         "rawType": "float64",
         "type": "float"
        },
        {
         "name": "geolocation_city",
         "rawType": "object",
         "type": "string"
        },
        {
         "name": "geolocation_state",
         "rawType": "object",
         "type": "string"
        }
       ],
       "ref": "a783ef6d-8dec-4806-9fbc-2b6f4447ed64",
       "rows": [
        [
         "0",
         "1037",
         "-23.54562128115268",
         "-46.63929204800168",
         "sao paulo",
         "SP"
        ],
        [
         "1",
         "1046",
         "-23.546081127035535",
         "-46.64482029837157",
         "sao paulo",
         "SP"
        ],
        [
         "2",
         "1046",
         "-23.54612896641469",
         "-46.64295148361138",
         "sao paulo",
         "SP"
        ],
        [
         "3",
         "1041",
         "-23.5443921648681",
         "-46.63949930627844",
         "sao paulo",
         "SP"
        ],
        [
         "4",
         "1035",
         "-23.541577961711493",
         "-46.64160722329613",
         "sao paulo",
         "SP"
        ]
       ],
       "shape": {
        "columns": 5,
        "rows": 5
       }
      },
      "text/html": [
       "<div>\n",
       "<style scoped>\n",
       "    .dataframe tbody tr th:only-of-type {\n",
       "        vertical-align: middle;\n",
       "    }\n",
       "\n",
       "    .dataframe tbody tr th {\n",
       "        vertical-align: top;\n",
       "    }\n",
       "\n",
       "    .dataframe thead th {\n",
       "        text-align: right;\n",
       "    }\n",
       "</style>\n",
       "<table border=\"1\" class=\"dataframe\">\n",
       "  <thead>\n",
       "    <tr style=\"text-align: right;\">\n",
       "      <th></th>\n",
       "      <th>geolocation_zip_code_prefix</th>\n",
       "      <th>geolocation_lat</th>\n",
       "      <th>geolocation_lng</th>\n",
       "      <th>geolocation_city</th>\n",
       "      <th>geolocation_state</th>\n",
       "    </tr>\n",
       "  </thead>\n",
       "  <tbody>\n",
       "    <tr>\n",
       "      <th>0</th>\n",
       "      <td>1037</td>\n",
       "      <td>-23.545621</td>\n",
       "      <td>-46.639292</td>\n",
       "      <td>sao paulo</td>\n",
       "      <td>SP</td>\n",
       "    </tr>\n",
       "    <tr>\n",
       "      <th>1</th>\n",
       "      <td>1046</td>\n",
       "      <td>-23.546081</td>\n",
       "      <td>-46.644820</td>\n",
       "      <td>sao paulo</td>\n",
       "      <td>SP</td>\n",
       "    </tr>\n",
       "    <tr>\n",
       "      <th>2</th>\n",
       "      <td>1046</td>\n",
       "      <td>-23.546129</td>\n",
       "      <td>-46.642951</td>\n",
       "      <td>sao paulo</td>\n",
       "      <td>SP</td>\n",
       "    </tr>\n",
       "    <tr>\n",
       "      <th>3</th>\n",
       "      <td>1041</td>\n",
       "      <td>-23.544392</td>\n",
       "      <td>-46.639499</td>\n",
       "      <td>sao paulo</td>\n",
       "      <td>SP</td>\n",
       "    </tr>\n",
       "    <tr>\n",
       "      <th>4</th>\n",
       "      <td>1035</td>\n",
       "      <td>-23.541578</td>\n",
       "      <td>-46.641607</td>\n",
       "      <td>sao paulo</td>\n",
       "      <td>SP</td>\n",
       "    </tr>\n",
       "  </tbody>\n",
       "</table>\n",
       "</div>"
      ],
      "text/plain": [
       "   geolocation_zip_code_prefix  geolocation_lat  geolocation_lng  \\\n",
       "0                         1037       -23.545621       -46.639292   \n",
       "1                         1046       -23.546081       -46.644820   \n",
       "2                         1046       -23.546129       -46.642951   \n",
       "3                         1041       -23.544392       -46.639499   \n",
       "4                         1035       -23.541578       -46.641607   \n",
       "\n",
       "  geolocation_city geolocation_state  \n",
       "0        sao paulo                SP  \n",
       "1        sao paulo                SP  \n",
       "2        sao paulo                SP  \n",
       "3        sao paulo                SP  \n",
       "4        sao paulo                SP  "
      ]
     },
     "execution_count": 4,
     "metadata": {},
     "output_type": "execute_result"
    }
   ],
   "source": [
    "df_geolocation = pd.read_sql('SELECT * FROM dbo.geolocation', engine)\n",
    "print(f\"Shape of df_geolocation: {df_geolocation.shape}\\n\")\n",
    "df_geolocation.head()"
   ]
  },
  {
   "cell_type": "markdown",
   "id": "39383b9f",
   "metadata": {},
   "source": [
    "#### Sellers table"
   ]
  },
  {
   "cell_type": "code",
   "execution_count": 5,
   "id": "5e6d6a8b",
   "metadata": {},
   "outputs": [
    {
     "name": "stdout",
     "output_type": "stream",
     "text": [
      "Shape of df_sellers: (3095, 4)\n",
      "\n"
     ]
    },
    {
     "data": {
      "application/vnd.microsoft.datawrangler.viewer.v0+json": {
       "columns": [
        {
         "name": "index",
         "rawType": "int64",
         "type": "integer"
        },
        {
         "name": "seller_id",
         "rawType": "object",
         "type": "string"
        },
        {
         "name": "seller_zip_code_prefix",
         "rawType": "int64",
         "type": "integer"
        },
        {
         "name": "seller_city",
         "rawType": "object",
         "type": "unknown"
        },
        {
         "name": "seller_state",
         "rawType": "object",
         "type": "string"
        }
       ],
       "ref": "69d0d659-b8cb-483d-ab21-21b3c28a1d0a",
       "rows": [
        [
         "0",
         "0015a82c2db000af6aaaf3ae2ecb0532",
         "9080",
         "santo andre",
         "SP"
        ],
        [
         "1",
         "001cca7ae9ae17fb1caed9dfb1094831",
         "29156",
         "cariacica",
         "ES"
        ],
        [
         "2",
         "001e6ad469a905060d959994f1b41e4f",
         "24754",
         "sao goncalo",
         "RJ"
        ],
        [
         "3",
         "002100f778ceb8431b7a1020ff7ab48f",
         "14405",
         null,
         "SP"
        ],
        [
         "4",
         "003554e2dce176b5555353e4f3555ac8",
         "74565",
         "goiania",
         "GO"
        ]
       ],
       "shape": {
        "columns": 4,
        "rows": 5
       }
      },
      "text/html": [
       "<div>\n",
       "<style scoped>\n",
       "    .dataframe tbody tr th:only-of-type {\n",
       "        vertical-align: middle;\n",
       "    }\n",
       "\n",
       "    .dataframe tbody tr th {\n",
       "        vertical-align: top;\n",
       "    }\n",
       "\n",
       "    .dataframe thead th {\n",
       "        text-align: right;\n",
       "    }\n",
       "</style>\n",
       "<table border=\"1\" class=\"dataframe\">\n",
       "  <thead>\n",
       "    <tr style=\"text-align: right;\">\n",
       "      <th></th>\n",
       "      <th>seller_id</th>\n",
       "      <th>seller_zip_code_prefix</th>\n",
       "      <th>seller_city</th>\n",
       "      <th>seller_state</th>\n",
       "    </tr>\n",
       "  </thead>\n",
       "  <tbody>\n",
       "    <tr>\n",
       "      <th>0</th>\n",
       "      <td>0015a82c2db000af6aaaf3ae2ecb0532</td>\n",
       "      <td>9080</td>\n",
       "      <td>santo andre</td>\n",
       "      <td>SP</td>\n",
       "    </tr>\n",
       "    <tr>\n",
       "      <th>1</th>\n",
       "      <td>001cca7ae9ae17fb1caed9dfb1094831</td>\n",
       "      <td>29156</td>\n",
       "      <td>cariacica</td>\n",
       "      <td>ES</td>\n",
       "    </tr>\n",
       "    <tr>\n",
       "      <th>2</th>\n",
       "      <td>001e6ad469a905060d959994f1b41e4f</td>\n",
       "      <td>24754</td>\n",
       "      <td>sao goncalo</td>\n",
       "      <td>RJ</td>\n",
       "    </tr>\n",
       "    <tr>\n",
       "      <th>3</th>\n",
       "      <td>002100f778ceb8431b7a1020ff7ab48f</td>\n",
       "      <td>14405</td>\n",
       "      <td>None</td>\n",
       "      <td>SP</td>\n",
       "    </tr>\n",
       "    <tr>\n",
       "      <th>4</th>\n",
       "      <td>003554e2dce176b5555353e4f3555ac8</td>\n",
       "      <td>74565</td>\n",
       "      <td>goiania</td>\n",
       "      <td>GO</td>\n",
       "    </tr>\n",
       "  </tbody>\n",
       "</table>\n",
       "</div>"
      ],
      "text/plain": [
       "                          seller_id  seller_zip_code_prefix  seller_city  \\\n",
       "0  0015a82c2db000af6aaaf3ae2ecb0532                    9080  santo andre   \n",
       "1  001cca7ae9ae17fb1caed9dfb1094831                   29156    cariacica   \n",
       "2  001e6ad469a905060d959994f1b41e4f                   24754  sao goncalo   \n",
       "3  002100f778ceb8431b7a1020ff7ab48f                   14405         None   \n",
       "4  003554e2dce176b5555353e4f3555ac8                   74565      goiania   \n",
       "\n",
       "  seller_state  \n",
       "0           SP  \n",
       "1           ES  \n",
       "2           RJ  \n",
       "3           SP  \n",
       "4           GO  "
      ]
     },
     "execution_count": 5,
     "metadata": {},
     "output_type": "execute_result"
    }
   ],
   "source": [
    "df_sellers = pd.read_sql('SELECT * FROM dbo.sellers', engine)\n",
    "print(f\"Shape of df_sellers: {df_sellers.shape}\\n\")\n",
    "df_sellers.head()"
   ]
  },
  {
   "cell_type": "markdown",
   "id": "773d1ac7",
   "metadata": {},
   "source": [
    "#### Orders table"
   ]
  },
  {
   "cell_type": "code",
   "execution_count": 6,
   "id": "a3d13801",
   "metadata": {},
   "outputs": [
    {
     "name": "stdout",
     "output_type": "stream",
     "text": [
      "Shape of df_orders: (99441, 8)\n",
      "\n"
     ]
    },
    {
     "data": {
      "application/vnd.microsoft.datawrangler.viewer.v0+json": {
       "columns": [
        {
         "name": "index",
         "rawType": "int64",
         "type": "integer"
        },
        {
         "name": "order_id",
         "rawType": "object",
         "type": "string"
        },
        {
         "name": "customer_id",
         "rawType": "object",
         "type": "string"
        },
        {
         "name": "order_status",
         "rawType": "object",
         "type": "string"
        },
        {
         "name": "order_purchase_timestamp",
         "rawType": "datetime64[ns]",
         "type": "datetime"
        },
        {
         "name": "order_approved_at",
         "rawType": "datetime64[ns]",
         "type": "datetime"
        },
        {
         "name": "order_delivered_carrier_date",
         "rawType": "datetime64[ns]",
         "type": "datetime"
        },
        {
         "name": "order_delivered_customer_date",
         "rawType": "datetime64[ns]",
         "type": "datetime"
        },
        {
         "name": "order_estimated_delivery_date",
         "rawType": "datetime64[ns]",
         "type": "datetime"
        }
       ],
       "ref": "60265510-b7b8-4539-b5d4-7553c839b1bd",
       "rows": [
        [
         "0",
         "00010242fe8c5a6d1ba2dd792cb16214",
         "3ce436f183e68e07877b285a838db11a",
         "delivered",
         "2017-09-13 08:59:02",
         "2017-09-13 09:45:35",
         "2017-09-19 18:34:16",
         "2017-09-20 23:43:48",
         "2017-09-29 00:00:00"
        ],
        [
         "1",
         "00018f77f2f0320c557190d7a144bdd3",
         "f6dd3ec061db4e3987629fe6b26e5cce",
         "delivered",
         "2017-04-26 10:53:06",
         "2017-04-26 11:05:13",
         "2017-05-04 14:35:00",
         "2017-05-12 16:04:24",
         "2017-05-15 00:00:00"
        ],
        [
         "2",
         "000229ec398224ef6ca0657da4fc703e",
         "6489ae5e4333f3693df5ad4372dab6d3",
         "delivered",
         "2018-01-14 14:33:31",
         "2018-01-14 14:48:30",
         "2018-01-16 12:36:48",
         "2018-01-22 13:19:16",
         "2018-02-05 00:00:00"
        ],
        [
         "3",
         "00024acbcdf0a6daa1e931b038114c75",
         "d4eb9395c8c0431ee92fce09860c5a06",
         "delivered",
         "2018-08-08 10:00:35",
         "2018-08-08 10:10:18",
         "2018-08-10 13:28:00",
         "2018-08-14 13:32:39",
         "2018-08-20 00:00:00"
        ],
        [
         "4",
         "00042b26cf59d7ce69dfabb4e55b4fd9",
         "58dbd0b2d70206bf40e62cd34e84d795",
         "delivered",
         "2017-02-04 13:57:51",
         "2017-02-04 14:10:13",
         "2017-02-16 09:46:09",
         "2017-03-01 16:42:31",
         "2017-03-17 00:00:00"
        ]
       ],
       "shape": {
        "columns": 8,
        "rows": 5
       }
      },
      "text/html": [
       "<div>\n",
       "<style scoped>\n",
       "    .dataframe tbody tr th:only-of-type {\n",
       "        vertical-align: middle;\n",
       "    }\n",
       "\n",
       "    .dataframe tbody tr th {\n",
       "        vertical-align: top;\n",
       "    }\n",
       "\n",
       "    .dataframe thead th {\n",
       "        text-align: right;\n",
       "    }\n",
       "</style>\n",
       "<table border=\"1\" class=\"dataframe\">\n",
       "  <thead>\n",
       "    <tr style=\"text-align: right;\">\n",
       "      <th></th>\n",
       "      <th>order_id</th>\n",
       "      <th>customer_id</th>\n",
       "      <th>order_status</th>\n",
       "      <th>order_purchase_timestamp</th>\n",
       "      <th>order_approved_at</th>\n",
       "      <th>order_delivered_carrier_date</th>\n",
       "      <th>order_delivered_customer_date</th>\n",
       "      <th>order_estimated_delivery_date</th>\n",
       "    </tr>\n",
       "  </thead>\n",
       "  <tbody>\n",
       "    <tr>\n",
       "      <th>0</th>\n",
       "      <td>00010242fe8c5a6d1ba2dd792cb16214</td>\n",
       "      <td>3ce436f183e68e07877b285a838db11a</td>\n",
       "      <td>delivered</td>\n",
       "      <td>2017-09-13 08:59:02</td>\n",
       "      <td>2017-09-13 09:45:35</td>\n",
       "      <td>2017-09-19 18:34:16</td>\n",
       "      <td>2017-09-20 23:43:48</td>\n",
       "      <td>2017-09-29</td>\n",
       "    </tr>\n",
       "    <tr>\n",
       "      <th>1</th>\n",
       "      <td>00018f77f2f0320c557190d7a144bdd3</td>\n",
       "      <td>f6dd3ec061db4e3987629fe6b26e5cce</td>\n",
       "      <td>delivered</td>\n",
       "      <td>2017-04-26 10:53:06</td>\n",
       "      <td>2017-04-26 11:05:13</td>\n",
       "      <td>2017-05-04 14:35:00</td>\n",
       "      <td>2017-05-12 16:04:24</td>\n",
       "      <td>2017-05-15</td>\n",
       "    </tr>\n",
       "    <tr>\n",
       "      <th>2</th>\n",
       "      <td>000229ec398224ef6ca0657da4fc703e</td>\n",
       "      <td>6489ae5e4333f3693df5ad4372dab6d3</td>\n",
       "      <td>delivered</td>\n",
       "      <td>2018-01-14 14:33:31</td>\n",
       "      <td>2018-01-14 14:48:30</td>\n",
       "      <td>2018-01-16 12:36:48</td>\n",
       "      <td>2018-01-22 13:19:16</td>\n",
       "      <td>2018-02-05</td>\n",
       "    </tr>\n",
       "    <tr>\n",
       "      <th>3</th>\n",
       "      <td>00024acbcdf0a6daa1e931b038114c75</td>\n",
       "      <td>d4eb9395c8c0431ee92fce09860c5a06</td>\n",
       "      <td>delivered</td>\n",
       "      <td>2018-08-08 10:00:35</td>\n",
       "      <td>2018-08-08 10:10:18</td>\n",
       "      <td>2018-08-10 13:28:00</td>\n",
       "      <td>2018-08-14 13:32:39</td>\n",
       "      <td>2018-08-20</td>\n",
       "    </tr>\n",
       "    <tr>\n",
       "      <th>4</th>\n",
       "      <td>00042b26cf59d7ce69dfabb4e55b4fd9</td>\n",
       "      <td>58dbd0b2d70206bf40e62cd34e84d795</td>\n",
       "      <td>delivered</td>\n",
       "      <td>2017-02-04 13:57:51</td>\n",
       "      <td>2017-02-04 14:10:13</td>\n",
       "      <td>2017-02-16 09:46:09</td>\n",
       "      <td>2017-03-01 16:42:31</td>\n",
       "      <td>2017-03-17</td>\n",
       "    </tr>\n",
       "  </tbody>\n",
       "</table>\n",
       "</div>"
      ],
      "text/plain": [
       "                           order_id                       customer_id  \\\n",
       "0  00010242fe8c5a6d1ba2dd792cb16214  3ce436f183e68e07877b285a838db11a   \n",
       "1  00018f77f2f0320c557190d7a144bdd3  f6dd3ec061db4e3987629fe6b26e5cce   \n",
       "2  000229ec398224ef6ca0657da4fc703e  6489ae5e4333f3693df5ad4372dab6d3   \n",
       "3  00024acbcdf0a6daa1e931b038114c75  d4eb9395c8c0431ee92fce09860c5a06   \n",
       "4  00042b26cf59d7ce69dfabb4e55b4fd9  58dbd0b2d70206bf40e62cd34e84d795   \n",
       "\n",
       "  order_status order_purchase_timestamp   order_approved_at  \\\n",
       "0    delivered      2017-09-13 08:59:02 2017-09-13 09:45:35   \n",
       "1    delivered      2017-04-26 10:53:06 2017-04-26 11:05:13   \n",
       "2    delivered      2018-01-14 14:33:31 2018-01-14 14:48:30   \n",
       "3    delivered      2018-08-08 10:00:35 2018-08-08 10:10:18   \n",
       "4    delivered      2017-02-04 13:57:51 2017-02-04 14:10:13   \n",
       "\n",
       "  order_delivered_carrier_date order_delivered_customer_date  \\\n",
       "0          2017-09-19 18:34:16           2017-09-20 23:43:48   \n",
       "1          2017-05-04 14:35:00           2017-05-12 16:04:24   \n",
       "2          2018-01-16 12:36:48           2018-01-22 13:19:16   \n",
       "3          2018-08-10 13:28:00           2018-08-14 13:32:39   \n",
       "4          2017-02-16 09:46:09           2017-03-01 16:42:31   \n",
       "\n",
       "  order_estimated_delivery_date  \n",
       "0                    2017-09-29  \n",
       "1                    2017-05-15  \n",
       "2                    2018-02-05  \n",
       "3                    2018-08-20  \n",
       "4                    2017-03-17  "
      ]
     },
     "execution_count": 6,
     "metadata": {},
     "output_type": "execute_result"
    }
   ],
   "source": [
    "df_orders = pd.read_sql('SELECT * FROM dbo.orders', engine)\n",
    "print(f\"Shape of df_orders: {df_orders.shape}\\n\")\n",
    "df_orders.head()"
   ]
  },
  {
   "cell_type": "markdown",
   "id": "fbcf6979",
   "metadata": {},
   "source": [
    "#### Order payments table"
   ]
  },
  {
   "cell_type": "code",
   "execution_count": 7,
   "id": "270d5fae",
   "metadata": {},
   "outputs": [
    {
     "name": "stdout",
     "output_type": "stream",
     "text": [
      "Shape of df_order_payments: (103886, 5)\n",
      "\n"
     ]
    },
    {
     "data": {
      "application/vnd.microsoft.datawrangler.viewer.v0+json": {
       "columns": [
        {
         "name": "index",
         "rawType": "int64",
         "type": "integer"
        },
        {
         "name": "order_id",
         "rawType": "object",
         "type": "string"
        },
        {
         "name": "payment_sequential",
         "rawType": "int64",
         "type": "integer"
        },
        {
         "name": "payment_type",
         "rawType": "object",
         "type": "string"
        },
        {
         "name": "payment_installments",
         "rawType": "int64",
         "type": "integer"
        },
        {
         "name": "payment_value",
         "rawType": "float64",
         "type": "float"
        }
       ],
       "ref": "5ec2ca1c-79f1-4205-84a6-549a60e1a4ce",
       "rows": [
        [
         "0",
         "b81ef226f3fe1789b1e8b2acac839d17",
         "1",
         "credit_card",
         "8",
         "99.33"
        ],
        [
         "1",
         "a9810da82917af2d9aefd1278f1dcfa0",
         "1",
         "credit_card",
         "1",
         "24.39"
        ],
        [
         "2",
         "25e8ea4e93396b6fa0d3dd708e76c1bd",
         "1",
         "credit_card",
         "1",
         "65.71"
        ],
        [
         "3",
         "ba78997921bbcdc1373bb41e913ab953",
         "1",
         "credit_card",
         "8",
         null
        ],
        [
         "4",
         "42fdf880ba16b47b59251dd489d4441a",
         "1",
         "credit_card",
         "2",
         null
        ]
       ],
       "shape": {
        "columns": 5,
        "rows": 5
       }
      },
      "text/html": [
       "<div>\n",
       "<style scoped>\n",
       "    .dataframe tbody tr th:only-of-type {\n",
       "        vertical-align: middle;\n",
       "    }\n",
       "\n",
       "    .dataframe tbody tr th {\n",
       "        vertical-align: top;\n",
       "    }\n",
       "\n",
       "    .dataframe thead th {\n",
       "        text-align: right;\n",
       "    }\n",
       "</style>\n",
       "<table border=\"1\" class=\"dataframe\">\n",
       "  <thead>\n",
       "    <tr style=\"text-align: right;\">\n",
       "      <th></th>\n",
       "      <th>order_id</th>\n",
       "      <th>payment_sequential</th>\n",
       "      <th>payment_type</th>\n",
       "      <th>payment_installments</th>\n",
       "      <th>payment_value</th>\n",
       "    </tr>\n",
       "  </thead>\n",
       "  <tbody>\n",
       "    <tr>\n",
       "      <th>0</th>\n",
       "      <td>b81ef226f3fe1789b1e8b2acac839d17</td>\n",
       "      <td>1</td>\n",
       "      <td>credit_card</td>\n",
       "      <td>8</td>\n",
       "      <td>99.33</td>\n",
       "    </tr>\n",
       "    <tr>\n",
       "      <th>1</th>\n",
       "      <td>a9810da82917af2d9aefd1278f1dcfa0</td>\n",
       "      <td>1</td>\n",
       "      <td>credit_card</td>\n",
       "      <td>1</td>\n",
       "      <td>24.39</td>\n",
       "    </tr>\n",
       "    <tr>\n",
       "      <th>2</th>\n",
       "      <td>25e8ea4e93396b6fa0d3dd708e76c1bd</td>\n",
       "      <td>1</td>\n",
       "      <td>credit_card</td>\n",
       "      <td>1</td>\n",
       "      <td>65.71</td>\n",
       "    </tr>\n",
       "    <tr>\n",
       "      <th>3</th>\n",
       "      <td>ba78997921bbcdc1373bb41e913ab953</td>\n",
       "      <td>1</td>\n",
       "      <td>credit_card</td>\n",
       "      <td>8</td>\n",
       "      <td>NaN</td>\n",
       "    </tr>\n",
       "    <tr>\n",
       "      <th>4</th>\n",
       "      <td>42fdf880ba16b47b59251dd489d4441a</td>\n",
       "      <td>1</td>\n",
       "      <td>credit_card</td>\n",
       "      <td>2</td>\n",
       "      <td>NaN</td>\n",
       "    </tr>\n",
       "  </tbody>\n",
       "</table>\n",
       "</div>"
      ],
      "text/plain": [
       "                           order_id  payment_sequential payment_type  \\\n",
       "0  b81ef226f3fe1789b1e8b2acac839d17                   1  credit_card   \n",
       "1  a9810da82917af2d9aefd1278f1dcfa0                   1  credit_card   \n",
       "2  25e8ea4e93396b6fa0d3dd708e76c1bd                   1  credit_card   \n",
       "3  ba78997921bbcdc1373bb41e913ab953                   1  credit_card   \n",
       "4  42fdf880ba16b47b59251dd489d4441a                   1  credit_card   \n",
       "\n",
       "   payment_installments  payment_value  \n",
       "0                     8          99.33  \n",
       "1                     1          24.39  \n",
       "2                     1          65.71  \n",
       "3                     8            NaN  \n",
       "4                     2            NaN  "
      ]
     },
     "execution_count": 7,
     "metadata": {},
     "output_type": "execute_result"
    }
   ],
   "source": [
    "df_order_payments = pd.read_sql('SELECT * FROM dbo.order_payments', engine)\n",
    "print(f\"Shape of df_order_payments: {df_order_payments.shape}\\n\")\n",
    "df_order_payments.head()"
   ]
  },
  {
   "cell_type": "markdown",
   "id": "0d000da6",
   "metadata": {},
   "source": [
    "#### Order items table"
   ]
  },
  {
   "cell_type": "code",
   "execution_count": 8,
   "id": "25a6a6cd",
   "metadata": {},
   "outputs": [
    {
     "name": "stdout",
     "output_type": "stream",
     "text": [
      "Shape of df_order_items: (112650, 7)\n",
      "\n"
     ]
    },
    {
     "data": {
      "application/vnd.microsoft.datawrangler.viewer.v0+json": {
       "columns": [
        {
         "name": "index",
         "rawType": "int64",
         "type": "integer"
        },
        {
         "name": "order_id",
         "rawType": "object",
         "type": "string"
        },
        {
         "name": "order_item_id",
         "rawType": "int64",
         "type": "integer"
        },
        {
         "name": "product_id",
         "rawType": "object",
         "type": "string"
        },
        {
         "name": "seller_id",
         "rawType": "object",
         "type": "string"
        },
        {
         "name": "shipping_limit_date",
         "rawType": "datetime64[ns]",
         "type": "datetime"
        },
        {
         "name": "price",
         "rawType": "float64",
         "type": "float"
        },
        {
         "name": "freight_value",
         "rawType": "float64",
         "type": "float"
        }
       ],
       "ref": "5b651bc4-7be2-4f64-9080-562e53d54008",
       "rows": [
        [
         "0",
         "00010242fe8c5a6d1ba2dd792cb16214",
         "1",
         "4244733e06e7ecb4970a6e2683c13e61",
         "48436dade18ac8b2bce089ec2a041202",
         "2017-09-19 09:45:35",
         "58.9",
         "13.29"
        ],
        [
         "1",
         "00018f77f2f0320c557190d7a144bdd3",
         "1",
         "e5f2d52b802189ee658865ca93d83a8f",
         "dd7ddc04e1b6c2c614352b383efe2d36",
         "2017-05-03 11:05:13",
         "239.9",
         "19.93"
        ],
        [
         "2",
         "000229ec398224ef6ca0657da4fc703e",
         "1",
         "c777355d18b72b67abbeef9df44fd0fd",
         "5b51032eddd242adc84c38acab88f23d",
         "2018-01-18 14:48:30",
         "199.0",
         "17.87"
        ],
        [
         "3",
         "00024acbcdf0a6daa1e931b038114c75",
         "1",
         "7634da152a4610f1595efa32f14722fc",
         "9d7a1d34a5052409006425275ba1c2b4",
         "2018-08-15 10:10:18",
         "12.99",
         "12.79"
        ],
        [
         "4",
         "00042b26cf59d7ce69dfabb4e55b4fd9",
         "1",
         "ac6c3623068f30de03045865e4e10089",
         "df560393f3a51e74553ab94004ba5c87",
         "2017-02-13 13:57:51",
         "199.9",
         "18.14"
        ]
       ],
       "shape": {
        "columns": 7,
        "rows": 5
       }
      },
      "text/html": [
       "<div>\n",
       "<style scoped>\n",
       "    .dataframe tbody tr th:only-of-type {\n",
       "        vertical-align: middle;\n",
       "    }\n",
       "\n",
       "    .dataframe tbody tr th {\n",
       "        vertical-align: top;\n",
       "    }\n",
       "\n",
       "    .dataframe thead th {\n",
       "        text-align: right;\n",
       "    }\n",
       "</style>\n",
       "<table border=\"1\" class=\"dataframe\">\n",
       "  <thead>\n",
       "    <tr style=\"text-align: right;\">\n",
       "      <th></th>\n",
       "      <th>order_id</th>\n",
       "      <th>order_item_id</th>\n",
       "      <th>product_id</th>\n",
       "      <th>seller_id</th>\n",
       "      <th>shipping_limit_date</th>\n",
       "      <th>price</th>\n",
       "      <th>freight_value</th>\n",
       "    </tr>\n",
       "  </thead>\n",
       "  <tbody>\n",
       "    <tr>\n",
       "      <th>0</th>\n",
       "      <td>00010242fe8c5a6d1ba2dd792cb16214</td>\n",
       "      <td>1</td>\n",
       "      <td>4244733e06e7ecb4970a6e2683c13e61</td>\n",
       "      <td>48436dade18ac8b2bce089ec2a041202</td>\n",
       "      <td>2017-09-19 09:45:35</td>\n",
       "      <td>58.90</td>\n",
       "      <td>13.29</td>\n",
       "    </tr>\n",
       "    <tr>\n",
       "      <th>1</th>\n",
       "      <td>00018f77f2f0320c557190d7a144bdd3</td>\n",
       "      <td>1</td>\n",
       "      <td>e5f2d52b802189ee658865ca93d83a8f</td>\n",
       "      <td>dd7ddc04e1b6c2c614352b383efe2d36</td>\n",
       "      <td>2017-05-03 11:05:13</td>\n",
       "      <td>239.90</td>\n",
       "      <td>19.93</td>\n",
       "    </tr>\n",
       "    <tr>\n",
       "      <th>2</th>\n",
       "      <td>000229ec398224ef6ca0657da4fc703e</td>\n",
       "      <td>1</td>\n",
       "      <td>c777355d18b72b67abbeef9df44fd0fd</td>\n",
       "      <td>5b51032eddd242adc84c38acab88f23d</td>\n",
       "      <td>2018-01-18 14:48:30</td>\n",
       "      <td>199.00</td>\n",
       "      <td>17.87</td>\n",
       "    </tr>\n",
       "    <tr>\n",
       "      <th>3</th>\n",
       "      <td>00024acbcdf0a6daa1e931b038114c75</td>\n",
       "      <td>1</td>\n",
       "      <td>7634da152a4610f1595efa32f14722fc</td>\n",
       "      <td>9d7a1d34a5052409006425275ba1c2b4</td>\n",
       "      <td>2018-08-15 10:10:18</td>\n",
       "      <td>12.99</td>\n",
       "      <td>12.79</td>\n",
       "    </tr>\n",
       "    <tr>\n",
       "      <th>4</th>\n",
       "      <td>00042b26cf59d7ce69dfabb4e55b4fd9</td>\n",
       "      <td>1</td>\n",
       "      <td>ac6c3623068f30de03045865e4e10089</td>\n",
       "      <td>df560393f3a51e74553ab94004ba5c87</td>\n",
       "      <td>2017-02-13 13:57:51</td>\n",
       "      <td>199.90</td>\n",
       "      <td>18.14</td>\n",
       "    </tr>\n",
       "  </tbody>\n",
       "</table>\n",
       "</div>"
      ],
      "text/plain": [
       "                           order_id  order_item_id  \\\n",
       "0  00010242fe8c5a6d1ba2dd792cb16214              1   \n",
       "1  00018f77f2f0320c557190d7a144bdd3              1   \n",
       "2  000229ec398224ef6ca0657da4fc703e              1   \n",
       "3  00024acbcdf0a6daa1e931b038114c75              1   \n",
       "4  00042b26cf59d7ce69dfabb4e55b4fd9              1   \n",
       "\n",
       "                         product_id                         seller_id  \\\n",
       "0  4244733e06e7ecb4970a6e2683c13e61  48436dade18ac8b2bce089ec2a041202   \n",
       "1  e5f2d52b802189ee658865ca93d83a8f  dd7ddc04e1b6c2c614352b383efe2d36   \n",
       "2  c777355d18b72b67abbeef9df44fd0fd  5b51032eddd242adc84c38acab88f23d   \n",
       "3  7634da152a4610f1595efa32f14722fc  9d7a1d34a5052409006425275ba1c2b4   \n",
       "4  ac6c3623068f30de03045865e4e10089  df560393f3a51e74553ab94004ba5c87   \n",
       "\n",
       "  shipping_limit_date   price  freight_value  \n",
       "0 2017-09-19 09:45:35   58.90          13.29  \n",
       "1 2017-05-03 11:05:13  239.90          19.93  \n",
       "2 2018-01-18 14:48:30  199.00          17.87  \n",
       "3 2018-08-15 10:10:18   12.99          12.79  \n",
       "4 2017-02-13 13:57:51  199.90          18.14  "
      ]
     },
     "execution_count": 8,
     "metadata": {},
     "output_type": "execute_result"
    }
   ],
   "source": [
    "df_order_items = pd.read_sql('SELECT * FROM dbo.order_items', engine)\n",
    "print(f\"Shape of df_order_items: {df_order_items.shape}\\n\")\n",
    "df_order_items.head()"
   ]
  },
  {
   "cell_type": "markdown",
   "id": "8d96bbe4",
   "metadata": {},
   "source": [
    "#### Products table"
   ]
  },
  {
   "cell_type": "code",
   "execution_count": 9,
   "id": "8da850a3",
   "metadata": {},
   "outputs": [
    {
     "name": "stdout",
     "output_type": "stream",
     "text": [
      "Shape of df_products: (32951, 9)\n",
      "\n"
     ]
    },
    {
     "data": {
      "application/vnd.microsoft.datawrangler.viewer.v0+json": {
       "columns": [
        {
         "name": "index",
         "rawType": "int64",
         "type": "integer"
        },
        {
         "name": "product_id",
         "rawType": "object",
         "type": "string"
        },
        {
         "name": "product_category_name",
         "rawType": "object",
         "type": "string"
        },
        {
         "name": "product_name_length",
         "rawType": "float64",
         "type": "float"
        },
        {
         "name": "product_description_length",
         "rawType": "float64",
         "type": "float"
        },
        {
         "name": "product_photos_qty",
         "rawType": "float64",
         "type": "float"
        },
        {
         "name": "product_weight_g",
         "rawType": "float64",
         "type": "float"
        },
        {
         "name": "product_length_cm",
         "rawType": "float64",
         "type": "float"
        },
        {
         "name": "product_height_cm",
         "rawType": "float64",
         "type": "float"
        },
        {
         "name": "product_width_cm",
         "rawType": "float64",
         "type": "float"
        }
       ],
       "ref": "023aa7ba-4693-4e63-839a-c139c339f00e",
       "rows": [
        [
         "0",
         "00066f42aeeb9f3007548bb9d3f33c38",
         "perfumaria",
         "53.0",
         "596.0",
         "6.0",
         "300.0",
         "20.0",
         "16.0",
         "16.0"
        ],
        [
         "1",
         "00088930e925c41fd95ebfe695fd2655",
         "automotivo",
         "56.0",
         "752.0",
         "4.0",
         "1225.0",
         "55.0",
         "10.0",
         "26.0"
        ],
        [
         "2",
         "0009406fd7479715e4bef61dd91f2462",
         "cama_mesa_banho",
         "50.0",
         "266.0",
         "2.0",
         "300.0",
         "45.0",
         "15.0",
         "35.0"
        ],
        [
         "3",
         "000b8f95fcb9e0096488278317764d19",
         "utilidades_domesticas",
         "25.0",
         "364.0",
         "3.0",
         "550.0",
         "19.0",
         "24.0",
         "12.0"
        ],
        [
         "4",
         "000d9be29b5207b54e86aa1b1ac54872",
         "relogios_presentes",
         "48.0",
         "613.0",
         "4.0",
         "250.0",
         "22.0",
         "11.0",
         "15.0"
        ]
       ],
       "shape": {
        "columns": 9,
        "rows": 5
       }
      },
      "text/html": [
       "<div>\n",
       "<style scoped>\n",
       "    .dataframe tbody tr th:only-of-type {\n",
       "        vertical-align: middle;\n",
       "    }\n",
       "\n",
       "    .dataframe tbody tr th {\n",
       "        vertical-align: top;\n",
       "    }\n",
       "\n",
       "    .dataframe thead th {\n",
       "        text-align: right;\n",
       "    }\n",
       "</style>\n",
       "<table border=\"1\" class=\"dataframe\">\n",
       "  <thead>\n",
       "    <tr style=\"text-align: right;\">\n",
       "      <th></th>\n",
       "      <th>product_id</th>\n",
       "      <th>product_category_name</th>\n",
       "      <th>product_name_length</th>\n",
       "      <th>product_description_length</th>\n",
       "      <th>product_photos_qty</th>\n",
       "      <th>product_weight_g</th>\n",
       "      <th>product_length_cm</th>\n",
       "      <th>product_height_cm</th>\n",
       "      <th>product_width_cm</th>\n",
       "    </tr>\n",
       "  </thead>\n",
       "  <tbody>\n",
       "    <tr>\n",
       "      <th>0</th>\n",
       "      <td>00066f42aeeb9f3007548bb9d3f33c38</td>\n",
       "      <td>perfumaria</td>\n",
       "      <td>53.0</td>\n",
       "      <td>596.0</td>\n",
       "      <td>6.0</td>\n",
       "      <td>300.0</td>\n",
       "      <td>20.0</td>\n",
       "      <td>16.0</td>\n",
       "      <td>16.0</td>\n",
       "    </tr>\n",
       "    <tr>\n",
       "      <th>1</th>\n",
       "      <td>00088930e925c41fd95ebfe695fd2655</td>\n",
       "      <td>automotivo</td>\n",
       "      <td>56.0</td>\n",
       "      <td>752.0</td>\n",
       "      <td>4.0</td>\n",
       "      <td>1225.0</td>\n",
       "      <td>55.0</td>\n",
       "      <td>10.0</td>\n",
       "      <td>26.0</td>\n",
       "    </tr>\n",
       "    <tr>\n",
       "      <th>2</th>\n",
       "      <td>0009406fd7479715e4bef61dd91f2462</td>\n",
       "      <td>cama_mesa_banho</td>\n",
       "      <td>50.0</td>\n",
       "      <td>266.0</td>\n",
       "      <td>2.0</td>\n",
       "      <td>300.0</td>\n",
       "      <td>45.0</td>\n",
       "      <td>15.0</td>\n",
       "      <td>35.0</td>\n",
       "    </tr>\n",
       "    <tr>\n",
       "      <th>3</th>\n",
       "      <td>000b8f95fcb9e0096488278317764d19</td>\n",
       "      <td>utilidades_domesticas</td>\n",
       "      <td>25.0</td>\n",
       "      <td>364.0</td>\n",
       "      <td>3.0</td>\n",
       "      <td>550.0</td>\n",
       "      <td>19.0</td>\n",
       "      <td>24.0</td>\n",
       "      <td>12.0</td>\n",
       "    </tr>\n",
       "    <tr>\n",
       "      <th>4</th>\n",
       "      <td>000d9be29b5207b54e86aa1b1ac54872</td>\n",
       "      <td>relogios_presentes</td>\n",
       "      <td>48.0</td>\n",
       "      <td>613.0</td>\n",
       "      <td>4.0</td>\n",
       "      <td>250.0</td>\n",
       "      <td>22.0</td>\n",
       "      <td>11.0</td>\n",
       "      <td>15.0</td>\n",
       "    </tr>\n",
       "  </tbody>\n",
       "</table>\n",
       "</div>"
      ],
      "text/plain": [
       "                         product_id  product_category_name  \\\n",
       "0  00066f42aeeb9f3007548bb9d3f33c38             perfumaria   \n",
       "1  00088930e925c41fd95ebfe695fd2655             automotivo   \n",
       "2  0009406fd7479715e4bef61dd91f2462        cama_mesa_banho   \n",
       "3  000b8f95fcb9e0096488278317764d19  utilidades_domesticas   \n",
       "4  000d9be29b5207b54e86aa1b1ac54872     relogios_presentes   \n",
       "\n",
       "   product_name_length  product_description_length  product_photos_qty  \\\n",
       "0                 53.0                       596.0                 6.0   \n",
       "1                 56.0                       752.0                 4.0   \n",
       "2                 50.0                       266.0                 2.0   \n",
       "3                 25.0                       364.0                 3.0   \n",
       "4                 48.0                       613.0                 4.0   \n",
       "\n",
       "   product_weight_g  product_length_cm  product_height_cm  product_width_cm  \n",
       "0             300.0               20.0               16.0              16.0  \n",
       "1            1225.0               55.0               10.0              26.0  \n",
       "2             300.0               45.0               15.0              35.0  \n",
       "3             550.0               19.0               24.0              12.0  \n",
       "4             250.0               22.0               11.0              15.0  "
      ]
     },
     "execution_count": 9,
     "metadata": {},
     "output_type": "execute_result"
    }
   ],
   "source": [
    "df_products = pd.read_sql('SELECT * FROM dbo.products', engine)\n",
    "print(f\"Shape of df_products: {df_products.shape}\\n\")\n",
    "df_products.head()"
   ]
  },
  {
   "cell_type": "markdown",
   "id": "700db81f",
   "metadata": {},
   "source": [
    "#### Product category translation"
   ]
  },
  {
   "cell_type": "code",
   "execution_count": 10,
   "id": "57f75a17",
   "metadata": {},
   "outputs": [
    {
     "name": "stdout",
     "output_type": "stream",
     "text": [
      "Shape of df_product_category_translation: (71, 2)\n",
      "\n"
     ]
    },
    {
     "data": {
      "application/vnd.microsoft.datawrangler.viewer.v0+json": {
       "columns": [
        {
         "name": "index",
         "rawType": "int64",
         "type": "integer"
        },
        {
         "name": "product_category_name",
         "rawType": "object",
         "type": "string"
        },
        {
         "name": "product_category_name_english",
         "rawType": "object",
         "type": "string"
        }
       ],
       "ref": "aa10ddbf-7c81-423a-91d9-8059791030e5",
       "rows": [
        [
         "0",
         "beleza_saude",
         "health_beauty"
        ],
        [
         "1",
         "informatica_acessorios",
         "computers_accessories"
        ],
        [
         "2",
         "automotivo",
         "auto"
        ],
        [
         "3",
         "cama_mesa_banho",
         "bed_bath_table"
        ],
        [
         "4",
         "moveis_decoracao",
         "furniture_decor"
        ]
       ],
       "shape": {
        "columns": 2,
        "rows": 5
       }
      },
      "text/html": [
       "<div>\n",
       "<style scoped>\n",
       "    .dataframe tbody tr th:only-of-type {\n",
       "        vertical-align: middle;\n",
       "    }\n",
       "\n",
       "    .dataframe tbody tr th {\n",
       "        vertical-align: top;\n",
       "    }\n",
       "\n",
       "    .dataframe thead th {\n",
       "        text-align: right;\n",
       "    }\n",
       "</style>\n",
       "<table border=\"1\" class=\"dataframe\">\n",
       "  <thead>\n",
       "    <tr style=\"text-align: right;\">\n",
       "      <th></th>\n",
       "      <th>product_category_name</th>\n",
       "      <th>product_category_name_english</th>\n",
       "    </tr>\n",
       "  </thead>\n",
       "  <tbody>\n",
       "    <tr>\n",
       "      <th>0</th>\n",
       "      <td>beleza_saude</td>\n",
       "      <td>health_beauty</td>\n",
       "    </tr>\n",
       "    <tr>\n",
       "      <th>1</th>\n",
       "      <td>informatica_acessorios</td>\n",
       "      <td>computers_accessories</td>\n",
       "    </tr>\n",
       "    <tr>\n",
       "      <th>2</th>\n",
       "      <td>automotivo</td>\n",
       "      <td>auto</td>\n",
       "    </tr>\n",
       "    <tr>\n",
       "      <th>3</th>\n",
       "      <td>cama_mesa_banho</td>\n",
       "      <td>bed_bath_table</td>\n",
       "    </tr>\n",
       "    <tr>\n",
       "      <th>4</th>\n",
       "      <td>moveis_decoracao</td>\n",
       "      <td>furniture_decor</td>\n",
       "    </tr>\n",
       "  </tbody>\n",
       "</table>\n",
       "</div>"
      ],
      "text/plain": [
       "    product_category_name product_category_name_english\n",
       "0            beleza_saude                 health_beauty\n",
       "1  informatica_acessorios         computers_accessories\n",
       "2              automotivo                          auto\n",
       "3         cama_mesa_banho                bed_bath_table\n",
       "4        moveis_decoracao               furniture_decor"
      ]
     },
     "execution_count": 10,
     "metadata": {},
     "output_type": "execute_result"
    }
   ],
   "source": [
    "df_product_category_translations = pd.read_sql('SELECT * FROM dbo.product_category_translation', engine)\n",
    "print(f\"Shape of df_product_category_translation: {df_product_category_translations.shape}\\n\")\n",
    "df_product_category_translations.head()"
   ]
  },
  {
   "cell_type": "markdown",
   "id": "63a35848",
   "metadata": {},
   "source": [
    "#### Order reviews table"
   ]
  },
  {
   "cell_type": "code",
   "execution_count": 11,
   "id": "c7f2ea4d",
   "metadata": {},
   "outputs": [
    {
     "name": "stdout",
     "output_type": "stream",
     "text": [
      "Shape of df_order_reviews: (104719, 6)\n",
      "\n"
     ]
    },
    {
     "data": {
      "application/vnd.microsoft.datawrangler.viewer.v0+json": {
       "columns": [
        {
         "name": "index",
         "rawType": "int64",
         "type": "integer"
        },
        {
         "name": "order_id",
         "rawType": "object",
         "type": "string"
        },
        {
         "name": "review_score",
         "rawType": "float64",
         "type": "float"
        },
        {
         "name": "review_comment_title",
         "rawType": "object",
         "type": "unknown"
        },
        {
         "name": "review_comment_message",
         "rawType": "object",
         "type": "unknown"
        },
        {
         "name": "review_creation_date",
         "rawType": "datetime64[ns]",
         "type": "datetime"
        },
        {
         "name": "review_answer_timestamp",
         "rawType": "datetime64[ns]",
         "type": "datetime"
        }
       ],
       "ref": "eb55a126-1259-4cfe-961f-c4324e31859c",
       "rows": [
        [
         "0",
         "73fc7af87114b39712e6da79b0a377eb",
         "4.0",
         null,
         null,
         "2018-01-18 00:00:00",
         "2018-01-18 21:46:59"
        ],
        [
         "1",
         "a548910a1c6147796b98fdf73dbeba33",
         "5.0",
         null,
         null,
         "2018-03-10 00:00:00",
         "2018-03-11 03:05:13"
        ],
        [
         "2",
         "f9e4b658b201a9f2ecdecbb34bed034b",
         "5.0",
         null,
         null,
         "2018-02-17 00:00:00",
         "2018-02-18 14:36:24"
        ],
        [
         "3",
         "658677c97b385a9be170737859d3511b",
         "5.0",
         null,
         "Recebi bem antes do prazo estipulado.",
         "2017-04-21 00:00:00",
         "2017-04-21 22:02:06"
        ],
        [
         "4",
         "8e6bfb81e283fa7e4f11123a3fb894f1",
         "5.0",
         null,
         "ParabĂ©ns lojas lannister adorei comprar pela Internet seguro e prĂˇtico ParabĂ©ns a todos feliz PĂˇscoa",
         "2018-03-01 00:00:00",
         "2018-03-02 10:26:53"
        ]
       ],
       "shape": {
        "columns": 6,
        "rows": 5
       }
      },
      "text/html": [
       "<div>\n",
       "<style scoped>\n",
       "    .dataframe tbody tr th:only-of-type {\n",
       "        vertical-align: middle;\n",
       "    }\n",
       "\n",
       "    .dataframe tbody tr th {\n",
       "        vertical-align: top;\n",
       "    }\n",
       "\n",
       "    .dataframe thead th {\n",
       "        text-align: right;\n",
       "    }\n",
       "</style>\n",
       "<table border=\"1\" class=\"dataframe\">\n",
       "  <thead>\n",
       "    <tr style=\"text-align: right;\">\n",
       "      <th></th>\n",
       "      <th>order_id</th>\n",
       "      <th>review_score</th>\n",
       "      <th>review_comment_title</th>\n",
       "      <th>review_comment_message</th>\n",
       "      <th>review_creation_date</th>\n",
       "      <th>review_answer_timestamp</th>\n",
       "    </tr>\n",
       "  </thead>\n",
       "  <tbody>\n",
       "    <tr>\n",
       "      <th>0</th>\n",
       "      <td>73fc7af87114b39712e6da79b0a377eb</td>\n",
       "      <td>4.0</td>\n",
       "      <td>None</td>\n",
       "      <td>None</td>\n",
       "      <td>2018-01-18</td>\n",
       "      <td>2018-01-18 21:46:59</td>\n",
       "    </tr>\n",
       "    <tr>\n",
       "      <th>1</th>\n",
       "      <td>a548910a1c6147796b98fdf73dbeba33</td>\n",
       "      <td>5.0</td>\n",
       "      <td>None</td>\n",
       "      <td>None</td>\n",
       "      <td>2018-03-10</td>\n",
       "      <td>2018-03-11 03:05:13</td>\n",
       "    </tr>\n",
       "    <tr>\n",
       "      <th>2</th>\n",
       "      <td>f9e4b658b201a9f2ecdecbb34bed034b</td>\n",
       "      <td>5.0</td>\n",
       "      <td>None</td>\n",
       "      <td>None</td>\n",
       "      <td>2018-02-17</td>\n",
       "      <td>2018-02-18 14:36:24</td>\n",
       "    </tr>\n",
       "    <tr>\n",
       "      <th>3</th>\n",
       "      <td>658677c97b385a9be170737859d3511b</td>\n",
       "      <td>5.0</td>\n",
       "      <td>None</td>\n",
       "      <td>Recebi bem antes do prazo estipulado.</td>\n",
       "      <td>2017-04-21</td>\n",
       "      <td>2017-04-21 22:02:06</td>\n",
       "    </tr>\n",
       "    <tr>\n",
       "      <th>4</th>\n",
       "      <td>8e6bfb81e283fa7e4f11123a3fb894f1</td>\n",
       "      <td>5.0</td>\n",
       "      <td>None</td>\n",
       "      <td>ParabĂ©ns lojas lannister adorei comprar pela ...</td>\n",
       "      <td>2018-03-01</td>\n",
       "      <td>2018-03-02 10:26:53</td>\n",
       "    </tr>\n",
       "  </tbody>\n",
       "</table>\n",
       "</div>"
      ],
      "text/plain": [
       "                           order_id  review_score review_comment_title  \\\n",
       "0  73fc7af87114b39712e6da79b0a377eb           4.0                 None   \n",
       "1  a548910a1c6147796b98fdf73dbeba33           5.0                 None   \n",
       "2  f9e4b658b201a9f2ecdecbb34bed034b           5.0                 None   \n",
       "3  658677c97b385a9be170737859d3511b           5.0                 None   \n",
       "4  8e6bfb81e283fa7e4f11123a3fb894f1           5.0                 None   \n",
       "\n",
       "                              review_comment_message review_creation_date  \\\n",
       "0                                               None           2018-01-18   \n",
       "1                                               None           2018-03-10   \n",
       "2                                               None           2018-02-17   \n",
       "3              Recebi bem antes do prazo estipulado.           2017-04-21   \n",
       "4  ParabĂ©ns lojas lannister adorei comprar pela ...           2018-03-01   \n",
       "\n",
       "  review_answer_timestamp  \n",
       "0     2018-01-18 21:46:59  \n",
       "1     2018-03-11 03:05:13  \n",
       "2     2018-02-18 14:36:24  \n",
       "3     2017-04-21 22:02:06  \n",
       "4     2018-03-02 10:26:53  "
      ]
     },
     "execution_count": 11,
     "metadata": {},
     "output_type": "execute_result"
    }
   ],
   "source": [
    "df_order_reviews = pd.read_sql('SELECT * FROM dbo.order_reviews', engine)\n",
    "print(f\"Shape of df_order_reviews: {df_order_reviews.shape}\\n\")\n",
    "df_order_reviews.head()"
   ]
  },
  {
   "cell_type": "markdown",
   "id": "00c57ea4",
   "metadata": {},
   "source": [
    "## 4. Initial Data Insight & NaN Check & Duplicate Analysis"
   ]
  },
  {
   "cell_type": "markdown",
   "id": "ad260fea",
   "metadata": {},
   "source": [
    "#### Customers Table "
   ]
  },
  {
   "cell_type": "code",
   "execution_count": 12,
   "id": "4b0cfe4f",
   "metadata": {},
   "outputs": [
    {
     "name": "stdout",
     "output_type": "stream",
     "text": [
      "Number of duplicated rows: 0\n",
      "\n",
      "<class 'pandas.core.frame.DataFrame'>\n",
      "RangeIndex: 99441 entries, 0 to 99440\n",
      "Data columns (total 5 columns):\n",
      " #   Column                    Non-Null Count  Dtype \n",
      "---  ------                    --------------  ----- \n",
      " 0   customer_id               99441 non-null  object\n",
      " 1   customer_unique_id        99441 non-null  object\n",
      " 2   customer_zip_code_prefix  99441 non-null  int64 \n",
      " 3   customer_city             67967 non-null  object\n",
      " 4   customer_state            67967 non-null  object\n",
      "dtypes: int64(1), object(4)\n",
      "memory usage: 3.8+ MB\n"
     ]
    }
   ],
   "source": [
    "print(f\"Number of duplicated rows: {len(df_customers[df_customers.duplicated()])}\\n\")\n",
    "df_customers.info()"
   ]
  },
  {
   "cell_type": "markdown",
   "id": "6f02526e",
   "metadata": {},
   "source": [
    "Number of NaN values "
   ]
  },
  {
   "cell_type": "code",
   "execution_count": 13,
   "id": "625587ee",
   "metadata": {},
   "outputs": [
    {
     "data": {
      "application/vnd.microsoft.datawrangler.viewer.v0+json": {
       "columns": [
        {
         "name": "index",
         "rawType": "object",
         "type": "string"
        },
        {
         "name": "0",
         "rawType": "int64",
         "type": "integer"
        }
       ],
       "ref": "ffdfa475-d6cb-46fd-a7d8-27efa79099fc",
       "rows": [
        [
         "customer_id",
         "0"
        ],
        [
         "customer_unique_id",
         "0"
        ],
        [
         "customer_zip_code_prefix",
         "0"
        ],
        [
         "customer_city",
         "31474"
        ],
        [
         "customer_state",
         "31474"
        ]
       ],
       "shape": {
        "columns": 1,
        "rows": 5
       }
      },
      "text/plain": [
       "customer_id                     0\n",
       "customer_unique_id              0\n",
       "customer_zip_code_prefix        0\n",
       "customer_city               31474\n",
       "customer_state              31474\n",
       "dtype: int64"
      ]
     },
     "execution_count": 13,
     "metadata": {},
     "output_type": "execute_result"
    }
   ],
   "source": [
    "df_customers.isna().sum()"
   ]
  },
  {
   "cell_type": "markdown",
   "id": "6ffd3499",
   "metadata": {},
   "source": [
    "% of NaN values"
   ]
  },
  {
   "cell_type": "code",
   "execution_count": 14,
   "id": "1bdeeaa3",
   "metadata": {},
   "outputs": [
    {
     "data": {
      "application/vnd.microsoft.datawrangler.viewer.v0+json": {
       "columns": [
        {
         "name": "index",
         "rawType": "object",
         "type": "string"
        },
        {
         "name": "0",
         "rawType": "float64",
         "type": "float"
        }
       ],
       "ref": "d58ee974-419f-421f-9c20-56bf2191f314",
       "rows": [
        [
         "customer_id",
         "0.0"
        ],
        [
         "customer_unique_id",
         "0.0"
        ],
        [
         "customer_zip_code_prefix",
         "0.0"
        ],
        [
         "customer_city",
         "31.650928691384838"
        ],
        [
         "customer_state",
         "31.650928691384838"
        ]
       ],
       "shape": {
        "columns": 1,
        "rows": 5
       }
      },
      "text/plain": [
       "customer_id                  0.000000\n",
       "customer_unique_id           0.000000\n",
       "customer_zip_code_prefix     0.000000\n",
       "customer_city               31.650929\n",
       "customer_state              31.650929\n",
       "dtype: float64"
      ]
     },
     "execution_count": 14,
     "metadata": {},
     "output_type": "execute_result"
    }
   ],
   "source": [
    "df_customers.isna().mean()*100"
   ]
  },
  {
   "cell_type": "code",
   "execution_count": 15,
   "id": "2559e677",
   "metadata": {},
   "outputs": [
    {
     "data": {
      "text/plain": [
       "<Axes: title={'center': 'Top 5 cities by number of Customers'}, xlabel='customer_city'>"
      ]
     },
     "execution_count": 15,
     "metadata": {},
     "output_type": "execute_result"
    },
    {
     "data": {
      "image/png": "[encoded data removed]",
      "text/plain": [
       "<Figure size 900x500 with 1 Axes>"
      ]
     },
     "metadata": {},
     "output_type": "display_data"
    }
   ],
   "source": [
    "df_customers[\"customer_city\"].value_counts().head().plot.bar(title=\"Top 5 cities by number of Customers\", x = \"City name\", y = \"Number of clients\", rot = 0, figsize = (9,5))"
   ]
  },
  {
   "cell_type": "code",
   "execution_count": 16,
   "id": "3ccf8d52",
   "metadata": {},
   "outputs": [
    {
     "data": {
      "text/plain": [
       "<Axes: title={'center': 'Top 5 states by number of Customers'}, xlabel='customer_state'>"
      ]
     },
     "execution_count": 16,
     "metadata": {},
     "output_type": "execute_result"
    },
    {
     "data": {
      "image/png": "[encoded data removed]",
      "text/plain": [
       "<Figure size 900x500 with 1 Axes>"
      ]
     },
     "metadata": {},
     "output_type": "display_data"
    }
   ],
   "source": [
    "df_customers[\"customer_state\"].value_counts().head().plot.bar(title=\"Top 5 states by number of Customers\", x = \"State name\", y = \"Number of clients\", rot = 0, figsize = (9,5))"
   ]
  },
  {
   "cell_type": "markdown",
   "id": "b47c1656",
   "metadata": {},
   "source": [
    "#### Geolocation table"
   ]
  },
  {
   "cell_type": "code",
   "execution_count": 17,
   "id": "824ce5ca",
   "metadata": {},
   "outputs": [
    {
     "name": "stdout",
     "output_type": "stream",
     "text": [
      "Number of duplicated rows: 271868\n",
      "\n",
      "<class 'pandas.core.frame.DataFrame'>\n",
      "RangeIndex: 1000163 entries, 0 to 1000162\n",
      "Data columns (total 5 columns):\n",
      " #   Column                       Non-Null Count    Dtype  \n",
      "---  ------                       --------------    -----  \n",
      " 0   geolocation_zip_code_prefix  1000163 non-null  int64  \n",
      " 1   geolocation_lat              1000163 non-null  float64\n",
      " 2   geolocation_lng              1000163 non-null  float64\n",
      " 3   geolocation_city             1000163 non-null  object \n",
      " 4   geolocation_state            1000163 non-null  object \n",
      "dtypes: float64(2), int64(1), object(2)\n",
      "memory usage: 38.2+ MB\n"
     ]
    }
   ],
   "source": [
    "print(f\"Number of duplicated rows: {len(df_geolocation[df_geolocation.duplicated()])}\\n\")\n",
    "df_geolocation.info()"
   ]
  },
  {
   "cell_type": "markdown",
   "id": "4439fad0",
   "metadata": {},
   "source": [
    "Number of NaN values "
   ]
  },
  {
   "cell_type": "code",
   "execution_count": 18,
   "id": "d08e91bc",
   "metadata": {},
   "outputs": [
    {
     "data": {
      "application/vnd.microsoft.datawrangler.viewer.v0+json": {
       "columns": [
        {
         "name": "index",
         "rawType": "object",
         "type": "string"
        },
        {
         "name": "0",
         "rawType": "int64",
         "type": "integer"
        }
       ],
       "ref": "20bcf00b-7a8f-413f-b8f7-78e85192edaf",
       "rows": [
        [
         "geolocation_zip_code_prefix",
         "0"
        ],
        [
         "geolocation_lat",
         "0"
        ],
        [
         "geolocation_lng",
         "0"
        ],
        [
         "geolocation_city",
         "0"
        ],
        [
         "geolocation_state",
         "0"
        ]
       ],
       "shape": {
        "columns": 1,
        "rows": 5
       }
      },
      "text/plain": [
       "geolocation_zip_code_prefix    0\n",
       "geolocation_lat                0\n",
       "geolocation_lng                0\n",
       "geolocation_city               0\n",
       "geolocation_state              0\n",
       "dtype: int64"
      ]
     },
     "execution_count": 18,
     "metadata": {},
     "output_type": "execute_result"
    }
   ],
   "source": [
    "df_geolocation.isna().sum()"
   ]
  },
  {
   "cell_type": "markdown",
   "id": "68247edc",
   "metadata": {},
   "source": [
    "% of NaN values"
   ]
  },
  {
   "cell_type": "code",
   "execution_count": 19,
   "id": "435320e0",
   "metadata": {},
   "outputs": [
    {
     "data": {
      "application/vnd.microsoft.datawrangler.viewer.v0+json": {
       "columns": [
        {
         "name": "index",
         "rawType": "object",
         "type": "string"
        },
        {
         "name": "0",
         "rawType": "float64",
         "type": "float"
        }
       ],
       "ref": "1ee44942-d599-43fb-a43f-f66adf2dbdb6",
       "rows": [
        [
         "geolocation_zip_code_prefix",
         "0.0"
        ],
        [
         "geolocation_lat",
         "0.0"
        ],
        [
         "geolocation_lng",
         "0.0"
        ],
        [
         "geolocation_city",
         "0.0"
        ],
        [
         "geolocation_state",
         "0.0"
        ]
       ],
       "shape": {
        "columns": 1,
        "rows": 5
       }
      },
      "text/plain": [
       "geolocation_zip_code_prefix    0.0\n",
       "geolocation_lat                0.0\n",
       "geolocation_lng                0.0\n",
       "geolocation_city               0.0\n",
       "geolocation_state              0.0\n",
       "dtype: float64"
      ]
     },
     "execution_count": 19,
     "metadata": {},
     "output_type": "execute_result"
    }
   ],
   "source": [
    "df_geolocation.isna().mean()*100"
   ]
  },
  {
   "cell_type": "markdown",
   "id": "ede6745c",
   "metadata": {},
   "source": [
    "#### Sellers table"
   ]
  },
  {
   "cell_type": "code",
   "execution_count": 20,
   "id": "fafa264c",
   "metadata": {},
   "outputs": [
    {
     "name": "stdout",
     "output_type": "stream",
     "text": [
      "Number of duplicated rows: 0\n",
      "\n",
      "<class 'pandas.core.frame.DataFrame'>\n",
      "RangeIndex: 3095 entries, 0 to 3094\n",
      "Data columns (total 4 columns):\n",
      " #   Column                  Non-Null Count  Dtype \n",
      "---  ------                  --------------  ----- \n",
      " 0   seller_id               3095 non-null   object\n",
      " 1   seller_zip_code_prefix  3095 non-null   int64 \n",
      " 2   seller_city             2390 non-null   object\n",
      " 3   seller_state            3095 non-null   object\n",
      "dtypes: int64(1), object(3)\n",
      "memory usage: 96.8+ KB\n"
     ]
    }
   ],
   "source": [
    "print(f\"Number of duplicated rows: {len(df_sellers[df_sellers.duplicated()])}\\n\")\n",
    "df_sellers.info()"
   ]
  },
  {
   "cell_type": "markdown",
   "id": "4ab14d5a",
   "metadata": {},
   "source": [
    "Number of NaN values "
   ]
  },
  {
   "cell_type": "code",
   "execution_count": 21,
   "id": "f08896ee",
   "metadata": {},
   "outputs": [
    {
     "data": {
      "application/vnd.microsoft.datawrangler.viewer.v0+json": {
       "columns": [
        {
         "name": "index",
         "rawType": "object",
         "type": "string"
        },
        {
         "name": "0",
         "rawType": "int64",
         "type": "integer"
        }
       ],
       "ref": "6dd6c65a-a300-4536-9ae0-7a5957db02a3",
       "rows": [
        [
         "seller_id",
         "0"
        ],
        [
         "seller_zip_code_prefix",
         "0"
        ],
        [
         "seller_city",
         "705"
        ],
        [
         "seller_state",
         "0"
        ]
       ],
       "shape": {
        "columns": 1,
        "rows": 4
       }
      },
      "text/plain": [
       "seller_id                   0\n",
       "seller_zip_code_prefix      0\n",
       "seller_city               705\n",
       "seller_state                0\n",
       "dtype: int64"
      ]
     },
     "execution_count": 21,
     "metadata": {},
     "output_type": "execute_result"
    }
   ],
   "source": [
    "df_sellers.isna().sum()"
   ]
  },
  {
   "cell_type": "markdown",
   "id": "f829a13a",
   "metadata": {},
   "source": [
    "% of NaN values"
   ]
  },
  {
   "cell_type": "code",
   "execution_count": 22,
   "id": "f36dc339",
   "metadata": {},
   "outputs": [
    {
     "data": {
      "application/vnd.microsoft.datawrangler.viewer.v0+json": {
       "columns": [
        {
         "name": "index",
         "rawType": "object",
         "type": "string"
        },
        {
         "name": "0",
         "rawType": "float64",
         "type": "float"
        }
       ],
       "ref": "799cf9c1-df11-420c-bc60-4aac8cd311b6",
       "rows": [
        [
         "seller_id",
         "0.0"
        ],
        [
         "seller_zip_code_prefix",
         "0.0"
        ],
        [
         "seller_city",
         "22.778675282714055"
        ],
        [
         "seller_state",
         "0.0"
        ]
       ],
       "shape": {
        "columns": 1,
        "rows": 4
       }
      },
      "text/plain": [
       "seller_id                  0.000000\n",
       "seller_zip_code_prefix     0.000000\n",
       "seller_city               22.778675\n",
       "seller_state               0.000000\n",
       "dtype: float64"
      ]
     },
     "execution_count": 22,
     "metadata": {},
     "output_type": "execute_result"
    }
   ],
   "source": [
    "df_sellers.isna().mean()*100"
   ]
  },
  {
   "cell_type": "code",
   "execution_count": 23,
   "id": "2861c4b7",
   "metadata": {},
   "outputs": [
    {
     "data": {
      "text/plain": [
       "<Axes: title={'center': 'Top 5 cities by number of Sellers'}, xlabel='seller_city'>"
      ]
     },
     "execution_count": 23,
     "metadata": {},
     "output_type": "execute_result"
    },
    {
     "data": {
      "image/png": "[encoded data removed]",
      "text/plain": [
       "<Figure size 900x500 with 1 Axes>"
      ]
     },
     "metadata": {},
     "output_type": "display_data"
    }
   ],
   "source": [
    "df_sellers[\"seller_city\"].value_counts().head().plot.bar(title=\"Top 5 cities by number of Sellers\", x = \"City name\", y = \"Number of Sellers\", rot = 0, figsize = (9,5))"
   ]
  },
  {
   "cell_type": "code",
   "execution_count": 24,
   "id": "420a756a",
   "metadata": {},
   "outputs": [
    {
     "data": {
      "text/plain": [
       "<Axes: title={'center': 'Top 5 states by number of Sellers'}, xlabel='seller_state'>"
      ]
     },
     "execution_count": 24,
     "metadata": {},
     "output_type": "execute_result"
    },
    {
     "data": {
      "image/png": "[encoded data removed]",
      "text/plain": [
       "<Figure size 900x500 with 1 Axes>"
      ]
     },
     "metadata": {},
     "output_type": "display_data"
    }
   ],
   "source": [
    "df_sellers[\"seller_state\"].value_counts().head().plot.bar(title=\"Top 5 states by number of Sellers\", x = \"State name\", y = \"Number of Sellers\", rot = 0, figsize = (9,5))"
   ]
  },
  {
   "cell_type": "markdown",
   "id": "b610633a",
   "metadata": {},
   "source": [
    "#### Orders table"
   ]
  },
  {
   "cell_type": "code",
   "execution_count": 25,
   "id": "7bd720ca",
   "metadata": {},
   "outputs": [
    {
     "name": "stdout",
     "output_type": "stream",
     "text": [
      "Number of duplicated rows: 0\n",
      "\n",
      "<class 'pandas.core.frame.DataFrame'>\n",
      "RangeIndex: 99441 entries, 0 to 99440\n",
      "Data columns (total 8 columns):\n",
      " #   Column                         Non-Null Count  Dtype         \n",
      "---  ------                         --------------  -----         \n",
      " 0   order_id                       99441 non-null  object        \n",
      " 1   customer_id                    99441 non-null  object        \n",
      " 2   order_status                   99441 non-null  object        \n",
      " 3   order_purchase_timestamp       99441 non-null  datetime64[ns]\n",
      " 4   order_approved_at              99281 non-null  datetime64[ns]\n",
      " 5   order_delivered_carrier_date   97658 non-null  datetime64[ns]\n",
      " 6   order_delivered_customer_date  96476 non-null  datetime64[ns]\n",
      " 7   order_estimated_delivery_date  99102 non-null  datetime64[ns]\n",
      "dtypes: datetime64[ns](5), object(3)\n",
      "memory usage: 6.1+ MB\n"
     ]
    }
   ],
   "source": [
    "print(f\"Number of duplicated rows: {len(df_orders[df_orders.duplicated()])}\\n\")\n",
    "df_orders.info()"
   ]
  },
  {
   "cell_type": "markdown",
   "id": "0465d67b",
   "metadata": {},
   "source": [
    "Number of NaN values "
   ]
  },
  {
   "cell_type": "code",
   "execution_count": 26,
   "id": "43d298b2",
   "metadata": {},
   "outputs": [
    {
     "data": {
      "application/vnd.microsoft.datawrangler.viewer.v0+json": {
       "columns": [
        {
         "name": "index",
         "rawType": "object",
         "type": "string"
        },
        {
         "name": "0",
         "rawType": "int64",
         "type": "integer"
        }
       ],
       "ref": "bb7c9102-0738-4ef5-b19b-27fadad2b186",
       "rows": [
        [
         "order_id",
         "0"
        ],
        [
         "customer_id",
         "0"
        ],
        [
         "order_status",
         "0"
        ],
        [
         "order_purchase_timestamp",
         "0"
        ],
        [
         "order_approved_at",
         "160"
        ],
        [
         "order_delivered_carrier_date",
         "1783"
        ],
        [
         "order_delivered_customer_date",
         "2965"
        ],
        [
         "order_estimated_delivery_date",
         "339"
        ]
       ],
       "shape": {
        "columns": 1,
        "rows": 8
       }
      },
      "text/plain": [
       "order_id                            0\n",
       "customer_id                         0\n",
       "order_status                        0\n",
       "order_purchase_timestamp            0\n",
       "order_approved_at                 160\n",
       "order_delivered_carrier_date     1783\n",
       "order_delivered_customer_date    2965\n",
       "order_estimated_delivery_date     339\n",
       "dtype: int64"
      ]
     },
     "execution_count": 26,
     "metadata": {},
     "output_type": "execute_result"
    }
   ],
   "source": [
    "df_orders.isna().sum()"
   ]
  },
  {
   "cell_type": "markdown",
   "id": "585bdc10",
   "metadata": {},
   "source": [
    "% of NaN values"
   ]
  },
  {
   "cell_type": "code",
   "execution_count": 27,
   "id": "5980600d",
   "metadata": {},
   "outputs": [
    {
     "data": {
      "application/vnd.microsoft.datawrangler.viewer.v0+json": {
       "columns": [
        {
         "name": "index",
         "rawType": "object",
         "type": "string"
        },
        {
         "name": "0",
         "rawType": "float64",
         "type": "float"
        }
       ],
       "ref": "ab876abe-5020-4ce5-8bce-3788ac3155ee",
       "rows": [
        [
         "order_id",
         "0.0"
        ],
        [
         "customer_id",
         "0.0"
        ],
        [
         "order_status",
         "0.0"
        ],
        [
         "order_purchase_timestamp",
         "0.0"
        ],
        [
         "order_approved_at",
         "0.1608994278014099"
        ],
        [
         "order_delivered_carrier_date",
         "1.7930229985619612"
        ],
        [
         "order_delivered_customer_date",
         "2.981667521444877"
        ],
        [
         "order_estimated_delivery_date",
         "0.3409056626542372"
        ]
       ],
       "shape": {
        "columns": 1,
        "rows": 8
       }
      },
      "text/plain": [
       "order_id                         0.000000\n",
       "customer_id                      0.000000\n",
       "order_status                     0.000000\n",
       "order_purchase_timestamp         0.000000\n",
       "order_approved_at                0.160899\n",
       "order_delivered_carrier_date     1.793023\n",
       "order_delivered_customer_date    2.981668\n",
       "order_estimated_delivery_date    0.340906\n",
       "dtype: float64"
      ]
     },
     "execution_count": 27,
     "metadata": {},
     "output_type": "execute_result"
    }
   ],
   "source": [
    "df_orders.isna().mean()*100"
   ]
  },
  {
   "cell_type": "markdown",
   "id": "9d328b44",
   "metadata": {},
   "source": [
    "Number of orders for each status"
   ]
  },
  {
   "cell_type": "code",
   "execution_count": 28,
   "id": "28d6d870",
   "metadata": {},
   "outputs": [
    {
     "data": {
      "application/vnd.microsoft.datawrangler.viewer.v0+json": {
       "columns": [
        {
         "name": "order_status",
         "rawType": "object",
         "type": "string"
        },
        {
         "name": "count",
         "rawType": "int64",
         "type": "integer"
        }
       ],
       "ref": "788defdc-5638-492b-a6bb-fc07c4bd3c05",
       "rows": [
        [
         "delivered",
         "96478"
        ],
        [
         "shipped",
         "1107"
        ],
        [
         "canceled",
         "625"
        ],
        [
         "unavailable",
         "609"
        ],
        [
         "invoiced",
         "314"
        ],
        [
         "processing",
         "301"
        ],
        [
         "created",
         "5"
        ],
        [
         "approved",
         "2"
        ]
       ],
       "shape": {
        "columns": 1,
        "rows": 8
       }
      },
      "text/plain": [
       "order_status\n",
       "delivered      96478\n",
       "shipped         1107\n",
       "canceled         625\n",
       "unavailable      609\n",
       "invoiced         314\n",
       "processing       301\n",
       "created            5\n",
       "approved           2\n",
       "Name: count, dtype: int64"
      ]
     },
     "execution_count": 28,
     "metadata": {},
     "output_type": "execute_result"
    }
   ],
   "source": [
    "df_orders[\"order_status\"].value_counts()"
   ]
  },
  {
   "cell_type": "markdown",
   "id": "fce01322",
   "metadata": {},
   "source": [
    "#### Order payments table"
   ]
  },
  {
   "cell_type": "code",
   "execution_count": 29,
   "id": "ba8bab8f",
   "metadata": {},
   "outputs": [
    {
     "name": "stdout",
     "output_type": "stream",
     "text": [
      "Number of duplicated rows: 0\n",
      "\n",
      "<class 'pandas.core.frame.DataFrame'>\n",
      "RangeIndex: 103886 entries, 0 to 103885\n",
      "Data columns (total 5 columns):\n",
      " #   Column                Non-Null Count   Dtype  \n",
      "---  ------                --------------   -----  \n",
      " 0   order_id              103886 non-null  object \n",
      " 1   payment_sequential    103886 non-null  int64  \n",
      " 2   payment_type          103886 non-null  object \n",
      " 3   payment_installments  103886 non-null  int64  \n",
      " 4   payment_value         84314 non-null   float64\n",
      "dtypes: float64(1), int64(2), object(2)\n",
      "memory usage: 4.0+ MB\n"
     ]
    }
   ],
   "source": [
    "print(f\"Number of duplicated rows: {len(df_order_payments[df_order_payments.duplicated()])}\\n\")\n",
    "df_order_payments.info()"
   ]
  },
  {
   "cell_type": "markdown",
   "id": "6b07cf58",
   "metadata": {},
   "source": [
    "Number of NaN values "
   ]
  },
  {
   "cell_type": "code",
   "execution_count": 30,
   "id": "a6d8812e",
   "metadata": {},
   "outputs": [
    {
     "data": {
      "application/vnd.microsoft.datawrangler.viewer.v0+json": {
       "columns": [
        {
         "name": "index",
         "rawType": "object",
         "type": "string"
        },
        {
         "name": "0",
         "rawType": "int64",
         "type": "integer"
        }
       ],
       "ref": "68f88a81-e8d1-4c89-8644-9cd6df589057",
       "rows": [
        [
         "order_id",
         "0"
        ],
        [
         "payment_sequential",
         "0"
        ],
        [
         "payment_type",
         "0"
        ],
        [
         "payment_installments",
         "0"
        ],
        [
         "payment_value",
         "19572"
        ]
       ],
       "shape": {
        "columns": 1,
        "rows": 5
       }
      },
      "text/plain": [
       "order_id                    0\n",
       "payment_sequential          0\n",
       "payment_type                0\n",
       "payment_installments        0\n",
       "payment_value           19572\n",
       "dtype: int64"
      ]
     },
     "execution_count": 30,
     "metadata": {},
     "output_type": "execute_result"
    }
   ],
   "source": [
    "df_order_payments.isna().sum()"
   ]
  },
  {
   "cell_type": "markdown",
   "id": "9b6d2eed",
   "metadata": {},
   "source": [
    "% of NaN values"
   ]
  },
  {
   "cell_type": "code",
   "execution_count": 31,
   "id": "1c80114e",
   "metadata": {},
   "outputs": [
    {
     "data": {
      "application/vnd.microsoft.datawrangler.viewer.v0+json": {
       "columns": [
        {
         "name": "index",
         "rawType": "object",
         "type": "string"
        },
        {
         "name": "0",
         "rawType": "float64",
         "type": "float"
        }
       ],
       "ref": "dcae6279-218b-4deb-96d0-91d3c88c2b05",
       "rows": [
        [
         "order_id",
         "0.0"
        ],
        [
         "payment_sequential",
         "0.0"
        ],
        [
         "payment_type",
         "0.0"
        ],
        [
         "payment_installments",
         "0.0"
        ],
        [
         "payment_value",
         "18.839882178541863"
        ]
       ],
       "shape": {
        "columns": 1,
        "rows": 5
       }
      },
      "text/plain": [
       "order_id                 0.000000\n",
       "payment_sequential       0.000000\n",
       "payment_type             0.000000\n",
       "payment_installments     0.000000\n",
       "payment_value           18.839882\n",
       "dtype: float64"
      ]
     },
     "execution_count": 31,
     "metadata": {},
     "output_type": "execute_result"
    }
   ],
   "source": [
    "df_order_payments.isna().mean()*100"
   ]
  },
  {
   "cell_type": "code",
   "execution_count": 32,
   "id": "38c3089a",
   "metadata": {},
   "outputs": [
    {
     "data": {
      "text/plain": [
       "<Axes: title={'center': 'Number of payments made in each payment type'}, xlabel='payment_type'>"
      ]
     },
     "execution_count": 32,
     "metadata": {},
     "output_type": "execute_result"
    },
    {
     "data": {
      "image/png": "[encoded data removed]",
      "text/plain": [
       "<Figure size 900x500 with 1 Axes>"
      ]
     },
     "metadata": {},
     "output_type": "display_data"
    }
   ],
   "source": [
    "df_order_payments[\"payment_type\"].value_counts().plot.bar(title = \"Number of payments made in each payment type\", x = \"payment type\", y = \"number of payments\", rot = 0, figsize = (9,5))"
   ]
  },
  {
   "cell_type": "markdown",
   "id": "4488a288",
   "metadata": {},
   "source": [
    "#### Order items table"
   ]
  },
  {
   "cell_type": "code",
   "execution_count": 33,
   "id": "a99a924a",
   "metadata": {},
   "outputs": [
    {
     "name": "stdout",
     "output_type": "stream",
     "text": [
      "Number of duplicated rows: 0\n",
      "\n",
      "<class 'pandas.core.frame.DataFrame'>\n",
      "RangeIndex: 112650 entries, 0 to 112649\n",
      "Data columns (total 7 columns):\n",
      " #   Column               Non-Null Count   Dtype         \n",
      "---  ------               --------------   -----         \n",
      " 0   order_id             112650 non-null  object        \n",
      " 1   order_item_id        112650 non-null  int64         \n",
      " 2   product_id           112650 non-null  object        \n",
      " 3   seller_id            112650 non-null  object        \n",
      " 4   shipping_limit_date  112650 non-null  datetime64[ns]\n",
      " 5   price                112650 non-null  float64       \n",
      " 6   freight_value        112650 non-null  float64       \n",
      "dtypes: datetime64[ns](1), float64(2), int64(1), object(3)\n",
      "memory usage: 6.0+ MB\n"
     ]
    }
   ],
   "source": [
    "print(f\"Number of duplicated rows: {len(df_order_items[df_order_items.duplicated()])}\\n\")\n",
    "df_order_items.info()"
   ]
  },
  {
   "cell_type": "markdown",
   "id": "d1570733",
   "metadata": {},
   "source": [
    "Number of NaN values "
   ]
  },
  {
   "cell_type": "code",
   "execution_count": 34,
   "id": "5c3372ed",
   "metadata": {},
   "outputs": [
    {
     "data": {
      "application/vnd.microsoft.datawrangler.viewer.v0+json": {
       "columns": [
        {
         "name": "index",
         "rawType": "object",
         "type": "string"
        },
        {
         "name": "0",
         "rawType": "int64",
         "type": "integer"
        }
       ],
       "ref": "02eb5a4b-deba-46a9-8998-dfcebbb35a95",
       "rows": [
        [
         "order_id",
         "0"
        ],
        [
         "order_item_id",
         "0"
        ],
        [
         "product_id",
         "0"
        ],
        [
         "seller_id",
         "0"
        ],
        [
         "shipping_limit_date",
         "0"
        ],
        [
         "price",
         "0"
        ],
        [
         "freight_value",
         "0"
        ]
       ],
       "shape": {
        "columns": 1,
        "rows": 7
       }
      },
      "text/plain": [
       "order_id               0\n",
       "order_item_id          0\n",
       "product_id             0\n",
       "seller_id              0\n",
       "shipping_limit_date    0\n",
       "price                  0\n",
       "freight_value          0\n",
       "dtype: int64"
      ]
     },
     "execution_count": 34,
     "metadata": {},
     "output_type": "execute_result"
    }
   ],
   "source": [
    "df_order_items.isna().sum()"
   ]
  },
  {
   "cell_type": "markdown",
   "id": "91a15707",
   "metadata": {},
   "source": [
    "% of NaN values"
   ]
  },
  {
   "cell_type": "code",
   "execution_count": 35,
   "id": "b4830b07",
   "metadata": {},
   "outputs": [
    {
     "data": {
      "application/vnd.microsoft.datawrangler.viewer.v0+json": {
       "columns": [
        {
         "name": "index",
         "rawType": "object",
         "type": "string"
        },
        {
         "name": "0",
         "rawType": "float64",
         "type": "float"
        }
       ],
       "ref": "8522a272-9b7c-4c65-b231-6f14331809af",
       "rows": [
        [
         "order_id",
         "0.0"
        ],
        [
         "order_item_id",
         "0.0"
        ],
        [
         "product_id",
         "0.0"
        ],
        [
         "seller_id",
         "0.0"
        ],
        [
         "shipping_limit_date",
         "0.0"
        ],
        [
         "price",
         "0.0"
        ],
        [
         "freight_value",
         "0.0"
        ]
       ],
       "shape": {
        "columns": 1,
        "rows": 7
       }
      },
      "text/plain": [
       "order_id               0.0\n",
       "order_item_id          0.0\n",
       "product_id             0.0\n",
       "seller_id              0.0\n",
       "shipping_limit_date    0.0\n",
       "price                  0.0\n",
       "freight_value          0.0\n",
       "dtype: float64"
      ]
     },
     "execution_count": 35,
     "metadata": {},
     "output_type": "execute_result"
    }
   ],
   "source": [
    "df_order_items.isna().mean()*100"
   ]
  },
  {
   "cell_type": "code",
   "execution_count": 36,
   "id": "8d47038e",
   "metadata": {},
   "outputs": [
    {
     "data": {
      "application/vnd.microsoft.datawrangler.viewer.v0+json": {
       "columns": [
        {
         "name": "index",
         "rawType": "object",
         "type": "string"
        },
        {
         "name": "price",
         "rawType": "float64",
         "type": "float"
        }
       ],
       "ref": "cccbf98f-1737-45b4-a801-39486628b574",
       "rows": [
        [
         "count",
         "112650.0"
        ],
        [
         "mean",
         "121.0"
        ],
        [
         "std",
         "184.0"
        ],
        [
         "min",
         "1.0"
        ],
        [
         "25%",
         "40.0"
        ],
        [
         "50%",
         "75.0"
        ],
        [
         "75%",
         "135.0"
        ],
        [
         "max",
         "6735.0"
        ]
       ],
       "shape": {
        "columns": 1,
        "rows": 8
       }
      },
      "text/plain": [
       "count    112650.0\n",
       "mean        121.0\n",
       "std         184.0\n",
       "min           1.0\n",
       "25%          40.0\n",
       "50%          75.0\n",
       "75%         135.0\n",
       "max        6735.0\n",
       "Name: price, dtype: float64"
      ]
     },
     "execution_count": 36,
     "metadata": {},
     "output_type": "execute_result"
    }
   ],
   "source": [
    "df_order_items[\"price\"].describe().round()"
   ]
  },
  {
   "cell_type": "code",
   "execution_count": 37,
   "id": "cdd68c33",
   "metadata": {},
   "outputs": [
    {
     "data": {
      "application/vnd.microsoft.datawrangler.viewer.v0+json": {
       "columns": [
        {
         "name": "index",
         "rawType": "object",
         "type": "string"
        },
        {
         "name": "freight_value",
         "rawType": "float64",
         "type": "float"
        }
       ],
       "ref": "b1e8db17-613a-48af-97e2-ad884df09056",
       "rows": [
        [
         "count",
         "112650.0"
        ],
        [
         "mean",
         "20.0"
        ],
        [
         "std",
         "16.0"
        ],
        [
         "min",
         "0.0"
        ],
        [
         "25%",
         "13.0"
        ],
        [
         "50%",
         "16.0"
        ],
        [
         "75%",
         "21.0"
        ],
        [
         "max",
         "410.0"
        ]
       ],
       "shape": {
        "columns": 1,
        "rows": 8
       }
      },
      "text/plain": [
       "count    112650.0\n",
       "mean         20.0\n",
       "std          16.0\n",
       "min           0.0\n",
       "25%          13.0\n",
       "50%          16.0\n",
       "75%          21.0\n",
       "max         410.0\n",
       "Name: freight_value, dtype: float64"
      ]
     },
     "execution_count": 37,
     "metadata": {},
     "output_type": "execute_result"
    }
   ],
   "source": [
    "df_order_items[\"freight_value\"].describe().round()"
   ]
  },
  {
   "cell_type": "markdown",
   "id": "b83ab89e",
   "metadata": {},
   "source": [
    "Top 5 Orders size by product's number "
   ]
  },
  {
   "cell_type": "code",
   "execution_count": 38,
   "id": "3362e4e3",
   "metadata": {},
   "outputs": [
    {
     "data": {
      "application/vnd.microsoft.datawrangler.viewer.v0+json": {
       "columns": [
        {
         "name": "order_item_id",
         "rawType": "int64",
         "type": "integer"
        },
        {
         "name": "count",
         "rawType": "int64",
         "type": "integer"
        }
       ],
       "ref": "d6c8155e-e688-41d4-bc58-0554fcdbf5aa",
       "rows": [
        [
         "1",
         "88863"
        ],
        [
         "2",
         "7516"
        ],
        [
         "3",
         "1322"
        ],
        [
         "4",
         "505"
        ],
        [
         "5",
         "204"
        ],
        [
         "6",
         "198"
        ],
        [
         "7",
         "22"
        ],
        [
         "8",
         "8"
        ],
        [
         "10",
         "8"
        ],
        [
         "12",
         "5"
        ],
        [
         "11",
         "4"
        ],
        [
         "9",
         "3"
        ],
        [
         "20",
         "2"
        ],
        [
         "14",
         "2"
        ],
        [
         "15",
         "2"
        ],
        [
         "13",
         "1"
        ],
        [
         "21",
         "1"
        ]
       ],
       "shape": {
        "columns": 1,
        "rows": 17
       }
      },
      "text/plain": [
       "order_item_id\n",
       "1     88863\n",
       "2      7516\n",
       "3      1322\n",
       "4       505\n",
       "5       204\n",
       "6       198\n",
       "7        22\n",
       "8         8\n",
       "10        8\n",
       "12        5\n",
       "11        4\n",
       "9         3\n",
       "20        2\n",
       "14        2\n",
       "15        2\n",
       "13        1\n",
       "21        1\n",
       "Name: count, dtype: int64"
      ]
     },
     "execution_count": 38,
     "metadata": {},
     "output_type": "execute_result"
    }
   ],
   "source": [
    "unique_orders = df_order_items.groupby(by=\"order_id\")['order_item_id'].idxmax()\n",
    "df_order_items.loc[unique_orders][\"order_item_id\"].value_counts()"
   ]
  },
  {
   "cell_type": "markdown",
   "id": "f4297e4a",
   "metadata": {},
   "source": [
    "#### Products table"
   ]
  },
  {
   "cell_type": "code",
   "execution_count": 39,
   "id": "f8d940ad",
   "metadata": {},
   "outputs": [
    {
     "data": {
      "application/vnd.microsoft.datawrangler.viewer.v0+json": {
       "columns": [
        {
         "name": "index",
         "rawType": "object",
         "type": "string"
        },
        {
         "name": "0",
         "rawType": "int64",
         "type": "integer"
        }
       ],
       "ref": "821d5e4a-6543-48b8-bf71-6b3113caa1ce",
       "rows": [
        [
         "product_id",
         "0"
        ],
        [
         "product_category_name",
         "610"
        ],
        [
         "product_name_length",
         "610"
        ],
        [
         "product_description_length",
         "610"
        ],
        [
         "product_photos_qty",
         "610"
        ],
        [
         "product_weight_g",
         "2"
        ],
        [
         "product_length_cm",
         "2"
        ],
        [
         "product_height_cm",
         "2"
        ],
        [
         "product_width_cm",
         "2"
        ]
       ],
       "shape": {
        "columns": 1,
        "rows": 9
       }
      },
      "text/plain": [
       "product_id                      0\n",
       "product_category_name         610\n",
       "product_name_length           610\n",
       "product_description_length    610\n",
       "product_photos_qty            610\n",
       "product_weight_g                2\n",
       "product_length_cm               2\n",
       "product_height_cm               2\n",
       "product_width_cm                2\n",
       "dtype: int64"
      ]
     },
     "execution_count": 39,
     "metadata": {},
     "output_type": "execute_result"
    }
   ],
   "source": [
    "df_products.isna().sum()"
   ]
  },
  {
   "cell_type": "markdown",
   "id": "268925e4",
   "metadata": {},
   "source": [
    "% of NaN values"
   ]
  },
  {
   "cell_type": "code",
   "execution_count": 40,
   "id": "fea2f875",
   "metadata": {},
   "outputs": [
    {
     "data": {
      "application/vnd.microsoft.datawrangler.viewer.v0+json": {
       "columns": [
        {
         "name": "index",
         "rawType": "object",
         "type": "string"
        },
        {
         "name": "0",
         "rawType": "float64",
         "type": "float"
        }
       ],
       "ref": "f634b89e-564a-48bf-b720-d7648f0a88f1",
       "rows": [
        [
         "product_id",
         "0.0"
        ],
        [
         "product_category_name",
         "1.8512336499650999"
        ],
        [
         "product_name_length",
         "1.8512336499650999"
        ],
        [
         "product_description_length",
         "1.8512336499650999"
        ],
        [
         "product_photos_qty",
         "1.8512336499650999"
        ],
        [
         "product_weight_g",
         "0.006069618524475737"
        ],
        [
         "product_length_cm",
         "0.006069618524475737"
        ],
        [
         "product_height_cm",
         "0.006069618524475737"
        ],
        [
         "product_width_cm",
         "0.006069618524475737"
        ]
       ],
       "shape": {
        "columns": 1,
        "rows": 9
       }
      },
      "text/plain": [
       "product_id                    0.000000\n",
       "product_category_name         1.851234\n",
       "product_name_length           1.851234\n",
       "product_description_length    1.851234\n",
       "product_photos_qty            1.851234\n",
       "product_weight_g              0.006070\n",
       "product_length_cm             0.006070\n",
       "product_height_cm             0.006070\n",
       "product_width_cm              0.006070\n",
       "dtype: float64"
      ]
     },
     "execution_count": 40,
     "metadata": {},
     "output_type": "execute_result"
    }
   ],
   "source": [
    "df_products.isna().mean()*100"
   ]
  },
  {
   "cell_type": "code",
   "execution_count": 41,
   "id": "e43b4696",
   "metadata": {},
   "outputs": [
    {
     "data": {
      "application/vnd.microsoft.datawrangler.viewer.v0+json": {
       "columns": [
        {
         "name": "index",
         "rawType": "object",
         "type": "string"
        },
        {
         "name": "product_weight_g",
         "rawType": "float64",
         "type": "float"
        }
       ],
       "ref": "4b7bbeb3-139e-4af2-8269-eae4f679a021",
       "rows": [
        [
         "count",
         "32949.0"
        ],
        [
         "mean",
         "2276.0"
        ],
        [
         "std",
         "4282.0"
        ],
        [
         "min",
         "0.0"
        ],
        [
         "25%",
         "300.0"
        ],
        [
         "50%",
         "700.0"
        ],
        [
         "75%",
         "1900.0"
        ],
        [
         "max",
         "40425.0"
        ]
       ],
       "shape": {
        "columns": 1,
        "rows": 8
       }
      },
      "text/plain": [
       "count    32949.0\n",
       "mean      2276.0\n",
       "std       4282.0\n",
       "min          0.0\n",
       "25%        300.0\n",
       "50%        700.0\n",
       "75%       1900.0\n",
       "max      40425.0\n",
       "Name: product_weight_g, dtype: float64"
      ]
     },
     "execution_count": 41,
     "metadata": {},
     "output_type": "execute_result"
    }
   ],
   "source": [
    "df_products[\"product_weight_g\"].describe().round()"
   ]
  },
  {
   "cell_type": "markdown",
   "id": "d2589934",
   "metadata": {},
   "source": [
    "#### Product category translation"
   ]
  },
  {
   "cell_type": "code",
   "execution_count": 42,
   "id": "0e08b213",
   "metadata": {},
   "outputs": [
    {
     "data": {
      "application/vnd.microsoft.datawrangler.viewer.v0+json": {
       "columns": [
        {
         "name": "index",
         "rawType": "object",
         "type": "string"
        },
        {
         "name": "0",
         "rawType": "int64",
         "type": "integer"
        }
       ],
       "ref": "ab39d10c-7469-452e-8d97-91addd00199a",
       "rows": [
        [
         "product_category_name",
         "0"
        ],
        [
         "product_category_name_english",
         "0"
        ]
       ],
       "shape": {
        "columns": 1,
        "rows": 2
       }
      },
      "text/plain": [
       "product_category_name            0\n",
       "product_category_name_english    0\n",
       "dtype: int64"
      ]
     },
     "execution_count": 42,
     "metadata": {},
     "output_type": "execute_result"
    }
   ],
   "source": [
    "df_product_category_translations.isna().sum()"
   ]
  },
  {
   "cell_type": "markdown",
   "id": "50c41012",
   "metadata": {},
   "source": [
    "% of NaN values"
   ]
  },
  {
   "cell_type": "code",
   "execution_count": 43,
   "id": "1d720f53",
   "metadata": {},
   "outputs": [
    {
     "data": {
      "application/vnd.microsoft.datawrangler.viewer.v0+json": {
       "columns": [
        {
         "name": "index",
         "rawType": "object",
         "type": "string"
        },
        {
         "name": "0",
         "rawType": "float64",
         "type": "float"
        }
       ],
       "ref": "9826c31f-ebf5-4981-8813-766a6118402f",
       "rows": [
        [
         "product_category_name",
         "0.0"
        ],
        [
         "product_category_name_english",
         "0.0"
        ]
       ],
       "shape": {
        "columns": 1,
        "rows": 2
       }
      },
      "text/plain": [
       "product_category_name            0.0\n",
       "product_category_name_english    0.0\n",
       "dtype: float64"
      ]
     },
     "execution_count": 43,
     "metadata": {},
     "output_type": "execute_result"
    }
   ],
   "source": [
    "df_product_category_translations.isna().mean()*100"
   ]
  },
  {
   "cell_type": "markdown",
   "id": "34d22295",
   "metadata": {},
   "source": [
    "#### Order reviews table"
   ]
  },
  {
   "cell_type": "code",
   "execution_count": 44,
   "id": "a54931f2",
   "metadata": {},
   "outputs": [
    {
     "data": {
      "application/vnd.microsoft.datawrangler.viewer.v0+json": {
       "columns": [
        {
         "name": "index",
         "rawType": "object",
         "type": "string"
        },
        {
         "name": "0",
         "rawType": "int64",
         "type": "integer"
        }
       ],
       "ref": "7b6a14f4-8e8a-427c-a7f5-6e0198fa4a00",
       "rows": [
        [
         "order_id",
         "2793"
        ],
        [
         "review_score",
         "3073"
        ],
        [
         "review_comment_title",
         "92714"
        ],
        [
         "review_comment_message",
         "63674"
        ],
        [
         "review_creation_date",
         "9324"
        ],
        [
         "review_answer_timestamp",
         "9341"
        ]
       ],
       "shape": {
        "columns": 1,
        "rows": 6
       }
      },
      "text/plain": [
       "order_id                    2793\n",
       "review_score                3073\n",
       "review_comment_title       92714\n",
       "review_comment_message     63674\n",
       "review_creation_date        9324\n",
       "review_answer_timestamp     9341\n",
       "dtype: int64"
      ]
     },
     "execution_count": 44,
     "metadata": {},
     "output_type": "execute_result"
    }
   ],
   "source": [
    "df_order_reviews.isna().sum()"
   ]
  },
  {
   "cell_type": "markdown",
   "id": "d9a11f04",
   "metadata": {},
   "source": [
    "% of NaN values"
   ]
  },
  {
   "cell_type": "code",
   "execution_count": 45,
   "id": "d6d8e12d",
   "metadata": {},
   "outputs": [
    {
     "data": {
      "application/vnd.microsoft.datawrangler.viewer.v0+json": {
       "columns": [
        {
         "name": "index",
         "rawType": "object",
         "type": "string"
        },
        {
         "name": "0",
         "rawType": "float64",
         "type": "float"
        }
       ],
       "ref": "d5211b1a-aa9e-4c9d-9381-826a7f3feb2b",
       "rows": [
        [
         "order_id",
         "2.6671377686952704"
        ],
        [
         "review_score",
         "2.934520001145924"
        ],
        [
         "review_comment_title",
         "88.53598678367823"
        ],
        [
         "review_comment_message",
         "60.80462953236757"
        ],
        [
         "review_creation_date",
         "8.903828340606767"
        ],
        [
         "review_answer_timestamp",
         "8.920062261862698"
        ]
       ],
       "shape": {
        "columns": 1,
        "rows": 6
       }
      },
      "text/plain": [
       "order_id                    2.667138\n",
       "review_score                2.934520\n",
       "review_comment_title       88.535987\n",
       "review_comment_message     60.804630\n",
       "review_creation_date        8.903828\n",
       "review_answer_timestamp     8.920062\n",
       "dtype: float64"
      ]
     },
     "execution_count": 45,
     "metadata": {},
     "output_type": "execute_result"
    }
   ],
   "source": [
    "df_order_reviews.isna().mean()*100"
   ]
  },
  {
   "cell_type": "code",
   "execution_count": 46,
   "id": "4b1fec98",
   "metadata": {},
   "outputs": [
    {
     "data": {
      "application/vnd.microsoft.datawrangler.viewer.v0+json": {
       "columns": [
        {
         "name": "review_score",
         "rawType": "float64",
         "type": "float"
        },
        {
         "name": "count",
         "rawType": "int64",
         "type": "integer"
        }
       ],
       "ref": "06f57ad7-897e-4ab3-a320-a151c55b1eae",
       "rows": [
        [
         "5.0",
         "57328"
        ],
        [
         "4.0",
         "19142"
        ],
        [
         "1.0",
         "11424"
        ],
        [
         "3.0",
         "8179"
        ],
        [
         "2.0",
         "3151"
        ],
        [
         "43089.0",
         "15"
        ],
        [
         "43331.0",
         "15"
        ],
        [
         "43179.0",
         "14"
        ],
        [
         "43231.0",
         "14"
        ],
        [
         "43315.0",
         "14"
        ],
        [
         "43098.0",
         "14"
        ],
        [
         "43182.0",
         "14"
        ],
        [
         "43169.0",
         "14"
        ],
        [
         "43237.0",
         "13"
        ],
        [
         "42997.0",
         "13"
        ],
        [
         "43328.0",
         "13"
        ],
        [
         "43090.0",
         "12"
        ],
        [
         "43057.0",
         "11"
        ],
        [
         "43309.0",
         "11"
        ],
        [
         "43158.0",
         "11"
        ],
        [
         "43341.0",
         "11"
        ],
        [
         "43241.0",
         "11"
        ],
        [
         "43083.0",
         "11"
        ],
        [
         "43208.0",
         "11"
        ],
        [
         "43183.0",
         "11"
        ],
        [
         "43082.0",
         "11"
        ],
        [
         "43342.0",
         "11"
        ],
        [
         "43068.0",
         "11"
        ],
        [
         "43132.0",
         "11"
        ],
        [
         "43194.0",
         "11"
        ],
        [
         "43236.0",
         "10"
        ],
        [
         "43334.0",
         "10"
        ],
        [
         "43204.0",
         "10"
        ],
        [
         "43159.0",
         "10"
        ],
        [
         "43196.0",
         "10"
        ],
        [
         "43298.0",
         "10"
        ],
        [
         "43235.0",
         "9"
        ],
        [
         "43258.0",
         "9"
        ],
        [
         "43274.0",
         "9"
        ],
        [
         "43270.0",
         "9"
        ],
        [
         "43281.0",
         "9"
        ],
        [
         "43138.0",
         "9"
        ],
        [
         "43133.0",
         "9"
        ],
        [
         "43153.0",
         "9"
        ],
        [
         "43128.0",
         "9"
        ],
        [
         "43307.0",
         "9"
        ],
        [
         "43234.0",
         "9"
        ],
        [
         "43091.0",
         "9"
        ],
        [
         "43203.0",
         "9"
        ],
        [
         "43186.0",
         "9"
        ]
       ],
       "shape": {
        "columns": 1,
        "rows": 573
       }
      },
      "text/plain": [
       "review_score\n",
       "5.0        57328\n",
       "4.0        19142\n",
       "1.0        11424\n",
       "3.0         8179\n",
       "2.0         3151\n",
       "           ...  \n",
       "42753.0        1\n",
       "43302.0        1\n",
       "43301.0        1\n",
       "42944.0        1\n",
       "42816.0        1\n",
       "Name: count, Length: 573, dtype: int64"
      ]
     },
     "execution_count": 46,
     "metadata": {},
     "output_type": "execute_result"
    }
   ],
   "source": [
    "df_order_reviews[\"review_score\"].value_counts()"
   ]
  },
  {
   "cell_type": "code",
   "execution_count": 47,
   "id": "94f547f1",
   "metadata": {},
   "outputs": [
    {
     "data": {
      "application/vnd.microsoft.datawrangler.viewer.v0+json": {
       "columns": [
        {
         "name": "review_score",
         "rawType": "float64",
         "type": "float"
        },
        {
         "name": "count",
         "rawType": "int64",
         "type": "integer"
        }
       ],
       "ref": "50b7c6e4-3dc4-4a5a-b7f6-fee962a91cfc",
       "rows": [
        [
         "5.0",
         "57328"
        ],
        [
         "4.0",
         "19142"
        ],
        [
         "1.0",
         "11424"
        ],
        [
         "3.0",
         "8179"
        ],
        [
         "2.0",
         "3151"
        ],
        [
         "43089.0",
         "15"
        ],
        [
         "43331.0",
         "15"
        ],
        [
         "43179.0",
         "14"
        ],
        [
         "43231.0",
         "14"
        ],
        [
         "43315.0",
         "14"
        ]
       ],
       "shape": {
        "columns": 1,
        "rows": 10
       }
      },
      "text/plain": [
       "review_score\n",
       "5.0        57328\n",
       "4.0        19142\n",
       "1.0        11424\n",
       "3.0         8179\n",
       "2.0         3151\n",
       "43089.0       15\n",
       "43331.0       15\n",
       "43179.0       14\n",
       "43231.0       14\n",
       "43315.0       14\n",
       "Name: count, dtype: int64"
      ]
     },
     "execution_count": 47,
     "metadata": {},
     "output_type": "execute_result"
    }
   ],
   "source": [
    "df_order_reviews[\"review_score\"].value_counts().head(10)"
   ]
  },
  {
   "cell_type": "markdown",
   "id": "78228473",
   "metadata": {},
   "source": [
    "#### 5. Data Cleaning"
   ]
  },
  {
   "cell_type": "markdown",
   "id": "a21f5922",
   "metadata": {},
   "source": [
    "5.1. Remove rows in df_customers table, where either the seller_zip_code_pref or customer_zip_code_pref columns contain more than 6 characters or include letters"
   ]
  },
  {
   "cell_type": "code",
   "execution_count": 48,
   "id": "da2d3ec9",
   "metadata": {},
   "outputs": [
    {
     "data": {
      "application/vnd.microsoft.datawrangler.viewer.v0+json": {
       "columns": [
        {
         "name": "index",
         "rawType": "object",
         "type": "string"
        },
        {
         "name": "0",
         "rawType": "object",
         "type": "unknown"
        }
       ],
       "ref": "506caf25-e9e1-4729-835a-decf4e71fa8a",
       "rows": [
        [
         "customer_id",
         "object"
        ],
        [
         "customer_unique_id",
         "object"
        ],
        [
         "customer_zip_code_prefix",
         "int64"
        ],
        [
         "customer_city",
         "object"
        ],
        [
         "customer_state",
         "object"
        ]
       ],
       "shape": {
        "columns": 1,
        "rows": 5
       }
      },
      "text/plain": [
       "customer_id                 object\n",
       "customer_unique_id          object\n",
       "customer_zip_code_prefix     int64\n",
       "customer_city               object\n",
       "customer_state              object\n",
       "dtype: object"
      ]
     },
     "execution_count": 48,
     "metadata": {},
     "output_type": "execute_result"
    }
   ],
   "source": [
    "df_customers[\"customer_zip_code_prefix\"] = df_customers[\"customer_zip_code_prefix\"].astype(str)\n",
    "df_customers[df_customers[\"customer_zip_code_prefix\"].str.len()>6]\n",
    "df_customers[\"customer_zip_code_prefix\"] = df_customers[\"customer_zip_code_prefix\"].astype(int)\n",
    "df_customers.dtypes"
   ]
  },
  {
   "cell_type": "markdown",
   "id": "895a1700",
   "metadata": {},
   "source": [
    "5.2. Check for Spanish characters in customer_city data."
   ]
  },
  {
   "cell_type": "code",
   "execution_count": null,
   "id": "3d1ff9c4",
   "metadata": {},
   "outputs": [],
   "source": []
  },
  {
   "cell_type": "code",
   "execution_count": 49,
   "id": "f9094b28",
   "metadata": {},
   "outputs": [
    {
     "name": "stdout",
     "output_type": "stream",
     "text": [
      "Number of rows with hispanic chars: 0\n",
      "Number of cities with hispanic chars: 0\n"
     ]
    },
    {
     "data": {
      "application/vnd.microsoft.datawrangler.viewer.v0+json": {
       "columns": [
        {
         "name": "index",
         "rawType": "int64",
         "type": "integer"
        },
        {
         "name": "customer_id",
         "rawType": "object",
         "type": "string"
        },
        {
         "name": "customer_unique_id",
         "rawType": "object",
         "type": "string"
        },
        {
         "name": "customer_zip_code_prefix",
         "rawType": "int64",
         "type": "integer"
        },
        {
         "name": "customer_city",
         "rawType": "object",
         "type": "string"
        },
        {
         "name": "customer_state",
         "rawType": "object",
         "type": "string"
        }
       ],
       "ref": "6796be63-bcd9-46a5-9d6f-7a44f94ba10b",
       "rows": [],
       "shape": {
        "columns": 5,
        "rows": 0
       }
      },
      "text/html": [
       "<div>\n",
       "<style scoped>\n",
       "    .dataframe tbody tr th:only-of-type {\n",
       "        vertical-align: middle;\n",
       "    }\n",
       "\n",
       "    .dataframe tbody tr th {\n",
       "        vertical-align: top;\n",
       "    }\n",
       "\n",
       "    .dataframe thead th {\n",
       "        text-align: right;\n",
       "    }\n",
       "</style>\n",
       "<table border=\"1\" class=\"dataframe\">\n",
       "  <thead>\n",
       "    <tr style=\"text-align: right;\">\n",
       "      <th></th>\n",
       "      <th>customer_id</th>\n",
       "      <th>customer_unique_id</th>\n",
       "      <th>customer_zip_code_prefix</th>\n",
       "      <th>customer_city</th>\n",
       "      <th>customer_state</th>\n",
       "    </tr>\n",
       "  </thead>\n",
       "  <tbody>\n",
       "  </tbody>\n",
       "</table>\n",
       "</div>"
      ],
      "text/plain": [
       "Empty DataFrame\n",
       "Columns: [customer_id, customer_unique_id, customer_zip_code_prefix, customer_city, customer_state]\n",
       "Index: []"
      ]
     },
     "execution_count": 49,
     "metadata": {},
     "output_type": "execute_result"
    }
   ],
   "source": [
    "spanish_chars  = ['á', 'é', 'í', 'ó', 'ú', 'ñ', 'Á', 'É', 'Í', 'Ó', 'Ú', 'Ñ']\n",
    "mask = df_customers[\"customer_city\"].str.contains('|'.join(spanish_chars), na = False)\n",
    "print(f\"Number of rows with hispanic chars: {len(df_customers[mask])}\")\n",
    "print(f\"Number of cities with hispanic chars: {df_customers.loc[mask,\"customer_city\"].nunique()}\")\n",
    "df_customers[mask].head()"
   ]
  },
  {
   "cell_type": "markdown",
   "id": "eaf2c798",
   "metadata": {},
   "source": [
    "5.3. Check for Spanish characters in geolocation_city data, and replacing it"
   ]
  },
  {
   "cell_type": "code",
   "execution_count": 50,
   "id": "41e56a36",
   "metadata": {},
   "outputs": [
    {
     "name": "stdout",
     "output_type": "stream",
     "text": [
      "Number of rows with hispanic chars in geolocation_city: 29719\n",
      "Number of cities with hispanic chars: 1222\n"
     ]
    },
    {
     "data": {
      "application/vnd.microsoft.datawrangler.viewer.v0+json": {
       "columns": [
        {
         "name": "index",
         "rawType": "int64",
         "type": "integer"
        },
        {
         "name": "geolocation_zip_code_prefix",
         "rawType": "int64",
         "type": "integer"
        },
        {
         "name": "geolocation_lat",
         "rawType": "float64",
         "type": "float"
        },
        {
         "name": "geolocation_lng",
         "rawType": "float64",
         "type": "float"
        },
        {
         "name": "geolocation_city",
         "rawType": "object",
         "type": "string"
        },
        {
         "name": "geolocation_state",
         "rawType": "object",
         "type": "string"
        }
       ],
       "ref": "6c29fee8-369b-4985-b6eb-e7cc70d45cd2",
       "rows": [
        [
         "61340",
         "65081",
         "-2.557062065804988",
         "-44.2409179805693",
         "sao luís",
         "MA"
        ],
        [
         "61348",
         "65071",
         "-2.487993904524202",
         "-44.247179938253744",
         "sao luís",
         "MA"
        ],
        [
         "61349",
         "65070",
         "-2.5168399985691807",
         "-44.25706455591012",
         "sao luís",
         "MA"
        ],
        [
         "61352",
         "65068",
         "-2.5010432017209676",
         "-44.235078466479756",
         "sao luís",
         "MA"
        ],
        [
         "61353",
         "65083",
         "-2.5081661200455936",
         "-44.23621619463846",
         "sao luís",
         "MA"
        ]
       ],
       "shape": {
        "columns": 5,
        "rows": 5
       }
      },
      "text/html": [
       "<div>\n",
       "<style scoped>\n",
       "    .dataframe tbody tr th:only-of-type {\n",
       "        vertical-align: middle;\n",
       "    }\n",
       "\n",
       "    .dataframe tbody tr th {\n",
       "        vertical-align: top;\n",
       "    }\n",
       "\n",
       "    .dataframe thead th {\n",
       "        text-align: right;\n",
       "    }\n",
       "</style>\n",
       "<table border=\"1\" class=\"dataframe\">\n",
       "  <thead>\n",
       "    <tr style=\"text-align: right;\">\n",
       "      <th></th>\n",
       "      <th>geolocation_zip_code_prefix</th>\n",
       "      <th>geolocation_lat</th>\n",
       "      <th>geolocation_lng</th>\n",
       "      <th>geolocation_city</th>\n",
       "      <th>geolocation_state</th>\n",
       "    </tr>\n",
       "  </thead>\n",
       "  <tbody>\n",
       "    <tr>\n",
       "      <th>61340</th>\n",
       "      <td>65081</td>\n",
       "      <td>-2.557062</td>\n",
       "      <td>-44.240918</td>\n",
       "      <td>sao luís</td>\n",
       "      <td>MA</td>\n",
       "    </tr>\n",
       "    <tr>\n",
       "      <th>61348</th>\n",
       "      <td>65071</td>\n",
       "      <td>-2.487994</td>\n",
       "      <td>-44.247180</td>\n",
       "      <td>sao luís</td>\n",
       "      <td>MA</td>\n",
       "    </tr>\n",
       "    <tr>\n",
       "      <th>61349</th>\n",
       "      <td>65070</td>\n",
       "      <td>-2.516840</td>\n",
       "      <td>-44.257065</td>\n",
       "      <td>sao luís</td>\n",
       "      <td>MA</td>\n",
       "    </tr>\n",
       "    <tr>\n",
       "      <th>61352</th>\n",
       "      <td>65068</td>\n",
       "      <td>-2.501043</td>\n",
       "      <td>-44.235078</td>\n",
       "      <td>sao luís</td>\n",
       "      <td>MA</td>\n",
       "    </tr>\n",
       "    <tr>\n",
       "      <th>61353</th>\n",
       "      <td>65083</td>\n",
       "      <td>-2.508166</td>\n",
       "      <td>-44.236216</td>\n",
       "      <td>sao luís</td>\n",
       "      <td>MA</td>\n",
       "    </tr>\n",
       "  </tbody>\n",
       "</table>\n",
       "</div>"
      ],
      "text/plain": [
       "       geolocation_zip_code_prefix  geolocation_lat  geolocation_lng  \\\n",
       "61340                        65081        -2.557062       -44.240918   \n",
       "61348                        65071        -2.487994       -44.247180   \n",
       "61349                        65070        -2.516840       -44.257065   \n",
       "61352                        65068        -2.501043       -44.235078   \n",
       "61353                        65083        -2.508166       -44.236216   \n",
       "\n",
       "      geolocation_city geolocation_state  \n",
       "61340         sao luís                MA  \n",
       "61348         sao luís                MA  \n",
       "61349         sao luís                MA  \n",
       "61352         sao luís                MA  \n",
       "61353         sao luís                MA  "
      ]
     },
     "execution_count": 50,
     "metadata": {},
     "output_type": "execute_result"
    }
   ],
   "source": [
    "mask = df_geolocation[\"geolocation_city\"].str.contains('|'.join(spanish_chars))\n",
    "print(f\"Number of rows with hispanic chars in geolocation_city: {len(df_geolocation[mask])}\")\n",
    "print(f\"Number of cities with hispanic chars: {df_geolocation.loc[mask,\"geolocation_city\"].nunique()}\")\n",
    "df_geolocation[mask].head()"
   ]
  },
  {
   "cell_type": "code",
   "execution_count": 51,
   "id": "5ddc8aab",
   "metadata": {},
   "outputs": [],
   "source": [
    "replace_dict = {\n",
    "    'á': 'a', 'é': 'e', 'í': 'i', 'ó': 'o', 'ú': 'u', 'ñ': 'n', 'ç': 'c',\n",
    "    'Á': 'A', 'É': 'E', 'Í': 'I', 'Ó': 'O', 'Ú': 'U', 'Ñ': 'N', 'Ç': 'C'\n",
    "}\n",
    "\n",
    "for old_val, new_val in replace_dict.items():\n",
    "    df_geolocation[\"geolocation_city\"] = df_geolocation[\"geolocation_city\"].str.replace(old_val, new_val)\n",
    "df_geolocation[\"geolocation_city\"] = df_geolocation[\"geolocation_city\"].str.replace(r\"[-'']\", '', regex=True)"
   ]
  },
  {
   "cell_type": "markdown",
   "id": "ddb61b8d",
   "metadata": {},
   "source": [
    "5.4. Check for spanish characters in product's category name"
   ]
  },
  {
   "cell_type": "code",
   "execution_count": 52,
   "id": "a384a668",
   "metadata": {},
   "outputs": [
    {
     "name": "stdout",
     "output_type": "stream",
     "text": [
      "Number of rows with hispanic chars in product_category_name: 0\n",
      "Number of products category name with hispanic chars: 0\n"
     ]
    }
   ],
   "source": [
    "mask = df_products[\"product_category_name\"].str.contains('|'.join(spanish_chars),na = False)\n",
    "\n",
    "print(f\"Number of rows with hispanic chars in product_category_name: {len(df_products[mask])}\")\n",
    "print(f\"Number of products category name with hispanic chars: {df_products.loc[mask,\"product_category_name\"].nunique()}\")"
   ]
  },
  {
   "cell_type": "markdown",
   "id": "f618feba",
   "metadata": {},
   "source": [
    "Checking the result of the code"
   ]
  },
  {
   "cell_type": "code",
   "execution_count": 53,
   "id": "4c0127cd",
   "metadata": {},
   "outputs": [
    {
     "name": "stdout",
     "output_type": "stream",
     "text": [
      "Number of rows with hispanic chars in geolocation citySeries([], Name: geolocation_city, dtype: object)\n"
     ]
    }
   ],
   "source": [
    "mask = df_geolocation[\"geolocation_city\"].str.contains('|'.join(spanish_chars))\n",
    "print(f\"Number of rows with hispanic chars in geolocation city{df_geolocation.loc[mask,\"geolocation_city\"]}\")"
   ]
  },
  {
   "cell_type": "markdown",
   "id": "f0b0e04d",
   "metadata": {},
   "source": [
    "5.5. Identify cases where order purchase date is later than any other date."
   ]
  },
  {
   "cell_type": "code",
   "execution_count": 54,
   "id": "f817bada",
   "metadata": {},
   "outputs": [
    {
     "name": "stdout",
     "output_type": "stream",
     "text": [
      "Number of orders that have later datetime of purchase than datetime of order approved: 0\n",
      "Number of rows that have later dateime of purchase than datetime of order carrier delivered: 166\n",
      "Number of rows taht have later datetime of purchase than datetime of order delivered to customer: 0\n",
      "Number of rows taht have later datetime of purchase than datetime of estimated delivery datetime: 0\n"
     ]
    }
   ],
   "source": [
    "mask_check1 = (df_orders[\"order_purchase_timestamp\"] > df_orders[\"order_approved_at\"]) \n",
    "print(f\"Number of orders that have later datetime of purchase than datetime of order approved: {len(df_orders.loc[mask_check1,])}\")\n",
    "mask_check2 = (df_orders[\"order_purchase_timestamp\"] > df_orders[\"order_delivered_carrier_date\"])\n",
    "print(f\"Number of rows that have later dateime of purchase than datetime of order carrier delivered: {len(df_orders.loc[mask_check2,])}\")\n",
    "order_list = df_orders[\"order_id\"].loc[mask_check2,]\n",
    "mask_check3 = (df_orders[\"order_purchase_timestamp\"] > df_orders[\"order_delivered_customer_date\"])\n",
    "print(f\"Number of rows taht have later datetime of purchase than datetime of order delivered to customer: {len(df_orders.loc[mask_check3,])}\")\n",
    "mask_check4 = (df_orders[\"order_purchase_timestamp\"] > df_orders[\"order_estimated_delivery_date\"])\n",
    "print(f\"Number of rows taht have later datetime of purchase than datetime of estimated delivery datetime: {len(df_orders.loc[mask_check4,])}\")"
   ]
  },
  {
   "cell_type": "code",
   "execution_count": 55,
   "id": "290f2d96",
   "metadata": {},
   "outputs": [
    {
     "data": {
      "text/plain": [
       "<Axes: title={'center': 'Number and status of orders that have later date of purchase than delivered carried date'}, xlabel='order_status'>"
      ]
     },
     "execution_count": 55,
     "metadata": {},
     "output_type": "execute_result"
    },
    {
     "data": {
      "image/png": "[encoded data removed]",
      "text/plain": [
       "<Figure size 640x480 with 1 Axes>"
      ]
     },
     "metadata": {},
     "output_type": "display_data"
    }
   ],
   "source": [
    "df_orders[df_orders[\"order_id\"].isin(order_list)][\"order_status\"].value_counts().plot.bar(title = \"Number and status of orders that have later date of purchase than delivered carried date\",\n",
    "                                                                                          rot = 0)"
   ]
  },
  {
   "cell_type": "markdown",
   "id": "7d5d4362",
   "metadata": {},
   "source": [
    "Possible causes for this discrepancy:\n",
    "- Data pipeline processing delays, ETL jobs running with latency\n",
    "- System timing errors, clock synchronization problems between different systems"
   ]
  },
  {
   "cell_type": "markdown",
   "id": "155c158a",
   "metadata": {},
   "source": [
    "5.6. Check if there are cases where product_weight or product_length or height or width <= 0"
   ]
  },
  {
   "cell_type": "code",
   "execution_count": 56,
   "id": "a0f631b4",
   "metadata": {},
   "outputs": [
    {
     "name": "stdout",
     "output_type": "stream",
     "text": [
      "Number of products that have product_weight <=0: 4\n",
      "Number of products that have product_length <=0: 0\n",
      "Number of products that have product_heigh <=0: 0\n",
      "Number of products that have product_width <=0: 0\n"
     ]
    }
   ],
   "source": [
    "mask = df_products[\"product_weight_g\"] <= 0 \n",
    "print(f\"Number of products that have product_weight <=0: {len(df_products.loc[mask])}\")\n",
    "mask = df_products[\"product_length_cm\"] <= 0\n",
    "print(f\"Number of products that have product_length <=0: {len(df_products.loc[mask])}\")\n",
    "mask = df_products[\"product_height_cm\"] <= 0\n",
    "print(f\"Number of products that have product_heigh <=0: {len(df_products.loc[mask])}\")\n",
    "mask = df_products[\"product_width_cm\"] <= 0\n",
    "print(f\"Number of products that have product_width <=0: {len(df_products.loc[mask])}\")"
   ]
  },
  {
   "cell_type": "markdown",
   "id": "1565df95",
   "metadata": {},
   "source": [
    "4 products have weight equal to 0, let's list these products"
   ]
  },
  {
   "cell_type": "code",
   "execution_count": 57,
   "id": "23f23e22",
   "metadata": {},
   "outputs": [
    {
     "data": {
      "application/vnd.microsoft.datawrangler.viewer.v0+json": {
       "columns": [
        {
         "name": "index",
         "rawType": "int64",
         "type": "integer"
        },
        {
         "name": "product_id",
         "rawType": "object",
         "type": "string"
        },
        {
         "name": "product_category_name",
         "rawType": "object",
         "type": "string"
        },
        {
         "name": "product_name_length",
         "rawType": "float64",
         "type": "float"
        },
        {
         "name": "product_description_length",
         "rawType": "float64",
         "type": "float"
        },
        {
         "name": "product_photos_qty",
         "rawType": "float64",
         "type": "float"
        },
        {
         "name": "product_weight_g",
         "rawType": "float64",
         "type": "float"
        },
        {
         "name": "product_length_cm",
         "rawType": "float64",
         "type": "float"
        },
        {
         "name": "product_height_cm",
         "rawType": "float64",
         "type": "float"
        },
        {
         "name": "product_width_cm",
         "rawType": "float64",
         "type": "float"
        }
       ],
       "ref": "9ec03934-ef4e-4d99-9622-57a330d7a513",
       "rows": [
        [
         "7099",
         "36ba42dd187055e1fbe943b2d11430ca",
         "cama_mesa_banho",
         "53.0",
         "528.0",
         "1.0",
         "0.0",
         "30.0",
         "25.0",
         "30.0"
        ],
        [
         "16580",
         "8038040ee2a71048d4bdbbdc985b69ab",
         "cama_mesa_banho",
         "48.0",
         "528.0",
         "1.0",
         "0.0",
         "30.0",
         "25.0",
         "30.0"
        ],
        [
         "16721",
         "81781c0fed9fe1ad6e8c81fca1e1cb08",
         "cama_mesa_banho",
         "51.0",
         "529.0",
         "1.0",
         "0.0",
         "30.0",
         "25.0",
         "30.0"
        ],
        [
         "29660",
         "e673e90efa65a5409ff4196c038bb5af",
         "cama_mesa_banho",
         "53.0",
         "528.0",
         "1.0",
         "0.0",
         "30.0",
         "25.0",
         "30.0"
        ]
       ],
       "shape": {
        "columns": 9,
        "rows": 4
       }
      },
      "text/html": [
       "<div>\n",
       "<style scoped>\n",
       "    .dataframe tbody tr th:only-of-type {\n",
       "        vertical-align: middle;\n",
       "    }\n",
       "\n",
       "    .dataframe tbody tr th {\n",
       "        vertical-align: top;\n",
       "    }\n",
       "\n",
       "    .dataframe thead th {\n",
       "        text-align: right;\n",
       "    }\n",
       "</style>\n",
       "<table border=\"1\" class=\"dataframe\">\n",
       "  <thead>\n",
       "    <tr style=\"text-align: right;\">\n",
       "      <th></th>\n",
       "      <th>product_id</th>\n",
       "      <th>product_category_name</th>\n",
       "      <th>product_name_length</th>\n",
       "      <th>product_description_length</th>\n",
       "      <th>product_photos_qty</th>\n",
       "      <th>product_weight_g</th>\n",
       "      <th>product_length_cm</th>\n",
       "      <th>product_height_cm</th>\n",
       "      <th>product_width_cm</th>\n",
       "    </tr>\n",
       "  </thead>\n",
       "  <tbody>\n",
       "    <tr>\n",
       "      <th>7099</th>\n",
       "      <td>36ba42dd187055e1fbe943b2d11430ca</td>\n",
       "      <td>cama_mesa_banho</td>\n",
       "      <td>53.0</td>\n",
       "      <td>528.0</td>\n",
       "      <td>1.0</td>\n",
       "      <td>0.0</td>\n",
       "      <td>30.0</td>\n",
       "      <td>25.0</td>\n",
       "      <td>30.0</td>\n",
       "    </tr>\n",
       "    <tr>\n",
       "      <th>16580</th>\n",
       "      <td>8038040ee2a71048d4bdbbdc985b69ab</td>\n",
       "      <td>cama_mesa_banho</td>\n",
       "      <td>48.0</td>\n",
       "      <td>528.0</td>\n",
       "      <td>1.0</td>\n",
       "      <td>0.0</td>\n",
       "      <td>30.0</td>\n",
       "      <td>25.0</td>\n",
       "      <td>30.0</td>\n",
       "    </tr>\n",
       "    <tr>\n",
       "      <th>16721</th>\n",
       "      <td>81781c0fed9fe1ad6e8c81fca1e1cb08</td>\n",
       "      <td>cama_mesa_banho</td>\n",
       "      <td>51.0</td>\n",
       "      <td>529.0</td>\n",
       "      <td>1.0</td>\n",
       "      <td>0.0</td>\n",
       "      <td>30.0</td>\n",
       "      <td>25.0</td>\n",
       "      <td>30.0</td>\n",
       "    </tr>\n",
       "    <tr>\n",
       "      <th>29660</th>\n",
       "      <td>e673e90efa65a5409ff4196c038bb5af</td>\n",
       "      <td>cama_mesa_banho</td>\n",
       "      <td>53.0</td>\n",
       "      <td>528.0</td>\n",
       "      <td>1.0</td>\n",
       "      <td>0.0</td>\n",
       "      <td>30.0</td>\n",
       "      <td>25.0</td>\n",
       "      <td>30.0</td>\n",
       "    </tr>\n",
       "  </tbody>\n",
       "</table>\n",
       "</div>"
      ],
      "text/plain": [
       "                             product_id product_category_name  \\\n",
       "7099   36ba42dd187055e1fbe943b2d11430ca       cama_mesa_banho   \n",
       "16580  8038040ee2a71048d4bdbbdc985b69ab       cama_mesa_banho   \n",
       "16721  81781c0fed9fe1ad6e8c81fca1e1cb08       cama_mesa_banho   \n",
       "29660  e673e90efa65a5409ff4196c038bb5af       cama_mesa_banho   \n",
       "\n",
       "       product_name_length  product_description_length  product_photos_qty  \\\n",
       "7099                  53.0                       528.0                 1.0   \n",
       "16580                 48.0                       528.0                 1.0   \n",
       "16721                 51.0                       529.0                 1.0   \n",
       "29660                 53.0                       528.0                 1.0   \n",
       "\n",
       "       product_weight_g  product_length_cm  product_height_cm  \\\n",
       "7099                0.0               30.0               25.0   \n",
       "16580               0.0               30.0               25.0   \n",
       "16721               0.0               30.0               25.0   \n",
       "29660               0.0               30.0               25.0   \n",
       "\n",
       "       product_width_cm  \n",
       "7099               30.0  \n",
       "16580              30.0  \n",
       "16721              30.0  \n",
       "29660              30.0  "
      ]
     },
     "execution_count": 57,
     "metadata": {},
     "output_type": "execute_result"
    }
   ],
   "source": [
    "df_products[df_products[\"product_weight_g\"] == 0]"
   ]
  },
  {
   "cell_type": "markdown",
   "id": "e6bb4719",
   "metadata": {},
   "source": [
    "And let's see what's the product category means in english"
   ]
  },
  {
   "cell_type": "code",
   "execution_count": 58,
   "id": "6a71b6b6",
   "metadata": {},
   "outputs": [
    {
     "data": {
      "application/vnd.microsoft.datawrangler.viewer.v0+json": {
       "columns": [
        {
         "name": "index",
         "rawType": "int64",
         "type": "integer"
        },
        {
         "name": "product_category_name",
         "rawType": "object",
         "type": "string"
        },
        {
         "name": "product_category_name_english",
         "rawType": "object",
         "type": "string"
        }
       ],
       "ref": "d1f9c041-734c-4674-90d1-2d2f84b9d95e",
       "rows": [
        [
         "3",
         "cama_mesa_banho",
         "bed_bath_table"
        ]
       ],
       "shape": {
        "columns": 2,
        "rows": 1
       }
      },
      "text/html": [
       "<div>\n",
       "<style scoped>\n",
       "    .dataframe tbody tr th:only-of-type {\n",
       "        vertical-align: middle;\n",
       "    }\n",
       "\n",
       "    .dataframe tbody tr th {\n",
       "        vertical-align: top;\n",
       "    }\n",
       "\n",
       "    .dataframe thead th {\n",
       "        text-align: right;\n",
       "    }\n",
       "</style>\n",
       "<table border=\"1\" class=\"dataframe\">\n",
       "  <thead>\n",
       "    <tr style=\"text-align: right;\">\n",
       "      <th></th>\n",
       "      <th>product_category_name</th>\n",
       "      <th>product_category_name_english</th>\n",
       "    </tr>\n",
       "  </thead>\n",
       "  <tbody>\n",
       "    <tr>\n",
       "      <th>3</th>\n",
       "      <td>cama_mesa_banho</td>\n",
       "      <td>bed_bath_table</td>\n",
       "    </tr>\n",
       "  </tbody>\n",
       "</table>\n",
       "</div>"
      ],
      "text/plain": [
       "  product_category_name product_category_name_english\n",
       "3       cama_mesa_banho                bed_bath_table"
      ]
     },
     "execution_count": 58,
     "metadata": {},
     "output_type": "execute_result"
    }
   ],
   "source": [
    "df_product_category_translations[df_product_category_translations[\"product_category_name\"] == \"cama_mesa_banho\"]"
   ]
  },
  {
   "cell_type": "markdown",
   "id": "1fda38d4",
   "metadata": {},
   "source": [
    "Possible reasons why 4 products in the 'bed_bath_table' category show 0 gram weight:\n",
    "- Data entry errors, missing weight values defaulted to 0 in the system\n",
    "- Database synchronization issues, weight values not properly updated across systems"
   ]
  },
  {
   "cell_type": "markdown",
   "id": "79aabd26",
   "metadata": {},
   "source": [
    "5.7. Checking how many records in df_order_items have price or freight_value less than or equal to 0"
   ]
  },
  {
   "cell_type": "code",
   "execution_count": 59,
   "id": "50c246b2",
   "metadata": {},
   "outputs": [
    {
     "name": "stdout",
     "output_type": "stream",
     "text": [
      "Number of items which have price lower or equal to zero: 0\n",
      "Number of items which have freight value lower or equal to zero: 383\n"
     ]
    }
   ],
   "source": [
    "mask = (df_order_items[\"price\"] <= 0) #| \n",
    "print(f\"Number of items which have price lower or equal to zero: {len(df_order_items[mask])}\")\n",
    "mask = (df_order_items[\"freight_value\"] <= 0)\n",
    "print(f\"Number of items which have freight value lower or equal to zero: {len(df_order_items[mask])}\")"
   ]
  },
  {
   "cell_type": "markdown",
   "id": "5338feae",
   "metadata": {},
   "source": [
    "Potential causes of free customer delivery:\n",
    "- Free shipping promotions\n",
    "- Membership benefits"
   ]
  },
  {
   "cell_type": "markdown",
   "id": "d3a90b64",
   "metadata": {},
   "source": [
    "#### 6. Filling NaN's & Data Calculations"
   ]
  },
  {
   "cell_type": "markdown",
   "id": "b4fab0f3",
   "metadata": {},
   "source": [
    "6.1. Filling missing customer location data (customer_city and customer_state) using zip code mapping from the geolocation table, or if the zip code has completed data in another row, then I retrieve the data from there."
   ]
  },
  {
   "cell_type": "code",
   "execution_count": 60,
   "id": "838b2695",
   "metadata": {},
   "outputs": [
    {
     "name": "stdout",
     "output_type": "stream",
     "text": [
      "Number of customer_zip_code entries lacking any complete record in the customers table (with both state and country populated): 1692\n"
     ]
    },
    {
     "data": {
      "application/vnd.microsoft.datawrangler.viewer.v0+json": {
       "columns": [
        {
         "name": "index",
         "rawType": "int64",
         "type": "integer"
        },
        {
         "name": "customer_zip_code_prefix",
         "rawType": "int64",
         "type": "integer"
        },
        {
         "name": "l",
         "rawType": "int64",
         "type": "integer"
        }
       ],
       "ref": "6c79e60a-700f-4c0a-a34f-267e4b8e50b1",
       "rows": [
        [
         "335",
         "18606",
         "6"
        ],
        [
         "149",
         "4657",
         "6"
        ],
        [
         "1014",
         "78115",
         "6"
        ],
        [
         "172",
         "5203",
         "5"
        ],
        [
         "12",
         "1331",
         "5"
        ],
        [
         "1169",
         "92480",
         "5"
        ],
        [
         "64",
         "2840",
         "5"
        ],
        [
         "478",
         "36325",
         "4"
        ],
        [
         "873",
         "70275",
         "4"
        ],
        [
         "771",
         "62570",
         "4"
        ],
        [
         "550",
         "42802",
         "4"
        ],
        [
         "119",
         "4046",
         "4"
        ],
        [
         "919",
         "73010",
         "4"
        ],
        [
         "749",
         "60763",
         "4"
        ],
        [
         "917",
         "72920",
         "4"
        ],
        [
         "72",
         "2957",
         "4"
        ],
        [
         "905",
         "72603",
         "4"
        ],
        [
         "179",
         "5465",
         "4"
        ],
        [
         "215",
         "7804",
         "4"
        ],
        [
         "1150",
         "89510",
         "4"
        ],
        [
         "151",
         "4686",
         "4"
        ],
        [
         "1044",
         "79380",
         "4"
        ],
        [
         "548",
         "41710",
         "4"
        ],
        [
         "155",
         "4708",
         "3"
        ],
        [
         "286",
         "13612",
         "3"
        ],
        [
         "18",
         "2055",
         "3"
        ],
        [
         "279",
         "13012",
         "3"
        ],
        [
         "754",
         "61652",
         "3"
        ],
        [
         "234",
         "8551",
         "3"
        ],
        [
         "171",
         "5201",
         "3"
        ],
        [
         "564",
         "44710",
         "3"
        ],
        [
         "165",
         "5041",
         "3"
        ],
        [
         "369",
         "24876",
         "3"
        ],
        [
         "166",
         "5046",
         "3"
        ],
        [
         "632",
         "53415",
         "3"
        ],
        [
         "332",
         "18304",
         "3"
        ],
        [
         "180",
         "5503",
         "3"
        ],
        [
         "646",
         "54720",
         "3"
        ],
        [
         "618",
         "50970",
         "3"
        ],
        [
         "91",
         "3358",
         "3"
        ],
        [
         "652",
         "55155",
         "3"
        ],
        [
         "655",
         "55350",
         "3"
        ],
        [
         "735",
         "59612",
         "3"
        ],
        [
         "744",
         "60431",
         "3"
        ],
        [
         "745",
         "60526",
         "3"
        ],
        [
         "97",
         "3445",
         "3"
        ],
        [
         "5",
         "1030",
         "3"
        ],
        [
         "773",
         "62760",
         "3"
        ],
        [
         "816",
         "65015",
         "3"
        ],
        [
         "100",
         "3480",
         "3"
        ]
       ],
       "shape": {
        "columns": 2,
        "rows": 1246
       }
      },
      "text/html": [
       "<div>\n",
       "<style scoped>\n",
       "    .dataframe tbody tr th:only-of-type {\n",
       "        vertical-align: middle;\n",
       "    }\n",
       "\n",
       "    .dataframe tbody tr th {\n",
       "        vertical-align: top;\n",
       "    }\n",
       "\n",
       "    .dataframe thead th {\n",
       "        text-align: right;\n",
       "    }\n",
       "</style>\n",
       "<table border=\"1\" class=\"dataframe\">\n",
       "  <thead>\n",
       "    <tr style=\"text-align: right;\">\n",
       "      <th></th>\n",
       "      <th>customer_zip_code_prefix</th>\n",
       "      <th>l</th>\n",
       "    </tr>\n",
       "  </thead>\n",
       "  <tbody>\n",
       "    <tr>\n",
       "      <th>335</th>\n",
       "      <td>18606</td>\n",
       "      <td>6</td>\n",
       "    </tr>\n",
       "    <tr>\n",
       "      <th>149</th>\n",
       "      <td>4657</td>\n",
       "      <td>6</td>\n",
       "    </tr>\n",
       "    <tr>\n",
       "      <th>1014</th>\n",
       "      <td>78115</td>\n",
       "      <td>6</td>\n",
       "    </tr>\n",
       "    <tr>\n",
       "      <th>172</th>\n",
       "      <td>5203</td>\n",
       "      <td>5</td>\n",
       "    </tr>\n",
       "    <tr>\n",
       "      <th>12</th>\n",
       "      <td>1331</td>\n",
       "      <td>5</td>\n",
       "    </tr>\n",
       "    <tr>\n",
       "      <th>...</th>\n",
       "      <td>...</td>\n",
       "      <td>...</td>\n",
       "    </tr>\n",
       "    <tr>\n",
       "      <th>1209</th>\n",
       "      <td>96460</td>\n",
       "      <td>1</td>\n",
       "    </tr>\n",
       "    <tr>\n",
       "      <th>1210</th>\n",
       "      <td>96540</td>\n",
       "      <td>1</td>\n",
       "    </tr>\n",
       "    <tr>\n",
       "      <th>1211</th>\n",
       "      <td>96824</td>\n",
       "      <td>1</td>\n",
       "    </tr>\n",
       "    <tr>\n",
       "      <th>1212</th>\n",
       "      <td>96843</td>\n",
       "      <td>1</td>\n",
       "    </tr>\n",
       "    <tr>\n",
       "      <th>15</th>\n",
       "      <td>1449</td>\n",
       "      <td>1</td>\n",
       "    </tr>\n",
       "  </tbody>\n",
       "</table>\n",
       "<p>1246 rows × 2 columns</p>\n",
       "</div>"
      ],
      "text/plain": [
       "      customer_zip_code_prefix  l\n",
       "335                      18606  6\n",
       "149                       4657  6\n",
       "1014                     78115  6\n",
       "172                       5203  5\n",
       "12                        1331  5\n",
       "...                        ... ..\n",
       "1209                     96460  1\n",
       "1210                     96540  1\n",
       "1211                     96824  1\n",
       "1212                     96843  1\n",
       "15                        1449  1\n",
       "\n",
       "[1246 rows x 2 columns]"
      ]
     },
     "execution_count": 60,
     "metadata": {},
     "output_type": "execute_result"
    }
   ],
   "source": [
    "zip_code_not_empty = df_customers[(df_customers['customer_state'].notna()) & (df_customers['customer_city'].notna())]['customer_zip_code_prefix'].unique() \n",
    "\n",
    "filtered = df_customers[~df_customers['customer_zip_code_prefix'].isin(zip_code_not_empty)]\n",
    "result = filtered.groupby(\"customer_zip_code_prefix\").size().reset_index(name=\"l\")\n",
    "print(f\"Number of customer_zip_code entries lacking any complete record in the customers table (with both state and country populated): {result[\"l\"].sum()}\")\n",
    "result.sort_values(by = [\"l\"], ascending = False)"
   ]
  },
  {
   "cell_type": "markdown",
   "id": "d3e00867",
   "metadata": {},
   "source": [
    "1246 distinct customer_zip_code_prefix values show no populated state or city fields in the customers dataset, comprising 1692 affected records in total <br><br>\n",
    "Now, extract geolocation data for these specific zip codes from the geolocation table, as they lack duplicate records in the customers dataset"
   ]
  },
  {
   "cell_type": "code",
   "execution_count": 61,
   "id": "1abac390",
   "metadata": {},
   "outputs": [
    {
     "data": {
      "text/plain": [
       "[1003, 1016, 1021, 1022, 1023]"
      ]
     },
     "execution_count": 61,
     "metadata": {},
     "output_type": "execute_result"
    }
   ],
   "source": [
    "zip_code_list_of_full_nulls = result[\"customer_zip_code_prefix\"].to_list()\n",
    "zip_code_list_of_full_nulls[:5]"
   ]
  },
  {
   "cell_type": "code",
   "execution_count": 62,
   "id": "8aae713a",
   "metadata": {},
   "outputs": [
    {
     "name": "stdout",
     "output_type": "stream",
     "text": [
      "Before filling NaN values: 67967\n",
      "After filling NaN values: 69659\n"
     ]
    }
   ],
   "source": [
    "print(f\"Before filling NaN values: {(df_customers[\"customer_state\"].notna().sum())}\")\n",
    "mask = df_customers[\"customer_zip_code_prefix\"].isin(zip_code_list_of_full_nulls)\n",
    "df_customers.loc[mask,\"customer_state\"] = df_customers.loc[mask,\"customer_state\"].fillna(df_geolocation[\"geolocation_state\"])\n",
    "df_customers.loc[mask,\"customer_city\"] = df_customers.loc[mask,\"customer_city\"].fillna(df_geolocation[\"geolocation_city\"])\n",
    "df_customers[mask]\n",
    "print(f\"After filling NaN values: {df_customers[\"customer_state\"].notna().sum()}\")"
   ]
  },
  {
   "cell_type": "markdown",
   "id": "e23152f1",
   "metadata": {},
   "source": [
    "69659 - 67967 = 1692 → This matches the count of customer_zip_code_prefix values that previously had NO complete records and have now been filled"
   ]
  },
  {
   "cell_type": "markdown",
   "id": "80aadbe5",
   "metadata": {},
   "source": [
    "After this I check how many customer_zip_code_prefix values have NULL entered in city and state, but also have completed data in another row."
   ]
  },
  {
   "cell_type": "code",
   "execution_count": 63,
   "id": "9cbee233",
   "metadata": {},
   "outputs": [
    {
     "name": "stdout",
     "output_type": "stream",
     "text": [
      "Remaining missing data for customer_state before filling: 29782\n",
      "Remaining missing data for customer_city before filling: 29782\n"
     ]
    }
   ],
   "source": [
    "print(f\"Remaining missing data for customer_state before filling: {df_customers[\"customer_state\"].isna().sum()}\")\n",
    "print(f\"Remaining missing data for customer_city before filling: {df_customers[\"customer_city\"].isna().sum()}\")"
   ]
  },
  {
   "cell_type": "code",
   "execution_count": 64,
   "id": "23b2252f",
   "metadata": {},
   "outputs": [
    {
     "name": "stdout",
     "output_type": "stream",
     "text": [
      "Remaining missing data for customer_state after filling:  0\n",
      "Remaining missing data for customer_city after filling: 0\n"
     ]
    }
   ],
   "source": [
    "df_customers[\"customer_state\"] = df_customers.groupby(by=\"customer_zip_code_prefix\")[\"customer_state\"].transform(\"first\")\n",
    "df_customers[\"customer_city\"] = df_customers.groupby(by=\"customer_zip_code_prefix\")[\"customer_city\"].transform(\"first\")\n",
    "\n",
    "print(f\"Remaining missing data for customer_state after filling:  {df_customers[\"customer_state\"].isna().sum()}\")\n",
    "print(f\"Remaining missing data for customer_city after filling: {df_customers[\"customer_city\"].isna().sum()}\")\n"
   ]
  },
  {
   "cell_type": "markdown",
   "id": "ed40dcae",
   "metadata": {},
   "source": [
    "Confirmation of no NaN values after filling "
   ]
  },
  {
   "cell_type": "code",
   "execution_count": 65,
   "id": "514afd12",
   "metadata": {},
   "outputs": [
    {
     "data": {
      "application/vnd.microsoft.datawrangler.viewer.v0+json": {
       "columns": [
        {
         "name": "index",
         "rawType": "object",
         "type": "string"
        },
        {
         "name": "0",
         "rawType": "int64",
         "type": "integer"
        }
       ],
       "ref": "3d306c97-86a9-4638-9896-c79128651b64",
       "rows": [
        [
         "customer_id",
         "0"
        ],
        [
         "customer_unique_id",
         "0"
        ],
        [
         "customer_zip_code_prefix",
         "0"
        ],
        [
         "customer_city",
         "0"
        ],
        [
         "customer_state",
         "0"
        ]
       ],
       "shape": {
        "columns": 1,
        "rows": 5
       }
      },
      "text/plain": [
       "customer_id                 0\n",
       "customer_unique_id          0\n",
       "customer_zip_code_prefix    0\n",
       "customer_city               0\n",
       "customer_state              0\n",
       "dtype: int64"
      ]
     },
     "execution_count": 65,
     "metadata": {},
     "output_type": "execute_result"
    }
   ],
   "source": [
    "df_customers.isna().sum()"
   ]
  },
  {
   "cell_type": "markdown",
   "id": "67688397",
   "metadata": {},
   "source": [
    "6.2. Filling missing values in the seller_city column from the 'olist_sellers_dataset' table based on preserved seller_zip_code_prefix"
   ]
  },
  {
   "cell_type": "markdown",
   "id": "abc02db6",
   "metadata": {},
   "source": [
    "Some rows with empty seller city"
   ]
  },
  {
   "cell_type": "code",
   "execution_count": 66,
   "id": "8d0b1ae0",
   "metadata": {},
   "outputs": [
    {
     "data": {
      "application/vnd.microsoft.datawrangler.viewer.v0+json": {
       "columns": [
        {
         "name": "index",
         "rawType": "int64",
         "type": "integer"
        },
        {
         "name": "seller_id",
         "rawType": "object",
         "type": "string"
        },
        {
         "name": "seller_zip_code_prefix",
         "rawType": "int64",
         "type": "integer"
        },
        {
         "name": "seller_city",
         "rawType": "object",
         "type": "unknown"
        },
        {
         "name": "seller_state",
         "rawType": "object",
         "type": "string"
        }
       ],
       "ref": "67b705d5-a1d8-4616-b437-e5e0e99f487d",
       "rows": [
        [
         "3",
         "002100f778ceb8431b7a1020ff7ab48f",
         "14405",
         null,
         "SP"
        ],
        [
         "5",
         "004c9cd9d87a3c30c522c48c4fc07416",
         "14940",
         null,
         "SP"
        ],
        [
         "7",
         "00ab3eff1b5192e5f1a63bcecfee11c8",
         "4164",
         null,
         "SP"
        ],
        [
         "13",
         "011b0eaba87386a2ae96a7d32bb531d1",
         "17580",
         null,
         "SP"
        ],
        [
         "18",
         "0176f73cc1195f367f7b32db1e5b3aa8",
         "14940",
         null,
         "SP"
        ]
       ],
       "shape": {
        "columns": 4,
        "rows": 5
       }
      },
      "text/html": [
       "<div>\n",
       "<style scoped>\n",
       "    .dataframe tbody tr th:only-of-type {\n",
       "        vertical-align: middle;\n",
       "    }\n",
       "\n",
       "    .dataframe tbody tr th {\n",
       "        vertical-align: top;\n",
       "    }\n",
       "\n",
       "    .dataframe thead th {\n",
       "        text-align: right;\n",
       "    }\n",
       "</style>\n",
       "<table border=\"1\" class=\"dataframe\">\n",
       "  <thead>\n",
       "    <tr style=\"text-align: right;\">\n",
       "      <th></th>\n",
       "      <th>seller_id</th>\n",
       "      <th>seller_zip_code_prefix</th>\n",
       "      <th>seller_city</th>\n",
       "      <th>seller_state</th>\n",
       "    </tr>\n",
       "  </thead>\n",
       "  <tbody>\n",
       "    <tr>\n",
       "      <th>3</th>\n",
       "      <td>002100f778ceb8431b7a1020ff7ab48f</td>\n",
       "      <td>14405</td>\n",
       "      <td>None</td>\n",
       "      <td>SP</td>\n",
       "    </tr>\n",
       "    <tr>\n",
       "      <th>5</th>\n",
       "      <td>004c9cd9d87a3c30c522c48c4fc07416</td>\n",
       "      <td>14940</td>\n",
       "      <td>None</td>\n",
       "      <td>SP</td>\n",
       "    </tr>\n",
       "    <tr>\n",
       "      <th>7</th>\n",
       "      <td>00ab3eff1b5192e5f1a63bcecfee11c8</td>\n",
       "      <td>4164</td>\n",
       "      <td>None</td>\n",
       "      <td>SP</td>\n",
       "    </tr>\n",
       "    <tr>\n",
       "      <th>13</th>\n",
       "      <td>011b0eaba87386a2ae96a7d32bb531d1</td>\n",
       "      <td>17580</td>\n",
       "      <td>None</td>\n",
       "      <td>SP</td>\n",
       "    </tr>\n",
       "    <tr>\n",
       "      <th>18</th>\n",
       "      <td>0176f73cc1195f367f7b32db1e5b3aa8</td>\n",
       "      <td>14940</td>\n",
       "      <td>None</td>\n",
       "      <td>SP</td>\n",
       "    </tr>\n",
       "  </tbody>\n",
       "</table>\n",
       "</div>"
      ],
      "text/plain": [
       "                           seller_id  seller_zip_code_prefix seller_city  \\\n",
       "3   002100f778ceb8431b7a1020ff7ab48f                   14405        None   \n",
       "5   004c9cd9d87a3c30c522c48c4fc07416                   14940        None   \n",
       "7   00ab3eff1b5192e5f1a63bcecfee11c8                    4164        None   \n",
       "13  011b0eaba87386a2ae96a7d32bb531d1                   17580        None   \n",
       "18  0176f73cc1195f367f7b32db1e5b3aa8                   14940        None   \n",
       "\n",
       "   seller_state  \n",
       "3            SP  \n",
       "5            SP  \n",
       "7            SP  \n",
       "13           SP  \n",
       "18           SP  "
      ]
     },
     "execution_count": 66,
     "metadata": {},
     "output_type": "execute_result"
    }
   ],
   "source": [
    "mask = df_sellers[\"seller_city\"].isna()\n",
    "df_sellers.loc[mask].head()"
   ]
  },
  {
   "cell_type": "code",
   "execution_count": 67,
   "id": "3093fd98",
   "metadata": {},
   "outputs": [
    {
     "data": {
      "application/vnd.microsoft.datawrangler.viewer.v0+json": {
       "columns": [
        {
         "name": "index",
         "rawType": "int64",
         "type": "integer"
        },
        {
         "name": "index",
         "rawType": "int64",
         "type": "integer"
        },
        {
         "name": "seller_id",
         "rawType": "object",
         "type": "string"
        },
        {
         "name": "seller_zip_code_prefix",
         "rawType": "int64",
         "type": "integer"
        },
        {
         "name": "seller_city",
         "rawType": "object",
         "type": "unknown"
        },
        {
         "name": "seller_state",
         "rawType": "object",
         "type": "string"
        }
       ],
       "ref": "12bcd91c-8c99-498d-ba0f-fc655af5f558",
       "rows": [
        [
         "1088",
         "1088",
         "5962468f885ea01a1b6a97a218797b0a",
         "82040",
         null,
         "PR"
        ]
       ],
       "shape": {
        "columns": 5,
        "rows": 1
       }
      },
      "text/html": [
       "<div>\n",
       "<style scoped>\n",
       "    .dataframe tbody tr th:only-of-type {\n",
       "        vertical-align: middle;\n",
       "    }\n",
       "\n",
       "    .dataframe tbody tr th {\n",
       "        vertical-align: top;\n",
       "    }\n",
       "\n",
       "    .dataframe thead th {\n",
       "        text-align: right;\n",
       "    }\n",
       "</style>\n",
       "<table border=\"1\" class=\"dataframe\">\n",
       "  <thead>\n",
       "    <tr style=\"text-align: right;\">\n",
       "      <th></th>\n",
       "      <th>index</th>\n",
       "      <th>seller_id</th>\n",
       "      <th>seller_zip_code_prefix</th>\n",
       "      <th>seller_city</th>\n",
       "      <th>seller_state</th>\n",
       "    </tr>\n",
       "  </thead>\n",
       "  <tbody>\n",
       "    <tr>\n",
       "      <th>1088</th>\n",
       "      <td>1088</td>\n",
       "      <td>5962468f885ea01a1b6a97a218797b0a</td>\n",
       "      <td>82040</td>\n",
       "      <td>NaN</td>\n",
       "      <td>PR</td>\n",
       "    </tr>\n",
       "  </tbody>\n",
       "</table>\n",
       "</div>"
      ],
      "text/plain": [
       "      index                         seller_id  seller_zip_code_prefix  \\\n",
       "1088   1088  5962468f885ea01a1b6a97a218797b0a                   82040   \n",
       "\n",
       "     seller_city seller_state  \n",
       "1088         NaN           PR  "
      ]
     },
     "execution_count": 67,
     "metadata": {},
     "output_type": "execute_result"
    }
   ],
   "source": [
    "df_geolocation.reset_index(inplace = True)\n",
    "df_sellers.reset_index(inplace = True)\n",
    "mapping = df_geolocation.groupby(\"geolocation_zip_code_prefix\")[\"geolocation_city\"].first()\n",
    "df_sellers.loc[mask,\"seller_city\"] = df_sellers.loc[mask,\"seller_city\"].fillna(df_sellers[\"seller_zip_code_prefix\"].map(mapping))\n",
    "df_sellers[df_sellers[\"seller_city\"].isna()]"
   ]
  },
  {
   "cell_type": "markdown",
   "id": "88ceed72",
   "metadata": {},
   "source": [
    "There is one seller zip code value = 82040 for which no matching record was found in the geolocation table<br>\n",
    "Let's verify if there are indeed no rows with this corresponding value in df_geolocation"
   ]
  },
  {
   "cell_type": "code",
   "execution_count": 68,
   "id": "1dd1dab5",
   "metadata": {},
   "outputs": [
    {
     "name": "stdout",
     "output_type": "stream",
     "text": [
      "Number of rows in df_geolocation which have zip code prefix = 82040: 0\n"
     ]
    }
   ],
   "source": [
    "print(f\"Number of rows in df_geolocation which have zip code prefix = 82040: {len(df_geolocation[df_geolocation[\"geolocation_zip_code_prefix\"] == 82040])}\")"
   ]
  },
  {
   "cell_type": "code",
   "execution_count": 69,
   "id": "215f5a6e",
   "metadata": {},
   "outputs": [
    {
     "data": {
      "text/plain": [
       "489"
      ]
     },
     "execution_count": 69,
     "metadata": {},
     "output_type": "execute_result"
    }
   ],
   "source": [
    "len(df_geolocation[df_geolocation[\"geolocation_state\"] == \"PR\"][\"geolocation_city\"].unique())"
   ]
  },
  {
   "cell_type": "code",
   "execution_count": 70,
   "id": "4f391f8f",
   "metadata": {},
   "outputs": [],
   "source": [
    "df_sellers.dropna(inplace = True)"
   ]
  },
  {
   "cell_type": "markdown",
   "id": "f68339e3",
   "metadata": {},
   "source": [
    "The row with empty seller_city has the seller_state = 'PR' field populated, however based on this we still cannot determine what the city value should be, because for state = 'PR' there are 489 different cities<br><br>\n",
    "Possible reasons for the lack of a corresponding value for this zip code prefix:\n",
    "- Data entry error\n",
    "- Outdated zip code information"
   ]
  },
  {
   "cell_type": "markdown",
   "id": "b7fc4a42",
   "metadata": {},
   "source": [
    "6.3. Filling missing data values from the payment_value column in the 'olist_order_payments_dataset' table. This value can be calculated from the 'olist_order_items_dataset' table by summing the price + freight_value for a specific order_id"
   ]
  },
  {
   "cell_type": "markdown",
   "id": "469b247a",
   "metadata": {},
   "source": [
    "We need to handle cases where in order_payments table, a single order has mixed complete and missing payment values across multiple rows. The missing amount should be distributed equally among the empty rows."
   ]
  },
  {
   "cell_type": "code",
   "execution_count": 71,
   "id": "09987911",
   "metadata": {},
   "outputs": [],
   "source": [
    "### TO TEST"
   ]
  },
  {
   "cell_type": "code",
   "execution_count": 72,
   "id": "2ec5de46",
   "metadata": {},
   "outputs": [],
   "source": [
    "df_order_items[\"payment_value\"] = df_order_items[\"price\"] + df_order_items[\"freight_value\"]"
   ]
  },
  {
   "cell_type": "code",
   "execution_count": 73,
   "id": "951a4725",
   "metadata": {},
   "outputs": [],
   "source": [
    "order_payment_value_nulls = df_order_payments[df_order_payments[\"payment_value\"].isna()][\"order_id\"]\n",
    "part_empty_payment_value = df_order_payments[df_order_payments[\"order_id\"].isin(order_payment_value_nulls)]"
   ]
  },
  {
   "cell_type": "code",
   "execution_count": 74,
   "id": "95702d77",
   "metadata": {},
   "outputs": [
    {
     "data": {
      "application/vnd.microsoft.datawrangler.viewer.v0+json": {
       "columns": [
        {
         "name": "order_id",
         "rawType": "object",
         "type": "string"
        },
        {
         "name": "payment_value",
         "rawType": "float64",
         "type": "float"
        }
       ],
       "ref": "c7378b1e-3f9f-4700-8e48-c104e0fc8f14",
       "rows": [
        [
         "00010242fe8c5a6d1ba2dd792cb16214",
         "72.19"
        ],
        [
         "00018f77f2f0320c557190d7a144bdd3",
         "259.83"
        ],
        [
         "000229ec398224ef6ca0657da4fc703e",
         "216.87"
        ],
        [
         "00024acbcdf0a6daa1e931b038114c75",
         "25.78"
        ],
        [
         "00042b26cf59d7ce69dfabb4e55b4fd9",
         "218.04000000000002"
        ]
       ],
       "shape": {
        "columns": 1,
        "rows": 5
       }
      },
      "text/plain": [
       "order_id\n",
       "00010242fe8c5a6d1ba2dd792cb16214     72.19\n",
       "00018f77f2f0320c557190d7a144bdd3    259.83\n",
       "000229ec398224ef6ca0657da4fc703e    216.87\n",
       "00024acbcdf0a6daa1e931b038114c75     25.78\n",
       "00042b26cf59d7ce69dfabb4e55b4fd9    218.04\n",
       "Name: payment_value, dtype: float64"
      ]
     },
     "execution_count": 74,
     "metadata": {},
     "output_type": "execute_result"
    }
   ],
   "source": [
    "mapping = df_order_items.groupby(\"order_id\")[\"payment_value\"].first()\n",
    "full_payments_value = df_order_items.groupby(\"order_id\")[\"payment_value\"].sum()\n",
    "full_payments_value.head()"
   ]
  },
  {
   "cell_type": "code",
   "execution_count": 75,
   "id": "4c4e8894",
   "metadata": {},
   "outputs": [],
   "source": [
    "for order_id, group in part_empty_payment_value.groupby(by=\"order_id\"):\n",
    "    # Jeśli grupa jest jednoelementowa to całość kwoty będzie brana z order_items\n",
    "    try:\n",
    "        if len(group) == 1:\n",
    "            part_empty_payment_value.loc[group.index,\"payment_value\"] = group[\"payment_value\"].fillna(group[\"order_id\"].map(mapping))\n",
    "        \n",
    "        else: \n",
    "            current_payment_sum = group[\"payment_value\"].sum()\n",
    "            full_value = full_payments_value.loc[group[\"order_id\"]].iloc[0]\n",
    "            mask = group[\"payment_value\"].isna()\n",
    "            nan_counts = len(mask[mask])\n",
    "            value_to_fulfill = (full_value - current_payment_sum)/nan_counts\n",
    "            part_empty_payment_value.loc[group.index,\"payment_value\"] = group[\"payment_value\"].fillna(value_to_fulfill)\n",
    "        \n",
    "    except KeyError:\n",
    "        continue"
   ]
  },
  {
   "cell_type": "code",
   "execution_count": 76,
   "id": "1c85cdc6",
   "metadata": {},
   "outputs": [
    {
     "data": {
      "application/vnd.microsoft.datawrangler.viewer.v0+json": {
       "columns": [
        {
         "name": "order_id",
         "rawType": "object",
         "type": "string"
        },
        {
         "name": "count",
         "rawType": "int64",
         "type": "integer"
        }
       ],
       "ref": "cfb0c808-a515-4a82-89d0-f0c6e6623f63",
       "rows": [
        [
         "0b398dbb3e7c81005f3c69b01488c4c9",
         "3"
        ],
        [
         "cdf36cd4632fe33085adec5cf3d6b306",
         "2"
        ],
        [
         "6ec704c9a120baaa6b3e162255ec684b",
         "2"
        ],
        [
         "c037dd9db2ac27aa44381219612e91ba",
         "1"
        ],
        [
         "bd7585a77f0aa76b3775bb68fb293356",
         "1"
        ],
        [
         "ec60e48662eb9eaf9ae685a3afa56518",
         "1"
        ],
        [
         "4ffaf2cdcc432ea3cd8ae0ab7a789cb0",
         "1"
        ],
        [
         "bd51fae4e79d90bca958267d6e6bee30",
         "1"
        ],
        [
         "2f634e2cebf8c0283e7ef0989f77d217",
         "1"
        ],
        [
         "85fc293d3e0bf416c547c15d991e096a",
         "1"
        ],
        [
         "8ac55ad4ce4706e06f7284f61746503a",
         "1"
        ],
        [
         "21a00b08cbeb5716bbb66105e3dbd850",
         "1"
        ],
        [
         "489b43fc6f7840318ee5d83ee35b86c1",
         "1"
        ],
        [
         "3438960569bf3e42fa63f8e7bab0ac03",
         "1"
        ],
        [
         "feae5ecdf2cc16c1007741be785fe3cd",
         "1"
        ],
        [
         "2ff205d5135b1c7763c6561d2643df51",
         "1"
        ],
        [
         "897b4da63b6edde1a33a9fb7caf1dd10",
         "1"
        ],
        [
         "342505ef4323f0572eda009be6080f6c",
         "1"
        ],
        [
         "d49363a0cc2a1915a5a11f85ea08ea48",
         "1"
        ],
        [
         "574f906eedf477adaf3507222887d81f",
         "1"
        ],
        [
         "4317fe882d992cda2fb3d51baeb2751c",
         "1"
        ],
        [
         "91427fef1ca1431d3d86d7bcd0b51ebc",
         "1"
        ],
        [
         "6dd0cc64fed627388bf95943af884f70",
         "1"
        ],
        [
         "46ac809c6b319398df696f5668806fee",
         "1"
        ],
        [
         "2f30c0b1905c65a8ff6c6358bc909625",
         "1"
        ],
        [
         "c581b368f1c9fc02caaa71e42809baf9",
         "1"
        ],
        [
         "6d97e3d5d9043bb4fa4f8fd0b4d9f230",
         "1"
        ],
        [
         "6e98de3a85c84ead6689189b825d35b5",
         "1"
        ],
        [
         "03d1edbd314ca7682ec0f3e67d3763e2",
         "1"
        ],
        [
         "e6152cd6ca627fc4f0f5deddea24f7c2",
         "1"
        ],
        [
         "0623dbbd06c0d4059dbfefab8748a491",
         "1"
        ],
        [
         "6111350dd1f8b825ac82e9caea339f07",
         "1"
        ],
        [
         "b4ef4b05fef13db5a94b0ccd497c521c",
         "1"
        ],
        [
         "92a195ed387f8e7f9151eae7a7ec13f0",
         "1"
        ],
        [
         "adf5a3d223336c6b7965f3027bb7ddc2",
         "1"
        ],
        [
         "52dfaf3e430903d40571c0eb44d324b5",
         "1"
        ],
        [
         "10a045cdf6a5650c21e9cfeb60384c16",
         "1"
        ],
        [
         "05e8a1fd3d354369a3de6e7230a3651f",
         "1"
        ],
        [
         "f63be24880200ae32aa24f5b458a3dc3",
         "1"
        ],
        [
         "24cee263ae15271412b77854eb10b840",
         "1"
        ],
        [
         "f8303e6eff198d1749d04649a1eb2bb6",
         "1"
        ],
        [
         "6e7f938e1ebc4eb4b205b2ad66c5525d",
         "1"
        ],
        [
         "aaab15da689073f8f9aa978a390a69d1",
         "1"
        ],
        [
         "50bb0c134ee3365dd06e13da6cda15fe",
         "1"
        ],
        [
         "b2fc127731e4fc8f7bd2d2c1898e59ca",
         "1"
        ],
        [
         "f05fbff4a434f4d0c1e09000bf45f06f",
         "1"
        ],
        [
         "1f5833c59dc618d2d3b9072f51195d16",
         "1"
        ],
        [
         "8a20e2954602a0738f264299255fd5af",
         "1"
        ],
        [
         "a84212c880e5635e2a0888ba25c027c7",
         "1"
        ],
        [
         "1c7c8ab324927f5b6e52338bd110bef4",
         "1"
        ]
       ],
       "shape": {
        "columns": 1,
        "rows": 152
       }
      },
      "text/plain": [
       "order_id\n",
       "0b398dbb3e7c81005f3c69b01488c4c9    3\n",
       "cdf36cd4632fe33085adec5cf3d6b306    2\n",
       "6ec704c9a120baaa6b3e162255ec684b    2\n",
       "c037dd9db2ac27aa44381219612e91ba    1\n",
       "bd7585a77f0aa76b3775bb68fb293356    1\n",
       "                                   ..\n",
       "d8a40a1358d3b2dca231abdaa566b054    1\n",
       "15ec3d48383c58c0dc96cd66f8884630    1\n",
       "115b01b1f77f0e02812425b6f5cd8f2f    1\n",
       "85a22eb264ad44ff56c4955a66876fed    1\n",
       "35de4050331c6c644cddc86f4f2d0d64    1\n",
       "Name: count, Length: 152, dtype: int64"
      ]
     },
     "execution_count": 76,
     "metadata": {},
     "output_type": "execute_result"
    }
   ],
   "source": [
    "mask = part_empty_payment_value[\"payment_value\"].isna()\n",
    "part_empty_payment_value.loc[mask][\"order_id\"].value_counts()"
   ]
  },
  {
   "cell_type": "code",
   "execution_count": 77,
   "id": "c680ea98",
   "metadata": {},
   "outputs": [
    {
     "data": {
      "text/plain": [
       "np.int64(156)"
      ]
     },
     "execution_count": 77,
     "metadata": {},
     "output_type": "execute_result"
    }
   ],
   "source": [
    "part_empty_payment_value[\"payment_value\"].isna().sum()"
   ]
  },
  {
   "cell_type": "markdown",
   "id": "6ea17747",
   "metadata": {},
   "source": [
    "After filling in the missing data, there are 156 rows that still don’t have payment_value filled in, of which 152 are unique order_id values (meaning these empty rows don’t have a corresponding entry in order_items)."
   ]
  },
  {
   "cell_type": "code",
   "execution_count": 78,
   "id": "95c579a7",
   "metadata": {},
   "outputs": [],
   "source": [
    "# To be decided what to do with these rows "
   ]
  },
  {
   "cell_type": "markdown",
   "id": "6c4ac010",
   "metadata": {},
   "source": [
    "6.4. Filling missing values in the order_estimated_delivery_date column for the df_orders, based on the average delivery time of historical orders for that seller_city and customer_city, where the average is calculated using the 'order_purchase_timestamp' and 'order_delivered_customer_date' columns"
   ]
  },
  {
   "cell_type": "markdown",
   "id": "25d970ef",
   "metadata": {},
   "source": [
    "As reminder number of NaNs in df_orders"
   ]
  },
  {
   "cell_type": "code",
   "execution_count": 79,
   "id": "62dd8161",
   "metadata": {},
   "outputs": [
    {
     "data": {
      "application/vnd.microsoft.datawrangler.viewer.v0+json": {
       "columns": [
        {
         "name": "index",
         "rawType": "object",
         "type": "string"
        },
        {
         "name": "0",
         "rawType": "int64",
         "type": "integer"
        }
       ],
       "ref": "04f750f2-21c5-4f91-a288-25752dba9f08",
       "rows": [
        [
         "order_id",
         "0"
        ],
        [
         "customer_id",
         "0"
        ],
        [
         "order_status",
         "0"
        ],
        [
         "order_purchase_timestamp",
         "0"
        ],
        [
         "order_approved_at",
         "160"
        ],
        [
         "order_delivered_carrier_date",
         "1783"
        ],
        [
         "order_delivered_customer_date",
         "2965"
        ],
        [
         "order_estimated_delivery_date",
         "339"
        ]
       ],
       "shape": {
        "columns": 1,
        "rows": 8
       }
      },
      "text/plain": [
       "order_id                            0\n",
       "customer_id                         0\n",
       "order_status                        0\n",
       "order_purchase_timestamp            0\n",
       "order_approved_at                 160\n",
       "order_delivered_carrier_date     1783\n",
       "order_delivered_customer_date    2965\n",
       "order_estimated_delivery_date     339\n",
       "dtype: int64"
      ]
     },
     "execution_count": 79,
     "metadata": {},
     "output_type": "execute_result"
    }
   ],
   "source": [
    "df_orders.isna().sum()"
   ]
  },
  {
   "cell_type": "code",
   "execution_count": 80,
   "id": "c12c678f",
   "metadata": {},
   "outputs": [],
   "source": [
    "mask = df_orders[\"order_purchase_timestamp\"].notna() & df_orders[\"order_delivered_customer_date\"].notna()\n",
    "df_orders_calc = df_orders.loc[mask]"
   ]
  },
  {
   "cell_type": "markdown",
   "id": "7dd169df",
   "metadata": {},
   "source": [
    "For this purpose, we need to merge three DataFrames: df_orders, df_order_items, and df_sellers (df_order_items is necessary because it provides the connection between orders and sellers) <br>\n",
    "We remove duplicates from the df_order_items table based on the order_id column to obtain unique order identifiers"
   ]
  },
  {
   "cell_type": "code",
   "execution_count": 81,
   "id": "642341ce",
   "metadata": {},
   "outputs": [],
   "source": [
    "df_order_items = df_order_items.drop_duplicates(subset = \"order_id\", keep=\"first\")"
   ]
  },
  {
   "cell_type": "code",
   "execution_count": 82,
   "id": "a1bc08f1",
   "metadata": {},
   "outputs": [
    {
     "data": {
      "application/vnd.microsoft.datawrangler.viewer.v0+json": {
       "columns": [
        {
         "name": "index",
         "rawType": "int64",
         "type": "integer"
        },
        {
         "name": "order_id",
         "rawType": "object",
         "type": "string"
        },
        {
         "name": "order_item_id",
         "rawType": "int64",
         "type": "integer"
        },
        {
         "name": "product_id",
         "rawType": "object",
         "type": "string"
        },
        {
         "name": "seller_id",
         "rawType": "object",
         "type": "string"
        },
        {
         "name": "shipping_limit_date",
         "rawType": "datetime64[ns]",
         "type": "datetime"
        },
        {
         "name": "price",
         "rawType": "float64",
         "type": "float"
        },
        {
         "name": "freight_value",
         "rawType": "float64",
         "type": "float"
        },
        {
         "name": "payment_value",
         "rawType": "float64",
         "type": "float"
        },
        {
         "name": "customer_id",
         "rawType": "object",
         "type": "string"
        },
        {
         "name": "order_purchase_timestamp",
         "rawType": "datetime64[ns]",
         "type": "datetime"
        },
        {
         "name": "order_delivered_customer_date",
         "rawType": "datetime64[ns]",
         "type": "datetime"
        },
        {
         "name": "customer_city",
         "rawType": "object",
         "type": "string"
        },
        {
         "name": "seller_city",
         "rawType": "object",
         "type": "string"
        },
        {
         "name": "number_of_days_to_deliver",
         "rawType": "timedelta64[ns]",
         "type": "unknown"
        }
       ],
       "ref": "7eabe393-77a3-408b-85bb-bb2010498a95",
       "rows": [
        [
         "0",
         "00010242fe8c5a6d1ba2dd792cb16214",
         "1",
         "4244733e06e7ecb4970a6e2683c13e61",
         "48436dade18ac8b2bce089ec2a041202",
         "2017-09-19 09:45:35",
         "58.9",
         "13.29",
         "72.19",
         "3ce436f183e68e07877b285a838db11a",
         "2017-09-13 08:59:02",
         "2017-09-20 23:43:48",
         "campos dos goytacazes",
         "volta redonda",
         "7 days 14:44:46"
        ],
        [
         "1",
         "00018f77f2f0320c557190d7a144bdd3",
         "1",
         "e5f2d52b802189ee658865ca93d83a8f",
         "dd7ddc04e1b6c2c614352b383efe2d36",
         "2017-05-03 11:05:13",
         "239.9",
         "19.93",
         "259.83",
         "f6dd3ec061db4e3987629fe6b26e5cce",
         "2017-04-26 10:53:06",
         "2017-05-12 16:04:24",
         "santa fe do sul",
         "sao paulo",
         "16 days 05:11:18"
        ],
        [
         "2",
         "000229ec398224ef6ca0657da4fc703e",
         "1",
         "c777355d18b72b67abbeef9df44fd0fd",
         "5b51032eddd242adc84c38acab88f23d",
         "2018-01-18 14:48:30",
         "199.0",
         "17.87",
         "216.87",
         "6489ae5e4333f3693df5ad4372dab6d3",
         "2018-01-14 14:33:31",
         "2018-01-22 13:19:16",
         "para de minas",
         "borda da mata",
         "7 days 22:45:45"
        ],
        [
         "3",
         "00024acbcdf0a6daa1e931b038114c75",
         "1",
         "7634da152a4610f1595efa32f14722fc",
         "9d7a1d34a5052409006425275ba1c2b4",
         "2018-08-15 10:10:18",
         "12.99",
         "12.79",
         "25.78",
         "d4eb9395c8c0431ee92fce09860c5a06",
         "2018-08-08 10:00:35",
         "2018-08-14 13:32:39",
         "atibaia",
         "franca",
         "6 days 03:32:04"
        ],
        [
         "4",
         "00042b26cf59d7ce69dfabb4e55b4fd9",
         "1",
         "ac6c3623068f30de03045865e4e10089",
         "df560393f3a51e74553ab94004ba5c87",
         "2017-02-13 13:57:51",
         "199.9",
         "18.14",
         "218.04000000000002",
         "58dbd0b2d70206bf40e62cd34e84d795",
         "2017-02-04 13:57:51",
         "2017-03-01 16:42:31",
         "varzea paulista",
         "loanda",
         "25 days 02:44:40"
        ]
       ],
       "shape": {
        "columns": 14,
        "rows": 5
       }
      },
      "text/html": [
       "<div>\n",
       "<style scoped>\n",
       "    .dataframe tbody tr th:only-of-type {\n",
       "        vertical-align: middle;\n",
       "    }\n",
       "\n",
       "    .dataframe tbody tr th {\n",
       "        vertical-align: top;\n",
       "    }\n",
       "\n",
       "    .dataframe thead th {\n",
       "        text-align: right;\n",
       "    }\n",
       "</style>\n",
       "<table border=\"1\" class=\"dataframe\">\n",
       "  <thead>\n",
       "    <tr style=\"text-align: right;\">\n",
       "      <th></th>\n",
       "      <th>order_id</th>\n",
       "      <th>order_item_id</th>\n",
       "      <th>product_id</th>\n",
       "      <th>seller_id</th>\n",
       "      <th>shipping_limit_date</th>\n",
       "      <th>price</th>\n",
       "      <th>freight_value</th>\n",
       "      <th>payment_value</th>\n",
       "      <th>customer_id</th>\n",
       "      <th>order_purchase_timestamp</th>\n",
       "      <th>order_delivered_customer_date</th>\n",
       "      <th>customer_city</th>\n",
       "      <th>seller_city</th>\n",
       "      <th>number_of_days_to_deliver</th>\n",
       "    </tr>\n",
       "  </thead>\n",
       "  <tbody>\n",
       "    <tr>\n",
       "      <th>0</th>\n",
       "      <td>00010242fe8c5a6d1ba2dd792cb16214</td>\n",
       "      <td>1</td>\n",
       "      <td>4244733e06e7ecb4970a6e2683c13e61</td>\n",
       "      <td>48436dade18ac8b2bce089ec2a041202</td>\n",
       "      <td>2017-09-19 09:45:35</td>\n",
       "      <td>58.90</td>\n",
       "      <td>13.29</td>\n",
       "      <td>72.19</td>\n",
       "      <td>3ce436f183e68e07877b285a838db11a</td>\n",
       "      <td>2017-09-13 08:59:02</td>\n",
       "      <td>2017-09-20 23:43:48</td>\n",
       "      <td>campos dos goytacazes</td>\n",
       "      <td>volta redonda</td>\n",
       "      <td>7 days 14:44:46</td>\n",
       "    </tr>\n",
       "    <tr>\n",
       "      <th>1</th>\n",
       "      <td>00018f77f2f0320c557190d7a144bdd3</td>\n",
       "      <td>1</td>\n",
       "      <td>e5f2d52b802189ee658865ca93d83a8f</td>\n",
       "      <td>dd7ddc04e1b6c2c614352b383efe2d36</td>\n",
       "      <td>2017-05-03 11:05:13</td>\n",
       "      <td>239.90</td>\n",
       "      <td>19.93</td>\n",
       "      <td>259.83</td>\n",
       "      <td>f6dd3ec061db4e3987629fe6b26e5cce</td>\n",
       "      <td>2017-04-26 10:53:06</td>\n",
       "      <td>2017-05-12 16:04:24</td>\n",
       "      <td>santa fe do sul</td>\n",
       "      <td>sao paulo</td>\n",
       "      <td>16 days 05:11:18</td>\n",
       "    </tr>\n",
       "    <tr>\n",
       "      <th>2</th>\n",
       "      <td>000229ec398224ef6ca0657da4fc703e</td>\n",
       "      <td>1</td>\n",
       "      <td>c777355d18b72b67abbeef9df44fd0fd</td>\n",
       "      <td>5b51032eddd242adc84c38acab88f23d</td>\n",
       "      <td>2018-01-18 14:48:30</td>\n",
       "      <td>199.00</td>\n",
       "      <td>17.87</td>\n",
       "      <td>216.87</td>\n",
       "      <td>6489ae5e4333f3693df5ad4372dab6d3</td>\n",
       "      <td>2018-01-14 14:33:31</td>\n",
       "      <td>2018-01-22 13:19:16</td>\n",
       "      <td>para de minas</td>\n",
       "      <td>borda da mata</td>\n",
       "      <td>7 days 22:45:45</td>\n",
       "    </tr>\n",
       "    <tr>\n",
       "      <th>3</th>\n",
       "      <td>00024acbcdf0a6daa1e931b038114c75</td>\n",
       "      <td>1</td>\n",
       "      <td>7634da152a4610f1595efa32f14722fc</td>\n",
       "      <td>9d7a1d34a5052409006425275ba1c2b4</td>\n",
       "      <td>2018-08-15 10:10:18</td>\n",
       "      <td>12.99</td>\n",
       "      <td>12.79</td>\n",
       "      <td>25.78</td>\n",
       "      <td>d4eb9395c8c0431ee92fce09860c5a06</td>\n",
       "      <td>2018-08-08 10:00:35</td>\n",
       "      <td>2018-08-14 13:32:39</td>\n",
       "      <td>atibaia</td>\n",
       "      <td>franca</td>\n",
       "      <td>6 days 03:32:04</td>\n",
       "    </tr>\n",
       "    <tr>\n",
       "      <th>4</th>\n",
       "      <td>00042b26cf59d7ce69dfabb4e55b4fd9</td>\n",
       "      <td>1</td>\n",
       "      <td>ac6c3623068f30de03045865e4e10089</td>\n",
       "      <td>df560393f3a51e74553ab94004ba5c87</td>\n",
       "      <td>2017-02-13 13:57:51</td>\n",
       "      <td>199.90</td>\n",
       "      <td>18.14</td>\n",
       "      <td>218.04</td>\n",
       "      <td>58dbd0b2d70206bf40e62cd34e84d795</td>\n",
       "      <td>2017-02-04 13:57:51</td>\n",
       "      <td>2017-03-01 16:42:31</td>\n",
       "      <td>varzea paulista</td>\n",
       "      <td>loanda</td>\n",
       "      <td>25 days 02:44:40</td>\n",
       "    </tr>\n",
       "  </tbody>\n",
       "</table>\n",
       "</div>"
      ],
      "text/plain": [
       "                           order_id  order_item_id  \\\n",
       "0  00010242fe8c5a6d1ba2dd792cb16214              1   \n",
       "1  00018f77f2f0320c557190d7a144bdd3              1   \n",
       "2  000229ec398224ef6ca0657da4fc703e              1   \n",
       "3  00024acbcdf0a6daa1e931b038114c75              1   \n",
       "4  00042b26cf59d7ce69dfabb4e55b4fd9              1   \n",
       "\n",
       "                         product_id                         seller_id  \\\n",
       "0  4244733e06e7ecb4970a6e2683c13e61  48436dade18ac8b2bce089ec2a041202   \n",
       "1  e5f2d52b802189ee658865ca93d83a8f  dd7ddc04e1b6c2c614352b383efe2d36   \n",
       "2  c777355d18b72b67abbeef9df44fd0fd  5b51032eddd242adc84c38acab88f23d   \n",
       "3  7634da152a4610f1595efa32f14722fc  9d7a1d34a5052409006425275ba1c2b4   \n",
       "4  ac6c3623068f30de03045865e4e10089  df560393f3a51e74553ab94004ba5c87   \n",
       "\n",
       "  shipping_limit_date   price  freight_value  payment_value  \\\n",
       "0 2017-09-19 09:45:35   58.90          13.29          72.19   \n",
       "1 2017-05-03 11:05:13  239.90          19.93         259.83   \n",
       "2 2018-01-18 14:48:30  199.00          17.87         216.87   \n",
       "3 2018-08-15 10:10:18   12.99          12.79          25.78   \n",
       "4 2017-02-13 13:57:51  199.90          18.14         218.04   \n",
       "\n",
       "                        customer_id order_purchase_timestamp  \\\n",
       "0  3ce436f183e68e07877b285a838db11a      2017-09-13 08:59:02   \n",
       "1  f6dd3ec061db4e3987629fe6b26e5cce      2017-04-26 10:53:06   \n",
       "2  6489ae5e4333f3693df5ad4372dab6d3      2018-01-14 14:33:31   \n",
       "3  d4eb9395c8c0431ee92fce09860c5a06      2018-08-08 10:00:35   \n",
       "4  58dbd0b2d70206bf40e62cd34e84d795      2017-02-04 13:57:51   \n",
       "\n",
       "  order_delivered_customer_date          customer_city    seller_city  \\\n",
       "0           2017-09-20 23:43:48  campos dos goytacazes  volta redonda   \n",
       "1           2017-05-12 16:04:24        santa fe do sul      sao paulo   \n",
       "2           2018-01-22 13:19:16          para de minas  borda da mata   \n",
       "3           2018-08-14 13:32:39                atibaia         franca   \n",
       "4           2017-03-01 16:42:31        varzea paulista         loanda   \n",
       "\n",
       "  number_of_days_to_deliver  \n",
       "0           7 days 14:44:46  \n",
       "1          16 days 05:11:18  \n",
       "2           7 days 22:45:45  \n",
       "3           6 days 03:32:04  \n",
       "4          25 days 02:44:40  "
      ]
     },
     "execution_count": 82,
     "metadata": {},
     "output_type": "execute_result"
    }
   ],
   "source": [
    "merged = (df_order_items.merge(df_orders_calc[[\"order_id\",\"customer_id\",\"order_purchase_timestamp\",\"order_delivered_customer_date\"]], on=\"order_id\")\n",
    "                        .merge(df_customers[[\"customer_id\",\"customer_city\"]], on = \"customer_id\")\n",
    "                        .merge(df_sellers[[\"seller_id\",\"seller_city\"]], on = \"seller_id\")\n",
    "\n",
    ")\n",
    "merged[\"number_of_days_to_deliver\"] = (merged[\"order_delivered_customer_date\"] - merged[\"order_purchase_timestamp\"])\n",
    "merged.head()"
   ]
  },
  {
   "cell_type": "code",
   "execution_count": 83,
   "id": "c74bd5f8",
   "metadata": {},
   "outputs": [
    {
     "data": {
      "application/vnd.microsoft.datawrangler.viewer.v0+json": {
       "columns": [
        {
         "name": "index",
         "rawType": "object",
         "type": "string"
        },
        {
         "name": "0",
         "rawType": "int64",
         "type": "integer"
        }
       ],
       "ref": "3a48b08d-e269-4573-9176-dc6a349448d1",
       "rows": [
        [
         "order_id",
         "0"
        ],
        [
         "order_item_id",
         "0"
        ],
        [
         "product_id",
         "0"
        ],
        [
         "seller_id",
         "0"
        ],
        [
         "shipping_limit_date",
         "0"
        ],
        [
         "price",
         "0"
        ],
        [
         "freight_value",
         "0"
        ],
        [
         "payment_value",
         "0"
        ],
        [
         "customer_id",
         "0"
        ],
        [
         "order_purchase_timestamp",
         "0"
        ],
        [
         "order_delivered_customer_date",
         "0"
        ],
        [
         "customer_city",
         "0"
        ],
        [
         "seller_city",
         "0"
        ],
        [
         "number_of_days_to_deliver",
         "0"
        ]
       ],
       "shape": {
        "columns": 1,
        "rows": 14
       }
      },
      "text/plain": [
       "order_id                         0\n",
       "order_item_id                    0\n",
       "product_id                       0\n",
       "seller_id                        0\n",
       "shipping_limit_date              0\n",
       "price                            0\n",
       "freight_value                    0\n",
       "payment_value                    0\n",
       "customer_id                      0\n",
       "order_purchase_timestamp         0\n",
       "order_delivered_customer_date    0\n",
       "customer_city                    0\n",
       "seller_city                      0\n",
       "number_of_days_to_deliver        0\n",
       "dtype: int64"
      ]
     },
     "execution_count": 83,
     "metadata": {},
     "output_type": "execute_result"
    }
   ],
   "source": [
    "merged.isna().sum()"
   ]
  },
  {
   "cell_type": "markdown",
   "id": "e8b2c6fb",
   "metadata": {},
   "source": [
    "This is a DataFrame serving as a 'dictionary' of average delivery days between two cities (customer_city - seller_city)"
   ]
  },
  {
   "cell_type": "code",
   "execution_count": 84,
   "id": "372aac2a",
   "metadata": {},
   "outputs": [
    {
     "data": {
      "application/vnd.microsoft.datawrangler.viewer.v0+json": {
       "columns": [
        {
         "name": "('customer_city', 'seller_city')",
         "rawType": "object",
         "type": "unknown"
        },
        {
         "name": "number_of_days_to_deliver",
         "rawType": "timedelta64[ns]",
         "type": "unknown"
        }
       ],
       "ref": "258c1f3d-704d-45da-8113-f8745eaf0570",
       "rows": [
        [
         "('abadia dos dourados', 'montenegro')",
         "21 days 02:31:32"
        ],
        [
         "('abadia dos dourados', 'rio de janeiro')",
         "8 days 15:12:06"
        ],
        [
         "('abadia dos dourados', 'sao paulo')",
         "5 days 20:14:40"
        ],
        [
         "('abadiania', 'sao paulo')",
         "29 days 02:27:21"
        ],
        [
         "('abaete', 'bauru')",
         "7 days 06:51:31"
        ]
       ],
       "shape": {
        "columns": 1,
        "rows": 5
       }
      },
      "text/plain": [
       "customer_city        seller_city   \n",
       "abadia dos dourados  montenegro       21 days 02:31:32\n",
       "                     rio de janeiro    8 days 15:12:06\n",
       "                     sao paulo         5 days 20:14:40\n",
       "abadiania            sao paulo        29 days 02:27:21\n",
       "abaete               bauru             7 days 06:51:31\n",
       "Name: number_of_days_to_deliver, dtype: timedelta64[ns]"
      ]
     },
     "execution_count": 84,
     "metadata": {},
     "output_type": "execute_result"
    }
   ],
   "source": [
    "avg_days_between_cities = merged.groupby(by=[\"customer_city\",\"seller_city\"])[\"number_of_days_to_deliver\"].mean()\n",
    "avg_days_between_cities.head()"
   ]
  },
  {
   "cell_type": "markdown",
   "id": "9b3c622e",
   "metadata": {},
   "source": [
    "Now we need to perform another join and fill the missing values in df_orders (estimated_delivery_time column) by adding date_purchase + the average number of delivery days between those cities"
   ]
  },
  {
   "cell_type": "code",
   "execution_count": 85,
   "id": "fb660e11",
   "metadata": {},
   "outputs": [
    {
     "data": {
      "application/vnd.microsoft.datawrangler.viewer.v0+json": {
       "columns": [
        {
         "name": "index",
         "rawType": "int64",
         "type": "integer"
        },
        {
         "name": "order_id",
         "rawType": "object",
         "type": "string"
        },
        {
         "name": "customer_id",
         "rawType": "object",
         "type": "string"
        },
        {
         "name": "order_status",
         "rawType": "object",
         "type": "string"
        },
        {
         "name": "order_purchase_timestamp",
         "rawType": "datetime64[ns]",
         "type": "datetime"
        },
        {
         "name": "order_approved_at",
         "rawType": "datetime64[ns]",
         "type": "datetime"
        },
        {
         "name": "order_delivered_carrier_date",
         "rawType": "datetime64[ns]",
         "type": "datetime"
        },
        {
         "name": "order_delivered_customer_date",
         "rawType": "datetime64[ns]",
         "type": "datetime"
        },
        {
         "name": "order_estimated_delivery_date",
         "rawType": "datetime64[ns]",
         "type": "datetime"
        },
        {
         "name": "seller_id",
         "rawType": "object",
         "type": "string"
        },
        {
         "name": "seller_city",
         "rawType": "object",
         "type": "string"
        },
        {
         "name": "customer_city",
         "rawType": "object",
         "type": "string"
        }
       ],
       "ref": "38d3cb2f-f4c9-4f11-b30a-408e0db7adc2",
       "rows": [
        [
         "0",
         "00010242fe8c5a6d1ba2dd792cb16214",
         "3ce436f183e68e07877b285a838db11a",
         "delivered",
         "2017-09-13 08:59:02",
         "2017-09-13 09:45:35",
         "2017-09-19 18:34:16",
         "2017-09-20 23:43:48",
         "2017-09-29 00:00:00",
         "48436dade18ac8b2bce089ec2a041202",
         "volta redonda",
         "campos dos goytacazes"
        ],
        [
         "1",
         "00018f77f2f0320c557190d7a144bdd3",
         "f6dd3ec061db4e3987629fe6b26e5cce",
         "delivered",
         "2017-04-26 10:53:06",
         "2017-04-26 11:05:13",
         "2017-05-04 14:35:00",
         "2017-05-12 16:04:24",
         "2017-05-15 00:00:00",
         "dd7ddc04e1b6c2c614352b383efe2d36",
         "sao paulo",
         "santa fe do sul"
        ],
        [
         "2",
         "000229ec398224ef6ca0657da4fc703e",
         "6489ae5e4333f3693df5ad4372dab6d3",
         "delivered",
         "2018-01-14 14:33:31",
         "2018-01-14 14:48:30",
         "2018-01-16 12:36:48",
         "2018-01-22 13:19:16",
         "2018-02-05 00:00:00",
         "5b51032eddd242adc84c38acab88f23d",
         "borda da mata",
         "para de minas"
        ],
        [
         "3",
         "00024acbcdf0a6daa1e931b038114c75",
         "d4eb9395c8c0431ee92fce09860c5a06",
         "delivered",
         "2018-08-08 10:00:35",
         "2018-08-08 10:10:18",
         "2018-08-10 13:28:00",
         "2018-08-14 13:32:39",
         "2018-08-20 00:00:00",
         "9d7a1d34a5052409006425275ba1c2b4",
         "franca",
         "atibaia"
        ],
        [
         "4",
         "00042b26cf59d7ce69dfabb4e55b4fd9",
         "58dbd0b2d70206bf40e62cd34e84d795",
         "delivered",
         "2017-02-04 13:57:51",
         "2017-02-04 14:10:13",
         "2017-02-16 09:46:09",
         "2017-03-01 16:42:31",
         "2017-03-17 00:00:00",
         "df560393f3a51e74553ab94004ba5c87",
         "loanda",
         "varzea paulista"
        ],
        [
         "5",
         "00048cc3ae777c65dbb7d2a0634bc1ea",
         "816cbea969fe5b689b39cfc97a506742",
         "delivered",
         "2017-05-15 21:42:34",
         "2017-05-17 03:55:27",
         "2017-05-17 11:05:55",
         "2017-05-22 13:44:35",
         "2017-06-06 00:00:00",
         "6426d21aca402a131fc0a5d0960a3c90",
         "ribeirao preto",
         "uberaba"
        ],
        [
         "6",
         "00054e8431b9d7675808bcb819fb4a32",
         "32e2e6ab09e778d99bf2e0ecd4898718",
         "delivered",
         "2017-12-10 11:53:48",
         "2017-12-10 12:10:31",
         "2017-12-12 01:07:48",
         "2017-12-18 22:03:38",
         "2018-01-04 00:00:00",
         "7040e82f899a04d1b434b795a43b4617",
         "sao paulo",
         "guararapes"
        ],
        [
         "7",
         "000576fe39319847cbb9d288c5617fa6",
         "9ed5e522dd9dd85b4af4a077526d8117",
         "delivered",
         "2018-07-04 12:08:27",
         "2018-07-05 16:35:48",
         "2018-07-05 12:15:00",
         "2018-07-09 14:04:07",
         "2018-07-25 00:00:00",
         "5996cddab893a4652a15592fb58ab8db",
         "presidente prudente",
         "praia grande"
        ],
        [
         "8",
         "0005a1a1728c9d785b8e2b08b904576c",
         "16150771dfd4776261284213b89c304e",
         "delivered",
         "2018-03-19 18:40:33",
         "2018-03-20 18:35:21",
         "2018-03-28 00:37:42",
         "2018-03-29 18:17:31",
         "2018-03-29 00:00:00",
         "a416b6a846a11724393025641d4edd5e",
         "sao paulo",
         "santos"
        ],
        [
         "9",
         "0005f50442cb953dcd1d21e1fb923495",
         "351d3cb2cee3c7fd0af6616c82df21d3",
         "delivered",
         "2018-07-02 13:59:39",
         "2018-07-02 14:10:56",
         "2018-07-03 14:25:00",
         "2018-07-04 17:28:31",
         "2018-07-23 00:00:00",
         "ba143b05f0110f0dc71ad71b4466ce92",
         "sao paulo",
         "sao paulo"
        ],
        [
         "10",
         "00061f2a7bc09da83e415a52dc8a4af1",
         "c6fc061d86fab1e2b2eac259bac71a49",
         "delivered",
         "2018-03-24 22:16:10",
         "2018-03-24 22:28:09",
         "2018-03-27 05:26:55",
         "2018-03-29 00:04:19",
         "2018-04-09 00:00:00",
         "cc419e0650a3c5ba77189a1882b7556a",
         "santo andre",
         "piracicaba"
        ],
        [
         "11",
         "00063b381e2406b52ad429470734ebd5",
         "6a899e55865de6549a58d2c6845e5604",
         "delivered",
         "2018-07-27 17:21:27",
         "2018-07-27 18:00:06",
         "2018-07-30 14:52:00",
         "2018-08-07 13:56:52",
         "2018-08-07 00:00:00",
         "8602a61d680a10a82cceeeda0d99ea3d",
         "sao paulo",
         "monte alto"
        ],
        [
         "12",
         "0006ec9db01a64e59a68b2c340bf65a7",
         "5d178120c29c61748ea95bac23cb8f25",
         "delivered",
         "2018-07-24 17:04:17",
         "2018-07-24 17:24:20",
         "2018-07-25 11:02:00",
         "2018-07-31 01:04:15",
         "2018-08-22 00:00:00",
         "4a3ca9315b744ce9f8e9374361493884",
         "ibitinga",
         "rio de janeiro"
        ],
        [
         "13",
         "0008288aa423d2a3f00fcb17cd7d8719",
         "2355af7c75e7c98b43a87b2a7f210dc5",
         "delivered",
         "2018-02-13 22:10:21",
         "2018-02-15 03:55:52",
         "2018-02-20 18:23:28",
         "2018-02-26 13:55:22",
         "2018-03-06 00:00:00",
         "1f50f920176fa81dab994f9023523100",
         "sao jose do rio preto",
         "jandira"
        ],
        [
         "14",
         "0009792311464db532ff765bf7b182ae",
         "2a30c97668e81df7c17a8b14447aeeba",
         "delivered",
         "2018-08-14 20:43:09",
         "2018-08-15 12:15:10",
         "2018-08-15 15:28:00",
         "2018-08-22 12:02:27",
         "2018-08-28 00:00:00",
         "530ec6109d11eaaf87999465c6afee01",
         "cascavel",
         "alfenas"
        ],
        [
         "15",
         "0009c9a17f916a706d71784483a5d643",
         "8a250edc40ebc5c3940ebc940f16a7eb",
         "delivered",
         "2018-04-25 09:10:41",
         "2018-04-25 09:33:19",
         "2018-04-27 15:14:00",
         "2018-04-30 17:54:25",
         "2018-05-09 00:00:00",
         "fcb5ace8bcc92f75707dc0f01a27d269",
         "guarulhos",
         "campinas"
        ],
        [
         "16",
         "000aed2e25dbad2f9ddb70584c5a2ded",
         "fff5169e583fd07fac9fec88962f189d",
         "delivered",
         "2018-05-11 20:33:38",
         "2018-05-11 20:57:03",
         "2018-05-16 14:26:00",
         "2018-05-18 16:46:31",
         "2018-05-22 00:00:00",
         "fe2032dab1a61af8794248c8196565c9",
         "campinas",
         "santa barbara d'oeste"
        ],
        [
         "17",
         "000c3e6612759851cc3cbb4b83257986",
         "3773bcf1a6fbd29233ea1c1b573c4f22",
         "delivered",
         "2017-08-12 10:08:57",
         "2017-08-15 03:35:32",
         "2017-08-15 15:32:51",
         "2017-08-19 15:22:17",
         "2017-09-01 00:00:00",
         "218d46b86c1881d022bce9c68a7d4b15",
         "ribeirao preto",
         "jundiai"
        ],
        [
         "18",
         "000e562887b1f2006d75e0be9558292e",
         "2b01d668726fb0b751c55918c0437b7b",
         "delivered",
         "2018-02-22 11:54:42",
         "2018-02-22 12:08:37",
         "2018-02-26 14:18:32",
         "2018-03-12 18:46:34",
         "2018-03-19 00:00:00",
         "8cbac7e12637ed9cffa18c7875207478",
         "jaragua do sul",
         "cubatao"
        ],
        [
         "19",
         "000e63d38ae8c00bbcb5a30573b99628",
         "98884e672c5ba85f4394f2044e1a3eab",
         "delivered",
         "2018-03-23 19:48:26",
         "2018-03-23 20:07:49",
         "2018-03-26 21:38:48",
         "2018-03-27 14:51:47",
         "2018-04-05 00:00:00",
         "1c129092bf23f28a5930387c980c0dfc",
         "sao paulo",
         "sao paulo"
        ],
        [
         "20",
         "000e906b789b55f64edcb1f84030f90d",
         "6a3b2fc9f270df258605e22bef19fd88",
         "delivered",
         "2017-11-21 18:54:23",
         "2017-11-21 19:09:02",
         "2017-11-22 20:46:54",
         "2017-12-09 17:27:23",
         "2017-12-07 00:00:00",
         "ea8482cd71df3c1969d7b9473ff13abc",
         "sao paulo",
         "santa cruz do rio pardo"
        ],
        [
         "21",
         "000f25f4d72195062c040b12dce9a18a",
         "86ade8ebc14f18dd6c3ea75bd0eb7534",
         "delivered",
         "2018-03-07 10:33:13",
         "2018-03-07 11:10:11",
         "2018-03-16 15:58:31",
         "2018-03-22 16:51:52",
         "2018-04-11 00:00:00",
         "7c67e1448b00f6e969d365cea6b010ab",
         "itaquaquecetuba",
         "volta redonda"
        ],
        [
         "22",
         "001021efaa8636c29475e7734483457d",
         "2dfbf74859104caf100df3720a1d833d",
         "delivered",
         "2018-02-27 09:27:14",
         "2018-02-27 09:35:41",
         "2018-02-27 21:43:46",
         "2018-03-08 20:06:33",
         "2018-03-23 00:00:00",
         "6560211a19b47992c3666cc44a7e94c0",
         "sao paulo",
         "ivaipora"
        ],
        [
         "23",
         "0010b2e5201cc5f1ae7e9c6cc8f5bd00",
         "57ef317d4818cb42680fc9dfd13867ce",
         "delivered",
         "2017-09-11 17:39:33",
         "2017-09-11 18:04:37",
         "2017-09-12 17:02:57",
         "2017-09-23 13:21:21",
         "2017-09-27 00:00:00",
         "3504c0cb71d7fa48d967e0e4c94d59d9",
         "maua",
         "rio de janeiro"
        ],
        [
         "24",
         "00119ff934e539cf26f92b9ef0cdfed8",
         "7dd2e283f47deac853cf70f3b63c8d86",
         "delivered",
         "2017-08-06 00:42:49",
         "2017-08-07 00:35:12",
         "2017-08-07 21:12:34",
         "2017-08-16 17:29:59",
         "2017-08-31 00:00:00",
         "c864036feaab8c1659f65ea4faebe1da",
         "campo largo",
         "nova iguacu"
        ],
        [
         "25",
         "0011d82c4b53e22e84023405fb467e57",
         "2013d892495e1a101d742d533d2d1119",
         "delivered",
         "2018-01-16 21:43:23",
         "2018-01-16 21:51:25",
         "2018-01-23 22:08:06",
         "2018-01-26 22:14:02",
         "2018-02-15 00:00:00",
         "bfd27a966d91cfaafdb25d076585f0da",
         "serra negra",
         "sao paulo"
        ],
        [
         "26",
         "00125cb692d04887809806618a2a145f",
         "8afb90a97ee661103014329b1bcea1a2",
         "delivered",
         "2017-03-23 12:21:17",
         "2017-03-23 13:05:42",
         "2017-03-27 08:58:04",
         "2017-04-07 15:32:47",
         "2017-04-20 00:00:00",
         "41b39e28db005d9731d9d485a83b4c38",
         "santo andre",
         "anapolis"
        ],
        [
         "27",
         "00130c0eee84a3d909e75bc08c5c3ca1",
         "47d656c08a282ec5ab4c1f18303a3a30",
         "delivered",
         "2018-06-11 21:17:00",
         "2018-06-12 05:16:24",
         "2018-06-12 14:22:00",
         "2018-06-13 15:28:25",
         "2018-06-20 00:00:00",
         "16090f2ca825584b5a147ab24aa30c86",
         "atibaia",
         "sao bernardo do campo"
        ],
        [
         "28",
         "0013503b13da1eac686219390b7d641b",
         "f7277fce45fad3165379c15cacf5ddbe",
         "delivered",
         "2017-12-05 23:40:59",
         "2017-12-07 03:16:36",
         "2017-12-07 22:59:30",
         "2017-12-20 22:46:28",
         "2017-12-28 00:00:00",
         "1554a68530182680ad5c8b042c3ab563",
         "monte siao",
         "osasco"
        ],
        [
         "29",
         "00137e170939bba5a3134e2386413108",
         "7b63cba66b8e6d002e94d0990c1e2868",
         "delivered",
         "2017-11-24 16:50:38",
         "2017-11-25 06:30:55",
         "2017-11-28 19:43:52",
         "2017-12-11 19:12:55",
         "2017-12-18 00:00:00",
         "e59aa562b9f8076dd550fcddf0e73491",
         "curitiba",
         "rio de janeiro"
        ],
        [
         "30",
         "001427c0ec99cf8af737bd88e92fd444",
         "eab9c552374be06ed15923016dc9e588",
         "delivered",
         "2018-04-07 18:51:22",
         "2018-04-07 19:08:28",
         "2018-04-09 23:29:32",
         "2018-04-25 23:38:41",
         "2018-05-10 00:00:00",
         "77530e9772f57a62c906e1c21538ab82",
         "curitiba",
         "ituiutaba"
        ],
        [
         "31",
         "00143d0f86d6fbd9f9b38ab440ac16f5",
         "2e45292979b9b2700ea09560eeb0f803",
         "delivered",
         "2017-10-16 15:29:43",
         "2017-10-16 16:07:52",
         "2017-10-16 23:04:43",
         "2017-10-27 18:43:56",
         "2017-11-06 00:00:00",
         "a17f621c590ea0fab3d5d883e1630ec6",
         "sorocaba",
         "goiania"
        ],
        [
         "32",
         "0014ae671de39511f7575066200733b7",
         "41065d9dcea52218c3943d2eed072b97",
         "delivered",
         "2017-05-22 13:49:03",
         "2017-05-23 03:15:24",
         "2017-05-29 09:04:02",
         "2017-06-07 13:52:52",
         "2017-06-13 00:00:00",
         "92eb0f42c21942b6552362b9b114707d",
         "sao paulo",
         "pinhais"
        ],
        [
         "33",
         "0015ebb40fb17286bea51d4607c4733c",
         "da43a556bf5c36a1104c473cff77de6c",
         "delivered",
         "2018-01-14 09:01:36",
         "2018-01-14 09:11:24",
         "2018-01-17 22:56:36",
         "2018-02-01 20:29:51",
         "2018-02-15 00:00:00",
         "8b321bb669392f5163d04c59e235e066",
         "sao paulo",
         "pato bragado"
        ],
        [
         "34",
         "00169e31ef4b29deaae414f9a5e95929",
         "efb3830adb68fb8a89c948774388ec28",
         "delivered",
         "2018-01-16 09:26:39",
         "2018-01-17 03:35:47",
         "2018-01-17 16:46:04",
         "2018-01-23 20:19:04",
         "2018-02-07 00:00:00",
         "a3e9a2c700480d9bb01fba070ba80a0e",
         "ibitinga",
         "rio de janeiro"
        ],
        [
         "35",
         "0016dfedd97fc2950e388d2971d718c7",
         "2c8b917c5d7dd720ebe36a5ed3b501ec",
         "delivered",
         "2017-04-28 19:54:40",
         "2017-04-29 10:05:12",
         "2017-05-16 08:40:49",
         "2017-05-22 18:32:21",
         "2017-06-01 00:00:00",
         "a35124e2d763d7ca3fbe3b97d143200f",
         "sao paulo",
         "canavieiras"
        ],
        [
         "36",
         "0017afd5076e074a48f1f1a4c7bac9c5",
         "8085a9af46f619bc25966f151a362b0d",
         "delivered",
         "2017-04-06 22:16:10",
         "2017-04-06 22:25:19",
         "2017-04-17 13:54:37",
         "2017-05-23 08:32:07",
         "2017-05-19 00:00:00",
         "25c5c91f63607446a97b143d2d535d31",
         "itauna",
         "campo alegre"
        ],
        [
         "37",
         "001862358bf858722e1e2ae000cfed8b",
         "2cf869dd40c98f29686f636d83545cce",
         "delivered",
         "2018-02-06 19:11:57",
         "2018-02-07 19:10:37",
         "2018-02-08 17:44:13",
         "2018-02-15 22:57:01",
         "2018-03-02 00:00:00",
         "7a67c85e85bb2ce8582c35f2203ad736",
         "sao paulo",
         "cunha"
        ],
        [
         "38",
         "0019c29108428acffd089c36103c9440",
         "5f6bbac628ae418db4e0f92932f899c1",
         "delivered",
         "2018-03-06 06:40:28",
         "2018-03-06 06:50:26",
         "2018-03-07 01:20:05",
         "2018-03-16 22:34:53",
         "2018-04-11 00:00:00",
         "77530e9772f57a62c906e1c21538ab82",
         "curitiba",
         "monte siao"
        ],
        [
         "39",
         "001ab0a7578dd66cd4b0a71f5b6e1e41",
         "8bb3bef4e75a95524235cdc11a7331af",
         "delivered",
         "2017-12-27 00:38:47",
         "2017-12-28 02:33:42",
         "2017-12-28 18:09:35",
         "2018-01-17 20:43:29",
         "2018-01-29 00:00:00",
         "5656537e588803a555b8eb41f07a944b",
         "brasilia",
         "salvador"
        ],
        [
         "40",
         "001ac194d4a326a6fa99b581e9a3d963",
         "f4f17ada91ef010cbde3892ae54e625f",
         "delivered",
         "2018-07-04 11:39:11",
         "2018-07-06 02:51:10",
         "2018-07-06 08:58:00",
         "2018-07-12 17:48:49",
         "2018-07-17 00:00:00",
         "ffc470761de7d0232558ba5e786e57b7",
         "guarulhos",
         "cubatao"
        ],
        [
         "41",
         "001b76dd48a5b1eee3e87778daa40df8",
         "a62843b08086d1629415a203a7fd419d",
         "delivered",
         "2018-03-26 17:42:53",
         "2018-03-26 17:50:17",
         "2018-03-29 23:32:44",
         "2018-04-06 18:36:23",
         "2018-04-27 00:00:00",
         "9c0e69c7bf2619675bbadf47b43f655a",
         "sao jose dos campos",
         "santa salete"
        ],
        [
         "42",
         "001c85b5f68d2be0cb0797afc9e8ce9a",
         "48ed31e735f1c420ed6ca3637b7c744d",
         "delivered",
         "2017-11-24 19:19:18",
         "2017-11-24 22:38:47",
         "2017-11-27 12:42:15",
         "2017-12-22 18:37:40",
         "2017-12-14 00:00:00",
         "4a3ca9315b744ce9f8e9374361493884",
         "ibitinga",
         "sao paulo"
        ],
        [
         "43",
         "001d8f0e34a38c37f7dba2a37d4eba8b",
         "d987da9fb4086ab7c2c0f83963cd6722",
         "delivered",
         "2017-05-14 17:19:44",
         "2017-05-14 17:35:11",
         "2017-05-24 15:45:01",
         "2017-05-26 13:14:50",
         "2017-05-24 00:00:00",
         "f4aba7c0bca51484c30ab7bdc34bcdd1",
         "sao paulo",
         "sao paulo"
        ],
        [
         "44",
         "001daeb0eddc45b999bad0801ad9d273",
         "3ba02060e681d361d603d5f7ef0a730b",
         "delivered",
         "2017-05-17 23:19:34",
         "2017-05-19 02:15:20",
         "2017-05-19 10:03:49",
         "2017-06-08 15:34:07",
         "2017-06-19 00:00:00",
         "f45122a9ab94eb4f3f8953578bc0c560",
         "piracicaba",
         "itapicuru"
        ],
        [
         "45",
         "001dbc16dc51075e987543d23a0507c7",
         "698a74f33469466fa4172e829505d1c6",
         "delivered",
         "2017-01-28 13:17:57",
         "2017-01-28 13:32:16",
         "2017-02-01 15:59:46",
         "2017-02-13 13:17:47",
         "2017-03-20 00:00:00",
         "4a3ca9315b744ce9f8e9374361493884",
         "ibitinga",
         "santos dumont"
        ],
        [
         "46",
         "001e7ba991be1b19605ca0316e7130f9",
         "b6a1445ee505f3a95c827e7a5188ad02",
         "delivered",
         "2017-03-18 11:47:37",
         "2017-03-18 11:47:37",
         "2017-03-20 10:14:45",
         "2017-03-28 14:23:33",
         "2017-04-12 00:00:00",
         "3340ef1913fb70d28420f6ceb685c339",
         "maringa",
         "campo grande"
        ],
        [
         "47",
         "001e7cf2ad6bef3ade12ebc56ceaf0f3",
         "d1684ed69f8fd574b7c344de923f379a",
         "delivered",
         "2018-05-19 10:29:23",
         "2018-05-19 10:59:50",
         "2018-05-21 14:34:00",
         "2018-06-04 18:08:23",
         "2018-06-05 00:00:00",
         "2a84855fd20af891be03bc5924d2b453",
         "belo horizonte",
         "coromandel"
        ],
        [
         "48",
         "0020262c8a370bd5a174ea6a2a267321",
         "9ec353f970bdf785f6568724d9ea19aa",
         "delivered",
         "2017-11-28 09:32:49",
         "2017-11-28 09:58:07",
         "2017-11-29 00:09:20",
         "2017-12-02 12:27:33",
         "2017-12-22 00:00:00",
         "ff063b022a9a0aab91bad2c9088760b7",
         "santo andre",
         "guaratuba"
        ],
        [
         "49",
         "0020a222f55eb79a372d0efee3cca688",
         "0c45155afd8ff99622c40824057f9b34",
         "delivered",
         "2017-08-15 02:45:18",
         "2017-08-15 03:03:44",
         "2017-08-15 16:40:22",
         "2017-08-24 19:19:56",
         "2017-09-06 00:00:00",
         "8a32e327fe2c1b3511609d81aaf9f042",
         "sao paulo",
         "volta redonda"
        ]
       ],
       "shape": {
        "columns": 11,
        "rows": 98658
       }
      },
      "text/html": [
       "<div>\n",
       "<style scoped>\n",
       "    .dataframe tbody tr th:only-of-type {\n",
       "        vertical-align: middle;\n",
       "    }\n",
       "\n",
       "    .dataframe tbody tr th {\n",
       "        vertical-align: top;\n",
       "    }\n",
       "\n",
       "    .dataframe thead th {\n",
       "        text-align: right;\n",
       "    }\n",
       "</style>\n",
       "<table border=\"1\" class=\"dataframe\">\n",
       "  <thead>\n",
       "    <tr style=\"text-align: right;\">\n",
       "      <th></th>\n",
       "      <th>order_id</th>\n",
       "      <th>customer_id</th>\n",
       "      <th>order_status</th>\n",
       "      <th>order_purchase_timestamp</th>\n",
       "      <th>order_approved_at</th>\n",
       "      <th>order_delivered_carrier_date</th>\n",
       "      <th>order_delivered_customer_date</th>\n",
       "      <th>order_estimated_delivery_date</th>\n",
       "      <th>seller_id</th>\n",
       "      <th>seller_city</th>\n",
       "      <th>customer_city</th>\n",
       "    </tr>\n",
       "  </thead>\n",
       "  <tbody>\n",
       "    <tr>\n",
       "      <th>0</th>\n",
       "      <td>00010242fe8c5a6d1ba2dd792cb16214</td>\n",
       "      <td>3ce436f183e68e07877b285a838db11a</td>\n",
       "      <td>delivered</td>\n",
       "      <td>2017-09-13 08:59:02</td>\n",
       "      <td>2017-09-13 09:45:35</td>\n",
       "      <td>2017-09-19 18:34:16</td>\n",
       "      <td>2017-09-20 23:43:48</td>\n",
       "      <td>2017-09-29</td>\n",
       "      <td>48436dade18ac8b2bce089ec2a041202</td>\n",
       "      <td>volta redonda</td>\n",
       "      <td>campos dos goytacazes</td>\n",
       "    </tr>\n",
       "    <tr>\n",
       "      <th>1</th>\n",
       "      <td>00018f77f2f0320c557190d7a144bdd3</td>\n",
       "      <td>f6dd3ec061db4e3987629fe6b26e5cce</td>\n",
       "      <td>delivered</td>\n",
       "      <td>2017-04-26 10:53:06</td>\n",
       "      <td>2017-04-26 11:05:13</td>\n",
       "      <td>2017-05-04 14:35:00</td>\n",
       "      <td>2017-05-12 16:04:24</td>\n",
       "      <td>2017-05-15</td>\n",
       "      <td>dd7ddc04e1b6c2c614352b383efe2d36</td>\n",
       "      <td>sao paulo</td>\n",
       "      <td>santa fe do sul</td>\n",
       "    </tr>\n",
       "    <tr>\n",
       "      <th>2</th>\n",
       "      <td>000229ec398224ef6ca0657da4fc703e</td>\n",
       "      <td>6489ae5e4333f3693df5ad4372dab6d3</td>\n",
       "      <td>delivered</td>\n",
       "      <td>2018-01-14 14:33:31</td>\n",
       "      <td>2018-01-14 14:48:30</td>\n",
       "      <td>2018-01-16 12:36:48</td>\n",
       "      <td>2018-01-22 13:19:16</td>\n",
       "      <td>2018-02-05</td>\n",
       "      <td>5b51032eddd242adc84c38acab88f23d</td>\n",
       "      <td>borda da mata</td>\n",
       "      <td>para de minas</td>\n",
       "    </tr>\n",
       "    <tr>\n",
       "      <th>3</th>\n",
       "      <td>00024acbcdf0a6daa1e931b038114c75</td>\n",
       "      <td>d4eb9395c8c0431ee92fce09860c5a06</td>\n",
       "      <td>delivered</td>\n",
       "      <td>2018-08-08 10:00:35</td>\n",
       "      <td>2018-08-08 10:10:18</td>\n",
       "      <td>2018-08-10 13:28:00</td>\n",
       "      <td>2018-08-14 13:32:39</td>\n",
       "      <td>2018-08-20</td>\n",
       "      <td>9d7a1d34a5052409006425275ba1c2b4</td>\n",
       "      <td>franca</td>\n",
       "      <td>atibaia</td>\n",
       "    </tr>\n",
       "    <tr>\n",
       "      <th>4</th>\n",
       "      <td>00042b26cf59d7ce69dfabb4e55b4fd9</td>\n",
       "      <td>58dbd0b2d70206bf40e62cd34e84d795</td>\n",
       "      <td>delivered</td>\n",
       "      <td>2017-02-04 13:57:51</td>\n",
       "      <td>2017-02-04 14:10:13</td>\n",
       "      <td>2017-02-16 09:46:09</td>\n",
       "      <td>2017-03-01 16:42:31</td>\n",
       "      <td>2017-03-17</td>\n",
       "      <td>df560393f3a51e74553ab94004ba5c87</td>\n",
       "      <td>loanda</td>\n",
       "      <td>varzea paulista</td>\n",
       "    </tr>\n",
       "    <tr>\n",
       "      <th>...</th>\n",
       "      <td>...</td>\n",
       "      <td>...</td>\n",
       "      <td>...</td>\n",
       "      <td>...</td>\n",
       "      <td>...</td>\n",
       "      <td>...</td>\n",
       "      <td>...</td>\n",
       "      <td>...</td>\n",
       "      <td>...</td>\n",
       "      <td>...</td>\n",
       "      <td>...</td>\n",
       "    </tr>\n",
       "    <tr>\n",
       "      <th>98653</th>\n",
       "      <td>fffc94f6ce00a00581880bf54a75a037</td>\n",
       "      <td>b51593916b4b8e0d6f66f2ae24f2673d</td>\n",
       "      <td>delivered</td>\n",
       "      <td>2018-04-23 13:57:06</td>\n",
       "      <td>2018-04-25 04:11:01</td>\n",
       "      <td>2018-04-25 12:09:00</td>\n",
       "      <td>2018-05-10 22:56:40</td>\n",
       "      <td>2018-05-18</td>\n",
       "      <td>b8bc237ba3788b23da09c0f1f3a3288c</td>\n",
       "      <td>itajai</td>\n",
       "      <td>sao luis</td>\n",
       "    </tr>\n",
       "    <tr>\n",
       "      <th>98654</th>\n",
       "      <td>fffcd46ef2263f404302a634eb57f7eb</td>\n",
       "      <td>84c5d4fbaf120aae381fad077416eaa0</td>\n",
       "      <td>delivered</td>\n",
       "      <td>2018-07-14 10:26:46</td>\n",
       "      <td>2018-07-17 04:31:48</td>\n",
       "      <td>2018-07-17 08:05:00</td>\n",
       "      <td>2018-07-23 20:31:55</td>\n",
       "      <td>2018-08-01</td>\n",
       "      <td>f3c38ab652836d21de61fb8314b69182</td>\n",
       "      <td>sao paulo</td>\n",
       "      <td>curitiba</td>\n",
       "    </tr>\n",
       "    <tr>\n",
       "      <th>98655</th>\n",
       "      <td>fffce4705a9662cd70adb13d4a31832d</td>\n",
       "      <td>29309aa813182aaddc9b259e31b870e6</td>\n",
       "      <td>delivered</td>\n",
       "      <td>2017-10-23 17:07:56</td>\n",
       "      <td>2017-10-24 17:14:25</td>\n",
       "      <td>2017-10-26 15:13:14</td>\n",
       "      <td>2017-10-28 12:22:22</td>\n",
       "      <td>2017-11-10</td>\n",
       "      <td>c3cfdc648177fdbbbb35635a37472c53</td>\n",
       "      <td>curitiba</td>\n",
       "      <td>sao paulo</td>\n",
       "    </tr>\n",
       "    <tr>\n",
       "      <th>98656</th>\n",
       "      <td>fffe18544ffabc95dfada21779c9644f</td>\n",
       "      <td>b5e6afd5a41800fdf401e0272ca74655</td>\n",
       "      <td>delivered</td>\n",
       "      <td>2017-08-14 23:02:59</td>\n",
       "      <td>2017-08-15 00:04:32</td>\n",
       "      <td>2017-08-15 19:02:53</td>\n",
       "      <td>2017-08-16 21:59:40</td>\n",
       "      <td>2017-08-25</td>\n",
       "      <td>2b3e4a2a3ea8e01938cabda2a3e5cc79</td>\n",
       "      <td>sao paulo</td>\n",
       "      <td>vinhedo</td>\n",
       "    </tr>\n",
       "    <tr>\n",
       "      <th>98657</th>\n",
       "      <td>fffe41c64501cc87c801fd61db3f6244</td>\n",
       "      <td>96d649da0cc4ff33bb408b199d4c7dcf</td>\n",
       "      <td>delivered</td>\n",
       "      <td>2018-06-09 17:00:18</td>\n",
       "      <td>2018-06-09 17:10:13</td>\n",
       "      <td>2018-06-11 14:11:00</td>\n",
       "      <td>2018-06-14 17:56:26</td>\n",
       "      <td>2018-06-28</td>\n",
       "      <td>f7ccf836d21b2fb1de37564105216cc1</td>\n",
       "      <td>ibitinga</td>\n",
       "      <td>botucatu</td>\n",
       "    </tr>\n",
       "  </tbody>\n",
       "</table>\n",
       "<p>98658 rows × 11 columns</p>\n",
       "</div>"
      ],
      "text/plain": [
       "                               order_id                       customer_id  \\\n",
       "0      00010242fe8c5a6d1ba2dd792cb16214  3ce436f183e68e07877b285a838db11a   \n",
       "1      00018f77f2f0320c557190d7a144bdd3  f6dd3ec061db4e3987629fe6b26e5cce   \n",
       "2      000229ec398224ef6ca0657da4fc703e  6489ae5e4333f3693df5ad4372dab6d3   \n",
       "3      00024acbcdf0a6daa1e931b038114c75  d4eb9395c8c0431ee92fce09860c5a06   \n",
       "4      00042b26cf59d7ce69dfabb4e55b4fd9  58dbd0b2d70206bf40e62cd34e84d795   \n",
       "...                                 ...                               ...   \n",
       "98653  fffc94f6ce00a00581880bf54a75a037  b51593916b4b8e0d6f66f2ae24f2673d   \n",
       "98654  fffcd46ef2263f404302a634eb57f7eb  84c5d4fbaf120aae381fad077416eaa0   \n",
       "98655  fffce4705a9662cd70adb13d4a31832d  29309aa813182aaddc9b259e31b870e6   \n",
       "98656  fffe18544ffabc95dfada21779c9644f  b5e6afd5a41800fdf401e0272ca74655   \n",
       "98657  fffe41c64501cc87c801fd61db3f6244  96d649da0cc4ff33bb408b199d4c7dcf   \n",
       "\n",
       "      order_status order_purchase_timestamp   order_approved_at  \\\n",
       "0        delivered      2017-09-13 08:59:02 2017-09-13 09:45:35   \n",
       "1        delivered      2017-04-26 10:53:06 2017-04-26 11:05:13   \n",
       "2        delivered      2018-01-14 14:33:31 2018-01-14 14:48:30   \n",
       "3        delivered      2018-08-08 10:00:35 2018-08-08 10:10:18   \n",
       "4        delivered      2017-02-04 13:57:51 2017-02-04 14:10:13   \n",
       "...            ...                      ...                 ...   \n",
       "98653    delivered      2018-04-23 13:57:06 2018-04-25 04:11:01   \n",
       "98654    delivered      2018-07-14 10:26:46 2018-07-17 04:31:48   \n",
       "98655    delivered      2017-10-23 17:07:56 2017-10-24 17:14:25   \n",
       "98656    delivered      2017-08-14 23:02:59 2017-08-15 00:04:32   \n",
       "98657    delivered      2018-06-09 17:00:18 2018-06-09 17:10:13   \n",
       "\n",
       "      order_delivered_carrier_date order_delivered_customer_date  \\\n",
       "0              2017-09-19 18:34:16           2017-09-20 23:43:48   \n",
       "1              2017-05-04 14:35:00           2017-05-12 16:04:24   \n",
       "2              2018-01-16 12:36:48           2018-01-22 13:19:16   \n",
       "3              2018-08-10 13:28:00           2018-08-14 13:32:39   \n",
       "4              2017-02-16 09:46:09           2017-03-01 16:42:31   \n",
       "...                            ...                           ...   \n",
       "98653          2018-04-25 12:09:00           2018-05-10 22:56:40   \n",
       "98654          2018-07-17 08:05:00           2018-07-23 20:31:55   \n",
       "98655          2017-10-26 15:13:14           2017-10-28 12:22:22   \n",
       "98656          2017-08-15 19:02:53           2017-08-16 21:59:40   \n",
       "98657          2018-06-11 14:11:00           2018-06-14 17:56:26   \n",
       "\n",
       "      order_estimated_delivery_date                         seller_id  \\\n",
       "0                        2017-09-29  48436dade18ac8b2bce089ec2a041202   \n",
       "1                        2017-05-15  dd7ddc04e1b6c2c614352b383efe2d36   \n",
       "2                        2018-02-05  5b51032eddd242adc84c38acab88f23d   \n",
       "3                        2018-08-20  9d7a1d34a5052409006425275ba1c2b4   \n",
       "4                        2017-03-17  df560393f3a51e74553ab94004ba5c87   \n",
       "...                             ...                               ...   \n",
       "98653                    2018-05-18  b8bc237ba3788b23da09c0f1f3a3288c   \n",
       "98654                    2018-08-01  f3c38ab652836d21de61fb8314b69182   \n",
       "98655                    2017-11-10  c3cfdc648177fdbbbb35635a37472c53   \n",
       "98656                    2017-08-25  2b3e4a2a3ea8e01938cabda2a3e5cc79   \n",
       "98657                    2018-06-28  f7ccf836d21b2fb1de37564105216cc1   \n",
       "\n",
       "         seller_city          customer_city  \n",
       "0      volta redonda  campos dos goytacazes  \n",
       "1          sao paulo        santa fe do sul  \n",
       "2      borda da mata          para de minas  \n",
       "3             franca                atibaia  \n",
       "4             loanda        varzea paulista  \n",
       "...              ...                    ...  \n",
       "98653         itajai               sao luis  \n",
       "98654      sao paulo               curitiba  \n",
       "98655       curitiba              sao paulo  \n",
       "98656      sao paulo                vinhedo  \n",
       "98657       ibitinga               botucatu  \n",
       "\n",
       "[98658 rows x 11 columns]"
      ]
     },
     "execution_count": 85,
     "metadata": {},
     "output_type": "execute_result"
    }
   ],
   "source": [
    "merged_orders = (df_orders.merge(df_order_items[[\"order_id\",\"seller_id\"]],on=\"order_id\")\n",
    "                          .merge(df_sellers[[\"seller_id\",\"seller_city\"]], on = \"seller_id\")\n",
    "                          .merge(df_customers[[\"customer_id\",\"customer_city\"]],on = \"customer_id\")\n",
    "\n",
    ")\n",
    "merged_orders"
   ]
  },
  {
   "cell_type": "code",
   "execution_count": 86,
   "id": "fb879b61",
   "metadata": {},
   "outputs": [],
   "source": [
    "dict_avg_days_between_cities = avg_days_between_cities.to_dict()"
   ]
  },
  {
   "cell_type": "code",
   "execution_count": 87,
   "id": "56840028",
   "metadata": {},
   "outputs": [],
   "source": [
    "for a, b in merged_orders.loc[mask].groupby(by=[\"customer_city\",\"seller_city\"]):\n",
    "    for key, val in dict_avg_days_between_cities.items():\n",
    "        if a == key:\n",
    "            merged_orders.loc[b.index,\"order_estimated_delivery_date\"] = merged_orders.loc[b.index,\"order_purchase_timestamp\"] + val\n",
    "  "
   ]
  },
  {
   "cell_type": "markdown",
   "id": "b22990e5",
   "metadata": {},
   "source": [
    "And now we need to fill the missing data in df_orders based on the data from merged_orders"
   ]
  },
  {
   "cell_type": "code",
   "execution_count": 88,
   "id": "f6a30b5b",
   "metadata": {},
   "outputs": [
    {
     "data": {
      "application/vnd.microsoft.datawrangler.viewer.v0+json": {
       "columns": [
        {
         "name": "order_id",
         "rawType": "object",
         "type": "string"
        },
        {
         "name": "order_estimated_delivery_date",
         "rawType": "datetime64[ns]",
         "type": "datetime"
        }
       ],
       "ref": "9768cfa2-4a79-464c-9e90-4cef6731332b",
       "rows": [
        [
         "00010242fe8c5a6d1ba2dd792cb16214",
         "2017-09-20 08:17:18"
        ],
        [
         "00018f77f2f0320c557190d7a144bdd3",
         "2017-05-09 02:16:43"
        ],
        [
         "000229ec398224ef6ca0657da4fc703e",
         "2018-01-22 13:19:16"
        ],
        [
         "00024acbcdf0a6daa1e931b038114c75",
         "2018-08-13 22:13:06"
        ],
        [
         "00042b26cf59d7ce69dfabb4e55b4fd9",
         "2017-03-01 16:42:31"
        ],
        [
         "00048cc3ae777c65dbb7d2a0634bc1ea",
         "2017-05-24 12:03:10"
        ],
        [
         "00054e8431b9d7675808bcb819fb4a32",
         "2017-12-20 05:05:39.333333333"
        ],
        [
         "000576fe39319847cbb9d288c5617fa6",
         "2018-07-09 14:04:07"
        ],
        [
         "0005a1a1728c9d785b8e2b08b904576c",
         "2018-03-25 23:48:37.497409326"
        ],
        [
         "0005f50442cb953dcd1d21e1fb923495",
         "2018-07-08 22:02:54.697136311"
        ],
        [
         "00061f2a7bc09da83e415a52dc8a4af1",
         "2018-03-31 02:10:09.333333333"
        ],
        [
         "00063b381e2406b52ad429470734ebd5",
         "2018-08-06 01:27:59.555555555"
        ],
        [
         "0006ec9db01a64e59a68b2c340bf65a7",
         "2018-08-11 08:43:28.180293501"
        ],
        [
         "0008288aa423d2a3f00fcb17cd7d8719",
         "2018-02-26 13:55:22"
        ],
        [
         "0009792311464db532ff765bf7b182ae",
         "2018-08-22 12:02:27"
        ],
        [
         "0009c9a17f916a706d71784483a5d643",
         "2018-05-04 06:13:00.939393939"
        ],
        [
         "000aed2e25dbad2f9ddb70584c5a2ded",
         "2018-05-16 06:17:04"
        ],
        [
         "000c3e6612759851cc3cbb4b83257986",
         "2017-08-23 03:18:46"
        ],
        [
         "000e562887b1f2006d75e0be9558292e",
         "2018-03-12 18:46:34"
        ],
        [
         "000e63d38ae8c00bbcb5a30573b99628",
         "2018-03-30 03:51:41.697136311"
        ],
        [
         "000e906b789b55f64edcb1f84030f90d",
         "2017-12-01 16:54:08.384615384"
        ],
        [
         "000f25f4d72195062c040b12dce9a18a",
         "2018-03-22 16:51:52"
        ],
        [
         "001021efaa8636c29475e7734483457d",
         "2018-03-10 14:03:02.666666666"
        ],
        [
         "0010b2e5201cc5f1ae7e9c6cc8f5bd00",
         "2017-09-19 16:56:12.250000"
        ],
        [
         "00119ff934e539cf26f92b9ef0cdfed8",
         "2017-08-31 00:00:00"
        ],
        [
         "0011d82c4b53e22e84023405fb467e57",
         "2018-01-24 20:58:41.318181818"
        ],
        [
         "00125cb692d04887809806618a2a145f",
         "2017-04-08 17:12:29.200000"
        ],
        [
         "00130c0eee84a3d909e75bc08c5c3ca1",
         "2018-06-17 07:23:36.111111111"
        ],
        [
         "0013503b13da1eac686219390b7d641b",
         "2017-12-16 02:57:12.500000"
        ],
        [
         "00137e170939bba5a3134e2386413108",
         "2017-12-10 10:20:36.791907514"
        ],
        [
         "001427c0ec99cf8af737bd88e92fd444",
         "2018-04-21 23:16:46"
        ],
        [
         "00143d0f86d6fbd9f9b38ab440ac16f5",
         "2017-11-02 12:30:06.600000"
        ],
        [
         "0014ae671de39511f7575066200733b7",
         "2017-06-02 10:10:16.214285714"
        ],
        [
         "0015ebb40fb17286bea51d4607c4733c",
         "2018-02-01 20:29:51"
        ],
        [
         "00169e31ef4b29deaae414f9a5e95929",
         "2018-02-03 01:05:50.180293501"
        ],
        [
         "0016dfedd97fc2950e388d2971d718c7",
         "2017-05-22 18:32:21"
        ],
        [
         "0017afd5076e074a48f1f1a4c7bac9c5",
         "2017-05-23 08:32:07"
        ],
        [
         "001862358bf858722e1e2ae000cfed8b",
         "2018-02-17 13:17:49.600000"
        ],
        [
         "0019c29108428acffd089c36103c9440",
         "2018-03-16 22:34:53"
        ],
        [
         "001ab0a7578dd66cd4b0a71f5b6e1e41",
         "2018-01-13 10:38:35.764705882"
        ],
        [
         "001ac194d4a326a6fa99b581e9a3d963",
         "2018-07-09 09:28:48.500000"
        ],
        [
         "001b76dd48a5b1eee3e87778daa40df8",
         "2018-04-06 18:36:23"
        ],
        [
         "001c85b5f68d2be0cb0797afc9e8ce9a",
         "2017-12-06 04:24:19.727508650"
        ],
        [
         "001d8f0e34a38c37f7dba2a37d4eba8b",
         "2017-05-21 01:22:59.697136311"
        ],
        [
         "001daeb0eddc45b999bad0801ad9d273",
         "2017-06-08 15:34:07"
        ],
        [
         "001dbc16dc51075e987543d23a0507c7",
         "2017-02-09 11:12:58"
        ],
        [
         "001e7ba991be1b19605ca0316e7130f9",
         "2017-04-02 12:14:20.800000"
        ],
        [
         "001e7cf2ad6bef3ade12ebc56ceaf0f3",
         "2018-05-31 22:58:51.500000"
        ],
        [
         "0020262c8a370bd5a174ea6a2a267321",
         "2017-12-02 12:27:33"
        ],
        [
         "0020a222f55eb79a372d0efee3cca688",
         "2017-09-03 11:34:13.108695652"
        ]
       ],
       "shape": {
        "columns": 1,
        "rows": 98658
       }
      },
      "text/plain": [
       "order_id\n",
       "00010242fe8c5a6d1ba2dd792cb16214   2017-09-20 08:17:18.000000000\n",
       "00018f77f2f0320c557190d7a144bdd3   2017-05-09 02:16:43.000000000\n",
       "000229ec398224ef6ca0657da4fc703e   2018-01-22 13:19:16.000000000\n",
       "00024acbcdf0a6daa1e931b038114c75   2018-08-13 22:13:06.000000000\n",
       "00042b26cf59d7ce69dfabb4e55b4fd9   2017-03-01 16:42:31.000000000\n",
       "                                                ...             \n",
       "fffc94f6ce00a00581880bf54a75a037   2018-05-10 22:56:40.000000000\n",
       "fffcd46ef2263f404302a634eb57f7eb   2018-07-24 14:29:56.098265896\n",
       "fffce4705a9662cd70adb13d4a31832d   2017-11-02 06:29:21.472222222\n",
       "fffe18544ffabc95dfada21779c9644f   2017-08-21 10:00:03.666666666\n",
       "fffe41c64501cc87c801fd61db3f6244   2018-06-18 12:51:52.200000000\n",
       "Name: order_estimated_delivery_date, Length: 98658, dtype: datetime64[ns]"
      ]
     },
     "execution_count": 88,
     "metadata": {},
     "output_type": "execute_result"
    }
   ],
   "source": [
    "mapping = merged_orders[[\"order_id\",\"order_estimated_delivery_date\"]]\n",
    "mapping = mapping.set_index(\"order_id\").squeeze()\n",
    "mapping"
   ]
  },
  {
   "cell_type": "code",
   "execution_count": 89,
   "id": "c4e864c9",
   "metadata": {},
   "outputs": [],
   "source": [
    "df_orders[\"order_estimated_delivery_date\"] = df_orders[\"order_estimated_delivery_date\"].fillna(df_orders[\"order_id\"].map(mapping))"
   ]
  },
  {
   "cell_type": "code",
   "execution_count": 90,
   "id": "5e73aea0",
   "metadata": {},
   "outputs": [
    {
     "data": {
      "text/plain": [
       "['36530871a5e80138db53bcfd8a104d90',\n",
       " '4e2160ff7a61b2bf4fbd2e527ea924d3',\n",
       " '615ae1b88a25a4ac47fbf55c9c847b6e',\n",
       " '61988b318aaf57d18336c629bc42cf1b',\n",
       " '68873cf91053cd11e6b49a766db5af1a',\n",
       " '6f5a2dbe5ccce73a9d053a542baabd1c',\n",
       " '74c951ce0835b2741d3014321ae9c480',\n",
       " '82daed31f80350ce51f518369a8d181c',\n",
       " '86e574a0701d15590bf31783bc7de5dc',\n",
       " '8e24261a7e58791d10cb1bf9da94df5c',\n",
       " '91b2a010e1e45e6ba3d133fa997597be',\n",
       " '9344ccd01ff5fa7ec2aef0ee7e1c49c3',\n",
       " '9885fff91f7c807525f8320e5292a3db',\n",
       " 'b68d69564a79dea4776afa33d1d2fcab',\n",
       " 'd3c8851a6651eeff2f73b0e011ac45d0',\n",
       " 'f373335aac9a659de916f7170b8bc07a']"
      ]
     },
     "execution_count": 90,
     "metadata": {},
     "output_type": "execute_result"
    }
   ],
   "source": [
    "unmatched_orders = df_orders[df_orders[\"order_estimated_delivery_date\"].isna()][\"order_id\"].to_list()\n",
    "unmatched_orders"
   ]
  },
  {
   "cell_type": "markdown",
   "id": "c2626a52",
   "metadata": {},
   "source": [
    "The remaining uncompleted order id's are those that don't have order_delivery_date"
   ]
  },
  {
   "cell_type": "markdown",
   "id": "26613047",
   "metadata": {},
   "source": [
    "6.5. Delivery time calculation: delivery_time_days = order_delivered_customer_date - order_purchase_timestamp"
   ]
  },
  {
   "cell_type": "code",
   "execution_count": 91,
   "id": "82be4d5e",
   "metadata": {},
   "outputs": [
    {
     "data": {
      "application/vnd.microsoft.datawrangler.viewer.v0+json": {
       "columns": [
        {
         "name": "index",
         "rawType": "int64",
         "type": "integer"
        },
        {
         "name": "order_id",
         "rawType": "object",
         "type": "string"
        },
        {
         "name": "customer_id",
         "rawType": "object",
         "type": "string"
        },
        {
         "name": "order_status",
         "rawType": "object",
         "type": "string"
        },
        {
         "name": "order_purchase_timestamp",
         "rawType": "datetime64[ns]",
         "type": "datetime"
        },
        {
         "name": "order_approved_at",
         "rawType": "datetime64[ns]",
         "type": "datetime"
        },
        {
         "name": "order_delivered_carrier_date",
         "rawType": "datetime64[ns]",
         "type": "datetime"
        },
        {
         "name": "order_delivered_customer_date",
         "rawType": "datetime64[ns]",
         "type": "datetime"
        },
        {
         "name": "order_estimated_delivery_date",
         "rawType": "datetime64[ns]",
         "type": "datetime"
        },
        {
         "name": "delivery_time",
         "rawType": "timedelta64[ns]",
         "type": "unknown"
        }
       ],
       "ref": "18d9bbe4-2ca3-4dd7-a125-6b9adda6d856",
       "rows": [
        [
         "0",
         "00010242fe8c5a6d1ba2dd792cb16214",
         "3ce436f183e68e07877b285a838db11a",
         "delivered",
         "2017-09-13 08:59:02",
         "2017-09-13 09:45:35",
         "2017-09-19 18:34:16",
         "2017-09-20 23:43:48",
         "2017-09-29 00:00:00",
         "7 days 14:44:46"
        ],
        [
         "1",
         "00018f77f2f0320c557190d7a144bdd3",
         "f6dd3ec061db4e3987629fe6b26e5cce",
         "delivered",
         "2017-04-26 10:53:06",
         "2017-04-26 11:05:13",
         "2017-05-04 14:35:00",
         "2017-05-12 16:04:24",
         "2017-05-15 00:00:00",
         "16 days 05:11:18"
        ],
        [
         "2",
         "000229ec398224ef6ca0657da4fc703e",
         "6489ae5e4333f3693df5ad4372dab6d3",
         "delivered",
         "2018-01-14 14:33:31",
         "2018-01-14 14:48:30",
         "2018-01-16 12:36:48",
         "2018-01-22 13:19:16",
         "2018-02-05 00:00:00",
         "7 days 22:45:45"
        ],
        [
         "3",
         "00024acbcdf0a6daa1e931b038114c75",
         "d4eb9395c8c0431ee92fce09860c5a06",
         "delivered",
         "2018-08-08 10:00:35",
         "2018-08-08 10:10:18",
         "2018-08-10 13:28:00",
         "2018-08-14 13:32:39",
         "2018-08-20 00:00:00",
         "6 days 03:32:04"
        ],
        [
         "4",
         "00042b26cf59d7ce69dfabb4e55b4fd9",
         "58dbd0b2d70206bf40e62cd34e84d795",
         "delivered",
         "2017-02-04 13:57:51",
         "2017-02-04 14:10:13",
         "2017-02-16 09:46:09",
         "2017-03-01 16:42:31",
         "2017-03-17 00:00:00",
         "25 days 02:44:40"
        ]
       ],
       "shape": {
        "columns": 9,
        "rows": 5
       }
      },
      "text/html": [
       "<div>\n",
       "<style scoped>\n",
       "    .dataframe tbody tr th:only-of-type {\n",
       "        vertical-align: middle;\n",
       "    }\n",
       "\n",
       "    .dataframe tbody tr th {\n",
       "        vertical-align: top;\n",
       "    }\n",
       "\n",
       "    .dataframe thead th {\n",
       "        text-align: right;\n",
       "    }\n",
       "</style>\n",
       "<table border=\"1\" class=\"dataframe\">\n",
       "  <thead>\n",
       "    <tr style=\"text-align: right;\">\n",
       "      <th></th>\n",
       "      <th>order_id</th>\n",
       "      <th>customer_id</th>\n",
       "      <th>order_status</th>\n",
       "      <th>order_purchase_timestamp</th>\n",
       "      <th>order_approved_at</th>\n",
       "      <th>order_delivered_carrier_date</th>\n",
       "      <th>order_delivered_customer_date</th>\n",
       "      <th>order_estimated_delivery_date</th>\n",
       "      <th>delivery_time</th>\n",
       "    </tr>\n",
       "  </thead>\n",
       "  <tbody>\n",
       "    <tr>\n",
       "      <th>0</th>\n",
       "      <td>00010242fe8c5a6d1ba2dd792cb16214</td>\n",
       "      <td>3ce436f183e68e07877b285a838db11a</td>\n",
       "      <td>delivered</td>\n",
       "      <td>2017-09-13 08:59:02</td>\n",
       "      <td>2017-09-13 09:45:35</td>\n",
       "      <td>2017-09-19 18:34:16</td>\n",
       "      <td>2017-09-20 23:43:48</td>\n",
       "      <td>2017-09-29</td>\n",
       "      <td>7 days 14:44:46</td>\n",
       "    </tr>\n",
       "    <tr>\n",
       "      <th>1</th>\n",
       "      <td>00018f77f2f0320c557190d7a144bdd3</td>\n",
       "      <td>f6dd3ec061db4e3987629fe6b26e5cce</td>\n",
       "      <td>delivered</td>\n",
       "      <td>2017-04-26 10:53:06</td>\n",
       "      <td>2017-04-26 11:05:13</td>\n",
       "      <td>2017-05-04 14:35:00</td>\n",
       "      <td>2017-05-12 16:04:24</td>\n",
       "      <td>2017-05-15</td>\n",
       "      <td>16 days 05:11:18</td>\n",
       "    </tr>\n",
       "    <tr>\n",
       "      <th>2</th>\n",
       "      <td>000229ec398224ef6ca0657da4fc703e</td>\n",
       "      <td>6489ae5e4333f3693df5ad4372dab6d3</td>\n",
       "      <td>delivered</td>\n",
       "      <td>2018-01-14 14:33:31</td>\n",
       "      <td>2018-01-14 14:48:30</td>\n",
       "      <td>2018-01-16 12:36:48</td>\n",
       "      <td>2018-01-22 13:19:16</td>\n",
       "      <td>2018-02-05</td>\n",
       "      <td>7 days 22:45:45</td>\n",
       "    </tr>\n",
       "    <tr>\n",
       "      <th>3</th>\n",
       "      <td>00024acbcdf0a6daa1e931b038114c75</td>\n",
       "      <td>d4eb9395c8c0431ee92fce09860c5a06</td>\n",
       "      <td>delivered</td>\n",
       "      <td>2018-08-08 10:00:35</td>\n",
       "      <td>2018-08-08 10:10:18</td>\n",
       "      <td>2018-08-10 13:28:00</td>\n",
       "      <td>2018-08-14 13:32:39</td>\n",
       "      <td>2018-08-20</td>\n",
       "      <td>6 days 03:32:04</td>\n",
       "    </tr>\n",
       "    <tr>\n",
       "      <th>4</th>\n",
       "      <td>00042b26cf59d7ce69dfabb4e55b4fd9</td>\n",
       "      <td>58dbd0b2d70206bf40e62cd34e84d795</td>\n",
       "      <td>delivered</td>\n",
       "      <td>2017-02-04 13:57:51</td>\n",
       "      <td>2017-02-04 14:10:13</td>\n",
       "      <td>2017-02-16 09:46:09</td>\n",
       "      <td>2017-03-01 16:42:31</td>\n",
       "      <td>2017-03-17</td>\n",
       "      <td>25 days 02:44:40</td>\n",
       "    </tr>\n",
       "  </tbody>\n",
       "</table>\n",
       "</div>"
      ],
      "text/plain": [
       "                           order_id                       customer_id  \\\n",
       "0  00010242fe8c5a6d1ba2dd792cb16214  3ce436f183e68e07877b285a838db11a   \n",
       "1  00018f77f2f0320c557190d7a144bdd3  f6dd3ec061db4e3987629fe6b26e5cce   \n",
       "2  000229ec398224ef6ca0657da4fc703e  6489ae5e4333f3693df5ad4372dab6d3   \n",
       "3  00024acbcdf0a6daa1e931b038114c75  d4eb9395c8c0431ee92fce09860c5a06   \n",
       "4  00042b26cf59d7ce69dfabb4e55b4fd9  58dbd0b2d70206bf40e62cd34e84d795   \n",
       "\n",
       "  order_status order_purchase_timestamp   order_approved_at  \\\n",
       "0    delivered      2017-09-13 08:59:02 2017-09-13 09:45:35   \n",
       "1    delivered      2017-04-26 10:53:06 2017-04-26 11:05:13   \n",
       "2    delivered      2018-01-14 14:33:31 2018-01-14 14:48:30   \n",
       "3    delivered      2018-08-08 10:00:35 2018-08-08 10:10:18   \n",
       "4    delivered      2017-02-04 13:57:51 2017-02-04 14:10:13   \n",
       "\n",
       "  order_delivered_carrier_date order_delivered_customer_date  \\\n",
       "0          2017-09-19 18:34:16           2017-09-20 23:43:48   \n",
       "1          2017-05-04 14:35:00           2017-05-12 16:04:24   \n",
       "2          2018-01-16 12:36:48           2018-01-22 13:19:16   \n",
       "3          2018-08-10 13:28:00           2018-08-14 13:32:39   \n",
       "4          2017-02-16 09:46:09           2017-03-01 16:42:31   \n",
       "\n",
       "  order_estimated_delivery_date    delivery_time  \n",
       "0                    2017-09-29  7 days 14:44:46  \n",
       "1                    2017-05-15 16 days 05:11:18  \n",
       "2                    2018-02-05  7 days 22:45:45  \n",
       "3                    2018-08-20  6 days 03:32:04  \n",
       "4                    2017-03-17 25 days 02:44:40  "
      ]
     },
     "execution_count": 91,
     "metadata": {},
     "output_type": "execute_result"
    }
   ],
   "source": [
    "df_orders[\"delivery_time\"] = df_orders[\"order_delivered_customer_date\"] - df_orders[\"order_purchase_timestamp\"]\n",
    "df_orders.head()"
   ]
  },
  {
   "cell_type": "code",
   "execution_count": 92,
   "id": "7c8c33b6",
   "metadata": {},
   "outputs": [
    {
     "name": "stdout",
     "output_type": "stream",
     "text": [
      "Number of orders without delivery date: 2965\n"
     ]
    }
   ],
   "source": [
    "print(f\"Number of orders without delivery date: {df_orders[\"delivery_time\"].isna().sum()}\")"
   ]
  },
  {
   "cell_type": "markdown",
   "id": "29e5d225",
   "metadata": {},
   "source": [
    "6.6. Calculating the shipping day's metric by: `$$shipping_time_days = order_delivered_carried_date - order_purchase_timestamp$$`"
   ]
  },
  {
   "cell_type": "code",
   "execution_count": 93,
   "id": "fcc8af9d",
   "metadata": {},
   "outputs": [
    {
     "data": {
      "application/vnd.microsoft.datawrangler.viewer.v0+json": {
       "columns": [
        {
         "name": "index",
         "rawType": "int64",
         "type": "integer"
        },
        {
         "name": "order_id",
         "rawType": "object",
         "type": "string"
        },
        {
         "name": "customer_id",
         "rawType": "object",
         "type": "string"
        },
        {
         "name": "order_status",
         "rawType": "object",
         "type": "string"
        },
        {
         "name": "order_purchase_timestamp",
         "rawType": "datetime64[ns]",
         "type": "datetime"
        },
        {
         "name": "order_approved_at",
         "rawType": "datetime64[ns]",
         "type": "datetime"
        },
        {
         "name": "order_delivered_carrier_date",
         "rawType": "datetime64[ns]",
         "type": "datetime"
        },
        {
         "name": "order_delivered_customer_date",
         "rawType": "datetime64[ns]",
         "type": "datetime"
        },
        {
         "name": "order_estimated_delivery_date",
         "rawType": "datetime64[ns]",
         "type": "datetime"
        },
        {
         "name": "delivery_time",
         "rawType": "timedelta64[ns]",
         "type": "unknown"
        },
        {
         "name": "shipping_days",
         "rawType": "timedelta64[ns]",
         "type": "unknown"
        }
       ],
       "ref": "0a93cb7c-855d-42cb-a559-2bdc39bf758a",
       "rows": [
        [
         "0",
         "00010242fe8c5a6d1ba2dd792cb16214",
         "3ce436f183e68e07877b285a838db11a",
         "delivered",
         "2017-09-13 08:59:02",
         "2017-09-13 09:45:35",
         "2017-09-19 18:34:16",
         "2017-09-20 23:43:48",
         "2017-09-29 00:00:00",
         "7 days 14:44:46",
         "6 days 09:35:14"
        ],
        [
         "1",
         "00018f77f2f0320c557190d7a144bdd3",
         "f6dd3ec061db4e3987629fe6b26e5cce",
         "delivered",
         "2017-04-26 10:53:06",
         "2017-04-26 11:05:13",
         "2017-05-04 14:35:00",
         "2017-05-12 16:04:24",
         "2017-05-15 00:00:00",
         "16 days 05:11:18",
         "8 days 03:41:54"
        ],
        [
         "2",
         "000229ec398224ef6ca0657da4fc703e",
         "6489ae5e4333f3693df5ad4372dab6d3",
         "delivered",
         "2018-01-14 14:33:31",
         "2018-01-14 14:48:30",
         "2018-01-16 12:36:48",
         "2018-01-22 13:19:16",
         "2018-02-05 00:00:00",
         "7 days 22:45:45",
         "1 days 22:03:17"
        ],
        [
         "3",
         "00024acbcdf0a6daa1e931b038114c75",
         "d4eb9395c8c0431ee92fce09860c5a06",
         "delivered",
         "2018-08-08 10:00:35",
         "2018-08-08 10:10:18",
         "2018-08-10 13:28:00",
         "2018-08-14 13:32:39",
         "2018-08-20 00:00:00",
         "6 days 03:32:04",
         "2 days 03:27:25"
        ],
        [
         "4",
         "00042b26cf59d7ce69dfabb4e55b4fd9",
         "58dbd0b2d70206bf40e62cd34e84d795",
         "delivered",
         "2017-02-04 13:57:51",
         "2017-02-04 14:10:13",
         "2017-02-16 09:46:09",
         "2017-03-01 16:42:31",
         "2017-03-17 00:00:00",
         "25 days 02:44:40",
         "11 days 19:48:18"
        ]
       ],
       "shape": {
        "columns": 10,
        "rows": 5
       }
      },
      "text/html": [
       "<div>\n",
       "<style scoped>\n",
       "    .dataframe tbody tr th:only-of-type {\n",
       "        vertical-align: middle;\n",
       "    }\n",
       "\n",
       "    .dataframe tbody tr th {\n",
       "        vertical-align: top;\n",
       "    }\n",
       "\n",
       "    .dataframe thead th {\n",
       "        text-align: right;\n",
       "    }\n",
       "</style>\n",
       "<table border=\"1\" class=\"dataframe\">\n",
       "  <thead>\n",
       "    <tr style=\"text-align: right;\">\n",
       "      <th></th>\n",
       "      <th>order_id</th>\n",
       "      <th>customer_id</th>\n",
       "      <th>order_status</th>\n",
       "      <th>order_purchase_timestamp</th>\n",
       "      <th>order_approved_at</th>\n",
       "      <th>order_delivered_carrier_date</th>\n",
       "      <th>order_delivered_customer_date</th>\n",
       "      <th>order_estimated_delivery_date</th>\n",
       "      <th>delivery_time</th>\n",
       "      <th>shipping_days</th>\n",
       "    </tr>\n",
       "  </thead>\n",
       "  <tbody>\n",
       "    <tr>\n",
       "      <th>0</th>\n",
       "      <td>00010242fe8c5a6d1ba2dd792cb16214</td>\n",
       "      <td>3ce436f183e68e07877b285a838db11a</td>\n",
       "      <td>delivered</td>\n",
       "      <td>2017-09-13 08:59:02</td>\n",
       "      <td>2017-09-13 09:45:35</td>\n",
       "      <td>2017-09-19 18:34:16</td>\n",
       "      <td>2017-09-20 23:43:48</td>\n",
       "      <td>2017-09-29</td>\n",
       "      <td>7 days 14:44:46</td>\n",
       "      <td>6 days 09:35:14</td>\n",
       "    </tr>\n",
       "    <tr>\n",
       "      <th>1</th>\n",
       "      <td>00018f77f2f0320c557190d7a144bdd3</td>\n",
       "      <td>f6dd3ec061db4e3987629fe6b26e5cce</td>\n",
       "      <td>delivered</td>\n",
       "      <td>2017-04-26 10:53:06</td>\n",
       "      <td>2017-04-26 11:05:13</td>\n",
       "      <td>2017-05-04 14:35:00</td>\n",
       "      <td>2017-05-12 16:04:24</td>\n",
       "      <td>2017-05-15</td>\n",
       "      <td>16 days 05:11:18</td>\n",
       "      <td>8 days 03:41:54</td>\n",
       "    </tr>\n",
       "    <tr>\n",
       "      <th>2</th>\n",
       "      <td>000229ec398224ef6ca0657da4fc703e</td>\n",
       "      <td>6489ae5e4333f3693df5ad4372dab6d3</td>\n",
       "      <td>delivered</td>\n",
       "      <td>2018-01-14 14:33:31</td>\n",
       "      <td>2018-01-14 14:48:30</td>\n",
       "      <td>2018-01-16 12:36:48</td>\n",
       "      <td>2018-01-22 13:19:16</td>\n",
       "      <td>2018-02-05</td>\n",
       "      <td>7 days 22:45:45</td>\n",
       "      <td>1 days 22:03:17</td>\n",
       "    </tr>\n",
       "    <tr>\n",
       "      <th>3</th>\n",
       "      <td>00024acbcdf0a6daa1e931b038114c75</td>\n",
       "      <td>d4eb9395c8c0431ee92fce09860c5a06</td>\n",
       "      <td>delivered</td>\n",
       "      <td>2018-08-08 10:00:35</td>\n",
       "      <td>2018-08-08 10:10:18</td>\n",
       "      <td>2018-08-10 13:28:00</td>\n",
       "      <td>2018-08-14 13:32:39</td>\n",
       "      <td>2018-08-20</td>\n",
       "      <td>6 days 03:32:04</td>\n",
       "      <td>2 days 03:27:25</td>\n",
       "    </tr>\n",
       "    <tr>\n",
       "      <th>4</th>\n",
       "      <td>00042b26cf59d7ce69dfabb4e55b4fd9</td>\n",
       "      <td>58dbd0b2d70206bf40e62cd34e84d795</td>\n",
       "      <td>delivered</td>\n",
       "      <td>2017-02-04 13:57:51</td>\n",
       "      <td>2017-02-04 14:10:13</td>\n",
       "      <td>2017-02-16 09:46:09</td>\n",
       "      <td>2017-03-01 16:42:31</td>\n",
       "      <td>2017-03-17</td>\n",
       "      <td>25 days 02:44:40</td>\n",
       "      <td>11 days 19:48:18</td>\n",
       "    </tr>\n",
       "  </tbody>\n",
       "</table>\n",
       "</div>"
      ],
      "text/plain": [
       "                           order_id                       customer_id  \\\n",
       "0  00010242fe8c5a6d1ba2dd792cb16214  3ce436f183e68e07877b285a838db11a   \n",
       "1  00018f77f2f0320c557190d7a144bdd3  f6dd3ec061db4e3987629fe6b26e5cce   \n",
       "2  000229ec398224ef6ca0657da4fc703e  6489ae5e4333f3693df5ad4372dab6d3   \n",
       "3  00024acbcdf0a6daa1e931b038114c75  d4eb9395c8c0431ee92fce09860c5a06   \n",
       "4  00042b26cf59d7ce69dfabb4e55b4fd9  58dbd0b2d70206bf40e62cd34e84d795   \n",
       "\n",
       "  order_status order_purchase_timestamp   order_approved_at  \\\n",
       "0    delivered      2017-09-13 08:59:02 2017-09-13 09:45:35   \n",
       "1    delivered      2017-04-26 10:53:06 2017-04-26 11:05:13   \n",
       "2    delivered      2018-01-14 14:33:31 2018-01-14 14:48:30   \n",
       "3    delivered      2018-08-08 10:00:35 2018-08-08 10:10:18   \n",
       "4    delivered      2017-02-04 13:57:51 2017-02-04 14:10:13   \n",
       "\n",
       "  order_delivered_carrier_date order_delivered_customer_date  \\\n",
       "0          2017-09-19 18:34:16           2017-09-20 23:43:48   \n",
       "1          2017-05-04 14:35:00           2017-05-12 16:04:24   \n",
       "2          2018-01-16 12:36:48           2018-01-22 13:19:16   \n",
       "3          2018-08-10 13:28:00           2018-08-14 13:32:39   \n",
       "4          2017-02-16 09:46:09           2017-03-01 16:42:31   \n",
       "\n",
       "  order_estimated_delivery_date    delivery_time    shipping_days  \n",
       "0                    2017-09-29  7 days 14:44:46  6 days 09:35:14  \n",
       "1                    2017-05-15 16 days 05:11:18  8 days 03:41:54  \n",
       "2                    2018-02-05  7 days 22:45:45  1 days 22:03:17  \n",
       "3                    2018-08-20  6 days 03:32:04  2 days 03:27:25  \n",
       "4                    2017-03-17 25 days 02:44:40 11 days 19:48:18  "
      ]
     },
     "execution_count": 93,
     "metadata": {},
     "output_type": "execute_result"
    }
   ],
   "source": [
    "df_orders[\"shipping_days\"] = df_orders[\"order_delivered_carrier_date\"] - df_orders[\"order_purchase_timestamp\"]\n",
    "df_orders.head()"
   ]
  },
  {
   "cell_type": "code",
   "execution_count": 94,
   "id": "43498c64",
   "metadata": {},
   "outputs": [
    {
     "name": "stdout",
     "output_type": "stream",
     "text": [
      "Number of orders without carrier delivery date: 1783\n"
     ]
    }
   ],
   "source": [
    "print(f\"Number of orders without carrier delivery date: {df_orders[\"shipping_days\"].isna().sum()}\")"
   ]
  },
  {
   "cell_type": "markdown",
   "id": "482806e6",
   "metadata": {},
   "source": [
    "6.7. Creating an is_late column indicating whether the delivery was late (True/False)"
   ]
  },
  {
   "cell_type": "code",
   "execution_count": 95,
   "id": "d164865f",
   "metadata": {},
   "outputs": [
    {
     "data": {
      "application/vnd.microsoft.datawrangler.viewer.v0+json": {
       "columns": [
        {
         "name": "index",
         "rawType": "int64",
         "type": "integer"
        },
        {
         "name": "order_id",
         "rawType": "object",
         "type": "string"
        },
        {
         "name": "customer_id",
         "rawType": "object",
         "type": "string"
        },
        {
         "name": "order_status",
         "rawType": "object",
         "type": "string"
        },
        {
         "name": "order_purchase_timestamp",
         "rawType": "datetime64[ns]",
         "type": "datetime"
        },
        {
         "name": "order_approved_at",
         "rawType": "datetime64[ns]",
         "type": "datetime"
        },
        {
         "name": "order_delivered_carrier_date",
         "rawType": "datetime64[ns]",
         "type": "datetime"
        },
        {
         "name": "order_delivered_customer_date",
         "rawType": "datetime64[ns]",
         "type": "datetime"
        },
        {
         "name": "order_estimated_delivery_date",
         "rawType": "datetime64[ns]",
         "type": "datetime"
        },
        {
         "name": "delivery_time",
         "rawType": "timedelta64[ns]",
         "type": "unknown"
        },
        {
         "name": "shipping_days",
         "rawType": "timedelta64[ns]",
         "type": "unknown"
        },
        {
         "name": "is_order_delayed",
         "rawType": "object",
         "type": "unknown"
        }
       ],
       "ref": "4d6b9947-139d-4c5e-9271-57456bef5aa0",
       "rows": [
        [
         "0",
         "00010242fe8c5a6d1ba2dd792cb16214",
         "3ce436f183e68e07877b285a838db11a",
         "delivered",
         "2017-09-13 08:59:02",
         "2017-09-13 09:45:35",
         "2017-09-19 18:34:16",
         "2017-09-20 23:43:48",
         "2017-09-29 00:00:00",
         "7 days 14:44:46",
         "6 days 09:35:14",
         "True"
        ],
        [
         "1",
         "00018f77f2f0320c557190d7a144bdd3",
         "f6dd3ec061db4e3987629fe6b26e5cce",
         "delivered",
         "2017-04-26 10:53:06",
         "2017-04-26 11:05:13",
         "2017-05-04 14:35:00",
         "2017-05-12 16:04:24",
         "2017-05-15 00:00:00",
         "16 days 05:11:18",
         "8 days 03:41:54",
         "True"
        ],
        [
         "2",
         "000229ec398224ef6ca0657da4fc703e",
         "6489ae5e4333f3693df5ad4372dab6d3",
         "delivered",
         "2018-01-14 14:33:31",
         "2018-01-14 14:48:30",
         "2018-01-16 12:36:48",
         "2018-01-22 13:19:16",
         "2018-02-05 00:00:00",
         "7 days 22:45:45",
         "1 days 22:03:17",
         "True"
        ],
        [
         "3",
         "00024acbcdf0a6daa1e931b038114c75",
         "d4eb9395c8c0431ee92fce09860c5a06",
         "delivered",
         "2018-08-08 10:00:35",
         "2018-08-08 10:10:18",
         "2018-08-10 13:28:00",
         "2018-08-14 13:32:39",
         "2018-08-20 00:00:00",
         "6 days 03:32:04",
         "2 days 03:27:25",
         "True"
        ],
        [
         "4",
         "00042b26cf59d7ce69dfabb4e55b4fd9",
         "58dbd0b2d70206bf40e62cd34e84d795",
         "delivered",
         "2017-02-04 13:57:51",
         "2017-02-04 14:10:13",
         "2017-02-16 09:46:09",
         "2017-03-01 16:42:31",
         "2017-03-17 00:00:00",
         "25 days 02:44:40",
         "11 days 19:48:18",
         "True"
        ]
       ],
       "shape": {
        "columns": 11,
        "rows": 5
       }
      },
      "text/html": [
       "<div>\n",
       "<style scoped>\n",
       "    .dataframe tbody tr th:only-of-type {\n",
       "        vertical-align: middle;\n",
       "    }\n",
       "\n",
       "    .dataframe tbody tr th {\n",
       "        vertical-align: top;\n",
       "    }\n",
       "\n",
       "    .dataframe thead th {\n",
       "        text-align: right;\n",
       "    }\n",
       "</style>\n",
       "<table border=\"1\" class=\"dataframe\">\n",
       "  <thead>\n",
       "    <tr style=\"text-align: right;\">\n",
       "      <th></th>\n",
       "      <th>order_id</th>\n",
       "      <th>customer_id</th>\n",
       "      <th>order_status</th>\n",
       "      <th>order_purchase_timestamp</th>\n",
       "      <th>order_approved_at</th>\n",
       "      <th>order_delivered_carrier_date</th>\n",
       "      <th>order_delivered_customer_date</th>\n",
       "      <th>order_estimated_delivery_date</th>\n",
       "      <th>delivery_time</th>\n",
       "      <th>shipping_days</th>\n",
       "      <th>is_order_delayed</th>\n",
       "    </tr>\n",
       "  </thead>\n",
       "  <tbody>\n",
       "    <tr>\n",
       "      <th>0</th>\n",
       "      <td>00010242fe8c5a6d1ba2dd792cb16214</td>\n",
       "      <td>3ce436f183e68e07877b285a838db11a</td>\n",
       "      <td>delivered</td>\n",
       "      <td>2017-09-13 08:59:02</td>\n",
       "      <td>2017-09-13 09:45:35</td>\n",
       "      <td>2017-09-19 18:34:16</td>\n",
       "      <td>2017-09-20 23:43:48</td>\n",
       "      <td>2017-09-29</td>\n",
       "      <td>7 days 14:44:46</td>\n",
       "      <td>6 days 09:35:14</td>\n",
       "      <td>True</td>\n",
       "    </tr>\n",
       "    <tr>\n",
       "      <th>1</th>\n",
       "      <td>00018f77f2f0320c557190d7a144bdd3</td>\n",
       "      <td>f6dd3ec061db4e3987629fe6b26e5cce</td>\n",
       "      <td>delivered</td>\n",
       "      <td>2017-04-26 10:53:06</td>\n",
       "      <td>2017-04-26 11:05:13</td>\n",
       "      <td>2017-05-04 14:35:00</td>\n",
       "      <td>2017-05-12 16:04:24</td>\n",
       "      <td>2017-05-15</td>\n",
       "      <td>16 days 05:11:18</td>\n",
       "      <td>8 days 03:41:54</td>\n",
       "      <td>True</td>\n",
       "    </tr>\n",
       "    <tr>\n",
       "      <th>2</th>\n",
       "      <td>000229ec398224ef6ca0657da4fc703e</td>\n",
       "      <td>6489ae5e4333f3693df5ad4372dab6d3</td>\n",
       "      <td>delivered</td>\n",
       "      <td>2018-01-14 14:33:31</td>\n",
       "      <td>2018-01-14 14:48:30</td>\n",
       "      <td>2018-01-16 12:36:48</td>\n",
       "      <td>2018-01-22 13:19:16</td>\n",
       "      <td>2018-02-05</td>\n",
       "      <td>7 days 22:45:45</td>\n",
       "      <td>1 days 22:03:17</td>\n",
       "      <td>True</td>\n",
       "    </tr>\n",
       "    <tr>\n",
       "      <th>3</th>\n",
       "      <td>00024acbcdf0a6daa1e931b038114c75</td>\n",
       "      <td>d4eb9395c8c0431ee92fce09860c5a06</td>\n",
       "      <td>delivered</td>\n",
       "      <td>2018-08-08 10:00:35</td>\n",
       "      <td>2018-08-08 10:10:18</td>\n",
       "      <td>2018-08-10 13:28:00</td>\n",
       "      <td>2018-08-14 13:32:39</td>\n",
       "      <td>2018-08-20</td>\n",
       "      <td>6 days 03:32:04</td>\n",
       "      <td>2 days 03:27:25</td>\n",
       "      <td>True</td>\n",
       "    </tr>\n",
       "    <tr>\n",
       "      <th>4</th>\n",
       "      <td>00042b26cf59d7ce69dfabb4e55b4fd9</td>\n",
       "      <td>58dbd0b2d70206bf40e62cd34e84d795</td>\n",
       "      <td>delivered</td>\n",
       "      <td>2017-02-04 13:57:51</td>\n",
       "      <td>2017-02-04 14:10:13</td>\n",
       "      <td>2017-02-16 09:46:09</td>\n",
       "      <td>2017-03-01 16:42:31</td>\n",
       "      <td>2017-03-17</td>\n",
       "      <td>25 days 02:44:40</td>\n",
       "      <td>11 days 19:48:18</td>\n",
       "      <td>True</td>\n",
       "    </tr>\n",
       "  </tbody>\n",
       "</table>\n",
       "</div>"
      ],
      "text/plain": [
       "                           order_id                       customer_id  \\\n",
       "0  00010242fe8c5a6d1ba2dd792cb16214  3ce436f183e68e07877b285a838db11a   \n",
       "1  00018f77f2f0320c557190d7a144bdd3  f6dd3ec061db4e3987629fe6b26e5cce   \n",
       "2  000229ec398224ef6ca0657da4fc703e  6489ae5e4333f3693df5ad4372dab6d3   \n",
       "3  00024acbcdf0a6daa1e931b038114c75  d4eb9395c8c0431ee92fce09860c5a06   \n",
       "4  00042b26cf59d7ce69dfabb4e55b4fd9  58dbd0b2d70206bf40e62cd34e84d795   \n",
       "\n",
       "  order_status order_purchase_timestamp   order_approved_at  \\\n",
       "0    delivered      2017-09-13 08:59:02 2017-09-13 09:45:35   \n",
       "1    delivered      2017-04-26 10:53:06 2017-04-26 11:05:13   \n",
       "2    delivered      2018-01-14 14:33:31 2018-01-14 14:48:30   \n",
       "3    delivered      2018-08-08 10:00:35 2018-08-08 10:10:18   \n",
       "4    delivered      2017-02-04 13:57:51 2017-02-04 14:10:13   \n",
       "\n",
       "  order_delivered_carrier_date order_delivered_customer_date  \\\n",
       "0          2017-09-19 18:34:16           2017-09-20 23:43:48   \n",
       "1          2017-05-04 14:35:00           2017-05-12 16:04:24   \n",
       "2          2018-01-16 12:36:48           2018-01-22 13:19:16   \n",
       "3          2018-08-10 13:28:00           2018-08-14 13:32:39   \n",
       "4          2017-02-16 09:46:09           2017-03-01 16:42:31   \n",
       "\n",
       "  order_estimated_delivery_date    delivery_time    shipping_days  \\\n",
       "0                    2017-09-29  7 days 14:44:46  6 days 09:35:14   \n",
       "1                    2017-05-15 16 days 05:11:18  8 days 03:41:54   \n",
       "2                    2018-02-05  7 days 22:45:45  1 days 22:03:17   \n",
       "3                    2018-08-20  6 days 03:32:04  2 days 03:27:25   \n",
       "4                    2017-03-17 25 days 02:44:40 11 days 19:48:18   \n",
       "\n",
       "  is_order_delayed  \n",
       "0             True  \n",
       "1             True  \n",
       "2             True  \n",
       "3             True  \n",
       "4             True  "
      ]
     },
     "execution_count": 95,
     "metadata": {},
     "output_type": "execute_result"
    }
   ],
   "source": [
    "mask = df_orders[\"order_delivered_customer_date\"].notna() & df_orders[\"order_estimated_delivery_date\"].notna()\n",
    "df_orders[\"is_order_delayed\"] = df_orders.loc[mask,\"order_delivered_customer_date\"] < df_orders.loc[mask,\"order_estimated_delivery_date\"]\n",
    "df_orders.head()"
   ]
  },
  {
   "cell_type": "code",
   "execution_count": 96,
   "id": "5ff97682",
   "metadata": {},
   "outputs": [
    {
     "name": "stdout",
     "output_type": "stream",
     "text": [
      "99441\n"
     ]
    },
    {
     "data": {
      "application/vnd.microsoft.datawrangler.viewer.v0+json": {
       "columns": [
        {
         "name": "is_order_delayed",
         "rawType": "object",
         "type": "unknown"
        },
        {
         "name": "count",
         "rawType": "int64",
         "type": "integer"
        }
       ],
       "ref": "971f7807-b7bb-4990-b28e-f4e737f16611",
       "rows": [
        [
         "True",
         "88471"
        ],
        [
         "False",
         "7994"
        ]
       ],
       "shape": {
        "columns": 1,
        "rows": 2
       }
      },
      "text/plain": [
       "is_order_delayed\n",
       "True     88471\n",
       "False     7994\n",
       "Name: count, dtype: int64"
      ]
     },
     "execution_count": 96,
     "metadata": {},
     "output_type": "execute_result"
    }
   ],
   "source": [
    "print(len(df_orders))\n",
    "df_orders[\"is_order_delayed\"].value_counts()"
   ]
  },
  {
   "cell_type": "markdown",
   "id": "6f694bd3",
   "metadata": {},
   "source": [
    "We may notice that exactly 8000 orders from over 99000 orders had delay"
   ]
  },
  {
   "cell_type": "markdown",
   "id": "0d44d626",
   "metadata": {},
   "source": [
    "We calculate the delay time for late orders"
   ]
  },
  {
   "cell_type": "code",
   "execution_count": 97,
   "id": "0130de8d",
   "metadata": {},
   "outputs": [],
   "source": [
    "mask = df_orders[\"is_order_delayed\"].notna()\n",
    "df_orders[\"delay_time\"] = df_orders.loc[mask, \"order_estimated_delivery_date\"] - df_orders.loc[mask, \"order_delivered_customer_date\"]"
   ]
  },
  {
   "cell_type": "markdown",
   "id": "f569c281",
   "metadata": {},
   "source": [
    "6.8. Calculating the distance between seller and customer using geographic coordinates (geopy library)"
   ]
  },
  {
   "cell_type": "code",
   "execution_count": 98,
   "id": "40fa2e40",
   "metadata": {},
   "outputs": [
    {
     "data": {
      "application/vnd.microsoft.datawrangler.viewer.v0+json": {
       "columns": [
        {
         "name": "index",
         "rawType": "int64",
         "type": "integer"
        },
        {
         "name": "order_id",
         "rawType": "object",
         "type": "string"
        },
        {
         "name": "customer_id",
         "rawType": "object",
         "type": "string"
        },
        {
         "name": "geolocation_zip_code_prefix",
         "rawType": "int64",
         "type": "integer"
        },
        {
         "name": "geolocation_lat",
         "rawType": "float64",
         "type": "float"
        },
        {
         "name": "geolocation_lng",
         "rawType": "float64",
         "type": "float"
        }
       ],
       "ref": "74813370-04e6-4e24-99ae-ef3eb88c098a",
       "rows": [
        [
         "0",
         "00010242fe8c5a6d1ba2dd792cb16214",
         "3ce436f183e68e07877b285a838db11a",
         "28013",
         "-21.758075963712617",
         "-41.31263336665773"
        ]
       ],
       "shape": {
        "columns": 5,
        "rows": 1
       }
      },
      "text/html": [
       "<div>\n",
       "<style scoped>\n",
       "    .dataframe tbody tr th:only-of-type {\n",
       "        vertical-align: middle;\n",
       "    }\n",
       "\n",
       "    .dataframe tbody tr th {\n",
       "        vertical-align: top;\n",
       "    }\n",
       "\n",
       "    .dataframe thead th {\n",
       "        text-align: right;\n",
       "    }\n",
       "</style>\n",
       "<table border=\"1\" class=\"dataframe\">\n",
       "  <thead>\n",
       "    <tr style=\"text-align: right;\">\n",
       "      <th></th>\n",
       "      <th>order_id</th>\n",
       "      <th>customer_id</th>\n",
       "      <th>geolocation_zip_code_prefix</th>\n",
       "      <th>geolocation_lat</th>\n",
       "      <th>geolocation_lng</th>\n",
       "    </tr>\n",
       "  </thead>\n",
       "  <tbody>\n",
       "    <tr>\n",
       "      <th>0</th>\n",
       "      <td>00010242fe8c5a6d1ba2dd792cb16214</td>\n",
       "      <td>3ce436f183e68e07877b285a838db11a</td>\n",
       "      <td>28013</td>\n",
       "      <td>-21.758076</td>\n",
       "      <td>-41.312633</td>\n",
       "    </tr>\n",
       "  </tbody>\n",
       "</table>\n",
       "</div>"
      ],
      "text/plain": [
       "                           order_id                       customer_id  \\\n",
       "0  00010242fe8c5a6d1ba2dd792cb16214  3ce436f183e68e07877b285a838db11a   \n",
       "\n",
       "   geolocation_zip_code_prefix  geolocation_lat  geolocation_lng  \n",
       "0                        28013       -21.758076       -41.312633  "
      ]
     },
     "execution_count": 98,
     "metadata": {},
     "output_type": "execute_result"
    }
   ],
   "source": [
    "customers_geolocation = (df_orders.merge(df_customers[[\"customer_id\",\"customer_zip_code_prefix\"]])\n",
    "        .merge(df_geolocation[[\"geolocation_zip_code_prefix\",\"geolocation_lat\",\"geolocation_lng\"]],left_on = \"customer_zip_code_prefix\", right_on = \"geolocation_zip_code_prefix\")\n",
    ")[[\"order_id\",\"customer_id\",\"geolocation_zip_code_prefix\",\"geolocation_lat\",\"geolocation_lng\"]]\n",
    "\n",
    "customers_geolocation.head(1)"
   ]
  },
  {
   "cell_type": "code",
   "execution_count": 99,
   "id": "9ef6c17d",
   "metadata": {},
   "outputs": [],
   "source": [
    "customers_geolocation.drop_duplicates(subset = [\"order_id\",\"customer_id\"], inplace = True)"
   ]
  },
  {
   "cell_type": "code",
   "execution_count": 100,
   "id": "16c0c997",
   "metadata": {},
   "outputs": [
    {
     "data": {
      "application/vnd.microsoft.datawrangler.viewer.v0+json": {
       "columns": [
        {
         "name": "index",
         "rawType": "int64",
         "type": "integer"
        },
        {
         "name": "order_id",
         "rawType": "object",
         "type": "string"
        },
        {
         "name": "seller_id",
         "rawType": "object",
         "type": "string"
        },
        {
         "name": "seller_zip_code_prefix",
         "rawType": "int64",
         "type": "integer"
        },
        {
         "name": "geolocation_lat",
         "rawType": "float64",
         "type": "float"
        },
        {
         "name": "geolocation_lng",
         "rawType": "float64",
         "type": "float"
        }
       ],
       "ref": "583d903f-33fb-4baf-8b01-78dbe524d61f",
       "rows": [
        [
         "0",
         "00010242fe8c5a6d1ba2dd792cb16214",
         "48436dade18ac8b2bce089ec2a041202",
         "27277",
         "-22.498182754371285",
         "-44.12361371579433"
        ]
       ],
       "shape": {
        "columns": 5,
        "rows": 1
       }
      },
      "text/html": [
       "<div>\n",
       "<style scoped>\n",
       "    .dataframe tbody tr th:only-of-type {\n",
       "        vertical-align: middle;\n",
       "    }\n",
       "\n",
       "    .dataframe tbody tr th {\n",
       "        vertical-align: top;\n",
       "    }\n",
       "\n",
       "    .dataframe thead th {\n",
       "        text-align: right;\n",
       "    }\n",
       "</style>\n",
       "<table border=\"1\" class=\"dataframe\">\n",
       "  <thead>\n",
       "    <tr style=\"text-align: right;\">\n",
       "      <th></th>\n",
       "      <th>order_id</th>\n",
       "      <th>seller_id</th>\n",
       "      <th>seller_zip_code_prefix</th>\n",
       "      <th>geolocation_lat</th>\n",
       "      <th>geolocation_lng</th>\n",
       "    </tr>\n",
       "  </thead>\n",
       "  <tbody>\n",
       "    <tr>\n",
       "      <th>0</th>\n",
       "      <td>00010242fe8c5a6d1ba2dd792cb16214</td>\n",
       "      <td>48436dade18ac8b2bce089ec2a041202</td>\n",
       "      <td>27277</td>\n",
       "      <td>-22.498183</td>\n",
       "      <td>-44.123614</td>\n",
       "    </tr>\n",
       "  </tbody>\n",
       "</table>\n",
       "</div>"
      ],
      "text/plain": [
       "                           order_id                         seller_id  \\\n",
       "0  00010242fe8c5a6d1ba2dd792cb16214  48436dade18ac8b2bce089ec2a041202   \n",
       "\n",
       "   seller_zip_code_prefix  geolocation_lat  geolocation_lng  \n",
       "0                   27277       -22.498183       -44.123614  "
      ]
     },
     "execution_count": 100,
     "metadata": {},
     "output_type": "execute_result"
    }
   ],
   "source": [
    "sellers_geolocation = (df_order_items.merge(df_sellers[[\"seller_id\",\"seller_zip_code_prefix\"]])\n",
    "               .merge(df_geolocation[[\"geolocation_zip_code_prefix\",\"geolocation_lat\",\"geolocation_lng\"]], left_on = \"seller_zip_code_prefix\",right_on = \"geolocation_zip_code_prefix\")\n",
    "\n",
    ")[[\"order_id\",\"seller_id\",\"seller_zip_code_prefix\",\"geolocation_lat\",\"geolocation_lng\"]]\n",
    "\n",
    "sellers_geolocation.head(1)"
   ]
  },
  {
   "cell_type": "code",
   "execution_count": 101,
   "id": "79c19487",
   "metadata": {},
   "outputs": [],
   "source": [
    "sellers_geolocation.drop_duplicates(subset=[\"order_id\",\"seller_id\"], inplace = True)"
   ]
  },
  {
   "cell_type": "code",
   "execution_count": 102,
   "id": "349e2faa",
   "metadata": {},
   "outputs": [
    {
     "data": {
      "application/vnd.microsoft.datawrangler.viewer.v0+json": {
       "columns": [
        {
         "name": "index",
         "rawType": "int64",
         "type": "integer"
        },
        {
         "name": "order_id",
         "rawType": "object",
         "type": "string"
        },
        {
         "name": "seller_id",
         "rawType": "object",
         "type": "string"
        },
        {
         "name": "seller_zip_code_prefix",
         "rawType": "int64",
         "type": "integer"
        },
        {
         "name": "geolocation_lat",
         "rawType": "float64",
         "type": "float"
        },
        {
         "name": "geolocation_lng",
         "rawType": "float64",
         "type": "float"
        }
       ],
       "ref": "b567ebb9-7dbf-47ff-93bb-fad500710b30",
       "rows": [
        [
         "0",
         "00010242fe8c5a6d1ba2dd792cb16214",
         "48436dade18ac8b2bce089ec2a041202",
         "27277",
         "-22.498182754371285",
         "-44.12361371579433"
        ],
        [
         "59",
         "00018f77f2f0320c557190d7a144bdd3",
         "dd7ddc04e1b6c2c614352b383efe2d36",
         "3471",
         "-23.56625832001269",
         "-46.51841724632121"
        ],
        [
         "98",
         "000229ec398224ef6ca0657da4fc703e",
         "5b51032eddd242adc84c38acab88f23d",
         "37564",
         "-22.264093569966427",
         "-46.15856420525942"
        ],
        [
         "169",
         "00024acbcdf0a6daa1e931b038114c75",
         "9d7a1d34a5052409006425275ba1c2b4",
         "14403",
         "-20.54822779974972",
         "-47.395897060007975"
        ],
        [
         "607",
         "00042b26cf59d7ce69dfabb4e55b4fd9",
         "df560393f3a51e74553ab94004ba5c87",
         "87900",
         "-22.931426544866625",
         "-53.13375928731349"
        ],
        [
         "726",
         "00048cc3ae777c65dbb7d2a0634bc1ea",
         "6426d21aca402a131fc0a5d0960a3c90",
         "14091",
         "-21.1894024299152",
         "-47.79295570344507"
        ],
        [
         "893",
         "00054e8431b9d7675808bcb819fb4a32",
         "7040e82f899a04d1b434b795a43b4617",
         "1026",
         "-23.539494799586286",
         "-46.632843914149746"
        ],
        [
         "932",
         "000576fe39319847cbb9d288c5617fa6",
         "5996cddab893a4652a15592fb58ab8db",
         "19010",
         "-22.119777787567276",
         "-51.38167544559502"
        ],
        [
         "1053",
         "0005a1a1728c9d785b8e2b08b904576c",
         "a416b6a846a11724393025641d4edd5e",
         "3702",
         "-23.51674732944774",
         "-46.54818243075192"
        ],
        [
         "1069",
         "0005f50442cb953dcd1d21e1fb923495",
         "ba143b05f0110f0dc71ad71b4466ce92",
         "2274",
         "-23.46824404524207",
         "-46.585030834727874"
        ],
        [
         "1085",
         "00061f2a7bc09da83e415a52dc8a4af1",
         "cc419e0650a3c5ba77189a1882b7556a",
         "9015",
         "-23.665703457960582",
         "-46.51808196779969"
        ],
        [
         "1245",
         "00063b381e2406b52ad429470734ebd5",
         "8602a61d680a10a82cceeeda0d99ea3d",
         "1001",
         "-23.54929199999999",
         "-46.633559478233785"
        ],
        [
         "1271",
         "0006ec9db01a64e59a68b2c340bf65a7",
         "4a3ca9315b744ce9f8e9374361493884",
         "14940",
         "-21.7664768468313",
         "-48.83154737836604"
        ],
        [
         "1557",
         "0008288aa423d2a3f00fcb17cd7d8719",
         "1f50f920176fa81dab994f9023523100",
         "15025",
         "-20.802436263463758",
         "-49.39562406741489"
        ],
        [
         "1823",
         "0009792311464db532ff765bf7b182ae",
         "530ec6109d11eaaf87999465c6afee01",
         "85807",
         "-24.9409988170985",
         "-53.4931867821282"
        ],
        [
         "2010",
         "0009c9a17f916a706d71784483a5d643",
         "fcb5ace8bcc92f75707dc0f01a27d269",
         "7032",
         "-23.505429268942237",
         "-46.54869177407812"
        ],
        [
         "2140",
         "000aed2e25dbad2f9ddb70584c5a2ded",
         "fe2032dab1a61af8794248c8196565c9",
         "13030",
         "-22.92991227115403",
         "-47.07189552530681"
        ],
        [
         "2205",
         "000c3e6612759851cc3cbb4b83257986",
         "218d46b86c1881d022bce9c68a7d4b15",
         "14070",
         "-21.116471333054424",
         "-47.79073400291418"
        ],
        [
         "2289",
         "000e562887b1f2006d75e0be9558292e",
         "8cbac7e12637ed9cffa18c7875207478",
         "89254",
         "-26.46850294670808",
         "-49.109883098307336"
        ],
        [
         "2387",
         "000e63d38ae8c00bbcb5a30573b99628",
         "1c129092bf23f28a5930387c980c0dfc",
         "2972",
         "-23.48029674271453",
         "-46.71122495337295"
        ],
        [
         "2397",
         "000e906b789b55f64edcb1f84030f90d",
         "ea8482cd71df3c1969d7b9473ff13abc",
         "4160",
         "-23.62358155176294",
         "-46.61056007369148"
        ],
        [
         "2424",
         "000f25f4d72195062c040b12dce9a18a",
         "7c67e1448b00f6e969d365cea6b010ab",
         "8577",
         "-23.482623440635415",
         "-46.37448952833195"
        ],
        [
         "2563",
         "001021efaa8636c29475e7734483457d",
         "6560211a19b47992c3666cc44a7e94c0",
         "5849",
         "-23.651114842510154",
         "-46.75521082321932"
        ],
        [
         "2651",
         "0010b2e5201cc5f1ae7e9c6cc8f5bd00",
         "3504c0cb71d7fa48d967e0e4c94d59d9",
         "9350",
         "-23.68011442853022",
         "-46.4524537436668"
        ],
        [
         "2858",
         "00119ff934e539cf26f92b9ef0cdfed8",
         "c864036feaab8c1659f65ea4faebe1da",
         "83605",
         "-25.446647385196982",
         "-49.55563586004068"
        ],
        [
         "2894",
         "0011d82c4b53e22e84023405fb467e57",
         "bfd27a966d91cfaafdb25d076585f0da",
         "13930",
         "-22.596440207291085",
         "-46.71196868822353"
        ],
        [
         "3120",
         "00125cb692d04887809806618a2a145f",
         "41b39e28db005d9731d9d485a83b4c38",
         "9220",
         "-23.624784000000005",
         "-46.53954225000001"
        ],
        [
         "3358",
         "00130c0eee84a3d909e75bc08c5c3ca1",
         "16090f2ca825584b5a147ab24aa30c86",
         "12940",
         "-23.112774381969185",
         "-46.5488845105504"
        ],
        [
         "3611",
         "0013503b13da1eac686219390b7d641b",
         "1554a68530182680ad5c8b042c3ab563",
         "37580",
         "-22.42880507067007",
         "-46.569550269431765"
        ],
        [
         "3766",
         "00137e170939bba5a3134e2386413108",
         "e59aa562b9f8076dd550fcddf0e73491",
         "82810",
         "-25.43585833749783",
         "-49.22158276824976"
        ],
        [
         "3913",
         "001427c0ec99cf8af737bd88e92fd444",
         "77530e9772f57a62c906e1c21538ab82",
         "80310",
         "-25.464029318048183",
         "-49.30472794690424"
        ],
        [
         "4018",
         "00143d0f86d6fbd9f9b38ab440ac16f5",
         "a17f621c590ea0fab3d5d883e1630ec6",
         "18055",
         "-23.489741556206333",
         "-47.509921178602326"
        ],
        [
         "4248",
         "0014ae671de39511f7575066200733b7",
         "92eb0f42c21942b6552362b9b114707d",
         "3504",
         "-23.53877907744238",
         "-46.536485668330556"
        ],
        [
         "4290",
         "0015ebb40fb17286bea51d4607c4733c",
         "8b321bb669392f5163d04c59e235e066",
         "1212",
         "-23.537511255832708",
         "-46.637057307436756"
        ],
        [
         "4317",
         "00169e31ef4b29deaae414f9a5e95929",
         "a3e9a2c700480d9bb01fba070ba80a0e",
         "14940",
         "-21.7664768468313",
         "-48.83154737836604"
        ],
        [
         "4603",
         "0016dfedd97fc2950e388d2971d718c7",
         "a35124e2d763d7ca3fbe3b97d143200f",
         "4041",
         "-23.60148851096427",
         "-46.6435611931733"
        ],
        [
         "4715",
         "0017afd5076e074a48f1f1a4c7bac9c5",
         "25c5c91f63607446a97b143d2d535d31",
         "35680",
         "-20.082126604231757",
         "-44.5732983518722"
        ],
        [
         "5155",
         "001862358bf858722e1e2ae000cfed8b",
         "7a67c85e85bb2ce8582c35f2203ad736",
         "3426",
         "-23.554079433810344",
         "-46.53324185942636"
        ],
        [
         "5183",
         "0019c29108428acffd089c36103c9440",
         "77530e9772f57a62c906e1c21538ab82",
         "80310",
         "-25.464029318048183",
         "-49.30472794690424"
        ],
        [
         "5288",
         "001ab0a7578dd66cd4b0a71f5b6e1e41",
         "5656537e588803a555b8eb41f07a944b",
         "72015",
         "-15.840667480274698",
         "-48.051942900348365"
        ],
        [
         "5475",
         "001ac194d4a326a6fa99b581e9a3d963",
         "ffc470761de7d0232558ba5e786e57b7",
         "7091",
         "-23.464392221253405",
         "-46.54273714209829"
        ],
        [
         "5553",
         "001b76dd48a5b1eee3e87778daa40df8",
         "9c0e69c7bf2619675bbadf47b43f655a",
         "12230",
         "-23.221431461827063",
         "-45.888163895493165"
        ],
        [
         "5793",
         "001c85b5f68d2be0cb0797afc9e8ce9a",
         "4a3ca9315b744ce9f8e9374361493884",
         "14940",
         "-21.7664768468313",
         "-48.83154737836604"
        ],
        [
         "6079",
         "001d8f0e34a38c37f7dba2a37d4eba8b",
         "f4aba7c0bca51484c30ab7bdc34bcdd1",
         "1031",
         "-23.536864121011018",
         "-46.63349313820771"
        ],
        [
         "6110",
         "001daeb0eddc45b999bad0801ad9d273",
         "f45122a9ab94eb4f3f8953578bc0c560",
         "13419",
         "-22.726257875353635",
         "-47.637811389520564"
        ],
        [
         "6246",
         "001dbc16dc51075e987543d23a0507c7",
         "4a3ca9315b744ce9f8e9374361493884",
         "14940",
         "-21.7664768468313",
         "-48.83154737836604"
        ],
        [
         "6532",
         "001e7ba991be1b19605ca0316e7130f9",
         "3340ef1913fb70d28420f6ceb685c339",
         "87040",
         "-23.41382198370398",
         "-51.90777440824636"
        ],
        [
         "6623",
         "001e7cf2ad6bef3ade12ebc56ceaf0f3",
         "2a84855fd20af891be03bc5924d2b453",
         "30111",
         "-19.91624655709342",
         "-43.936233640966364"
        ],
        [
         "6636",
         "0020262c8a370bd5a174ea6a2a267321",
         "ff063b022a9a0aab91bad2c9088760b7",
         "9171",
         "-23.70007597807146",
         "-46.512702481822366"
        ],
        [
         "6721",
         "0020a222f55eb79a372d0efee3cca688",
         "8a32e327fe2c1b3511609d81aaf9f042",
         "2443",
         "-23.472335179294816",
         "-46.64636526449883"
        ]
       ],
       "shape": {
        "columns": 5,
        "rows": 98175
       }
      },
      "text/html": [
       "<div>\n",
       "<style scoped>\n",
       "    .dataframe tbody tr th:only-of-type {\n",
       "        vertical-align: middle;\n",
       "    }\n",
       "\n",
       "    .dataframe tbody tr th {\n",
       "        vertical-align: top;\n",
       "    }\n",
       "\n",
       "    .dataframe thead th {\n",
       "        text-align: right;\n",
       "    }\n",
       "</style>\n",
       "<table border=\"1\" class=\"dataframe\">\n",
       "  <thead>\n",
       "    <tr style=\"text-align: right;\">\n",
       "      <th></th>\n",
       "      <th>order_id</th>\n",
       "      <th>seller_id</th>\n",
       "      <th>seller_zip_code_prefix</th>\n",
       "      <th>geolocation_lat</th>\n",
       "      <th>geolocation_lng</th>\n",
       "    </tr>\n",
       "  </thead>\n",
       "  <tbody>\n",
       "    <tr>\n",
       "      <th>0</th>\n",
       "      <td>00010242fe8c5a6d1ba2dd792cb16214</td>\n",
       "      <td>48436dade18ac8b2bce089ec2a041202</td>\n",
       "      <td>27277</td>\n",
       "      <td>-22.498183</td>\n",
       "      <td>-44.123614</td>\n",
       "    </tr>\n",
       "    <tr>\n",
       "      <th>59</th>\n",
       "      <td>00018f77f2f0320c557190d7a144bdd3</td>\n",
       "      <td>dd7ddc04e1b6c2c614352b383efe2d36</td>\n",
       "      <td>3471</td>\n",
       "      <td>-23.566258</td>\n",
       "      <td>-46.518417</td>\n",
       "    </tr>\n",
       "    <tr>\n",
       "      <th>98</th>\n",
       "      <td>000229ec398224ef6ca0657da4fc703e</td>\n",
       "      <td>5b51032eddd242adc84c38acab88f23d</td>\n",
       "      <td>37564</td>\n",
       "      <td>-22.264094</td>\n",
       "      <td>-46.158564</td>\n",
       "    </tr>\n",
       "    <tr>\n",
       "      <th>169</th>\n",
       "      <td>00024acbcdf0a6daa1e931b038114c75</td>\n",
       "      <td>9d7a1d34a5052409006425275ba1c2b4</td>\n",
       "      <td>14403</td>\n",
       "      <td>-20.548228</td>\n",
       "      <td>-47.395897</td>\n",
       "    </tr>\n",
       "    <tr>\n",
       "      <th>607</th>\n",
       "      <td>00042b26cf59d7ce69dfabb4e55b4fd9</td>\n",
       "      <td>df560393f3a51e74553ab94004ba5c87</td>\n",
       "      <td>87900</td>\n",
       "      <td>-22.931427</td>\n",
       "      <td>-53.133759</td>\n",
       "    </tr>\n",
       "    <tr>\n",
       "      <th>...</th>\n",
       "      <td>...</td>\n",
       "      <td>...</td>\n",
       "      <td>...</td>\n",
       "      <td>...</td>\n",
       "      <td>...</td>\n",
       "    </tr>\n",
       "    <tr>\n",
       "      <th>14183102</th>\n",
       "      <td>c28ea7fe040d1dae12d3c6f239a5a732</td>\n",
       "      <td>0ef83d7d83ed97cd2a0049ac8be5f88a</td>\n",
       "      <td>80230</td>\n",
       "      <td>-25.440412</td>\n",
       "      <td>-49.272815</td>\n",
       "    </tr>\n",
       "    <tr>\n",
       "      <th>14183288</th>\n",
       "      <td>c28ec0be612e5396c0ef13b958a713f4</td>\n",
       "      <td>f92d8c817434bd2d84d4e9c61322b7fa</td>\n",
       "      <td>18048</td>\n",
       "      <td>-23.534012</td>\n",
       "      <td>-47.467352</td>\n",
       "    </tr>\n",
       "    <tr>\n",
       "      <th>14183419</th>\n",
       "      <td>c28f3a01d4cfee461234c86a41f52e37</td>\n",
       "      <td>f25e239052084705e17a982bc600ab2a</td>\n",
       "      <td>1123</td>\n",
       "      <td>-23.529307</td>\n",
       "      <td>-46.634905</td>\n",
       "    </tr>\n",
       "    <tr>\n",
       "      <th>14183472</th>\n",
       "      <td>c290bbb6c874ec2f6b428b6fe1f1887b</td>\n",
       "      <td>31561f325664a8a7aba4c8d0c3a9b3db</td>\n",
       "      <td>3287</td>\n",
       "      <td>-23.595192</td>\n",
       "      <td>-46.533819</td>\n",
       "    </tr>\n",
       "    <tr>\n",
       "      <th>14183506</th>\n",
       "      <td>c290cb2817cca2e8d2656617d17acfad</td>\n",
       "      <td>85d9eb9ddc5d00ca9336a2219c97bb13</td>\n",
       "      <td>31255</td>\n",
       "      <td>-19.878514</td>\n",
       "      <td>-43.956947</td>\n",
       "    </tr>\n",
       "  </tbody>\n",
       "</table>\n",
       "<p>98175 rows × 5 columns</p>\n",
       "</div>"
      ],
      "text/plain": [
       "                                  order_id                         seller_id  \\\n",
       "0         00010242fe8c5a6d1ba2dd792cb16214  48436dade18ac8b2bce089ec2a041202   \n",
       "59        00018f77f2f0320c557190d7a144bdd3  dd7ddc04e1b6c2c614352b383efe2d36   \n",
       "98        000229ec398224ef6ca0657da4fc703e  5b51032eddd242adc84c38acab88f23d   \n",
       "169       00024acbcdf0a6daa1e931b038114c75  9d7a1d34a5052409006425275ba1c2b4   \n",
       "607       00042b26cf59d7ce69dfabb4e55b4fd9  df560393f3a51e74553ab94004ba5c87   \n",
       "...                                    ...                               ...   \n",
       "14183102  c28ea7fe040d1dae12d3c6f239a5a732  0ef83d7d83ed97cd2a0049ac8be5f88a   \n",
       "14183288  c28ec0be612e5396c0ef13b958a713f4  f92d8c817434bd2d84d4e9c61322b7fa   \n",
       "14183419  c28f3a01d4cfee461234c86a41f52e37  f25e239052084705e17a982bc600ab2a   \n",
       "14183472  c290bbb6c874ec2f6b428b6fe1f1887b  31561f325664a8a7aba4c8d0c3a9b3db   \n",
       "14183506  c290cb2817cca2e8d2656617d17acfad  85d9eb9ddc5d00ca9336a2219c97bb13   \n",
       "\n",
       "          seller_zip_code_prefix  geolocation_lat  geolocation_lng  \n",
       "0                          27277       -22.498183       -44.123614  \n",
       "59                          3471       -23.566258       -46.518417  \n",
       "98                         37564       -22.264094       -46.158564  \n",
       "169                        14403       -20.548228       -47.395897  \n",
       "607                        87900       -22.931427       -53.133759  \n",
       "...                          ...              ...              ...  \n",
       "14183102                   80230       -25.440412       -49.272815  \n",
       "14183288                   18048       -23.534012       -47.467352  \n",
       "14183419                    1123       -23.529307       -46.634905  \n",
       "14183472                    3287       -23.595192       -46.533819  \n",
       "14183506                   31255       -19.878514       -43.956947  \n",
       "\n",
       "[98175 rows x 5 columns]"
      ]
     },
     "execution_count": 102,
     "metadata": {},
     "output_type": "execute_result"
    }
   ],
   "source": [
    "marked = sellers_geolocation[\"order_id\"].to_list()\n",
    "marked2 = customers_geolocation[\"order_id\"].to_list()\n",
    "\n",
    "customers_geolocation[customers_geolocation[\"order_id\"].isin(marked)]\n",
    "sellers_geolocation[sellers_geolocation[\"order_id\"].isin(marked2)]"
   ]
  },
  {
   "cell_type": "code",
   "execution_count": 103,
   "id": "758a0f86",
   "metadata": {},
   "outputs": [
    {
     "data": {
      "application/vnd.microsoft.datawrangler.viewer.v0+json": {
       "columns": [
        {
         "name": "index",
         "rawType": "int64",
         "type": "integer"
        },
        {
         "name": "order_id",
         "rawType": "object",
         "type": "string"
        },
        {
         "name": "customer_id",
         "rawType": "object",
         "type": "string"
        },
        {
         "name": "geolocation_zip_code_prefix",
         "rawType": "int64",
         "type": "integer"
        },
        {
         "name": "geolocation_lat_customer",
         "rawType": "float64",
         "type": "float"
        },
        {
         "name": "geolocation_lng_customer",
         "rawType": "float64",
         "type": "float"
        },
        {
         "name": "seller_id",
         "rawType": "object",
         "type": "string"
        },
        {
         "name": "seller_zip_code_prefix",
         "rawType": "int64",
         "type": "integer"
        },
        {
         "name": "geolocation_lat_seller",
         "rawType": "float64",
         "type": "float"
        },
        {
         "name": "geolocation_lng_seller",
         "rawType": "float64",
         "type": "float"
        }
       ],
       "ref": "0052cf2c-3afb-4686-a712-7752fcdca536",
       "rows": [
        [
         "0",
         "00010242fe8c5a6d1ba2dd792cb16214",
         "3ce436f183e68e07877b285a838db11a",
         "28013",
         "-21.758075963712617",
         "-41.31263336665773",
         "48436dade18ac8b2bce089ec2a041202",
         "27277",
         "-22.498182754371285",
         "-44.12361371579433"
        ],
        [
         "1",
         "00018f77f2f0320c557190d7a144bdd3",
         "f6dd3ec061db4e3987629fe6b26e5cce",
         "15775",
         "-20.212393090480738",
         "-50.941471352999706",
         "dd7ddc04e1b6c2c614352b383efe2d36",
         "3471",
         "-23.56625832001269",
         "-46.51841724632121"
        ],
        [
         "2",
         "000229ec398224ef6ca0657da4fc703e",
         "6489ae5e4333f3693df5ad4372dab6d3",
         "35661",
         "-19.860438774695695",
         "-44.59797225430084",
         "5b51032eddd242adc84c38acab88f23d",
         "37564",
         "-22.264093569966427",
         "-46.15856420525942"
        ],
        [
         "3",
         "00024acbcdf0a6daa1e931b038114c75",
         "d4eb9395c8c0431ee92fce09860c5a06",
         "12952",
         "-23.14492333670709",
         "-46.539830386938746",
         "9d7a1d34a5052409006425275ba1c2b4",
         "14403",
         "-20.54822779974972",
         "-47.395897060007975"
        ],
        [
         "4",
         "00042b26cf59d7ce69dfabb4e55b4fd9",
         "58dbd0b2d70206bf40e62cd34e84d795",
         "13226",
         "-23.249007721987628",
         "-46.82496052725624",
         "df560393f3a51e74553ab94004ba5c87",
         "87900",
         "-22.931426544866625",
         "-53.13375928731349"
        ],
        [
         "5",
         "00048cc3ae777c65dbb7d2a0634bc1ea",
         "816cbea969fe5b689b39cfc97a506742",
         "38017",
         "-19.741322933666112",
         "-47.92411475214959",
         "6426d21aca402a131fc0a5d0960a3c90",
         "14091",
         "-21.1894024299152",
         "-47.79295570344507"
        ],
        [
         "6",
         "00054e8431b9d7675808bcb819fb4a32",
         "32e2e6ab09e778d99bf2e0ecd4898718",
         "16700",
         "-21.26775382757054",
         "-50.65068760289638",
         "7040e82f899a04d1b434b795a43b4617",
         "1026",
         "-23.539494799586286",
         "-46.632843914149746"
        ],
        [
         "7",
         "000576fe39319847cbb9d288c5617fa6",
         "9ed5e522dd9dd85b4af4a077526d8117",
         "11702",
         "-24.01704140383171",
         "-46.442917330284466",
         "5996cddab893a4652a15592fb58ab8db",
         "19010",
         "-22.119777787567276",
         "-51.38167544559502"
        ],
        [
         "8",
         "0005a1a1728c9d785b8e2b08b904576c",
         "16150771dfd4776261284213b89c304e",
         "11075",
         "-23.944502325841068",
         "-46.33124278031053",
         "a416b6a846a11724393025641d4edd5e",
         "3702",
         "-23.51674732944774",
         "-46.54818243075192"
        ],
        [
         "9",
         "0005f50442cb953dcd1d21e1fb923495",
         "351d3cb2cee3c7fd0af6616c82df21d3",
         "6636",
         "-23.55566231638577",
         "-46.89595792306139",
         "ba143b05f0110f0dc71ad71b4466ce92",
         "2274",
         "-23.46824404524207",
         "-46.585030834727874"
        ],
        [
         "10",
         "00061f2a7bc09da83e415a52dc8a4af1",
         "c6fc061d86fab1e2b2eac259bac71a49",
         "13419",
         "-22.726257875353635",
         "-47.637811389520564",
         "cc419e0650a3c5ba77189a1882b7556a",
         "9015",
         "-23.665703457960582",
         "-46.51808196779969"
        ],
        [
         "11",
         "00063b381e2406b52ad429470734ebd5",
         "6a899e55865de6549a58d2c6845e5604",
         "15910",
         "-21.255170217894634",
         "-48.48570186533153",
         "8602a61d680a10a82cceeeda0d99ea3d",
         "1001",
         "-23.54929199999999",
         "-46.633559478233785"
        ],
        [
         "12",
         "0006ec9db01a64e59a68b2c340bf65a7",
         "5d178120c29c61748ea95bac23cb8f25",
         "21810",
         "-22.886342503904107",
         "-43.46205222439118",
         "4a3ca9315b744ce9f8e9374361493884",
         "14940",
         "-21.7664768468313",
         "-48.83154737836604"
        ],
        [
         "13",
         "0008288aa423d2a3f00fcb17cd7d8719",
         "2355af7c75e7c98b43a87b2a7f210dc5",
         "6600",
         "-23.532465887291032",
         "-46.903415598139944",
         "1f50f920176fa81dab994f9023523100",
         "15025",
         "-20.802436263463758",
         "-49.39562406741489"
        ],
        [
         "14",
         "0009792311464db532ff765bf7b182ae",
         "2a30c97668e81df7c17a8b14447aeeba",
         "37137",
         "-21.407289471627635",
         "-45.94035829050192",
         "530ec6109d11eaaf87999465c6afee01",
         "85807",
         "-24.9409988170985",
         "-53.4931867821282"
        ],
        [
         "15",
         "0009c9a17f916a706d71784483a5d643",
         "8a250edc40ebc5c3940ebc940f16a7eb",
         "13044",
         "-22.952820647882046",
         "-47.02865383550558",
         "fcb5ace8bcc92f75707dc0f01a27d269",
         "7032",
         "-23.505429268942237",
         "-46.54869177407812"
        ],
        [
         "16",
         "000aed2e25dbad2f9ddb70584c5a2ded",
         "fff5169e583fd07fac9fec88962f189d",
         "13458",
         "-22.77434611235661",
         "-47.39844370678993",
         "fe2032dab1a61af8794248c8196565c9",
         "13030",
         "-22.92991227115403",
         "-47.07189552530681"
        ],
        [
         "17",
         "000c3e6612759851cc3cbb4b83257986",
         "3773bcf1a6fbd29233ea1c1b573c4f22",
         "13208",
         "-23.190172576172973",
         "-46.891633311270105",
         "218d46b86c1881d022bce9c68a7d4b15",
         "14070",
         "-21.116471333054424",
         "-47.79073400291418"
        ],
        [
         "18",
         "000e562887b1f2006d75e0be9558292e",
         "2b01d668726fb0b751c55918c0437b7b",
         "11533",
         "-23.925988916770564",
         "-46.40841448983772",
         "8cbac7e12637ed9cffa18c7875207478",
         "89254",
         "-26.46850294670808",
         "-49.109883098307336"
        ],
        [
         "19",
         "000e63d38ae8c00bbcb5a30573b99628",
         "98884e672c5ba85f4394f2044e1a3eab",
         "4679",
         "-23.67501017124474",
         "-46.679538766172286",
         "1c129092bf23f28a5930387c980c0dfc",
         "2972",
         "-23.48029674271453",
         "-46.71122495337295"
        ],
        [
         "20",
         "000e906b789b55f64edcb1f84030f90d",
         "6a3b2fc9f270df258605e22bef19fd88",
         "18900",
         "-22.883610865880744",
         "-49.61785424118465",
         "ea8482cd71df3c1969d7b9473ff13abc",
         "4160",
         "-23.62358155176294",
         "-46.61056007369148"
        ],
        [
         "21",
         "000f25f4d72195062c040b12dce9a18a",
         "86ade8ebc14f18dd6c3ea75bd0eb7534",
         "27213",
         "-22.505694901916865",
         "-44.088639121740684",
         "7c67e1448b00f6e969d365cea6b010ab",
         "8577",
         "-23.482623440635415",
         "-46.37448952833195"
        ],
        [
         "22",
         "001021efaa8636c29475e7734483457d",
         "2dfbf74859104caf100df3720a1d833d",
         "86870",
         "-24.237456137353824",
         "-51.65890263758289",
         "6560211a19b47992c3666cc44a7e94c0",
         "5849",
         "-23.651114842510154",
         "-46.75521082321932"
        ],
        [
         "23",
         "0010b2e5201cc5f1ae7e9c6cc8f5bd00",
         "57ef317d4818cb42680fc9dfd13867ce",
         "22461",
         "-22.96070967499565",
         "-43.213958465173945",
         "3504c0cb71d7fa48d967e0e4c94d59d9",
         "9350",
         "-23.68011442853022",
         "-46.4524537436668"
        ],
        [
         "24",
         "00119ff934e539cf26f92b9ef0cdfed8",
         "7dd2e283f47deac853cf70f3b63c8d86",
         "26263",
         "-22.75300833813893",
         "-43.47546571399929",
         "c864036feaab8c1659f65ea4faebe1da",
         "83605",
         "-25.446647385196982",
         "-49.55563586004068"
        ],
        [
         "25",
         "0011d82c4b53e22e84023405fb467e57",
         "2013d892495e1a101d742d533d2d1119",
         "1033",
         "-23.54032130474925",
         "-46.636394815973325",
         "bfd27a966d91cfaafdb25d076585f0da",
         "13930",
         "-22.596440207291085",
         "-46.71196868822353"
        ],
        [
         "26",
         "00125cb692d04887809806618a2a145f",
         "8afb90a97ee661103014329b1bcea1a2",
         "75123",
         "-16.33674884233032",
         "-48.95262089320569",
         "41b39e28db005d9731d9d485a83b4c38",
         "9220",
         "-23.624784000000005",
         "-46.53954225000001"
        ],
        [
         "27",
         "00130c0eee84a3d909e75bc08c5c3ca1",
         "47d656c08a282ec5ab4c1f18303a3a30",
         "9820",
         "-23.746059525102535",
         "-46.55042958090485",
         "16090f2ca825584b5a147ab24aa30c86",
         "12940",
         "-23.112774381969185",
         "-46.5488845105504"
        ],
        [
         "28",
         "0013503b13da1eac686219390b7d641b",
         "f7277fce45fad3165379c15cacf5ddbe",
         "6160",
         "-23.56267680949066",
         "-46.809370406703835",
         "1554a68530182680ad5c8b042c3ab563",
         "37580",
         "-22.42880507067007",
         "-46.569550269431765"
        ],
        [
         "29",
         "00137e170939bba5a3134e2386413108",
         "7b63cba66b8e6d002e94d0990c1e2868",
         "22790",
         "-23.011334694990957",
         "-43.450256415344235",
         "e59aa562b9f8076dd550fcddf0e73491",
         "82810",
         "-25.43585833749783",
         "-49.22158276824976"
        ],
        [
         "30",
         "001427c0ec99cf8af737bd88e92fd444",
         "eab9c552374be06ed15923016dc9e588",
         "38304",
         "-18.989720770726024",
         "-49.455442218844496",
         "77530e9772f57a62c906e1c21538ab82",
         "80310",
         "-25.464029318048183",
         "-49.30472794690424"
        ],
        [
         "31",
         "00143d0f86d6fbd9f9b38ab440ac16f5",
         "2e45292979b9b2700ea09560eeb0f803",
         "74663",
         "-16.640413602654117",
         "-49.254631666830626",
         "a17f621c590ea0fab3d5d883e1630ec6",
         "18055",
         "-23.489741556206333",
         "-47.509921178602326"
        ],
        [
         "32",
         "0014ae671de39511f7575066200733b7",
         "41065d9dcea52218c3943d2eed072b97",
         "83325",
         "-25.422248161753803",
         "-49.17481523920898",
         "92eb0f42c21942b6552362b9b114707d",
         "3504",
         "-23.53877907744238",
         "-46.536485668330556"
        ],
        [
         "33",
         "0015ebb40fb17286bea51d4607c4733c",
         "da43a556bf5c36a1104c473cff77de6c",
         "85948",
         "-24.626074497108437",
         "-54.230496748554216",
         "8b321bb669392f5163d04c59e235e066",
         "1212",
         "-23.537511255832708",
         "-46.637057307436756"
        ],
        [
         "34",
         "00169e31ef4b29deaae414f9a5e95929",
         "efb3830adb68fb8a89c948774388ec28",
         "22775",
         "-22.972956517889177",
         "-43.39706327699233",
         "a3e9a2c700480d9bb01fba070ba80a0e",
         "14940",
         "-21.7664768468313",
         "-48.83154737836604"
        ],
        [
         "35",
         "0016dfedd97fc2950e388d2971d718c7",
         "2c8b917c5d7dd720ebe36a5ed3b501ec",
         "45860",
         "-15.67671561025265",
         "-38.94519639615488",
         "a35124e2d763d7ca3fbe3b97d143200f",
         "4041",
         "-23.60148851096427",
         "-46.6435611931733"
        ],
        [
         "36",
         "0017afd5076e074a48f1f1a4c7bac9c5",
         "8085a9af46f619bc25966f151a362b0d",
         "57250",
         "-9.781839358572894",
         "-36.34580555381587",
         "25c5c91f63607446a97b143d2d535d31",
         "35680",
         "-20.082126604231757",
         "-44.5732983518722"
        ],
        [
         "37",
         "001862358bf858722e1e2ae000cfed8b",
         "2cf869dd40c98f29686f636d83545cce",
         "12530",
         "-23.07558796563428",
         "-44.95788421241348",
         "7a67c85e85bb2ce8582c35f2203ad736",
         "3426",
         "-23.554079433810344",
         "-46.53324185942636"
        ],
        [
         "38",
         "0019c29108428acffd089c36103c9440",
         "5f6bbac628ae418db4e0f92932f899c1",
         "37580",
         "-22.42880507067007",
         "-46.569550269431765",
         "77530e9772f57a62c906e1c21538ab82",
         "80310",
         "-25.464029318048183",
         "-49.30472794690424"
        ],
        [
         "39",
         "001ab0a7578dd66cd4b0a71f5b6e1e41",
         "8bb3bef4e75a95524235cdc11a7331af",
         "40055",
         "-12.971431320169538",
         "-38.501911289785994",
         "5656537e588803a555b8eb41f07a944b",
         "72015",
         "-15.840667480274698",
         "-48.051942900348365"
        ],
        [
         "40",
         "001ac194d4a326a6fa99b581e9a3d963",
         "f4f17ada91ef010cbde3892ae54e625f",
         "11500",
         "-23.88073319655594",
         "-46.41774121252613",
         "ffc470761de7d0232558ba5e786e57b7",
         "7091",
         "-23.464392221253405",
         "-46.54273714209829"
        ],
        [
         "41",
         "001b76dd48a5b1eee3e87778daa40df8",
         "a62843b08086d1629415a203a7fd419d",
         "15768",
         "-20.247941976890285",
         "-50.69015607825895",
         "9c0e69c7bf2619675bbadf47b43f655a",
         "12230",
         "-23.221431461827063",
         "-45.888163895493165"
        ],
        [
         "42",
         "001c85b5f68d2be0cb0797afc9e8ce9a",
         "48ed31e735f1c420ed6ca3637b7c744d",
         "8072",
         "-23.48618566157444",
         "-46.46171801285908",
         "4a3ca9315b744ce9f8e9374361493884",
         "14940",
         "-21.7664768468313",
         "-48.83154737836604"
        ],
        [
         "43",
         "001d8f0e34a38c37f7dba2a37d4eba8b",
         "d987da9fb4086ab7c2c0f83963cd6722",
         "2929",
         "-23.49086602208629",
         "-46.706045409257214",
         "f4aba7c0bca51484c30ab7bdc34bcdd1",
         "1031",
         "-23.536864121011018",
         "-46.63349313820771"
        ],
        [
         "44",
         "001daeb0eddc45b999bad0801ad9d273",
         "3ba02060e681d361d603d5f7ef0a730b",
         "48475",
         "-11.309398153712856",
         "-38.218806945947435",
         "f45122a9ab94eb4f3f8953578bc0c560",
         "13419",
         "-22.726257875353635",
         "-47.637811389520564"
        ],
        [
         "45",
         "001dbc16dc51075e987543d23a0507c7",
         "698a74f33469466fa4172e829505d1c6",
         "36240",
         "-21.455693565980855",
         "-43.538209467899804",
         "4a3ca9315b744ce9f8e9374361493884",
         "14940",
         "-21.7664768468313",
         "-48.83154737836604"
        ],
        [
         "46",
         "001e7ba991be1b19605ca0316e7130f9",
         "b6a1445ee505f3a95c827e7a5188ad02",
         "79117",
         "-20.423768658058773",
         "-54.63417792674121",
         "3340ef1913fb70d28420f6ceb685c339",
         "87040",
         "-23.41382198370398",
         "-51.90777440824636"
        ],
        [
         "47",
         "001e7cf2ad6bef3ade12ebc56ceaf0f3",
         "d1684ed69f8fd574b7c344de923f379a",
         "38550",
         "-18.47534184940673",
         "-47.21120486285433",
         "2a84855fd20af891be03bc5924d2b453",
         "30111",
         "-19.91624655709342",
         "-43.936233640966364"
        ],
        [
         "48",
         "0020262c8a370bd5a174ea6a2a267321",
         "9ec353f970bdf785f6568724d9ea19aa",
         "83280",
         "-25.879391743627053",
         "-48.61948177812689",
         "ff063b022a9a0aab91bad2c9088760b7",
         "9171",
         "-23.70007597807146",
         "-46.512702481822366"
        ],
        [
         "49",
         "0020a222f55eb79a372d0efee3cca688",
         "0c45155afd8ff99622c40824057f9b34",
         "27273",
         "-22.52526178489817",
         "-44.14275439508915",
         "8a32e327fe2c1b3511609d81aaf9f042",
         "2443",
         "-23.472335179294816",
         "-46.64636526449883"
        ]
       ],
       "shape": {
        "columns": 9,
        "rows": 98175
       }
      },
      "text/html": [
       "<div>\n",
       "<style scoped>\n",
       "    .dataframe tbody tr th:only-of-type {\n",
       "        vertical-align: middle;\n",
       "    }\n",
       "\n",
       "    .dataframe tbody tr th {\n",
       "        vertical-align: top;\n",
       "    }\n",
       "\n",
       "    .dataframe thead th {\n",
       "        text-align: right;\n",
       "    }\n",
       "</style>\n",
       "<table border=\"1\" class=\"dataframe\">\n",
       "  <thead>\n",
       "    <tr style=\"text-align: right;\">\n",
       "      <th></th>\n",
       "      <th>order_id</th>\n",
       "      <th>customer_id</th>\n",
       "      <th>geolocation_zip_code_prefix</th>\n",
       "      <th>geolocation_lat_customer</th>\n",
       "      <th>geolocation_lng_customer</th>\n",
       "      <th>seller_id</th>\n",
       "      <th>seller_zip_code_prefix</th>\n",
       "      <th>geolocation_lat_seller</th>\n",
       "      <th>geolocation_lng_seller</th>\n",
       "    </tr>\n",
       "  </thead>\n",
       "  <tbody>\n",
       "    <tr>\n",
       "      <th>0</th>\n",
       "      <td>00010242fe8c5a6d1ba2dd792cb16214</td>\n",
       "      <td>3ce436f183e68e07877b285a838db11a</td>\n",
       "      <td>28013</td>\n",
       "      <td>-21.758076</td>\n",
       "      <td>-41.312633</td>\n",
       "      <td>48436dade18ac8b2bce089ec2a041202</td>\n",
       "      <td>27277</td>\n",
       "      <td>-22.498183</td>\n",
       "      <td>-44.123614</td>\n",
       "    </tr>\n",
       "    <tr>\n",
       "      <th>1</th>\n",
       "      <td>00018f77f2f0320c557190d7a144bdd3</td>\n",
       "      <td>f6dd3ec061db4e3987629fe6b26e5cce</td>\n",
       "      <td>15775</td>\n",
       "      <td>-20.212393</td>\n",
       "      <td>-50.941471</td>\n",
       "      <td>dd7ddc04e1b6c2c614352b383efe2d36</td>\n",
       "      <td>3471</td>\n",
       "      <td>-23.566258</td>\n",
       "      <td>-46.518417</td>\n",
       "    </tr>\n",
       "    <tr>\n",
       "      <th>2</th>\n",
       "      <td>000229ec398224ef6ca0657da4fc703e</td>\n",
       "      <td>6489ae5e4333f3693df5ad4372dab6d3</td>\n",
       "      <td>35661</td>\n",
       "      <td>-19.860439</td>\n",
       "      <td>-44.597972</td>\n",
       "      <td>5b51032eddd242adc84c38acab88f23d</td>\n",
       "      <td>37564</td>\n",
       "      <td>-22.264094</td>\n",
       "      <td>-46.158564</td>\n",
       "    </tr>\n",
       "    <tr>\n",
       "      <th>3</th>\n",
       "      <td>00024acbcdf0a6daa1e931b038114c75</td>\n",
       "      <td>d4eb9395c8c0431ee92fce09860c5a06</td>\n",
       "      <td>12952</td>\n",
       "      <td>-23.144923</td>\n",
       "      <td>-46.539830</td>\n",
       "      <td>9d7a1d34a5052409006425275ba1c2b4</td>\n",
       "      <td>14403</td>\n",
       "      <td>-20.548228</td>\n",
       "      <td>-47.395897</td>\n",
       "    </tr>\n",
       "    <tr>\n",
       "      <th>4</th>\n",
       "      <td>00042b26cf59d7ce69dfabb4e55b4fd9</td>\n",
       "      <td>58dbd0b2d70206bf40e62cd34e84d795</td>\n",
       "      <td>13226</td>\n",
       "      <td>-23.249008</td>\n",
       "      <td>-46.824961</td>\n",
       "      <td>df560393f3a51e74553ab94004ba5c87</td>\n",
       "      <td>87900</td>\n",
       "      <td>-22.931427</td>\n",
       "      <td>-53.133759</td>\n",
       "    </tr>\n",
       "    <tr>\n",
       "      <th>...</th>\n",
       "      <td>...</td>\n",
       "      <td>...</td>\n",
       "      <td>...</td>\n",
       "      <td>...</td>\n",
       "      <td>...</td>\n",
       "      <td>...</td>\n",
       "      <td>...</td>\n",
       "      <td>...</td>\n",
       "      <td>...</td>\n",
       "    </tr>\n",
       "    <tr>\n",
       "      <th>98170</th>\n",
       "      <td>fffc94f6ce00a00581880bf54a75a037</td>\n",
       "      <td>b51593916b4b8e0d6f66f2ae24f2673d</td>\n",
       "      <td>65077</td>\n",
       "      <td>-2.502761</td>\n",
       "      <td>-44.315318</td>\n",
       "      <td>b8bc237ba3788b23da09c0f1f3a3288c</td>\n",
       "      <td>88303</td>\n",
       "      <td>-26.912429</td>\n",
       "      <td>-48.677381</td>\n",
       "    </tr>\n",
       "    <tr>\n",
       "      <th>98171</th>\n",
       "      <td>fffcd46ef2263f404302a634eb57f7eb</td>\n",
       "      <td>84c5d4fbaf120aae381fad077416eaa0</td>\n",
       "      <td>81690</td>\n",
       "      <td>-25.601485</td>\n",
       "      <td>-49.317700</td>\n",
       "      <td>f3c38ab652836d21de61fb8314b69182</td>\n",
       "      <td>1206</td>\n",
       "      <td>-23.535536</td>\n",
       "      <td>-46.643052</td>\n",
       "    </tr>\n",
       "    <tr>\n",
       "      <th>98172</th>\n",
       "      <td>fffce4705a9662cd70adb13d4a31832d</td>\n",
       "      <td>29309aa813182aaddc9b259e31b870e6</td>\n",
       "      <td>4039</td>\n",
       "      <td>-23.597993</td>\n",
       "      <td>-46.647904</td>\n",
       "      <td>c3cfdc648177fdbbbb35635a37472c53</td>\n",
       "      <td>80610</td>\n",
       "      <td>-25.469214</td>\n",
       "      <td>-49.293935</td>\n",
       "    </tr>\n",
       "    <tr>\n",
       "      <th>98173</th>\n",
       "      <td>fffe18544ffabc95dfada21779c9644f</td>\n",
       "      <td>b5e6afd5a41800fdf401e0272ca74655</td>\n",
       "      <td>13289</td>\n",
       "      <td>-23.036935</td>\n",
       "      <td>-46.982526</td>\n",
       "      <td>2b3e4a2a3ea8e01938cabda2a3e5cc79</td>\n",
       "      <td>4733</td>\n",
       "      <td>-23.636657</td>\n",
       "      <td>-46.694780</td>\n",
       "    </tr>\n",
       "    <tr>\n",
       "      <th>98174</th>\n",
       "      <td>fffe41c64501cc87c801fd61db3f6244</td>\n",
       "      <td>96d649da0cc4ff33bb408b199d4c7dcf</td>\n",
       "      <td>18605</td>\n",
       "      <td>-22.908684</td>\n",
       "      <td>-48.440255</td>\n",
       "      <td>f7ccf836d21b2fb1de37564105216cc1</td>\n",
       "      <td>14940</td>\n",
       "      <td>-21.766477</td>\n",
       "      <td>-48.831547</td>\n",
       "    </tr>\n",
       "  </tbody>\n",
       "</table>\n",
       "<p>98175 rows × 9 columns</p>\n",
       "</div>"
      ],
      "text/plain": [
       "                               order_id                       customer_id  \\\n",
       "0      00010242fe8c5a6d1ba2dd792cb16214  3ce436f183e68e07877b285a838db11a   \n",
       "1      00018f77f2f0320c557190d7a144bdd3  f6dd3ec061db4e3987629fe6b26e5cce   \n",
       "2      000229ec398224ef6ca0657da4fc703e  6489ae5e4333f3693df5ad4372dab6d3   \n",
       "3      00024acbcdf0a6daa1e931b038114c75  d4eb9395c8c0431ee92fce09860c5a06   \n",
       "4      00042b26cf59d7ce69dfabb4e55b4fd9  58dbd0b2d70206bf40e62cd34e84d795   \n",
       "...                                 ...                               ...   \n",
       "98170  fffc94f6ce00a00581880bf54a75a037  b51593916b4b8e0d6f66f2ae24f2673d   \n",
       "98171  fffcd46ef2263f404302a634eb57f7eb  84c5d4fbaf120aae381fad077416eaa0   \n",
       "98172  fffce4705a9662cd70adb13d4a31832d  29309aa813182aaddc9b259e31b870e6   \n",
       "98173  fffe18544ffabc95dfada21779c9644f  b5e6afd5a41800fdf401e0272ca74655   \n",
       "98174  fffe41c64501cc87c801fd61db3f6244  96d649da0cc4ff33bb408b199d4c7dcf   \n",
       "\n",
       "       geolocation_zip_code_prefix  geolocation_lat_customer  \\\n",
       "0                            28013                -21.758076   \n",
       "1                            15775                -20.212393   \n",
       "2                            35661                -19.860439   \n",
       "3                            12952                -23.144923   \n",
       "4                            13226                -23.249008   \n",
       "...                            ...                       ...   \n",
       "98170                        65077                 -2.502761   \n",
       "98171                        81690                -25.601485   \n",
       "98172                         4039                -23.597993   \n",
       "98173                        13289                -23.036935   \n",
       "98174                        18605                -22.908684   \n",
       "\n",
       "       geolocation_lng_customer                         seller_id  \\\n",
       "0                    -41.312633  48436dade18ac8b2bce089ec2a041202   \n",
       "1                    -50.941471  dd7ddc04e1b6c2c614352b383efe2d36   \n",
       "2                    -44.597972  5b51032eddd242adc84c38acab88f23d   \n",
       "3                    -46.539830  9d7a1d34a5052409006425275ba1c2b4   \n",
       "4                    -46.824961  df560393f3a51e74553ab94004ba5c87   \n",
       "...                         ...                               ...   \n",
       "98170                -44.315318  b8bc237ba3788b23da09c0f1f3a3288c   \n",
       "98171                -49.317700  f3c38ab652836d21de61fb8314b69182   \n",
       "98172                -46.647904  c3cfdc648177fdbbbb35635a37472c53   \n",
       "98173                -46.982526  2b3e4a2a3ea8e01938cabda2a3e5cc79   \n",
       "98174                -48.440255  f7ccf836d21b2fb1de37564105216cc1   \n",
       "\n",
       "       seller_zip_code_prefix  geolocation_lat_seller  geolocation_lng_seller  \n",
       "0                       27277              -22.498183              -44.123614  \n",
       "1                        3471              -23.566258              -46.518417  \n",
       "2                       37564              -22.264094              -46.158564  \n",
       "3                       14403              -20.548228              -47.395897  \n",
       "4                       87900              -22.931427              -53.133759  \n",
       "...                       ...                     ...                     ...  \n",
       "98170                   88303              -26.912429              -48.677381  \n",
       "98171                    1206              -23.535536              -46.643052  \n",
       "98172                   80610              -25.469214              -49.293935  \n",
       "98173                    4733              -23.636657              -46.694780  \n",
       "98174                   14940              -21.766477              -48.831547  \n",
       "\n",
       "[98175 rows x 9 columns]"
      ]
     },
     "execution_count": 103,
     "metadata": {},
     "output_type": "execute_result"
    }
   ],
   "source": [
    "merged_customers_sellers_geolocation = customers_geolocation.merge(sellers_geolocation\n",
    "                                                                   [[\"order_id\",\"seller_id\",\"seller_zip_code_prefix\",\"geolocation_lat\",\"geolocation_lng\"]],\n",
    "                                                                   on=\"order_id\", suffixes=(\"_customer\",\"_seller\"))\n",
    "merged_customers_sellers_geolocation"
   ]
  },
  {
   "cell_type": "code",
   "execution_count": 104,
   "id": "f5ca493a",
   "metadata": {},
   "outputs": [
    {
     "data": {
      "application/vnd.microsoft.datawrangler.viewer.v0+json": {
       "columns": [
        {
         "name": "index",
         "rawType": "int64",
         "type": "integer"
        },
        {
         "name": "order_id",
         "rawType": "object",
         "type": "string"
        },
        {
         "name": "customer_id",
         "rawType": "object",
         "type": "string"
        },
        {
         "name": "geolocation_zip_code_prefix",
         "rawType": "int64",
         "type": "integer"
        },
        {
         "name": "geolocation_lat_customer",
         "rawType": "float64",
         "type": "float"
        },
        {
         "name": "geolocation_lng_customer",
         "rawType": "float64",
         "type": "float"
        },
        {
         "name": "seller_id",
         "rawType": "object",
         "type": "string"
        },
        {
         "name": "seller_zip_code_prefix",
         "rawType": "int64",
         "type": "integer"
        },
        {
         "name": "geolocation_lat_seller",
         "rawType": "float64",
         "type": "float"
        },
        {
         "name": "geolocation_lng_seller",
         "rawType": "float64",
         "type": "float"
        },
        {
         "name": "customer_coordinates",
         "rawType": "object",
         "type": "unknown"
        },
        {
         "name": "seller_coordinates",
         "rawType": "object",
         "type": "unknown"
        }
       ],
       "ref": "151dcf10-7693-4467-b4f2-b67b388caa9b",
       "rows": [
        [
         "0",
         "00010242fe8c5a6d1ba2dd792cb16214",
         "3ce436f183e68e07877b285a838db11a",
         "28013",
         "-21.758075963712617",
         "-41.31263336665773",
         "48436dade18ac8b2bce089ec2a041202",
         "27277",
         "-22.498182754371285",
         "-44.12361371579433",
         "(-21.758075963712617, -41.31263336665773)",
         "(-22.498182754371285, -44.12361371579433)"
        ]
       ],
       "shape": {
        "columns": 11,
        "rows": 1
       }
      },
      "text/html": [
       "<div>\n",
       "<style scoped>\n",
       "    .dataframe tbody tr th:only-of-type {\n",
       "        vertical-align: middle;\n",
       "    }\n",
       "\n",
       "    .dataframe tbody tr th {\n",
       "        vertical-align: top;\n",
       "    }\n",
       "\n",
       "    .dataframe thead th {\n",
       "        text-align: right;\n",
       "    }\n",
       "</style>\n",
       "<table border=\"1\" class=\"dataframe\">\n",
       "  <thead>\n",
       "    <tr style=\"text-align: right;\">\n",
       "      <th></th>\n",
       "      <th>order_id</th>\n",
       "      <th>customer_id</th>\n",
       "      <th>geolocation_zip_code_prefix</th>\n",
       "      <th>geolocation_lat_customer</th>\n",
       "      <th>geolocation_lng_customer</th>\n",
       "      <th>seller_id</th>\n",
       "      <th>seller_zip_code_prefix</th>\n",
       "      <th>geolocation_lat_seller</th>\n",
       "      <th>geolocation_lng_seller</th>\n",
       "      <th>customer_coordinates</th>\n",
       "      <th>seller_coordinates</th>\n",
       "    </tr>\n",
       "  </thead>\n",
       "  <tbody>\n",
       "    <tr>\n",
       "      <th>0</th>\n",
       "      <td>00010242fe8c5a6d1ba2dd792cb16214</td>\n",
       "      <td>3ce436f183e68e07877b285a838db11a</td>\n",
       "      <td>28013</td>\n",
       "      <td>-21.758076</td>\n",
       "      <td>-41.312633</td>\n",
       "      <td>48436dade18ac8b2bce089ec2a041202</td>\n",
       "      <td>27277</td>\n",
       "      <td>-22.498183</td>\n",
       "      <td>-44.123614</td>\n",
       "      <td>(-21.758075963712617, -41.31263336665773)</td>\n",
       "      <td>(-22.498182754371285, -44.12361371579433)</td>\n",
       "    </tr>\n",
       "  </tbody>\n",
       "</table>\n",
       "</div>"
      ],
      "text/plain": [
       "                           order_id                       customer_id  \\\n",
       "0  00010242fe8c5a6d1ba2dd792cb16214  3ce436f183e68e07877b285a838db11a   \n",
       "\n",
       "   geolocation_zip_code_prefix  geolocation_lat_customer  \\\n",
       "0                        28013                -21.758076   \n",
       "\n",
       "   geolocation_lng_customer                         seller_id  \\\n",
       "0                -41.312633  48436dade18ac8b2bce089ec2a041202   \n",
       "\n",
       "   seller_zip_code_prefix  geolocation_lat_seller  geolocation_lng_seller  \\\n",
       "0                   27277              -22.498183              -44.123614   \n",
       "\n",
       "                        customer_coordinates  \\\n",
       "0  (-21.758075963712617, -41.31263336665773)   \n",
       "\n",
       "                          seller_coordinates  \n",
       "0  (-22.498182754371285, -44.12361371579433)  "
      ]
     },
     "execution_count": 104,
     "metadata": {},
     "output_type": "execute_result"
    }
   ],
   "source": [
    "merged_customers_sellers_geolocation[\"customer_coordinates\"] = merged_customers_sellers_geolocation[[\"geolocation_lat_customer\",\"geolocation_lng_customer\"]].apply(tuple, axis = 1)\n",
    "merged_customers_sellers_geolocation[\"seller_coordinates\"] = merged_customers_sellers_geolocation[[\"geolocation_lat_seller\",\"geolocation_lng_seller\"]].apply(tuple, axis = 1)\n",
    "merged_customers_sellers_geolocation.head(1)"
   ]
  },
  {
   "cell_type": "code",
   "execution_count": 105,
   "id": "95c427fa",
   "metadata": {},
   "outputs": [],
   "source": [
    "merged_customers_sellers_geolocation[\"km_distance\"] = merged_customers_sellers_geolocation.apply(lambda x: distance.distance(x[\"customer_coordinates\"],\n",
    "                                                                        x[\"seller_coordinates\"]).km, axis = 1)\n",
    "merged_customers_sellers_geolocation[\"km_distance\"] = merged_customers_sellers_geolocation[\"km_distance\"].round(2)"
   ]
  },
  {
   "cell_type": "code",
   "execution_count": 106,
   "id": "1c90b25f",
   "metadata": {},
   "outputs": [
    {
     "data": {
      "application/vnd.microsoft.datawrangler.viewer.v0+json": {
       "columns": [
        {
         "name": "index",
         "rawType": "int64",
         "type": "integer"
        },
        {
         "name": "order_id",
         "rawType": "object",
         "type": "string"
        },
        {
         "name": "customer_id",
         "rawType": "object",
         "type": "string"
        },
        {
         "name": "geolocation_zip_code_prefix",
         "rawType": "int64",
         "type": "integer"
        },
        {
         "name": "geolocation_lat_customer",
         "rawType": "float64",
         "type": "float"
        },
        {
         "name": "geolocation_lng_customer",
         "rawType": "float64",
         "type": "float"
        },
        {
         "name": "seller_id",
         "rawType": "object",
         "type": "string"
        },
        {
         "name": "seller_zip_code_prefix",
         "rawType": "int64",
         "type": "integer"
        },
        {
         "name": "geolocation_lat_seller",
         "rawType": "float64",
         "type": "float"
        },
        {
         "name": "geolocation_lng_seller",
         "rawType": "float64",
         "type": "float"
        },
        {
         "name": "customer_coordinates",
         "rawType": "object",
         "type": "unknown"
        },
        {
         "name": "seller_coordinates",
         "rawType": "object",
         "type": "unknown"
        },
        {
         "name": "km_distance",
         "rawType": "float64",
         "type": "float"
        }
       ],
       "ref": "ede73721-4bbd-42dc-9ed8-c9a413adf2d4",
       "rows": [
        [
         "0",
         "00010242fe8c5a6d1ba2dd792cb16214",
         "3ce436f183e68e07877b285a838db11a",
         "28013",
         "-21.758075963712617",
         "-41.31263336665773",
         "48436dade18ac8b2bce089ec2a041202",
         "27277",
         "-22.498182754371285",
         "-44.12361371579433",
         "(-21.758075963712617, -41.31263336665773)",
         "(-22.498182754371285, -44.12361371579433)",
         "301.36"
        ],
        [
         "1",
         "00018f77f2f0320c557190d7a144bdd3",
         "f6dd3ec061db4e3987629fe6b26e5cce",
         "15775",
         "-20.212393090480738",
         "-50.941471352999706",
         "dd7ddc04e1b6c2c614352b383efe2d36",
         "3471",
         "-23.56625832001269",
         "-46.51841724632121",
         "(-20.212393090480738, -50.941471352999706)",
         "(-23.56625832001269, -46.51841724632121)",
         "588.85"
        ],
        [
         "2",
         "000229ec398224ef6ca0657da4fc703e",
         "6489ae5e4333f3693df5ad4372dab6d3",
         "35661",
         "-19.860438774695695",
         "-44.59797225430084",
         "5b51032eddd242adc84c38acab88f23d",
         "37564",
         "-22.264093569966427",
         "-46.15856420525942",
         "(-19.860438774695695, -44.59797225430084)",
         "(-22.264093569966427, -46.15856420525942)",
         "311.65"
        ],
        [
         "3",
         "00024acbcdf0a6daa1e931b038114c75",
         "d4eb9395c8c0431ee92fce09860c5a06",
         "12952",
         "-23.14492333670709",
         "-46.539830386938746",
         "9d7a1d34a5052409006425275ba1c2b4",
         "14403",
         "-20.54822779974972",
         "-47.395897060007975",
         "(-23.14492333670709, -46.539830386938746)",
         "(-20.54822779974972, -47.395897060007975)",
         "300.83"
        ],
        [
         "4",
         "00042b26cf59d7ce69dfabb4e55b4fd9",
         "58dbd0b2d70206bf40e62cd34e84d795",
         "13226",
         "-23.249007721987628",
         "-46.82496052725624",
         "df560393f3a51e74553ab94004ba5c87",
         "87900",
         "-22.931426544866625",
         "-53.13375928731349",
         "(-23.249007721987628, -46.82496052725624)",
         "(-22.931426544866625, -53.13375928731349)",
         "647.27"
        ]
       ],
       "shape": {
        "columns": 12,
        "rows": 5
       }
      },
      "text/html": [
       "<div>\n",
       "<style scoped>\n",
       "    .dataframe tbody tr th:only-of-type {\n",
       "        vertical-align: middle;\n",
       "    }\n",
       "\n",
       "    .dataframe tbody tr th {\n",
       "        vertical-align: top;\n",
       "    }\n",
       "\n",
       "    .dataframe thead th {\n",
       "        text-align: right;\n",
       "    }\n",
       "</style>\n",
       "<table border=\"1\" class=\"dataframe\">\n",
       "  <thead>\n",
       "    <tr style=\"text-align: right;\">\n",
       "      <th></th>\n",
       "      <th>order_id</th>\n",
       "      <th>customer_id</th>\n",
       "      <th>geolocation_zip_code_prefix</th>\n",
       "      <th>geolocation_lat_customer</th>\n",
       "      <th>geolocation_lng_customer</th>\n",
       "      <th>seller_id</th>\n",
       "      <th>seller_zip_code_prefix</th>\n",
       "      <th>geolocation_lat_seller</th>\n",
       "      <th>geolocation_lng_seller</th>\n",
       "      <th>customer_coordinates</th>\n",
       "      <th>seller_coordinates</th>\n",
       "      <th>km_distance</th>\n",
       "    </tr>\n",
       "  </thead>\n",
       "  <tbody>\n",
       "    <tr>\n",
       "      <th>0</th>\n",
       "      <td>00010242fe8c5a6d1ba2dd792cb16214</td>\n",
       "      <td>3ce436f183e68e07877b285a838db11a</td>\n",
       "      <td>28013</td>\n",
       "      <td>-21.758076</td>\n",
       "      <td>-41.312633</td>\n",
       "      <td>48436dade18ac8b2bce089ec2a041202</td>\n",
       "      <td>27277</td>\n",
       "      <td>-22.498183</td>\n",
       "      <td>-44.123614</td>\n",
       "      <td>(-21.758075963712617, -41.31263336665773)</td>\n",
       "      <td>(-22.498182754371285, -44.12361371579433)</td>\n",
       "      <td>301.36</td>\n",
       "    </tr>\n",
       "    <tr>\n",
       "      <th>1</th>\n",
       "      <td>00018f77f2f0320c557190d7a144bdd3</td>\n",
       "      <td>f6dd3ec061db4e3987629fe6b26e5cce</td>\n",
       "      <td>15775</td>\n",
       "      <td>-20.212393</td>\n",
       "      <td>-50.941471</td>\n",
       "      <td>dd7ddc04e1b6c2c614352b383efe2d36</td>\n",
       "      <td>3471</td>\n",
       "      <td>-23.566258</td>\n",
       "      <td>-46.518417</td>\n",
       "      <td>(-20.212393090480738, -50.941471352999706)</td>\n",
       "      <td>(-23.56625832001269, -46.51841724632121)</td>\n",
       "      <td>588.85</td>\n",
       "    </tr>\n",
       "    <tr>\n",
       "      <th>2</th>\n",
       "      <td>000229ec398224ef6ca0657da4fc703e</td>\n",
       "      <td>6489ae5e4333f3693df5ad4372dab6d3</td>\n",
       "      <td>35661</td>\n",
       "      <td>-19.860439</td>\n",
       "      <td>-44.597972</td>\n",
       "      <td>5b51032eddd242adc84c38acab88f23d</td>\n",
       "      <td>37564</td>\n",
       "      <td>-22.264094</td>\n",
       "      <td>-46.158564</td>\n",
       "      <td>(-19.860438774695695, -44.59797225430084)</td>\n",
       "      <td>(-22.264093569966427, -46.15856420525942)</td>\n",
       "      <td>311.65</td>\n",
       "    </tr>\n",
       "    <tr>\n",
       "      <th>3</th>\n",
       "      <td>00024acbcdf0a6daa1e931b038114c75</td>\n",
       "      <td>d4eb9395c8c0431ee92fce09860c5a06</td>\n",
       "      <td>12952</td>\n",
       "      <td>-23.144923</td>\n",
       "      <td>-46.539830</td>\n",
       "      <td>9d7a1d34a5052409006425275ba1c2b4</td>\n",
       "      <td>14403</td>\n",
       "      <td>-20.548228</td>\n",
       "      <td>-47.395897</td>\n",
       "      <td>(-23.14492333670709, -46.539830386938746)</td>\n",
       "      <td>(-20.54822779974972, -47.395897060007975)</td>\n",
       "      <td>300.83</td>\n",
       "    </tr>\n",
       "    <tr>\n",
       "      <th>4</th>\n",
       "      <td>00042b26cf59d7ce69dfabb4e55b4fd9</td>\n",
       "      <td>58dbd0b2d70206bf40e62cd34e84d795</td>\n",
       "      <td>13226</td>\n",
       "      <td>-23.249008</td>\n",
       "      <td>-46.824961</td>\n",
       "      <td>df560393f3a51e74553ab94004ba5c87</td>\n",
       "      <td>87900</td>\n",
       "      <td>-22.931427</td>\n",
       "      <td>-53.133759</td>\n",
       "      <td>(-23.249007721987628, -46.82496052725624)</td>\n",
       "      <td>(-22.931426544866625, -53.13375928731349)</td>\n",
       "      <td>647.27</td>\n",
       "    </tr>\n",
       "  </tbody>\n",
       "</table>\n",
       "</div>"
      ],
      "text/plain": [
       "                           order_id                       customer_id  \\\n",
       "0  00010242fe8c5a6d1ba2dd792cb16214  3ce436f183e68e07877b285a838db11a   \n",
       "1  00018f77f2f0320c557190d7a144bdd3  f6dd3ec061db4e3987629fe6b26e5cce   \n",
       "2  000229ec398224ef6ca0657da4fc703e  6489ae5e4333f3693df5ad4372dab6d3   \n",
       "3  00024acbcdf0a6daa1e931b038114c75  d4eb9395c8c0431ee92fce09860c5a06   \n",
       "4  00042b26cf59d7ce69dfabb4e55b4fd9  58dbd0b2d70206bf40e62cd34e84d795   \n",
       "\n",
       "   geolocation_zip_code_prefix  geolocation_lat_customer  \\\n",
       "0                        28013                -21.758076   \n",
       "1                        15775                -20.212393   \n",
       "2                        35661                -19.860439   \n",
       "3                        12952                -23.144923   \n",
       "4                        13226                -23.249008   \n",
       "\n",
       "   geolocation_lng_customer                         seller_id  \\\n",
       "0                -41.312633  48436dade18ac8b2bce089ec2a041202   \n",
       "1                -50.941471  dd7ddc04e1b6c2c614352b383efe2d36   \n",
       "2                -44.597972  5b51032eddd242adc84c38acab88f23d   \n",
       "3                -46.539830  9d7a1d34a5052409006425275ba1c2b4   \n",
       "4                -46.824961  df560393f3a51e74553ab94004ba5c87   \n",
       "\n",
       "   seller_zip_code_prefix  geolocation_lat_seller  geolocation_lng_seller  \\\n",
       "0                   27277              -22.498183              -44.123614   \n",
       "1                    3471              -23.566258              -46.518417   \n",
       "2                   37564              -22.264094              -46.158564   \n",
       "3                   14403              -20.548228              -47.395897   \n",
       "4                   87900              -22.931427              -53.133759   \n",
       "\n",
       "                         customer_coordinates  \\\n",
       "0   (-21.758075963712617, -41.31263336665773)   \n",
       "1  (-20.212393090480738, -50.941471352999706)   \n",
       "2   (-19.860438774695695, -44.59797225430084)   \n",
       "3   (-23.14492333670709, -46.539830386938746)   \n",
       "4   (-23.249007721987628, -46.82496052725624)   \n",
       "\n",
       "                          seller_coordinates  km_distance  \n",
       "0  (-22.498182754371285, -44.12361371579433)       301.36  \n",
       "1   (-23.56625832001269, -46.51841724632121)       588.85  \n",
       "2  (-22.264093569966427, -46.15856420525942)       311.65  \n",
       "3  (-20.54822779974972, -47.395897060007975)       300.83  \n",
       "4  (-22.931426544866625, -53.13375928731349)       647.27  "
      ]
     },
     "execution_count": 106,
     "metadata": {},
     "output_type": "execute_result"
    }
   ],
   "source": [
    "merged_customers_sellers_geolocation.head(5)"
   ]
  },
  {
   "cell_type": "markdown",
   "id": "05558e55",
   "metadata": {},
   "source": [
    "6.9. Adding product_category_name_english column to the products table"
   ]
  },
  {
   "cell_type": "code",
   "execution_count": 107,
   "id": "ddcf41c2",
   "metadata": {},
   "outputs": [
    {
     "data": {
      "application/vnd.microsoft.datawrangler.viewer.v0+json": {
       "columns": [
        {
         "name": "index",
         "rawType": "int64",
         "type": "integer"
        },
        {
         "name": "product_id",
         "rawType": "object",
         "type": "string"
        },
        {
         "name": "product_category_name",
         "rawType": "object",
         "type": "string"
        },
        {
         "name": "product_name_length",
         "rawType": "float64",
         "type": "float"
        },
        {
         "name": "product_description_length",
         "rawType": "float64",
         "type": "float"
        },
        {
         "name": "product_photos_qty",
         "rawType": "float64",
         "type": "float"
        },
        {
         "name": "product_weight_g",
         "rawType": "float64",
         "type": "float"
        },
        {
         "name": "product_length_cm",
         "rawType": "float64",
         "type": "float"
        },
        {
         "name": "product_height_cm",
         "rawType": "float64",
         "type": "float"
        },
        {
         "name": "product_width_cm",
         "rawType": "float64",
         "type": "float"
        },
        {
         "name": "product_category_name_english",
         "rawType": "object",
         "type": "string"
        }
       ],
       "ref": "f127b722-2685-4da5-87a1-91da6f39d9d4",
       "rows": [
        [
         "0",
         "00066f42aeeb9f3007548bb9d3f33c38",
         "perfumaria",
         "53.0",
         "596.0",
         "6.0",
         "300.0",
         "20.0",
         "16.0",
         "16.0",
         "perfumery"
        ],
        [
         "1",
         "00088930e925c41fd95ebfe695fd2655",
         "automotivo",
         "56.0",
         "752.0",
         "4.0",
         "1225.0",
         "55.0",
         "10.0",
         "26.0",
         "auto"
        ],
        [
         "2",
         "0009406fd7479715e4bef61dd91f2462",
         "cama_mesa_banho",
         "50.0",
         "266.0",
         "2.0",
         "300.0",
         "45.0",
         "15.0",
         "35.0",
         "bed_bath_table"
        ],
        [
         "3",
         "000b8f95fcb9e0096488278317764d19",
         "utilidades_domesticas",
         "25.0",
         "364.0",
         "3.0",
         "550.0",
         "19.0",
         "24.0",
         "12.0",
         "housewares"
        ],
        [
         "4",
         "000d9be29b5207b54e86aa1b1ac54872",
         "relogios_presentes",
         "48.0",
         "613.0",
         "4.0",
         "250.0",
         "22.0",
         "11.0",
         "15.0",
         "watches_gifts"
        ]
       ],
       "shape": {
        "columns": 10,
        "rows": 5
       }
      },
      "text/html": [
       "<div>\n",
       "<style scoped>\n",
       "    .dataframe tbody tr th:only-of-type {\n",
       "        vertical-align: middle;\n",
       "    }\n",
       "\n",
       "    .dataframe tbody tr th {\n",
       "        vertical-align: top;\n",
       "    }\n",
       "\n",
       "    .dataframe thead th {\n",
       "        text-align: right;\n",
       "    }\n",
       "</style>\n",
       "<table border=\"1\" class=\"dataframe\">\n",
       "  <thead>\n",
       "    <tr style=\"text-align: right;\">\n",
       "      <th></th>\n",
       "      <th>product_id</th>\n",
       "      <th>product_category_name</th>\n",
       "      <th>product_name_length</th>\n",
       "      <th>product_description_length</th>\n",
       "      <th>product_photos_qty</th>\n",
       "      <th>product_weight_g</th>\n",
       "      <th>product_length_cm</th>\n",
       "      <th>product_height_cm</th>\n",
       "      <th>product_width_cm</th>\n",
       "      <th>product_category_name_english</th>\n",
       "    </tr>\n",
       "  </thead>\n",
       "  <tbody>\n",
       "    <tr>\n",
       "      <th>0</th>\n",
       "      <td>00066f42aeeb9f3007548bb9d3f33c38</td>\n",
       "      <td>perfumaria</td>\n",
       "      <td>53.0</td>\n",
       "      <td>596.0</td>\n",
       "      <td>6.0</td>\n",
       "      <td>300.0</td>\n",
       "      <td>20.0</td>\n",
       "      <td>16.0</td>\n",
       "      <td>16.0</td>\n",
       "      <td>perfumery</td>\n",
       "    </tr>\n",
       "    <tr>\n",
       "      <th>1</th>\n",
       "      <td>00088930e925c41fd95ebfe695fd2655</td>\n",
       "      <td>automotivo</td>\n",
       "      <td>56.0</td>\n",
       "      <td>752.0</td>\n",
       "      <td>4.0</td>\n",
       "      <td>1225.0</td>\n",
       "      <td>55.0</td>\n",
       "      <td>10.0</td>\n",
       "      <td>26.0</td>\n",
       "      <td>auto</td>\n",
       "    </tr>\n",
       "    <tr>\n",
       "      <th>2</th>\n",
       "      <td>0009406fd7479715e4bef61dd91f2462</td>\n",
       "      <td>cama_mesa_banho</td>\n",
       "      <td>50.0</td>\n",
       "      <td>266.0</td>\n",
       "      <td>2.0</td>\n",
       "      <td>300.0</td>\n",
       "      <td>45.0</td>\n",
       "      <td>15.0</td>\n",
       "      <td>35.0</td>\n",
       "      <td>bed_bath_table</td>\n",
       "    </tr>\n",
       "    <tr>\n",
       "      <th>3</th>\n",
       "      <td>000b8f95fcb9e0096488278317764d19</td>\n",
       "      <td>utilidades_domesticas</td>\n",
       "      <td>25.0</td>\n",
       "      <td>364.0</td>\n",
       "      <td>3.0</td>\n",
       "      <td>550.0</td>\n",
       "      <td>19.0</td>\n",
       "      <td>24.0</td>\n",
       "      <td>12.0</td>\n",
       "      <td>housewares</td>\n",
       "    </tr>\n",
       "    <tr>\n",
       "      <th>4</th>\n",
       "      <td>000d9be29b5207b54e86aa1b1ac54872</td>\n",
       "      <td>relogios_presentes</td>\n",
       "      <td>48.0</td>\n",
       "      <td>613.0</td>\n",
       "      <td>4.0</td>\n",
       "      <td>250.0</td>\n",
       "      <td>22.0</td>\n",
       "      <td>11.0</td>\n",
       "      <td>15.0</td>\n",
       "      <td>watches_gifts</td>\n",
       "    </tr>\n",
       "  </tbody>\n",
       "</table>\n",
       "</div>"
      ],
      "text/plain": [
       "                         product_id  product_category_name  \\\n",
       "0  00066f42aeeb9f3007548bb9d3f33c38             perfumaria   \n",
       "1  00088930e925c41fd95ebfe695fd2655             automotivo   \n",
       "2  0009406fd7479715e4bef61dd91f2462        cama_mesa_banho   \n",
       "3  000b8f95fcb9e0096488278317764d19  utilidades_domesticas   \n",
       "4  000d9be29b5207b54e86aa1b1ac54872     relogios_presentes   \n",
       "\n",
       "   product_name_length  product_description_length  product_photos_qty  \\\n",
       "0                 53.0                       596.0                 6.0   \n",
       "1                 56.0                       752.0                 4.0   \n",
       "2                 50.0                       266.0                 2.0   \n",
       "3                 25.0                       364.0                 3.0   \n",
       "4                 48.0                       613.0                 4.0   \n",
       "\n",
       "   product_weight_g  product_length_cm  product_height_cm  product_width_cm  \\\n",
       "0             300.0               20.0               16.0              16.0   \n",
       "1            1225.0               55.0               10.0              26.0   \n",
       "2             300.0               45.0               15.0              35.0   \n",
       "3             550.0               19.0               24.0              12.0   \n",
       "4             250.0               22.0               11.0              15.0   \n",
       "\n",
       "  product_category_name_english  \n",
       "0                     perfumery  \n",
       "1                          auto  \n",
       "2                bed_bath_table  \n",
       "3                    housewares  \n",
       "4                 watches_gifts  "
      ]
     },
     "execution_count": 107,
     "metadata": {},
     "output_type": "execute_result"
    }
   ],
   "source": [
    "df_products = df_products.merge(df_product_category_translations[[\"product_category_name\", \"product_category_name_english\"]], how = \"left\", on=\"product_category_name\")\n",
    "df_products.head()"
   ]
  },
  {
   "cell_type": "code",
   "execution_count": 108,
   "id": "cdc4d463",
   "metadata": {},
   "outputs": [
    {
     "name": "stdout",
     "output_type": "stream",
     "text": [
      "Number of category names that doesnt have english  substitute: 623\n",
      "Number of unique products category names: 73\n"
     ]
    }
   ],
   "source": [
    "print(f\"Number of category names that doesnt have english  substitute: {df_products[\"product_category_name_english\"].isna().sum()}\")\n",
    "print(f\"Number of unique products category names: {df_products[\"product_category_name\"].nunique()}\")"
   ]
  },
  {
   "cell_type": "code",
   "execution_count": 109,
   "id": "67a6ec83",
   "metadata": {},
   "outputs": [
    {
     "data": {
      "text/plain": [
       "<Axes: title={'center': 'Top 5 biggest groups of product category name'}, xlabel='product_category_name_english'>"
      ]
     },
     "execution_count": 109,
     "metadata": {},
     "output_type": "execute_result"
    },
    {
     "data": {
      "image/png": "[encoded data removed]",
      "text/plain": [
       "<Figure size 1000x500 with 1 Axes>"
      ]
     },
     "metadata": {},
     "output_type": "display_data"
    }
   ],
   "source": [
    "df_products[\"product_category_name_english\"].value_counts().head(5).plot.bar(rot = 0, figsize = (10,5), title=\"Top 5 biggest groups of product category name\")"
   ]
  },
  {
   "cell_type": "markdown",
   "id": "fc787d07",
   "metadata": {},
   "source": [
    "6.10. Calculating the cm³ volume of the order package -> product_height * length * width"
   ]
  },
  {
   "cell_type": "code",
   "execution_count": 110,
   "id": "bd4b1032",
   "metadata": {},
   "outputs": [],
   "source": [
    "df_products[\"cubic_cm\"] = df_products[\"product_length_cm\"] * df_products[\"product_height_cm\"] * df_products[\"product_width_cm\"]"
   ]
  },
  {
   "cell_type": "markdown",
   "id": "75c105aa",
   "metadata": {},
   "source": [
    "6.11. Adding review_label column to the olist_order_reviews_dataset table"
   ]
  },
  {
   "cell_type": "code",
   "execution_count": 111,
   "id": "317433a0",
   "metadata": {},
   "outputs": [],
   "source": [
    "df_order_reviews = df_order_reviews[~df_order_reviews.duplicated()]"
   ]
  },
  {
   "cell_type": "code",
   "execution_count": 112,
   "id": "a3d883ae",
   "metadata": {},
   "outputs": [
    {
     "name": "stdout",
     "output_type": "stream",
     "text": [
      "Number of reviews with score higher than 5: 1585\n"
     ]
    }
   ],
   "source": [
    "print(f\"Number of reviews with score higher than 5: {len(df_order_reviews[df_order_reviews[\"review_score\"]>5])}\")"
   ]
  },
  {
   "cell_type": "markdown",
   "id": "938909b1",
   "metadata": {},
   "source": [
    "Deleting invalid records (where review score exceeds the maximum allowed value of 5)"
   ]
  },
  {
   "cell_type": "code",
   "execution_count": 113,
   "id": "2976bcd0",
   "metadata": {},
   "outputs": [
    {
     "data": {
      "text/plain": [
       "99223"
      ]
     },
     "execution_count": 113,
     "metadata": {},
     "output_type": "execute_result"
    }
   ],
   "source": [
    "df_order_reviews = df_order_reviews[df_order_reviews[\"review_score\"] <= 5]\n",
    "len(df_order_reviews)"
   ]
  },
  {
   "cell_type": "code",
   "execution_count": 114,
   "id": "48af7762",
   "metadata": {},
   "outputs": [
    {
     "data": {
      "application/vnd.microsoft.datawrangler.viewer.v0+json": {
       "columns": [
        {
         "name": "index",
         "rawType": "int64",
         "type": "integer"
        },
        {
         "name": "order_id",
         "rawType": "object",
         "type": "string"
        },
        {
         "name": "review_score",
         "rawType": "float64",
         "type": "float"
        },
        {
         "name": "review_comment_title",
         "rawType": "object",
         "type": "unknown"
        },
        {
         "name": "review_comment_message",
         "rawType": "object",
         "type": "unknown"
        },
        {
         "name": "review_creation_date",
         "rawType": "datetime64[ns]",
         "type": "datetime"
        },
        {
         "name": "review_answer_timestamp",
         "rawType": "datetime64[ns]",
         "type": "datetime"
        },
        {
         "name": "review_label",
         "rawType": "object",
         "type": "string"
        }
       ],
       "ref": "8036677c-536b-4a87-89f4-8b086119d2e3",
       "rows": [
        [
         "0",
         "73fc7af87114b39712e6da79b0a377eb",
         "4.0",
         null,
         null,
         "2018-01-18 00:00:00",
         "2018-01-18 21:46:59",
         "Good"
        ],
        [
         "1",
         "a548910a1c6147796b98fdf73dbeba33",
         "5.0",
         null,
         null,
         "2018-03-10 00:00:00",
         "2018-03-11 03:05:13",
         "Excellent"
        ],
        [
         "2",
         "f9e4b658b201a9f2ecdecbb34bed034b",
         "5.0",
         null,
         null,
         "2018-02-17 00:00:00",
         "2018-02-18 14:36:24",
         "Excellent"
        ],
        [
         "3",
         "658677c97b385a9be170737859d3511b",
         "5.0",
         null,
         "Recebi bem antes do prazo estipulado.",
         "2017-04-21 00:00:00",
         "2017-04-21 22:02:06",
         "Excellent"
        ],
        [
         "4",
         "8e6bfb81e283fa7e4f11123a3fb894f1",
         "5.0",
         null,
         "ParabĂ©ns lojas lannister adorei comprar pela Internet seguro e prĂˇtico ParabĂ©ns a todos feliz PĂˇscoa",
         "2018-03-01 00:00:00",
         "2018-03-02 10:26:53",
         "Excellent"
        ]
       ],
       "shape": {
        "columns": 7,
        "rows": 5
       }
      },
      "text/html": [
       "<div>\n",
       "<style scoped>\n",
       "    .dataframe tbody tr th:only-of-type {\n",
       "        vertical-align: middle;\n",
       "    }\n",
       "\n",
       "    .dataframe tbody tr th {\n",
       "        vertical-align: top;\n",
       "    }\n",
       "\n",
       "    .dataframe thead th {\n",
       "        text-align: right;\n",
       "    }\n",
       "</style>\n",
       "<table border=\"1\" class=\"dataframe\">\n",
       "  <thead>\n",
       "    <tr style=\"text-align: right;\">\n",
       "      <th></th>\n",
       "      <th>order_id</th>\n",
       "      <th>review_score</th>\n",
       "      <th>review_comment_title</th>\n",
       "      <th>review_comment_message</th>\n",
       "      <th>review_creation_date</th>\n",
       "      <th>review_answer_timestamp</th>\n",
       "      <th>review_label</th>\n",
       "    </tr>\n",
       "  </thead>\n",
       "  <tbody>\n",
       "    <tr>\n",
       "      <th>0</th>\n",
       "      <td>73fc7af87114b39712e6da79b0a377eb</td>\n",
       "      <td>4.0</td>\n",
       "      <td>None</td>\n",
       "      <td>None</td>\n",
       "      <td>2018-01-18</td>\n",
       "      <td>2018-01-18 21:46:59</td>\n",
       "      <td>Good</td>\n",
       "    </tr>\n",
       "    <tr>\n",
       "      <th>1</th>\n",
       "      <td>a548910a1c6147796b98fdf73dbeba33</td>\n",
       "      <td>5.0</td>\n",
       "      <td>None</td>\n",
       "      <td>None</td>\n",
       "      <td>2018-03-10</td>\n",
       "      <td>2018-03-11 03:05:13</td>\n",
       "      <td>Excellent</td>\n",
       "    </tr>\n",
       "    <tr>\n",
       "      <th>2</th>\n",
       "      <td>f9e4b658b201a9f2ecdecbb34bed034b</td>\n",
       "      <td>5.0</td>\n",
       "      <td>None</td>\n",
       "      <td>None</td>\n",
       "      <td>2018-02-17</td>\n",
       "      <td>2018-02-18 14:36:24</td>\n",
       "      <td>Excellent</td>\n",
       "    </tr>\n",
       "    <tr>\n",
       "      <th>3</th>\n",
       "      <td>658677c97b385a9be170737859d3511b</td>\n",
       "      <td>5.0</td>\n",
       "      <td>None</td>\n",
       "      <td>Recebi bem antes do prazo estipulado.</td>\n",
       "      <td>2017-04-21</td>\n",
       "      <td>2017-04-21 22:02:06</td>\n",
       "      <td>Excellent</td>\n",
       "    </tr>\n",
       "    <tr>\n",
       "      <th>4</th>\n",
       "      <td>8e6bfb81e283fa7e4f11123a3fb894f1</td>\n",
       "      <td>5.0</td>\n",
       "      <td>None</td>\n",
       "      <td>ParabĂ©ns lojas lannister adorei comprar pela ...</td>\n",
       "      <td>2018-03-01</td>\n",
       "      <td>2018-03-02 10:26:53</td>\n",
       "      <td>Excellent</td>\n",
       "    </tr>\n",
       "  </tbody>\n",
       "</table>\n",
       "</div>"
      ],
      "text/plain": [
       "                           order_id  review_score review_comment_title  \\\n",
       "0  73fc7af87114b39712e6da79b0a377eb           4.0                 None   \n",
       "1  a548910a1c6147796b98fdf73dbeba33           5.0                 None   \n",
       "2  f9e4b658b201a9f2ecdecbb34bed034b           5.0                 None   \n",
       "3  658677c97b385a9be170737859d3511b           5.0                 None   \n",
       "4  8e6bfb81e283fa7e4f11123a3fb894f1           5.0                 None   \n",
       "\n",
       "                              review_comment_message review_creation_date  \\\n",
       "0                                               None           2018-01-18   \n",
       "1                                               None           2018-03-10   \n",
       "2                                               None           2018-02-17   \n",
       "3              Recebi bem antes do prazo estipulado.           2017-04-21   \n",
       "4  ParabĂ©ns lojas lannister adorei comprar pela ...           2018-03-01   \n",
       "\n",
       "  review_answer_timestamp review_label  \n",
       "0     2018-01-18 21:46:59         Good  \n",
       "1     2018-03-11 03:05:13    Excellent  \n",
       "2     2018-02-18 14:36:24    Excellent  \n",
       "3     2017-04-21 22:02:06    Excellent  \n",
       "4     2018-03-02 10:26:53    Excellent  "
      ]
     },
     "execution_count": 114,
     "metadata": {},
     "output_type": "execute_result"
    }
   ],
   "source": [
    "review_labels = {\n",
    "    1: \"Terrible\",\n",
    "    2: \"Bad\",\n",
    "    3: \"Average\",\n",
    "    4: \"Good\",\n",
    "    5: \"Excellent\"\n",
    "}\n",
    "\n",
    "df_order_reviews[\"review_label\"] = df_order_reviews[\"review_score\"].map(review_labels)\n",
    "df_order_reviews.head()"
   ]
  },
  {
   "cell_type": "code",
   "execution_count": 115,
   "id": "7016973c",
   "metadata": {},
   "outputs": [
    {
     "data": {
      "text/plain": [
       "<Axes: title={'center': 'Number of reach score in reviews'}, xlabel='review_label'>"
      ]
     },
     "execution_count": 115,
     "metadata": {},
     "output_type": "execute_result"
    },
    {
     "data": {
      "image/png": "[encoded data removed]",
      "text/plain": [
       "<Figure size 1000x500 with 1 Axes>"
      ]
     },
     "metadata": {},
     "output_type": "display_data"
    }
   ],
   "source": [
    "df_order_reviews[\"review_label\"].value_counts().head().plot.bar(rot = 0, figsize = (10,5), title = \"Number of reach score in reviews\")"
   ]
  },
  {
   "cell_type": "markdown",
   "id": "d87cf36f",
   "metadata": {},
   "source": [
    "6.12. In the 'olist_order_reviews_dataset' table, adding a column that will be populated as promoter/non-promoter based on the value in the review_score column"
   ]
  },
  {
   "cell_type": "code",
   "execution_count": 116,
   "id": "efa3961e",
   "metadata": {},
   "outputs": [
    {
     "data": {
      "application/vnd.microsoft.datawrangler.viewer.v0+json": {
       "columns": [
        {
         "name": "index",
         "rawType": "int64",
         "type": "integer"
        },
        {
         "name": "order_id",
         "rawType": "object",
         "type": "string"
        },
        {
         "name": "review_score",
         "rawType": "float64",
         "type": "float"
        },
        {
         "name": "review_comment_title",
         "rawType": "object",
         "type": "unknown"
        },
        {
         "name": "review_comment_message",
         "rawType": "object",
         "type": "unknown"
        },
        {
         "name": "review_creation_date",
         "rawType": "datetime64[ns]",
         "type": "datetime"
        },
        {
         "name": "review_answer_timestamp",
         "rawType": "datetime64[ns]",
         "type": "datetime"
        },
        {
         "name": "review_label",
         "rawType": "object",
         "type": "string"
        },
        {
         "name": "loyalty_labels",
         "rawType": "object",
         "type": "string"
        }
       ],
       "ref": "8a875daf-5ba7-4824-9610-12e5b8d964f2",
       "rows": [
        [
         "0",
         "73fc7af87114b39712e6da79b0a377eb",
         "4.0",
         null,
         null,
         "2018-01-18 00:00:00",
         "2018-01-18 21:46:59",
         "Good",
         "Promoter"
        ],
        [
         "1",
         "a548910a1c6147796b98fdf73dbeba33",
         "5.0",
         null,
         null,
         "2018-03-10 00:00:00",
         "2018-03-11 03:05:13",
         "Excellent",
         "Promoter"
        ],
        [
         "2",
         "f9e4b658b201a9f2ecdecbb34bed034b",
         "5.0",
         null,
         null,
         "2018-02-17 00:00:00",
         "2018-02-18 14:36:24",
         "Excellent",
         "Promoter"
        ],
        [
         "3",
         "658677c97b385a9be170737859d3511b",
         "5.0",
         null,
         "Recebi bem antes do prazo estipulado.",
         "2017-04-21 00:00:00",
         "2017-04-21 22:02:06",
         "Excellent",
         "Promoter"
        ],
        [
         "4",
         "8e6bfb81e283fa7e4f11123a3fb894f1",
         "5.0",
         null,
         "ParabĂ©ns lojas lannister adorei comprar pela Internet seguro e prĂˇtico ParabĂ©ns a todos feliz PĂˇscoa",
         "2018-03-01 00:00:00",
         "2018-03-02 10:26:53",
         "Excellent",
         "Promoter"
        ]
       ],
       "shape": {
        "columns": 8,
        "rows": 5
       }
      },
      "text/html": [
       "<div>\n",
       "<style scoped>\n",
       "    .dataframe tbody tr th:only-of-type {\n",
       "        vertical-align: middle;\n",
       "    }\n",
       "\n",
       "    .dataframe tbody tr th {\n",
       "        vertical-align: top;\n",
       "    }\n",
       "\n",
       "    .dataframe thead th {\n",
       "        text-align: right;\n",
       "    }\n",
       "</style>\n",
       "<table border=\"1\" class=\"dataframe\">\n",
       "  <thead>\n",
       "    <tr style=\"text-align: right;\">\n",
       "      <th></th>\n",
       "      <th>order_id</th>\n",
       "      <th>review_score</th>\n",
       "      <th>review_comment_title</th>\n",
       "      <th>review_comment_message</th>\n",
       "      <th>review_creation_date</th>\n",
       "      <th>review_answer_timestamp</th>\n",
       "      <th>review_label</th>\n",
       "      <th>loyalty_labels</th>\n",
       "    </tr>\n",
       "  </thead>\n",
       "  <tbody>\n",
       "    <tr>\n",
       "      <th>0</th>\n",
       "      <td>73fc7af87114b39712e6da79b0a377eb</td>\n",
       "      <td>4.0</td>\n",
       "      <td>None</td>\n",
       "      <td>None</td>\n",
       "      <td>2018-01-18</td>\n",
       "      <td>2018-01-18 21:46:59</td>\n",
       "      <td>Good</td>\n",
       "      <td>Promoter</td>\n",
       "    </tr>\n",
       "    <tr>\n",
       "      <th>1</th>\n",
       "      <td>a548910a1c6147796b98fdf73dbeba33</td>\n",
       "      <td>5.0</td>\n",
       "      <td>None</td>\n",
       "      <td>None</td>\n",
       "      <td>2018-03-10</td>\n",
       "      <td>2018-03-11 03:05:13</td>\n",
       "      <td>Excellent</td>\n",
       "      <td>Promoter</td>\n",
       "    </tr>\n",
       "    <tr>\n",
       "      <th>2</th>\n",
       "      <td>f9e4b658b201a9f2ecdecbb34bed034b</td>\n",
       "      <td>5.0</td>\n",
       "      <td>None</td>\n",
       "      <td>None</td>\n",
       "      <td>2018-02-17</td>\n",
       "      <td>2018-02-18 14:36:24</td>\n",
       "      <td>Excellent</td>\n",
       "      <td>Promoter</td>\n",
       "    </tr>\n",
       "    <tr>\n",
       "      <th>3</th>\n",
       "      <td>658677c97b385a9be170737859d3511b</td>\n",
       "      <td>5.0</td>\n",
       "      <td>None</td>\n",
       "      <td>Recebi bem antes do prazo estipulado.</td>\n",
       "      <td>2017-04-21</td>\n",
       "      <td>2017-04-21 22:02:06</td>\n",
       "      <td>Excellent</td>\n",
       "      <td>Promoter</td>\n",
       "    </tr>\n",
       "    <tr>\n",
       "      <th>4</th>\n",
       "      <td>8e6bfb81e283fa7e4f11123a3fb894f1</td>\n",
       "      <td>5.0</td>\n",
       "      <td>None</td>\n",
       "      <td>ParabĂ©ns lojas lannister adorei comprar pela ...</td>\n",
       "      <td>2018-03-01</td>\n",
       "      <td>2018-03-02 10:26:53</td>\n",
       "      <td>Excellent</td>\n",
       "      <td>Promoter</td>\n",
       "    </tr>\n",
       "  </tbody>\n",
       "</table>\n",
       "</div>"
      ],
      "text/plain": [
       "                           order_id  review_score review_comment_title  \\\n",
       "0  73fc7af87114b39712e6da79b0a377eb           4.0                 None   \n",
       "1  a548910a1c6147796b98fdf73dbeba33           5.0                 None   \n",
       "2  f9e4b658b201a9f2ecdecbb34bed034b           5.0                 None   \n",
       "3  658677c97b385a9be170737859d3511b           5.0                 None   \n",
       "4  8e6bfb81e283fa7e4f11123a3fb894f1           5.0                 None   \n",
       "\n",
       "                              review_comment_message review_creation_date  \\\n",
       "0                                               None           2018-01-18   \n",
       "1                                               None           2018-03-10   \n",
       "2                                               None           2018-02-17   \n",
       "3              Recebi bem antes do prazo estipulado.           2017-04-21   \n",
       "4  ParabĂ©ns lojas lannister adorei comprar pela ...           2018-03-01   \n",
       "\n",
       "  review_answer_timestamp review_label loyalty_labels  \n",
       "0     2018-01-18 21:46:59         Good       Promoter  \n",
       "1     2018-03-11 03:05:13    Excellent       Promoter  \n",
       "2     2018-02-18 14:36:24    Excellent       Promoter  \n",
       "3     2017-04-21 22:02:06    Excellent       Promoter  \n",
       "4     2018-03-02 10:26:53    Excellent       Promoter  "
      ]
     },
     "execution_count": 116,
     "metadata": {},
     "output_type": "execute_result"
    }
   ],
   "source": [
    "loyalty_labels = {\n",
    "    1: \"Detractor\",\n",
    "    2: \"Detractor\",\n",
    "    3: \"Passive\",\n",
    "    4: \"Promoter\",\n",
    "    5: \"Promoter\"\n",
    "}\n",
    "\n",
    "df_order_reviews[\"loyalty_labels\"] = df_order_reviews[\"review_score\"].map(loyalty_labels)\n",
    "df_order_reviews.head()"
   ]
  },
  {
   "cell_type": "markdown",
   "id": "56cd0c0c",
   "metadata": {},
   "source": [
    "#### 7. Saving transformed data back to database "
   ]
  },
  {
   "cell_type": "code",
   "execution_count": 117,
   "id": "dbe4e8c5",
   "metadata": {},
   "outputs": [
    {
     "data": {
      "text/plain": [
       "\"\\ndf_customers.to_sql('dbo.customers_transformed', engine)\\ndf_sellers.to_sql('sellers_transformed', engine, index = False)\\nmerged_customers_sellers_geolocation.to_sql('customers_sellers_geolocation', engine, index = False)\\ndf_orders.to_sql('orders_transformed', engine, index = False)\\ndf_order_payments.to_sql('order_payments_transformed', engine, index = False)\\ndf_order_items.to_sql('order_items_transformed', engine, index = False)\\ndf_products.to_sql('products_transformed', engine, index = False)\\ndf_order_reviews.to_sql('order_reviews', engine, index = False)\\n\""
      ]
     },
     "execution_count": 117,
     "metadata": {},
     "output_type": "execute_result"
    }
   ],
   "source": [
    "'''\n",
    "df_customers.to_sql('dbo.customers_transformed', engine)\n",
    "df_sellers.to_sql('sellers_transformed', engine, index = False)\n",
    "merged_customers_sellers_geolocation.to_sql('customers_sellers_geolocation', engine, index = False)\n",
    "df_orders.to_sql('orders_transformed', engine, index = False)\n",
    "df_order_payments.to_sql('order_payments_transformed', engine, index = False)\n",
    "df_order_items.to_sql('order_items_transformed', engine, index = False)\n",
    "df_products.to_sql('products_transformed', engine, index = False)\n",
    "df_order_reviews.to_sql('order_reviews', engine, index = False)\n",
    "'''"
   ]
  }
 ],
 "metadata": {
  "kernelspec": {
   "display_name": "Python 3",
   "language": "python",
   "name": "python3"
  },
  "language_info": {
   "codemirror_mode": {
    "name": "ipython",
    "version": 3
   },
   "file_extension": ".py",
   "mimetype": "text/x-python",
   "name": "python",
   "nbconvert_exporter": "python",
   "pygments_lexer": "ipython3",
   "version": "3.13.7"
  }
 },
 "nbformat": 4,
 "nbformat_minor": 5
}
