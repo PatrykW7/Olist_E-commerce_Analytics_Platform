{
 "cells": [
  {
   "cell_type": "markdown",
   "id": "f9dcbaec",
   "metadata": {},
   "source": [
    "## Import od necessary libraries"
   ]
  },
  {
   "cell_type": "code",
   "execution_count": 4,
   "id": "237ab561",
   "metadata": {},
   "outputs": [],
   "source": [
    "import pyodbc as odbc\n",
    "import pandas as pd\n",
    "import sqlalchemy as sa\n",
    "import matplotlib\n",
    "from geopy import distance"
   ]
  },
  {
   "cell_type": "markdown",
   "id": "2e1b2c13",
   "metadata": {},
   "source": [
    "## Creating connection with SQL Server Database using pyodbbc + SQLAlchemy"
   ]
  },
  {
   "cell_type": "code",
   "execution_count": 5,
   "id": "b896aaeb",
   "metadata": {},
   "outputs": [],
   "source": [
    "DRIVER_NAME = 'SQL SERVER'\n",
    "SERVER_NAME = 'DESKTOP-6DMIBIJ'\n",
    "DATABASE_NAME = 'Olist'\n",
    "\n",
    "connection_string = f\"mssql+pyodbc://@{SERVER_NAME}/{DATABASE_NAME}?driver=ODBC+Driver+17+for+SQL+Server&trusted_connection=yes\"\n",
    "engine = sa.create_engine(connection_string)"
   ]
  },
  {
   "cell_type": "markdown",
   "id": "bdaa1835",
   "metadata": {},
   "source": [
    "## Load Datasets"
   ]
  },
  {
   "cell_type": "markdown",
   "id": "f00013cf",
   "metadata": {},
   "source": [
    "#### Customers table"
   ]
  },
  {
   "cell_type": "code",
   "execution_count": 6,
   "id": "6818056b",
   "metadata": {},
   "outputs": [
    {
     "name": "stdout",
     "output_type": "stream",
     "text": [
      "Shape of df_customers: (99441, 5)\n",
      "\n"
     ]
    },
    {
     "data": {
      "application/vnd.microsoft.datawrangler.viewer.v0+json": {
       "columns": [
        {
         "name": "index",
         "rawType": "int64",
         "type": "integer"
        },
        {
         "name": "customer_id",
         "rawType": "object",
         "type": "string"
        },
        {
         "name": "customer_unique_id",
         "rawType": "object",
         "type": "string"
        },
        {
         "name": "customer_zip_code_prefix",
         "rawType": "int64",
         "type": "integer"
        },
        {
         "name": "customer_city",
         "rawType": "object",
         "type": "unknown"
        },
        {
         "name": "customer_state",
         "rawType": "object",
         "type": "unknown"
        }
       ],
       "ref": "ecfb3fe4-39a5-42e9-b471-757d352b1b9d",
       "rows": [
        [
         "0",
         "00012a2ce6f8dcda20d059ce98491703",
         "248ffe10d632bebe4f7267f1f44844c9",
         "6273",
         "osasco",
         "SP"
        ],
        [
         "1",
         "000161a058600d5901f007fab4c27140",
         "b0015e09bb4b6e47c52844fab5fb6638",
         "35550",
         "itapecerica",
         "MG"
        ],
        [
         "2",
         "0001fd6190edaaf884bcaf3d49edf079",
         "94b11d37cd61cb2994a194d11f89682b",
         "29830",
         null,
         null
        ],
        [
         "3",
         "0002414f95344307404f0ace7a26f1d5",
         "4893ad4ea28b2c5b3ddf4e82e79db9e6",
         "39664",
         "mendonca",
         "MG"
        ],
        [
         "4",
         "000379cdec625522490c315e70c7a9fb",
         "0b83f73b19c2019e182fd552c048a22c",
         "4841",
         null,
         null
        ]
       ],
       "shape": {
        "columns": 5,
        "rows": 5
       }
      },
      "text/html": [
       "<div>\n",
       "<style scoped>\n",
       "    .dataframe tbody tr th:only-of-type {\n",
       "        vertical-align: middle;\n",
       "    }\n",
       "\n",
       "    .dataframe tbody tr th {\n",
       "        vertical-align: top;\n",
       "    }\n",
       "\n",
       "    .dataframe thead th {\n",
       "        text-align: right;\n",
       "    }\n",
       "</style>\n",
       "<table border=\"1\" class=\"dataframe\">\n",
       "  <thead>\n",
       "    <tr style=\"text-align: right;\">\n",
       "      <th></th>\n",
       "      <th>customer_id</th>\n",
       "      <th>customer_unique_id</th>\n",
       "      <th>customer_zip_code_prefix</th>\n",
       "      <th>customer_city</th>\n",
       "      <th>customer_state</th>\n",
       "    </tr>\n",
       "  </thead>\n",
       "  <tbody>\n",
       "    <tr>\n",
       "      <th>0</th>\n",
       "      <td>00012a2ce6f8dcda20d059ce98491703</td>\n",
       "      <td>248ffe10d632bebe4f7267f1f44844c9</td>\n",
       "      <td>6273</td>\n",
       "      <td>osasco</td>\n",
       "      <td>SP</td>\n",
       "    </tr>\n",
       "    <tr>\n",
       "      <th>1</th>\n",
       "      <td>000161a058600d5901f007fab4c27140</td>\n",
       "      <td>b0015e09bb4b6e47c52844fab5fb6638</td>\n",
       "      <td>35550</td>\n",
       "      <td>itapecerica</td>\n",
       "      <td>MG</td>\n",
       "    </tr>\n",
       "    <tr>\n",
       "      <th>2</th>\n",
       "      <td>0001fd6190edaaf884bcaf3d49edf079</td>\n",
       "      <td>94b11d37cd61cb2994a194d11f89682b</td>\n",
       "      <td>29830</td>\n",
       "      <td>None</td>\n",
       "      <td>None</td>\n",
       "    </tr>\n",
       "    <tr>\n",
       "      <th>3</th>\n",
       "      <td>0002414f95344307404f0ace7a26f1d5</td>\n",
       "      <td>4893ad4ea28b2c5b3ddf4e82e79db9e6</td>\n",
       "      <td>39664</td>\n",
       "      <td>mendonca</td>\n",
       "      <td>MG</td>\n",
       "    </tr>\n",
       "    <tr>\n",
       "      <th>4</th>\n",
       "      <td>000379cdec625522490c315e70c7a9fb</td>\n",
       "      <td>0b83f73b19c2019e182fd552c048a22c</td>\n",
       "      <td>4841</td>\n",
       "      <td>None</td>\n",
       "      <td>None</td>\n",
       "    </tr>\n",
       "  </tbody>\n",
       "</table>\n",
       "</div>"
      ],
      "text/plain": [
       "                        customer_id                customer_unique_id  \\\n",
       "0  00012a2ce6f8dcda20d059ce98491703  248ffe10d632bebe4f7267f1f44844c9   \n",
       "1  000161a058600d5901f007fab4c27140  b0015e09bb4b6e47c52844fab5fb6638   \n",
       "2  0001fd6190edaaf884bcaf3d49edf079  94b11d37cd61cb2994a194d11f89682b   \n",
       "3  0002414f95344307404f0ace7a26f1d5  4893ad4ea28b2c5b3ddf4e82e79db9e6   \n",
       "4  000379cdec625522490c315e70c7a9fb  0b83f73b19c2019e182fd552c048a22c   \n",
       "\n",
       "   customer_zip_code_prefix customer_city customer_state  \n",
       "0                      6273        osasco             SP  \n",
       "1                     35550   itapecerica             MG  \n",
       "2                     29830          None           None  \n",
       "3                     39664      mendonca             MG  \n",
       "4                      4841          None           None  "
      ]
     },
     "execution_count": 6,
     "metadata": {},
     "output_type": "execute_result"
    }
   ],
   "source": [
    "df_customers = pd.read_sql('SELECT* FROM dbo.customers', engine)\n",
    "print(f\"Shape of df_customers: {df_customers.shape}\\n\")\n",
    "df_customers.head()"
   ]
  },
  {
   "cell_type": "markdown",
   "id": "11b35366",
   "metadata": {},
   "source": [
    "#### Geolocation table"
   ]
  },
  {
   "cell_type": "code",
   "execution_count": 7,
   "id": "0cfad09b",
   "metadata": {},
   "outputs": [
    {
     "name": "stdout",
     "output_type": "stream",
     "text": [
      "Shape of df_geolocation: (1000163, 5)\n",
      "\n"
     ]
    },
    {
     "data": {
      "application/vnd.microsoft.datawrangler.viewer.v0+json": {
       "columns": [
        {
         "name": "index",
         "rawType": "int64",
         "type": "integer"
        },
        {
         "name": "geolocation_zip_code_prefix",
         "rawType": "int64",
         "type": "integer"
        },
        {
         "name": "geolocation_lat",
         "rawType": "float64",
         "type": "float"
        },
        {
         "name": "geolocation_lng",
         "rawType": "float64",
         "type": "float"
        },
        {
         "name": "geolocation_city",
         "rawType": "object",
         "type": "string"
        },
        {
         "name": "geolocation_state",
         "rawType": "object",
         "type": "string"
        }
       ],
       "ref": "e8236be4-5f9b-4b23-9651-18ecde13334a",
       "rows": [
        [
         "0",
         "1037",
         "-23.54562128115268",
         "-46.63929204800168",
         "sao paulo",
         "SP"
        ],
        [
         "1",
         "1046",
         "-23.546081127035535",
         "-46.64482029837157",
         "sao paulo",
         "SP"
        ],
        [
         "2",
         "1046",
         "-23.54612896641469",
         "-46.64295148361138",
         "sao paulo",
         "SP"
        ],
        [
         "3",
         "1041",
         "-23.5443921648681",
         "-46.63949930627844",
         "sao paulo",
         "SP"
        ],
        [
         "4",
         "1035",
         "-23.541577961711493",
         "-46.64160722329613",
         "sao paulo",
         "SP"
        ]
       ],
       "shape": {
        "columns": 5,
        "rows": 5
       }
      },
      "text/html": [
       "<div>\n",
       "<style scoped>\n",
       "    .dataframe tbody tr th:only-of-type {\n",
       "        vertical-align: middle;\n",
       "    }\n",
       "\n",
       "    .dataframe tbody tr th {\n",
       "        vertical-align: top;\n",
       "    }\n",
       "\n",
       "    .dataframe thead th {\n",
       "        text-align: right;\n",
       "    }\n",
       "</style>\n",
       "<table border=\"1\" class=\"dataframe\">\n",
       "  <thead>\n",
       "    <tr style=\"text-align: right;\">\n",
       "      <th></th>\n",
       "      <th>geolocation_zip_code_prefix</th>\n",
       "      <th>geolocation_lat</th>\n",
       "      <th>geolocation_lng</th>\n",
       "      <th>geolocation_city</th>\n",
       "      <th>geolocation_state</th>\n",
       "    </tr>\n",
       "  </thead>\n",
       "  <tbody>\n",
       "    <tr>\n",
       "      <th>0</th>\n",
       "      <td>1037</td>\n",
       "      <td>-23.545621</td>\n",
       "      <td>-46.639292</td>\n",
       "      <td>sao paulo</td>\n",
       "      <td>SP</td>\n",
       "    </tr>\n",
       "    <tr>\n",
       "      <th>1</th>\n",
       "      <td>1046</td>\n",
       "      <td>-23.546081</td>\n",
       "      <td>-46.644820</td>\n",
       "      <td>sao paulo</td>\n",
       "      <td>SP</td>\n",
       "    </tr>\n",
       "    <tr>\n",
       "      <th>2</th>\n",
       "      <td>1046</td>\n",
       "      <td>-23.546129</td>\n",
       "      <td>-46.642951</td>\n",
       "      <td>sao paulo</td>\n",
       "      <td>SP</td>\n",
       "    </tr>\n",
       "    <tr>\n",
       "      <th>3</th>\n",
       "      <td>1041</td>\n",
       "      <td>-23.544392</td>\n",
       "      <td>-46.639499</td>\n",
       "      <td>sao paulo</td>\n",
       "      <td>SP</td>\n",
       "    </tr>\n",
       "    <tr>\n",
       "      <th>4</th>\n",
       "      <td>1035</td>\n",
       "      <td>-23.541578</td>\n",
       "      <td>-46.641607</td>\n",
       "      <td>sao paulo</td>\n",
       "      <td>SP</td>\n",
       "    </tr>\n",
       "  </tbody>\n",
       "</table>\n",
       "</div>"
      ],
      "text/plain": [
       "   geolocation_zip_code_prefix  geolocation_lat  geolocation_lng  \\\n",
       "0                         1037       -23.545621       -46.639292   \n",
       "1                         1046       -23.546081       -46.644820   \n",
       "2                         1046       -23.546129       -46.642951   \n",
       "3                         1041       -23.544392       -46.639499   \n",
       "4                         1035       -23.541578       -46.641607   \n",
       "\n",
       "  geolocation_city geolocation_state  \n",
       "0        sao paulo                SP  \n",
       "1        sao paulo                SP  \n",
       "2        sao paulo                SP  \n",
       "3        sao paulo                SP  \n",
       "4        sao paulo                SP  "
      ]
     },
     "execution_count": 7,
     "metadata": {},
     "output_type": "execute_result"
    }
   ],
   "source": [
    "df_geolocation = pd.read_sql('SELECT * FROM dbo.geolocation', engine)\n",
    "print(f\"Shape of df_geolocation: {df_geolocation.shape}\\n\")\n",
    "df_geolocation.head()"
   ]
  },
  {
   "cell_type": "markdown",
   "id": "39383b9f",
   "metadata": {},
   "source": [
    "#### Sellers table"
   ]
  },
  {
   "cell_type": "code",
   "execution_count": 8,
   "id": "5e6d6a8b",
   "metadata": {},
   "outputs": [
    {
     "name": "stdout",
     "output_type": "stream",
     "text": [
      "Shape of df_sellers: (3095, 4)\n",
      "\n"
     ]
    },
    {
     "data": {
      "application/vnd.microsoft.datawrangler.viewer.v0+json": {
       "columns": [
        {
         "name": "index",
         "rawType": "int64",
         "type": "integer"
        },
        {
         "name": "seller_id",
         "rawType": "object",
         "type": "string"
        },
        {
         "name": "seller_zip_code_prefix",
         "rawType": "int64",
         "type": "integer"
        },
        {
         "name": "seller_city",
         "rawType": "object",
         "type": "unknown"
        },
        {
         "name": "seller_state",
         "rawType": "object",
         "type": "string"
        }
       ],
       "ref": "4cff482a-702c-4a0f-93fe-9ee5e8b1cc97",
       "rows": [
        [
         "0",
         "0015a82c2db000af6aaaf3ae2ecb0532",
         "9080",
         "santo andre",
         "SP"
        ],
        [
         "1",
         "001cca7ae9ae17fb1caed9dfb1094831",
         "29156",
         "cariacica",
         "ES"
        ],
        [
         "2",
         "001e6ad469a905060d959994f1b41e4f",
         "24754",
         "sao goncalo",
         "RJ"
        ],
        [
         "3",
         "002100f778ceb8431b7a1020ff7ab48f",
         "14405",
         null,
         "SP"
        ],
        [
         "4",
         "003554e2dce176b5555353e4f3555ac8",
         "74565",
         "goiania",
         "GO"
        ]
       ],
       "shape": {
        "columns": 4,
        "rows": 5
       }
      },
      "text/html": [
       "<div>\n",
       "<style scoped>\n",
       "    .dataframe tbody tr th:only-of-type {\n",
       "        vertical-align: middle;\n",
       "    }\n",
       "\n",
       "    .dataframe tbody tr th {\n",
       "        vertical-align: top;\n",
       "    }\n",
       "\n",
       "    .dataframe thead th {\n",
       "        text-align: right;\n",
       "    }\n",
       "</style>\n",
       "<table border=\"1\" class=\"dataframe\">\n",
       "  <thead>\n",
       "    <tr style=\"text-align: right;\">\n",
       "      <th></th>\n",
       "      <th>seller_id</th>\n",
       "      <th>seller_zip_code_prefix</th>\n",
       "      <th>seller_city</th>\n",
       "      <th>seller_state</th>\n",
       "    </tr>\n",
       "  </thead>\n",
       "  <tbody>\n",
       "    <tr>\n",
       "      <th>0</th>\n",
       "      <td>0015a82c2db000af6aaaf3ae2ecb0532</td>\n",
       "      <td>9080</td>\n",
       "      <td>santo andre</td>\n",
       "      <td>SP</td>\n",
       "    </tr>\n",
       "    <tr>\n",
       "      <th>1</th>\n",
       "      <td>001cca7ae9ae17fb1caed9dfb1094831</td>\n",
       "      <td>29156</td>\n",
       "      <td>cariacica</td>\n",
       "      <td>ES</td>\n",
       "    </tr>\n",
       "    <tr>\n",
       "      <th>2</th>\n",
       "      <td>001e6ad469a905060d959994f1b41e4f</td>\n",
       "      <td>24754</td>\n",
       "      <td>sao goncalo</td>\n",
       "      <td>RJ</td>\n",
       "    </tr>\n",
       "    <tr>\n",
       "      <th>3</th>\n",
       "      <td>002100f778ceb8431b7a1020ff7ab48f</td>\n",
       "      <td>14405</td>\n",
       "      <td>None</td>\n",
       "      <td>SP</td>\n",
       "    </tr>\n",
       "    <tr>\n",
       "      <th>4</th>\n",
       "      <td>003554e2dce176b5555353e4f3555ac8</td>\n",
       "      <td>74565</td>\n",
       "      <td>goiania</td>\n",
       "      <td>GO</td>\n",
       "    </tr>\n",
       "  </tbody>\n",
       "</table>\n",
       "</div>"
      ],
      "text/plain": [
       "                          seller_id  seller_zip_code_prefix  seller_city  \\\n",
       "0  0015a82c2db000af6aaaf3ae2ecb0532                    9080  santo andre   \n",
       "1  001cca7ae9ae17fb1caed9dfb1094831                   29156    cariacica   \n",
       "2  001e6ad469a905060d959994f1b41e4f                   24754  sao goncalo   \n",
       "3  002100f778ceb8431b7a1020ff7ab48f                   14405         None   \n",
       "4  003554e2dce176b5555353e4f3555ac8                   74565      goiania   \n",
       "\n",
       "  seller_state  \n",
       "0           SP  \n",
       "1           ES  \n",
       "2           RJ  \n",
       "3           SP  \n",
       "4           GO  "
      ]
     },
     "execution_count": 8,
     "metadata": {},
     "output_type": "execute_result"
    }
   ],
   "source": [
    "df_sellers = pd.read_sql('SELECT * FROM dbo.sellers', engine)\n",
    "print(f\"Shape of df_sellers: {df_sellers.shape}\\n\")\n",
    "df_sellers.head()"
   ]
  },
  {
   "cell_type": "markdown",
   "id": "773d1ac7",
   "metadata": {},
   "source": [
    "#### Orders table"
   ]
  },
  {
   "cell_type": "code",
   "execution_count": 9,
   "id": "a3d13801",
   "metadata": {},
   "outputs": [
    {
     "name": "stdout",
     "output_type": "stream",
     "text": [
      "Shape of df_orders: (99441, 8)\n",
      "\n"
     ]
    },
    {
     "data": {
      "application/vnd.microsoft.datawrangler.viewer.v0+json": {
       "columns": [
        {
         "name": "index",
         "rawType": "int64",
         "type": "integer"
        },
        {
         "name": "order_id",
         "rawType": "object",
         "type": "string"
        },
        {
         "name": "customer_id",
         "rawType": "object",
         "type": "string"
        },
        {
         "name": "order_status",
         "rawType": "object",
         "type": "string"
        },
        {
         "name": "order_purchase_timestamp",
         "rawType": "datetime64[ns]",
         "type": "datetime"
        },
        {
         "name": "order_approved_at",
         "rawType": "datetime64[ns]",
         "type": "datetime"
        },
        {
         "name": "order_delivered_carrier_date",
         "rawType": "datetime64[ns]",
         "type": "datetime"
        },
        {
         "name": "order_delivered_customer_date",
         "rawType": "datetime64[ns]",
         "type": "datetime"
        },
        {
         "name": "order_estimated_delivery_date",
         "rawType": "datetime64[ns]",
         "type": "datetime"
        }
       ],
       "ref": "379ad2ea-1a68-4ef0-b4cf-6b6d24847ab7",
       "rows": [
        [
         "0",
         "00010242fe8c5a6d1ba2dd792cb16214",
         "3ce436f183e68e07877b285a838db11a",
         "delivered",
         "2017-09-13 08:59:02",
         "2017-09-13 09:45:35",
         "2017-09-19 18:34:16",
         "2017-09-20 23:43:48",
         "2017-09-29 00:00:00"
        ],
        [
         "1",
         "00018f77f2f0320c557190d7a144bdd3",
         "f6dd3ec061db4e3987629fe6b26e5cce",
         "delivered",
         "2017-04-26 10:53:06",
         "2017-04-26 11:05:13",
         "2017-05-04 14:35:00",
         "2017-05-12 16:04:24",
         "2017-05-15 00:00:00"
        ],
        [
         "2",
         "000229ec398224ef6ca0657da4fc703e",
         "6489ae5e4333f3693df5ad4372dab6d3",
         "delivered",
         "2018-01-14 14:33:31",
         "2018-01-14 14:48:30",
         "2018-01-16 12:36:48",
         "2018-01-22 13:19:16",
         "2018-02-05 00:00:00"
        ],
        [
         "3",
         "00024acbcdf0a6daa1e931b038114c75",
         "d4eb9395c8c0431ee92fce09860c5a06",
         "delivered",
         "2018-08-08 10:00:35",
         "2018-08-08 10:10:18",
         "2018-08-10 13:28:00",
         "2018-08-14 13:32:39",
         "2018-08-20 00:00:00"
        ],
        [
         "4",
         "00042b26cf59d7ce69dfabb4e55b4fd9",
         "58dbd0b2d70206bf40e62cd34e84d795",
         "delivered",
         "2017-02-04 13:57:51",
         "2017-02-04 14:10:13",
         "2017-02-16 09:46:09",
         "2017-03-01 16:42:31",
         "2017-03-17 00:00:00"
        ]
       ],
       "shape": {
        "columns": 8,
        "rows": 5
       }
      },
      "text/html": [
       "<div>\n",
       "<style scoped>\n",
       "    .dataframe tbody tr th:only-of-type {\n",
       "        vertical-align: middle;\n",
       "    }\n",
       "\n",
       "    .dataframe tbody tr th {\n",
       "        vertical-align: top;\n",
       "    }\n",
       "\n",
       "    .dataframe thead th {\n",
       "        text-align: right;\n",
       "    }\n",
       "</style>\n",
       "<table border=\"1\" class=\"dataframe\">\n",
       "  <thead>\n",
       "    <tr style=\"text-align: right;\">\n",
       "      <th></th>\n",
       "      <th>order_id</th>\n",
       "      <th>customer_id</th>\n",
       "      <th>order_status</th>\n",
       "      <th>order_purchase_timestamp</th>\n",
       "      <th>order_approved_at</th>\n",
       "      <th>order_delivered_carrier_date</th>\n",
       "      <th>order_delivered_customer_date</th>\n",
       "      <th>order_estimated_delivery_date</th>\n",
       "    </tr>\n",
       "  </thead>\n",
       "  <tbody>\n",
       "    <tr>\n",
       "      <th>0</th>\n",
       "      <td>00010242fe8c5a6d1ba2dd792cb16214</td>\n",
       "      <td>3ce436f183e68e07877b285a838db11a</td>\n",
       "      <td>delivered</td>\n",
       "      <td>2017-09-13 08:59:02</td>\n",
       "      <td>2017-09-13 09:45:35</td>\n",
       "      <td>2017-09-19 18:34:16</td>\n",
       "      <td>2017-09-20 23:43:48</td>\n",
       "      <td>2017-09-29</td>\n",
       "    </tr>\n",
       "    <tr>\n",
       "      <th>1</th>\n",
       "      <td>00018f77f2f0320c557190d7a144bdd3</td>\n",
       "      <td>f6dd3ec061db4e3987629fe6b26e5cce</td>\n",
       "      <td>delivered</td>\n",
       "      <td>2017-04-26 10:53:06</td>\n",
       "      <td>2017-04-26 11:05:13</td>\n",
       "      <td>2017-05-04 14:35:00</td>\n",
       "      <td>2017-05-12 16:04:24</td>\n",
       "      <td>2017-05-15</td>\n",
       "    </tr>\n",
       "    <tr>\n",
       "      <th>2</th>\n",
       "      <td>000229ec398224ef6ca0657da4fc703e</td>\n",
       "      <td>6489ae5e4333f3693df5ad4372dab6d3</td>\n",
       "      <td>delivered</td>\n",
       "      <td>2018-01-14 14:33:31</td>\n",
       "      <td>2018-01-14 14:48:30</td>\n",
       "      <td>2018-01-16 12:36:48</td>\n",
       "      <td>2018-01-22 13:19:16</td>\n",
       "      <td>2018-02-05</td>\n",
       "    </tr>\n",
       "    <tr>\n",
       "      <th>3</th>\n",
       "      <td>00024acbcdf0a6daa1e931b038114c75</td>\n",
       "      <td>d4eb9395c8c0431ee92fce09860c5a06</td>\n",
       "      <td>delivered</td>\n",
       "      <td>2018-08-08 10:00:35</td>\n",
       "      <td>2018-08-08 10:10:18</td>\n",
       "      <td>2018-08-10 13:28:00</td>\n",
       "      <td>2018-08-14 13:32:39</td>\n",
       "      <td>2018-08-20</td>\n",
       "    </tr>\n",
       "    <tr>\n",
       "      <th>4</th>\n",
       "      <td>00042b26cf59d7ce69dfabb4e55b4fd9</td>\n",
       "      <td>58dbd0b2d70206bf40e62cd34e84d795</td>\n",
       "      <td>delivered</td>\n",
       "      <td>2017-02-04 13:57:51</td>\n",
       "      <td>2017-02-04 14:10:13</td>\n",
       "      <td>2017-02-16 09:46:09</td>\n",
       "      <td>2017-03-01 16:42:31</td>\n",
       "      <td>2017-03-17</td>\n",
       "    </tr>\n",
       "  </tbody>\n",
       "</table>\n",
       "</div>"
      ],
      "text/plain": [
       "                           order_id                       customer_id  \\\n",
       "0  00010242fe8c5a6d1ba2dd792cb16214  3ce436f183e68e07877b285a838db11a   \n",
       "1  00018f77f2f0320c557190d7a144bdd3  f6dd3ec061db4e3987629fe6b26e5cce   \n",
       "2  000229ec398224ef6ca0657da4fc703e  6489ae5e4333f3693df5ad4372dab6d3   \n",
       "3  00024acbcdf0a6daa1e931b038114c75  d4eb9395c8c0431ee92fce09860c5a06   \n",
       "4  00042b26cf59d7ce69dfabb4e55b4fd9  58dbd0b2d70206bf40e62cd34e84d795   \n",
       "\n",
       "  order_status order_purchase_timestamp   order_approved_at  \\\n",
       "0    delivered      2017-09-13 08:59:02 2017-09-13 09:45:35   \n",
       "1    delivered      2017-04-26 10:53:06 2017-04-26 11:05:13   \n",
       "2    delivered      2018-01-14 14:33:31 2018-01-14 14:48:30   \n",
       "3    delivered      2018-08-08 10:00:35 2018-08-08 10:10:18   \n",
       "4    delivered      2017-02-04 13:57:51 2017-02-04 14:10:13   \n",
       "\n",
       "  order_delivered_carrier_date order_delivered_customer_date  \\\n",
       "0          2017-09-19 18:34:16           2017-09-20 23:43:48   \n",
       "1          2017-05-04 14:35:00           2017-05-12 16:04:24   \n",
       "2          2018-01-16 12:36:48           2018-01-22 13:19:16   \n",
       "3          2018-08-10 13:28:00           2018-08-14 13:32:39   \n",
       "4          2017-02-16 09:46:09           2017-03-01 16:42:31   \n",
       "\n",
       "  order_estimated_delivery_date  \n",
       "0                    2017-09-29  \n",
       "1                    2017-05-15  \n",
       "2                    2018-02-05  \n",
       "3                    2018-08-20  \n",
       "4                    2017-03-17  "
      ]
     },
     "execution_count": 9,
     "metadata": {},
     "output_type": "execute_result"
    }
   ],
   "source": [
    "df_orders = pd.read_sql('SELECT * FROM dbo.orders', engine)\n",
    "print(f\"Shape of df_orders: {df_orders.shape}\\n\")\n",
    "df_orders.head()"
   ]
  },
  {
   "cell_type": "markdown",
   "id": "fbcf6979",
   "metadata": {},
   "source": [
    "#### Order payments table"
   ]
  },
  {
   "cell_type": "code",
   "execution_count": 10,
   "id": "270d5fae",
   "metadata": {},
   "outputs": [
    {
     "name": "stdout",
     "output_type": "stream",
     "text": [
      "Shape of df_order_payments: (103886, 5)\n",
      "\n"
     ]
    },
    {
     "data": {
      "application/vnd.microsoft.datawrangler.viewer.v0+json": {
       "columns": [
        {
         "name": "index",
         "rawType": "int64",
         "type": "integer"
        },
        {
         "name": "order_id",
         "rawType": "object",
         "type": "string"
        },
        {
         "name": "payment_sequential",
         "rawType": "int64",
         "type": "integer"
        },
        {
         "name": "payment_type",
         "rawType": "object",
         "type": "string"
        },
        {
         "name": "payment_installments",
         "rawType": "int64",
         "type": "integer"
        },
        {
         "name": "payment_value",
         "rawType": "float64",
         "type": "float"
        }
       ],
       "ref": "96165135-3d1d-4a02-af4a-76e33305cd73",
       "rows": [
        [
         "0",
         "b81ef226f3fe1789b1e8b2acac839d17",
         "1",
         "credit_card",
         "8",
         "99.33"
        ],
        [
         "1",
         "a9810da82917af2d9aefd1278f1dcfa0",
         "1",
         "credit_card",
         "1",
         "24.39"
        ],
        [
         "2",
         "25e8ea4e93396b6fa0d3dd708e76c1bd",
         "1",
         "credit_card",
         "1",
         "65.71"
        ],
        [
         "3",
         "ba78997921bbcdc1373bb41e913ab953",
         "1",
         "credit_card",
         "8",
         null
        ],
        [
         "4",
         "42fdf880ba16b47b59251dd489d4441a",
         "1",
         "credit_card",
         "2",
         null
        ]
       ],
       "shape": {
        "columns": 5,
        "rows": 5
       }
      },
      "text/html": [
       "<div>\n",
       "<style scoped>\n",
       "    .dataframe tbody tr th:only-of-type {\n",
       "        vertical-align: middle;\n",
       "    }\n",
       "\n",
       "    .dataframe tbody tr th {\n",
       "        vertical-align: top;\n",
       "    }\n",
       "\n",
       "    .dataframe thead th {\n",
       "        text-align: right;\n",
       "    }\n",
       "</style>\n",
       "<table border=\"1\" class=\"dataframe\">\n",
       "  <thead>\n",
       "    <tr style=\"text-align: right;\">\n",
       "      <th></th>\n",
       "      <th>order_id</th>\n",
       "      <th>payment_sequential</th>\n",
       "      <th>payment_type</th>\n",
       "      <th>payment_installments</th>\n",
       "      <th>payment_value</th>\n",
       "    </tr>\n",
       "  </thead>\n",
       "  <tbody>\n",
       "    <tr>\n",
       "      <th>0</th>\n",
       "      <td>b81ef226f3fe1789b1e8b2acac839d17</td>\n",
       "      <td>1</td>\n",
       "      <td>credit_card</td>\n",
       "      <td>8</td>\n",
       "      <td>99.33</td>\n",
       "    </tr>\n",
       "    <tr>\n",
       "      <th>1</th>\n",
       "      <td>a9810da82917af2d9aefd1278f1dcfa0</td>\n",
       "      <td>1</td>\n",
       "      <td>credit_card</td>\n",
       "      <td>1</td>\n",
       "      <td>24.39</td>\n",
       "    </tr>\n",
       "    <tr>\n",
       "      <th>2</th>\n",
       "      <td>25e8ea4e93396b6fa0d3dd708e76c1bd</td>\n",
       "      <td>1</td>\n",
       "      <td>credit_card</td>\n",
       "      <td>1</td>\n",
       "      <td>65.71</td>\n",
       "    </tr>\n",
       "    <tr>\n",
       "      <th>3</th>\n",
       "      <td>ba78997921bbcdc1373bb41e913ab953</td>\n",
       "      <td>1</td>\n",
       "      <td>credit_card</td>\n",
       "      <td>8</td>\n",
       "      <td>NaN</td>\n",
       "    </tr>\n",
       "    <tr>\n",
       "      <th>4</th>\n",
       "      <td>42fdf880ba16b47b59251dd489d4441a</td>\n",
       "      <td>1</td>\n",
       "      <td>credit_card</td>\n",
       "      <td>2</td>\n",
       "      <td>NaN</td>\n",
       "    </tr>\n",
       "  </tbody>\n",
       "</table>\n",
       "</div>"
      ],
      "text/plain": [
       "                           order_id  payment_sequential payment_type  \\\n",
       "0  b81ef226f3fe1789b1e8b2acac839d17                   1  credit_card   \n",
       "1  a9810da82917af2d9aefd1278f1dcfa0                   1  credit_card   \n",
       "2  25e8ea4e93396b6fa0d3dd708e76c1bd                   1  credit_card   \n",
       "3  ba78997921bbcdc1373bb41e913ab953                   1  credit_card   \n",
       "4  42fdf880ba16b47b59251dd489d4441a                   1  credit_card   \n",
       "\n",
       "   payment_installments  payment_value  \n",
       "0                     8          99.33  \n",
       "1                     1          24.39  \n",
       "2                     1          65.71  \n",
       "3                     8            NaN  \n",
       "4                     2            NaN  "
      ]
     },
     "execution_count": 10,
     "metadata": {},
     "output_type": "execute_result"
    }
   ],
   "source": [
    "df_order_payments = pd.read_sql('SELECT * FROM dbo.order_payments', engine)\n",
    "print(f\"Shape of df_order_payments: {df_order_payments.shape}\\n\")\n",
    "df_order_payments.head()"
   ]
  },
  {
   "cell_type": "markdown",
   "id": "0d000da6",
   "metadata": {},
   "source": [
    "#### Order items table"
   ]
  },
  {
   "cell_type": "code",
   "execution_count": 11,
   "id": "25a6a6cd",
   "metadata": {},
   "outputs": [
    {
     "name": "stdout",
     "output_type": "stream",
     "text": [
      "Shape of df_order_items: (112650, 7)\n",
      "\n"
     ]
    },
    {
     "data": {
      "application/vnd.microsoft.datawrangler.viewer.v0+json": {
       "columns": [
        {
         "name": "index",
         "rawType": "int64",
         "type": "integer"
        },
        {
         "name": "order_id",
         "rawType": "object",
         "type": "string"
        },
        {
         "name": "order_item_id",
         "rawType": "int64",
         "type": "integer"
        },
        {
         "name": "product_id",
         "rawType": "object",
         "type": "string"
        },
        {
         "name": "seller_id",
         "rawType": "object",
         "type": "string"
        },
        {
         "name": "shipping_limit_date",
         "rawType": "datetime64[ns]",
         "type": "datetime"
        },
        {
         "name": "price",
         "rawType": "float64",
         "type": "float"
        },
        {
         "name": "freight_value",
         "rawType": "float64",
         "type": "float"
        }
       ],
       "ref": "fec89444-c944-45fd-9106-2fb9fd95620a",
       "rows": [
        [
         "0",
         "00010242fe8c5a6d1ba2dd792cb16214",
         "1",
         "4244733e06e7ecb4970a6e2683c13e61",
         "48436dade18ac8b2bce089ec2a041202",
         "2017-09-19 09:45:35",
         "58.9",
         "13.29"
        ],
        [
         "1",
         "00018f77f2f0320c557190d7a144bdd3",
         "1",
         "e5f2d52b802189ee658865ca93d83a8f",
         "dd7ddc04e1b6c2c614352b383efe2d36",
         "2017-05-03 11:05:13",
         "239.9",
         "19.93"
        ],
        [
         "2",
         "000229ec398224ef6ca0657da4fc703e",
         "1",
         "c777355d18b72b67abbeef9df44fd0fd",
         "5b51032eddd242adc84c38acab88f23d",
         "2018-01-18 14:48:30",
         "199.0",
         "17.87"
        ],
        [
         "3",
         "00024acbcdf0a6daa1e931b038114c75",
         "1",
         "7634da152a4610f1595efa32f14722fc",
         "9d7a1d34a5052409006425275ba1c2b4",
         "2018-08-15 10:10:18",
         "12.99",
         "12.79"
        ],
        [
         "4",
         "00042b26cf59d7ce69dfabb4e55b4fd9",
         "1",
         "ac6c3623068f30de03045865e4e10089",
         "df560393f3a51e74553ab94004ba5c87",
         "2017-02-13 13:57:51",
         "199.9",
         "18.14"
        ]
       ],
       "shape": {
        "columns": 7,
        "rows": 5
       }
      },
      "text/html": [
       "<div>\n",
       "<style scoped>\n",
       "    .dataframe tbody tr th:only-of-type {\n",
       "        vertical-align: middle;\n",
       "    }\n",
       "\n",
       "    .dataframe tbody tr th {\n",
       "        vertical-align: top;\n",
       "    }\n",
       "\n",
       "    .dataframe thead th {\n",
       "        text-align: right;\n",
       "    }\n",
       "</style>\n",
       "<table border=\"1\" class=\"dataframe\">\n",
       "  <thead>\n",
       "    <tr style=\"text-align: right;\">\n",
       "      <th></th>\n",
       "      <th>order_id</th>\n",
       "      <th>order_item_id</th>\n",
       "      <th>product_id</th>\n",
       "      <th>seller_id</th>\n",
       "      <th>shipping_limit_date</th>\n",
       "      <th>price</th>\n",
       "      <th>freight_value</th>\n",
       "    </tr>\n",
       "  </thead>\n",
       "  <tbody>\n",
       "    <tr>\n",
       "      <th>0</th>\n",
       "      <td>00010242fe8c5a6d1ba2dd792cb16214</td>\n",
       "      <td>1</td>\n",
       "      <td>4244733e06e7ecb4970a6e2683c13e61</td>\n",
       "      <td>48436dade18ac8b2bce089ec2a041202</td>\n",
       "      <td>2017-09-19 09:45:35</td>\n",
       "      <td>58.90</td>\n",
       "      <td>13.29</td>\n",
       "    </tr>\n",
       "    <tr>\n",
       "      <th>1</th>\n",
       "      <td>00018f77f2f0320c557190d7a144bdd3</td>\n",
       "      <td>1</td>\n",
       "      <td>e5f2d52b802189ee658865ca93d83a8f</td>\n",
       "      <td>dd7ddc04e1b6c2c614352b383efe2d36</td>\n",
       "      <td>2017-05-03 11:05:13</td>\n",
       "      <td>239.90</td>\n",
       "      <td>19.93</td>\n",
       "    </tr>\n",
       "    <tr>\n",
       "      <th>2</th>\n",
       "      <td>000229ec398224ef6ca0657da4fc703e</td>\n",
       "      <td>1</td>\n",
       "      <td>c777355d18b72b67abbeef9df44fd0fd</td>\n",
       "      <td>5b51032eddd242adc84c38acab88f23d</td>\n",
       "      <td>2018-01-18 14:48:30</td>\n",
       "      <td>199.00</td>\n",
       "      <td>17.87</td>\n",
       "    </tr>\n",
       "    <tr>\n",
       "      <th>3</th>\n",
       "      <td>00024acbcdf0a6daa1e931b038114c75</td>\n",
       "      <td>1</td>\n",
       "      <td>7634da152a4610f1595efa32f14722fc</td>\n",
       "      <td>9d7a1d34a5052409006425275ba1c2b4</td>\n",
       "      <td>2018-08-15 10:10:18</td>\n",
       "      <td>12.99</td>\n",
       "      <td>12.79</td>\n",
       "    </tr>\n",
       "    <tr>\n",
       "      <th>4</th>\n",
       "      <td>00042b26cf59d7ce69dfabb4e55b4fd9</td>\n",
       "      <td>1</td>\n",
       "      <td>ac6c3623068f30de03045865e4e10089</td>\n",
       "      <td>df560393f3a51e74553ab94004ba5c87</td>\n",
       "      <td>2017-02-13 13:57:51</td>\n",
       "      <td>199.90</td>\n",
       "      <td>18.14</td>\n",
       "    </tr>\n",
       "  </tbody>\n",
       "</table>\n",
       "</div>"
      ],
      "text/plain": [
       "                           order_id  order_item_id  \\\n",
       "0  00010242fe8c5a6d1ba2dd792cb16214              1   \n",
       "1  00018f77f2f0320c557190d7a144bdd3              1   \n",
       "2  000229ec398224ef6ca0657da4fc703e              1   \n",
       "3  00024acbcdf0a6daa1e931b038114c75              1   \n",
       "4  00042b26cf59d7ce69dfabb4e55b4fd9              1   \n",
       "\n",
       "                         product_id                         seller_id  \\\n",
       "0  4244733e06e7ecb4970a6e2683c13e61  48436dade18ac8b2bce089ec2a041202   \n",
       "1  e5f2d52b802189ee658865ca93d83a8f  dd7ddc04e1b6c2c614352b383efe2d36   \n",
       "2  c777355d18b72b67abbeef9df44fd0fd  5b51032eddd242adc84c38acab88f23d   \n",
       "3  7634da152a4610f1595efa32f14722fc  9d7a1d34a5052409006425275ba1c2b4   \n",
       "4  ac6c3623068f30de03045865e4e10089  df560393f3a51e74553ab94004ba5c87   \n",
       "\n",
       "  shipping_limit_date   price  freight_value  \n",
       "0 2017-09-19 09:45:35   58.90          13.29  \n",
       "1 2017-05-03 11:05:13  239.90          19.93  \n",
       "2 2018-01-18 14:48:30  199.00          17.87  \n",
       "3 2018-08-15 10:10:18   12.99          12.79  \n",
       "4 2017-02-13 13:57:51  199.90          18.14  "
      ]
     },
     "execution_count": 11,
     "metadata": {},
     "output_type": "execute_result"
    }
   ],
   "source": [
    "df_order_items = pd.read_sql('SELECT * FROM dbo.order_items', engine)\n",
    "print(f\"Shape of df_order_items: {df_order_items.shape}\\n\")\n",
    "df_order_items.head()"
   ]
  },
  {
   "cell_type": "markdown",
   "id": "8d96bbe4",
   "metadata": {},
   "source": [
    "#### Products table"
   ]
  },
  {
   "cell_type": "code",
   "execution_count": 12,
   "id": "8da850a3",
   "metadata": {},
   "outputs": [
    {
     "name": "stdout",
     "output_type": "stream",
     "text": [
      "Shape of df_products: (32951, 9)\n",
      "\n"
     ]
    },
    {
     "data": {
      "application/vnd.microsoft.datawrangler.viewer.v0+json": {
       "columns": [
        {
         "name": "index",
         "rawType": "int64",
         "type": "integer"
        },
        {
         "name": "product_id",
         "rawType": "object",
         "type": "string"
        },
        {
         "name": "product_category_name",
         "rawType": "object",
         "type": "string"
        },
        {
         "name": "product_name_length",
         "rawType": "float64",
         "type": "float"
        },
        {
         "name": "product_description_length",
         "rawType": "float64",
         "type": "float"
        },
        {
         "name": "product_photos_qty",
         "rawType": "float64",
         "type": "float"
        },
        {
         "name": "product_weight_g",
         "rawType": "float64",
         "type": "float"
        },
        {
         "name": "product_length_cm",
         "rawType": "float64",
         "type": "float"
        },
        {
         "name": "product_height_cm",
         "rawType": "float64",
         "type": "float"
        },
        {
         "name": "product_width_cm",
         "rawType": "float64",
         "type": "float"
        }
       ],
       "ref": "3625f4c1-6e95-4788-bc04-e8db49d680fe",
       "rows": [
        [
         "0",
         "00066f42aeeb9f3007548bb9d3f33c38",
         "perfumaria",
         "53.0",
         "596.0",
         "6.0",
         "300.0",
         "20.0",
         "16.0",
         "16.0"
        ],
        [
         "1",
         "00088930e925c41fd95ebfe695fd2655",
         "automotivo",
         "56.0",
         "752.0",
         "4.0",
         "1225.0",
         "55.0",
         "10.0",
         "26.0"
        ],
        [
         "2",
         "0009406fd7479715e4bef61dd91f2462",
         "cama_mesa_banho",
         "50.0",
         "266.0",
         "2.0",
         "300.0",
         "45.0",
         "15.0",
         "35.0"
        ],
        [
         "3",
         "000b8f95fcb9e0096488278317764d19",
         "utilidades_domesticas",
         "25.0",
         "364.0",
         "3.0",
         "550.0",
         "19.0",
         "24.0",
         "12.0"
        ],
        [
         "4",
         "000d9be29b5207b54e86aa1b1ac54872",
         "relogios_presentes",
         "48.0",
         "613.0",
         "4.0",
         "250.0",
         "22.0",
         "11.0",
         "15.0"
        ]
       ],
       "shape": {
        "columns": 9,
        "rows": 5
       }
      },
      "text/html": [
       "<div>\n",
       "<style scoped>\n",
       "    .dataframe tbody tr th:only-of-type {\n",
       "        vertical-align: middle;\n",
       "    }\n",
       "\n",
       "    .dataframe tbody tr th {\n",
       "        vertical-align: top;\n",
       "    }\n",
       "\n",
       "    .dataframe thead th {\n",
       "        text-align: right;\n",
       "    }\n",
       "</style>\n",
       "<table border=\"1\" class=\"dataframe\">\n",
       "  <thead>\n",
       "    <tr style=\"text-align: right;\">\n",
       "      <th></th>\n",
       "      <th>product_id</th>\n",
       "      <th>product_category_name</th>\n",
       "      <th>product_name_length</th>\n",
       "      <th>product_description_length</th>\n",
       "      <th>product_photos_qty</th>\n",
       "      <th>product_weight_g</th>\n",
       "      <th>product_length_cm</th>\n",
       "      <th>product_height_cm</th>\n",
       "      <th>product_width_cm</th>\n",
       "    </tr>\n",
       "  </thead>\n",
       "  <tbody>\n",
       "    <tr>\n",
       "      <th>0</th>\n",
       "      <td>00066f42aeeb9f3007548bb9d3f33c38</td>\n",
       "      <td>perfumaria</td>\n",
       "      <td>53.0</td>\n",
       "      <td>596.0</td>\n",
       "      <td>6.0</td>\n",
       "      <td>300.0</td>\n",
       "      <td>20.0</td>\n",
       "      <td>16.0</td>\n",
       "      <td>16.0</td>\n",
       "    </tr>\n",
       "    <tr>\n",
       "      <th>1</th>\n",
       "      <td>00088930e925c41fd95ebfe695fd2655</td>\n",
       "      <td>automotivo</td>\n",
       "      <td>56.0</td>\n",
       "      <td>752.0</td>\n",
       "      <td>4.0</td>\n",
       "      <td>1225.0</td>\n",
       "      <td>55.0</td>\n",
       "      <td>10.0</td>\n",
       "      <td>26.0</td>\n",
       "    </tr>\n",
       "    <tr>\n",
       "      <th>2</th>\n",
       "      <td>0009406fd7479715e4bef61dd91f2462</td>\n",
       "      <td>cama_mesa_banho</td>\n",
       "      <td>50.0</td>\n",
       "      <td>266.0</td>\n",
       "      <td>2.0</td>\n",
       "      <td>300.0</td>\n",
       "      <td>45.0</td>\n",
       "      <td>15.0</td>\n",
       "      <td>35.0</td>\n",
       "    </tr>\n",
       "    <tr>\n",
       "      <th>3</th>\n",
       "      <td>000b8f95fcb9e0096488278317764d19</td>\n",
       "      <td>utilidades_domesticas</td>\n",
       "      <td>25.0</td>\n",
       "      <td>364.0</td>\n",
       "      <td>3.0</td>\n",
       "      <td>550.0</td>\n",
       "      <td>19.0</td>\n",
       "      <td>24.0</td>\n",
       "      <td>12.0</td>\n",
       "    </tr>\n",
       "    <tr>\n",
       "      <th>4</th>\n",
       "      <td>000d9be29b5207b54e86aa1b1ac54872</td>\n",
       "      <td>relogios_presentes</td>\n",
       "      <td>48.0</td>\n",
       "      <td>613.0</td>\n",
       "      <td>4.0</td>\n",
       "      <td>250.0</td>\n",
       "      <td>22.0</td>\n",
       "      <td>11.0</td>\n",
       "      <td>15.0</td>\n",
       "    </tr>\n",
       "  </tbody>\n",
       "</table>\n",
       "</div>"
      ],
      "text/plain": [
       "                         product_id  product_category_name  \\\n",
       "0  00066f42aeeb9f3007548bb9d3f33c38             perfumaria   \n",
       "1  00088930e925c41fd95ebfe695fd2655             automotivo   \n",
       "2  0009406fd7479715e4bef61dd91f2462        cama_mesa_banho   \n",
       "3  000b8f95fcb9e0096488278317764d19  utilidades_domesticas   \n",
       "4  000d9be29b5207b54e86aa1b1ac54872     relogios_presentes   \n",
       "\n",
       "   product_name_length  product_description_length  product_photos_qty  \\\n",
       "0                 53.0                       596.0                 6.0   \n",
       "1                 56.0                       752.0                 4.0   \n",
       "2                 50.0                       266.0                 2.0   \n",
       "3                 25.0                       364.0                 3.0   \n",
       "4                 48.0                       613.0                 4.0   \n",
       "\n",
       "   product_weight_g  product_length_cm  product_height_cm  product_width_cm  \n",
       "0             300.0               20.0               16.0              16.0  \n",
       "1            1225.0               55.0               10.0              26.0  \n",
       "2             300.0               45.0               15.0              35.0  \n",
       "3             550.0               19.0               24.0              12.0  \n",
       "4             250.0               22.0               11.0              15.0  "
      ]
     },
     "execution_count": 12,
     "metadata": {},
     "output_type": "execute_result"
    }
   ],
   "source": [
    "df_products = pd.read_sql('SELECT * FROM dbo.products', engine)\n",
    "print(f\"Shape of df_products: {df_products.shape}\\n\")\n",
    "df_products.head()"
   ]
  },
  {
   "cell_type": "markdown",
   "id": "700db81f",
   "metadata": {},
   "source": [
    "#### Product category translation"
   ]
  },
  {
   "cell_type": "code",
   "execution_count": 13,
   "id": "57f75a17",
   "metadata": {},
   "outputs": [
    {
     "name": "stdout",
     "output_type": "stream",
     "text": [
      "Shape of df_product_category_translation: (71, 2)\n",
      "\n"
     ]
    },
    {
     "data": {
      "application/vnd.microsoft.datawrangler.viewer.v0+json": {
       "columns": [
        {
         "name": "index",
         "rawType": "int64",
         "type": "integer"
        },
        {
         "name": "product_category_name",
         "rawType": "object",
         "type": "string"
        },
        {
         "name": "product_category_name_english",
         "rawType": "object",
         "type": "string"
        }
       ],
       "ref": "e511c31c-d27b-4067-b88d-0db6f2b412f9",
       "rows": [
        [
         "0",
         "beleza_saude",
         "health_beauty"
        ],
        [
         "1",
         "informatica_acessorios",
         "computers_accessories"
        ],
        [
         "2",
         "automotivo",
         "auto"
        ],
        [
         "3",
         "cama_mesa_banho",
         "bed_bath_table"
        ],
        [
         "4",
         "moveis_decoracao",
         "furniture_decor"
        ]
       ],
       "shape": {
        "columns": 2,
        "rows": 5
       }
      },
      "text/html": [
       "<div>\n",
       "<style scoped>\n",
       "    .dataframe tbody tr th:only-of-type {\n",
       "        vertical-align: middle;\n",
       "    }\n",
       "\n",
       "    .dataframe tbody tr th {\n",
       "        vertical-align: top;\n",
       "    }\n",
       "\n",
       "    .dataframe thead th {\n",
       "        text-align: right;\n",
       "    }\n",
       "</style>\n",
       "<table border=\"1\" class=\"dataframe\">\n",
       "  <thead>\n",
       "    <tr style=\"text-align: right;\">\n",
       "      <th></th>\n",
       "      <th>product_category_name</th>\n",
       "      <th>product_category_name_english</th>\n",
       "    </tr>\n",
       "  </thead>\n",
       "  <tbody>\n",
       "    <tr>\n",
       "      <th>0</th>\n",
       "      <td>beleza_saude</td>\n",
       "      <td>health_beauty</td>\n",
       "    </tr>\n",
       "    <tr>\n",
       "      <th>1</th>\n",
       "      <td>informatica_acessorios</td>\n",
       "      <td>computers_accessories</td>\n",
       "    </tr>\n",
       "    <tr>\n",
       "      <th>2</th>\n",
       "      <td>automotivo</td>\n",
       "      <td>auto</td>\n",
       "    </tr>\n",
       "    <tr>\n",
       "      <th>3</th>\n",
       "      <td>cama_mesa_banho</td>\n",
       "      <td>bed_bath_table</td>\n",
       "    </tr>\n",
       "    <tr>\n",
       "      <th>4</th>\n",
       "      <td>moveis_decoracao</td>\n",
       "      <td>furniture_decor</td>\n",
       "    </tr>\n",
       "  </tbody>\n",
       "</table>\n",
       "</div>"
      ],
      "text/plain": [
       "    product_category_name product_category_name_english\n",
       "0            beleza_saude                 health_beauty\n",
       "1  informatica_acessorios         computers_accessories\n",
       "2              automotivo                          auto\n",
       "3         cama_mesa_banho                bed_bath_table\n",
       "4        moveis_decoracao               furniture_decor"
      ]
     },
     "execution_count": 13,
     "metadata": {},
     "output_type": "execute_result"
    }
   ],
   "source": [
    "df_product_category_translations = pd.read_sql('SELECT * FROM dbo.product_category_translation', engine)\n",
    "print(f\"Shape of df_product_category_translation: {df_product_category_translations.shape}\\n\")\n",
    "df_product_category_translations.head()"
   ]
  },
  {
   "cell_type": "markdown",
   "id": "63a35848",
   "metadata": {},
   "source": [
    "#### Order reviews table"
   ]
  },
  {
   "cell_type": "code",
   "execution_count": 14,
   "id": "c7f2ea4d",
   "metadata": {},
   "outputs": [
    {
     "name": "stdout",
     "output_type": "stream",
     "text": [
      "Shape of df_order_reviews: (104719, 6)\n",
      "\n"
     ]
    },
    {
     "data": {
      "application/vnd.microsoft.datawrangler.viewer.v0+json": {
       "columns": [
        {
         "name": "index",
         "rawType": "int64",
         "type": "integer"
        },
        {
         "name": "order_id",
         "rawType": "object",
         "type": "string"
        },
        {
         "name": "review_score",
         "rawType": "float64",
         "type": "float"
        },
        {
         "name": "review_comment_title",
         "rawType": "object",
         "type": "unknown"
        },
        {
         "name": "review_comment_message",
         "rawType": "object",
         "type": "unknown"
        },
        {
         "name": "review_creation_date",
         "rawType": "datetime64[ns]",
         "type": "datetime"
        },
        {
         "name": "review_answer_timestamp",
         "rawType": "datetime64[ns]",
         "type": "datetime"
        }
       ],
       "ref": "4aa376a6-64ee-4294-9c66-913c04d385e2",
       "rows": [
        [
         "0",
         "73fc7af87114b39712e6da79b0a377eb",
         "4.0",
         null,
         null,
         "2018-01-18 00:00:00",
         "2018-01-18 21:46:59"
        ],
        [
         "1",
         "a548910a1c6147796b98fdf73dbeba33",
         "5.0",
         null,
         null,
         "2018-03-10 00:00:00",
         "2018-03-11 03:05:13"
        ],
        [
         "2",
         "f9e4b658b201a9f2ecdecbb34bed034b",
         "5.0",
         null,
         null,
         "2018-02-17 00:00:00",
         "2018-02-18 14:36:24"
        ],
        [
         "3",
         "658677c97b385a9be170737859d3511b",
         "5.0",
         null,
         "Recebi bem antes do prazo estipulado.",
         "2017-04-21 00:00:00",
         "2017-04-21 22:02:06"
        ],
        [
         "4",
         "8e6bfb81e283fa7e4f11123a3fb894f1",
         "5.0",
         null,
         "ParabĂ©ns lojas lannister adorei comprar pela Internet seguro e prĂˇtico ParabĂ©ns a todos feliz PĂˇscoa",
         "2018-03-01 00:00:00",
         "2018-03-02 10:26:53"
        ]
       ],
       "shape": {
        "columns": 6,
        "rows": 5
       }
      },
      "text/html": [
       "<div>\n",
       "<style scoped>\n",
       "    .dataframe tbody tr th:only-of-type {\n",
       "        vertical-align: middle;\n",
       "    }\n",
       "\n",
       "    .dataframe tbody tr th {\n",
       "        vertical-align: top;\n",
       "    }\n",
       "\n",
       "    .dataframe thead th {\n",
       "        text-align: right;\n",
       "    }\n",
       "</style>\n",
       "<table border=\"1\" class=\"dataframe\">\n",
       "  <thead>\n",
       "    <tr style=\"text-align: right;\">\n",
       "      <th></th>\n",
       "      <th>order_id</th>\n",
       "      <th>review_score</th>\n",
       "      <th>review_comment_title</th>\n",
       "      <th>review_comment_message</th>\n",
       "      <th>review_creation_date</th>\n",
       "      <th>review_answer_timestamp</th>\n",
       "    </tr>\n",
       "  </thead>\n",
       "  <tbody>\n",
       "    <tr>\n",
       "      <th>0</th>\n",
       "      <td>73fc7af87114b39712e6da79b0a377eb</td>\n",
       "      <td>4.0</td>\n",
       "      <td>None</td>\n",
       "      <td>None</td>\n",
       "      <td>2018-01-18</td>\n",
       "      <td>2018-01-18 21:46:59</td>\n",
       "    </tr>\n",
       "    <tr>\n",
       "      <th>1</th>\n",
       "      <td>a548910a1c6147796b98fdf73dbeba33</td>\n",
       "      <td>5.0</td>\n",
       "      <td>None</td>\n",
       "      <td>None</td>\n",
       "      <td>2018-03-10</td>\n",
       "      <td>2018-03-11 03:05:13</td>\n",
       "    </tr>\n",
       "    <tr>\n",
       "      <th>2</th>\n",
       "      <td>f9e4b658b201a9f2ecdecbb34bed034b</td>\n",
       "      <td>5.0</td>\n",
       "      <td>None</td>\n",
       "      <td>None</td>\n",
       "      <td>2018-02-17</td>\n",
       "      <td>2018-02-18 14:36:24</td>\n",
       "    </tr>\n",
       "    <tr>\n",
       "      <th>3</th>\n",
       "      <td>658677c97b385a9be170737859d3511b</td>\n",
       "      <td>5.0</td>\n",
       "      <td>None</td>\n",
       "      <td>Recebi bem antes do prazo estipulado.</td>\n",
       "      <td>2017-04-21</td>\n",
       "      <td>2017-04-21 22:02:06</td>\n",
       "    </tr>\n",
       "    <tr>\n",
       "      <th>4</th>\n",
       "      <td>8e6bfb81e283fa7e4f11123a3fb894f1</td>\n",
       "      <td>5.0</td>\n",
       "      <td>None</td>\n",
       "      <td>ParabĂ©ns lojas lannister adorei comprar pela ...</td>\n",
       "      <td>2018-03-01</td>\n",
       "      <td>2018-03-02 10:26:53</td>\n",
       "    </tr>\n",
       "  </tbody>\n",
       "</table>\n",
       "</div>"
      ],
      "text/plain": [
       "                           order_id  review_score review_comment_title  \\\n",
       "0  73fc7af87114b39712e6da79b0a377eb           4.0                 None   \n",
       "1  a548910a1c6147796b98fdf73dbeba33           5.0                 None   \n",
       "2  f9e4b658b201a9f2ecdecbb34bed034b           5.0                 None   \n",
       "3  658677c97b385a9be170737859d3511b           5.0                 None   \n",
       "4  8e6bfb81e283fa7e4f11123a3fb894f1           5.0                 None   \n",
       "\n",
       "                              review_comment_message review_creation_date  \\\n",
       "0                                               None           2018-01-18   \n",
       "1                                               None           2018-03-10   \n",
       "2                                               None           2018-02-17   \n",
       "3              Recebi bem antes do prazo estipulado.           2017-04-21   \n",
       "4  ParabĂ©ns lojas lannister adorei comprar pela ...           2018-03-01   \n",
       "\n",
       "  review_answer_timestamp  \n",
       "0     2018-01-18 21:46:59  \n",
       "1     2018-03-11 03:05:13  \n",
       "2     2018-02-18 14:36:24  \n",
       "3     2017-04-21 22:02:06  \n",
       "4     2018-03-02 10:26:53  "
      ]
     },
     "execution_count": 14,
     "metadata": {},
     "output_type": "execute_result"
    }
   ],
   "source": [
    "df_order_reviews = pd.read_sql('SELECT * FROM dbo.order_reviews', engine)\n",
    "print(f\"Shape of df_order_reviews: {df_order_reviews.shape}\\n\")\n",
    "df_order_reviews.head()"
   ]
  },
  {
   "cell_type": "markdown",
   "id": "00c57ea4",
   "metadata": {},
   "source": [
    "## Initial Data Insight & NaN Check & Duplicate Analysis"
   ]
  },
  {
   "cell_type": "markdown",
   "id": "ad260fea",
   "metadata": {},
   "source": [
    "#### Customers Table "
   ]
  },
  {
   "cell_type": "code",
   "execution_count": 15,
   "id": "4b0cfe4f",
   "metadata": {},
   "outputs": [
    {
     "name": "stdout",
     "output_type": "stream",
     "text": [
      "Number of duplicated rows: 0\n",
      "\n",
      "<class 'pandas.core.frame.DataFrame'>\n",
      "RangeIndex: 99441 entries, 0 to 99440\n",
      "Data columns (total 5 columns):\n",
      " #   Column                    Non-Null Count  Dtype \n",
      "---  ------                    --------------  ----- \n",
      " 0   customer_id               99441 non-null  object\n",
      " 1   customer_unique_id        99441 non-null  object\n",
      " 2   customer_zip_code_prefix  99441 non-null  int64 \n",
      " 3   customer_city             67967 non-null  object\n",
      " 4   customer_state            67967 non-null  object\n",
      "dtypes: int64(1), object(4)\n",
      "memory usage: 3.8+ MB\n"
     ]
    }
   ],
   "source": [
    "print(f\"Number of duplicated rows: {len(df_customers[df_customers.duplicated()])}\\n\")\n",
    "df_customers.info()"
   ]
  },
  {
   "cell_type": "markdown",
   "id": "6f02526e",
   "metadata": {},
   "source": [
    "Number of NaN values "
   ]
  },
  {
   "cell_type": "code",
   "execution_count": 16,
   "id": "625587ee",
   "metadata": {},
   "outputs": [
    {
     "data": {
      "application/vnd.microsoft.datawrangler.viewer.v0+json": {
       "columns": [
        {
         "name": "index",
         "rawType": "object",
         "type": "string"
        },
        {
         "name": "0",
         "rawType": "int64",
         "type": "integer"
        }
       ],
       "ref": "1d408abc-37f5-4cdb-8e29-379fab63ed25",
       "rows": [
        [
         "customer_id",
         "0"
        ],
        [
         "customer_unique_id",
         "0"
        ],
        [
         "customer_zip_code_prefix",
         "0"
        ],
        [
         "customer_city",
         "31474"
        ],
        [
         "customer_state",
         "31474"
        ]
       ],
       "shape": {
        "columns": 1,
        "rows": 5
       }
      },
      "text/plain": [
       "customer_id                     0\n",
       "customer_unique_id              0\n",
       "customer_zip_code_prefix        0\n",
       "customer_city               31474\n",
       "customer_state              31474\n",
       "dtype: int64"
      ]
     },
     "execution_count": 16,
     "metadata": {},
     "output_type": "execute_result"
    }
   ],
   "source": [
    "df_customers.isna().sum()"
   ]
  },
  {
   "cell_type": "markdown",
   "id": "6ffd3499",
   "metadata": {},
   "source": [
    "% of NaN values"
   ]
  },
  {
   "cell_type": "code",
   "execution_count": 17,
   "id": "1bdeeaa3",
   "metadata": {},
   "outputs": [
    {
     "data": {
      "application/vnd.microsoft.datawrangler.viewer.v0+json": {
       "columns": [
        {
         "name": "index",
         "rawType": "object",
         "type": "string"
        },
        {
         "name": "0",
         "rawType": "float64",
         "type": "float"
        }
       ],
       "ref": "f10e103b-815f-4c35-8a20-97c8666c16d4",
       "rows": [
        [
         "customer_id",
         "0.0"
        ],
        [
         "customer_unique_id",
         "0.0"
        ],
        [
         "customer_zip_code_prefix",
         "0.0"
        ],
        [
         "customer_city",
         "31.650928691384838"
        ],
        [
         "customer_state",
         "31.650928691384838"
        ]
       ],
       "shape": {
        "columns": 1,
        "rows": 5
       }
      },
      "text/plain": [
       "customer_id                  0.000000\n",
       "customer_unique_id           0.000000\n",
       "customer_zip_code_prefix     0.000000\n",
       "customer_city               31.650929\n",
       "customer_state              31.650929\n",
       "dtype: float64"
      ]
     },
     "execution_count": 17,
     "metadata": {},
     "output_type": "execute_result"
    }
   ],
   "source": [
    "df_customers.isna().mean()*100"
   ]
  },
  {
   "cell_type": "code",
   "execution_count": 18,
   "id": "2559e677",
   "metadata": {},
   "outputs": [
    {
     "data": {
      "text/plain": [
       "<Axes: title={'center': 'Top 5 cities by number of Customers'}, xlabel='customer_city'>"
      ]
     },
     "execution_count": 18,
     "metadata": {},
     "output_type": "execute_result"
    },
    {
     "data": {
      "image/png": "[encoded data removed]",
      "text/plain": [
       "<Figure size 900x500 with 1 Axes>"
      ]
     },
     "metadata": {},
     "output_type": "display_data"
    }
   ],
   "source": [
    "df_customers[\"customer_city\"].value_counts().head().plot.bar(title=\"Top 5 cities by number of Customers\", x = \"City name\", y = \"Number of clients\", rot = 0, figsize = (9,5))"
   ]
  },
  {
   "cell_type": "code",
   "execution_count": 19,
   "id": "3ccf8d52",
   "metadata": {},
   "outputs": [
    {
     "data": {
      "text/plain": [
       "<Axes: title={'center': 'Top 5 states by number of Customers'}, xlabel='customer_state'>"
      ]
     },
     "execution_count": 19,
     "metadata": {},
     "output_type": "execute_result"
    },
    {
     "data": {
      "image/png": "[encoded data removed]",
      "text/plain": [
       "<Figure size 900x500 with 1 Axes>"
      ]
     },
     "metadata": {},
     "output_type": "display_data"
    }
   ],
   "source": [
    "df_customers[\"customer_state\"].value_counts().head().plot.bar(title=\"Top 5 states by number of Customers\", x = \"State name\", y = \"Number of clients\", rot = 0, figsize = (9,5))"
   ]
  },
  {
   "cell_type": "markdown",
   "id": "b47c1656",
   "metadata": {},
   "source": [
    "#### Geolocation table"
   ]
  },
  {
   "cell_type": "code",
   "execution_count": 20,
   "id": "824ce5ca",
   "metadata": {},
   "outputs": [
    {
     "name": "stdout",
     "output_type": "stream",
     "text": [
      "Number of duplicated rows: 271868\n",
      "\n",
      "<class 'pandas.core.frame.DataFrame'>\n",
      "RangeIndex: 1000163 entries, 0 to 1000162\n",
      "Data columns (total 5 columns):\n",
      " #   Column                       Non-Null Count    Dtype  \n",
      "---  ------                       --------------    -----  \n",
      " 0   geolocation_zip_code_prefix  1000163 non-null  int64  \n",
      " 1   geolocation_lat              1000163 non-null  float64\n",
      " 2   geolocation_lng              1000163 non-null  float64\n",
      " 3   geolocation_city             1000163 non-null  object \n",
      " 4   geolocation_state            1000163 non-null  object \n",
      "dtypes: float64(2), int64(1), object(2)\n",
      "memory usage: 38.2+ MB\n"
     ]
    }
   ],
   "source": [
    "print(f\"Number of duplicated rows: {len(df_geolocation[df_geolocation.duplicated()])}\\n\")\n",
    "df_geolocation.info()"
   ]
  },
  {
   "cell_type": "markdown",
   "id": "4439fad0",
   "metadata": {},
   "source": [
    "Number of NaN values "
   ]
  },
  {
   "cell_type": "code",
   "execution_count": 21,
   "id": "d08e91bc",
   "metadata": {},
   "outputs": [
    {
     "data": {
      "application/vnd.microsoft.datawrangler.viewer.v0+json": {
       "columns": [
        {
         "name": "index",
         "rawType": "object",
         "type": "string"
        },
        {
         "name": "0",
         "rawType": "int64",
         "type": "integer"
        }
       ],
       "ref": "97515d40-1617-4aec-b31e-5ae3b3d04642",
       "rows": [
        [
         "geolocation_zip_code_prefix",
         "0"
        ],
        [
         "geolocation_lat",
         "0"
        ],
        [
         "geolocation_lng",
         "0"
        ],
        [
         "geolocation_city",
         "0"
        ],
        [
         "geolocation_state",
         "0"
        ]
       ],
       "shape": {
        "columns": 1,
        "rows": 5
       }
      },
      "text/plain": [
       "geolocation_zip_code_prefix    0\n",
       "geolocation_lat                0\n",
       "geolocation_lng                0\n",
       "geolocation_city               0\n",
       "geolocation_state              0\n",
       "dtype: int64"
      ]
     },
     "execution_count": 21,
     "metadata": {},
     "output_type": "execute_result"
    }
   ],
   "source": [
    "df_geolocation.isna().sum()"
   ]
  },
  {
   "cell_type": "markdown",
   "id": "68247edc",
   "metadata": {},
   "source": [
    "% of NaN values"
   ]
  },
  {
   "cell_type": "code",
   "execution_count": 22,
   "id": "435320e0",
   "metadata": {},
   "outputs": [
    {
     "data": {
      "application/vnd.microsoft.datawrangler.viewer.v0+json": {
       "columns": [
        {
         "name": "index",
         "rawType": "object",
         "type": "string"
        },
        {
         "name": "0",
         "rawType": "float64",
         "type": "float"
        }
       ],
       "ref": "cd860bb5-749f-482e-b604-84cb5a0cde3b",
       "rows": [
        [
         "geolocation_zip_code_prefix",
         "0.0"
        ],
        [
         "geolocation_lat",
         "0.0"
        ],
        [
         "geolocation_lng",
         "0.0"
        ],
        [
         "geolocation_city",
         "0.0"
        ],
        [
         "geolocation_state",
         "0.0"
        ]
       ],
       "shape": {
        "columns": 1,
        "rows": 5
       }
      },
      "text/plain": [
       "geolocation_zip_code_prefix    0.0\n",
       "geolocation_lat                0.0\n",
       "geolocation_lng                0.0\n",
       "geolocation_city               0.0\n",
       "geolocation_state              0.0\n",
       "dtype: float64"
      ]
     },
     "execution_count": 22,
     "metadata": {},
     "output_type": "execute_result"
    }
   ],
   "source": [
    "df_geolocation.isna().mean()*100"
   ]
  },
  {
   "cell_type": "markdown",
   "id": "ede6745c",
   "metadata": {},
   "source": [
    "#### Sellers table"
   ]
  },
  {
   "cell_type": "code",
   "execution_count": 23,
   "id": "fafa264c",
   "metadata": {},
   "outputs": [
    {
     "name": "stdout",
     "output_type": "stream",
     "text": [
      "Number of duplicated rows: 0\n",
      "\n",
      "<class 'pandas.core.frame.DataFrame'>\n",
      "RangeIndex: 3095 entries, 0 to 3094\n",
      "Data columns (total 4 columns):\n",
      " #   Column                  Non-Null Count  Dtype \n",
      "---  ------                  --------------  ----- \n",
      " 0   seller_id               3095 non-null   object\n",
      " 1   seller_zip_code_prefix  3095 non-null   int64 \n",
      " 2   seller_city             2390 non-null   object\n",
      " 3   seller_state            3095 non-null   object\n",
      "dtypes: int64(1), object(3)\n",
      "memory usage: 96.8+ KB\n"
     ]
    }
   ],
   "source": [
    "print(f\"Number of duplicated rows: {len(df_sellers[df_sellers.duplicated()])}\\n\")\n",
    "df_sellers.info()"
   ]
  },
  {
   "cell_type": "markdown",
   "id": "4ab14d5a",
   "metadata": {},
   "source": [
    "Number of NaN values "
   ]
  },
  {
   "cell_type": "code",
   "execution_count": 24,
   "id": "f08896ee",
   "metadata": {},
   "outputs": [
    {
     "data": {
      "application/vnd.microsoft.datawrangler.viewer.v0+json": {
       "columns": [
        {
         "name": "index",
         "rawType": "object",
         "type": "string"
        },
        {
         "name": "0",
         "rawType": "int64",
         "type": "integer"
        }
       ],
       "ref": "c163ac6b-f51d-4ac6-b013-6e3e6e2a792f",
       "rows": [
        [
         "seller_id",
         "0"
        ],
        [
         "seller_zip_code_prefix",
         "0"
        ],
        [
         "seller_city",
         "705"
        ],
        [
         "seller_state",
         "0"
        ]
       ],
       "shape": {
        "columns": 1,
        "rows": 4
       }
      },
      "text/plain": [
       "seller_id                   0\n",
       "seller_zip_code_prefix      0\n",
       "seller_city               705\n",
       "seller_state                0\n",
       "dtype: int64"
      ]
     },
     "execution_count": 24,
     "metadata": {},
     "output_type": "execute_result"
    }
   ],
   "source": [
    "df_sellers.isna().sum()"
   ]
  },
  {
   "cell_type": "markdown",
   "id": "f829a13a",
   "metadata": {},
   "source": [
    "% of NaN values"
   ]
  },
  {
   "cell_type": "code",
   "execution_count": 25,
   "id": "f36dc339",
   "metadata": {},
   "outputs": [
    {
     "data": {
      "application/vnd.microsoft.datawrangler.viewer.v0+json": {
       "columns": [
        {
         "name": "index",
         "rawType": "object",
         "type": "string"
        },
        {
         "name": "0",
         "rawType": "float64",
         "type": "float"
        }
       ],
       "ref": "7f164d9e-8c97-4240-ac22-31d98858b39f",
       "rows": [
        [
         "seller_id",
         "0.0"
        ],
        [
         "seller_zip_code_prefix",
         "0.0"
        ],
        [
         "seller_city",
         "22.778675282714055"
        ],
        [
         "seller_state",
         "0.0"
        ]
       ],
       "shape": {
        "columns": 1,
        "rows": 4
       }
      },
      "text/plain": [
       "seller_id                  0.000000\n",
       "seller_zip_code_prefix     0.000000\n",
       "seller_city               22.778675\n",
       "seller_state               0.000000\n",
       "dtype: float64"
      ]
     },
     "execution_count": 25,
     "metadata": {},
     "output_type": "execute_result"
    }
   ],
   "source": [
    "df_sellers.isna().mean()*100"
   ]
  },
  {
   "cell_type": "code",
   "execution_count": 26,
   "id": "2861c4b7",
   "metadata": {},
   "outputs": [
    {
     "data": {
      "text/plain": [
       "<Axes: title={'center': 'Top 5 cities by number of Sellers'}, xlabel='seller_city'>"
      ]
     },
     "execution_count": 26,
     "metadata": {},
     "output_type": "execute_result"
    },
    {
     "data": {
      "image/png": "[encoded data removed]",
      "text/plain": [
       "<Figure size 900x500 with 1 Axes>"
      ]
     },
     "metadata": {},
     "output_type": "display_data"
    }
   ],
   "source": [
    "df_sellers[\"seller_city\"].value_counts().head().plot.bar(title=\"Top 5 cities by number of Sellers\", x = \"City name\", y = \"Number of Sellers\", rot = 0, figsize = (9,5))"
   ]
  },
  {
   "cell_type": "code",
   "execution_count": 27,
   "id": "420a756a",
   "metadata": {},
   "outputs": [
    {
     "data": {
      "text/plain": [
       "<Axes: title={'center': 'Top 5 states by number of Sellers'}, xlabel='seller_state'>"
      ]
     },
     "execution_count": 27,
     "metadata": {},
     "output_type": "execute_result"
    },
    {
     "data": {
      "image/png": "[encoded data removed]",
      "text/plain": [
       "<Figure size 900x500 with 1 Axes>"
      ]
     },
     "metadata": {},
     "output_type": "display_data"
    }
   ],
   "source": [
    "df_sellers[\"seller_state\"].value_counts().head().plot.bar(title=\"Top 5 states by number of Sellers\", x = \"State name\", y = \"Number of Sellers\", rot = 0, figsize = (9,5))"
   ]
  },
  {
   "cell_type": "markdown",
   "id": "b610633a",
   "metadata": {},
   "source": [
    "#### Orders table"
   ]
  },
  {
   "cell_type": "code",
   "execution_count": 28,
   "id": "7bd720ca",
   "metadata": {},
   "outputs": [
    {
     "name": "stdout",
     "output_type": "stream",
     "text": [
      "Number of duplicated rows: 0\n",
      "\n",
      "<class 'pandas.core.frame.DataFrame'>\n",
      "RangeIndex: 99441 entries, 0 to 99440\n",
      "Data columns (total 8 columns):\n",
      " #   Column                         Non-Null Count  Dtype         \n",
      "---  ------                         --------------  -----         \n",
      " 0   order_id                       99441 non-null  object        \n",
      " 1   customer_id                    99441 non-null  object        \n",
      " 2   order_status                   99441 non-null  object        \n",
      " 3   order_purchase_timestamp       99441 non-null  datetime64[ns]\n",
      " 4   order_approved_at              99281 non-null  datetime64[ns]\n",
      " 5   order_delivered_carrier_date   97658 non-null  datetime64[ns]\n",
      " 6   order_delivered_customer_date  96476 non-null  datetime64[ns]\n",
      " 7   order_estimated_delivery_date  99102 non-null  datetime64[ns]\n",
      "dtypes: datetime64[ns](5), object(3)\n",
      "memory usage: 6.1+ MB\n"
     ]
    }
   ],
   "source": [
    "print(f\"Number of duplicated rows: {len(df_orders[df_orders.duplicated()])}\\n\")\n",
    "df_orders.info()"
   ]
  },
  {
   "cell_type": "markdown",
   "id": "0465d67b",
   "metadata": {},
   "source": [
    "Number of NaN values "
   ]
  },
  {
   "cell_type": "code",
   "execution_count": 29,
   "id": "43d298b2",
   "metadata": {},
   "outputs": [
    {
     "data": {
      "application/vnd.microsoft.datawrangler.viewer.v0+json": {
       "columns": [
        {
         "name": "index",
         "rawType": "object",
         "type": "string"
        },
        {
         "name": "0",
         "rawType": "int64",
         "type": "integer"
        }
       ],
       "ref": "51b08ec3-4365-4b0a-bbcb-e32eddecc28a",
       "rows": [
        [
         "order_id",
         "0"
        ],
        [
         "customer_id",
         "0"
        ],
        [
         "order_status",
         "0"
        ],
        [
         "order_purchase_timestamp",
         "0"
        ],
        [
         "order_approved_at",
         "160"
        ],
        [
         "order_delivered_carrier_date",
         "1783"
        ],
        [
         "order_delivered_customer_date",
         "2965"
        ],
        [
         "order_estimated_delivery_date",
         "339"
        ]
       ],
       "shape": {
        "columns": 1,
        "rows": 8
       }
      },
      "text/plain": [
       "order_id                            0\n",
       "customer_id                         0\n",
       "order_status                        0\n",
       "order_purchase_timestamp            0\n",
       "order_approved_at                 160\n",
       "order_delivered_carrier_date     1783\n",
       "order_delivered_customer_date    2965\n",
       "order_estimated_delivery_date     339\n",
       "dtype: int64"
      ]
     },
     "execution_count": 29,
     "metadata": {},
     "output_type": "execute_result"
    }
   ],
   "source": [
    "df_orders.isna().sum()"
   ]
  },
  {
   "cell_type": "markdown",
   "id": "585bdc10",
   "metadata": {},
   "source": [
    "% of NaN values"
   ]
  },
  {
   "cell_type": "code",
   "execution_count": 30,
   "id": "5980600d",
   "metadata": {},
   "outputs": [
    {
     "data": {
      "application/vnd.microsoft.datawrangler.viewer.v0+json": {
       "columns": [
        {
         "name": "index",
         "rawType": "object",
         "type": "string"
        },
        {
         "name": "0",
         "rawType": "float64",
         "type": "float"
        }
       ],
       "ref": "758d2af3-5952-47f5-affd-257d42ca278d",
       "rows": [
        [
         "order_id",
         "0.0"
        ],
        [
         "customer_id",
         "0.0"
        ],
        [
         "order_status",
         "0.0"
        ],
        [
         "order_purchase_timestamp",
         "0.0"
        ],
        [
         "order_approved_at",
         "0.1608994278014099"
        ],
        [
         "order_delivered_carrier_date",
         "1.7930229985619612"
        ],
        [
         "order_delivered_customer_date",
         "2.981667521444877"
        ],
        [
         "order_estimated_delivery_date",
         "0.3409056626542372"
        ]
       ],
       "shape": {
        "columns": 1,
        "rows": 8
       }
      },
      "text/plain": [
       "order_id                         0.000000\n",
       "customer_id                      0.000000\n",
       "order_status                     0.000000\n",
       "order_purchase_timestamp         0.000000\n",
       "order_approved_at                0.160899\n",
       "order_delivered_carrier_date     1.793023\n",
       "order_delivered_customer_date    2.981668\n",
       "order_estimated_delivery_date    0.340906\n",
       "dtype: float64"
      ]
     },
     "execution_count": 30,
     "metadata": {},
     "output_type": "execute_result"
    }
   ],
   "source": [
    "df_orders.isna().mean()*100"
   ]
  },
  {
   "cell_type": "markdown",
   "id": "9d328b44",
   "metadata": {},
   "source": [
    "Number of orders for each status"
   ]
  },
  {
   "cell_type": "code",
   "execution_count": 31,
   "id": "28d6d870",
   "metadata": {},
   "outputs": [
    {
     "data": {
      "application/vnd.microsoft.datawrangler.viewer.v0+json": {
       "columns": [
        {
         "name": "order_status",
         "rawType": "object",
         "type": "string"
        },
        {
         "name": "count",
         "rawType": "int64",
         "type": "integer"
        }
       ],
       "ref": "f5890230-8a76-4ff5-880b-4239e48d8d60",
       "rows": [
        [
         "delivered",
         "96478"
        ],
        [
         "shipped",
         "1107"
        ],
        [
         "canceled",
         "625"
        ],
        [
         "unavailable",
         "609"
        ],
        [
         "invoiced",
         "314"
        ],
        [
         "processing",
         "301"
        ],
        [
         "created",
         "5"
        ],
        [
         "approved",
         "2"
        ]
       ],
       "shape": {
        "columns": 1,
        "rows": 8
       }
      },
      "text/plain": [
       "order_status\n",
       "delivered      96478\n",
       "shipped         1107\n",
       "canceled         625\n",
       "unavailable      609\n",
       "invoiced         314\n",
       "processing       301\n",
       "created            5\n",
       "approved           2\n",
       "Name: count, dtype: int64"
      ]
     },
     "execution_count": 31,
     "metadata": {},
     "output_type": "execute_result"
    }
   ],
   "source": [
    "df_orders[\"order_status\"].value_counts()"
   ]
  },
  {
   "cell_type": "markdown",
   "id": "fce01322",
   "metadata": {},
   "source": [
    "#### Order payments table"
   ]
  },
  {
   "cell_type": "code",
   "execution_count": 32,
   "id": "ba8bab8f",
   "metadata": {},
   "outputs": [
    {
     "name": "stdout",
     "output_type": "stream",
     "text": [
      "Number of duplicated rows: 0\n",
      "\n",
      "<class 'pandas.core.frame.DataFrame'>\n",
      "RangeIndex: 103886 entries, 0 to 103885\n",
      "Data columns (total 5 columns):\n",
      " #   Column                Non-Null Count   Dtype  \n",
      "---  ------                --------------   -----  \n",
      " 0   order_id              103886 non-null  object \n",
      " 1   payment_sequential    103886 non-null  int64  \n",
      " 2   payment_type          103886 non-null  object \n",
      " 3   payment_installments  103886 non-null  int64  \n",
      " 4   payment_value         84314 non-null   float64\n",
      "dtypes: float64(1), int64(2), object(2)\n",
      "memory usage: 4.0+ MB\n"
     ]
    }
   ],
   "source": [
    "print(f\"Number of duplicated rows: {len(df_order_payments[df_order_payments.duplicated()])}\\n\")\n",
    "df_order_payments.info()"
   ]
  },
  {
   "cell_type": "markdown",
   "id": "6b07cf58",
   "metadata": {},
   "source": [
    "Number of NaN values "
   ]
  },
  {
   "cell_type": "code",
   "execution_count": 33,
   "id": "a6d8812e",
   "metadata": {},
   "outputs": [
    {
     "data": {
      "application/vnd.microsoft.datawrangler.viewer.v0+json": {
       "columns": [
        {
         "name": "index",
         "rawType": "object",
         "type": "string"
        },
        {
         "name": "0",
         "rawType": "int64",
         "type": "integer"
        }
       ],
       "ref": "d6c3d2e8-d496-4df4-b5e8-2d69d45aaf20",
       "rows": [
        [
         "order_id",
         "0"
        ],
        [
         "payment_sequential",
         "0"
        ],
        [
         "payment_type",
         "0"
        ],
        [
         "payment_installments",
         "0"
        ],
        [
         "payment_value",
         "19572"
        ]
       ],
       "shape": {
        "columns": 1,
        "rows": 5
       }
      },
      "text/plain": [
       "order_id                    0\n",
       "payment_sequential          0\n",
       "payment_type                0\n",
       "payment_installments        0\n",
       "payment_value           19572\n",
       "dtype: int64"
      ]
     },
     "execution_count": 33,
     "metadata": {},
     "output_type": "execute_result"
    }
   ],
   "source": [
    "df_order_payments.isna().sum()"
   ]
  },
  {
   "cell_type": "markdown",
   "id": "9b6d2eed",
   "metadata": {},
   "source": [
    "% of NaN values"
   ]
  },
  {
   "cell_type": "code",
   "execution_count": 34,
   "id": "1c80114e",
   "metadata": {},
   "outputs": [
    {
     "data": {
      "application/vnd.microsoft.datawrangler.viewer.v0+json": {
       "columns": [
        {
         "name": "index",
         "rawType": "object",
         "type": "string"
        },
        {
         "name": "0",
         "rawType": "float64",
         "type": "float"
        }
       ],
       "ref": "550362de-f63d-481b-9375-b9b413e13a4e",
       "rows": [
        [
         "order_id",
         "0.0"
        ],
        [
         "payment_sequential",
         "0.0"
        ],
        [
         "payment_type",
         "0.0"
        ],
        [
         "payment_installments",
         "0.0"
        ],
        [
         "payment_value",
         "18.839882178541863"
        ]
       ],
       "shape": {
        "columns": 1,
        "rows": 5
       }
      },
      "text/plain": [
       "order_id                 0.000000\n",
       "payment_sequential       0.000000\n",
       "payment_type             0.000000\n",
       "payment_installments     0.000000\n",
       "payment_value           18.839882\n",
       "dtype: float64"
      ]
     },
     "execution_count": 34,
     "metadata": {},
     "output_type": "execute_result"
    }
   ],
   "source": [
    "df_order_payments.isna().mean()*100"
   ]
  },
  {
   "cell_type": "code",
   "execution_count": 35,
   "id": "38c3089a",
   "metadata": {},
   "outputs": [
    {
     "data": {
      "text/plain": [
       "<Axes: title={'center': 'Number of payments made in each payment type'}, xlabel='payment_type'>"
      ]
     },
     "execution_count": 35,
     "metadata": {},
     "output_type": "execute_result"
    },
    {
     "data": {
      "image/png": "[encoded data removed]",
      "text/plain": [
       "<Figure size 900x500 with 1 Axes>"
      ]
     },
     "metadata": {},
     "output_type": "display_data"
    }
   ],
   "source": [
    "df_order_payments[\"payment_type\"].value_counts().plot.bar(title = \"Number of payments made in each payment type\", x = \"payment type\", y = \"number of payments\", rot = 0, figsize = (9,5))"
   ]
  },
  {
   "cell_type": "markdown",
   "id": "4488a288",
   "metadata": {},
   "source": [
    "#### Order items table"
   ]
  },
  {
   "cell_type": "code",
   "execution_count": 36,
   "id": "a99a924a",
   "metadata": {},
   "outputs": [
    {
     "name": "stdout",
     "output_type": "stream",
     "text": [
      "Number of duplicated rows: 0\n",
      "\n",
      "<class 'pandas.core.frame.DataFrame'>\n",
      "RangeIndex: 112650 entries, 0 to 112649\n",
      "Data columns (total 7 columns):\n",
      " #   Column               Non-Null Count   Dtype         \n",
      "---  ------               --------------   -----         \n",
      " 0   order_id             112650 non-null  object        \n",
      " 1   order_item_id        112650 non-null  int64         \n",
      " 2   product_id           112650 non-null  object        \n",
      " 3   seller_id            112650 non-null  object        \n",
      " 4   shipping_limit_date  112650 non-null  datetime64[ns]\n",
      " 5   price                112650 non-null  float64       \n",
      " 6   freight_value        112650 non-null  float64       \n",
      "dtypes: datetime64[ns](1), float64(2), int64(1), object(3)\n",
      "memory usage: 6.0+ MB\n"
     ]
    }
   ],
   "source": [
    "print(f\"Number of duplicated rows: {len(df_order_items[df_order_items.duplicated()])}\\n\")\n",
    "df_order_items.info()"
   ]
  },
  {
   "cell_type": "markdown",
   "id": "d1570733",
   "metadata": {},
   "source": [
    "Number of NaN values "
   ]
  },
  {
   "cell_type": "code",
   "execution_count": 37,
   "id": "5c3372ed",
   "metadata": {},
   "outputs": [
    {
     "data": {
      "application/vnd.microsoft.datawrangler.viewer.v0+json": {
       "columns": [
        {
         "name": "index",
         "rawType": "object",
         "type": "string"
        },
        {
         "name": "0",
         "rawType": "int64",
         "type": "integer"
        }
       ],
       "ref": "4c2d9693-a2a5-4ec4-b0cc-ccd171d1d17c",
       "rows": [
        [
         "order_id",
         "0"
        ],
        [
         "order_item_id",
         "0"
        ],
        [
         "product_id",
         "0"
        ],
        [
         "seller_id",
         "0"
        ],
        [
         "shipping_limit_date",
         "0"
        ],
        [
         "price",
         "0"
        ],
        [
         "freight_value",
         "0"
        ]
       ],
       "shape": {
        "columns": 1,
        "rows": 7
       }
      },
      "text/plain": [
       "order_id               0\n",
       "order_item_id          0\n",
       "product_id             0\n",
       "seller_id              0\n",
       "shipping_limit_date    0\n",
       "price                  0\n",
       "freight_value          0\n",
       "dtype: int64"
      ]
     },
     "execution_count": 37,
     "metadata": {},
     "output_type": "execute_result"
    }
   ],
   "source": [
    "df_order_items.isna().sum()"
   ]
  },
  {
   "cell_type": "markdown",
   "id": "91a15707",
   "metadata": {},
   "source": [
    "% of NaN values"
   ]
  },
  {
   "cell_type": "code",
   "execution_count": 38,
   "id": "b4830b07",
   "metadata": {},
   "outputs": [
    {
     "data": {
      "application/vnd.microsoft.datawrangler.viewer.v0+json": {
       "columns": [
        {
         "name": "index",
         "rawType": "object",
         "type": "string"
        },
        {
         "name": "0",
         "rawType": "float64",
         "type": "float"
        }
       ],
       "ref": "2cdab00d-948f-4a34-b03c-56be356e3e8b",
       "rows": [
        [
         "order_id",
         "0.0"
        ],
        [
         "order_item_id",
         "0.0"
        ],
        [
         "product_id",
         "0.0"
        ],
        [
         "seller_id",
         "0.0"
        ],
        [
         "shipping_limit_date",
         "0.0"
        ],
        [
         "price",
         "0.0"
        ],
        [
         "freight_value",
         "0.0"
        ]
       ],
       "shape": {
        "columns": 1,
        "rows": 7
       }
      },
      "text/plain": [
       "order_id               0.0\n",
       "order_item_id          0.0\n",
       "product_id             0.0\n",
       "seller_id              0.0\n",
       "shipping_limit_date    0.0\n",
       "price                  0.0\n",
       "freight_value          0.0\n",
       "dtype: float64"
      ]
     },
     "execution_count": 38,
     "metadata": {},
     "output_type": "execute_result"
    }
   ],
   "source": [
    "df_order_items.isna().mean()*100"
   ]
  },
  {
   "cell_type": "code",
   "execution_count": 39,
   "id": "8d47038e",
   "metadata": {},
   "outputs": [
    {
     "data": {
      "application/vnd.microsoft.datawrangler.viewer.v0+json": {
       "columns": [
        {
         "name": "index",
         "rawType": "object",
         "type": "string"
        },
        {
         "name": "price",
         "rawType": "float64",
         "type": "float"
        }
       ],
       "ref": "24bcaa67-2424-43b4-acfe-0e32592ccabe",
       "rows": [
        [
         "count",
         "112650.0"
        ],
        [
         "mean",
         "121.0"
        ],
        [
         "std",
         "184.0"
        ],
        [
         "min",
         "1.0"
        ],
        [
         "25%",
         "40.0"
        ],
        [
         "50%",
         "75.0"
        ],
        [
         "75%",
         "135.0"
        ],
        [
         "max",
         "6735.0"
        ]
       ],
       "shape": {
        "columns": 1,
        "rows": 8
       }
      },
      "text/plain": [
       "count    112650.0\n",
       "mean        121.0\n",
       "std         184.0\n",
       "min           1.0\n",
       "25%          40.0\n",
       "50%          75.0\n",
       "75%         135.0\n",
       "max        6735.0\n",
       "Name: price, dtype: float64"
      ]
     },
     "execution_count": 39,
     "metadata": {},
     "output_type": "execute_result"
    }
   ],
   "source": [
    "df_order_items[\"price\"].describe().round()"
   ]
  },
  {
   "cell_type": "code",
   "execution_count": 40,
   "id": "cdd68c33",
   "metadata": {},
   "outputs": [
    {
     "data": {
      "application/vnd.microsoft.datawrangler.viewer.v0+json": {
       "columns": [
        {
         "name": "index",
         "rawType": "object",
         "type": "string"
        },
        {
         "name": "freight_value",
         "rawType": "float64",
         "type": "float"
        }
       ],
       "ref": "36a1e72b-e9e8-4973-9988-fab8e4d838cb",
       "rows": [
        [
         "count",
         "112650.0"
        ],
        [
         "mean",
         "20.0"
        ],
        [
         "std",
         "16.0"
        ],
        [
         "min",
         "0.0"
        ],
        [
         "25%",
         "13.0"
        ],
        [
         "50%",
         "16.0"
        ],
        [
         "75%",
         "21.0"
        ],
        [
         "max",
         "410.0"
        ]
       ],
       "shape": {
        "columns": 1,
        "rows": 8
       }
      },
      "text/plain": [
       "count    112650.0\n",
       "mean         20.0\n",
       "std          16.0\n",
       "min           0.0\n",
       "25%          13.0\n",
       "50%          16.0\n",
       "75%          21.0\n",
       "max         410.0\n",
       "Name: freight_value, dtype: float64"
      ]
     },
     "execution_count": 40,
     "metadata": {},
     "output_type": "execute_result"
    }
   ],
   "source": [
    "df_order_items[\"freight_value\"].describe().round()"
   ]
  },
  {
   "cell_type": "markdown",
   "id": "b83ab89e",
   "metadata": {},
   "source": [
    "Top 5 Orders size by product's number "
   ]
  },
  {
   "cell_type": "code",
   "execution_count": 41,
   "id": "3362e4e3",
   "metadata": {},
   "outputs": [
    {
     "data": {
      "application/vnd.microsoft.datawrangler.viewer.v0+json": {
       "columns": [
        {
         "name": "order_item_id",
         "rawType": "int64",
         "type": "integer"
        },
        {
         "name": "count",
         "rawType": "int64",
         "type": "integer"
        }
       ],
       "ref": "9a6c8e5a-f946-4661-a078-e86918172209",
       "rows": [
        [
         "1",
         "88863"
        ],
        [
         "2",
         "7516"
        ],
        [
         "3",
         "1322"
        ],
        [
         "4",
         "505"
        ],
        [
         "5",
         "204"
        ],
        [
         "6",
         "198"
        ],
        [
         "7",
         "22"
        ],
        [
         "8",
         "8"
        ],
        [
         "10",
         "8"
        ],
        [
         "12",
         "5"
        ],
        [
         "11",
         "4"
        ],
        [
         "9",
         "3"
        ],
        [
         "20",
         "2"
        ],
        [
         "14",
         "2"
        ],
        [
         "15",
         "2"
        ],
        [
         "13",
         "1"
        ],
        [
         "21",
         "1"
        ]
       ],
       "shape": {
        "columns": 1,
        "rows": 17
       }
      },
      "text/plain": [
       "order_item_id\n",
       "1     88863\n",
       "2      7516\n",
       "3      1322\n",
       "4       505\n",
       "5       204\n",
       "6       198\n",
       "7        22\n",
       "8         8\n",
       "10        8\n",
       "12        5\n",
       "11        4\n",
       "9         3\n",
       "20        2\n",
       "14        2\n",
       "15        2\n",
       "13        1\n",
       "21        1\n",
       "Name: count, dtype: int64"
      ]
     },
     "execution_count": 41,
     "metadata": {},
     "output_type": "execute_result"
    }
   ],
   "source": [
    "unique_orders = df_order_items.groupby(by=\"order_id\")['order_item_id'].idxmax()\n",
    "df_order_items.loc[unique_orders][\"order_item_id\"].value_counts()"
   ]
  },
  {
   "cell_type": "markdown",
   "id": "f4297e4a",
   "metadata": {},
   "source": [
    "#### Products table"
   ]
  },
  {
   "cell_type": "code",
   "execution_count": 42,
   "id": "f8d940ad",
   "metadata": {},
   "outputs": [
    {
     "data": {
      "application/vnd.microsoft.datawrangler.viewer.v0+json": {
       "columns": [
        {
         "name": "index",
         "rawType": "object",
         "type": "string"
        },
        {
         "name": "0",
         "rawType": "int64",
         "type": "integer"
        }
       ],
       "ref": "108ad4e0-0bf9-4d0d-a2d7-a1d079fa346c",
       "rows": [
        [
         "product_id",
         "0"
        ],
        [
         "product_category_name",
         "610"
        ],
        [
         "product_name_length",
         "610"
        ],
        [
         "product_description_length",
         "610"
        ],
        [
         "product_photos_qty",
         "610"
        ],
        [
         "product_weight_g",
         "2"
        ],
        [
         "product_length_cm",
         "2"
        ],
        [
         "product_height_cm",
         "2"
        ],
        [
         "product_width_cm",
         "2"
        ]
       ],
       "shape": {
        "columns": 1,
        "rows": 9
       }
      },
      "text/plain": [
       "product_id                      0\n",
       "product_category_name         610\n",
       "product_name_length           610\n",
       "product_description_length    610\n",
       "product_photos_qty            610\n",
       "product_weight_g                2\n",
       "product_length_cm               2\n",
       "product_height_cm               2\n",
       "product_width_cm                2\n",
       "dtype: int64"
      ]
     },
     "execution_count": 42,
     "metadata": {},
     "output_type": "execute_result"
    }
   ],
   "source": [
    "df_products.isna().sum()"
   ]
  },
  {
   "cell_type": "markdown",
   "id": "268925e4",
   "metadata": {},
   "source": [
    "% of NaN values"
   ]
  },
  {
   "cell_type": "code",
   "execution_count": 43,
   "id": "fea2f875",
   "metadata": {},
   "outputs": [
    {
     "data": {
      "application/vnd.microsoft.datawrangler.viewer.v0+json": {
       "columns": [
        {
         "name": "index",
         "rawType": "object",
         "type": "string"
        },
        {
         "name": "0",
         "rawType": "float64",
         "type": "float"
        }
       ],
       "ref": "4460fc2f-d5b7-4c7b-8f1b-547495202436",
       "rows": [
        [
         "product_id",
         "0.0"
        ],
        [
         "product_category_name",
         "1.8512336499650999"
        ],
        [
         "product_name_length",
         "1.8512336499650999"
        ],
        [
         "product_description_length",
         "1.8512336499650999"
        ],
        [
         "product_photos_qty",
         "1.8512336499650999"
        ],
        [
         "product_weight_g",
         "0.006069618524475737"
        ],
        [
         "product_length_cm",
         "0.006069618524475737"
        ],
        [
         "product_height_cm",
         "0.006069618524475737"
        ],
        [
         "product_width_cm",
         "0.006069618524475737"
        ]
       ],
       "shape": {
        "columns": 1,
        "rows": 9
       }
      },
      "text/plain": [
       "product_id                    0.000000\n",
       "product_category_name         1.851234\n",
       "product_name_length           1.851234\n",
       "product_description_length    1.851234\n",
       "product_photos_qty            1.851234\n",
       "product_weight_g              0.006070\n",
       "product_length_cm             0.006070\n",
       "product_height_cm             0.006070\n",
       "product_width_cm              0.006070\n",
       "dtype: float64"
      ]
     },
     "execution_count": 43,
     "metadata": {},
     "output_type": "execute_result"
    }
   ],
   "source": [
    "df_products.isna().mean()*100"
   ]
  },
  {
   "cell_type": "code",
   "execution_count": 44,
   "id": "e43b4696",
   "metadata": {},
   "outputs": [
    {
     "data": {
      "application/vnd.microsoft.datawrangler.viewer.v0+json": {
       "columns": [
        {
         "name": "index",
         "rawType": "object",
         "type": "string"
        },
        {
         "name": "product_weight_g",
         "rawType": "float64",
         "type": "float"
        }
       ],
       "ref": "581515a2-f122-4368-b928-05c01a3d635a",
       "rows": [
        [
         "count",
         "32949.0"
        ],
        [
         "mean",
         "2276.0"
        ],
        [
         "std",
         "4282.0"
        ],
        [
         "min",
         "0.0"
        ],
        [
         "25%",
         "300.0"
        ],
        [
         "50%",
         "700.0"
        ],
        [
         "75%",
         "1900.0"
        ],
        [
         "max",
         "40425.0"
        ]
       ],
       "shape": {
        "columns": 1,
        "rows": 8
       }
      },
      "text/plain": [
       "count    32949.0\n",
       "mean      2276.0\n",
       "std       4282.0\n",
       "min          0.0\n",
       "25%        300.0\n",
       "50%        700.0\n",
       "75%       1900.0\n",
       "max      40425.0\n",
       "Name: product_weight_g, dtype: float64"
      ]
     },
     "execution_count": 44,
     "metadata": {},
     "output_type": "execute_result"
    }
   ],
   "source": [
    "df_products[\"product_weight_g\"].describe().round()"
   ]
  },
  {
   "cell_type": "markdown",
   "id": "d2589934",
   "metadata": {},
   "source": [
    "#### Product category translation"
   ]
  },
  {
   "cell_type": "code",
   "execution_count": 45,
   "id": "0e08b213",
   "metadata": {},
   "outputs": [
    {
     "data": {
      "application/vnd.microsoft.datawrangler.viewer.v0+json": {
       "columns": [
        {
         "name": "index",
         "rawType": "object",
         "type": "string"
        },
        {
         "name": "0",
         "rawType": "int64",
         "type": "integer"
        }
       ],
       "ref": "1944fad6-22b9-4559-8cef-3fb160d54685",
       "rows": [
        [
         "product_category_name",
         "0"
        ],
        [
         "product_category_name_english",
         "0"
        ]
       ],
       "shape": {
        "columns": 1,
        "rows": 2
       }
      },
      "text/plain": [
       "product_category_name            0\n",
       "product_category_name_english    0\n",
       "dtype: int64"
      ]
     },
     "execution_count": 45,
     "metadata": {},
     "output_type": "execute_result"
    }
   ],
   "source": [
    "df_product_category_translations.isna().sum()"
   ]
  },
  {
   "cell_type": "markdown",
   "id": "50c41012",
   "metadata": {},
   "source": [
    "% of NaN values"
   ]
  },
  {
   "cell_type": "code",
   "execution_count": 46,
   "id": "1d720f53",
   "metadata": {},
   "outputs": [
    {
     "data": {
      "application/vnd.microsoft.datawrangler.viewer.v0+json": {
       "columns": [
        {
         "name": "index",
         "rawType": "object",
         "type": "string"
        },
        {
         "name": "0",
         "rawType": "float64",
         "type": "float"
        }
       ],
       "ref": "174115ef-b788-4b56-b66d-518e25d4b9f7",
       "rows": [
        [
         "product_category_name",
         "0.0"
        ],
        [
         "product_category_name_english",
         "0.0"
        ]
       ],
       "shape": {
        "columns": 1,
        "rows": 2
       }
      },
      "text/plain": [
       "product_category_name            0.0\n",
       "product_category_name_english    0.0\n",
       "dtype: float64"
      ]
     },
     "execution_count": 46,
     "metadata": {},
     "output_type": "execute_result"
    }
   ],
   "source": [
    "df_product_category_translations.isna().mean()*100"
   ]
  },
  {
   "cell_type": "markdown",
   "id": "34d22295",
   "metadata": {},
   "source": [
    "#### Order reviews table"
   ]
  },
  {
   "cell_type": "code",
   "execution_count": 47,
   "id": "a54931f2",
   "metadata": {},
   "outputs": [
    {
     "data": {
      "application/vnd.microsoft.datawrangler.viewer.v0+json": {
       "columns": [
        {
         "name": "index",
         "rawType": "object",
         "type": "string"
        },
        {
         "name": "0",
         "rawType": "int64",
         "type": "integer"
        }
       ],
       "ref": "41f547df-3745-4469-a125-43eec96875f1",
       "rows": [
        [
         "order_id",
         "2793"
        ],
        [
         "review_score",
         "3073"
        ],
        [
         "review_comment_title",
         "92714"
        ],
        [
         "review_comment_message",
         "63674"
        ],
        [
         "review_creation_date",
         "9324"
        ],
        [
         "review_answer_timestamp",
         "9341"
        ]
       ],
       "shape": {
        "columns": 1,
        "rows": 6
       }
      },
      "text/plain": [
       "order_id                    2793\n",
       "review_score                3073\n",
       "review_comment_title       92714\n",
       "review_comment_message     63674\n",
       "review_creation_date        9324\n",
       "review_answer_timestamp     9341\n",
       "dtype: int64"
      ]
     },
     "execution_count": 47,
     "metadata": {},
     "output_type": "execute_result"
    }
   ],
   "source": [
    "df_order_reviews.isna().sum()"
   ]
  },
  {
   "cell_type": "markdown",
   "id": "d9a11f04",
   "metadata": {},
   "source": [
    "% of NaN values"
   ]
  },
  {
   "cell_type": "code",
   "execution_count": 48,
   "id": "d6d8e12d",
   "metadata": {},
   "outputs": [
    {
     "data": {
      "application/vnd.microsoft.datawrangler.viewer.v0+json": {
       "columns": [
        {
         "name": "index",
         "rawType": "object",
         "type": "string"
        },
        {
         "name": "0",
         "rawType": "float64",
         "type": "float"
        }
       ],
       "ref": "79595814-fae2-4186-8086-4b31d47f1919",
       "rows": [
        [
         "order_id",
         "2.6671377686952704"
        ],
        [
         "review_score",
         "2.934520001145924"
        ],
        [
         "review_comment_title",
         "88.53598678367823"
        ],
        [
         "review_comment_message",
         "60.80462953236757"
        ],
        [
         "review_creation_date",
         "8.903828340606767"
        ],
        [
         "review_answer_timestamp",
         "8.920062261862698"
        ]
       ],
       "shape": {
        "columns": 1,
        "rows": 6
       }
      },
      "text/plain": [
       "order_id                    2.667138\n",
       "review_score                2.934520\n",
       "review_comment_title       88.535987\n",
       "review_comment_message     60.804630\n",
       "review_creation_date        8.903828\n",
       "review_answer_timestamp     8.920062\n",
       "dtype: float64"
      ]
     },
     "execution_count": 48,
     "metadata": {},
     "output_type": "execute_result"
    }
   ],
   "source": [
    "df_order_reviews.isna().mean()*100"
   ]
  },
  {
   "cell_type": "code",
   "execution_count": 50,
   "id": "a6e95714",
   "metadata": {},
   "outputs": [
    {
     "data": {
      "application/vnd.microsoft.datawrangler.viewer.v0+json": {
       "columns": [
        {
         "name": "index",
         "rawType": "int64",
         "type": "integer"
        },
        {
         "name": "order_id",
         "rawType": "object",
         "type": "string"
        },
        {
         "name": "review_score",
         "rawType": "float64",
         "type": "float"
        },
        {
         "name": "review_comment_title",
         "rawType": "object",
         "type": "unknown"
        },
        {
         "name": "review_comment_message",
         "rawType": "object",
         "type": "unknown"
        },
        {
         "name": "review_creation_date",
         "rawType": "datetime64[ns]",
         "type": "datetime"
        },
        {
         "name": "review_answer_timestamp",
         "rawType": "datetime64[ns]",
         "type": "datetime"
        }
       ],
       "ref": "69e0fad4-416d-4b19-9ccb-5791cbd0b290",
       "rows": [
        [
         "0",
         "73fc7af87114b39712e6da79b0a377eb",
         "4.0",
         null,
         null,
         "2018-01-18 00:00:00",
         "2018-01-18 21:46:59"
        ],
        [
         "1",
         "a548910a1c6147796b98fdf73dbeba33",
         "5.0",
         null,
         null,
         "2018-03-10 00:00:00",
         "2018-03-11 03:05:13"
        ],
        [
         "2",
         "f9e4b658b201a9f2ecdecbb34bed034b",
         "5.0",
         null,
         null,
         "2018-02-17 00:00:00",
         "2018-02-18 14:36:24"
        ],
        [
         "3",
         "658677c97b385a9be170737859d3511b",
         "5.0",
         null,
         "Recebi bem antes do prazo estipulado.",
         "2017-04-21 00:00:00",
         "2017-04-21 22:02:06"
        ],
        [
         "4",
         "8e6bfb81e283fa7e4f11123a3fb894f1",
         "5.0",
         null,
         "ParabĂ©ns lojas lannister adorei comprar pela Internet seguro e prĂˇtico ParabĂ©ns a todos feliz PĂˇscoa",
         "2018-03-01 00:00:00",
         "2018-03-02 10:26:53"
        ]
       ],
       "shape": {
        "columns": 6,
        "rows": 5
       }
      },
      "text/html": [
       "<div>\n",
       "<style scoped>\n",
       "    .dataframe tbody tr th:only-of-type {\n",
       "        vertical-align: middle;\n",
       "    }\n",
       "\n",
       "    .dataframe tbody tr th {\n",
       "        vertical-align: top;\n",
       "    }\n",
       "\n",
       "    .dataframe thead th {\n",
       "        text-align: right;\n",
       "    }\n",
       "</style>\n",
       "<table border=\"1\" class=\"dataframe\">\n",
       "  <thead>\n",
       "    <tr style=\"text-align: right;\">\n",
       "      <th></th>\n",
       "      <th>order_id</th>\n",
       "      <th>review_score</th>\n",
       "      <th>review_comment_title</th>\n",
       "      <th>review_comment_message</th>\n",
       "      <th>review_creation_date</th>\n",
       "      <th>review_answer_timestamp</th>\n",
       "    </tr>\n",
       "  </thead>\n",
       "  <tbody>\n",
       "    <tr>\n",
       "      <th>0</th>\n",
       "      <td>73fc7af87114b39712e6da79b0a377eb</td>\n",
       "      <td>4.0</td>\n",
       "      <td>None</td>\n",
       "      <td>None</td>\n",
       "      <td>2018-01-18</td>\n",
       "      <td>2018-01-18 21:46:59</td>\n",
       "    </tr>\n",
       "    <tr>\n",
       "      <th>1</th>\n",
       "      <td>a548910a1c6147796b98fdf73dbeba33</td>\n",
       "      <td>5.0</td>\n",
       "      <td>None</td>\n",
       "      <td>None</td>\n",
       "      <td>2018-03-10</td>\n",
       "      <td>2018-03-11 03:05:13</td>\n",
       "    </tr>\n",
       "    <tr>\n",
       "      <th>2</th>\n",
       "      <td>f9e4b658b201a9f2ecdecbb34bed034b</td>\n",
       "      <td>5.0</td>\n",
       "      <td>None</td>\n",
       "      <td>None</td>\n",
       "      <td>2018-02-17</td>\n",
       "      <td>2018-02-18 14:36:24</td>\n",
       "    </tr>\n",
       "    <tr>\n",
       "      <th>3</th>\n",
       "      <td>658677c97b385a9be170737859d3511b</td>\n",
       "      <td>5.0</td>\n",
       "      <td>None</td>\n",
       "      <td>Recebi bem antes do prazo estipulado.</td>\n",
       "      <td>2017-04-21</td>\n",
       "      <td>2017-04-21 22:02:06</td>\n",
       "    </tr>\n",
       "    <tr>\n",
       "      <th>4</th>\n",
       "      <td>8e6bfb81e283fa7e4f11123a3fb894f1</td>\n",
       "      <td>5.0</td>\n",
       "      <td>None</td>\n",
       "      <td>ParabĂ©ns lojas lannister adorei comprar pela ...</td>\n",
       "      <td>2018-03-01</td>\n",
       "      <td>2018-03-02 10:26:53</td>\n",
       "    </tr>\n",
       "  </tbody>\n",
       "</table>\n",
       "</div>"
      ],
      "text/plain": [
       "                           order_id  review_score review_comment_title  \\\n",
       "0  73fc7af87114b39712e6da79b0a377eb           4.0                 None   \n",
       "1  a548910a1c6147796b98fdf73dbeba33           5.0                 None   \n",
       "2  f9e4b658b201a9f2ecdecbb34bed034b           5.0                 None   \n",
       "3  658677c97b385a9be170737859d3511b           5.0                 None   \n",
       "4  8e6bfb81e283fa7e4f11123a3fb894f1           5.0                 None   \n",
       "\n",
       "                              review_comment_message review_creation_date  \\\n",
       "0                                               None           2018-01-18   \n",
       "1                                               None           2018-03-10   \n",
       "2                                               None           2018-02-17   \n",
       "3              Recebi bem antes do prazo estipulado.           2017-04-21   \n",
       "4  ParabĂ©ns lojas lannister adorei comprar pela ...           2018-03-01   \n",
       "\n",
       "  review_answer_timestamp  \n",
       "0     2018-01-18 21:46:59  \n",
       "1     2018-03-11 03:05:13  \n",
       "2     2018-02-18 14:36:24  \n",
       "3     2017-04-21 22:02:06  \n",
       "4     2018-03-02 10:26:53  "
      ]
     },
     "execution_count": 50,
     "metadata": {},
     "output_type": "execute_result"
    }
   ],
   "source": [
    "df_order_reviews.head()"
   ]
  },
  {
   "cell_type": "code",
   "execution_count": 53,
   "id": "4b1fec98",
   "metadata": {},
   "outputs": [
    {
     "data": {
      "application/vnd.microsoft.datawrangler.viewer.v0+json": {
       "columns": [
        {
         "name": "review_score",
         "rawType": "float64",
         "type": "float"
        },
        {
         "name": "count",
         "rawType": "int64",
         "type": "integer"
        }
       ],
       "ref": "1cea5e47-977c-4b72-9d67-b8be055353a4",
       "rows": [
        [
         "5.0",
         "57328"
        ],
        [
         "4.0",
         "19142"
        ],
        [
         "1.0",
         "11424"
        ],
        [
         "3.0",
         "8179"
        ],
        [
         "2.0",
         "3151"
        ],
        [
         "43089.0",
         "15"
        ],
        [
         "43331.0",
         "15"
        ],
        [
         "43179.0",
         "14"
        ],
        [
         "43231.0",
         "14"
        ],
        [
         "43315.0",
         "14"
        ],
        [
         "43098.0",
         "14"
        ],
        [
         "43182.0",
         "14"
        ],
        [
         "43169.0",
         "14"
        ],
        [
         "43237.0",
         "13"
        ],
        [
         "42997.0",
         "13"
        ],
        [
         "43328.0",
         "13"
        ],
        [
         "43090.0",
         "12"
        ],
        [
         "43057.0",
         "11"
        ],
        [
         "43309.0",
         "11"
        ],
        [
         "43158.0",
         "11"
        ],
        [
         "43341.0",
         "11"
        ],
        [
         "43241.0",
         "11"
        ],
        [
         "43083.0",
         "11"
        ],
        [
         "43208.0",
         "11"
        ],
        [
         "43183.0",
         "11"
        ],
        [
         "43082.0",
         "11"
        ],
        [
         "43342.0",
         "11"
        ],
        [
         "43068.0",
         "11"
        ],
        [
         "43132.0",
         "11"
        ],
        [
         "43194.0",
         "11"
        ],
        [
         "43236.0",
         "10"
        ],
        [
         "43334.0",
         "10"
        ],
        [
         "43204.0",
         "10"
        ],
        [
         "43159.0",
         "10"
        ],
        [
         "43196.0",
         "10"
        ],
        [
         "43298.0",
         "10"
        ],
        [
         "43235.0",
         "9"
        ],
        [
         "43258.0",
         "9"
        ],
        [
         "43274.0",
         "9"
        ],
        [
         "43270.0",
         "9"
        ],
        [
         "43281.0",
         "9"
        ],
        [
         "43138.0",
         "9"
        ],
        [
         "43133.0",
         "9"
        ],
        [
         "43153.0",
         "9"
        ],
        [
         "43128.0",
         "9"
        ],
        [
         "43307.0",
         "9"
        ],
        [
         "43234.0",
         "9"
        ],
        [
         "43091.0",
         "9"
        ],
        [
         "43203.0",
         "9"
        ],
        [
         "43186.0",
         "9"
        ]
       ],
       "shape": {
        "columns": 1,
        "rows": 573
       }
      },
      "text/plain": [
       "review_score\n",
       "5.0        57328\n",
       "4.0        19142\n",
       "1.0        11424\n",
       "3.0         8179\n",
       "2.0         3151\n",
       "           ...  \n",
       "42753.0        1\n",
       "43302.0        1\n",
       "43301.0        1\n",
       "42944.0        1\n",
       "42816.0        1\n",
       "Name: count, Length: 573, dtype: int64"
      ]
     },
     "execution_count": 53,
     "metadata": {},
     "output_type": "execute_result"
    }
   ],
   "source": [
    "df_order_reviews[\"review_score\"].value_counts()"
   ]
  },
  {
   "cell_type": "code",
   "execution_count": 56,
   "id": "94f547f1",
   "metadata": {},
   "outputs": [
    {
     "data": {
      "application/vnd.microsoft.datawrangler.viewer.v0+json": {
       "columns": [
        {
         "name": "review_score",
         "rawType": "float64",
         "type": "float"
        },
        {
         "name": "count",
         "rawType": "int64",
         "type": "integer"
        }
       ],
       "ref": "bbdc7600-423e-47ba-9bb8-fd514a257130",
       "rows": [
        [
         "5.0",
         "57328"
        ],
        [
         "4.0",
         "19142"
        ],
        [
         "1.0",
         "11424"
        ],
        [
         "3.0",
         "8179"
        ],
        [
         "2.0",
         "3151"
        ],
        [
         "43089.0",
         "15"
        ],
        [
         "43331.0",
         "15"
        ],
        [
         "43179.0",
         "14"
        ],
        [
         "43231.0",
         "14"
        ],
        [
         "43315.0",
         "14"
        ]
       ],
       "shape": {
        "columns": 1,
        "rows": 10
       }
      },
      "text/plain": [
       "review_score\n",
       "5.0        57328\n",
       "4.0        19142\n",
       "1.0        11424\n",
       "3.0         8179\n",
       "2.0         3151\n",
       "43089.0       15\n",
       "43331.0       15\n",
       "43179.0       14\n",
       "43231.0       14\n",
       "43315.0       14\n",
       "Name: count, dtype: int64"
      ]
     },
     "execution_count": 56,
     "metadata": {},
     "output_type": "execute_result"
    }
   ],
   "source": [
    "df_order_reviews[\"review_score\"].value_counts().head(10)"
   ]
  }
 ],
 "metadata": {
  "kernelspec": {
   "display_name": "Python 3",
   "language": "python",
   "name": "python3"
  },
  "language_info": {
   "codemirror_mode": {
    "name": "ipython",
    "version": 3
   },
   "file_extension": ".py",
   "mimetype": "text/x-python",
   "name": "python",
   "nbconvert_exporter": "python",
   "pygments_lexer": "ipython3",
   "version": "3.13.7"
  }
 },
 "nbformat": 4,
 "nbformat_minor": 5
}
