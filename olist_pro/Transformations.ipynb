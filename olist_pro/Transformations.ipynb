{
 "cells": [
  {
   "cell_type": "markdown",
   "id": "ab63d062",
   "metadata": {},
   "source": [
    "### Import od necessary libraries"
   ]
  },
  {
   "cell_type": "code",
   "execution_count": 1,
   "id": "47737e13",
   "metadata": {},
   "outputs": [],
   "source": [
    "import pyodbc as odbc\n",
    "import pandas as pd\n",
    "import sqlalchemy as sa"
   ]
  },
  {
   "cell_type": "markdown",
   "id": "8d8bb93e",
   "metadata": {},
   "source": [
    "### Creating connection with SQL Server Database using pyodbbc + SQLAlchemy"
   ]
  },
  {
   "cell_type": "code",
   "execution_count": 2,
   "id": "c3129b56",
   "metadata": {},
   "outputs": [],
   "source": [
    "DRIVER_NAME = 'SQL SERVER'\n",
    "SERVER_NAME = 'DESKTOP-6DMIBIJ'\n",
    "DATABASE_NAME = 'Olist'"
   ]
  },
  {
   "cell_type": "code",
   "execution_count": 3,
   "id": "876904bd",
   "metadata": {},
   "outputs": [],
   "source": [
    "connection_string = f\"mssql+pyodbc://@{SERVER_NAME}/{DATABASE_NAME}?driver=ODBC+Driver+17+for+SQL+Server&trusted_connection=yes\"\n"
   ]
  },
  {
   "cell_type": "code",
   "execution_count": 4,
   "id": "90a15775",
   "metadata": {},
   "outputs": [],
   "source": [
    "engine = sa.create_engine(connection_string)"
   ]
  },
  {
   "cell_type": "markdown",
   "id": "d2bd0b92",
   "metadata": {},
   "source": [
    "### First insight in Data "
   ]
  },
  {
   "cell_type": "code",
   "execution_count": 147,
   "id": "82de2ee6",
   "metadata": {},
   "outputs": [
    {
     "data": {
      "application/vnd.microsoft.datawrangler.viewer.v0+json": {
       "columns": [
        {
         "name": "index",
         "rawType": "int64",
         "type": "integer"
        },
        {
         "name": "customer_id",
         "rawType": "object",
         "type": "string"
        },
        {
         "name": "customer_unique_id",
         "rawType": "object",
         "type": "string"
        },
        {
         "name": "customer_zip_code_prefix",
         "rawType": "int64",
         "type": "integer"
        },
        {
         "name": "customer_city",
         "rawType": "object",
         "type": "unknown"
        },
        {
         "name": "customer_state",
         "rawType": "object",
         "type": "unknown"
        }
       ],
       "ref": "43099e3e-9c59-4a3b-8962-d0402daa8ce1",
       "rows": [
        [
         "0",
         "00012a2ce6f8dcda20d059ce98491703",
         "248ffe10d632bebe4f7267f1f44844c9",
         "6273",
         "osasco",
         "SP"
        ],
        [
         "1",
         "000161a058600d5901f007fab4c27140",
         "b0015e09bb4b6e47c52844fab5fb6638",
         "35550",
         "itapecerica",
         "MG"
        ],
        [
         "2",
         "0001fd6190edaaf884bcaf3d49edf079",
         "94b11d37cd61cb2994a194d11f89682b",
         "29830",
         null,
         null
        ],
        [
         "3",
         "0002414f95344307404f0ace7a26f1d5",
         "4893ad4ea28b2c5b3ddf4e82e79db9e6",
         "39664",
         "mendonca",
         "MG"
        ],
        [
         "4",
         "000379cdec625522490c315e70c7a9fb",
         "0b83f73b19c2019e182fd552c048a22c",
         "4841",
         null,
         null
        ]
       ],
       "shape": {
        "columns": 5,
        "rows": 5
       }
      },
      "text/html": [
       "<div>\n",
       "<style scoped>\n",
       "    .dataframe tbody tr th:only-of-type {\n",
       "        vertical-align: middle;\n",
       "    }\n",
       "\n",
       "    .dataframe tbody tr th {\n",
       "        vertical-align: top;\n",
       "    }\n",
       "\n",
       "    .dataframe thead th {\n",
       "        text-align: right;\n",
       "    }\n",
       "</style>\n",
       "<table border=\"1\" class=\"dataframe\">\n",
       "  <thead>\n",
       "    <tr style=\"text-align: right;\">\n",
       "      <th></th>\n",
       "      <th>customer_id</th>\n",
       "      <th>customer_unique_id</th>\n",
       "      <th>customer_zip_code_prefix</th>\n",
       "      <th>customer_city</th>\n",
       "      <th>customer_state</th>\n",
       "    </tr>\n",
       "  </thead>\n",
       "  <tbody>\n",
       "    <tr>\n",
       "      <th>0</th>\n",
       "      <td>00012a2ce6f8dcda20d059ce98491703</td>\n",
       "      <td>248ffe10d632bebe4f7267f1f44844c9</td>\n",
       "      <td>6273</td>\n",
       "      <td>osasco</td>\n",
       "      <td>SP</td>\n",
       "    </tr>\n",
       "    <tr>\n",
       "      <th>1</th>\n",
       "      <td>000161a058600d5901f007fab4c27140</td>\n",
       "      <td>b0015e09bb4b6e47c52844fab5fb6638</td>\n",
       "      <td>35550</td>\n",
       "      <td>itapecerica</td>\n",
       "      <td>MG</td>\n",
       "    </tr>\n",
       "    <tr>\n",
       "      <th>2</th>\n",
       "      <td>0001fd6190edaaf884bcaf3d49edf079</td>\n",
       "      <td>94b11d37cd61cb2994a194d11f89682b</td>\n",
       "      <td>29830</td>\n",
       "      <td>None</td>\n",
       "      <td>None</td>\n",
       "    </tr>\n",
       "    <tr>\n",
       "      <th>3</th>\n",
       "      <td>0002414f95344307404f0ace7a26f1d5</td>\n",
       "      <td>4893ad4ea28b2c5b3ddf4e82e79db9e6</td>\n",
       "      <td>39664</td>\n",
       "      <td>mendonca</td>\n",
       "      <td>MG</td>\n",
       "    </tr>\n",
       "    <tr>\n",
       "      <th>4</th>\n",
       "      <td>000379cdec625522490c315e70c7a9fb</td>\n",
       "      <td>0b83f73b19c2019e182fd552c048a22c</td>\n",
       "      <td>4841</td>\n",
       "      <td>None</td>\n",
       "      <td>None</td>\n",
       "    </tr>\n",
       "  </tbody>\n",
       "</table>\n",
       "</div>"
      ],
      "text/plain": [
       "                        customer_id                customer_unique_id  \\\n",
       "0  00012a2ce6f8dcda20d059ce98491703  248ffe10d632bebe4f7267f1f44844c9   \n",
       "1  000161a058600d5901f007fab4c27140  b0015e09bb4b6e47c52844fab5fb6638   \n",
       "2  0001fd6190edaaf884bcaf3d49edf079  94b11d37cd61cb2994a194d11f89682b   \n",
       "3  0002414f95344307404f0ace7a26f1d5  4893ad4ea28b2c5b3ddf4e82e79db9e6   \n",
       "4  000379cdec625522490c315e70c7a9fb  0b83f73b19c2019e182fd552c048a22c   \n",
       "\n",
       "   customer_zip_code_prefix customer_city customer_state  \n",
       "0                      6273        osasco             SP  \n",
       "1                     35550   itapecerica             MG  \n",
       "2                     29830          None           None  \n",
       "3                     39664      mendonca             MG  \n",
       "4                      4841          None           None  "
      ]
     },
     "execution_count": 147,
     "metadata": {},
     "output_type": "execute_result"
    }
   ],
   "source": [
    "df_customers = pd.read_sql('SELECT* FROM dbo.customers', engine)\n",
    "df_customers.head()"
   ]
  },
  {
   "cell_type": "code",
   "execution_count": 87,
   "id": "7927f26d",
   "metadata": {},
   "outputs": [
    {
     "data": {
      "application/vnd.microsoft.datawrangler.viewer.v0+json": {
       "columns": [
        {
         "name": "index",
         "rawType": "int64",
         "type": "integer"
        },
        {
         "name": "geolocation_zip_code_prefix",
         "rawType": "int64",
         "type": "integer"
        },
        {
         "name": "geolocation_lat",
         "rawType": "float64",
         "type": "float"
        },
        {
         "name": "geolocation_lng",
         "rawType": "float64",
         "type": "float"
        },
        {
         "name": "geolocation_city",
         "rawType": "object",
         "type": "string"
        },
        {
         "name": "geolocation_state",
         "rawType": "object",
         "type": "string"
        }
       ],
       "ref": "05ac5619-dce1-4608-b007-3a378d5195ba",
       "rows": [
        [
         "0",
         "1037",
         "-23.54562128115268",
         "-46.63929204800168",
         "sao paulo",
         "SP"
        ],
        [
         "1",
         "1046",
         "-23.546081127035535",
         "-46.64482029837157",
         "sao paulo",
         "SP"
        ],
        [
         "2",
         "1046",
         "-23.54612896641469",
         "-46.64295148361138",
         "sao paulo",
         "SP"
        ],
        [
         "3",
         "1041",
         "-23.5443921648681",
         "-46.63949930627844",
         "sao paulo",
         "SP"
        ],
        [
         "4",
         "1035",
         "-23.541577961711493",
         "-46.64160722329613",
         "sao paulo",
         "SP"
        ]
       ],
       "shape": {
        "columns": 5,
        "rows": 5
       }
      },
      "text/html": [
       "<div>\n",
       "<style scoped>\n",
       "    .dataframe tbody tr th:only-of-type {\n",
       "        vertical-align: middle;\n",
       "    }\n",
       "\n",
       "    .dataframe tbody tr th {\n",
       "        vertical-align: top;\n",
       "    }\n",
       "\n",
       "    .dataframe thead th {\n",
       "        text-align: right;\n",
       "    }\n",
       "</style>\n",
       "<table border=\"1\" class=\"dataframe\">\n",
       "  <thead>\n",
       "    <tr style=\"text-align: right;\">\n",
       "      <th></th>\n",
       "      <th>geolocation_zip_code_prefix</th>\n",
       "      <th>geolocation_lat</th>\n",
       "      <th>geolocation_lng</th>\n",
       "      <th>geolocation_city</th>\n",
       "      <th>geolocation_state</th>\n",
       "    </tr>\n",
       "  </thead>\n",
       "  <tbody>\n",
       "    <tr>\n",
       "      <th>0</th>\n",
       "      <td>1037</td>\n",
       "      <td>-23.545621</td>\n",
       "      <td>-46.639292</td>\n",
       "      <td>sao paulo</td>\n",
       "      <td>SP</td>\n",
       "    </tr>\n",
       "    <tr>\n",
       "      <th>1</th>\n",
       "      <td>1046</td>\n",
       "      <td>-23.546081</td>\n",
       "      <td>-46.644820</td>\n",
       "      <td>sao paulo</td>\n",
       "      <td>SP</td>\n",
       "    </tr>\n",
       "    <tr>\n",
       "      <th>2</th>\n",
       "      <td>1046</td>\n",
       "      <td>-23.546129</td>\n",
       "      <td>-46.642951</td>\n",
       "      <td>sao paulo</td>\n",
       "      <td>SP</td>\n",
       "    </tr>\n",
       "    <tr>\n",
       "      <th>3</th>\n",
       "      <td>1041</td>\n",
       "      <td>-23.544392</td>\n",
       "      <td>-46.639499</td>\n",
       "      <td>sao paulo</td>\n",
       "      <td>SP</td>\n",
       "    </tr>\n",
       "    <tr>\n",
       "      <th>4</th>\n",
       "      <td>1035</td>\n",
       "      <td>-23.541578</td>\n",
       "      <td>-46.641607</td>\n",
       "      <td>sao paulo</td>\n",
       "      <td>SP</td>\n",
       "    </tr>\n",
       "  </tbody>\n",
       "</table>\n",
       "</div>"
      ],
      "text/plain": [
       "   geolocation_zip_code_prefix  geolocation_lat  geolocation_lng  \\\n",
       "0                         1037       -23.545621       -46.639292   \n",
       "1                         1046       -23.546081       -46.644820   \n",
       "2                         1046       -23.546129       -46.642951   \n",
       "3                         1041       -23.544392       -46.639499   \n",
       "4                         1035       -23.541578       -46.641607   \n",
       "\n",
       "  geolocation_city geolocation_state  \n",
       "0        sao paulo                SP  \n",
       "1        sao paulo                SP  \n",
       "2        sao paulo                SP  \n",
       "3        sao paulo                SP  \n",
       "4        sao paulo                SP  "
      ]
     },
     "execution_count": 87,
     "metadata": {},
     "output_type": "execute_result"
    }
   ],
   "source": [
    "df_geolocation = pd.read_sql('SELECT * FROM dbo.geolocation', engine)\n",
    "df_geolocation.head()"
   ]
  },
  {
   "cell_type": "code",
   "execution_count": 45,
   "id": "5efd9bbe",
   "metadata": {},
   "outputs": [
    {
     "name": "stdout",
     "output_type": "stream",
     "text": [
      "Number of rows in Customers table: 99441\n",
      "Number of rows in Geolocation table: 1000163\n"
     ]
    }
   ],
   "source": [
    "print(f\"Number of rows in Customers table: {len(df_customers)}\")\n",
    "print(f\"Number of rows in Geolocation table: {len(df_geolocation)}\")"
   ]
  },
  {
   "cell_type": "code",
   "execution_count": 46,
   "id": "3359bfa0",
   "metadata": {},
   "outputs": [
    {
     "data": {
      "application/vnd.microsoft.datawrangler.viewer.v0+json": {
       "columns": [
        {
         "name": "index",
         "rawType": "object",
         "type": "string"
        },
        {
         "name": "0",
         "rawType": "object",
         "type": "unknown"
        }
       ],
       "ref": "17cb65b1-e63f-4775-9c26-bb498445c78b",
       "rows": [
        [
         "customer_id",
         "object"
        ],
        [
         "customer_unique_id",
         "object"
        ],
        [
         "customer_zip_code_prefix",
         "int64"
        ],
        [
         "customer_city",
         "object"
        ],
        [
         "customer_state",
         "object"
        ]
       ],
       "shape": {
        "columns": 1,
        "rows": 5
       }
      },
      "text/plain": [
       "customer_id                 object\n",
       "customer_unique_id          object\n",
       "customer_zip_code_prefix     int64\n",
       "customer_city               object\n",
       "customer_state              object\n",
       "dtype: object"
      ]
     },
     "execution_count": 46,
     "metadata": {},
     "output_type": "execute_result"
    }
   ],
   "source": [
    "df_customers.dtypes"
   ]
  },
  {
   "cell_type": "code",
   "execution_count": 9,
   "id": "3e140c1f",
   "metadata": {},
   "outputs": [
    {
     "data": {
      "application/vnd.microsoft.datawrangler.viewer.v0+json": {
       "columns": [
        {
         "name": "index",
         "rawType": "object",
         "type": "string"
        },
        {
         "name": "0",
         "rawType": "object",
         "type": "unknown"
        }
       ],
       "ref": "d5a0cbe0-eb7f-4c9a-a15b-0b1444607c9c",
       "rows": [
        [
         "geolocation_zip_code_prefix",
         "int64"
        ],
        [
         "geolocation_lat",
         "float64"
        ],
        [
         "geolocation_lng",
         "float64"
        ],
        [
         "geolocation_city",
         "object"
        ],
        [
         "geolocation_state",
         "object"
        ]
       ],
       "shape": {
        "columns": 1,
        "rows": 5
       }
      },
      "text/plain": [
       "geolocation_zip_code_prefix      int64\n",
       "geolocation_lat                float64\n",
       "geolocation_lng                float64\n",
       "geolocation_city                object\n",
       "geolocation_state               object\n",
       "dtype: object"
      ]
     },
     "execution_count": 9,
     "metadata": {},
     "output_type": "execute_result"
    }
   ],
   "source": [
    "df_geolocation.dtypes"
   ]
  },
  {
   "cell_type": "code",
   "execution_count": 47,
   "id": "0de3050c",
   "metadata": {},
   "outputs": [
    {
     "data": {
      "application/vnd.microsoft.datawrangler.viewer.v0+json": {
       "columns": [
        {
         "name": "index",
         "rawType": "object",
         "type": "string"
        },
        {
         "name": "0",
         "rawType": "int64",
         "type": "integer"
        }
       ],
       "ref": "33af22dc-68e5-46ae-b90c-ac8e13cb1701",
       "rows": [
        [
         "customer_id",
         "0"
        ],
        [
         "customer_unique_id",
         "0"
        ],
        [
         "customer_zip_code_prefix",
         "0"
        ],
        [
         "customer_city",
         "31474"
        ],
        [
         "customer_state",
         "31474"
        ]
       ],
       "shape": {
        "columns": 1,
        "rows": 5
       }
      },
      "text/plain": [
       "customer_id                     0\n",
       "customer_unique_id              0\n",
       "customer_zip_code_prefix        0\n",
       "customer_city               31474\n",
       "customer_state              31474\n",
       "dtype: int64"
      ]
     },
     "execution_count": 47,
     "metadata": {},
     "output_type": "execute_result"
    }
   ],
   "source": [
    "df_customers.isna().sum()"
   ]
  },
  {
   "cell_type": "code",
   "execution_count": 30,
   "id": "f2a429f7",
   "metadata": {},
   "outputs": [
    {
     "data": {
      "application/vnd.microsoft.datawrangler.viewer.v0+json": {
       "columns": [
        {
         "name": "geolocation_city",
         "rawType": "object",
         "type": "string"
        },
        {
         "name": "count",
         "rawType": "int64",
         "type": "integer"
        }
       ],
       "ref": "271d70cc-2ee7-4fec-acbf-70ebe5bf671c",
       "rows": [
        [
         "sao paulo",
         "160718"
        ],
        [
         "rio de janeiro",
         "62151"
        ],
        [
         "belo horizonte",
         "27805"
        ],
        [
         "curitiba",
         "16593"
        ],
        [
         "porto alegre",
         "13521"
        ],
        [
         "salvador",
         "11865"
        ],
        [
         "guarulhos",
         "11340"
        ],
        [
         "brasilia",
         "10470"
        ],
        [
         "sao bernardo do campo",
         "9629"
        ],
        [
         "osasco",
         "7658"
        ],
        [
         "santo andre",
         "6863"
        ],
        [
         "niteroi",
         "6534"
        ],
        [
         "recife",
         "6168"
        ],
        [
         "goiania",
         "5661"
        ],
        [
         "fortaleza",
         "5538"
        ],
        [
         "campinas",
         "5479"
        ],
        [
         "sorocaba",
         "5361"
        ],
        [
         "ribeirao preto",
         "5010"
        ],
        [
         "santos",
         "5000"
        ],
        [
         "barueri",
         "4971"
        ],
        [
         "juiz de fora",
         "4679"
        ],
        [
         "contagem",
         "4395"
        ],
        [
         "campo grande",
         "4332"
        ],
        [
         "florianopolis",
         "4148"
        ],
        [
         "nova iguacu",
         "4022"
        ],
        [
         "mogi das cruzes",
         "3913"
        ],
        [
         "belem",
         "3789"
        ],
        [
         "sao jose dos campos",
         "3759"
        ],
        [
         "sao goncalo",
         "3601"
        ],
        [
         "uberlandia",
         "3520"
        ],
        [
         "vitoria",
         "3478"
        ],
        [
         "duque de caxias",
         "3444"
        ],
        [
         "bauru",
         "3270"
        ],
        [
         "sao jose do rio preto",
         "3190"
        ],
        [
         "londrina",
         "3144"
        ],
        [
         "carapicuiba",
         "3041"
        ],
        [
         "diadema",
         "2986"
        ],
        [
         "praia grande",
         "2952"
        ],
        [
         "sao caetano do sul",
         "2938"
        ],
        [
         "joinville",
         "2922"
        ],
        [
         "campos dos goytacazes",
         "2840"
        ],
        [
         "maua",
         "2651"
        ],
        [
         "maringa",
         "2514"
        ],
        [
         "sao luis",
         "2506"
        ],
        [
         "blumenau",
         "2450"
        ],
        [
         "caxias do sul",
         "2407"
        ],
        [
         "sao carlos",
         "2332"
        ],
        [
         "cotia",
         "2317"
        ],
        [
         "volta redonda",
         "2300"
        ],
        [
         "taubate",
         "2298"
        ]
       ],
       "shape": {
        "columns": 1,
        "rows": 7560
       }
      },
      "text/plain": [
       "geolocation_city\n",
       "sao paulo                    160718\n",
       "rio de janeiro                62151\n",
       "belo horizonte                27805\n",
       "curitiba                      16593\n",
       "porto alegre                  13521\n",
       "                              ...  \n",
       "vitorinos - alto rio doce         1\n",
       "sao sebastiao dos torres          1\n",
       "sao sebastiao da vitória          1\n",
       "mantiqueira do palmital           1\n",
       "itapucá                           1\n",
       "Name: count, Length: 7560, dtype: int64"
      ]
     },
     "execution_count": 30,
     "metadata": {},
     "output_type": "execute_result"
    }
   ],
   "source": [
    "df_geolocation[\"geolocation_city\"].value_counts()"
   ]
  },
  {
   "cell_type": "code",
   "execution_count": 11,
   "id": "1aac23de",
   "metadata": {},
   "outputs": [
    {
     "data": {
      "application/vnd.microsoft.datawrangler.viewer.v0+json": {
       "columns": [
        {
         "name": "index",
         "rawType": "object",
         "type": "string"
        },
        {
         "name": "0",
         "rawType": "int64",
         "type": "integer"
        }
       ],
       "ref": "8e4c2f80-40a5-4451-b2a3-27b3b021b3d9",
       "rows": [
        [
         "geolocation_zip_code_prefix",
         "0"
        ],
        [
         "geolocation_lat",
         "0"
        ],
        [
         "geolocation_lng",
         "0"
        ],
        [
         "geolocation_city",
         "0"
        ],
        [
         "geolocation_state",
         "0"
        ]
       ],
       "shape": {
        "columns": 1,
        "rows": 5
       }
      },
      "text/plain": [
       "geolocation_zip_code_prefix    0\n",
       "geolocation_lat                0\n",
       "geolocation_lng                0\n",
       "geolocation_city               0\n",
       "geolocation_state              0\n",
       "dtype: int64"
      ]
     },
     "execution_count": 11,
     "metadata": {},
     "output_type": "execute_result"
    }
   ],
   "source": [
    "df_geolocation.isna().sum()"
   ]
  },
  {
   "cell_type": "markdown",
   "id": "c82b3a38",
   "metadata": {},
   "source": [
    "Trzeba zrobić transformacje na danych - żeby usunąć wszystkie hiszpańskie znaki, następnie sprawdze ile jest takich przypadków że jest inne miasto i stan dla tego samego zip code"
   ]
  },
  {
   "cell_type": "code",
   "execution_count": 88,
   "id": "ccaf68a4",
   "metadata": {},
   "outputs": [],
   "source": [
    "replace_dict = {\n",
    "    'á': 'a', 'é': 'e', 'í': 'i', 'ó': 'o', 'ú': 'u', 'ñ': 'n', 'ç': 'c',\n",
    "    'Á': 'A', 'É': 'E', 'Í': 'I', 'Ó': 'O', 'Ú': 'U', 'Ñ': 'N', 'Ç': 'C'\n",
    "}\n",
    "\n",
    "for old_val, new_val in replace_dict.items():\n",
    "    df_geolocation[\"geolocation_city\"] = df_geolocation[\"geolocation_city\"].str.replace(old_val, new_val)"
   ]
  },
  {
   "cell_type": "code",
   "execution_count": 89,
   "id": "f387c0bd",
   "metadata": {},
   "outputs": [],
   "source": [
    "df_geolocation[\"geolocation_city\"] = df_geolocation[\"geolocation_city\"].str.replace(r\"[-'']\", '', regex=True)\n",
    "# df_geolocation[\"geolocation_state\"] = df_geolocation[\"geolocation_state\"].str.replace(r\"[áéíóúñÁÉÍÓÚÑÇ-']\", '', regex=True)"
   ]
  },
  {
   "cell_type": "code",
   "execution_count": 50,
   "id": "cddd6853",
   "metadata": {},
   "outputs": [
    {
     "data": {
      "application/vnd.microsoft.datawrangler.viewer.v0+json": {
       "columns": [
        {
         "name": "index",
         "rawType": "int64",
         "type": "integer"
        },
        {
         "name": "geolocation_zip_code_prefix",
         "rawType": "int64",
         "type": "integer"
        },
        {
         "name": "geolocation_lat",
         "rawType": "float64",
         "type": "float"
        },
        {
         "name": "geolocation_lng",
         "rawType": "float64",
         "type": "float"
        },
        {
         "name": "geolocation_city",
         "rawType": "object",
         "type": "string"
        },
        {
         "name": "geolocation_state",
         "rawType": "object",
         "type": "string"
        }
       ],
       "ref": "37e880ff-340f-4cd3-8a48-f4fbee0cacc2",
       "rows": [
        [
         "812257",
         "88052",
         "-27.45347922814357",
         "-48.45176086940968",
         "florianopolis",
         "SC"
        ],
        [
         "812310",
         "88052",
         "-27.503649230365273",
         "-48.491332759218714",
         "florianopolis",
         "SC"
        ],
        [
         "822090",
         "88052",
         "-27.460366072162266",
         "-48.44984909241738",
         "florianopolis",
         "SC"
        ],
        [
         "822108",
         "88052",
         "-27.50667100320769",
         "-48.49203240760097",
         "florianopolis",
         "SC"
        ],
        [
         "822164",
         "88052",
         "-27.45347922814357",
         "-48.45176086940968",
         "florianopolis",
         "SC"
        ],
        [
         "822216",
         "88052",
         "-27.50677728005074",
         "-48.464763527612696",
         "florianopolis",
         "SC"
        ],
        [
         "822225",
         "88052",
         "-27.481913505554317",
         "-48.463107791606596",
         "florianopolis",
         "SC"
        ],
        [
         "822318",
         "88052",
         "-27.496083116565675",
         "-48.460492238467594",
         "florianopolis",
         "SC"
        ],
        [
         "822480",
         "88052",
         "-27.460937336112845",
         "-48.45118746211551",
         "florianopolis",
         "SC"
        ],
        [
         "822494",
         "88052",
         "-27.498236187056445",
         "-48.45909031112587",
         "florianopolis",
         "SC"
        ],
        [
         "832090",
         "88052",
         "-27.481916592453857",
         "-48.46374038673344",
         "florianopolis",
         "SC"
        ],
        [
         "832600",
         "88052",
         "-27.47758266388715",
         "-48.44756920552254",
         "florianopolis",
         "SC"
        ],
        [
         "832757",
         "88052",
         "-27.50667100320769",
         "-48.49203240760097",
         "florianopolis",
         "SC"
        ],
        [
         "833272",
         "88052",
         "-27.487826580904837",
         "-48.49354199529679",
         "florianopolis",
         "SC"
        ],
        [
         "833327",
         "88052",
         "-27.485302149863745",
         "-48.42755636148004",
         "florianopolis",
         "SC"
        ],
        [
         "833437",
         "88052",
         "-27.503649230365273",
         "-48.491332759218714",
         "florianopolis",
         "SC"
        ],
        [
         "833543",
         "88052",
         "-27.506201819495942",
         "-48.45677708573941",
         "florianopolis",
         "SC"
        ],
        [
         "833547",
         "88052",
         "-27.465406502077467",
         "-48.45316780711517",
         "florianopolis",
         "SC"
        ],
        [
         "833571",
         "88052",
         "-27.458659844018698",
         "-48.45023241520001",
         "florianopolis",
         "SC"
        ],
        [
         "833589",
         "88052",
         "-27.450554886033782",
         "-48.461957977754",
         "florianopolis",
         "SC"
        ],
        [
         "833620",
         "88052",
         "-27.480779825326223",
         "-48.440992226621226",
         "florianopolis",
         "SC"
        ],
        [
         "833767",
         "88052",
         "-27.454655871487162",
         "-48.45052836150384",
         "florianopolis",
         "SC"
        ],
        [
         "833796",
         "88052",
         "-27.47682100528012",
         "-48.460223409111826",
         "florianopolis",
         "SC"
        ],
        [
         "833971",
         "88052",
         "-27.45778416126142",
         "-48.4451264125743",
         "florianopolis",
         "SC"
        ],
        [
         "834145",
         "88052",
         "-27.46088747213306",
         "-48.45859801629726",
         "florianopolis",
         "SC"
        ],
        [
         "834163",
         "88052",
         "-27.460838168474783",
         "-48.446724719401004",
         "florianopolis",
         "SC"
        ],
        [
         "834248",
         "88052",
         "-27.511356347723396",
         "-48.48590460876898",
         "florianopolis",
         "SC"
        ],
        [
         "834337",
         "88052",
         "-27.4616304897299",
         "-48.44942144274787",
         "florianopolis",
         "SC"
        ],
        [
         "834360",
         "88052",
         "-27.455049838738578",
         "-48.448428003606665",
         "florianopolis",
         "SC"
        ],
        [
         "834361",
         "88052",
         "-27.507316358589648",
         "-48.492101864706484",
         "florianopolis",
         "SC"
        ],
        [
         "834367",
         "88052",
         "-27.482935385230746",
         "-48.42993002375381",
         "florianopolis",
         "SC"
        ],
        [
         "834570",
         "88052",
         "-27.45932640090543",
         "-48.44933831276019",
         "florianopolis",
         "SC"
        ],
        [
         "839436",
         "88052",
         "-27.483277515955933",
         "-48.462499141554574",
         "florianopolis",
         "SC"
        ],
        [
         "839498",
         "88052",
         "-27.456093481274102",
         "-48.45104011229709",
         "florianopolis",
         "SC"
        ],
        [
         "839623",
         "88052",
         "-27.49020605966879",
         "-48.49342556313124",
         "florianopolis",
         "SC"
        ],
        [
         "839692",
         "88052",
         "-27.46676715681802",
         "-48.464697499855774",
         "florianopolis",
         "SC"
        ],
        [
         "839740",
         "88052",
         "-27.50694094670785",
         "-48.47198072592187",
         "florianopolis",
         "SC"
        ],
        [
         "840121",
         "88052",
         "-27.46258765860703",
         "-48.44815168067979",
         "florianopolis",
         "SC"
        ],
        [
         "840297",
         "88052",
         "-27.501735635409915",
         "-48.45777783513447",
         "florianopolis",
         "SC"
        ],
        [
         "840302",
         "88052",
         "-27.46425878766813",
         "-48.44735767415893",
         "florianopolis",
         "SC"
        ],
        [
         "840332",
         "88052",
         "-27.477290180391343",
         "-48.45953696404876",
         "florianopolis",
         "SC"
        ],
        [
         "840353",
         "88052",
         "-27.48706183236194",
         "-48.49348297916798",
         "florianopolis",
         "SC"
        ],
        [
         "840371",
         "88052",
         "-27.465462180325478",
         "-48.46286652671148",
         "florianopolis",
         "SC"
        ],
        [
         "840376",
         "88052",
         "-27.45347922814357",
         "-48.45176086940968",
         "florianopolis",
         "SC"
        ],
        [
         "840395",
         "88052",
         "-27.46836",
         "-48.465098999999995",
         "florianopolis",
         "SC"
        ],
        [
         "840399",
         "88052",
         "-27.457173",
         "-48.45122550000001",
         "florianopolis",
         "SC"
        ],
        [
         "840416",
         "88052",
         "-27.45347922814357",
         "-48.45176086940968",
         "florianopolis",
         "SC"
        ],
        [
         "840417",
         "88052",
         "-27.461636780454768",
         "-48.448707841796995",
         "florianopolis",
         "SC"
        ],
        [
         "840440",
         "88052",
         "-27.452659798776626",
         "-48.44626719677996",
         "florianopolis",
         "SC"
        ],
        [
         "840607",
         "88052",
         "-27.488114580904842",
         "-48.49354102083201",
         "florianopolis",
         "SC"
        ]
       ],
       "shape": {
        "columns": 5,
        "rows": 52
       }
      },
      "text/html": [
       "<div>\n",
       "<style scoped>\n",
       "    .dataframe tbody tr th:only-of-type {\n",
       "        vertical-align: middle;\n",
       "    }\n",
       "\n",
       "    .dataframe tbody tr th {\n",
       "        vertical-align: top;\n",
       "    }\n",
       "\n",
       "    .dataframe thead th {\n",
       "        text-align: right;\n",
       "    }\n",
       "</style>\n",
       "<table border=\"1\" class=\"dataframe\">\n",
       "  <thead>\n",
       "    <tr style=\"text-align: right;\">\n",
       "      <th></th>\n",
       "      <th>geolocation_zip_code_prefix</th>\n",
       "      <th>geolocation_lat</th>\n",
       "      <th>geolocation_lng</th>\n",
       "      <th>geolocation_city</th>\n",
       "      <th>geolocation_state</th>\n",
       "    </tr>\n",
       "  </thead>\n",
       "  <tbody>\n",
       "    <tr>\n",
       "      <th>812257</th>\n",
       "      <td>88052</td>\n",
       "      <td>-27.453479</td>\n",
       "      <td>-48.451761</td>\n",
       "      <td>florianopolis</td>\n",
       "      <td>SC</td>\n",
       "    </tr>\n",
       "    <tr>\n",
       "      <th>812310</th>\n",
       "      <td>88052</td>\n",
       "      <td>-27.503649</td>\n",
       "      <td>-48.491333</td>\n",
       "      <td>florianopolis</td>\n",
       "      <td>SC</td>\n",
       "    </tr>\n",
       "    <tr>\n",
       "      <th>822090</th>\n",
       "      <td>88052</td>\n",
       "      <td>-27.460366</td>\n",
       "      <td>-48.449849</td>\n",
       "      <td>florianopolis</td>\n",
       "      <td>SC</td>\n",
       "    </tr>\n",
       "    <tr>\n",
       "      <th>822108</th>\n",
       "      <td>88052</td>\n",
       "      <td>-27.506671</td>\n",
       "      <td>-48.492032</td>\n",
       "      <td>florianopolis</td>\n",
       "      <td>SC</td>\n",
       "    </tr>\n",
       "    <tr>\n",
       "      <th>822164</th>\n",
       "      <td>88052</td>\n",
       "      <td>-27.453479</td>\n",
       "      <td>-48.451761</td>\n",
       "      <td>florianopolis</td>\n",
       "      <td>SC</td>\n",
       "    </tr>\n",
       "    <tr>\n",
       "      <th>822216</th>\n",
       "      <td>88052</td>\n",
       "      <td>-27.506777</td>\n",
       "      <td>-48.464764</td>\n",
       "      <td>florianopolis</td>\n",
       "      <td>SC</td>\n",
       "    </tr>\n",
       "    <tr>\n",
       "      <th>822225</th>\n",
       "      <td>88052</td>\n",
       "      <td>-27.481914</td>\n",
       "      <td>-48.463108</td>\n",
       "      <td>florianopolis</td>\n",
       "      <td>SC</td>\n",
       "    </tr>\n",
       "    <tr>\n",
       "      <th>822318</th>\n",
       "      <td>88052</td>\n",
       "      <td>-27.496083</td>\n",
       "      <td>-48.460492</td>\n",
       "      <td>florianopolis</td>\n",
       "      <td>SC</td>\n",
       "    </tr>\n",
       "    <tr>\n",
       "      <th>822480</th>\n",
       "      <td>88052</td>\n",
       "      <td>-27.460937</td>\n",
       "      <td>-48.451187</td>\n",
       "      <td>florianopolis</td>\n",
       "      <td>SC</td>\n",
       "    </tr>\n",
       "    <tr>\n",
       "      <th>822494</th>\n",
       "      <td>88052</td>\n",
       "      <td>-27.498236</td>\n",
       "      <td>-48.459090</td>\n",
       "      <td>florianopolis</td>\n",
       "      <td>SC</td>\n",
       "    </tr>\n",
       "    <tr>\n",
       "      <th>832090</th>\n",
       "      <td>88052</td>\n",
       "      <td>-27.481917</td>\n",
       "      <td>-48.463740</td>\n",
       "      <td>florianopolis</td>\n",
       "      <td>SC</td>\n",
       "    </tr>\n",
       "    <tr>\n",
       "      <th>832600</th>\n",
       "      <td>88052</td>\n",
       "      <td>-27.477583</td>\n",
       "      <td>-48.447569</td>\n",
       "      <td>florianopolis</td>\n",
       "      <td>SC</td>\n",
       "    </tr>\n",
       "    <tr>\n",
       "      <th>832757</th>\n",
       "      <td>88052</td>\n",
       "      <td>-27.506671</td>\n",
       "      <td>-48.492032</td>\n",
       "      <td>florianopolis</td>\n",
       "      <td>SC</td>\n",
       "    </tr>\n",
       "    <tr>\n",
       "      <th>833272</th>\n",
       "      <td>88052</td>\n",
       "      <td>-27.487827</td>\n",
       "      <td>-48.493542</td>\n",
       "      <td>florianopolis</td>\n",
       "      <td>SC</td>\n",
       "    </tr>\n",
       "    <tr>\n",
       "      <th>833327</th>\n",
       "      <td>88052</td>\n",
       "      <td>-27.485302</td>\n",
       "      <td>-48.427556</td>\n",
       "      <td>florianopolis</td>\n",
       "      <td>SC</td>\n",
       "    </tr>\n",
       "    <tr>\n",
       "      <th>833437</th>\n",
       "      <td>88052</td>\n",
       "      <td>-27.503649</td>\n",
       "      <td>-48.491333</td>\n",
       "      <td>florianopolis</td>\n",
       "      <td>SC</td>\n",
       "    </tr>\n",
       "    <tr>\n",
       "      <th>833543</th>\n",
       "      <td>88052</td>\n",
       "      <td>-27.506202</td>\n",
       "      <td>-48.456777</td>\n",
       "      <td>florianopolis</td>\n",
       "      <td>SC</td>\n",
       "    </tr>\n",
       "    <tr>\n",
       "      <th>833547</th>\n",
       "      <td>88052</td>\n",
       "      <td>-27.465407</td>\n",
       "      <td>-48.453168</td>\n",
       "      <td>florianopolis</td>\n",
       "      <td>SC</td>\n",
       "    </tr>\n",
       "    <tr>\n",
       "      <th>833571</th>\n",
       "      <td>88052</td>\n",
       "      <td>-27.458660</td>\n",
       "      <td>-48.450232</td>\n",
       "      <td>florianopolis</td>\n",
       "      <td>SC</td>\n",
       "    </tr>\n",
       "    <tr>\n",
       "      <th>833589</th>\n",
       "      <td>88052</td>\n",
       "      <td>-27.450555</td>\n",
       "      <td>-48.461958</td>\n",
       "      <td>florianopolis</td>\n",
       "      <td>SC</td>\n",
       "    </tr>\n",
       "    <tr>\n",
       "      <th>833620</th>\n",
       "      <td>88052</td>\n",
       "      <td>-27.480780</td>\n",
       "      <td>-48.440992</td>\n",
       "      <td>florianopolis</td>\n",
       "      <td>SC</td>\n",
       "    </tr>\n",
       "    <tr>\n",
       "      <th>833767</th>\n",
       "      <td>88052</td>\n",
       "      <td>-27.454656</td>\n",
       "      <td>-48.450528</td>\n",
       "      <td>florianopolis</td>\n",
       "      <td>SC</td>\n",
       "    </tr>\n",
       "    <tr>\n",
       "      <th>833796</th>\n",
       "      <td>88052</td>\n",
       "      <td>-27.476821</td>\n",
       "      <td>-48.460223</td>\n",
       "      <td>florianopolis</td>\n",
       "      <td>SC</td>\n",
       "    </tr>\n",
       "    <tr>\n",
       "      <th>833971</th>\n",
       "      <td>88052</td>\n",
       "      <td>-27.457784</td>\n",
       "      <td>-48.445126</td>\n",
       "      <td>florianopolis</td>\n",
       "      <td>SC</td>\n",
       "    </tr>\n",
       "    <tr>\n",
       "      <th>834145</th>\n",
       "      <td>88052</td>\n",
       "      <td>-27.460887</td>\n",
       "      <td>-48.458598</td>\n",
       "      <td>florianopolis</td>\n",
       "      <td>SC</td>\n",
       "    </tr>\n",
       "    <tr>\n",
       "      <th>834163</th>\n",
       "      <td>88052</td>\n",
       "      <td>-27.460838</td>\n",
       "      <td>-48.446725</td>\n",
       "      <td>florianopolis</td>\n",
       "      <td>SC</td>\n",
       "    </tr>\n",
       "    <tr>\n",
       "      <th>834248</th>\n",
       "      <td>88052</td>\n",
       "      <td>-27.511356</td>\n",
       "      <td>-48.485905</td>\n",
       "      <td>florianopolis</td>\n",
       "      <td>SC</td>\n",
       "    </tr>\n",
       "    <tr>\n",
       "      <th>834337</th>\n",
       "      <td>88052</td>\n",
       "      <td>-27.461630</td>\n",
       "      <td>-48.449421</td>\n",
       "      <td>florianopolis</td>\n",
       "      <td>SC</td>\n",
       "    </tr>\n",
       "    <tr>\n",
       "      <th>834360</th>\n",
       "      <td>88052</td>\n",
       "      <td>-27.455050</td>\n",
       "      <td>-48.448428</td>\n",
       "      <td>florianopolis</td>\n",
       "      <td>SC</td>\n",
       "    </tr>\n",
       "    <tr>\n",
       "      <th>834361</th>\n",
       "      <td>88052</td>\n",
       "      <td>-27.507316</td>\n",
       "      <td>-48.492102</td>\n",
       "      <td>florianopolis</td>\n",
       "      <td>SC</td>\n",
       "    </tr>\n",
       "    <tr>\n",
       "      <th>834367</th>\n",
       "      <td>88052</td>\n",
       "      <td>-27.482935</td>\n",
       "      <td>-48.429930</td>\n",
       "      <td>florianopolis</td>\n",
       "      <td>SC</td>\n",
       "    </tr>\n",
       "    <tr>\n",
       "      <th>834570</th>\n",
       "      <td>88052</td>\n",
       "      <td>-27.459326</td>\n",
       "      <td>-48.449338</td>\n",
       "      <td>florianopolis</td>\n",
       "      <td>SC</td>\n",
       "    </tr>\n",
       "    <tr>\n",
       "      <th>839436</th>\n",
       "      <td>88052</td>\n",
       "      <td>-27.483278</td>\n",
       "      <td>-48.462499</td>\n",
       "      <td>florianopolis</td>\n",
       "      <td>SC</td>\n",
       "    </tr>\n",
       "    <tr>\n",
       "      <th>839498</th>\n",
       "      <td>88052</td>\n",
       "      <td>-27.456093</td>\n",
       "      <td>-48.451040</td>\n",
       "      <td>florianopolis</td>\n",
       "      <td>SC</td>\n",
       "    </tr>\n",
       "    <tr>\n",
       "      <th>839623</th>\n",
       "      <td>88052</td>\n",
       "      <td>-27.490206</td>\n",
       "      <td>-48.493426</td>\n",
       "      <td>florianopolis</td>\n",
       "      <td>SC</td>\n",
       "    </tr>\n",
       "    <tr>\n",
       "      <th>839692</th>\n",
       "      <td>88052</td>\n",
       "      <td>-27.466767</td>\n",
       "      <td>-48.464697</td>\n",
       "      <td>florianopolis</td>\n",
       "      <td>SC</td>\n",
       "    </tr>\n",
       "    <tr>\n",
       "      <th>839740</th>\n",
       "      <td>88052</td>\n",
       "      <td>-27.506941</td>\n",
       "      <td>-48.471981</td>\n",
       "      <td>florianopolis</td>\n",
       "      <td>SC</td>\n",
       "    </tr>\n",
       "    <tr>\n",
       "      <th>840121</th>\n",
       "      <td>88052</td>\n",
       "      <td>-27.462588</td>\n",
       "      <td>-48.448152</td>\n",
       "      <td>florianopolis</td>\n",
       "      <td>SC</td>\n",
       "    </tr>\n",
       "    <tr>\n",
       "      <th>840297</th>\n",
       "      <td>88052</td>\n",
       "      <td>-27.501736</td>\n",
       "      <td>-48.457778</td>\n",
       "      <td>florianopolis</td>\n",
       "      <td>SC</td>\n",
       "    </tr>\n",
       "    <tr>\n",
       "      <th>840302</th>\n",
       "      <td>88052</td>\n",
       "      <td>-27.464259</td>\n",
       "      <td>-48.447358</td>\n",
       "      <td>florianopolis</td>\n",
       "      <td>SC</td>\n",
       "    </tr>\n",
       "    <tr>\n",
       "      <th>840332</th>\n",
       "      <td>88052</td>\n",
       "      <td>-27.477290</td>\n",
       "      <td>-48.459537</td>\n",
       "      <td>florianopolis</td>\n",
       "      <td>SC</td>\n",
       "    </tr>\n",
       "    <tr>\n",
       "      <th>840353</th>\n",
       "      <td>88052</td>\n",
       "      <td>-27.487062</td>\n",
       "      <td>-48.493483</td>\n",
       "      <td>florianopolis</td>\n",
       "      <td>SC</td>\n",
       "    </tr>\n",
       "    <tr>\n",
       "      <th>840371</th>\n",
       "      <td>88052</td>\n",
       "      <td>-27.465462</td>\n",
       "      <td>-48.462867</td>\n",
       "      <td>florianopolis</td>\n",
       "      <td>SC</td>\n",
       "    </tr>\n",
       "    <tr>\n",
       "      <th>840376</th>\n",
       "      <td>88052</td>\n",
       "      <td>-27.453479</td>\n",
       "      <td>-48.451761</td>\n",
       "      <td>florianopolis</td>\n",
       "      <td>SC</td>\n",
       "    </tr>\n",
       "    <tr>\n",
       "      <th>840395</th>\n",
       "      <td>88052</td>\n",
       "      <td>-27.468360</td>\n",
       "      <td>-48.465099</td>\n",
       "      <td>florianopolis</td>\n",
       "      <td>SC</td>\n",
       "    </tr>\n",
       "    <tr>\n",
       "      <th>840399</th>\n",
       "      <td>88052</td>\n",
       "      <td>-27.457173</td>\n",
       "      <td>-48.451226</td>\n",
       "      <td>florianopolis</td>\n",
       "      <td>SC</td>\n",
       "    </tr>\n",
       "    <tr>\n",
       "      <th>840416</th>\n",
       "      <td>88052</td>\n",
       "      <td>-27.453479</td>\n",
       "      <td>-48.451761</td>\n",
       "      <td>florianopolis</td>\n",
       "      <td>SC</td>\n",
       "    </tr>\n",
       "    <tr>\n",
       "      <th>840417</th>\n",
       "      <td>88052</td>\n",
       "      <td>-27.461637</td>\n",
       "      <td>-48.448708</td>\n",
       "      <td>florianopolis</td>\n",
       "      <td>SC</td>\n",
       "    </tr>\n",
       "    <tr>\n",
       "      <th>840440</th>\n",
       "      <td>88052</td>\n",
       "      <td>-27.452660</td>\n",
       "      <td>-48.446267</td>\n",
       "      <td>florianopolis</td>\n",
       "      <td>SC</td>\n",
       "    </tr>\n",
       "    <tr>\n",
       "      <th>840607</th>\n",
       "      <td>88052</td>\n",
       "      <td>-27.488115</td>\n",
       "      <td>-48.493541</td>\n",
       "      <td>florianopolis</td>\n",
       "      <td>SC</td>\n",
       "    </tr>\n",
       "    <tr>\n",
       "      <th>840689</th>\n",
       "      <td>88052</td>\n",
       "      <td>-27.475180</td>\n",
       "      <td>-48.460430</td>\n",
       "      <td>florianopolis</td>\n",
       "      <td>SC</td>\n",
       "    </tr>\n",
       "    <tr>\n",
       "      <th>840823</th>\n",
       "      <td>88052</td>\n",
       "      <td>-27.467750</td>\n",
       "      <td>-48.453667</td>\n",
       "      <td>florianopolis</td>\n",
       "      <td>SC</td>\n",
       "    </tr>\n",
       "  </tbody>\n",
       "</table>\n",
       "</div>"
      ],
      "text/plain": [
       "        geolocation_zip_code_prefix  geolocation_lat  geolocation_lng  \\\n",
       "812257                        88052       -27.453479       -48.451761   \n",
       "812310                        88052       -27.503649       -48.491333   \n",
       "822090                        88052       -27.460366       -48.449849   \n",
       "822108                        88052       -27.506671       -48.492032   \n",
       "822164                        88052       -27.453479       -48.451761   \n",
       "822216                        88052       -27.506777       -48.464764   \n",
       "822225                        88052       -27.481914       -48.463108   \n",
       "822318                        88052       -27.496083       -48.460492   \n",
       "822480                        88052       -27.460937       -48.451187   \n",
       "822494                        88052       -27.498236       -48.459090   \n",
       "832090                        88052       -27.481917       -48.463740   \n",
       "832600                        88052       -27.477583       -48.447569   \n",
       "832757                        88052       -27.506671       -48.492032   \n",
       "833272                        88052       -27.487827       -48.493542   \n",
       "833327                        88052       -27.485302       -48.427556   \n",
       "833437                        88052       -27.503649       -48.491333   \n",
       "833543                        88052       -27.506202       -48.456777   \n",
       "833547                        88052       -27.465407       -48.453168   \n",
       "833571                        88052       -27.458660       -48.450232   \n",
       "833589                        88052       -27.450555       -48.461958   \n",
       "833620                        88052       -27.480780       -48.440992   \n",
       "833767                        88052       -27.454656       -48.450528   \n",
       "833796                        88052       -27.476821       -48.460223   \n",
       "833971                        88052       -27.457784       -48.445126   \n",
       "834145                        88052       -27.460887       -48.458598   \n",
       "834163                        88052       -27.460838       -48.446725   \n",
       "834248                        88052       -27.511356       -48.485905   \n",
       "834337                        88052       -27.461630       -48.449421   \n",
       "834360                        88052       -27.455050       -48.448428   \n",
       "834361                        88052       -27.507316       -48.492102   \n",
       "834367                        88052       -27.482935       -48.429930   \n",
       "834570                        88052       -27.459326       -48.449338   \n",
       "839436                        88052       -27.483278       -48.462499   \n",
       "839498                        88052       -27.456093       -48.451040   \n",
       "839623                        88052       -27.490206       -48.493426   \n",
       "839692                        88052       -27.466767       -48.464697   \n",
       "839740                        88052       -27.506941       -48.471981   \n",
       "840121                        88052       -27.462588       -48.448152   \n",
       "840297                        88052       -27.501736       -48.457778   \n",
       "840302                        88052       -27.464259       -48.447358   \n",
       "840332                        88052       -27.477290       -48.459537   \n",
       "840353                        88052       -27.487062       -48.493483   \n",
       "840371                        88052       -27.465462       -48.462867   \n",
       "840376                        88052       -27.453479       -48.451761   \n",
       "840395                        88052       -27.468360       -48.465099   \n",
       "840399                        88052       -27.457173       -48.451226   \n",
       "840416                        88052       -27.453479       -48.451761   \n",
       "840417                        88052       -27.461637       -48.448708   \n",
       "840440                        88052       -27.452660       -48.446267   \n",
       "840607                        88052       -27.488115       -48.493541   \n",
       "840689                        88052       -27.475180       -48.460430   \n",
       "840823                        88052       -27.467750       -48.453667   \n",
       "\n",
       "       geolocation_city geolocation_state  \n",
       "812257    florianopolis                SC  \n",
       "812310    florianopolis                SC  \n",
       "822090    florianopolis                SC  \n",
       "822108    florianopolis                SC  \n",
       "822164    florianopolis                SC  \n",
       "822216    florianopolis                SC  \n",
       "822225    florianopolis                SC  \n",
       "822318    florianopolis                SC  \n",
       "822480    florianopolis                SC  \n",
       "822494    florianopolis                SC  \n",
       "832090    florianopolis                SC  \n",
       "832600    florianopolis                SC  \n",
       "832757    florianopolis                SC  \n",
       "833272    florianopolis                SC  \n",
       "833327    florianopolis                SC  \n",
       "833437    florianopolis                SC  \n",
       "833543    florianopolis                SC  \n",
       "833547    florianopolis                SC  \n",
       "833571    florianopolis                SC  \n",
       "833589    florianopolis                SC  \n",
       "833620    florianopolis                SC  \n",
       "833767    florianopolis                SC  \n",
       "833796    florianopolis                SC  \n",
       "833971    florianopolis                SC  \n",
       "834145    florianopolis                SC  \n",
       "834163    florianopolis                SC  \n",
       "834248    florianopolis                SC  \n",
       "834337    florianopolis                SC  \n",
       "834360    florianopolis                SC  \n",
       "834361    florianopolis                SC  \n",
       "834367    florianopolis                SC  \n",
       "834570    florianopolis                SC  \n",
       "839436    florianopolis                SC  \n",
       "839498    florianopolis                SC  \n",
       "839623    florianopolis                SC  \n",
       "839692    florianopolis                SC  \n",
       "839740    florianopolis                SC  \n",
       "840121    florianopolis                SC  \n",
       "840297    florianopolis                SC  \n",
       "840302    florianopolis                SC  \n",
       "840332    florianopolis                SC  \n",
       "840353    florianopolis                SC  \n",
       "840371    florianopolis                SC  \n",
       "840376    florianopolis                SC  \n",
       "840395    florianopolis                SC  \n",
       "840399    florianopolis                SC  \n",
       "840416    florianopolis                SC  \n",
       "840417    florianopolis                SC  \n",
       "840440    florianopolis                SC  \n",
       "840607    florianopolis                SC  \n",
       "840689    florianopolis                SC  \n",
       "840823    florianopolis                SC  "
      ]
     },
     "execution_count": 50,
     "metadata": {},
     "output_type": "execute_result"
    }
   ],
   "source": [
    "df_geolocation.loc[df_geolocation[\"geolocation_zip_code_prefix\"] == 88052] #-> Sprawdzenie czy usunęło hiszpańskie znaki"
   ]
  },
  {
   "cell_type": "markdown",
   "id": "49bc0a93",
   "metadata": {},
   "source": [
    "1.  Z 'olist_customer_dataset' usunąć niektóre customer_city i customer_state, na podstawie zachowanego zip_code będzie można je uzupełnić \n",
    "odpowiadającymi wartościami z tabeli 'olist_geolocation_dataset'\n",
    "\n",
    "\n",
    "Najpierw sprawdzamy ile customer_zip_code_prefix jest takich które mają WSZYSTKIE city i state jako NULL</br>\n",
    "Kod SQL który wyświetla te zip_cody i ile razy występują</br>\n",
    "  SELECT  c.customer_zip_code_prefix, COUNT(c.customer_zip_code_prefix)  FROM customers c\n",
    "  WHERE NOT EXISTS (SELECT 1 FROM dbo.customers c2 WHERE c.customer_zip_code_prefix = c2.customer_zip_code_prefix AND c2.customer_city IS NOT NULL)\n",
    "  GROUP BY c.customer_zip_code_prefix\n",
    "  ORDER BY COUNT(c.customer_zip_code_prefix) DESC"
   ]
  },
  {
   "cell_type": "code",
   "execution_count": 148,
   "id": "6661f028",
   "metadata": {},
   "outputs": [
    {
     "name": "stdout",
     "output_type": "stream",
     "text": [
      "1692\n"
     ]
    },
    {
     "data": {
      "application/vnd.microsoft.datawrangler.viewer.v0+json": {
       "columns": [
        {
         "name": "index",
         "rawType": "int64",
         "type": "integer"
        },
        {
         "name": "customer_zip_code_prefix",
         "rawType": "int64",
         "type": "integer"
        },
        {
         "name": "l",
         "rawType": "int64",
         "type": "integer"
        }
       ],
       "ref": "8c78b981-7589-49ee-8ddd-37bb6a2043d4",
       "rows": [
        [
         "335",
         "18606",
         "6"
        ],
        [
         "149",
         "4657",
         "6"
        ],
        [
         "1014",
         "78115",
         "6"
        ],
        [
         "172",
         "5203",
         "5"
        ],
        [
         "12",
         "1331",
         "5"
        ],
        [
         "1169",
         "92480",
         "5"
        ],
        [
         "64",
         "2840",
         "5"
        ],
        [
         "478",
         "36325",
         "4"
        ],
        [
         "873",
         "70275",
         "4"
        ],
        [
         "771",
         "62570",
         "4"
        ],
        [
         "550",
         "42802",
         "4"
        ],
        [
         "119",
         "4046",
         "4"
        ],
        [
         "919",
         "73010",
         "4"
        ],
        [
         "749",
         "60763",
         "4"
        ],
        [
         "917",
         "72920",
         "4"
        ],
        [
         "72",
         "2957",
         "4"
        ],
        [
         "905",
         "72603",
         "4"
        ],
        [
         "179",
         "5465",
         "4"
        ],
        [
         "215",
         "7804",
         "4"
        ],
        [
         "1150",
         "89510",
         "4"
        ],
        [
         "151",
         "4686",
         "4"
        ],
        [
         "1044",
         "79380",
         "4"
        ],
        [
         "548",
         "41710",
         "4"
        ],
        [
         "155",
         "4708",
         "3"
        ],
        [
         "286",
         "13612",
         "3"
        ],
        [
         "18",
         "2055",
         "3"
        ],
        [
         "279",
         "13012",
         "3"
        ],
        [
         "754",
         "61652",
         "3"
        ],
        [
         "234",
         "8551",
         "3"
        ],
        [
         "171",
         "5201",
         "3"
        ],
        [
         "564",
         "44710",
         "3"
        ],
        [
         "165",
         "5041",
         "3"
        ],
        [
         "369",
         "24876",
         "3"
        ],
        [
         "166",
         "5046",
         "3"
        ],
        [
         "632",
         "53415",
         "3"
        ],
        [
         "332",
         "18304",
         "3"
        ],
        [
         "180",
         "5503",
         "3"
        ],
        [
         "646",
         "54720",
         "3"
        ],
        [
         "618",
         "50970",
         "3"
        ],
        [
         "91",
         "3358",
         "3"
        ],
        [
         "652",
         "55155",
         "3"
        ],
        [
         "655",
         "55350",
         "3"
        ],
        [
         "735",
         "59612",
         "3"
        ],
        [
         "744",
         "60431",
         "3"
        ],
        [
         "745",
         "60526",
         "3"
        ],
        [
         "97",
         "3445",
         "3"
        ],
        [
         "5",
         "1030",
         "3"
        ],
        [
         "773",
         "62760",
         "3"
        ],
        [
         "816",
         "65015",
         "3"
        ],
        [
         "100",
         "3480",
         "3"
        ]
       ],
       "shape": {
        "columns": 2,
        "rows": 1246
       }
      },
      "text/html": [
       "<div>\n",
       "<style scoped>\n",
       "    .dataframe tbody tr th:only-of-type {\n",
       "        vertical-align: middle;\n",
       "    }\n",
       "\n",
       "    .dataframe tbody tr th {\n",
       "        vertical-align: top;\n",
       "    }\n",
       "\n",
       "    .dataframe thead th {\n",
       "        text-align: right;\n",
       "    }\n",
       "</style>\n",
       "<table border=\"1\" class=\"dataframe\">\n",
       "  <thead>\n",
       "    <tr style=\"text-align: right;\">\n",
       "      <th></th>\n",
       "      <th>customer_zip_code_prefix</th>\n",
       "      <th>l</th>\n",
       "    </tr>\n",
       "  </thead>\n",
       "  <tbody>\n",
       "    <tr>\n",
       "      <th>335</th>\n",
       "      <td>18606</td>\n",
       "      <td>6</td>\n",
       "    </tr>\n",
       "    <tr>\n",
       "      <th>149</th>\n",
       "      <td>4657</td>\n",
       "      <td>6</td>\n",
       "    </tr>\n",
       "    <tr>\n",
       "      <th>1014</th>\n",
       "      <td>78115</td>\n",
       "      <td>6</td>\n",
       "    </tr>\n",
       "    <tr>\n",
       "      <th>172</th>\n",
       "      <td>5203</td>\n",
       "      <td>5</td>\n",
       "    </tr>\n",
       "    <tr>\n",
       "      <th>12</th>\n",
       "      <td>1331</td>\n",
       "      <td>5</td>\n",
       "    </tr>\n",
       "    <tr>\n",
       "      <th>...</th>\n",
       "      <td>...</td>\n",
       "      <td>...</td>\n",
       "    </tr>\n",
       "    <tr>\n",
       "      <th>1209</th>\n",
       "      <td>96460</td>\n",
       "      <td>1</td>\n",
       "    </tr>\n",
       "    <tr>\n",
       "      <th>1210</th>\n",
       "      <td>96540</td>\n",
       "      <td>1</td>\n",
       "    </tr>\n",
       "    <tr>\n",
       "      <th>1211</th>\n",
       "      <td>96824</td>\n",
       "      <td>1</td>\n",
       "    </tr>\n",
       "    <tr>\n",
       "      <th>1212</th>\n",
       "      <td>96843</td>\n",
       "      <td>1</td>\n",
       "    </tr>\n",
       "    <tr>\n",
       "      <th>15</th>\n",
       "      <td>1449</td>\n",
       "      <td>1</td>\n",
       "    </tr>\n",
       "  </tbody>\n",
       "</table>\n",
       "<p>1246 rows × 2 columns</p>\n",
       "</div>"
      ],
      "text/plain": [
       "      customer_zip_code_prefix  l\n",
       "335                      18606  6\n",
       "149                       4657  6\n",
       "1014                     78115  6\n",
       "172                       5203  5\n",
       "12                        1331  5\n",
       "...                        ... ..\n",
       "1209                     96460  1\n",
       "1210                     96540  1\n",
       "1211                     96824  1\n",
       "1212                     96843  1\n",
       "15                        1449  1\n",
       "\n",
       "[1246 rows x 2 columns]"
      ]
     },
     "execution_count": 148,
     "metadata": {},
     "output_type": "execute_result"
    }
   ],
   "source": [
    "zip_code_not_empty = df_customers[(df_customers['customer_state'].notna()) & (df_customers['customer_city'].notna())]['customer_zip_code_prefix'].unique() \n",
    "# ODPOWIADAJACY KOD SQL POWYZSZEJ LINII:\n",
    "# SELECT COUNT(DISTINCT customer_zip_code_prefix) FROM dbo.customers \n",
    "# WHERE customer_state IS NOT NULL AND customer_city IS NOT NULL\n",
    "len(zip_code_not_empty)\n",
    "filtered = df_customers[~df_customers['customer_zip_code_prefix'].isin(zip_code_not_empty)]\n",
    "result = filtered.groupby(\"customer_zip_code_prefix\").size().reset_index(name=\"l\")\n",
    "print(result[\"l\"].sum()) # -> Liczba wierszy dla customer_zip_code dla których nie ma ani jednego uzupełnionego wiersza w customers (state i country)\n",
    "result.sort_values(by = [\"l\"], ascending = False)"
   ]
  },
  {
   "cell_type": "markdown",
   "id": "7738dc55",
   "metadata": {},
   "source": [
    "Jest 1246 unikalnych customer_zip_code_prefix z tabeli df_customers które nie mają ani jednego uzupełnionego wiersza dla state i city, które razem dają 1692 wiersze"
   ]
  },
  {
   "cell_type": "markdown",
   "id": "bfa1c2c1",
   "metadata": {},
   "source": [
    "Teraz trzeba by dla tych zip codeow ktore sa powyzej zaciagnac dane z tabeli geolocation (bo dla nich dane sie nie powielają z customers)"
   ]
  },
  {
   "cell_type": "code",
   "execution_count": 149,
   "id": "ef243bbc",
   "metadata": {},
   "outputs": [
    {
     "data": {
      "text/plain": [
       "[1003, 1016, 1021, 1022, 1023]"
      ]
     },
     "execution_count": 149,
     "metadata": {},
     "output_type": "execute_result"
    }
   ],
   "source": [
    "zip_code_list_of_full_nulls = result[\"customer_zip_code_prefix\"].to_list()\n",
    "zip_code_list_of_full_nulls[:5]"
   ]
  },
  {
   "cell_type": "markdown",
   "id": "b75fa3bf",
   "metadata": {},
   "source": [
    "Teraz sprawdzenie ile jest takich przypadkow gdzie sa rozne city dla tego samego zip_code, weryfikacja czy funkcja która bierze te drugie city i state jest w ogole potrzebna"
   ]
  },
  {
   "cell_type": "code",
   "execution_count": 150,
   "id": "d317ce70",
   "metadata": {},
   "outputs": [
    {
     "data": {
      "application/vnd.microsoft.datawrangler.viewer.v0+json": {
       "columns": [
        {
         "name": "geolocation_zip_code_prefix",
         "rawType": "int64",
         "type": "integer"
        },
        {
         "name": "geolocation_city",
         "rawType": "int64",
         "type": "integer"
        }
       ],
       "ref": "806bfc2d-7742-4960-a9bd-33476661ab59",
       "rows": [
        [
         "9780",
         "3"
        ],
        [
         "13318",
         "3"
        ],
        [
         "13454",
         "3"
        ],
        [
         "13855",
         "3"
        ],
        [
         "17970",
         "3"
        ],
        [
         "25936",
         "3"
        ],
        [
         "27163",
         "3"
        ],
        [
         "28950",
         "3"
        ],
        [
         "28993",
         "3"
        ],
        [
         "35315",
         "3"
        ],
        [
         "35411",
         "3"
        ],
        [
         "35413",
         "3"
        ],
        [
         "36206",
         "3"
        ],
        [
         "38295",
         "3"
        ],
        [
         "38749",
         "3"
        ],
        [
         "42820",
         "3"
        ],
        [
         "42841",
         "3"
        ],
        [
         "45816",
         "3"
        ],
        [
         "45936",
         "4"
        ],
        [
         "55485",
         "3"
        ],
        [
         "57925",
         "3"
        ],
        [
         "65935",
         "4"
        ],
        [
         "68695",
         "3"
        ],
        [
         "72220",
         "3"
        ],
        [
         "72231",
         "3"
        ],
        [
         "72270",
         "3"
        ],
        [
         "76958",
         "3"
        ],
        [
         "85139",
         "4"
        ],
        [
         "87365",
         "3"
        ]
       ],
       "shape": {
        "columns": 1,
        "rows": 29
       }
      },
      "text/plain": [
       "geolocation_zip_code_prefix\n",
       "9780     3\n",
       "13318    3\n",
       "13454    3\n",
       "13855    3\n",
       "17970    3\n",
       "25936    3\n",
       "27163    3\n",
       "28950    3\n",
       "28993    3\n",
       "35315    3\n",
       "35411    3\n",
       "35413    3\n",
       "36206    3\n",
       "38295    3\n",
       "38749    3\n",
       "42820    3\n",
       "42841    3\n",
       "45816    3\n",
       "45936    4\n",
       "55485    3\n",
       "57925    3\n",
       "65935    4\n",
       "68695    3\n",
       "72220    3\n",
       "72231    3\n",
       "72270    3\n",
       "76958    3\n",
       "85139    4\n",
       "87365    3\n",
       "Name: geolocation_city, dtype: int64"
      ]
     },
     "execution_count": 150,
     "metadata": {},
     "output_type": "execute_result"
    }
   ],
   "source": [
    "df_nunique_city = df_geolocation.groupby(\"geolocation_zip_code_prefix\")[\"geolocation_city\"].nunique()\n",
    "df_nunique_city[df_nunique_city > 2]"
   ]
  },
  {
   "cell_type": "markdown",
   "id": "4361f26a",
   "metadata": {},
   "source": [
    "29 jest różnych zip code'ow, dla ktorych jest rozne miasto (zazwyczaj jest i tak to samo miasto, tylko inaczej zapisane)"
   ]
  },
  {
   "cell_type": "code",
   "execution_count": 54,
   "id": "46397280",
   "metadata": {},
   "outputs": [
    {
     "data": {
      "application/vnd.microsoft.datawrangler.viewer.v0+json": {
       "columns": [
        {
         "name": "geolocation_city",
         "rawType": "object",
         "type": "string"
        },
        {
         "name": "count",
         "rawType": "int64",
         "type": "integer"
        }
       ],
       "ref": "d07311d5-9e3e-453c-81b0-ab0a5506e3a9",
       "rows": [
        [
         "dias davila",
         "185"
        ],
        [
         "dias d avila",
         "13"
        ]
       ],
       "shape": {
        "columns": 1,
        "rows": 2
       }
      },
      "text/plain": [
       "geolocation_city\n",
       "dias davila     185\n",
       "dias d avila     13\n",
       "Name: count, dtype: int64"
      ]
     },
     "execution_count": 54,
     "metadata": {},
     "output_type": "execute_result"
    }
   ],
   "source": [
    "df_geolocation.loc[df_geolocation[\"geolocation_zip_code_prefix\"] == 42850][\"geolocation_city\"].value_counts()"
   ]
  },
  {
   "cell_type": "markdown",
   "id": "5cb665ac",
   "metadata": {},
   "source": [
    "Teraz można przystąpić to tworzenia funkcji która zwraca dla zip code które mają kilka miast - żeby zwracało drugie miasto </br>\n",
    "To narazie haszujemy i zwracamy pierwsze wystąpienie .fillna()"
   ]
  },
  {
   "cell_type": "code",
   "execution_count": null,
   "id": "afe804cb",
   "metadata": {},
   "outputs": [],
   "source": [
    "\"\"\"\n",
    "def corresponding_value(group):\n",
    "    if len(group) == 1:\n",
    "        return group.iloc[0]\n",
    "    else:\n",
    "        return group.iloc[1]\n",
    "\"\"\"\n",
    "# df_geo = df_geolocation[[\"geolocation_zip_code_prefix\",\"geolocation_city\"]]\n",
    "# df_geo = df_geo.groupby(by = \"geolocation_zip_code_prefix\")#.apply(corresponding_value)"
   ]
  },
  {
   "cell_type": "code",
   "execution_count": 151,
   "id": "612288cc",
   "metadata": {},
   "outputs": [
    {
     "name": "stdout",
     "output_type": "stream",
     "text": [
      "Przed uzupełnieniem fragmentu brakujących danych: 67967\n",
      "Po uzupełnieniu brakujących danych: 69659\n"
     ]
    }
   ],
   "source": [
    "# DZIALA NA WPROWADZNIE PIEWSZEJ WARTOŚCI WYSTĄPIENIA \n",
    "\n",
    "print(f\"Przed uzupełnieniem fragmentu brakujących danych: {(df_customers[\"customer_state\"].notna().sum())}\")\n",
    "mask = df_customers[\"customer_zip_code_prefix\"].isin(zip_code_list_of_full_nulls)\n",
    "df_customers.loc[mask,\"customer_state\"] = df_customers.loc[mask,\"customer_state\"].fillna(df_geolocation[\"geolocation_state\"])\n",
    "df_customers.loc[mask,\"customer_city\"] = df_customers.loc[mask,\"customer_city\"].fillna(df_geolocation[\"geolocation_city\"])\n",
    "df_customers[mask]\n",
    "print(f\"Po uzupełnieniu brakujących danych: {df_customers[\"customer_state\"].notna().sum()}\")\n",
    "# df_customers.loc[mask] = df_customers.loc[mask,\"customer_state\"].fillna(df_geo_second_choice[\"geolocation_state\"])\n",
    "# df_customers.head()"
   ]
  },
  {
   "cell_type": "markdown",
   "id": "2661e47e",
   "metadata": {},
   "source": [
    "69659 - 67967 = 1692 -> Zgadza się, tyle było wartości customer_zip_code_prefix które nie miały ŻADNEGO uzupełnionego wiersza, a teraz są uzupełnione"
   ]
  },
  {
   "cell_type": "markdown",
   "id": "0a99d1e4",
   "metadata": {},
   "source": [
    "Potem sprawdzamy ile jest takich customer_zip_code_prefix które mają wpisane NULL w city i state, ale mają też uzuepłnione dane w innym wierszu</br>\n",
    "   SELECT  c.customer_zip_code_prefix, COUNT(c.customer_zip_code_prefix)  FROM customers c\n",
    "  WHERE EXISTS (SELECT 1 FROM dbo.customers c2 WHERE c.customer_zip_code_prefix = c2.customer_zip_code_prefix AND c2.customer_city IS NOT NULL)\n",
    "  GROUP BY c.customer_zip_code_prefix\n",
    "  ORDER BY COUNT(c.customer_zip_code_prefix) DESC"
   ]
  },
  {
   "cell_type": "code",
   "execution_count": 20,
   "id": "b85ee8e5",
   "metadata": {},
   "outputs": [
    {
     "data": {
      "text/plain": [
       "np.int64(69659)"
      ]
     },
     "execution_count": 20,
     "metadata": {},
     "output_type": "execute_result"
    }
   ],
   "source": [
    "df_customers[\"customer_city\"].notna().sum()"
   ]
  },
  {
   "cell_type": "code",
   "execution_count": 30,
   "id": "e5758773",
   "metadata": {},
   "outputs": [
    {
     "data": {
      "text/plain": [
       "99441"
      ]
     },
     "execution_count": 30,
     "metadata": {},
     "output_type": "execute_result"
    }
   ],
   "source": [
    "len(df_customers)"
   ]
  },
  {
   "cell_type": "code",
   "execution_count": 21,
   "id": "145dd044",
   "metadata": {},
   "outputs": [
    {
     "name": "stdout",
     "output_type": "stream",
     "text": [
      "Pozostałe brakujące dane dla customer_state: 29782\n",
      "Pozostałe brakujące dane dla customer_city: 29782\n"
     ]
    }
   ],
   "source": [
    "print(f\"Pozostałe brakujące dane dla customer_state: {df_customers[\"customer_state\"].isna().sum()}\")\n",
    "print(f\"Pozostałe brakujące dane dla customer_city: {df_customers[\"customer_city\"].isna().sum()}\")"
   ]
  },
  {
   "cell_type": "code",
   "execution_count": 152,
   "id": "51278a06",
   "metadata": {},
   "outputs": [
    {
     "name": "stdout",
     "output_type": "stream",
     "text": [
      "Pozostałe brakujące dane dla customer_state:  0\n",
      "Pozostałe brakujące dane dla customer_city: 0\n"
     ]
    }
   ],
   "source": [
    "# df_customers[\"customer_city\"] = df_customers.loc[df_customers[\"customer_city\"].isna()].groupby(by=\"customer_zip_code_prefix\")[\"customer_city\"].transform(\"first\") # -> Ten obiekt trzeba uzupełnić danymi\n",
    "df_customers[\"customer_state\"] = df_customers.groupby(by=\"customer_zip_code_prefix\")[\"customer_state\"].transform(\"first\")\n",
    "df_customers[\"customer_city\"] = df_customers.groupby(by=\"customer_zip_code_prefix\")[\"customer_city\"].transform(\"first\")\n",
    "\n",
    "print(f\"Pozostałe brakujące dane dla customer_state:  {df_customers[\"customer_state\"].isna().sum()}\")\n",
    "print(f\"Pozostałe brakujące dane dla customer_city: {df_customers[\"customer_city\"].isna().sum()}\")\n"
   ]
  },
  {
   "cell_type": "code",
   "execution_count": 63,
   "id": "5591127d",
   "metadata": {},
   "outputs": [
    {
     "data": {
      "application/vnd.microsoft.datawrangler.viewer.v0+json": {
       "columns": [
        {
         "name": "index",
         "rawType": "int64",
         "type": "integer"
        },
        {
         "name": "customer_id",
         "rawType": "object",
         "type": "string"
        },
        {
         "name": "customer_unique_id",
         "rawType": "object",
         "type": "string"
        },
        {
         "name": "customer_zip_code_prefix",
         "rawType": "int64",
         "type": "integer"
        },
        {
         "name": "customer_city",
         "rawType": "object",
         "type": "string"
        },
        {
         "name": "customer_state",
         "rawType": "object",
         "type": "string"
        }
       ],
       "ref": "4d6b7c81-78b0-4de6-a26e-884bccefa534",
       "rows": [
        [
         "2",
         "0001fd6190edaaf884bcaf3d49edf079",
         "94b11d37cd61cb2994a194d11f89682b",
         "29830",
         "nova venecia",
         "ES"
        ],
        [
         "7541",
         "138e80e19b6bc2bf940a17b938a67295",
         "1015173479527a15ccb63606a74f404e",
         "29830",
         "nova venecia",
         "ES"
        ],
        [
         "9002",
         "172f6c5da4c886b4013514d6de6b44b8",
         "a34f3b7088cb15df6122dcc74cb10e72",
         "29830",
         "nova venecia",
         "ES"
        ],
        [
         "9650",
         "18cdebd5cfe07beb5258254ff1f8fe85",
         "fe0617cc03bb1fdefeb9e76e7d316548",
         "29830",
         "nova venecia",
         "ES"
        ],
        [
         "37486",
         "60d825970926bc552c3299d2d1b5041a",
         "e3feffb41a633b6f649b9cd7762f21d9",
         "29830",
         "nova venecia",
         "ES"
        ],
        [
         "40480",
         "68b7509c1f04aa6c537f935bb18b9645",
         "6a875e0207d93e4c06f193810c6c2cd0",
         "29830",
         "nova venecia",
         "ES"
        ],
        [
         "48453",
         "7cf5c3cc0ca95110719e8762edf953a2",
         "b7f5bef3510128b51df4751fa0e023da",
         "29830",
         "nova venecia",
         "ES"
        ],
        [
         "50268",
         "819d8a9b81c0d3e3204e5b80252660ca",
         "1015173479527a15ccb63606a74f404e",
         "29830",
         "nova venecia",
         "ES"
        ],
        [
         "51962",
         "860ddc7aa11dedbcd7d870aead27ce0c",
         "86f88192e35af3f92bd322ba84e637ce",
         "29830",
         "nova venecia",
         "ES"
        ],
        [
         "53139",
         "891deeb7a50f52a5a2a5970152b3864e",
         "b171945c68776b1434cf56b06c6e41a5",
         "29830",
         "nova venecia",
         "ES"
        ],
        [
         "54739",
         "8d454cd9156c615d96487be84f3b0d0a",
         "0507295d1e325fff6a062f91206d5efb",
         "29830",
         "nova venecia",
         "ES"
        ],
        [
         "55845",
         "90043fb9e26697db68f4bad3e4783ee4",
         "5ea3f5d6583bddba169b4cc2bfe48093",
         "29830",
         "nova venecia",
         "ES"
        ],
        [
         "65731",
         "a90468e2c3a73422673411b52aaa8426",
         "ffef0ffa736c7b3d9af741611089729b",
         "29830",
         "nova venecia",
         "ES"
        ],
        [
         "65754",
         "a91184a3664b61bc9731ae1c76a4f2f6",
         "2b775b75afa0be08220fb73a7e68df3b",
         "29830",
         "nova venecia",
         "ES"
        ],
        [
         "73514",
         "bc724341ab9ec337b8aeb519104b93b4",
         "e989c537a5867ffeb4af81ac947df469",
         "29830",
         "nova venecia",
         "ES"
        ],
        [
         "79718",
         "cc89835f7bbd6f0ab15a0b5594605998",
         "8828868edd8b70cfd28432b5598f1842",
         "29830",
         "nova venecia",
         "ES"
        ],
        [
         "81084",
         "d01964b58144a472eb91b140dc47f659",
         "2b775b75afa0be08220fb73a7e68df3b",
         "29830",
         "nova venecia",
         "ES"
        ],
        [
         "92087",
         "eca9017eda056e3c2264fbd939a5e0b6",
         "28cccfbe3043f67ee85b1742c9e29557",
         "29830",
         "nova venecia",
         "ES"
        ],
        [
         "96009",
         "f6fb4ed5f9a3a545a5203054679bf2c6",
         "c95ec87a7dc2647f779aed4452ccf819",
         "29830",
         "nova venecia",
         "ES"
        ]
       ],
       "shape": {
        "columns": 5,
        "rows": 19
       }
      },
      "text/html": [
       "<div>\n",
       "<style scoped>\n",
       "    .dataframe tbody tr th:only-of-type {\n",
       "        vertical-align: middle;\n",
       "    }\n",
       "\n",
       "    .dataframe tbody tr th {\n",
       "        vertical-align: top;\n",
       "    }\n",
       "\n",
       "    .dataframe thead th {\n",
       "        text-align: right;\n",
       "    }\n",
       "</style>\n",
       "<table border=\"1\" class=\"dataframe\">\n",
       "  <thead>\n",
       "    <tr style=\"text-align: right;\">\n",
       "      <th></th>\n",
       "      <th>customer_id</th>\n",
       "      <th>customer_unique_id</th>\n",
       "      <th>customer_zip_code_prefix</th>\n",
       "      <th>customer_city</th>\n",
       "      <th>customer_state</th>\n",
       "    </tr>\n",
       "  </thead>\n",
       "  <tbody>\n",
       "    <tr>\n",
       "      <th>2</th>\n",
       "      <td>0001fd6190edaaf884bcaf3d49edf079</td>\n",
       "      <td>94b11d37cd61cb2994a194d11f89682b</td>\n",
       "      <td>29830</td>\n",
       "      <td>nova venecia</td>\n",
       "      <td>ES</td>\n",
       "    </tr>\n",
       "    <tr>\n",
       "      <th>7541</th>\n",
       "      <td>138e80e19b6bc2bf940a17b938a67295</td>\n",
       "      <td>1015173479527a15ccb63606a74f404e</td>\n",
       "      <td>29830</td>\n",
       "      <td>nova venecia</td>\n",
       "      <td>ES</td>\n",
       "    </tr>\n",
       "    <tr>\n",
       "      <th>9002</th>\n",
       "      <td>172f6c5da4c886b4013514d6de6b44b8</td>\n",
       "      <td>a34f3b7088cb15df6122dcc74cb10e72</td>\n",
       "      <td>29830</td>\n",
       "      <td>nova venecia</td>\n",
       "      <td>ES</td>\n",
       "    </tr>\n",
       "    <tr>\n",
       "      <th>9650</th>\n",
       "      <td>18cdebd5cfe07beb5258254ff1f8fe85</td>\n",
       "      <td>fe0617cc03bb1fdefeb9e76e7d316548</td>\n",
       "      <td>29830</td>\n",
       "      <td>nova venecia</td>\n",
       "      <td>ES</td>\n",
       "    </tr>\n",
       "    <tr>\n",
       "      <th>37486</th>\n",
       "      <td>60d825970926bc552c3299d2d1b5041a</td>\n",
       "      <td>e3feffb41a633b6f649b9cd7762f21d9</td>\n",
       "      <td>29830</td>\n",
       "      <td>nova venecia</td>\n",
       "      <td>ES</td>\n",
       "    </tr>\n",
       "    <tr>\n",
       "      <th>40480</th>\n",
       "      <td>68b7509c1f04aa6c537f935bb18b9645</td>\n",
       "      <td>6a875e0207d93e4c06f193810c6c2cd0</td>\n",
       "      <td>29830</td>\n",
       "      <td>nova venecia</td>\n",
       "      <td>ES</td>\n",
       "    </tr>\n",
       "    <tr>\n",
       "      <th>48453</th>\n",
       "      <td>7cf5c3cc0ca95110719e8762edf953a2</td>\n",
       "      <td>b7f5bef3510128b51df4751fa0e023da</td>\n",
       "      <td>29830</td>\n",
       "      <td>nova venecia</td>\n",
       "      <td>ES</td>\n",
       "    </tr>\n",
       "    <tr>\n",
       "      <th>50268</th>\n",
       "      <td>819d8a9b81c0d3e3204e5b80252660ca</td>\n",
       "      <td>1015173479527a15ccb63606a74f404e</td>\n",
       "      <td>29830</td>\n",
       "      <td>nova venecia</td>\n",
       "      <td>ES</td>\n",
       "    </tr>\n",
       "    <tr>\n",
       "      <th>51962</th>\n",
       "      <td>860ddc7aa11dedbcd7d870aead27ce0c</td>\n",
       "      <td>86f88192e35af3f92bd322ba84e637ce</td>\n",
       "      <td>29830</td>\n",
       "      <td>nova venecia</td>\n",
       "      <td>ES</td>\n",
       "    </tr>\n",
       "    <tr>\n",
       "      <th>53139</th>\n",
       "      <td>891deeb7a50f52a5a2a5970152b3864e</td>\n",
       "      <td>b171945c68776b1434cf56b06c6e41a5</td>\n",
       "      <td>29830</td>\n",
       "      <td>nova venecia</td>\n",
       "      <td>ES</td>\n",
       "    </tr>\n",
       "    <tr>\n",
       "      <th>54739</th>\n",
       "      <td>8d454cd9156c615d96487be84f3b0d0a</td>\n",
       "      <td>0507295d1e325fff6a062f91206d5efb</td>\n",
       "      <td>29830</td>\n",
       "      <td>nova venecia</td>\n",
       "      <td>ES</td>\n",
       "    </tr>\n",
       "    <tr>\n",
       "      <th>55845</th>\n",
       "      <td>90043fb9e26697db68f4bad3e4783ee4</td>\n",
       "      <td>5ea3f5d6583bddba169b4cc2bfe48093</td>\n",
       "      <td>29830</td>\n",
       "      <td>nova venecia</td>\n",
       "      <td>ES</td>\n",
       "    </tr>\n",
       "    <tr>\n",
       "      <th>65731</th>\n",
       "      <td>a90468e2c3a73422673411b52aaa8426</td>\n",
       "      <td>ffef0ffa736c7b3d9af741611089729b</td>\n",
       "      <td>29830</td>\n",
       "      <td>nova venecia</td>\n",
       "      <td>ES</td>\n",
       "    </tr>\n",
       "    <tr>\n",
       "      <th>65754</th>\n",
       "      <td>a91184a3664b61bc9731ae1c76a4f2f6</td>\n",
       "      <td>2b775b75afa0be08220fb73a7e68df3b</td>\n",
       "      <td>29830</td>\n",
       "      <td>nova venecia</td>\n",
       "      <td>ES</td>\n",
       "    </tr>\n",
       "    <tr>\n",
       "      <th>73514</th>\n",
       "      <td>bc724341ab9ec337b8aeb519104b93b4</td>\n",
       "      <td>e989c537a5867ffeb4af81ac947df469</td>\n",
       "      <td>29830</td>\n",
       "      <td>nova venecia</td>\n",
       "      <td>ES</td>\n",
       "    </tr>\n",
       "    <tr>\n",
       "      <th>79718</th>\n",
       "      <td>cc89835f7bbd6f0ab15a0b5594605998</td>\n",
       "      <td>8828868edd8b70cfd28432b5598f1842</td>\n",
       "      <td>29830</td>\n",
       "      <td>nova venecia</td>\n",
       "      <td>ES</td>\n",
       "    </tr>\n",
       "    <tr>\n",
       "      <th>81084</th>\n",
       "      <td>d01964b58144a472eb91b140dc47f659</td>\n",
       "      <td>2b775b75afa0be08220fb73a7e68df3b</td>\n",
       "      <td>29830</td>\n",
       "      <td>nova venecia</td>\n",
       "      <td>ES</td>\n",
       "    </tr>\n",
       "    <tr>\n",
       "      <th>92087</th>\n",
       "      <td>eca9017eda056e3c2264fbd939a5e0b6</td>\n",
       "      <td>28cccfbe3043f67ee85b1742c9e29557</td>\n",
       "      <td>29830</td>\n",
       "      <td>nova venecia</td>\n",
       "      <td>ES</td>\n",
       "    </tr>\n",
       "    <tr>\n",
       "      <th>96009</th>\n",
       "      <td>f6fb4ed5f9a3a545a5203054679bf2c6</td>\n",
       "      <td>c95ec87a7dc2647f779aed4452ccf819</td>\n",
       "      <td>29830</td>\n",
       "      <td>nova venecia</td>\n",
       "      <td>ES</td>\n",
       "    </tr>\n",
       "  </tbody>\n",
       "</table>\n",
       "</div>"
      ],
      "text/plain": [
       "                            customer_id                customer_unique_id  \\\n",
       "2      0001fd6190edaaf884bcaf3d49edf079  94b11d37cd61cb2994a194d11f89682b   \n",
       "7541   138e80e19b6bc2bf940a17b938a67295  1015173479527a15ccb63606a74f404e   \n",
       "9002   172f6c5da4c886b4013514d6de6b44b8  a34f3b7088cb15df6122dcc74cb10e72   \n",
       "9650   18cdebd5cfe07beb5258254ff1f8fe85  fe0617cc03bb1fdefeb9e76e7d316548   \n",
       "37486  60d825970926bc552c3299d2d1b5041a  e3feffb41a633b6f649b9cd7762f21d9   \n",
       "40480  68b7509c1f04aa6c537f935bb18b9645  6a875e0207d93e4c06f193810c6c2cd0   \n",
       "48453  7cf5c3cc0ca95110719e8762edf953a2  b7f5bef3510128b51df4751fa0e023da   \n",
       "50268  819d8a9b81c0d3e3204e5b80252660ca  1015173479527a15ccb63606a74f404e   \n",
       "51962  860ddc7aa11dedbcd7d870aead27ce0c  86f88192e35af3f92bd322ba84e637ce   \n",
       "53139  891deeb7a50f52a5a2a5970152b3864e  b171945c68776b1434cf56b06c6e41a5   \n",
       "54739  8d454cd9156c615d96487be84f3b0d0a  0507295d1e325fff6a062f91206d5efb   \n",
       "55845  90043fb9e26697db68f4bad3e4783ee4  5ea3f5d6583bddba169b4cc2bfe48093   \n",
       "65731  a90468e2c3a73422673411b52aaa8426  ffef0ffa736c7b3d9af741611089729b   \n",
       "65754  a91184a3664b61bc9731ae1c76a4f2f6  2b775b75afa0be08220fb73a7e68df3b   \n",
       "73514  bc724341ab9ec337b8aeb519104b93b4  e989c537a5867ffeb4af81ac947df469   \n",
       "79718  cc89835f7bbd6f0ab15a0b5594605998  8828868edd8b70cfd28432b5598f1842   \n",
       "81084  d01964b58144a472eb91b140dc47f659  2b775b75afa0be08220fb73a7e68df3b   \n",
       "92087  eca9017eda056e3c2264fbd939a5e0b6  28cccfbe3043f67ee85b1742c9e29557   \n",
       "96009  f6fb4ed5f9a3a545a5203054679bf2c6  c95ec87a7dc2647f779aed4452ccf819   \n",
       "\n",
       "       customer_zip_code_prefix customer_city customer_state  \n",
       "2                         29830  nova venecia             ES  \n",
       "7541                      29830  nova venecia             ES  \n",
       "9002                      29830  nova venecia             ES  \n",
       "9650                      29830  nova venecia             ES  \n",
       "37486                     29830  nova venecia             ES  \n",
       "40480                     29830  nova venecia             ES  \n",
       "48453                     29830  nova venecia             ES  \n",
       "50268                     29830  nova venecia             ES  \n",
       "51962                     29830  nova venecia             ES  \n",
       "53139                     29830  nova venecia             ES  \n",
       "54739                     29830  nova venecia             ES  \n",
       "55845                     29830  nova venecia             ES  \n",
       "65731                     29830  nova venecia             ES  \n",
       "65754                     29830  nova venecia             ES  \n",
       "73514                     29830  nova venecia             ES  \n",
       "79718                     29830  nova venecia             ES  \n",
       "81084                     29830  nova venecia             ES  \n",
       "92087                     29830  nova venecia             ES  \n",
       "96009                     29830  nova venecia             ES  "
      ]
     },
     "execution_count": 63,
     "metadata": {},
     "output_type": "execute_result"
    }
   ],
   "source": [
    "df_customers[df_customers[\"customer_zip_code_prefix\"] == 29830]"
   ]
  },
  {
   "cell_type": "code",
   "execution_count": 153,
   "id": "7e680f33",
   "metadata": {},
   "outputs": [
    {
     "data": {
      "application/vnd.microsoft.datawrangler.viewer.v0+json": {
       "columns": [
        {
         "name": "index",
         "rawType": "object",
         "type": "string"
        },
        {
         "name": "0",
         "rawType": "int64",
         "type": "integer"
        }
       ],
       "ref": "7110a480-b39c-40dc-b91f-2d86ccb015dd",
       "rows": [
        [
         "customer_id",
         "0"
        ],
        [
         "customer_unique_id",
         "0"
        ],
        [
         "customer_zip_code_prefix",
         "0"
        ],
        [
         "customer_city",
         "0"
        ],
        [
         "customer_state",
         "0"
        ]
       ],
       "shape": {
        "columns": 1,
        "rows": 5
       }
      },
      "text/plain": [
       "customer_id                 0\n",
       "customer_unique_id          0\n",
       "customer_zip_code_prefix    0\n",
       "customer_city               0\n",
       "customer_state              0\n",
       "dtype: int64"
      ]
     },
     "execution_count": 153,
     "metadata": {},
     "output_type": "execute_result"
    }
   ],
   "source": [
    "df_customers.isna().sum()"
   ]
  },
  {
   "cell_type": "code",
   "execution_count": null,
   "id": "3c1ffe22",
   "metadata": {},
   "outputs": [
    {
     "data": {
      "text/plain": [
       "302"
      ]
     },
     "execution_count": 43,
     "metadata": {},
     "output_type": "execute_result"
    }
   ],
   "source": [
    "#df['new_col'] = range(1, len(df) + 1)\n",
    "#df.to_sql(\"cust_test\", engine, schema = \"dbo\" , index = False)"
   ]
  },
  {
   "cell_type": "markdown",
   "id": "83089964",
   "metadata": {},
   "source": [
    "5. Usunięcie dla niektórych wartości z kolumny seller_city z tabeli 'olist_sellers_dataset' i uzupełnienie ich na podstawie zachowanego seller_zip_code_prefix"
   ]
  },
  {
   "cell_type": "code",
   "execution_count": 90,
   "id": "8299a1c8",
   "metadata": {},
   "outputs": [
    {
     "data": {
      "application/vnd.microsoft.datawrangler.viewer.v0+json": {
       "columns": [
        {
         "name": "index",
         "rawType": "int64",
         "type": "integer"
        },
        {
         "name": "geolocation_zip_code_prefix",
         "rawType": "int64",
         "type": "integer"
        },
        {
         "name": "geolocation_lat",
         "rawType": "float64",
         "type": "float"
        },
        {
         "name": "geolocation_lng",
         "rawType": "float64",
         "type": "float"
        },
        {
         "name": "geolocation_city",
         "rawType": "object",
         "type": "string"
        },
        {
         "name": "geolocation_state",
         "rawType": "object",
         "type": "string"
        }
       ],
       "ref": "98cbac92-54a7-4b6a-b1bb-c2c43f16742c",
       "rows": [
        [
         "0",
         "1037",
         "-23.54562128115268",
         "-46.63929204800168",
         "sao paulo",
         "SP"
        ]
       ],
       "shape": {
        "columns": 5,
        "rows": 1
       }
      },
      "text/html": [
       "<div>\n",
       "<style scoped>\n",
       "    .dataframe tbody tr th:only-of-type {\n",
       "        vertical-align: middle;\n",
       "    }\n",
       "\n",
       "    .dataframe tbody tr th {\n",
       "        vertical-align: top;\n",
       "    }\n",
       "\n",
       "    .dataframe thead th {\n",
       "        text-align: right;\n",
       "    }\n",
       "</style>\n",
       "<table border=\"1\" class=\"dataframe\">\n",
       "  <thead>\n",
       "    <tr style=\"text-align: right;\">\n",
       "      <th></th>\n",
       "      <th>geolocation_zip_code_prefix</th>\n",
       "      <th>geolocation_lat</th>\n",
       "      <th>geolocation_lng</th>\n",
       "      <th>geolocation_city</th>\n",
       "      <th>geolocation_state</th>\n",
       "    </tr>\n",
       "  </thead>\n",
       "  <tbody>\n",
       "    <tr>\n",
       "      <th>0</th>\n",
       "      <td>1037</td>\n",
       "      <td>-23.545621</td>\n",
       "      <td>-46.639292</td>\n",
       "      <td>sao paulo</td>\n",
       "      <td>SP</td>\n",
       "    </tr>\n",
       "  </tbody>\n",
       "</table>\n",
       "</div>"
      ],
      "text/plain": [
       "   geolocation_zip_code_prefix  geolocation_lat  geolocation_lng  \\\n",
       "0                         1037       -23.545621       -46.639292   \n",
       "\n",
       "  geolocation_city geolocation_state  \n",
       "0        sao paulo                SP  "
      ]
     },
     "execution_count": 90,
     "metadata": {},
     "output_type": "execute_result"
    }
   ],
   "source": [
    "df_geolocation.head(1)"
   ]
  },
  {
   "cell_type": "code",
   "execution_count": 91,
   "id": "9e120dd4",
   "metadata": {},
   "outputs": [
    {
     "data": {
      "application/vnd.microsoft.datawrangler.viewer.v0+json": {
       "columns": [
        {
         "name": "index",
         "rawType": "int64",
         "type": "integer"
        },
        {
         "name": "seller_id",
         "rawType": "object",
         "type": "string"
        },
        {
         "name": "seller_zip_code_prefix",
         "rawType": "int64",
         "type": "integer"
        },
        {
         "name": "seller_city",
         "rawType": "object",
         "type": "unknown"
        },
        {
         "name": "seller_state",
         "rawType": "object",
         "type": "string"
        }
       ],
       "ref": "38ba187a-bbaa-4621-8832-e255082e9ba0",
       "rows": [
        [
         "0",
         "0015a82c2db000af6aaaf3ae2ecb0532",
         "9080",
         "santo andre",
         "SP"
        ],
        [
         "1",
         "001cca7ae9ae17fb1caed9dfb1094831",
         "29156",
         "cariacica",
         "ES"
        ],
        [
         "2",
         "001e6ad469a905060d959994f1b41e4f",
         "24754",
         "sao goncalo",
         "RJ"
        ],
        [
         "3",
         "002100f778ceb8431b7a1020ff7ab48f",
         "14405",
         null,
         "SP"
        ],
        [
         "4",
         "003554e2dce176b5555353e4f3555ac8",
         "74565",
         "goiania",
         "GO"
        ]
       ],
       "shape": {
        "columns": 4,
        "rows": 5
       }
      },
      "text/html": [
       "<div>\n",
       "<style scoped>\n",
       "    .dataframe tbody tr th:only-of-type {\n",
       "        vertical-align: middle;\n",
       "    }\n",
       "\n",
       "    .dataframe tbody tr th {\n",
       "        vertical-align: top;\n",
       "    }\n",
       "\n",
       "    .dataframe thead th {\n",
       "        text-align: right;\n",
       "    }\n",
       "</style>\n",
       "<table border=\"1\" class=\"dataframe\">\n",
       "  <thead>\n",
       "    <tr style=\"text-align: right;\">\n",
       "      <th></th>\n",
       "      <th>seller_id</th>\n",
       "      <th>seller_zip_code_prefix</th>\n",
       "      <th>seller_city</th>\n",
       "      <th>seller_state</th>\n",
       "    </tr>\n",
       "  </thead>\n",
       "  <tbody>\n",
       "    <tr>\n",
       "      <th>0</th>\n",
       "      <td>0015a82c2db000af6aaaf3ae2ecb0532</td>\n",
       "      <td>9080</td>\n",
       "      <td>santo andre</td>\n",
       "      <td>SP</td>\n",
       "    </tr>\n",
       "    <tr>\n",
       "      <th>1</th>\n",
       "      <td>001cca7ae9ae17fb1caed9dfb1094831</td>\n",
       "      <td>29156</td>\n",
       "      <td>cariacica</td>\n",
       "      <td>ES</td>\n",
       "    </tr>\n",
       "    <tr>\n",
       "      <th>2</th>\n",
       "      <td>001e6ad469a905060d959994f1b41e4f</td>\n",
       "      <td>24754</td>\n",
       "      <td>sao goncalo</td>\n",
       "      <td>RJ</td>\n",
       "    </tr>\n",
       "    <tr>\n",
       "      <th>3</th>\n",
       "      <td>002100f778ceb8431b7a1020ff7ab48f</td>\n",
       "      <td>14405</td>\n",
       "      <td>None</td>\n",
       "      <td>SP</td>\n",
       "    </tr>\n",
       "    <tr>\n",
       "      <th>4</th>\n",
       "      <td>003554e2dce176b5555353e4f3555ac8</td>\n",
       "      <td>74565</td>\n",
       "      <td>goiania</td>\n",
       "      <td>GO</td>\n",
       "    </tr>\n",
       "  </tbody>\n",
       "</table>\n",
       "</div>"
      ],
      "text/plain": [
       "                          seller_id  seller_zip_code_prefix  seller_city  \\\n",
       "0  0015a82c2db000af6aaaf3ae2ecb0532                    9080  santo andre   \n",
       "1  001cca7ae9ae17fb1caed9dfb1094831                   29156    cariacica   \n",
       "2  001e6ad469a905060d959994f1b41e4f                   24754  sao goncalo   \n",
       "3  002100f778ceb8431b7a1020ff7ab48f                   14405         None   \n",
       "4  003554e2dce176b5555353e4f3555ac8                   74565      goiania   \n",
       "\n",
       "  seller_state  \n",
       "0           SP  \n",
       "1           ES  \n",
       "2           RJ  \n",
       "3           SP  \n",
       "4           GO  "
      ]
     },
     "execution_count": 91,
     "metadata": {},
     "output_type": "execute_result"
    }
   ],
   "source": [
    "df_sellers = pd.read_sql('SELECT * FROM dbo.sellers', engine)\n",
    "df_sellers.head()"
   ]
  },
  {
   "cell_type": "code",
   "execution_count": 94,
   "id": "c2268f16",
   "metadata": {},
   "outputs": [
    {
     "data": {
      "application/vnd.microsoft.datawrangler.viewer.v0+json": {
       "columns": [
        {
         "name": "index",
         "rawType": "object",
         "type": "string"
        },
        {
         "name": "0",
         "rawType": "int64",
         "type": "integer"
        }
       ],
       "ref": "ec18565b-3394-4c34-99f7-e7a7ae3a0d55",
       "rows": [
        [
         "seller_id",
         "0"
        ],
        [
         "seller_zip_code_prefix",
         "0"
        ],
        [
         "seller_city",
         "705"
        ],
        [
         "seller_state",
         "0"
        ]
       ],
       "shape": {
        "columns": 1,
        "rows": 4
       }
      },
      "text/plain": [
       "seller_id                   0\n",
       "seller_zip_code_prefix      0\n",
       "seller_city               705\n",
       "seller_state                0\n",
       "dtype: int64"
      ]
     },
     "execution_count": 94,
     "metadata": {},
     "output_type": "execute_result"
    }
   ],
   "source": [
    "df_sellers.isna().sum()"
   ]
  },
  {
   "cell_type": "code",
   "execution_count": 106,
   "id": "0055c09e",
   "metadata": {},
   "outputs": [
    {
     "data": {
      "application/vnd.microsoft.datawrangler.viewer.v0+json": {
       "columns": [
        {
         "name": "index",
         "rawType": "int64",
         "type": "integer"
        },
        {
         "name": "seller_id",
         "rawType": "object",
         "type": "string"
        },
        {
         "name": "seller_zip_code_prefix",
         "rawType": "int64",
         "type": "integer"
        },
        {
         "name": "seller_city",
         "rawType": "object",
         "type": "unknown"
        },
        {
         "name": "seller_state",
         "rawType": "object",
         "type": "string"
        }
       ],
       "ref": "e1abe108-0219-445f-9cea-9ad3bef41c07",
       "rows": [
        [
         "3",
         "002100f778ceb8431b7a1020ff7ab48f",
         "14405",
         null,
         "SP"
        ],
        [
         "5",
         "004c9cd9d87a3c30c522c48c4fc07416",
         "14940",
         null,
         "SP"
        ],
        [
         "7",
         "00ab3eff1b5192e5f1a63bcecfee11c8",
         "4164",
         null,
         "SP"
        ],
        [
         "13",
         "011b0eaba87386a2ae96a7d32bb531d1",
         "17580",
         null,
         "SP"
        ],
        [
         "18",
         "0176f73cc1195f367f7b32db1e5b3aa8",
         "14940",
         null,
         "SP"
        ],
        [
         "19",
         "01bcc9d254a0143f0ce9791b960b2a47",
         "76400",
         null,
         "GO"
        ],
        [
         "21",
         "01cf7e3d21494c41fb86034f2e714fa1",
         "85603",
         null,
         "PR"
        ],
        [
         "27",
         "024b564ae893ce8e9bfa02c10a401ece",
         "3280",
         null,
         "SP"
        ],
        [
         "34",
         "02ecc2a19303f05e59ce133fd923fff7",
         "9121",
         null,
         "SP"
        ],
        [
         "35",
         "02f5837340d7eb4f653d676c7256523a",
         "80620",
         null,
         "PR"
        ],
        [
         "38",
         "0336182e1b3e92f029d5354832045fdf",
         "14940",
         null,
         "SP"
        ],
        [
         "41",
         "039b29ff3b3473435d0cd59040575de9",
         "9443",
         null,
         "SP"
        ],
        [
         "49",
         "044668ccd5316b12a7cf0d54a156e3e9",
         "6016",
         null,
         "SP"
        ],
        [
         "52",
         "04aa0a1c5ce6b222003403a3e11c3cc0",
         "13150",
         null,
         "SP"
        ],
        [
         "54",
         "04e38a233f726ef161074ab1c9b0399a",
         "1239",
         null,
         "SP"
        ],
        [
         "59",
         "054694fa03fe82cec4b7551487331d74",
         "15840",
         null,
         "SP"
        ],
        [
         "65",
         "05a48cc8859962767935ab9087417fbb",
         "5372",
         null,
         "SP"
        ],
        [
         "68",
         "05ca864204d09595ae591b93ea9cf93d",
         "6465",
         null,
         "SP"
        ],
        [
         "80",
         "0692610d8abe24f287e9fae90ea0bbee",
         "2310",
         null,
         "SP"
        ],
        [
         "85",
         "07017df32dc5f2f1d2801e579548d620",
         "58030",
         null,
         "PB"
        ],
        [
         "89",
         "0747d5bb69f0586cc869d8af4c50f93e",
         "28990",
         null,
         "RJ"
        ],
        [
         "102",
         "08084d990eb3f53af056ccbc1730c8a7",
         "3612",
         null,
         "SP"
        ],
        [
         "103",
         "081acf3de680d554796c9cf041be7bc2",
         "33200",
         null,
         "MG"
        ],
        [
         "105",
         "085f6f7e049c996695fb2074fe38d45e",
         "12020",
         null,
         "SP"
        ],
        [
         "118",
         "093805f8f2aeb63881444571e1f48f30",
         "6236",
         null,
         "SP"
        ],
        [
         "122",
         "099095b050cfe8eb1ddff5317587e96e",
         "3322",
         null,
         "SP"
        ],
        [
         "125",
         "0a198e95d32b1be2da9424c962a6ebfa",
         "32260",
         null,
         "MG"
        ],
        [
         "126",
         "0a82f5fb06a4fe4ac2cf7cb412ec71b8",
         "5524",
         null,
         "SP"
        ],
        [
         "131",
         "0ad80de75c811326389cfb1daba7d45e",
         "20261",
         null,
         "RJ"
        ],
        [
         "133",
         "0ade5cc4a305ed7093a23f68ca47519c",
         "81030",
         null,
         "PR"
        ],
        [
         "139",
         "0b0ddbc7b9d9584f442c7ac92b0ff6c9",
         "7052",
         null,
         "SP"
        ],
        [
         "153",
         "0bf0150d5b9d60d9cd2906003332f085",
         "1547",
         null,
         "SP"
        ],
        [
         "155",
         "0c7533c71df861ec58ad7ff999ed0e8d",
         "13270",
         null,
         "SP"
        ],
        [
         "157",
         "0c8380b62e38e8a1e6adbeba7eb9688c",
         "37410",
         null,
         "MG"
        ],
        [
         "160",
         "0d33a55da925bbf1ff02af5f6059fc7f",
         "5632",
         null,
         "SP"
        ],
        [
         "164",
         "0daf5180aa44356f60f8effa533b55a2",
         "74043",
         null,
         "GO"
        ],
        [
         "178",
         "0ee4fb99ac55ffbbc98795aa01b7f8fa",
         "6539",
         null,
         "SP"
        ],
        [
         "180",
         "0f0c984a4a955310903b6b6008660bad",
         "14403",
         null,
         "SP"
        ],
        [
         "194",
         "1099a00e0ee3a50935e6c2447ca090c5",
         "20921",
         null,
         "RJ"
        ],
        [
         "196",
         "10ff823eda2b032e2c93d17a7d294736",
         "17280",
         null,
         "SP"
        ],
        [
         "199",
         "11305281b50fff20ae8bb473f8e11876",
         "36500",
         null,
         "MG"
        ],
        [
         "204",
         "11938fcc75f6902fea1d0a6f72b54a57",
         "89900",
         null,
         "SC"
        ],
        [
         "208",
         "11d4c477d09821164bca4f70a2eae031",
         "14075",
         null,
         "SP"
        ],
        [
         "212",
         "1284de4ae8aa26997e748c851557cf0e",
         "85301",
         null,
         "SP"
        ],
        [
         "221",
         "134285d1f41da5c13a756ee8142c8a4e",
         "2523",
         null,
         "SP"
        ],
        [
         "229",
         "13c2ed7698b3ca92dad49e849219da59",
         "84010",
         null,
         "PR"
        ],
        [
         "231",
         "13d95f0f6f73943d4ceffad0fc2cd32c",
         "74473",
         null,
         "GO"
        ],
        [
         "233",
         "13e85aac53340018b40c2af68001b7e0",
         "13920",
         null,
         "SP"
        ],
        [
         "238",
         "1444c08e64d55fb3c25f0f09c07ffcf2",
         "42738",
         null,
         "BA"
        ],
        [
         "240",
         "14a08204d03bb6b6bde8029f801ae0eb",
         "1026",
         null,
         "SP"
        ]
       ],
       "shape": {
        "columns": 4,
        "rows": 705
       }
      },
      "text/html": [
       "<div>\n",
       "<style scoped>\n",
       "    .dataframe tbody tr th:only-of-type {\n",
       "        vertical-align: middle;\n",
       "    }\n",
       "\n",
       "    .dataframe tbody tr th {\n",
       "        vertical-align: top;\n",
       "    }\n",
       "\n",
       "    .dataframe thead th {\n",
       "        text-align: right;\n",
       "    }\n",
       "</style>\n",
       "<table border=\"1\" class=\"dataframe\">\n",
       "  <thead>\n",
       "    <tr style=\"text-align: right;\">\n",
       "      <th></th>\n",
       "      <th>seller_id</th>\n",
       "      <th>seller_zip_code_prefix</th>\n",
       "      <th>seller_city</th>\n",
       "      <th>seller_state</th>\n",
       "    </tr>\n",
       "  </thead>\n",
       "  <tbody>\n",
       "    <tr>\n",
       "      <th>3</th>\n",
       "      <td>002100f778ceb8431b7a1020ff7ab48f</td>\n",
       "      <td>14405</td>\n",
       "      <td>None</td>\n",
       "      <td>SP</td>\n",
       "    </tr>\n",
       "    <tr>\n",
       "      <th>5</th>\n",
       "      <td>004c9cd9d87a3c30c522c48c4fc07416</td>\n",
       "      <td>14940</td>\n",
       "      <td>None</td>\n",
       "      <td>SP</td>\n",
       "    </tr>\n",
       "    <tr>\n",
       "      <th>7</th>\n",
       "      <td>00ab3eff1b5192e5f1a63bcecfee11c8</td>\n",
       "      <td>4164</td>\n",
       "      <td>None</td>\n",
       "      <td>SP</td>\n",
       "    </tr>\n",
       "    <tr>\n",
       "      <th>13</th>\n",
       "      <td>011b0eaba87386a2ae96a7d32bb531d1</td>\n",
       "      <td>17580</td>\n",
       "      <td>None</td>\n",
       "      <td>SP</td>\n",
       "    </tr>\n",
       "    <tr>\n",
       "      <th>18</th>\n",
       "      <td>0176f73cc1195f367f7b32db1e5b3aa8</td>\n",
       "      <td>14940</td>\n",
       "      <td>None</td>\n",
       "      <td>SP</td>\n",
       "    </tr>\n",
       "    <tr>\n",
       "      <th>...</th>\n",
       "      <td>...</td>\n",
       "      <td>...</td>\n",
       "      <td>...</td>\n",
       "      <td>...</td>\n",
       "    </tr>\n",
       "    <tr>\n",
       "      <th>3069</th>\n",
       "      <td>fe8055980a4ff7f64ed889c2b5926929</td>\n",
       "      <td>81925</td>\n",
       "      <td>None</td>\n",
       "      <td>PR</td>\n",
       "    </tr>\n",
       "    <tr>\n",
       "      <th>3070</th>\n",
       "      <td>fe87f472055fbcf1d7e691c00b1560dc</td>\n",
       "      <td>13085</td>\n",
       "      <td>None</td>\n",
       "      <td>SP</td>\n",
       "    </tr>\n",
       "    <tr>\n",
       "      <th>3082</th>\n",
       "      <td>ff314fa6033cc68ec451c47aee2d6ba4</td>\n",
       "      <td>5424</td>\n",
       "      <td>None</td>\n",
       "      <td>SP</td>\n",
       "    </tr>\n",
       "    <tr>\n",
       "      <th>3089</th>\n",
       "      <td>ffc470761de7d0232558ba5e786e57b7</td>\n",
       "      <td>7091</td>\n",
       "      <td>None</td>\n",
       "      <td>SP</td>\n",
       "    </tr>\n",
       "    <tr>\n",
       "      <th>3090</th>\n",
       "      <td>ffcfefa19b08742c5d315f2791395ee5</td>\n",
       "      <td>80045</td>\n",
       "      <td>None</td>\n",
       "      <td>PR</td>\n",
       "    </tr>\n",
       "  </tbody>\n",
       "</table>\n",
       "<p>705 rows × 4 columns</p>\n",
       "</div>"
      ],
      "text/plain": [
       "                             seller_id  seller_zip_code_prefix seller_city  \\\n",
       "3     002100f778ceb8431b7a1020ff7ab48f                   14405        None   \n",
       "5     004c9cd9d87a3c30c522c48c4fc07416                   14940        None   \n",
       "7     00ab3eff1b5192e5f1a63bcecfee11c8                    4164        None   \n",
       "13    011b0eaba87386a2ae96a7d32bb531d1                   17580        None   \n",
       "18    0176f73cc1195f367f7b32db1e5b3aa8                   14940        None   \n",
       "...                                ...                     ...         ...   \n",
       "3069  fe8055980a4ff7f64ed889c2b5926929                   81925        None   \n",
       "3070  fe87f472055fbcf1d7e691c00b1560dc                   13085        None   \n",
       "3082  ff314fa6033cc68ec451c47aee2d6ba4                    5424        None   \n",
       "3089  ffc470761de7d0232558ba5e786e57b7                    7091        None   \n",
       "3090  ffcfefa19b08742c5d315f2791395ee5                   80045        None   \n",
       "\n",
       "     seller_state  \n",
       "3              SP  \n",
       "5              SP  \n",
       "7              SP  \n",
       "13             SP  \n",
       "18             SP  \n",
       "...           ...  \n",
       "3069           PR  \n",
       "3070           SP  \n",
       "3082           SP  \n",
       "3089           SP  \n",
       "3090           PR  \n",
       "\n",
       "[705 rows x 4 columns]"
      ]
     },
     "execution_count": 106,
     "metadata": {},
     "output_type": "execute_result"
    }
   ],
   "source": [
    "#filtered = df_sellers[df_sellers[\"seller_city\"].isna()]\n",
    "#filtered[\"seller_city\"]\n",
    "mask = df_sellers[\"seller_city\"].isna()\n",
    "df_sellers.loc[mask]"
   ]
  },
  {
   "cell_type": "code",
   "execution_count": 115,
   "id": "4ca2c87e",
   "metadata": {},
   "outputs": [
    {
     "data": {
      "application/vnd.microsoft.datawrangler.viewer.v0+json": {
       "columns": [
        {
         "name": "index",
         "rawType": "int64",
         "type": "integer"
        },
        {
         "name": "seller_zip_code_prefix",
         "rawType": "int64",
         "type": "integer"
        },
        {
         "name": "seller_id",
         "rawType": "object",
         "type": "string"
        },
        {
         "name": "seller_city",
         "rawType": "object",
         "type": "string"
        },
        {
         "name": "seller_state",
         "rawType": "object",
         "type": "string"
        }
       ],
       "ref": "89074993-cbb0-4147-a28e-68df7aca3cb1",
       "rows": [
        [
         "0",
         "9080",
         "0015a82c2db000af6aaaf3ae2ecb0532",
         "santo andre",
         "SP"
        ]
       ],
       "shape": {
        "columns": 4,
        "rows": 1
       }
      },
      "text/html": [
       "<div>\n",
       "<style scoped>\n",
       "    .dataframe tbody tr th:only-of-type {\n",
       "        vertical-align: middle;\n",
       "    }\n",
       "\n",
       "    .dataframe tbody tr th {\n",
       "        vertical-align: top;\n",
       "    }\n",
       "\n",
       "    .dataframe thead th {\n",
       "        text-align: right;\n",
       "    }\n",
       "</style>\n",
       "<table border=\"1\" class=\"dataframe\">\n",
       "  <thead>\n",
       "    <tr style=\"text-align: right;\">\n",
       "      <th></th>\n",
       "      <th>seller_zip_code_prefix</th>\n",
       "      <th>seller_id</th>\n",
       "      <th>seller_city</th>\n",
       "      <th>seller_state</th>\n",
       "    </tr>\n",
       "  </thead>\n",
       "  <tbody>\n",
       "    <tr>\n",
       "      <th>0</th>\n",
       "      <td>9080</td>\n",
       "      <td>0015a82c2db000af6aaaf3ae2ecb0532</td>\n",
       "      <td>santo andre</td>\n",
       "      <td>SP</td>\n",
       "    </tr>\n",
       "  </tbody>\n",
       "</table>\n",
       "</div>"
      ],
      "text/plain": [
       "   seller_zip_code_prefix                         seller_id  seller_city  \\\n",
       "0                    9080  0015a82c2db000af6aaaf3ae2ecb0532  santo andre   \n",
       "\n",
       "  seller_state  \n",
       "0           SP  "
      ]
     },
     "execution_count": 115,
     "metadata": {},
     "output_type": "execute_result"
    }
   ],
   "source": [
    "#df_sellers[\"seller_city\"][~df_sellers[\"seller_id\"].isin(filtered[\"seller_id\"].to_list())].isna().sum()\n",
    "df_sellers.head(1)"
   ]
  },
  {
   "cell_type": "code",
   "execution_count": 113,
   "id": "b8e345f0",
   "metadata": {},
   "outputs": [
    {
     "data": {
      "application/vnd.microsoft.datawrangler.viewer.v0+json": {
       "columns": [
        {
         "name": "index",
         "rawType": "int64",
         "type": "integer"
        },
        {
         "name": "geolocation_zip_code_prefix",
         "rawType": "int64",
         "type": "integer"
        },
        {
         "name": "geolocation_lat",
         "rawType": "float64",
         "type": "float"
        },
        {
         "name": "geolocation_lng",
         "rawType": "float64",
         "type": "float"
        },
        {
         "name": "geolocation_city",
         "rawType": "object",
         "type": "string"
        },
        {
         "name": "geolocation_state",
         "rawType": "object",
         "type": "string"
        }
       ],
       "ref": "1361d5f4-415d-41b2-89a8-9a5227455d05",
       "rows": [
        [
         "0",
         "1037",
         "-23.54562128115268",
         "-46.63929204800168",
         "sao paulo",
         "SP"
        ]
       ],
       "shape": {
        "columns": 5,
        "rows": 1
       }
      },
      "text/html": [
       "<div>\n",
       "<style scoped>\n",
       "    .dataframe tbody tr th:only-of-type {\n",
       "        vertical-align: middle;\n",
       "    }\n",
       "\n",
       "    .dataframe tbody tr th {\n",
       "        vertical-align: top;\n",
       "    }\n",
       "\n",
       "    .dataframe thead th {\n",
       "        text-align: right;\n",
       "    }\n",
       "</style>\n",
       "<table border=\"1\" class=\"dataframe\">\n",
       "  <thead>\n",
       "    <tr style=\"text-align: right;\">\n",
       "      <th></th>\n",
       "      <th>geolocation_zip_code_prefix</th>\n",
       "      <th>geolocation_lat</th>\n",
       "      <th>geolocation_lng</th>\n",
       "      <th>geolocation_city</th>\n",
       "      <th>geolocation_state</th>\n",
       "    </tr>\n",
       "  </thead>\n",
       "  <tbody>\n",
       "    <tr>\n",
       "      <th>0</th>\n",
       "      <td>1037</td>\n",
       "      <td>-23.545621</td>\n",
       "      <td>-46.639292</td>\n",
       "      <td>sao paulo</td>\n",
       "      <td>SP</td>\n",
       "    </tr>\n",
       "  </tbody>\n",
       "</table>\n",
       "</div>"
      ],
      "text/plain": [
       "   geolocation_zip_code_prefix  geolocation_lat  geolocation_lng  \\\n",
       "0                         1037       -23.545621       -46.639292   \n",
       "\n",
       "  geolocation_city geolocation_state  \n",
       "0        sao paulo                SP  "
      ]
     },
     "execution_count": 113,
     "metadata": {},
     "output_type": "execute_result"
    }
   ],
   "source": [
    "df_geolocation.head(1)"
   ]
  },
  {
   "cell_type": "code",
   "execution_count": 118,
   "id": "dd65a2d7",
   "metadata": {},
   "outputs": [],
   "source": [
    "# df_geolocation.set_index(\"geolocation_zip_code_prefix\", inplace = True)\n",
    "# df_sellers.set_index(\"seller_zip_code_prefix\", inplace = True)\n",
    "\n",
    "df_geolocation.reset_index(inplace = True)\n",
    "df_sellers.reset_index(inplace = True)"
   ]
  },
  {
   "cell_type": "code",
   "execution_count": 132,
   "id": "dcbf9313",
   "metadata": {},
   "outputs": [
    {
     "data": {
      "application/vnd.microsoft.datawrangler.viewer.v0+json": {
       "columns": [
        {
         "name": "geolocation_zip_code_prefix",
         "rawType": "int64",
         "type": "integer"
        },
        {
         "name": "geolocation_city",
         "rawType": "object",
         "type": "string"
        }
       ],
       "ref": "3b941962-69b9-4ecd-9b13-f6aee993db7f",
       "rows": [
        [
         "1001",
         "sao paulo"
        ],
        [
         "1002",
         "sao paulo"
        ],
        [
         "1003",
         "sao paulo"
        ],
        [
         "1004",
         "sao paulo"
        ],
        [
         "1005",
         "sao paulo"
        ],
        [
         "1006",
         "sao paulo"
        ],
        [
         "1007",
         "sao paulo"
        ],
        [
         "1008",
         "sao paulo"
        ],
        [
         "1009",
         "sao paulo"
        ],
        [
         "1010",
         "sao paulo"
        ],
        [
         "1011",
         "sao paulo"
        ],
        [
         "1012",
         "sao paulo"
        ],
        [
         "1013",
         "sao paulo"
        ],
        [
         "1014",
         "sao paulo"
        ],
        [
         "1015",
         "sao paulo"
        ],
        [
         "1016",
         "sao paulo"
        ],
        [
         "1017",
         "sao paulo"
        ],
        [
         "1018",
         "sao paulo"
        ],
        [
         "1019",
         "sao paulo"
        ],
        [
         "1020",
         "sao paulo"
        ],
        [
         "1021",
         "sao paulo"
        ],
        [
         "1022",
         "sao paulo"
        ],
        [
         "1023",
         "sao paulo"
        ],
        [
         "1024",
         "sao paulo"
        ],
        [
         "1025",
         "sao paulo"
        ],
        [
         "1026",
         "sao paulo"
        ],
        [
         "1027",
         "sao paulo"
        ],
        [
         "1028",
         "sao paulo"
        ],
        [
         "1029",
         "sao paulo"
        ],
        [
         "1030",
         "sao paulo"
        ],
        [
         "1031",
         "sao paulo"
        ],
        [
         "1032",
         "sao paulo"
        ],
        [
         "1033",
         "sao paulo"
        ],
        [
         "1034",
         "sao paulo"
        ],
        [
         "1035",
         "sao paulo"
        ],
        [
         "1036",
         "sao paulo"
        ],
        [
         "1037",
         "sao paulo"
        ],
        [
         "1038",
         "sao paulo"
        ],
        [
         "1039",
         "sao paulo"
        ],
        [
         "1040",
         "sao paulo"
        ],
        [
         "1041",
         "sao paulo"
        ],
        [
         "1042",
         "sao paulo"
        ],
        [
         "1043",
         "sao paulo"
        ],
        [
         "1044",
         "sao paulo"
        ],
        [
         "1045",
         "sao paulo"
        ],
        [
         "1046",
         "sao paulo"
        ],
        [
         "1047",
         "sao paulo"
        ],
        [
         "1048",
         "sao paulo"
        ],
        [
         "1049",
         "sao paulo"
        ],
        [
         "1050",
         "sao paulo"
        ]
       ],
       "shape": {
        "columns": 1,
        "rows": 19015
       }
      },
      "text/plain": [
       "geolocation_zip_code_prefix\n",
       "1001           sao paulo\n",
       "1002           sao paulo\n",
       "1003           sao paulo\n",
       "1004           sao paulo\n",
       "1005           sao paulo\n",
       "              ...       \n",
       "99960            charrua\n",
       "99965         agua santa\n",
       "99970            ciriaco\n",
       "99980    david canabarro\n",
       "99990          muliterno\n",
       "Name: geolocation_city, Length: 19015, dtype: object"
      ]
     },
     "execution_count": 132,
     "metadata": {},
     "output_type": "execute_result"
    }
   ],
   "source": [
    "mapping = df_geolocation.groupby(\"geolocation_zip_code_prefix\")[\"geolocation_city\"].first()\n",
    "mapping"
   ]
  },
  {
   "cell_type": "code",
   "execution_count": 134,
   "id": "73e5e404",
   "metadata": {},
   "outputs": [
    {
     "data": {
      "application/vnd.microsoft.datawrangler.viewer.v0+json": {
       "columns": [
        {
         "name": "index",
         "rawType": "int64",
         "type": "integer"
        },
        {
         "name": "seller_zip_code_prefix",
         "rawType": "int64",
         "type": "integer"
        },
        {
         "name": "seller_id",
         "rawType": "object",
         "type": "string"
        },
        {
         "name": "seller_city",
         "rawType": "object",
         "type": "unknown"
        },
        {
         "name": "seller_state",
         "rawType": "object",
         "type": "string"
        }
       ],
       "ref": "c364960c-a0aa-4db0-afae-08b73c2c78a7",
       "rows": [
        [
         "3",
         "14405",
         "002100f778ceb8431b7a1020ff7ab48f",
         null,
         "SP"
        ],
        [
         "5",
         "14940",
         "004c9cd9d87a3c30c522c48c4fc07416",
         null,
         "SP"
        ],
        [
         "7",
         "4164",
         "00ab3eff1b5192e5f1a63bcecfee11c8",
         null,
         "SP"
        ],
        [
         "13",
         "17580",
         "011b0eaba87386a2ae96a7d32bb531d1",
         null,
         "SP"
        ],
        [
         "18",
         "14940",
         "0176f73cc1195f367f7b32db1e5b3aa8",
         null,
         "SP"
        ],
        [
         "19",
         "76400",
         "01bcc9d254a0143f0ce9791b960b2a47",
         null,
         "GO"
        ],
        [
         "21",
         "85603",
         "01cf7e3d21494c41fb86034f2e714fa1",
         null,
         "PR"
        ],
        [
         "27",
         "3280",
         "024b564ae893ce8e9bfa02c10a401ece",
         null,
         "SP"
        ],
        [
         "34",
         "9121",
         "02ecc2a19303f05e59ce133fd923fff7",
         null,
         "SP"
        ],
        [
         "35",
         "80620",
         "02f5837340d7eb4f653d676c7256523a",
         null,
         "PR"
        ],
        [
         "38",
         "14940",
         "0336182e1b3e92f029d5354832045fdf",
         null,
         "SP"
        ],
        [
         "41",
         "9443",
         "039b29ff3b3473435d0cd59040575de9",
         null,
         "SP"
        ],
        [
         "49",
         "6016",
         "044668ccd5316b12a7cf0d54a156e3e9",
         null,
         "SP"
        ],
        [
         "52",
         "13150",
         "04aa0a1c5ce6b222003403a3e11c3cc0",
         null,
         "SP"
        ],
        [
         "54",
         "1239",
         "04e38a233f726ef161074ab1c9b0399a",
         null,
         "SP"
        ],
        [
         "59",
         "15840",
         "054694fa03fe82cec4b7551487331d74",
         null,
         "SP"
        ],
        [
         "65",
         "5372",
         "05a48cc8859962767935ab9087417fbb",
         null,
         "SP"
        ],
        [
         "68",
         "6465",
         "05ca864204d09595ae591b93ea9cf93d",
         null,
         "SP"
        ],
        [
         "80",
         "2310",
         "0692610d8abe24f287e9fae90ea0bbee",
         null,
         "SP"
        ],
        [
         "85",
         "58030",
         "07017df32dc5f2f1d2801e579548d620",
         null,
         "PB"
        ],
        [
         "89",
         "28990",
         "0747d5bb69f0586cc869d8af4c50f93e",
         null,
         "RJ"
        ],
        [
         "102",
         "3612",
         "08084d990eb3f53af056ccbc1730c8a7",
         null,
         "SP"
        ],
        [
         "103",
         "33200",
         "081acf3de680d554796c9cf041be7bc2",
         null,
         "MG"
        ],
        [
         "105",
         "12020",
         "085f6f7e049c996695fb2074fe38d45e",
         null,
         "SP"
        ],
        [
         "118",
         "6236",
         "093805f8f2aeb63881444571e1f48f30",
         null,
         "SP"
        ],
        [
         "122",
         "3322",
         "099095b050cfe8eb1ddff5317587e96e",
         null,
         "SP"
        ],
        [
         "125",
         "32260",
         "0a198e95d32b1be2da9424c962a6ebfa",
         null,
         "MG"
        ],
        [
         "126",
         "5524",
         "0a82f5fb06a4fe4ac2cf7cb412ec71b8",
         null,
         "SP"
        ],
        [
         "131",
         "20261",
         "0ad80de75c811326389cfb1daba7d45e",
         null,
         "RJ"
        ],
        [
         "133",
         "81030",
         "0ade5cc4a305ed7093a23f68ca47519c",
         null,
         "PR"
        ],
        [
         "139",
         "7052",
         "0b0ddbc7b9d9584f442c7ac92b0ff6c9",
         null,
         "SP"
        ],
        [
         "153",
         "1547",
         "0bf0150d5b9d60d9cd2906003332f085",
         null,
         "SP"
        ],
        [
         "155",
         "13270",
         "0c7533c71df861ec58ad7ff999ed0e8d",
         null,
         "SP"
        ],
        [
         "157",
         "37410",
         "0c8380b62e38e8a1e6adbeba7eb9688c",
         null,
         "MG"
        ],
        [
         "160",
         "5632",
         "0d33a55da925bbf1ff02af5f6059fc7f",
         null,
         "SP"
        ],
        [
         "164",
         "74043",
         "0daf5180aa44356f60f8effa533b55a2",
         null,
         "GO"
        ],
        [
         "178",
         "6539",
         "0ee4fb99ac55ffbbc98795aa01b7f8fa",
         null,
         "SP"
        ],
        [
         "180",
         "14403",
         "0f0c984a4a955310903b6b6008660bad",
         null,
         "SP"
        ],
        [
         "194",
         "20921",
         "1099a00e0ee3a50935e6c2447ca090c5",
         null,
         "RJ"
        ],
        [
         "196",
         "17280",
         "10ff823eda2b032e2c93d17a7d294736",
         null,
         "SP"
        ],
        [
         "199",
         "36500",
         "11305281b50fff20ae8bb473f8e11876",
         null,
         "MG"
        ],
        [
         "204",
         "89900",
         "11938fcc75f6902fea1d0a6f72b54a57",
         null,
         "SC"
        ],
        [
         "208",
         "14075",
         "11d4c477d09821164bca4f70a2eae031",
         null,
         "SP"
        ],
        [
         "212",
         "85301",
         "1284de4ae8aa26997e748c851557cf0e",
         null,
         "SP"
        ],
        [
         "221",
         "2523",
         "134285d1f41da5c13a756ee8142c8a4e",
         null,
         "SP"
        ],
        [
         "229",
         "84010",
         "13c2ed7698b3ca92dad49e849219da59",
         null,
         "PR"
        ],
        [
         "231",
         "74473",
         "13d95f0f6f73943d4ceffad0fc2cd32c",
         null,
         "GO"
        ],
        [
         "233",
         "13920",
         "13e85aac53340018b40c2af68001b7e0",
         null,
         "SP"
        ],
        [
         "238",
         "42738",
         "1444c08e64d55fb3c25f0f09c07ffcf2",
         null,
         "BA"
        ],
        [
         "240",
         "1026",
         "14a08204d03bb6b6bde8029f801ae0eb",
         null,
         "SP"
        ]
       ],
       "shape": {
        "columns": 4,
        "rows": 705
       }
      },
      "text/html": [
       "<div>\n",
       "<style scoped>\n",
       "    .dataframe tbody tr th:only-of-type {\n",
       "        vertical-align: middle;\n",
       "    }\n",
       "\n",
       "    .dataframe tbody tr th {\n",
       "        vertical-align: top;\n",
       "    }\n",
       "\n",
       "    .dataframe thead th {\n",
       "        text-align: right;\n",
       "    }\n",
       "</style>\n",
       "<table border=\"1\" class=\"dataframe\">\n",
       "  <thead>\n",
       "    <tr style=\"text-align: right;\">\n",
       "      <th></th>\n",
       "      <th>seller_zip_code_prefix</th>\n",
       "      <th>seller_id</th>\n",
       "      <th>seller_city</th>\n",
       "      <th>seller_state</th>\n",
       "    </tr>\n",
       "  </thead>\n",
       "  <tbody>\n",
       "    <tr>\n",
       "      <th>3</th>\n",
       "      <td>14405</td>\n",
       "      <td>002100f778ceb8431b7a1020ff7ab48f</td>\n",
       "      <td>None</td>\n",
       "      <td>SP</td>\n",
       "    </tr>\n",
       "    <tr>\n",
       "      <th>5</th>\n",
       "      <td>14940</td>\n",
       "      <td>004c9cd9d87a3c30c522c48c4fc07416</td>\n",
       "      <td>None</td>\n",
       "      <td>SP</td>\n",
       "    </tr>\n",
       "    <tr>\n",
       "      <th>7</th>\n",
       "      <td>4164</td>\n",
       "      <td>00ab3eff1b5192e5f1a63bcecfee11c8</td>\n",
       "      <td>None</td>\n",
       "      <td>SP</td>\n",
       "    </tr>\n",
       "    <tr>\n",
       "      <th>13</th>\n",
       "      <td>17580</td>\n",
       "      <td>011b0eaba87386a2ae96a7d32bb531d1</td>\n",
       "      <td>None</td>\n",
       "      <td>SP</td>\n",
       "    </tr>\n",
       "    <tr>\n",
       "      <th>18</th>\n",
       "      <td>14940</td>\n",
       "      <td>0176f73cc1195f367f7b32db1e5b3aa8</td>\n",
       "      <td>None</td>\n",
       "      <td>SP</td>\n",
       "    </tr>\n",
       "    <tr>\n",
       "      <th>...</th>\n",
       "      <td>...</td>\n",
       "      <td>...</td>\n",
       "      <td>...</td>\n",
       "      <td>...</td>\n",
       "    </tr>\n",
       "    <tr>\n",
       "      <th>3069</th>\n",
       "      <td>81925</td>\n",
       "      <td>fe8055980a4ff7f64ed889c2b5926929</td>\n",
       "      <td>None</td>\n",
       "      <td>PR</td>\n",
       "    </tr>\n",
       "    <tr>\n",
       "      <th>3070</th>\n",
       "      <td>13085</td>\n",
       "      <td>fe87f472055fbcf1d7e691c00b1560dc</td>\n",
       "      <td>None</td>\n",
       "      <td>SP</td>\n",
       "    </tr>\n",
       "    <tr>\n",
       "      <th>3082</th>\n",
       "      <td>5424</td>\n",
       "      <td>ff314fa6033cc68ec451c47aee2d6ba4</td>\n",
       "      <td>None</td>\n",
       "      <td>SP</td>\n",
       "    </tr>\n",
       "    <tr>\n",
       "      <th>3089</th>\n",
       "      <td>7091</td>\n",
       "      <td>ffc470761de7d0232558ba5e786e57b7</td>\n",
       "      <td>None</td>\n",
       "      <td>SP</td>\n",
       "    </tr>\n",
       "    <tr>\n",
       "      <th>3090</th>\n",
       "      <td>80045</td>\n",
       "      <td>ffcfefa19b08742c5d315f2791395ee5</td>\n",
       "      <td>None</td>\n",
       "      <td>PR</td>\n",
       "    </tr>\n",
       "  </tbody>\n",
       "</table>\n",
       "<p>705 rows × 4 columns</p>\n",
       "</div>"
      ],
      "text/plain": [
       "      seller_zip_code_prefix                         seller_id seller_city  \\\n",
       "3                      14405  002100f778ceb8431b7a1020ff7ab48f        None   \n",
       "5                      14940  004c9cd9d87a3c30c522c48c4fc07416        None   \n",
       "7                       4164  00ab3eff1b5192e5f1a63bcecfee11c8        None   \n",
       "13                     17580  011b0eaba87386a2ae96a7d32bb531d1        None   \n",
       "18                     14940  0176f73cc1195f367f7b32db1e5b3aa8        None   \n",
       "...                      ...                               ...         ...   \n",
       "3069                   81925  fe8055980a4ff7f64ed889c2b5926929        None   \n",
       "3070                   13085  fe87f472055fbcf1d7e691c00b1560dc        None   \n",
       "3082                    5424  ff314fa6033cc68ec451c47aee2d6ba4        None   \n",
       "3089                    7091  ffc470761de7d0232558ba5e786e57b7        None   \n",
       "3090                   80045  ffcfefa19b08742c5d315f2791395ee5        None   \n",
       "\n",
       "     seller_state  \n",
       "3              SP  \n",
       "5              SP  \n",
       "7              SP  \n",
       "13             SP  \n",
       "18             SP  \n",
       "...           ...  \n",
       "3069           PR  \n",
       "3070           SP  \n",
       "3082           SP  \n",
       "3089           SP  \n",
       "3090           PR  \n",
       "\n",
       "[705 rows x 4 columns]"
      ]
     },
     "execution_count": 134,
     "metadata": {},
     "output_type": "execute_result"
    }
   ],
   "source": [
    "df_sellers[mask]"
   ]
  },
  {
   "cell_type": "code",
   "execution_count": 157,
   "id": "89c92272",
   "metadata": {},
   "outputs": [
    {
     "data": {
      "application/vnd.microsoft.datawrangler.viewer.v0+json": {
       "columns": [
        {
         "name": "index",
         "rawType": "int64",
         "type": "integer"
        },
        {
         "name": "seller_zip_code_prefix",
         "rawType": "int64",
         "type": "integer"
        },
        {
         "name": "seller_id",
         "rawType": "object",
         "type": "string"
        },
        {
         "name": "seller_city",
         "rawType": "object",
         "type": "string"
        },
        {
         "name": "seller_state",
         "rawType": "object",
         "type": "string"
        }
       ],
       "ref": "ebb541a4-16e3-46fb-b3ff-3f4e45ae8067",
       "rows": [
        [
         "606",
         "76804",
         "3364a91ec4d56c98e44174de954b94f6",
         "porto velho",
         "RO"
        ]
       ],
       "shape": {
        "columns": 4,
        "rows": 1
       }
      },
      "text/html": [
       "<div>\n",
       "<style scoped>\n",
       "    .dataframe tbody tr th:only-of-type {\n",
       "        vertical-align: middle;\n",
       "    }\n",
       "\n",
       "    .dataframe tbody tr th {\n",
       "        vertical-align: top;\n",
       "    }\n",
       "\n",
       "    .dataframe thead th {\n",
       "        text-align: right;\n",
       "    }\n",
       "</style>\n",
       "<table border=\"1\" class=\"dataframe\">\n",
       "  <thead>\n",
       "    <tr style=\"text-align: right;\">\n",
       "      <th></th>\n",
       "      <th>seller_zip_code_prefix</th>\n",
       "      <th>seller_id</th>\n",
       "      <th>seller_city</th>\n",
       "      <th>seller_state</th>\n",
       "    </tr>\n",
       "  </thead>\n",
       "  <tbody>\n",
       "    <tr>\n",
       "      <th>606</th>\n",
       "      <td>76804</td>\n",
       "      <td>3364a91ec4d56c98e44174de954b94f6</td>\n",
       "      <td>porto velho</td>\n",
       "      <td>RO</td>\n",
       "    </tr>\n",
       "  </tbody>\n",
       "</table>\n",
       "</div>"
      ],
      "text/plain": [
       "     seller_zip_code_prefix                         seller_id  seller_city  \\\n",
       "606                   76804  3364a91ec4d56c98e44174de954b94f6  porto velho   \n",
       "\n",
       "    seller_state  \n",
       "606           RO  "
      ]
     },
     "execution_count": 157,
     "metadata": {},
     "output_type": "execute_result"
    }
   ],
   "source": [
    "df_sellers.loc[mask,\"seller_city\"] = df_sellers.loc[mask,\"seller_city\"].fillna(df_sellers[\"seller_zip_code_prefix\"].map(mapping))\n",
    "df_sellers[df_sellers[\"seller_zip_code_prefix\"] == 76804]"
   ]
  },
  {
   "cell_type": "code",
   "execution_count": 144,
   "id": "14717ea9",
   "metadata": {},
   "outputs": [
    {
     "data": {
      "application/vnd.microsoft.datawrangler.viewer.v0+json": {
       "columns": [
        {
         "name": "index",
         "rawType": "int64",
         "type": "integer"
        },
        {
         "name": "seller_zip_code_prefix",
         "rawType": "int64",
         "type": "integer"
        },
        {
         "name": "seller_id",
         "rawType": "object",
         "type": "string"
        },
        {
         "name": "seller_city",
         "rawType": "object",
         "type": "unknown"
        },
        {
         "name": "seller_state",
         "rawType": "object",
         "type": "string"
        }
       ],
       "ref": "a8a3a057-dca1-4d6c-bbce-f5a79c222893",
       "rows": [
        [
         "1088",
         "82040",
         "5962468f885ea01a1b6a97a218797b0a",
         null,
         "PR"
        ]
       ],
       "shape": {
        "columns": 4,
        "rows": 1
       }
      },
      "text/html": [
       "<div>\n",
       "<style scoped>\n",
       "    .dataframe tbody tr th:only-of-type {\n",
       "        vertical-align: middle;\n",
       "    }\n",
       "\n",
       "    .dataframe tbody tr th {\n",
       "        vertical-align: top;\n",
       "    }\n",
       "\n",
       "    .dataframe thead th {\n",
       "        text-align: right;\n",
       "    }\n",
       "</style>\n",
       "<table border=\"1\" class=\"dataframe\">\n",
       "  <thead>\n",
       "    <tr style=\"text-align: right;\">\n",
       "      <th></th>\n",
       "      <th>seller_zip_code_prefix</th>\n",
       "      <th>seller_id</th>\n",
       "      <th>seller_city</th>\n",
       "      <th>seller_state</th>\n",
       "    </tr>\n",
       "  </thead>\n",
       "  <tbody>\n",
       "    <tr>\n",
       "      <th>1088</th>\n",
       "      <td>82040</td>\n",
       "      <td>5962468f885ea01a1b6a97a218797b0a</td>\n",
       "      <td>NaN</td>\n",
       "      <td>PR</td>\n",
       "    </tr>\n",
       "  </tbody>\n",
       "</table>\n",
       "</div>"
      ],
      "text/plain": [
       "      seller_zip_code_prefix                         seller_id seller_city  \\\n",
       "1088                   82040  5962468f885ea01a1b6a97a218797b0a         NaN   \n",
       "\n",
       "     seller_state  \n",
       "1088           PR  "
      ]
     },
     "execution_count": 144,
     "metadata": {},
     "output_type": "execute_result"
    }
   ],
   "source": [
    "df_sellers[df_sellers[\"seller_city\"].isna()]"
   ]
  },
  {
   "cell_type": "markdown",
   "id": "a1777115",
   "metadata": {},
   "source": [
    "Jest 1 seller_city dla którego nie ma odpowiednika w geolocation - ten wiersz pewnie trzeba będzie usunąć"
   ]
  },
  {
   "cell_type": "markdown",
   "id": "07392216",
   "metadata": {},
   "source": [
    "2. Usunięcie dla niektórych wartości z kolumny payment_value z tabeli 'olist_order_payments_dataset', tą wartość będzie można obliczyć \n",
    "z tabeli 'olist_order_items_dataset' sumując wartości price + freight_value dla konkretnego order_id"
   ]
  },
  {
   "cell_type": "code",
   "execution_count": 5,
   "id": "93b20660",
   "metadata": {},
   "outputs": [
    {
     "data": {
      "application/vnd.microsoft.datawrangler.viewer.v0+json": {
       "columns": [
        {
         "name": "index",
         "rawType": "int64",
         "type": "integer"
        },
        {
         "name": "order_id",
         "rawType": "object",
         "type": "string"
        },
        {
         "name": "payment_sequential",
         "rawType": "int64",
         "type": "integer"
        },
        {
         "name": "payment_type",
         "rawType": "object",
         "type": "string"
        },
        {
         "name": "payment_installments",
         "rawType": "int64",
         "type": "integer"
        },
        {
         "name": "payment_value",
         "rawType": "float64",
         "type": "float"
        }
       ],
       "ref": "952787a9-db0e-44f8-8a69-f88df36f13c7",
       "rows": [
        [
         "0",
         "b81ef226f3fe1789b1e8b2acac839d17",
         "1",
         "credit_card",
         "8",
         "99.33"
        ],
        [
         "1",
         "a9810da82917af2d9aefd1278f1dcfa0",
         "1",
         "credit_card",
         "1",
         "24.39"
        ],
        [
         "2",
         "25e8ea4e93396b6fa0d3dd708e76c1bd",
         "1",
         "credit_card",
         "1",
         "65.71"
        ],
        [
         "3",
         "ba78997921bbcdc1373bb41e913ab953",
         "1",
         "credit_card",
         "8",
         null
        ],
        [
         "4",
         "42fdf880ba16b47b59251dd489d4441a",
         "1",
         "credit_card",
         "2",
         null
        ]
       ],
       "shape": {
        "columns": 5,
        "rows": 5
       }
      },
      "text/html": [
       "<div>\n",
       "<style scoped>\n",
       "    .dataframe tbody tr th:only-of-type {\n",
       "        vertical-align: middle;\n",
       "    }\n",
       "\n",
       "    .dataframe tbody tr th {\n",
       "        vertical-align: top;\n",
       "    }\n",
       "\n",
       "    .dataframe thead th {\n",
       "        text-align: right;\n",
       "    }\n",
       "</style>\n",
       "<table border=\"1\" class=\"dataframe\">\n",
       "  <thead>\n",
       "    <tr style=\"text-align: right;\">\n",
       "      <th></th>\n",
       "      <th>order_id</th>\n",
       "      <th>payment_sequential</th>\n",
       "      <th>payment_type</th>\n",
       "      <th>payment_installments</th>\n",
       "      <th>payment_value</th>\n",
       "    </tr>\n",
       "  </thead>\n",
       "  <tbody>\n",
       "    <tr>\n",
       "      <th>0</th>\n",
       "      <td>b81ef226f3fe1789b1e8b2acac839d17</td>\n",
       "      <td>1</td>\n",
       "      <td>credit_card</td>\n",
       "      <td>8</td>\n",
       "      <td>99.33</td>\n",
       "    </tr>\n",
       "    <tr>\n",
       "      <th>1</th>\n",
       "      <td>a9810da82917af2d9aefd1278f1dcfa0</td>\n",
       "      <td>1</td>\n",
       "      <td>credit_card</td>\n",
       "      <td>1</td>\n",
       "      <td>24.39</td>\n",
       "    </tr>\n",
       "    <tr>\n",
       "      <th>2</th>\n",
       "      <td>25e8ea4e93396b6fa0d3dd708e76c1bd</td>\n",
       "      <td>1</td>\n",
       "      <td>credit_card</td>\n",
       "      <td>1</td>\n",
       "      <td>65.71</td>\n",
       "    </tr>\n",
       "    <tr>\n",
       "      <th>3</th>\n",
       "      <td>ba78997921bbcdc1373bb41e913ab953</td>\n",
       "      <td>1</td>\n",
       "      <td>credit_card</td>\n",
       "      <td>8</td>\n",
       "      <td>NaN</td>\n",
       "    </tr>\n",
       "    <tr>\n",
       "      <th>4</th>\n",
       "      <td>42fdf880ba16b47b59251dd489d4441a</td>\n",
       "      <td>1</td>\n",
       "      <td>credit_card</td>\n",
       "      <td>2</td>\n",
       "      <td>NaN</td>\n",
       "    </tr>\n",
       "  </tbody>\n",
       "</table>\n",
       "</div>"
      ],
      "text/plain": [
       "                           order_id  payment_sequential payment_type  \\\n",
       "0  b81ef226f3fe1789b1e8b2acac839d17                   1  credit_card   \n",
       "1  a9810da82917af2d9aefd1278f1dcfa0                   1  credit_card   \n",
       "2  25e8ea4e93396b6fa0d3dd708e76c1bd                   1  credit_card   \n",
       "3  ba78997921bbcdc1373bb41e913ab953                   1  credit_card   \n",
       "4  42fdf880ba16b47b59251dd489d4441a                   1  credit_card   \n",
       "\n",
       "   payment_installments  payment_value  \n",
       "0                     8          99.33  \n",
       "1                     1          24.39  \n",
       "2                     1          65.71  \n",
       "3                     8            NaN  \n",
       "4                     2            NaN  "
      ]
     },
     "execution_count": 5,
     "metadata": {},
     "output_type": "execute_result"
    }
   ],
   "source": [
    "df_order_payments = pd.read_sql('SELECT * FROM dbo.order_payments', engine)\n",
    "df_order_payments.head()"
   ]
  },
  {
   "cell_type": "code",
   "execution_count": 6,
   "id": "fad408e5",
   "metadata": {},
   "outputs": [
    {
     "data": {
      "application/vnd.microsoft.datawrangler.viewer.v0+json": {
       "columns": [
        {
         "name": "index",
         "rawType": "int64",
         "type": "integer"
        },
        {
         "name": "order_id",
         "rawType": "object",
         "type": "string"
        },
        {
         "name": "order_item_id",
         "rawType": "int64",
         "type": "integer"
        },
        {
         "name": "product_id",
         "rawType": "object",
         "type": "string"
        },
        {
         "name": "seller_id",
         "rawType": "object",
         "type": "string"
        },
        {
         "name": "shipping_limit_date",
         "rawType": "datetime64[ns]",
         "type": "datetime"
        },
        {
         "name": "price",
         "rawType": "float64",
         "type": "float"
        },
        {
         "name": "freight_value",
         "rawType": "float64",
         "type": "float"
        }
       ],
       "ref": "1e076502-4aab-4f72-95ba-a20ed3928a0b",
       "rows": [
        [
         "0",
         "00010242fe8c5a6d1ba2dd792cb16214",
         "1",
         "4244733e06e7ecb4970a6e2683c13e61",
         "48436dade18ac8b2bce089ec2a041202",
         "2017-09-19 09:45:35",
         "58.9",
         "13.29"
        ],
        [
         "1",
         "00018f77f2f0320c557190d7a144bdd3",
         "1",
         "e5f2d52b802189ee658865ca93d83a8f",
         "dd7ddc04e1b6c2c614352b383efe2d36",
         "2017-05-03 11:05:13",
         "239.9",
         "19.93"
        ],
        [
         "2",
         "000229ec398224ef6ca0657da4fc703e",
         "1",
         "c777355d18b72b67abbeef9df44fd0fd",
         "5b51032eddd242adc84c38acab88f23d",
         "2018-01-18 14:48:30",
         "199.0",
         "17.87"
        ],
        [
         "3",
         "00024acbcdf0a6daa1e931b038114c75",
         "1",
         "7634da152a4610f1595efa32f14722fc",
         "9d7a1d34a5052409006425275ba1c2b4",
         "2018-08-15 10:10:18",
         "12.99",
         "12.79"
        ],
        [
         "4",
         "00042b26cf59d7ce69dfabb4e55b4fd9",
         "1",
         "ac6c3623068f30de03045865e4e10089",
         "df560393f3a51e74553ab94004ba5c87",
         "2017-02-13 13:57:51",
         "199.9",
         "18.14"
        ]
       ],
       "shape": {
        "columns": 7,
        "rows": 5
       }
      },
      "text/html": [
       "<div>\n",
       "<style scoped>\n",
       "    .dataframe tbody tr th:only-of-type {\n",
       "        vertical-align: middle;\n",
       "    }\n",
       "\n",
       "    .dataframe tbody tr th {\n",
       "        vertical-align: top;\n",
       "    }\n",
       "\n",
       "    .dataframe thead th {\n",
       "        text-align: right;\n",
       "    }\n",
       "</style>\n",
       "<table border=\"1\" class=\"dataframe\">\n",
       "  <thead>\n",
       "    <tr style=\"text-align: right;\">\n",
       "      <th></th>\n",
       "      <th>order_id</th>\n",
       "      <th>order_item_id</th>\n",
       "      <th>product_id</th>\n",
       "      <th>seller_id</th>\n",
       "      <th>shipping_limit_date</th>\n",
       "      <th>price</th>\n",
       "      <th>freight_value</th>\n",
       "    </tr>\n",
       "  </thead>\n",
       "  <tbody>\n",
       "    <tr>\n",
       "      <th>0</th>\n",
       "      <td>00010242fe8c5a6d1ba2dd792cb16214</td>\n",
       "      <td>1</td>\n",
       "      <td>4244733e06e7ecb4970a6e2683c13e61</td>\n",
       "      <td>48436dade18ac8b2bce089ec2a041202</td>\n",
       "      <td>2017-09-19 09:45:35</td>\n",
       "      <td>58.90</td>\n",
       "      <td>13.29</td>\n",
       "    </tr>\n",
       "    <tr>\n",
       "      <th>1</th>\n",
       "      <td>00018f77f2f0320c557190d7a144bdd3</td>\n",
       "      <td>1</td>\n",
       "      <td>e5f2d52b802189ee658865ca93d83a8f</td>\n",
       "      <td>dd7ddc04e1b6c2c614352b383efe2d36</td>\n",
       "      <td>2017-05-03 11:05:13</td>\n",
       "      <td>239.90</td>\n",
       "      <td>19.93</td>\n",
       "    </tr>\n",
       "    <tr>\n",
       "      <th>2</th>\n",
       "      <td>000229ec398224ef6ca0657da4fc703e</td>\n",
       "      <td>1</td>\n",
       "      <td>c777355d18b72b67abbeef9df44fd0fd</td>\n",
       "      <td>5b51032eddd242adc84c38acab88f23d</td>\n",
       "      <td>2018-01-18 14:48:30</td>\n",
       "      <td>199.00</td>\n",
       "      <td>17.87</td>\n",
       "    </tr>\n",
       "    <tr>\n",
       "      <th>3</th>\n",
       "      <td>00024acbcdf0a6daa1e931b038114c75</td>\n",
       "      <td>1</td>\n",
       "      <td>7634da152a4610f1595efa32f14722fc</td>\n",
       "      <td>9d7a1d34a5052409006425275ba1c2b4</td>\n",
       "      <td>2018-08-15 10:10:18</td>\n",
       "      <td>12.99</td>\n",
       "      <td>12.79</td>\n",
       "    </tr>\n",
       "    <tr>\n",
       "      <th>4</th>\n",
       "      <td>00042b26cf59d7ce69dfabb4e55b4fd9</td>\n",
       "      <td>1</td>\n",
       "      <td>ac6c3623068f30de03045865e4e10089</td>\n",
       "      <td>df560393f3a51e74553ab94004ba5c87</td>\n",
       "      <td>2017-02-13 13:57:51</td>\n",
       "      <td>199.90</td>\n",
       "      <td>18.14</td>\n",
       "    </tr>\n",
       "  </tbody>\n",
       "</table>\n",
       "</div>"
      ],
      "text/plain": [
       "                           order_id  order_item_id  \\\n",
       "0  00010242fe8c5a6d1ba2dd792cb16214              1   \n",
       "1  00018f77f2f0320c557190d7a144bdd3              1   \n",
       "2  000229ec398224ef6ca0657da4fc703e              1   \n",
       "3  00024acbcdf0a6daa1e931b038114c75              1   \n",
       "4  00042b26cf59d7ce69dfabb4e55b4fd9              1   \n",
       "\n",
       "                         product_id                         seller_id  \\\n",
       "0  4244733e06e7ecb4970a6e2683c13e61  48436dade18ac8b2bce089ec2a041202   \n",
       "1  e5f2d52b802189ee658865ca93d83a8f  dd7ddc04e1b6c2c614352b383efe2d36   \n",
       "2  c777355d18b72b67abbeef9df44fd0fd  5b51032eddd242adc84c38acab88f23d   \n",
       "3  7634da152a4610f1595efa32f14722fc  9d7a1d34a5052409006425275ba1c2b4   \n",
       "4  ac6c3623068f30de03045865e4e10089  df560393f3a51e74553ab94004ba5c87   \n",
       "\n",
       "  shipping_limit_date   price  freight_value  \n",
       "0 2017-09-19 09:45:35   58.90          13.29  \n",
       "1 2017-05-03 11:05:13  239.90          19.93  \n",
       "2 2018-01-18 14:48:30  199.00          17.87  \n",
       "3 2018-08-15 10:10:18   12.99          12.79  \n",
       "4 2017-02-13 13:57:51  199.90          18.14  "
      ]
     },
     "execution_count": 6,
     "metadata": {},
     "output_type": "execute_result"
    }
   ],
   "source": [
    "df_order_items = pd.read_sql('SELECT * FROM dbo.order_items', engine)\n",
    "df_order_items.head()"
   ]
  },
  {
   "cell_type": "code",
   "execution_count": 7,
   "id": "3ad0a082",
   "metadata": {},
   "outputs": [],
   "source": [
    "df_order_items[\"payment_value\"] = df_order_items[\"price\"] + df_order_items[\"freight_value\"]"
   ]
  },
  {
   "cell_type": "code",
   "execution_count": 8,
   "id": "eeeeb174",
   "metadata": {},
   "outputs": [
    {
     "name": "stdout",
     "output_type": "stream",
     "text": [
      "103886\n"
     ]
    },
    {
     "data": {
      "text/plain": [
       "99440"
      ]
     },
     "execution_count": 8,
     "metadata": {},
     "output_type": "execute_result"
    }
   ],
   "source": [
    "print(len(df_order_payments))\n",
    "df_order_payments[\"order_id\"].nunique()"
   ]
  },
  {
   "cell_type": "code",
   "execution_count": 9,
   "id": "d96230d3",
   "metadata": {},
   "outputs": [
    {
     "name": "stdout",
     "output_type": "stream",
     "text": [
      "Liczba pustych wierszy dla kolumny order_id:  0\n",
      "Liczba pustych wierszy dla kolumny payment_sequential:  0\n",
      "Liczba pustych wierszy dla kolumny payment_type:  0\n",
      "Liczba pustych wierszy dla kolumny payment_installments:  0\n",
      "Liczba pustych wierszy dla kolumny payment_value:  19572\n"
     ]
    }
   ],
   "source": [
    "for i in df_order_payments.columns:\n",
    "    print(f\"Liczba pustych wierszy dla kolumny {i}: \",df_order_payments[i].isna().sum())"
   ]
  },
  {
   "cell_type": "code",
   "execution_count": 10,
   "id": "f0405a7f",
   "metadata": {},
   "outputs": [
    {
     "name": "stdout",
     "output_type": "stream",
     "text": [
      "112650\n"
     ]
    },
    {
     "data": {
      "text/plain": [
       "98666"
      ]
     },
     "execution_count": 10,
     "metadata": {},
     "output_type": "execute_result"
    }
   ],
   "source": [
    "print(len(df_order_items))\n",
    "df_order_items[\"order_id\"].nunique()"
   ]
  },
  {
   "cell_type": "code",
   "execution_count": null,
   "id": "b1d0c277",
   "metadata": {},
   "outputs": [
    {
     "data": {
      "application/vnd.microsoft.datawrangler.viewer.v0+json": {
       "columns": [
        {
         "name": "index",
         "rawType": "object",
         "type": "string"
        },
        {
         "name": "0",
         "rawType": "int64",
         "type": "integer"
        }
       ],
       "ref": "1af3fea4-0e72-4ce9-b361-b4bb1bde0956",
       "rows": [
        [
         "order_id",
         "0"
        ],
        [
         "order_item_id",
         "0"
        ],
        [
         "product_id",
         "0"
        ],
        [
         "seller_id",
         "0"
        ],
        [
         "shipping_limit_date",
         "0"
        ],
        [
         "price",
         "0"
        ],
        [
         "freight_value",
         "0"
        ],
        [
         "payment_value",
         "0"
        ]
       ],
       "shape": {
        "columns": 1,
        "rows": 8
       }
      },
      "text/plain": [
       "order_id               0\n",
       "order_item_id          0\n",
       "product_id             0\n",
       "seller_id              0\n",
       "shipping_limit_date    0\n",
       "price                  0\n",
       "freight_value          0\n",
       "payment_value          0\n",
       "dtype: int64"
      ]
     },
     "execution_count": 11,
     "metadata": {},
     "output_type": "execute_result"
    }
   ],
   "source": [
    "df_order_items.isna().sum()"
   ]
  },
  {
   "cell_type": "markdown",
   "id": "cb292848",
   "metadata": {},
   "source": [
    "Trzeba sprawdzić ile jest takich zamówień po order_id które mają dla jednego wiersza uzupełnioną cene a dla drugiego nie mają</br>\n",
    "Tutaj trzeba będzie też sprawdzić coś takiego że jak w tabeli order_payments są wiersze które w ramach jednego zamówienia mają część danych uzupełnionych a część nie (kilka wiersz w tabeli order_payments to trzeba tą brakującą ilośc podzielić przez liczbę pustych wierszy i wstawić do tabeli payments)"
   ]
  },
  {
   "cell_type": "code",
   "execution_count": 14,
   "id": "d166478c",
   "metadata": {},
   "outputs": [
    {
     "data": {
      "application/vnd.microsoft.datawrangler.viewer.v0+json": {
       "columns": [
        {
         "name": "index",
         "rawType": "int64",
         "type": "integer"
        },
        {
         "name": "order_id",
         "rawType": "object",
         "type": "string"
        },
        {
         "name": "payment_sequential",
         "rawType": "int64",
         "type": "integer"
        },
        {
         "name": "payment_type",
         "rawType": "object",
         "type": "string"
        },
        {
         "name": "payment_installments",
         "rawType": "int64",
         "type": "integer"
        },
        {
         "name": "payment_value",
         "rawType": "float64",
         "type": "float"
        }
       ],
       "ref": "b5c1be48-e44c-4b71-8723-0af6ce72fef1",
       "rows": [
        [
         "0",
         "b81ef226f3fe1789b1e8b2acac839d17",
         "1",
         "credit_card",
         "8",
         "99.33"
        ]
       ],
       "shape": {
        "columns": 5,
        "rows": 1
       }
      },
      "text/html": [
       "<div>\n",
       "<style scoped>\n",
       "    .dataframe tbody tr th:only-of-type {\n",
       "        vertical-align: middle;\n",
       "    }\n",
       "\n",
       "    .dataframe tbody tr th {\n",
       "        vertical-align: top;\n",
       "    }\n",
       "\n",
       "    .dataframe thead th {\n",
       "        text-align: right;\n",
       "    }\n",
       "</style>\n",
       "<table border=\"1\" class=\"dataframe\">\n",
       "  <thead>\n",
       "    <tr style=\"text-align: right;\">\n",
       "      <th></th>\n",
       "      <th>order_id</th>\n",
       "      <th>payment_sequential</th>\n",
       "      <th>payment_type</th>\n",
       "      <th>payment_installments</th>\n",
       "      <th>payment_value</th>\n",
       "    </tr>\n",
       "  </thead>\n",
       "  <tbody>\n",
       "    <tr>\n",
       "      <th>0</th>\n",
       "      <td>b81ef226f3fe1789b1e8b2acac839d17</td>\n",
       "      <td>1</td>\n",
       "      <td>credit_card</td>\n",
       "      <td>8</td>\n",
       "      <td>99.33</td>\n",
       "    </tr>\n",
       "  </tbody>\n",
       "</table>\n",
       "</div>"
      ],
      "text/plain": [
       "                           order_id  payment_sequential payment_type  \\\n",
       "0  b81ef226f3fe1789b1e8b2acac839d17                   1  credit_card   \n",
       "\n",
       "   payment_installments  payment_value  \n",
       "0                     8          99.33  "
      ]
     },
     "execution_count": 14,
     "metadata": {},
     "output_type": "execute_result"
    }
   ],
   "source": [
    "df_order_payments.head(1)"
   ]
  },
  {
   "cell_type": "markdown",
   "id": "fa4b29f3",
   "metadata": {},
   "source": [
    "Nastepnie trzeba bedzie podzielic roznice miedzy items a payments przez liczbe pustych wierszy dla danego order_id i uzupełnić brakujące wiersze dla payments"
   ]
  },
  {
   "cell_type": "code",
   "execution_count": 12,
   "id": "e2432d37",
   "metadata": {},
   "outputs": [
    {
     "data": {
      "application/vnd.microsoft.datawrangler.viewer.v0+json": {
       "columns": [
        {
         "name": "index",
         "rawType": "int64",
         "type": "integer"
        },
        {
         "name": "order_id",
         "rawType": "object",
         "type": "string"
        },
        {
         "name": "payment_sequential",
         "rawType": "int64",
         "type": "integer"
        },
        {
         "name": "payment_type",
         "rawType": "object",
         "type": "string"
        },
        {
         "name": "payment_installments",
         "rawType": "int64",
         "type": "integer"
        },
        {
         "name": "payment_value",
         "rawType": "float64",
         "type": "float"
        }
       ],
       "ref": "e675e2d5-4078-414a-87ca-5052bc555cfb",
       "rows": [
        [
         "4885",
         "fa65dad1b0e818e3ccc5cb0e39231352",
         "1",
         "voucher",
         "1",
         "3.71"
        ],
        [
         "7141",
         "fa65dad1b0e818e3ccc5cb0e39231352",
         "22",
         "voucher",
         "1",
         "4.03"
        ],
        [
         "7224",
         "fa65dad1b0e818e3ccc5cb0e39231352",
         "23",
         "voucher",
         "1",
         "18.86"
        ],
        [
         "7875",
         "fa65dad1b0e818e3ccc5cb0e39231352",
         "24",
         "voucher",
         "1",
         "0.42"
        ],
        [
         "10147",
         "fa65dad1b0e818e3ccc5cb0e39231352",
         "25",
         "voucher",
         "1",
         "3.68"
        ],
        [
         "12720",
         "fa65dad1b0e818e3ccc5cb0e39231352",
         "26",
         "voucher",
         "1",
         "28.27"
        ],
        [
         "16191",
         "fa65dad1b0e818e3ccc5cb0e39231352",
         "2",
         "voucher",
         "1",
         null
        ],
        [
         "20907",
         "fa65dad1b0e818e3ccc5cb0e39231352",
         "3",
         "voucher",
         "1",
         null
        ],
        [
         "23860",
         "fa65dad1b0e818e3ccc5cb0e39231352",
         "4",
         "voucher",
         "1",
         null
        ],
        [
         "26151",
         "fa65dad1b0e818e3ccc5cb0e39231352",
         "5",
         "voucher",
         "1",
         null
        ],
        [
         "36246",
         "fa65dad1b0e818e3ccc5cb0e39231352",
         "6",
         "voucher",
         "1",
         null
        ],
        [
         "38051",
         "fa65dad1b0e818e3ccc5cb0e39231352",
         "7",
         "voucher",
         "1",
         null
        ],
        [
         "40649",
         "fa65dad1b0e818e3ccc5cb0e39231352",
         "27",
         "voucher",
         "1",
         "66.02"
        ],
        [
         "48088",
         "fa65dad1b0e818e3ccc5cb0e39231352",
         "8",
         "voucher",
         "1",
         "26.02"
        ],
        [
         "49406",
         "fa65dad1b0e818e3ccc5cb0e39231352",
         "9",
         "voucher",
         "1",
         "1.08"
        ],
        [
         "52277",
         "fa65dad1b0e818e3ccc5cb0e39231352",
         "10",
         "voucher",
         "1",
         "12.86"
        ],
        [
         "53111",
         "fa65dad1b0e818e3ccc5cb0e39231352",
         "28",
         "voucher",
         "1",
         "29.05"
        ],
        [
         "54504",
         "fa65dad1b0e818e3ccc5cb0e39231352",
         "29",
         "voucher",
         "1",
         "19.26"
        ],
        [
         "61676",
         "fa65dad1b0e818e3ccc5cb0e39231352",
         "11",
         "voucher",
         "1",
         "4.03"
        ],
        [
         "63962",
         "fa65dad1b0e818e3ccc5cb0e39231352",
         "12",
         "voucher",
         "1",
         "3.6"
        ],
        [
         "63965",
         "fa65dad1b0e818e3ccc5cb0e39231352",
         "13",
         "voucher",
         "1",
         "0.0"
        ],
        [
         "88223",
         "fa65dad1b0e818e3ccc5cb0e39231352",
         "14",
         "voucher",
         "1",
         "0.0"
        ],
        [
         "90495",
         "fa65dad1b0e818e3ccc5cb0e39231352",
         "15",
         "voucher",
         "1",
         "14.04"
        ],
        [
         "93707",
         "fa65dad1b0e818e3ccc5cb0e39231352",
         "16",
         "voucher",
         "1",
         "12.86"
        ],
        [
         "98391",
         "fa65dad1b0e818e3ccc5cb0e39231352",
         "17",
         "voucher",
         "1",
         "3.72"
        ],
        [
         "99093",
         "fa65dad1b0e818e3ccc5cb0e39231352",
         "18",
         "voucher",
         "1",
         "0.73"
        ],
        [
         "99575",
         "fa65dad1b0e818e3ccc5cb0e39231352",
         "19",
         "voucher",
         "1",
         "5.02"
        ],
        [
         "102739",
         "fa65dad1b0e818e3ccc5cb0e39231352",
         "20",
         "voucher",
         "1",
         "150.0"
        ],
        [
         "102904",
         "fa65dad1b0e818e3ccc5cb0e39231352",
         "21",
         "voucher",
         "1",
         "4.11"
        ]
       ],
       "shape": {
        "columns": 5,
        "rows": 29
       }
      },
      "text/html": [
       "<div>\n",
       "<style scoped>\n",
       "    .dataframe tbody tr th:only-of-type {\n",
       "        vertical-align: middle;\n",
       "    }\n",
       "\n",
       "    .dataframe tbody tr th {\n",
       "        vertical-align: top;\n",
       "    }\n",
       "\n",
       "    .dataframe thead th {\n",
       "        text-align: right;\n",
       "    }\n",
       "</style>\n",
       "<table border=\"1\" class=\"dataframe\">\n",
       "  <thead>\n",
       "    <tr style=\"text-align: right;\">\n",
       "      <th></th>\n",
       "      <th>order_id</th>\n",
       "      <th>payment_sequential</th>\n",
       "      <th>payment_type</th>\n",
       "      <th>payment_installments</th>\n",
       "      <th>payment_value</th>\n",
       "    </tr>\n",
       "  </thead>\n",
       "  <tbody>\n",
       "    <tr>\n",
       "      <th>4885</th>\n",
       "      <td>fa65dad1b0e818e3ccc5cb0e39231352</td>\n",
       "      <td>1</td>\n",
       "      <td>voucher</td>\n",
       "      <td>1</td>\n",
       "      <td>3.71</td>\n",
       "    </tr>\n",
       "    <tr>\n",
       "      <th>7141</th>\n",
       "      <td>fa65dad1b0e818e3ccc5cb0e39231352</td>\n",
       "      <td>22</td>\n",
       "      <td>voucher</td>\n",
       "      <td>1</td>\n",
       "      <td>4.03</td>\n",
       "    </tr>\n",
       "    <tr>\n",
       "      <th>7224</th>\n",
       "      <td>fa65dad1b0e818e3ccc5cb0e39231352</td>\n",
       "      <td>23</td>\n",
       "      <td>voucher</td>\n",
       "      <td>1</td>\n",
       "      <td>18.86</td>\n",
       "    </tr>\n",
       "    <tr>\n",
       "      <th>7875</th>\n",
       "      <td>fa65dad1b0e818e3ccc5cb0e39231352</td>\n",
       "      <td>24</td>\n",
       "      <td>voucher</td>\n",
       "      <td>1</td>\n",
       "      <td>0.42</td>\n",
       "    </tr>\n",
       "    <tr>\n",
       "      <th>10147</th>\n",
       "      <td>fa65dad1b0e818e3ccc5cb0e39231352</td>\n",
       "      <td>25</td>\n",
       "      <td>voucher</td>\n",
       "      <td>1</td>\n",
       "      <td>3.68</td>\n",
       "    </tr>\n",
       "    <tr>\n",
       "      <th>12720</th>\n",
       "      <td>fa65dad1b0e818e3ccc5cb0e39231352</td>\n",
       "      <td>26</td>\n",
       "      <td>voucher</td>\n",
       "      <td>1</td>\n",
       "      <td>28.27</td>\n",
       "    </tr>\n",
       "    <tr>\n",
       "      <th>16191</th>\n",
       "      <td>fa65dad1b0e818e3ccc5cb0e39231352</td>\n",
       "      <td>2</td>\n",
       "      <td>voucher</td>\n",
       "      <td>1</td>\n",
       "      <td>NaN</td>\n",
       "    </tr>\n",
       "    <tr>\n",
       "      <th>20907</th>\n",
       "      <td>fa65dad1b0e818e3ccc5cb0e39231352</td>\n",
       "      <td>3</td>\n",
       "      <td>voucher</td>\n",
       "      <td>1</td>\n",
       "      <td>NaN</td>\n",
       "    </tr>\n",
       "    <tr>\n",
       "      <th>23860</th>\n",
       "      <td>fa65dad1b0e818e3ccc5cb0e39231352</td>\n",
       "      <td>4</td>\n",
       "      <td>voucher</td>\n",
       "      <td>1</td>\n",
       "      <td>NaN</td>\n",
       "    </tr>\n",
       "    <tr>\n",
       "      <th>26151</th>\n",
       "      <td>fa65dad1b0e818e3ccc5cb0e39231352</td>\n",
       "      <td>5</td>\n",
       "      <td>voucher</td>\n",
       "      <td>1</td>\n",
       "      <td>NaN</td>\n",
       "    </tr>\n",
       "    <tr>\n",
       "      <th>36246</th>\n",
       "      <td>fa65dad1b0e818e3ccc5cb0e39231352</td>\n",
       "      <td>6</td>\n",
       "      <td>voucher</td>\n",
       "      <td>1</td>\n",
       "      <td>NaN</td>\n",
       "    </tr>\n",
       "    <tr>\n",
       "      <th>38051</th>\n",
       "      <td>fa65dad1b0e818e3ccc5cb0e39231352</td>\n",
       "      <td>7</td>\n",
       "      <td>voucher</td>\n",
       "      <td>1</td>\n",
       "      <td>NaN</td>\n",
       "    </tr>\n",
       "    <tr>\n",
       "      <th>40649</th>\n",
       "      <td>fa65dad1b0e818e3ccc5cb0e39231352</td>\n",
       "      <td>27</td>\n",
       "      <td>voucher</td>\n",
       "      <td>1</td>\n",
       "      <td>66.02</td>\n",
       "    </tr>\n",
       "    <tr>\n",
       "      <th>48088</th>\n",
       "      <td>fa65dad1b0e818e3ccc5cb0e39231352</td>\n",
       "      <td>8</td>\n",
       "      <td>voucher</td>\n",
       "      <td>1</td>\n",
       "      <td>26.02</td>\n",
       "    </tr>\n",
       "    <tr>\n",
       "      <th>49406</th>\n",
       "      <td>fa65dad1b0e818e3ccc5cb0e39231352</td>\n",
       "      <td>9</td>\n",
       "      <td>voucher</td>\n",
       "      <td>1</td>\n",
       "      <td>1.08</td>\n",
       "    </tr>\n",
       "    <tr>\n",
       "      <th>52277</th>\n",
       "      <td>fa65dad1b0e818e3ccc5cb0e39231352</td>\n",
       "      <td>10</td>\n",
       "      <td>voucher</td>\n",
       "      <td>1</td>\n",
       "      <td>12.86</td>\n",
       "    </tr>\n",
       "    <tr>\n",
       "      <th>53111</th>\n",
       "      <td>fa65dad1b0e818e3ccc5cb0e39231352</td>\n",
       "      <td>28</td>\n",
       "      <td>voucher</td>\n",
       "      <td>1</td>\n",
       "      <td>29.05</td>\n",
       "    </tr>\n",
       "    <tr>\n",
       "      <th>54504</th>\n",
       "      <td>fa65dad1b0e818e3ccc5cb0e39231352</td>\n",
       "      <td>29</td>\n",
       "      <td>voucher</td>\n",
       "      <td>1</td>\n",
       "      <td>19.26</td>\n",
       "    </tr>\n",
       "    <tr>\n",
       "      <th>61676</th>\n",
       "      <td>fa65dad1b0e818e3ccc5cb0e39231352</td>\n",
       "      <td>11</td>\n",
       "      <td>voucher</td>\n",
       "      <td>1</td>\n",
       "      <td>4.03</td>\n",
       "    </tr>\n",
       "    <tr>\n",
       "      <th>63962</th>\n",
       "      <td>fa65dad1b0e818e3ccc5cb0e39231352</td>\n",
       "      <td>12</td>\n",
       "      <td>voucher</td>\n",
       "      <td>1</td>\n",
       "      <td>3.60</td>\n",
       "    </tr>\n",
       "    <tr>\n",
       "      <th>63965</th>\n",
       "      <td>fa65dad1b0e818e3ccc5cb0e39231352</td>\n",
       "      <td>13</td>\n",
       "      <td>voucher</td>\n",
       "      <td>1</td>\n",
       "      <td>0.00</td>\n",
       "    </tr>\n",
       "    <tr>\n",
       "      <th>88223</th>\n",
       "      <td>fa65dad1b0e818e3ccc5cb0e39231352</td>\n",
       "      <td>14</td>\n",
       "      <td>voucher</td>\n",
       "      <td>1</td>\n",
       "      <td>0.00</td>\n",
       "    </tr>\n",
       "    <tr>\n",
       "      <th>90495</th>\n",
       "      <td>fa65dad1b0e818e3ccc5cb0e39231352</td>\n",
       "      <td>15</td>\n",
       "      <td>voucher</td>\n",
       "      <td>1</td>\n",
       "      <td>14.04</td>\n",
       "    </tr>\n",
       "    <tr>\n",
       "      <th>93707</th>\n",
       "      <td>fa65dad1b0e818e3ccc5cb0e39231352</td>\n",
       "      <td>16</td>\n",
       "      <td>voucher</td>\n",
       "      <td>1</td>\n",
       "      <td>12.86</td>\n",
       "    </tr>\n",
       "    <tr>\n",
       "      <th>98391</th>\n",
       "      <td>fa65dad1b0e818e3ccc5cb0e39231352</td>\n",
       "      <td>17</td>\n",
       "      <td>voucher</td>\n",
       "      <td>1</td>\n",
       "      <td>3.72</td>\n",
       "    </tr>\n",
       "    <tr>\n",
       "      <th>99093</th>\n",
       "      <td>fa65dad1b0e818e3ccc5cb0e39231352</td>\n",
       "      <td>18</td>\n",
       "      <td>voucher</td>\n",
       "      <td>1</td>\n",
       "      <td>0.73</td>\n",
       "    </tr>\n",
       "    <tr>\n",
       "      <th>99575</th>\n",
       "      <td>fa65dad1b0e818e3ccc5cb0e39231352</td>\n",
       "      <td>19</td>\n",
       "      <td>voucher</td>\n",
       "      <td>1</td>\n",
       "      <td>5.02</td>\n",
       "    </tr>\n",
       "    <tr>\n",
       "      <th>102739</th>\n",
       "      <td>fa65dad1b0e818e3ccc5cb0e39231352</td>\n",
       "      <td>20</td>\n",
       "      <td>voucher</td>\n",
       "      <td>1</td>\n",
       "      <td>150.00</td>\n",
       "    </tr>\n",
       "    <tr>\n",
       "      <th>102904</th>\n",
       "      <td>fa65dad1b0e818e3ccc5cb0e39231352</td>\n",
       "      <td>21</td>\n",
       "      <td>voucher</td>\n",
       "      <td>1</td>\n",
       "      <td>4.11</td>\n",
       "    </tr>\n",
       "  </tbody>\n",
       "</table>\n",
       "</div>"
      ],
      "text/plain": [
       "                                order_id  payment_sequential payment_type  \\\n",
       "4885    fa65dad1b0e818e3ccc5cb0e39231352                   1      voucher   \n",
       "7141    fa65dad1b0e818e3ccc5cb0e39231352                  22      voucher   \n",
       "7224    fa65dad1b0e818e3ccc5cb0e39231352                  23      voucher   \n",
       "7875    fa65dad1b0e818e3ccc5cb0e39231352                  24      voucher   \n",
       "10147   fa65dad1b0e818e3ccc5cb0e39231352                  25      voucher   \n",
       "12720   fa65dad1b0e818e3ccc5cb0e39231352                  26      voucher   \n",
       "16191   fa65dad1b0e818e3ccc5cb0e39231352                   2      voucher   \n",
       "20907   fa65dad1b0e818e3ccc5cb0e39231352                   3      voucher   \n",
       "23860   fa65dad1b0e818e3ccc5cb0e39231352                   4      voucher   \n",
       "26151   fa65dad1b0e818e3ccc5cb0e39231352                   5      voucher   \n",
       "36246   fa65dad1b0e818e3ccc5cb0e39231352                   6      voucher   \n",
       "38051   fa65dad1b0e818e3ccc5cb0e39231352                   7      voucher   \n",
       "40649   fa65dad1b0e818e3ccc5cb0e39231352                  27      voucher   \n",
       "48088   fa65dad1b0e818e3ccc5cb0e39231352                   8      voucher   \n",
       "49406   fa65dad1b0e818e3ccc5cb0e39231352                   9      voucher   \n",
       "52277   fa65dad1b0e818e3ccc5cb0e39231352                  10      voucher   \n",
       "53111   fa65dad1b0e818e3ccc5cb0e39231352                  28      voucher   \n",
       "54504   fa65dad1b0e818e3ccc5cb0e39231352                  29      voucher   \n",
       "61676   fa65dad1b0e818e3ccc5cb0e39231352                  11      voucher   \n",
       "63962   fa65dad1b0e818e3ccc5cb0e39231352                  12      voucher   \n",
       "63965   fa65dad1b0e818e3ccc5cb0e39231352                  13      voucher   \n",
       "88223   fa65dad1b0e818e3ccc5cb0e39231352                  14      voucher   \n",
       "90495   fa65dad1b0e818e3ccc5cb0e39231352                  15      voucher   \n",
       "93707   fa65dad1b0e818e3ccc5cb0e39231352                  16      voucher   \n",
       "98391   fa65dad1b0e818e3ccc5cb0e39231352                  17      voucher   \n",
       "99093   fa65dad1b0e818e3ccc5cb0e39231352                  18      voucher   \n",
       "99575   fa65dad1b0e818e3ccc5cb0e39231352                  19      voucher   \n",
       "102739  fa65dad1b0e818e3ccc5cb0e39231352                  20      voucher   \n",
       "102904  fa65dad1b0e818e3ccc5cb0e39231352                  21      voucher   \n",
       "\n",
       "        payment_installments  payment_value  \n",
       "4885                       1           3.71  \n",
       "7141                       1           4.03  \n",
       "7224                       1          18.86  \n",
       "7875                       1           0.42  \n",
       "10147                      1           3.68  \n",
       "12720                      1          28.27  \n",
       "16191                      1            NaN  \n",
       "20907                      1            NaN  \n",
       "23860                      1            NaN  \n",
       "26151                      1            NaN  \n",
       "36246                      1            NaN  \n",
       "38051                      1            NaN  \n",
       "40649                      1          66.02  \n",
       "48088                      1          26.02  \n",
       "49406                      1           1.08  \n",
       "52277                      1          12.86  \n",
       "53111                      1          29.05  \n",
       "54504                      1          19.26  \n",
       "61676                      1           4.03  \n",
       "63962                      1           3.60  \n",
       "63965                      1           0.00  \n",
       "88223                      1           0.00  \n",
       "90495                      1          14.04  \n",
       "93707                      1          12.86  \n",
       "98391                      1           3.72  \n",
       "99093                      1           0.73  \n",
       "99575                      1           5.02  \n",
       "102739                     1         150.00  \n",
       "102904                     1           4.11  "
      ]
     },
     "execution_count": 12,
     "metadata": {},
     "output_type": "execute_result"
    }
   ],
   "source": [
    "df_order_payments[df_order_payments[\"order_id\"] == \"fa65dad1b0e818e3ccc5cb0e39231352\"]"
   ]
  },
  {
   "cell_type": "code",
   "execution_count": null,
   "id": "0df891d2",
   "metadata": {},
   "outputs": [
    {
     "data": {
      "application/vnd.microsoft.datawrangler.viewer.v0+json": {
       "columns": [
        {
         "name": "index",
         "rawType": "int64",
         "type": "integer"
        },
        {
         "name": "order_id",
         "rawType": "object",
         "type": "string"
        },
        {
         "name": "payment_sequential",
         "rawType": "int64",
         "type": "integer"
        },
        {
         "name": "payment_type",
         "rawType": "object",
         "type": "string"
        },
        {
         "name": "payment_installments",
         "rawType": "int64",
         "type": "integer"
        },
        {
         "name": "payment_value",
         "rawType": "float64",
         "type": "float"
        }
       ],
       "ref": "bf400e5a-691d-424f-ad75-16c47de99b20",
       "rows": [
        [
         "3",
         "ba78997921bbcdc1373bb41e913ab953",
         "1",
         "credit_card",
         "8",
         null
        ],
        [
         "4",
         "42fdf880ba16b47b59251dd489d4441a",
         "1",
         "credit_card",
         "2",
         null
        ],
        [
         "5",
         "298fcdf1f73eb413e4d26d01b25bc1cd",
         "1",
         "credit_card",
         "2",
         null
        ],
        [
         "6",
         "771ee386b001f06208a7419e4fc1bbd7",
         "1",
         "credit_card",
         "1",
         null
        ],
        [
         "7",
         "3d7239c394a212faae122962df514ac7",
         "1",
         "credit_card",
         "3",
         null
        ],
        [
         "8",
         "1f78449c87a54faf9e96e88ba1491fa9",
         "1",
         "credit_card",
         "6",
         null
        ],
        [
         "9",
         "0573b5e23cbd798006520e1d5b4c6714",
         "1",
         "boleto",
         "1",
         null
        ],
        [
         "10",
         "d88e0d5fa41661ce03cf6cf336527646",
         "1",
         "credit_card",
         "8",
         null
        ],
        [
         "11",
         "2480f727e869fdeb397244a21b721b67",
         "1",
         "credit_card",
         "1",
         null
        ],
        [
         "12",
         "616105c9352a9668c38303ad44e056cd",
         "1",
         "credit_card",
         "1",
         null
        ],
        [
         "13",
         "cf95215a722f3ebf29e6bbab87a29e61",
         "1",
         "credit_card",
         "5",
         null
        ],
        [
         "14",
         "769214176682788a92801d8907fa1b40",
         "1",
         "credit_card",
         "4",
         null
        ],
        [
         "15",
         "12e5cfe0e4716b59afb0e0f4a3bd6570",
         "1",
         "credit_card",
         "10",
         null
        ],
        [
         "16",
         "61059985a6fc0ad64e95d9944caacdad",
         "1",
         "credit_card",
         "1",
         null
        ],
        [
         "17",
         "79da3f5fe31ad1e454f06f95dc032ad5",
         "1",
         "credit_card",
         "1",
         null
        ],
        [
         "18",
         "8ac09207f415d55acff302df7d6a895c",
         "1",
         "credit_card",
         "4",
         null
        ],
        [
         "19",
         "b2349a3f20dfbeef62e7b31baa22f84b",
         "1",
         "credit_card",
         "3",
         null
        ],
        [
         "35",
         "b2bb080b6bc860118a246fd9b6fad6da",
         "1",
         "credit_card",
         "1",
         "173.84"
        ],
        [
         "75",
         "3689194c14ad4e2e7361ebd1df0e77b0",
         "2",
         "voucher",
         "1",
         "57.53"
        ],
        [
         "139",
         "82ffe097d8ddbf319a523b9bbe7725d5",
         "2",
         "voucher",
         "1",
         "30.0"
        ],
        [
         "161",
         "c61e3efc183db6b89f5556efb5aa8797",
         "1",
         "credit_card",
         "1",
         "45.5"
        ],
        [
         "181",
         "591083bc42b589c7052118aa83118e76",
         "5",
         "voucher",
         "1",
         "20.0"
        ],
        [
         "220",
         "d56564f21e612a588607e9ffb39b9d21",
         "2",
         "voucher",
         "1",
         "1.23"
        ],
        [
         "245",
         "d24e8541128cea179a11a65176e0a96f",
         "1",
         "voucher",
         "1",
         "50.0"
        ],
        [
         "285",
         "009ac365164f8e06f59d18a08045f6c4",
         "5",
         "voucher",
         "1",
         "8.75"
        ],
        [
         "354",
         "d3f44296d90a42d3ec4b52b18654e87a",
         "8",
         "voucher",
         "1",
         "3.98"
        ],
        [
         "433",
         "20aa4f85b1ed8d98e5c742c1a003db9c",
         "2",
         "voucher",
         "1",
         "50.0"
        ],
        [
         "475",
         "3d7fb1dd6ff6f0eedb9976eda81e4a95",
         "2",
         "voucher",
         "1",
         "20.0"
        ],
        [
         "534",
         "ac14a1a3d8c2b071a150eb2990b5ecd8",
         "1",
         "credit_card",
         "2",
         "49.77"
        ],
        [
         "676",
         "9c54a1816e487456bb7eb5082b9823ff",
         "1",
         "credit_card",
         "1",
         "2.01"
        ],
        [
         "679",
         "68986e4324f6a21481df4e6e89abcf01",
         "5",
         "voucher",
         "1",
         "16.54"
        ],
        [
         "719",
         "d289934bddf878e1cac62c95c8ee5402",
         "1",
         "credit_card",
         "3",
         "49.02"
        ],
        [
         "752",
         "8ca5bdac5ebe8f2d6fc9171d5ebc906a",
         "3",
         "voucher",
         "1",
         "15.0"
        ],
        [
         "822",
         "54066aeaaf3ac32e7bb6e45aa3bf65e4",
         "1",
         "credit_card",
         "2",
         "61.19"
        ],
        [
         "826",
         "e6a66a8350bb88497954d37688ab123e",
         "4",
         "voucher",
         "1",
         "8.24"
        ],
        [
         "904",
         "c659935fdc19ef6b13aa33fb990a2f81",
         "2",
         "voucher",
         "1",
         "50.0"
        ],
        [
         "949",
         "98f0e2b0d85754ca3b4e06d70f0f63a2",
         "2",
         "credit_card",
         "2",
         "70.0"
        ],
        [
         "987",
         "4fb76fa13b108a0d0478483421b0992c",
         "6",
         "voucher",
         "1",
         "10.04"
        ],
        [
         "995",
         "4b21c757f8c1a51d41c1653e15d8f289",
         "2",
         "voucher",
         "1",
         "247.16"
        ],
        [
         "1044",
         "d7c320185a2f9b32f5e2370ff3f8bd64",
         "2",
         "voucher",
         "1",
         "3.9"
        ],
        [
         "1064",
         "80271f9179f6d8df256f964fc2cc1c6a",
         "1",
         "credit_card",
         "1",
         "8.16"
        ],
        [
         "1091",
         "4d9190887b47ff1b89c657c788c038f6",
         "1",
         "credit_card",
         "1",
         "2.67"
        ],
        [
         "1132",
         "370e2e6c1a9fd451eb7f0852daa3b006",
         "7",
         "voucher",
         "1",
         "6.82"
        ],
        [
         "1220",
         "7525e8f8b1a51d44f9912ce81146ac7d",
         "1",
         "credit_card",
         "10",
         "221.58"
        ],
        [
         "1222",
         "a3a97bc6e236d5351537c8f466c34dad",
         "3",
         "voucher",
         "1",
         "6.67"
        ],
        [
         "1259",
         "9095f0efd46352f74ec4937fedfeb0be",
         "2",
         "voucher",
         "1",
         "100.0"
        ],
        [
         "1312",
         "59d02be1c50fb6e6930cafd6ff6a31e5",
         "7",
         "voucher",
         "1",
         "20.0"
        ],
        [
         "1321",
         "c6dc29188afdf102454edab964438d2d",
         "2",
         "voucher",
         "1",
         "44.11"
        ],
        [
         "1357",
         "e47a63ad65b54953702eae37cb14632b",
         "3",
         "voucher",
         "1",
         "20.0"
        ],
        [
         "1369",
         "72b02234375680d174bc9fecfb0fd9fe",
         "2",
         "voucher",
         "1",
         "29.87"
        ]
       ],
       "shape": {
        "columns": 5,
        "rows": 21521
       }
      },
      "text/html": [
       "<div>\n",
       "<style scoped>\n",
       "    .dataframe tbody tr th:only-of-type {\n",
       "        vertical-align: middle;\n",
       "    }\n",
       "\n",
       "    .dataframe tbody tr th {\n",
       "        vertical-align: top;\n",
       "    }\n",
       "\n",
       "    .dataframe thead th {\n",
       "        text-align: right;\n",
       "    }\n",
       "</style>\n",
       "<table border=\"1\" class=\"dataframe\">\n",
       "  <thead>\n",
       "    <tr style=\"text-align: right;\">\n",
       "      <th></th>\n",
       "      <th>order_id</th>\n",
       "      <th>payment_sequential</th>\n",
       "      <th>payment_type</th>\n",
       "      <th>payment_installments</th>\n",
       "      <th>payment_value</th>\n",
       "    </tr>\n",
       "  </thead>\n",
       "  <tbody>\n",
       "    <tr>\n",
       "      <th>3</th>\n",
       "      <td>ba78997921bbcdc1373bb41e913ab953</td>\n",
       "      <td>1</td>\n",
       "      <td>credit_card</td>\n",
       "      <td>8</td>\n",
       "      <td>NaN</td>\n",
       "    </tr>\n",
       "    <tr>\n",
       "      <th>4</th>\n",
       "      <td>42fdf880ba16b47b59251dd489d4441a</td>\n",
       "      <td>1</td>\n",
       "      <td>credit_card</td>\n",
       "      <td>2</td>\n",
       "      <td>NaN</td>\n",
       "    </tr>\n",
       "    <tr>\n",
       "      <th>5</th>\n",
       "      <td>298fcdf1f73eb413e4d26d01b25bc1cd</td>\n",
       "      <td>1</td>\n",
       "      <td>credit_card</td>\n",
       "      <td>2</td>\n",
       "      <td>NaN</td>\n",
       "    </tr>\n",
       "    <tr>\n",
       "      <th>6</th>\n",
       "      <td>771ee386b001f06208a7419e4fc1bbd7</td>\n",
       "      <td>1</td>\n",
       "      <td>credit_card</td>\n",
       "      <td>1</td>\n",
       "      <td>NaN</td>\n",
       "    </tr>\n",
       "    <tr>\n",
       "      <th>7</th>\n",
       "      <td>3d7239c394a212faae122962df514ac7</td>\n",
       "      <td>1</td>\n",
       "      <td>credit_card</td>\n",
       "      <td>3</td>\n",
       "      <td>NaN</td>\n",
       "    </tr>\n",
       "    <tr>\n",
       "      <th>...</th>\n",
       "      <td>...</td>\n",
       "      <td>...</td>\n",
       "      <td>...</td>\n",
       "      <td>...</td>\n",
       "      <td>...</td>\n",
       "    </tr>\n",
       "    <tr>\n",
       "      <th>103525</th>\n",
       "      <td>59d02be1c50fb6e6930cafd6ff6a31e5</td>\n",
       "      <td>8</td>\n",
       "      <td>voucher</td>\n",
       "      <td>1</td>\n",
       "      <td>14.20</td>\n",
       "    </tr>\n",
       "    <tr>\n",
       "      <th>103551</th>\n",
       "      <td>086cb9cd0cf7067d77fe09f31620a52b</td>\n",
       "      <td>4</td>\n",
       "      <td>voucher</td>\n",
       "      <td>1</td>\n",
       "      <td>40.48</td>\n",
       "    </tr>\n",
       "    <tr>\n",
       "      <th>103795</th>\n",
       "      <td>c27a26005da9b758c804674cc9aa2da1</td>\n",
       "      <td>4</td>\n",
       "      <td>voucher</td>\n",
       "      <td>1</td>\n",
       "      <td>100.00</td>\n",
       "    </tr>\n",
       "    <tr>\n",
       "      <th>103805</th>\n",
       "      <td>d8d126f05b944cb1a5d78542e4a34f9a</td>\n",
       "      <td>2</td>\n",
       "      <td>voucher</td>\n",
       "      <td>1</td>\n",
       "      <td>37.66</td>\n",
       "    </tr>\n",
       "    <tr>\n",
       "      <th>103871</th>\n",
       "      <td>e47a63ad65b54953702eae37cb14632b</td>\n",
       "      <td>4</td>\n",
       "      <td>voucher</td>\n",
       "      <td>1</td>\n",
       "      <td>20.00</td>\n",
       "    </tr>\n",
       "  </tbody>\n",
       "</table>\n",
       "<p>21521 rows × 5 columns</p>\n",
       "</div>"
      ],
      "text/plain": [
       "                                order_id  payment_sequential payment_type  \\\n",
       "3       ba78997921bbcdc1373bb41e913ab953                   1  credit_card   \n",
       "4       42fdf880ba16b47b59251dd489d4441a                   1  credit_card   \n",
       "5       298fcdf1f73eb413e4d26d01b25bc1cd                   1  credit_card   \n",
       "6       771ee386b001f06208a7419e4fc1bbd7                   1  credit_card   \n",
       "7       3d7239c394a212faae122962df514ac7                   1  credit_card   \n",
       "...                                  ...                 ...          ...   \n",
       "103525  59d02be1c50fb6e6930cafd6ff6a31e5                   8      voucher   \n",
       "103551  086cb9cd0cf7067d77fe09f31620a52b                   4      voucher   \n",
       "103795  c27a26005da9b758c804674cc9aa2da1                   4      voucher   \n",
       "103805  d8d126f05b944cb1a5d78542e4a34f9a                   2      voucher   \n",
       "103871  e47a63ad65b54953702eae37cb14632b                   4      voucher   \n",
       "\n",
       "        payment_installments  payment_value  \n",
       "3                          8            NaN  \n",
       "4                          2            NaN  \n",
       "5                          2            NaN  \n",
       "6                          1            NaN  \n",
       "7                          3            NaN  \n",
       "...                      ...            ...  \n",
       "103525                     1          14.20  \n",
       "103551                     1          40.48  \n",
       "103795                     1         100.00  \n",
       "103805                     1          37.66  \n",
       "103871                     1          20.00  \n",
       "\n",
       "[21521 rows x 5 columns]"
      ]
     },
     "execution_count": 54,
     "metadata": {},
     "output_type": "execute_result"
    }
   ],
   "source": [
    "order_payment_value_nulls = df_order_payments[df_order_payments[\"payment_value\"].isna()][\"order_id\"]\n",
    "part_empty_payment_value = df_order_payments[df_order_payments[\"order_id\"].isin(order_payment_value_nulls)]\n",
    "current_payment_val = part_empty_payment_value[\"payment_value\"][part_empty_payment_value[\"order_id\"] == \"fa65dad1b0e818e3ccc5cb0e39231352\"].sum() \n",
    "part_empty_payment_value # part_empty_payment_value zawiera takie order_id dla których wszystkie wiersze payment_value są nie uzupełnione \n",
    "# LUB takie order_id dla których payment_value jest dla niektórych wierszy częściowo uzupełnione a częściowo nie "
   ]
  },
  {
   "cell_type": "code",
   "execution_count": 14,
   "id": "623284ed",
   "metadata": {},
   "outputs": [
    {
     "data": {
      "application/vnd.microsoft.datawrangler.viewer.v0+json": {
       "columns": [
        {
         "name": "order_id",
         "rawType": "object",
         "type": "string"
        },
        {
         "name": "payment_value",
         "rawType": "float64",
         "type": "float"
        }
       ],
       "ref": "5762e5a8-f58f-4a89-8ae9-ebdd387f004a",
       "rows": [
        [
         "00010242fe8c5a6d1ba2dd792cb16214",
         "72.19"
        ],
        [
         "00018f77f2f0320c557190d7a144bdd3",
         "259.83"
        ],
        [
         "000229ec398224ef6ca0657da4fc703e",
         "216.87"
        ],
        [
         "00024acbcdf0a6daa1e931b038114c75",
         "25.78"
        ],
        [
         "00042b26cf59d7ce69dfabb4e55b4fd9",
         "218.04000000000002"
        ],
        [
         "00048cc3ae777c65dbb7d2a0634bc1ea",
         "34.589999999999996"
        ],
        [
         "00054e8431b9d7675808bcb819fb4a32",
         "31.75"
        ],
        [
         "000576fe39319847cbb9d288c5617fa6",
         "880.75"
        ],
        [
         "0005a1a1728c9d785b8e2b08b904576c",
         "157.6"
        ],
        [
         "0005f50442cb953dcd1d21e1fb923495",
         "65.39"
        ],
        [
         "00061f2a7bc09da83e415a52dc8a4af1",
         "68.87"
        ],
        [
         "00063b381e2406b52ad429470734ebd5",
         "57.980000000000004"
        ],
        [
         "0006ec9db01a64e59a68b2c340bf65a7",
         "97.32"
        ],
        [
         "0008288aa423d2a3f00fcb17cd7d8719",
         "63.269999999999996"
        ],
        [
         "0009792311464db532ff765bf7b182ae",
         "127.55000000000001"
        ],
        [
         "0009c9a17f916a706d71784483a5d643",
         "650.34"
        ],
        [
         "000aed2e25dbad2f9ddb70584c5a2ded",
         "152.77"
        ],
        [
         "000c3e6612759851cc3cbb4b83257986",
         "112.71000000000001"
        ],
        [
         "000e562887b1f2006d75e0be9558292e",
         "41.11"
        ],
        [
         "000e63d38ae8c00bbcb5a30573b99628",
         "56.78"
        ],
        [
         "000e906b789b55f64edcb1f84030f90d",
         "33.839999999999996"
        ],
        [
         "000f25f4d72195062c040b12dce9a18a",
         "164.39"
        ],
        [
         "001021efaa8636c29475e7734483457d",
         "64.1"
        ],
        [
         "0010b2e5201cc5f1ae7e9c6cc8f5bd00",
         "65.5"
        ],
        [
         "00119ff934e539cf26f92b9ef0cdfed8",
         "236.88"
        ],
        [
         "0011d82c4b53e22e84023405fb467e57",
         "315.33"
        ],
        [
         "00125cb692d04887809806618a2a145f",
         "135.41"
        ],
        [
         "00130c0eee84a3d909e75bc08c5c3ca1",
         "35.839999999999996"
        ],
        [
         "0013503b13da1eac686219390b7d641b",
         "137.22"
        ],
        [
         "00137e170939bba5a3134e2386413108",
         "421.65"
        ],
        [
         "001427c0ec99cf8af737bd88e92fd444",
         "83.25"
        ],
        [
         "00143d0f86d6fbd9f9b38ab440ac16f5",
         "36.43"
        ],
        [
         "0014ae671de39511f7575066200733b7",
         "30.6"
        ],
        [
         "0015ebb40fb17286bea51d4607c4733c",
         "37.0"
        ],
        [
         "00169e31ef4b29deaae414f9a5e95929",
         "55.11"
        ],
        [
         "0016dfedd97fc2950e388d2971d718c7",
         "70.55"
        ],
        [
         "0017afd5076e074a48f1f1a4c7bac9c5",
         "853.39"
        ],
        [
         "001862358bf858722e1e2ae000cfed8b",
         "113.71"
        ],
        [
         "0019c29108428acffd089c36103c9440",
         "79.85"
        ],
        [
         "001ab0a7578dd66cd4b0a71f5b6e1e41",
         "42.519999999999996"
        ],
        [
         "001ac194d4a326a6fa99b581e9a3d963",
         "62.54"
        ],
        [
         "001b76dd48a5b1eee3e87778daa40df8",
         "95.0"
        ],
        [
         "001c85b5f68d2be0cb0797afc9e8ce9a",
         "112.71000000000001"
        ],
        [
         "001d8f0e34a38c37f7dba2a37d4eba8b",
         "26.77"
        ],
        [
         "001daeb0eddc45b999bad0801ad9d273",
         "55.12"
        ],
        [
         "001dbc16dc51075e987543d23a0507c7",
         "87.9"
        ],
        [
         "001e7ba991be1b19605ca0316e7130f9",
         "213.21"
        ],
        [
         "001e7cf2ad6bef3ade12ebc56ceaf0f3",
         "51.099999999999994"
        ],
        [
         "0020262c8a370bd5a174ea6a2a267321",
         "100.55"
        ],
        [
         "0020a222f55eb79a372d0efee3cca688",
         "45.089999999999996"
        ]
       ],
       "shape": {
        "columns": 1,
        "rows": 98666
       }
      },
      "text/plain": [
       "order_id\n",
       "00010242fe8c5a6d1ba2dd792cb16214     72.19\n",
       "00018f77f2f0320c557190d7a144bdd3    259.83\n",
       "000229ec398224ef6ca0657da4fc703e    216.87\n",
       "00024acbcdf0a6daa1e931b038114c75     25.78\n",
       "00042b26cf59d7ce69dfabb4e55b4fd9    218.04\n",
       "                                     ...  \n",
       "fffc94f6ce00a00581880bf54a75a037    343.40\n",
       "fffcd46ef2263f404302a634eb57f7eb    386.53\n",
       "fffce4705a9662cd70adb13d4a31832d    116.85\n",
       "fffe18544ffabc95dfada21779c9644f     64.71\n",
       "fffe41c64501cc87c801fd61db3f6244     55.79\n",
       "Name: payment_value, Length: 98666, dtype: float64"
      ]
     },
     "execution_count": 14,
     "metadata": {},
     "output_type": "execute_result"
    }
   ],
   "source": [
    "mapping = df_order_items.groupby(\"order_id\")[\"payment_value\"].first().copy()\n",
    "mapping"
   ]
  },
  {
   "cell_type": "code",
   "execution_count": null,
   "id": "e06b6cab",
   "metadata": {},
   "outputs": [
    {
     "data": {
      "text/plain": [
       "np.float64(205.73999999999998)"
      ]
     },
     "execution_count": 33,
     "metadata": {},
     "output_type": "execute_result"
    }
   ],
   "source": [
    "full_payments_value = df_order_items.groupby(\"order_id\")[\"payment_value\"].sum()\n",
    "#full_payments_value[\"fedcd9f7ccdc8cba3a18defedd1a5547\"]"
   ]
  },
  {
   "cell_type": "code",
   "execution_count": null,
   "id": "ebf882e6",
   "metadata": {},
   "outputs": [
    {
     "name": "stderr",
     "output_type": "stream",
     "text": [
      "C:\\Users\\PW\\AppData\\Local\\Temp\\ipykernel_8168\\3155147829.py:20: FutureWarning: Series.__getitem__ treating keys as positions is deprecated. In a future version, integer keys will always be treated as labels (consistent with DataFrame behavior). To access a value by position, use `ser.iloc[pos]`\n",
      "  full_value = full_payments_value[group[\"order_id\"]][0]\n",
      "C:\\Users\\PW\\AppData\\Local\\Temp\\ipykernel_8168\\3155147829.py:20: FutureWarning: Series.__getitem__ treating keys as positions is deprecated. In a future version, integer keys will always be treated as labels (consistent with DataFrame behavior). To access a value by position, use `ser.iloc[pos]`\n",
      "  full_value = full_payments_value[group[\"order_id\"]][0]\n",
      "C:\\Users\\PW\\AppData\\Local\\Temp\\ipykernel_8168\\3155147829.py:20: FutureWarning: Series.__getitem__ treating keys as positions is deprecated. In a future version, integer keys will always be treated as labels (consistent with DataFrame behavior). To access a value by position, use `ser.iloc[pos]`\n",
      "  full_value = full_payments_value[group[\"order_id\"]][0]\n",
      "C:\\Users\\PW\\AppData\\Local\\Temp\\ipykernel_8168\\3155147829.py:20: FutureWarning: Series.__getitem__ treating keys as positions is deprecated. In a future version, integer keys will always be treated as labels (consistent with DataFrame behavior). To access a value by position, use `ser.iloc[pos]`\n",
      "  full_value = full_payments_value[group[\"order_id\"]][0]\n",
      "C:\\Users\\PW\\AppData\\Local\\Temp\\ipykernel_8168\\3155147829.py:20: FutureWarning: Series.__getitem__ treating keys as positions is deprecated. In a future version, integer keys will always be treated as labels (consistent with DataFrame behavior). To access a value by position, use `ser.iloc[pos]`\n",
      "  full_value = full_payments_value[group[\"order_id\"]][0]\n",
      "C:\\Users\\PW\\AppData\\Local\\Temp\\ipykernel_8168\\3155147829.py:20: FutureWarning: Series.__getitem__ treating keys as positions is deprecated. In a future version, integer keys will always be treated as labels (consistent with DataFrame behavior). To access a value by position, use `ser.iloc[pos]`\n",
      "  full_value = full_payments_value[group[\"order_id\"]][0]\n",
      "C:\\Users\\PW\\AppData\\Local\\Temp\\ipykernel_8168\\3155147829.py:20: FutureWarning: Series.__getitem__ treating keys as positions is deprecated. In a future version, integer keys will always be treated as labels (consistent with DataFrame behavior). To access a value by position, use `ser.iloc[pos]`\n",
      "  full_value = full_payments_value[group[\"order_id\"]][0]\n",
      "C:\\Users\\PW\\AppData\\Local\\Temp\\ipykernel_8168\\3155147829.py:20: FutureWarning: Series.__getitem__ treating keys as positions is deprecated. In a future version, integer keys will always be treated as labels (consistent with DataFrame behavior). To access a value by position, use `ser.iloc[pos]`\n",
      "  full_value = full_payments_value[group[\"order_id\"]][0]\n",
      "C:\\Users\\PW\\AppData\\Local\\Temp\\ipykernel_8168\\3155147829.py:20: FutureWarning: Series.__getitem__ treating keys as positions is deprecated. In a future version, integer keys will always be treated as labels (consistent with DataFrame behavior). To access a value by position, use `ser.iloc[pos]`\n",
      "  full_value = full_payments_value[group[\"order_id\"]][0]\n",
      "C:\\Users\\PW\\AppData\\Local\\Temp\\ipykernel_8168\\3155147829.py:20: FutureWarning: Series.__getitem__ treating keys as positions is deprecated. In a future version, integer keys will always be treated as labels (consistent with DataFrame behavior). To access a value by position, use `ser.iloc[pos]`\n",
      "  full_value = full_payments_value[group[\"order_id\"]][0]\n",
      "C:\\Users\\PW\\AppData\\Local\\Temp\\ipykernel_8168\\3155147829.py:20: FutureWarning: Series.__getitem__ treating keys as positions is deprecated. In a future version, integer keys will always be treated as labels (consistent with DataFrame behavior). To access a value by position, use `ser.iloc[pos]`\n",
      "  full_value = full_payments_value[group[\"order_id\"]][0]\n",
      "C:\\Users\\PW\\AppData\\Local\\Temp\\ipykernel_8168\\3155147829.py:20: FutureWarning: Series.__getitem__ treating keys as positions is deprecated. In a future version, integer keys will always be treated as labels (consistent with DataFrame behavior). To access a value by position, use `ser.iloc[pos]`\n",
      "  full_value = full_payments_value[group[\"order_id\"]][0]\n",
      "C:\\Users\\PW\\AppData\\Local\\Temp\\ipykernel_8168\\3155147829.py:20: FutureWarning: Series.__getitem__ treating keys as positions is deprecated. In a future version, integer keys will always be treated as labels (consistent with DataFrame behavior). To access a value by position, use `ser.iloc[pos]`\n",
      "  full_value = full_payments_value[group[\"order_id\"]][0]\n",
      "C:\\Users\\PW\\AppData\\Local\\Temp\\ipykernel_8168\\3155147829.py:20: FutureWarning: Series.__getitem__ treating keys as positions is deprecated. In a future version, integer keys will always be treated as labels (consistent with DataFrame behavior). To access a value by position, use `ser.iloc[pos]`\n",
      "  full_value = full_payments_value[group[\"order_id\"]][0]\n",
      "C:\\Users\\PW\\AppData\\Local\\Temp\\ipykernel_8168\\3155147829.py:20: FutureWarning: Series.__getitem__ treating keys as positions is deprecated. In a future version, integer keys will always be treated as labels (consistent with DataFrame behavior). To access a value by position, use `ser.iloc[pos]`\n",
      "  full_value = full_payments_value[group[\"order_id\"]][0]\n",
      "C:\\Users\\PW\\AppData\\Local\\Temp\\ipykernel_8168\\3155147829.py:20: FutureWarning: Series.__getitem__ treating keys as positions is deprecated. In a future version, integer keys will always be treated as labels (consistent with DataFrame behavior). To access a value by position, use `ser.iloc[pos]`\n",
      "  full_value = full_payments_value[group[\"order_id\"]][0]\n",
      "C:\\Users\\PW\\AppData\\Local\\Temp\\ipykernel_8168\\3155147829.py:20: FutureWarning: Series.__getitem__ treating keys as positions is deprecated. In a future version, integer keys will always be treated as labels (consistent with DataFrame behavior). To access a value by position, use `ser.iloc[pos]`\n",
      "  full_value = full_payments_value[group[\"order_id\"]][0]\n",
      "C:\\Users\\PW\\AppData\\Local\\Temp\\ipykernel_8168\\3155147829.py:20: FutureWarning: Series.__getitem__ treating keys as positions is deprecated. In a future version, integer keys will always be treated as labels (consistent with DataFrame behavior). To access a value by position, use `ser.iloc[pos]`\n",
      "  full_value = full_payments_value[group[\"order_id\"]][0]\n",
      "C:\\Users\\PW\\AppData\\Local\\Temp\\ipykernel_8168\\3155147829.py:20: FutureWarning: Series.__getitem__ treating keys as positions is deprecated. In a future version, integer keys will always be treated as labels (consistent with DataFrame behavior). To access a value by position, use `ser.iloc[pos]`\n",
      "  full_value = full_payments_value[group[\"order_id\"]][0]\n",
      "C:\\Users\\PW\\AppData\\Local\\Temp\\ipykernel_8168\\3155147829.py:20: FutureWarning: Series.__getitem__ treating keys as positions is deprecated. In a future version, integer keys will always be treated as labels (consistent with DataFrame behavior). To access a value by position, use `ser.iloc[pos]`\n",
      "  full_value = full_payments_value[group[\"order_id\"]][0]\n",
      "C:\\Users\\PW\\AppData\\Local\\Temp\\ipykernel_8168\\3155147829.py:20: FutureWarning: Series.__getitem__ treating keys as positions is deprecated. In a future version, integer keys will always be treated as labels (consistent with DataFrame behavior). To access a value by position, use `ser.iloc[pos]`\n",
      "  full_value = full_payments_value[group[\"order_id\"]][0]\n",
      "C:\\Users\\PW\\AppData\\Local\\Temp\\ipykernel_8168\\3155147829.py:20: FutureWarning: Series.__getitem__ treating keys as positions is deprecated. In a future version, integer keys will always be treated as labels (consistent with DataFrame behavior). To access a value by position, use `ser.iloc[pos]`\n",
      "  full_value = full_payments_value[group[\"order_id\"]][0]\n",
      "C:\\Users\\PW\\AppData\\Local\\Temp\\ipykernel_8168\\3155147829.py:20: FutureWarning: Series.__getitem__ treating keys as positions is deprecated. In a future version, integer keys will always be treated as labels (consistent with DataFrame behavior). To access a value by position, use `ser.iloc[pos]`\n",
      "  full_value = full_payments_value[group[\"order_id\"]][0]\n",
      "C:\\Users\\PW\\AppData\\Local\\Temp\\ipykernel_8168\\3155147829.py:20: FutureWarning: Series.__getitem__ treating keys as positions is deprecated. In a future version, integer keys will always be treated as labels (consistent with DataFrame behavior). To access a value by position, use `ser.iloc[pos]`\n",
      "  full_value = full_payments_value[group[\"order_id\"]][0]\n",
      "C:\\Users\\PW\\AppData\\Local\\Temp\\ipykernel_8168\\3155147829.py:20: FutureWarning: Series.__getitem__ treating keys as positions is deprecated. In a future version, integer keys will always be treated as labels (consistent with DataFrame behavior). To access a value by position, use `ser.iloc[pos]`\n",
      "  full_value = full_payments_value[group[\"order_id\"]][0]\n",
      "C:\\Users\\PW\\AppData\\Local\\Temp\\ipykernel_8168\\3155147829.py:20: FutureWarning: Series.__getitem__ treating keys as positions is deprecated. In a future version, integer keys will always be treated as labels (consistent with DataFrame behavior). To access a value by position, use `ser.iloc[pos]`\n",
      "  full_value = full_payments_value[group[\"order_id\"]][0]\n",
      "C:\\Users\\PW\\AppData\\Local\\Temp\\ipykernel_8168\\3155147829.py:20: FutureWarning: Series.__getitem__ treating keys as positions is deprecated. In a future version, integer keys will always be treated as labels (consistent with DataFrame behavior). To access a value by position, use `ser.iloc[pos]`\n",
      "  full_value = full_payments_value[group[\"order_id\"]][0]\n",
      "C:\\Users\\PW\\AppData\\Local\\Temp\\ipykernel_8168\\3155147829.py:20: FutureWarning: Series.__getitem__ treating keys as positions is deprecated. In a future version, integer keys will always be treated as labels (consistent with DataFrame behavior). To access a value by position, use `ser.iloc[pos]`\n",
      "  full_value = full_payments_value[group[\"order_id\"]][0]\n",
      "C:\\Users\\PW\\AppData\\Local\\Temp\\ipykernel_8168\\3155147829.py:20: FutureWarning: Series.__getitem__ treating keys as positions is deprecated. In a future version, integer keys will always be treated as labels (consistent with DataFrame behavior). To access a value by position, use `ser.iloc[pos]`\n",
      "  full_value = full_payments_value[group[\"order_id\"]][0]\n",
      "C:\\Users\\PW\\AppData\\Local\\Temp\\ipykernel_8168\\3155147829.py:20: FutureWarning: Series.__getitem__ treating keys as positions is deprecated. In a future version, integer keys will always be treated as labels (consistent with DataFrame behavior). To access a value by position, use `ser.iloc[pos]`\n",
      "  full_value = full_payments_value[group[\"order_id\"]][0]\n",
      "C:\\Users\\PW\\AppData\\Local\\Temp\\ipykernel_8168\\3155147829.py:20: FutureWarning: Series.__getitem__ treating keys as positions is deprecated. In a future version, integer keys will always be treated as labels (consistent with DataFrame behavior). To access a value by position, use `ser.iloc[pos]`\n",
      "  full_value = full_payments_value[group[\"order_id\"]][0]\n",
      "C:\\Users\\PW\\AppData\\Local\\Temp\\ipykernel_8168\\3155147829.py:20: FutureWarning: Series.__getitem__ treating keys as positions is deprecated. In a future version, integer keys will always be treated as labels (consistent with DataFrame behavior). To access a value by position, use `ser.iloc[pos]`\n",
      "  full_value = full_payments_value[group[\"order_id\"]][0]\n",
      "C:\\Users\\PW\\AppData\\Local\\Temp\\ipykernel_8168\\3155147829.py:20: FutureWarning: Series.__getitem__ treating keys as positions is deprecated. In a future version, integer keys will always be treated as labels (consistent with DataFrame behavior). To access a value by position, use `ser.iloc[pos]`\n",
      "  full_value = full_payments_value[group[\"order_id\"]][0]\n",
      "C:\\Users\\PW\\AppData\\Local\\Temp\\ipykernel_8168\\3155147829.py:20: FutureWarning: Series.__getitem__ treating keys as positions is deprecated. In a future version, integer keys will always be treated as labels (consistent with DataFrame behavior). To access a value by position, use `ser.iloc[pos]`\n",
      "  full_value = full_payments_value[group[\"order_id\"]][0]\n",
      "C:\\Users\\PW\\AppData\\Local\\Temp\\ipykernel_8168\\3155147829.py:20: FutureWarning: Series.__getitem__ treating keys as positions is deprecated. In a future version, integer keys will always be treated as labels (consistent with DataFrame behavior). To access a value by position, use `ser.iloc[pos]`\n",
      "  full_value = full_payments_value[group[\"order_id\"]][0]\n",
      "C:\\Users\\PW\\AppData\\Local\\Temp\\ipykernel_8168\\3155147829.py:20: FutureWarning: Series.__getitem__ treating keys as positions is deprecated. In a future version, integer keys will always be treated as labels (consistent with DataFrame behavior). To access a value by position, use `ser.iloc[pos]`\n",
      "  full_value = full_payments_value[group[\"order_id\"]][0]\n",
      "C:\\Users\\PW\\AppData\\Local\\Temp\\ipykernel_8168\\3155147829.py:20: FutureWarning: Series.__getitem__ treating keys as positions is deprecated. In a future version, integer keys will always be treated as labels (consistent with DataFrame behavior). To access a value by position, use `ser.iloc[pos]`\n",
      "  full_value = full_payments_value[group[\"order_id\"]][0]\n",
      "C:\\Users\\PW\\AppData\\Local\\Temp\\ipykernel_8168\\3155147829.py:20: FutureWarning: Series.__getitem__ treating keys as positions is deprecated. In a future version, integer keys will always be treated as labels (consistent with DataFrame behavior). To access a value by position, use `ser.iloc[pos]`\n",
      "  full_value = full_payments_value[group[\"order_id\"]][0]\n",
      "C:\\Users\\PW\\AppData\\Local\\Temp\\ipykernel_8168\\3155147829.py:20: FutureWarning: Series.__getitem__ treating keys as positions is deprecated. In a future version, integer keys will always be treated as labels (consistent with DataFrame behavior). To access a value by position, use `ser.iloc[pos]`\n",
      "  full_value = full_payments_value[group[\"order_id\"]][0]\n",
      "C:\\Users\\PW\\AppData\\Local\\Temp\\ipykernel_8168\\3155147829.py:20: FutureWarning: Series.__getitem__ treating keys as positions is deprecated. In a future version, integer keys will always be treated as labels (consistent with DataFrame behavior). To access a value by position, use `ser.iloc[pos]`\n",
      "  full_value = full_payments_value[group[\"order_id\"]][0]\n",
      "C:\\Users\\PW\\AppData\\Local\\Temp\\ipykernel_8168\\3155147829.py:20: FutureWarning: Series.__getitem__ treating keys as positions is deprecated. In a future version, integer keys will always be treated as labels (consistent with DataFrame behavior). To access a value by position, use `ser.iloc[pos]`\n",
      "  full_value = full_payments_value[group[\"order_id\"]][0]\n",
      "C:\\Users\\PW\\AppData\\Local\\Temp\\ipykernel_8168\\3155147829.py:20: FutureWarning: Series.__getitem__ treating keys as positions is deprecated. In a future version, integer keys will always be treated as labels (consistent with DataFrame behavior). To access a value by position, use `ser.iloc[pos]`\n",
      "  full_value = full_payments_value[group[\"order_id\"]][0]\n",
      "C:\\Users\\PW\\AppData\\Local\\Temp\\ipykernel_8168\\3155147829.py:20: FutureWarning: Series.__getitem__ treating keys as positions is deprecated. In a future version, integer keys will always be treated as labels (consistent with DataFrame behavior). To access a value by position, use `ser.iloc[pos]`\n",
      "  full_value = full_payments_value[group[\"order_id\"]][0]\n",
      "C:\\Users\\PW\\AppData\\Local\\Temp\\ipykernel_8168\\3155147829.py:20: FutureWarning: Series.__getitem__ treating keys as positions is deprecated. In a future version, integer keys will always be treated as labels (consistent with DataFrame behavior). To access a value by position, use `ser.iloc[pos]`\n",
      "  full_value = full_payments_value[group[\"order_id\"]][0]\n",
      "C:\\Users\\PW\\AppData\\Local\\Temp\\ipykernel_8168\\3155147829.py:20: FutureWarning: Series.__getitem__ treating keys as positions is deprecated. In a future version, integer keys will always be treated as labels (consistent with DataFrame behavior). To access a value by position, use `ser.iloc[pos]`\n",
      "  full_value = full_payments_value[group[\"order_id\"]][0]\n",
      "C:\\Users\\PW\\AppData\\Local\\Temp\\ipykernel_8168\\3155147829.py:20: FutureWarning: Series.__getitem__ treating keys as positions is deprecated. In a future version, integer keys will always be treated as labels (consistent with DataFrame behavior). To access a value by position, use `ser.iloc[pos]`\n",
      "  full_value = full_payments_value[group[\"order_id\"]][0]\n",
      "C:\\Users\\PW\\AppData\\Local\\Temp\\ipykernel_8168\\3155147829.py:20: FutureWarning: Series.__getitem__ treating keys as positions is deprecated. In a future version, integer keys will always be treated as labels (consistent with DataFrame behavior). To access a value by position, use `ser.iloc[pos]`\n",
      "  full_value = full_payments_value[group[\"order_id\"]][0]\n",
      "C:\\Users\\PW\\AppData\\Local\\Temp\\ipykernel_8168\\3155147829.py:20: FutureWarning: Series.__getitem__ treating keys as positions is deprecated. In a future version, integer keys will always be treated as labels (consistent with DataFrame behavior). To access a value by position, use `ser.iloc[pos]`\n",
      "  full_value = full_payments_value[group[\"order_id\"]][0]\n",
      "C:\\Users\\PW\\AppData\\Local\\Temp\\ipykernel_8168\\3155147829.py:20: FutureWarning: Series.__getitem__ treating keys as positions is deprecated. In a future version, integer keys will always be treated as labels (consistent with DataFrame behavior). To access a value by position, use `ser.iloc[pos]`\n",
      "  full_value = full_payments_value[group[\"order_id\"]][0]\n",
      "C:\\Users\\PW\\AppData\\Local\\Temp\\ipykernel_8168\\3155147829.py:20: FutureWarning: Series.__getitem__ treating keys as positions is deprecated. In a future version, integer keys will always be treated as labels (consistent with DataFrame behavior). To access a value by position, use `ser.iloc[pos]`\n",
      "  full_value = full_payments_value[group[\"order_id\"]][0]\n",
      "C:\\Users\\PW\\AppData\\Local\\Temp\\ipykernel_8168\\3155147829.py:20: FutureWarning: Series.__getitem__ treating keys as positions is deprecated. In a future version, integer keys will always be treated as labels (consistent with DataFrame behavior). To access a value by position, use `ser.iloc[pos]`\n",
      "  full_value = full_payments_value[group[\"order_id\"]][0]\n",
      "C:\\Users\\PW\\AppData\\Local\\Temp\\ipykernel_8168\\3155147829.py:20: FutureWarning: Series.__getitem__ treating keys as positions is deprecated. In a future version, integer keys will always be treated as labels (consistent with DataFrame behavior). To access a value by position, use `ser.iloc[pos]`\n",
      "  full_value = full_payments_value[group[\"order_id\"]][0]\n",
      "C:\\Users\\PW\\AppData\\Local\\Temp\\ipykernel_8168\\3155147829.py:20: FutureWarning: Series.__getitem__ treating keys as positions is deprecated. In a future version, integer keys will always be treated as labels (consistent with DataFrame behavior). To access a value by position, use `ser.iloc[pos]`\n",
      "  full_value = full_payments_value[group[\"order_id\"]][0]\n",
      "C:\\Users\\PW\\AppData\\Local\\Temp\\ipykernel_8168\\3155147829.py:20: FutureWarning: Series.__getitem__ treating keys as positions is deprecated. In a future version, integer keys will always be treated as labels (consistent with DataFrame behavior). To access a value by position, use `ser.iloc[pos]`\n",
      "  full_value = full_payments_value[group[\"order_id\"]][0]\n",
      "C:\\Users\\PW\\AppData\\Local\\Temp\\ipykernel_8168\\3155147829.py:20: FutureWarning: Series.__getitem__ treating keys as positions is deprecated. In a future version, integer keys will always be treated as labels (consistent with DataFrame behavior). To access a value by position, use `ser.iloc[pos]`\n",
      "  full_value = full_payments_value[group[\"order_id\"]][0]\n",
      "C:\\Users\\PW\\AppData\\Local\\Temp\\ipykernel_8168\\3155147829.py:20: FutureWarning: Series.__getitem__ treating keys as positions is deprecated. In a future version, integer keys will always be treated as labels (consistent with DataFrame behavior). To access a value by position, use `ser.iloc[pos]`\n",
      "  full_value = full_payments_value[group[\"order_id\"]][0]\n",
      "C:\\Users\\PW\\AppData\\Local\\Temp\\ipykernel_8168\\3155147829.py:20: FutureWarning: Series.__getitem__ treating keys as positions is deprecated. In a future version, integer keys will always be treated as labels (consistent with DataFrame behavior). To access a value by position, use `ser.iloc[pos]`\n",
      "  full_value = full_payments_value[group[\"order_id\"]][0]\n",
      "C:\\Users\\PW\\AppData\\Local\\Temp\\ipykernel_8168\\3155147829.py:20: FutureWarning: Series.__getitem__ treating keys as positions is deprecated. In a future version, integer keys will always be treated as labels (consistent with DataFrame behavior). To access a value by position, use `ser.iloc[pos]`\n",
      "  full_value = full_payments_value[group[\"order_id\"]][0]\n",
      "C:\\Users\\PW\\AppData\\Local\\Temp\\ipykernel_8168\\3155147829.py:20: FutureWarning: Series.__getitem__ treating keys as positions is deprecated. In a future version, integer keys will always be treated as labels (consistent with DataFrame behavior). To access a value by position, use `ser.iloc[pos]`\n",
      "  full_value = full_payments_value[group[\"order_id\"]][0]\n",
      "C:\\Users\\PW\\AppData\\Local\\Temp\\ipykernel_8168\\3155147829.py:20: FutureWarning: Series.__getitem__ treating keys as positions is deprecated. In a future version, integer keys will always be treated as labels (consistent with DataFrame behavior). To access a value by position, use `ser.iloc[pos]`\n",
      "  full_value = full_payments_value[group[\"order_id\"]][0]\n",
      "C:\\Users\\PW\\AppData\\Local\\Temp\\ipykernel_8168\\3155147829.py:20: FutureWarning: Series.__getitem__ treating keys as positions is deprecated. In a future version, integer keys will always be treated as labels (consistent with DataFrame behavior). To access a value by position, use `ser.iloc[pos]`\n",
      "  full_value = full_payments_value[group[\"order_id\"]][0]\n",
      "C:\\Users\\PW\\AppData\\Local\\Temp\\ipykernel_8168\\3155147829.py:20: FutureWarning: Series.__getitem__ treating keys as positions is deprecated. In a future version, integer keys will always be treated as labels (consistent with DataFrame behavior). To access a value by position, use `ser.iloc[pos]`\n",
      "  full_value = full_payments_value[group[\"order_id\"]][0]\n",
      "C:\\Users\\PW\\AppData\\Local\\Temp\\ipykernel_8168\\3155147829.py:20: FutureWarning: Series.__getitem__ treating keys as positions is deprecated. In a future version, integer keys will always be treated as labels (consistent with DataFrame behavior). To access a value by position, use `ser.iloc[pos]`\n",
      "  full_value = full_payments_value[group[\"order_id\"]][0]\n",
      "C:\\Users\\PW\\AppData\\Local\\Temp\\ipykernel_8168\\3155147829.py:20: FutureWarning: Series.__getitem__ treating keys as positions is deprecated. In a future version, integer keys will always be treated as labels (consistent with DataFrame behavior). To access a value by position, use `ser.iloc[pos]`\n",
      "  full_value = full_payments_value[group[\"order_id\"]][0]\n",
      "C:\\Users\\PW\\AppData\\Local\\Temp\\ipykernel_8168\\3155147829.py:20: FutureWarning: Series.__getitem__ treating keys as positions is deprecated. In a future version, integer keys will always be treated as labels (consistent with DataFrame behavior). To access a value by position, use `ser.iloc[pos]`\n",
      "  full_value = full_payments_value[group[\"order_id\"]][0]\n",
      "C:\\Users\\PW\\AppData\\Local\\Temp\\ipykernel_8168\\3155147829.py:20: FutureWarning: Series.__getitem__ treating keys as positions is deprecated. In a future version, integer keys will always be treated as labels (consistent with DataFrame behavior). To access a value by position, use `ser.iloc[pos]`\n",
      "  full_value = full_payments_value[group[\"order_id\"]][0]\n",
      "C:\\Users\\PW\\AppData\\Local\\Temp\\ipykernel_8168\\3155147829.py:20: FutureWarning: Series.__getitem__ treating keys as positions is deprecated. In a future version, integer keys will always be treated as labels (consistent with DataFrame behavior). To access a value by position, use `ser.iloc[pos]`\n",
      "  full_value = full_payments_value[group[\"order_id\"]][0]\n",
      "C:\\Users\\PW\\AppData\\Local\\Temp\\ipykernel_8168\\3155147829.py:20: FutureWarning: Series.__getitem__ treating keys as positions is deprecated. In a future version, integer keys will always be treated as labels (consistent with DataFrame behavior). To access a value by position, use `ser.iloc[pos]`\n",
      "  full_value = full_payments_value[group[\"order_id\"]][0]\n",
      "C:\\Users\\PW\\AppData\\Local\\Temp\\ipykernel_8168\\3155147829.py:20: FutureWarning: Series.__getitem__ treating keys as positions is deprecated. In a future version, integer keys will always be treated as labels (consistent with DataFrame behavior). To access a value by position, use `ser.iloc[pos]`\n",
      "  full_value = full_payments_value[group[\"order_id\"]][0]\n",
      "C:\\Users\\PW\\AppData\\Local\\Temp\\ipykernel_8168\\3155147829.py:20: FutureWarning: Series.__getitem__ treating keys as positions is deprecated. In a future version, integer keys will always be treated as labels (consistent with DataFrame behavior). To access a value by position, use `ser.iloc[pos]`\n",
      "  full_value = full_payments_value[group[\"order_id\"]][0]\n",
      "C:\\Users\\PW\\AppData\\Local\\Temp\\ipykernel_8168\\3155147829.py:20: FutureWarning: Series.__getitem__ treating keys as positions is deprecated. In a future version, integer keys will always be treated as labels (consistent with DataFrame behavior). To access a value by position, use `ser.iloc[pos]`\n",
      "  full_value = full_payments_value[group[\"order_id\"]][0]\n",
      "C:\\Users\\PW\\AppData\\Local\\Temp\\ipykernel_8168\\3155147829.py:20: FutureWarning: Series.__getitem__ treating keys as positions is deprecated. In a future version, integer keys will always be treated as labels (consistent with DataFrame behavior). To access a value by position, use `ser.iloc[pos]`\n",
      "  full_value = full_payments_value[group[\"order_id\"]][0]\n",
      "C:\\Users\\PW\\AppData\\Local\\Temp\\ipykernel_8168\\3155147829.py:20: FutureWarning: Series.__getitem__ treating keys as positions is deprecated. In a future version, integer keys will always be treated as labels (consistent with DataFrame behavior). To access a value by position, use `ser.iloc[pos]`\n",
      "  full_value = full_payments_value[group[\"order_id\"]][0]\n",
      "C:\\Users\\PW\\AppData\\Local\\Temp\\ipykernel_8168\\3155147829.py:20: FutureWarning: Series.__getitem__ treating keys as positions is deprecated. In a future version, integer keys will always be treated as labels (consistent with DataFrame behavior). To access a value by position, use `ser.iloc[pos]`\n",
      "  full_value = full_payments_value[group[\"order_id\"]][0]\n",
      "C:\\Users\\PW\\AppData\\Local\\Temp\\ipykernel_8168\\3155147829.py:20: FutureWarning: Series.__getitem__ treating keys as positions is deprecated. In a future version, integer keys will always be treated as labels (consistent with DataFrame behavior). To access a value by position, use `ser.iloc[pos]`\n",
      "  full_value = full_payments_value[group[\"order_id\"]][0]\n",
      "C:\\Users\\PW\\AppData\\Local\\Temp\\ipykernel_8168\\3155147829.py:20: FutureWarning: Series.__getitem__ treating keys as positions is deprecated. In a future version, integer keys will always be treated as labels (consistent with DataFrame behavior). To access a value by position, use `ser.iloc[pos]`\n",
      "  full_value = full_payments_value[group[\"order_id\"]][0]\n",
      "C:\\Users\\PW\\AppData\\Local\\Temp\\ipykernel_8168\\3155147829.py:20: FutureWarning: Series.__getitem__ treating keys as positions is deprecated. In a future version, integer keys will always be treated as labels (consistent with DataFrame behavior). To access a value by position, use `ser.iloc[pos]`\n",
      "  full_value = full_payments_value[group[\"order_id\"]][0]\n",
      "C:\\Users\\PW\\AppData\\Local\\Temp\\ipykernel_8168\\3155147829.py:20: FutureWarning: Series.__getitem__ treating keys as positions is deprecated. In a future version, integer keys will always be treated as labels (consistent with DataFrame behavior). To access a value by position, use `ser.iloc[pos]`\n",
      "  full_value = full_payments_value[group[\"order_id\"]][0]\n",
      "C:\\Users\\PW\\AppData\\Local\\Temp\\ipykernel_8168\\3155147829.py:20: FutureWarning: Series.__getitem__ treating keys as positions is deprecated. In a future version, integer keys will always be treated as labels (consistent with DataFrame behavior). To access a value by position, use `ser.iloc[pos]`\n",
      "  full_value = full_payments_value[group[\"order_id\"]][0]\n",
      "C:\\Users\\PW\\AppData\\Local\\Temp\\ipykernel_8168\\3155147829.py:20: FutureWarning: Series.__getitem__ treating keys as positions is deprecated. In a future version, integer keys will always be treated as labels (consistent with DataFrame behavior). To access a value by position, use `ser.iloc[pos]`\n",
      "  full_value = full_payments_value[group[\"order_id\"]][0]\n",
      "C:\\Users\\PW\\AppData\\Local\\Temp\\ipykernel_8168\\3155147829.py:20: FutureWarning: Series.__getitem__ treating keys as positions is deprecated. In a future version, integer keys will always be treated as labels (consistent with DataFrame behavior). To access a value by position, use `ser.iloc[pos]`\n",
      "  full_value = full_payments_value[group[\"order_id\"]][0]\n",
      "C:\\Users\\PW\\AppData\\Local\\Temp\\ipykernel_8168\\3155147829.py:20: FutureWarning: Series.__getitem__ treating keys as positions is deprecated. In a future version, integer keys will always be treated as labels (consistent with DataFrame behavior). To access a value by position, use `ser.iloc[pos]`\n",
      "  full_value = full_payments_value[group[\"order_id\"]][0]\n",
      "C:\\Users\\PW\\AppData\\Local\\Temp\\ipykernel_8168\\3155147829.py:20: FutureWarning: Series.__getitem__ treating keys as positions is deprecated. In a future version, integer keys will always be treated as labels (consistent with DataFrame behavior). To access a value by position, use `ser.iloc[pos]`\n",
      "  full_value = full_payments_value[group[\"order_id\"]][0]\n",
      "C:\\Users\\PW\\AppData\\Local\\Temp\\ipykernel_8168\\3155147829.py:20: FutureWarning: Series.__getitem__ treating keys as positions is deprecated. In a future version, integer keys will always be treated as labels (consistent with DataFrame behavior). To access a value by position, use `ser.iloc[pos]`\n",
      "  full_value = full_payments_value[group[\"order_id\"]][0]\n",
      "C:\\Users\\PW\\AppData\\Local\\Temp\\ipykernel_8168\\3155147829.py:20: FutureWarning: Series.__getitem__ treating keys as positions is deprecated. In a future version, integer keys will always be treated as labels (consistent with DataFrame behavior). To access a value by position, use `ser.iloc[pos]`\n",
      "  full_value = full_payments_value[group[\"order_id\"]][0]\n",
      "C:\\Users\\PW\\AppData\\Local\\Temp\\ipykernel_8168\\3155147829.py:20: FutureWarning: Series.__getitem__ treating keys as positions is deprecated. In a future version, integer keys will always be treated as labels (consistent with DataFrame behavior). To access a value by position, use `ser.iloc[pos]`\n",
      "  full_value = full_payments_value[group[\"order_id\"]][0]\n",
      "C:\\Users\\PW\\AppData\\Local\\Temp\\ipykernel_8168\\3155147829.py:20: FutureWarning: Series.__getitem__ treating keys as positions is deprecated. In a future version, integer keys will always be treated as labels (consistent with DataFrame behavior). To access a value by position, use `ser.iloc[pos]`\n",
      "  full_value = full_payments_value[group[\"order_id\"]][0]\n",
      "C:\\Users\\PW\\AppData\\Local\\Temp\\ipykernel_8168\\3155147829.py:20: FutureWarning: Series.__getitem__ treating keys as positions is deprecated. In a future version, integer keys will always be treated as labels (consistent with DataFrame behavior). To access a value by position, use `ser.iloc[pos]`\n",
      "  full_value = full_payments_value[group[\"order_id\"]][0]\n",
      "C:\\Users\\PW\\AppData\\Local\\Temp\\ipykernel_8168\\3155147829.py:20: FutureWarning: Series.__getitem__ treating keys as positions is deprecated. In a future version, integer keys will always be treated as labels (consistent with DataFrame behavior). To access a value by position, use `ser.iloc[pos]`\n",
      "  full_value = full_payments_value[group[\"order_id\"]][0]\n",
      "C:\\Users\\PW\\AppData\\Local\\Temp\\ipykernel_8168\\3155147829.py:20: FutureWarning: Series.__getitem__ treating keys as positions is deprecated. In a future version, integer keys will always be treated as labels (consistent with DataFrame behavior). To access a value by position, use `ser.iloc[pos]`\n",
      "  full_value = full_payments_value[group[\"order_id\"]][0]\n",
      "C:\\Users\\PW\\AppData\\Local\\Temp\\ipykernel_8168\\3155147829.py:20: FutureWarning: Series.__getitem__ treating keys as positions is deprecated. In a future version, integer keys will always be treated as labels (consistent with DataFrame behavior). To access a value by position, use `ser.iloc[pos]`\n",
      "  full_value = full_payments_value[group[\"order_id\"]][0]\n",
      "C:\\Users\\PW\\AppData\\Local\\Temp\\ipykernel_8168\\3155147829.py:20: FutureWarning: Series.__getitem__ treating keys as positions is deprecated. In a future version, integer keys will always be treated as labels (consistent with DataFrame behavior). To access a value by position, use `ser.iloc[pos]`\n",
      "  full_value = full_payments_value[group[\"order_id\"]][0]\n",
      "C:\\Users\\PW\\AppData\\Local\\Temp\\ipykernel_8168\\3155147829.py:20: FutureWarning: Series.__getitem__ treating keys as positions is deprecated. In a future version, integer keys will always be treated as labels (consistent with DataFrame behavior). To access a value by position, use `ser.iloc[pos]`\n",
      "  full_value = full_payments_value[group[\"order_id\"]][0]\n",
      "C:\\Users\\PW\\AppData\\Local\\Temp\\ipykernel_8168\\3155147829.py:20: FutureWarning: Series.__getitem__ treating keys as positions is deprecated. In a future version, integer keys will always be treated as labels (consistent with DataFrame behavior). To access a value by position, use `ser.iloc[pos]`\n",
      "  full_value = full_payments_value[group[\"order_id\"]][0]\n",
      "C:\\Users\\PW\\AppData\\Local\\Temp\\ipykernel_8168\\3155147829.py:20: FutureWarning: Series.__getitem__ treating keys as positions is deprecated. In a future version, integer keys will always be treated as labels (consistent with DataFrame behavior). To access a value by position, use `ser.iloc[pos]`\n",
      "  full_value = full_payments_value[group[\"order_id\"]][0]\n",
      "C:\\Users\\PW\\AppData\\Local\\Temp\\ipykernel_8168\\3155147829.py:20: FutureWarning: Series.__getitem__ treating keys as positions is deprecated. In a future version, integer keys will always be treated as labels (consistent with DataFrame behavior). To access a value by position, use `ser.iloc[pos]`\n",
      "  full_value = full_payments_value[group[\"order_id\"]][0]\n",
      "C:\\Users\\PW\\AppData\\Local\\Temp\\ipykernel_8168\\3155147829.py:20: FutureWarning: Series.__getitem__ treating keys as positions is deprecated. In a future version, integer keys will always be treated as labels (consistent with DataFrame behavior). To access a value by position, use `ser.iloc[pos]`\n",
      "  full_value = full_payments_value[group[\"order_id\"]][0]\n",
      "C:\\Users\\PW\\AppData\\Local\\Temp\\ipykernel_8168\\3155147829.py:20: FutureWarning: Series.__getitem__ treating keys as positions is deprecated. In a future version, integer keys will always be treated as labels (consistent with DataFrame behavior). To access a value by position, use `ser.iloc[pos]`\n",
      "  full_value = full_payments_value[group[\"order_id\"]][0]\n",
      "C:\\Users\\PW\\AppData\\Local\\Temp\\ipykernel_8168\\3155147829.py:20: FutureWarning: Series.__getitem__ treating keys as positions is deprecated. In a future version, integer keys will always be treated as labels (consistent with DataFrame behavior). To access a value by position, use `ser.iloc[pos]`\n",
      "  full_value = full_payments_value[group[\"order_id\"]][0]\n",
      "C:\\Users\\PW\\AppData\\Local\\Temp\\ipykernel_8168\\3155147829.py:20: FutureWarning: Series.__getitem__ treating keys as positions is deprecated. In a future version, integer keys will always be treated as labels (consistent with DataFrame behavior). To access a value by position, use `ser.iloc[pos]`\n",
      "  full_value = full_payments_value[group[\"order_id\"]][0]\n",
      "C:\\Users\\PW\\AppData\\Local\\Temp\\ipykernel_8168\\3155147829.py:20: FutureWarning: Series.__getitem__ treating keys as positions is deprecated. In a future version, integer keys will always be treated as labels (consistent with DataFrame behavior). To access a value by position, use `ser.iloc[pos]`\n",
      "  full_value = full_payments_value[group[\"order_id\"]][0]\n",
      "C:\\Users\\PW\\AppData\\Local\\Temp\\ipykernel_8168\\3155147829.py:20: FutureWarning: Series.__getitem__ treating keys as positions is deprecated. In a future version, integer keys will always be treated as labels (consistent with DataFrame behavior). To access a value by position, use `ser.iloc[pos]`\n",
      "  full_value = full_payments_value[group[\"order_id\"]][0]\n",
      "C:\\Users\\PW\\AppData\\Local\\Temp\\ipykernel_8168\\3155147829.py:20: FutureWarning: Series.__getitem__ treating keys as positions is deprecated. In a future version, integer keys will always be treated as labels (consistent with DataFrame behavior). To access a value by position, use `ser.iloc[pos]`\n",
      "  full_value = full_payments_value[group[\"order_id\"]][0]\n",
      "C:\\Users\\PW\\AppData\\Local\\Temp\\ipykernel_8168\\3155147829.py:20: FutureWarning: Series.__getitem__ treating keys as positions is deprecated. In a future version, integer keys will always be treated as labels (consistent with DataFrame behavior). To access a value by position, use `ser.iloc[pos]`\n",
      "  full_value = full_payments_value[group[\"order_id\"]][0]\n",
      "C:\\Users\\PW\\AppData\\Local\\Temp\\ipykernel_8168\\3155147829.py:20: FutureWarning: Series.__getitem__ treating keys as positions is deprecated. In a future version, integer keys will always be treated as labels (consistent with DataFrame behavior). To access a value by position, use `ser.iloc[pos]`\n",
      "  full_value = full_payments_value[group[\"order_id\"]][0]\n",
      "C:\\Users\\PW\\AppData\\Local\\Temp\\ipykernel_8168\\3155147829.py:20: FutureWarning: Series.__getitem__ treating keys as positions is deprecated. In a future version, integer keys will always be treated as labels (consistent with DataFrame behavior). To access a value by position, use `ser.iloc[pos]`\n",
      "  full_value = full_payments_value[group[\"order_id\"]][0]\n",
      "C:\\Users\\PW\\AppData\\Local\\Temp\\ipykernel_8168\\3155147829.py:20: FutureWarning: Series.__getitem__ treating keys as positions is deprecated. In a future version, integer keys will always be treated as labels (consistent with DataFrame behavior). To access a value by position, use `ser.iloc[pos]`\n",
      "  full_value = full_payments_value[group[\"order_id\"]][0]\n",
      "C:\\Users\\PW\\AppData\\Local\\Temp\\ipykernel_8168\\3155147829.py:20: FutureWarning: Series.__getitem__ treating keys as positions is deprecated. In a future version, integer keys will always be treated as labels (consistent with DataFrame behavior). To access a value by position, use `ser.iloc[pos]`\n",
      "  full_value = full_payments_value[group[\"order_id\"]][0]\n",
      "C:\\Users\\PW\\AppData\\Local\\Temp\\ipykernel_8168\\3155147829.py:20: FutureWarning: Series.__getitem__ treating keys as positions is deprecated. In a future version, integer keys will always be treated as labels (consistent with DataFrame behavior). To access a value by position, use `ser.iloc[pos]`\n",
      "  full_value = full_payments_value[group[\"order_id\"]][0]\n",
      "C:\\Users\\PW\\AppData\\Local\\Temp\\ipykernel_8168\\3155147829.py:20: FutureWarning: Series.__getitem__ treating keys as positions is deprecated. In a future version, integer keys will always be treated as labels (consistent with DataFrame behavior). To access a value by position, use `ser.iloc[pos]`\n",
      "  full_value = full_payments_value[group[\"order_id\"]][0]\n",
      "C:\\Users\\PW\\AppData\\Local\\Temp\\ipykernel_8168\\3155147829.py:20: FutureWarning: Series.__getitem__ treating keys as positions is deprecated. In a future version, integer keys will always be treated as labels (consistent with DataFrame behavior). To access a value by position, use `ser.iloc[pos]`\n",
      "  full_value = full_payments_value[group[\"order_id\"]][0]\n",
      "C:\\Users\\PW\\AppData\\Local\\Temp\\ipykernel_8168\\3155147829.py:20: FutureWarning: Series.__getitem__ treating keys as positions is deprecated. In a future version, integer keys will always be treated as labels (consistent with DataFrame behavior). To access a value by position, use `ser.iloc[pos]`\n",
      "  full_value = full_payments_value[group[\"order_id\"]][0]\n",
      "C:\\Users\\PW\\AppData\\Local\\Temp\\ipykernel_8168\\3155147829.py:20: FutureWarning: Series.__getitem__ treating keys as positions is deprecated. In a future version, integer keys will always be treated as labels (consistent with DataFrame behavior). To access a value by position, use `ser.iloc[pos]`\n",
      "  full_value = full_payments_value[group[\"order_id\"]][0]\n",
      "C:\\Users\\PW\\AppData\\Local\\Temp\\ipykernel_8168\\3155147829.py:20: FutureWarning: Series.__getitem__ treating keys as positions is deprecated. In a future version, integer keys will always be treated as labels (consistent with DataFrame behavior). To access a value by position, use `ser.iloc[pos]`\n",
      "  full_value = full_payments_value[group[\"order_id\"]][0]\n",
      "C:\\Users\\PW\\AppData\\Local\\Temp\\ipykernel_8168\\3155147829.py:20: FutureWarning: Series.__getitem__ treating keys as positions is deprecated. In a future version, integer keys will always be treated as labels (consistent with DataFrame behavior). To access a value by position, use `ser.iloc[pos]`\n",
      "  full_value = full_payments_value[group[\"order_id\"]][0]\n",
      "C:\\Users\\PW\\AppData\\Local\\Temp\\ipykernel_8168\\3155147829.py:20: FutureWarning: Series.__getitem__ treating keys as positions is deprecated. In a future version, integer keys will always be treated as labels (consistent with DataFrame behavior). To access a value by position, use `ser.iloc[pos]`\n",
      "  full_value = full_payments_value[group[\"order_id\"]][0]\n",
      "C:\\Users\\PW\\AppData\\Local\\Temp\\ipykernel_8168\\3155147829.py:20: FutureWarning: Series.__getitem__ treating keys as positions is deprecated. In a future version, integer keys will always be treated as labels (consistent with DataFrame behavior). To access a value by position, use `ser.iloc[pos]`\n",
      "  full_value = full_payments_value[group[\"order_id\"]][0]\n",
      "C:\\Users\\PW\\AppData\\Local\\Temp\\ipykernel_8168\\3155147829.py:20: FutureWarning: Series.__getitem__ treating keys as positions is deprecated. In a future version, integer keys will always be treated as labels (consistent with DataFrame behavior). To access a value by position, use `ser.iloc[pos]`\n",
      "  full_value = full_payments_value[group[\"order_id\"]][0]\n",
      "C:\\Users\\PW\\AppData\\Local\\Temp\\ipykernel_8168\\3155147829.py:20: FutureWarning: Series.__getitem__ treating keys as positions is deprecated. In a future version, integer keys will always be treated as labels (consistent with DataFrame behavior). To access a value by position, use `ser.iloc[pos]`\n",
      "  full_value = full_payments_value[group[\"order_id\"]][0]\n",
      "C:\\Users\\PW\\AppData\\Local\\Temp\\ipykernel_8168\\3155147829.py:20: FutureWarning: Series.__getitem__ treating keys as positions is deprecated. In a future version, integer keys will always be treated as labels (consistent with DataFrame behavior). To access a value by position, use `ser.iloc[pos]`\n",
      "  full_value = full_payments_value[group[\"order_id\"]][0]\n",
      "C:\\Users\\PW\\AppData\\Local\\Temp\\ipykernel_8168\\3155147829.py:20: FutureWarning: Series.__getitem__ treating keys as positions is deprecated. In a future version, integer keys will always be treated as labels (consistent with DataFrame behavior). To access a value by position, use `ser.iloc[pos]`\n",
      "  full_value = full_payments_value[group[\"order_id\"]][0]\n",
      "C:\\Users\\PW\\AppData\\Local\\Temp\\ipykernel_8168\\3155147829.py:20: FutureWarning: Series.__getitem__ treating keys as positions is deprecated. In a future version, integer keys will always be treated as labels (consistent with DataFrame behavior). To access a value by position, use `ser.iloc[pos]`\n",
      "  full_value = full_payments_value[group[\"order_id\"]][0]\n",
      "C:\\Users\\PW\\AppData\\Local\\Temp\\ipykernel_8168\\3155147829.py:20: FutureWarning: Series.__getitem__ treating keys as positions is deprecated. In a future version, integer keys will always be treated as labels (consistent with DataFrame behavior). To access a value by position, use `ser.iloc[pos]`\n",
      "  full_value = full_payments_value[group[\"order_id\"]][0]\n",
      "C:\\Users\\PW\\AppData\\Local\\Temp\\ipykernel_8168\\3155147829.py:20: FutureWarning: Series.__getitem__ treating keys as positions is deprecated. In a future version, integer keys will always be treated as labels (consistent with DataFrame behavior). To access a value by position, use `ser.iloc[pos]`\n",
      "  full_value = full_payments_value[group[\"order_id\"]][0]\n",
      "C:\\Users\\PW\\AppData\\Local\\Temp\\ipykernel_8168\\3155147829.py:20: FutureWarning: Series.__getitem__ treating keys as positions is deprecated. In a future version, integer keys will always be treated as labels (consistent with DataFrame behavior). To access a value by position, use `ser.iloc[pos]`\n",
      "  full_value = full_payments_value[group[\"order_id\"]][0]\n",
      "C:\\Users\\PW\\AppData\\Local\\Temp\\ipykernel_8168\\3155147829.py:20: FutureWarning: Series.__getitem__ treating keys as positions is deprecated. In a future version, integer keys will always be treated as labels (consistent with DataFrame behavior). To access a value by position, use `ser.iloc[pos]`\n",
      "  full_value = full_payments_value[group[\"order_id\"]][0]\n",
      "C:\\Users\\PW\\AppData\\Local\\Temp\\ipykernel_8168\\3155147829.py:20: FutureWarning: Series.__getitem__ treating keys as positions is deprecated. In a future version, integer keys will always be treated as labels (consistent with DataFrame behavior). To access a value by position, use `ser.iloc[pos]`\n",
      "  full_value = full_payments_value[group[\"order_id\"]][0]\n",
      "C:\\Users\\PW\\AppData\\Local\\Temp\\ipykernel_8168\\3155147829.py:20: FutureWarning: Series.__getitem__ treating keys as positions is deprecated. In a future version, integer keys will always be treated as labels (consistent with DataFrame behavior). To access a value by position, use `ser.iloc[pos]`\n",
      "  full_value = full_payments_value[group[\"order_id\"]][0]\n",
      "C:\\Users\\PW\\AppData\\Local\\Temp\\ipykernel_8168\\3155147829.py:20: FutureWarning: Series.__getitem__ treating keys as positions is deprecated. In a future version, integer keys will always be treated as labels (consistent with DataFrame behavior). To access a value by position, use `ser.iloc[pos]`\n",
      "  full_value = full_payments_value[group[\"order_id\"]][0]\n",
      "C:\\Users\\PW\\AppData\\Local\\Temp\\ipykernel_8168\\3155147829.py:20: FutureWarning: Series.__getitem__ treating keys as positions is deprecated. In a future version, integer keys will always be treated as labels (consistent with DataFrame behavior). To access a value by position, use `ser.iloc[pos]`\n",
      "  full_value = full_payments_value[group[\"order_id\"]][0]\n",
      "C:\\Users\\PW\\AppData\\Local\\Temp\\ipykernel_8168\\3155147829.py:20: FutureWarning: Series.__getitem__ treating keys as positions is deprecated. In a future version, integer keys will always be treated as labels (consistent with DataFrame behavior). To access a value by position, use `ser.iloc[pos]`\n",
      "  full_value = full_payments_value[group[\"order_id\"]][0]\n",
      "C:\\Users\\PW\\AppData\\Local\\Temp\\ipykernel_8168\\3155147829.py:20: FutureWarning: Series.__getitem__ treating keys as positions is deprecated. In a future version, integer keys will always be treated as labels (consistent with DataFrame behavior). To access a value by position, use `ser.iloc[pos]`\n",
      "  full_value = full_payments_value[group[\"order_id\"]][0]\n",
      "C:\\Users\\PW\\AppData\\Local\\Temp\\ipykernel_8168\\3155147829.py:20: FutureWarning: Series.__getitem__ treating keys as positions is deprecated. In a future version, integer keys will always be treated as labels (consistent with DataFrame behavior). To access a value by position, use `ser.iloc[pos]`\n",
      "  full_value = full_payments_value[group[\"order_id\"]][0]\n",
      "C:\\Users\\PW\\AppData\\Local\\Temp\\ipykernel_8168\\3155147829.py:20: FutureWarning: Series.__getitem__ treating keys as positions is deprecated. In a future version, integer keys will always be treated as labels (consistent with DataFrame behavior). To access a value by position, use `ser.iloc[pos]`\n",
      "  full_value = full_payments_value[group[\"order_id\"]][0]\n",
      "C:\\Users\\PW\\AppData\\Local\\Temp\\ipykernel_8168\\3155147829.py:20: FutureWarning: Series.__getitem__ treating keys as positions is deprecated. In a future version, integer keys will always be treated as labels (consistent with DataFrame behavior). To access a value by position, use `ser.iloc[pos]`\n",
      "  full_value = full_payments_value[group[\"order_id\"]][0]\n",
      "C:\\Users\\PW\\AppData\\Local\\Temp\\ipykernel_8168\\3155147829.py:20: FutureWarning: Series.__getitem__ treating keys as positions is deprecated. In a future version, integer keys will always be treated as labels (consistent with DataFrame behavior). To access a value by position, use `ser.iloc[pos]`\n",
      "  full_value = full_payments_value[group[\"order_id\"]][0]\n",
      "C:\\Users\\PW\\AppData\\Local\\Temp\\ipykernel_8168\\3155147829.py:20: FutureWarning: Series.__getitem__ treating keys as positions is deprecated. In a future version, integer keys will always be treated as labels (consistent with DataFrame behavior). To access a value by position, use `ser.iloc[pos]`\n",
      "  full_value = full_payments_value[group[\"order_id\"]][0]\n",
      "C:\\Users\\PW\\AppData\\Local\\Temp\\ipykernel_8168\\3155147829.py:20: FutureWarning: Series.__getitem__ treating keys as positions is deprecated. In a future version, integer keys will always be treated as labels (consistent with DataFrame behavior). To access a value by position, use `ser.iloc[pos]`\n",
      "  full_value = full_payments_value[group[\"order_id\"]][0]\n",
      "C:\\Users\\PW\\AppData\\Local\\Temp\\ipykernel_8168\\3155147829.py:20: FutureWarning: Series.__getitem__ treating keys as positions is deprecated. In a future version, integer keys will always be treated as labels (consistent with DataFrame behavior). To access a value by position, use `ser.iloc[pos]`\n",
      "  full_value = full_payments_value[group[\"order_id\"]][0]\n",
      "C:\\Users\\PW\\AppData\\Local\\Temp\\ipykernel_8168\\3155147829.py:20: FutureWarning: Series.__getitem__ treating keys as positions is deprecated. In a future version, integer keys will always be treated as labels (consistent with DataFrame behavior). To access a value by position, use `ser.iloc[pos]`\n",
      "  full_value = full_payments_value[group[\"order_id\"]][0]\n",
      "C:\\Users\\PW\\AppData\\Local\\Temp\\ipykernel_8168\\3155147829.py:20: FutureWarning: Series.__getitem__ treating keys as positions is deprecated. In a future version, integer keys will always be treated as labels (consistent with DataFrame behavior). To access a value by position, use `ser.iloc[pos]`\n",
      "  full_value = full_payments_value[group[\"order_id\"]][0]\n",
      "C:\\Users\\PW\\AppData\\Local\\Temp\\ipykernel_8168\\3155147829.py:20: FutureWarning: Series.__getitem__ treating keys as positions is deprecated. In a future version, integer keys will always be treated as labels (consistent with DataFrame behavior). To access a value by position, use `ser.iloc[pos]`\n",
      "  full_value = full_payments_value[group[\"order_id\"]][0]\n",
      "C:\\Users\\PW\\AppData\\Local\\Temp\\ipykernel_8168\\3155147829.py:20: FutureWarning: Series.__getitem__ treating keys as positions is deprecated. In a future version, integer keys will always be treated as labels (consistent with DataFrame behavior). To access a value by position, use `ser.iloc[pos]`\n",
      "  full_value = full_payments_value[group[\"order_id\"]][0]\n",
      "C:\\Users\\PW\\AppData\\Local\\Temp\\ipykernel_8168\\3155147829.py:20: FutureWarning: Series.__getitem__ treating keys as positions is deprecated. In a future version, integer keys will always be treated as labels (consistent with DataFrame behavior). To access a value by position, use `ser.iloc[pos]`\n",
      "  full_value = full_payments_value[group[\"order_id\"]][0]\n",
      "C:\\Users\\PW\\AppData\\Local\\Temp\\ipykernel_8168\\3155147829.py:20: FutureWarning: Series.__getitem__ treating keys as positions is deprecated. In a future version, integer keys will always be treated as labels (consistent with DataFrame behavior). To access a value by position, use `ser.iloc[pos]`\n",
      "  full_value = full_payments_value[group[\"order_id\"]][0]\n",
      "C:\\Users\\PW\\AppData\\Local\\Temp\\ipykernel_8168\\3155147829.py:20: FutureWarning: Series.__getitem__ treating keys as positions is deprecated. In a future version, integer keys will always be treated as labels (consistent with DataFrame behavior). To access a value by position, use `ser.iloc[pos]`\n",
      "  full_value = full_payments_value[group[\"order_id\"]][0]\n",
      "C:\\Users\\PW\\AppData\\Local\\Temp\\ipykernel_8168\\3155147829.py:20: FutureWarning: Series.__getitem__ treating keys as positions is deprecated. In a future version, integer keys will always be treated as labels (consistent with DataFrame behavior). To access a value by position, use `ser.iloc[pos]`\n",
      "  full_value = full_payments_value[group[\"order_id\"]][0]\n",
      "C:\\Users\\PW\\AppData\\Local\\Temp\\ipykernel_8168\\3155147829.py:20: FutureWarning: Series.__getitem__ treating keys as positions is deprecated. In a future version, integer keys will always be treated as labels (consistent with DataFrame behavior). To access a value by position, use `ser.iloc[pos]`\n",
      "  full_value = full_payments_value[group[\"order_id\"]][0]\n",
      "C:\\Users\\PW\\AppData\\Local\\Temp\\ipykernel_8168\\3155147829.py:20: FutureWarning: Series.__getitem__ treating keys as positions is deprecated. In a future version, integer keys will always be treated as labels (consistent with DataFrame behavior). To access a value by position, use `ser.iloc[pos]`\n",
      "  full_value = full_payments_value[group[\"order_id\"]][0]\n",
      "C:\\Users\\PW\\AppData\\Local\\Temp\\ipykernel_8168\\3155147829.py:20: FutureWarning: Series.__getitem__ treating keys as positions is deprecated. In a future version, integer keys will always be treated as labels (consistent with DataFrame behavior). To access a value by position, use `ser.iloc[pos]`\n",
      "  full_value = full_payments_value[group[\"order_id\"]][0]\n",
      "C:\\Users\\PW\\AppData\\Local\\Temp\\ipykernel_8168\\3155147829.py:20: FutureWarning: Series.__getitem__ treating keys as positions is deprecated. In a future version, integer keys will always be treated as labels (consistent with DataFrame behavior). To access a value by position, use `ser.iloc[pos]`\n",
      "  full_value = full_payments_value[group[\"order_id\"]][0]\n",
      "C:\\Users\\PW\\AppData\\Local\\Temp\\ipykernel_8168\\3155147829.py:20: FutureWarning: Series.__getitem__ treating keys as positions is deprecated. In a future version, integer keys will always be treated as labels (consistent with DataFrame behavior). To access a value by position, use `ser.iloc[pos]`\n",
      "  full_value = full_payments_value[group[\"order_id\"]][0]\n",
      "C:\\Users\\PW\\AppData\\Local\\Temp\\ipykernel_8168\\3155147829.py:20: FutureWarning: Series.__getitem__ treating keys as positions is deprecated. In a future version, integer keys will always be treated as labels (consistent with DataFrame behavior). To access a value by position, use `ser.iloc[pos]`\n",
      "  full_value = full_payments_value[group[\"order_id\"]][0]\n",
      "C:\\Users\\PW\\AppData\\Local\\Temp\\ipykernel_8168\\3155147829.py:20: FutureWarning: Series.__getitem__ treating keys as positions is deprecated. In a future version, integer keys will always be treated as labels (consistent with DataFrame behavior). To access a value by position, use `ser.iloc[pos]`\n",
      "  full_value = full_payments_value[group[\"order_id\"]][0]\n",
      "C:\\Users\\PW\\AppData\\Local\\Temp\\ipykernel_8168\\3155147829.py:20: FutureWarning: Series.__getitem__ treating keys as positions is deprecated. In a future version, integer keys will always be treated as labels (consistent with DataFrame behavior). To access a value by position, use `ser.iloc[pos]`\n",
      "  full_value = full_payments_value[group[\"order_id\"]][0]\n",
      "C:\\Users\\PW\\AppData\\Local\\Temp\\ipykernel_8168\\3155147829.py:20: FutureWarning: Series.__getitem__ treating keys as positions is deprecated. In a future version, integer keys will always be treated as labels (consistent with DataFrame behavior). To access a value by position, use `ser.iloc[pos]`\n",
      "  full_value = full_payments_value[group[\"order_id\"]][0]\n",
      "C:\\Users\\PW\\AppData\\Local\\Temp\\ipykernel_8168\\3155147829.py:20: FutureWarning: Series.__getitem__ treating keys as positions is deprecated. In a future version, integer keys will always be treated as labels (consistent with DataFrame behavior). To access a value by position, use `ser.iloc[pos]`\n",
      "  full_value = full_payments_value[group[\"order_id\"]][0]\n",
      "C:\\Users\\PW\\AppData\\Local\\Temp\\ipykernel_8168\\3155147829.py:20: FutureWarning: Series.__getitem__ treating keys as positions is deprecated. In a future version, integer keys will always be treated as labels (consistent with DataFrame behavior). To access a value by position, use `ser.iloc[pos]`\n",
      "  full_value = full_payments_value[group[\"order_id\"]][0]\n",
      "C:\\Users\\PW\\AppData\\Local\\Temp\\ipykernel_8168\\3155147829.py:20: FutureWarning: Series.__getitem__ treating keys as positions is deprecated. In a future version, integer keys will always be treated as labels (consistent with DataFrame behavior). To access a value by position, use `ser.iloc[pos]`\n",
      "  full_value = full_payments_value[group[\"order_id\"]][0]\n",
      "C:\\Users\\PW\\AppData\\Local\\Temp\\ipykernel_8168\\3155147829.py:20: FutureWarning: Series.__getitem__ treating keys as positions is deprecated. In a future version, integer keys will always be treated as labels (consistent with DataFrame behavior). To access a value by position, use `ser.iloc[pos]`\n",
      "  full_value = full_payments_value[group[\"order_id\"]][0]\n",
      "C:\\Users\\PW\\AppData\\Local\\Temp\\ipykernel_8168\\3155147829.py:20: FutureWarning: Series.__getitem__ treating keys as positions is deprecated. In a future version, integer keys will always be treated as labels (consistent with DataFrame behavior). To access a value by position, use `ser.iloc[pos]`\n",
      "  full_value = full_payments_value[group[\"order_id\"]][0]\n",
      "C:\\Users\\PW\\AppData\\Local\\Temp\\ipykernel_8168\\3155147829.py:20: FutureWarning: Series.__getitem__ treating keys as positions is deprecated. In a future version, integer keys will always be treated as labels (consistent with DataFrame behavior). To access a value by position, use `ser.iloc[pos]`\n",
      "  full_value = full_payments_value[group[\"order_id\"]][0]\n",
      "C:\\Users\\PW\\AppData\\Local\\Temp\\ipykernel_8168\\3155147829.py:20: FutureWarning: Series.__getitem__ treating keys as positions is deprecated. In a future version, integer keys will always be treated as labels (consistent with DataFrame behavior). To access a value by position, use `ser.iloc[pos]`\n",
      "  full_value = full_payments_value[group[\"order_id\"]][0]\n",
      "C:\\Users\\PW\\AppData\\Local\\Temp\\ipykernel_8168\\3155147829.py:20: FutureWarning: Series.__getitem__ treating keys as positions is deprecated. In a future version, integer keys will always be treated as labels (consistent with DataFrame behavior). To access a value by position, use `ser.iloc[pos]`\n",
      "  full_value = full_payments_value[group[\"order_id\"]][0]\n",
      "C:\\Users\\PW\\AppData\\Local\\Temp\\ipykernel_8168\\3155147829.py:20: FutureWarning: Series.__getitem__ treating keys as positions is deprecated. In a future version, integer keys will always be treated as labels (consistent with DataFrame behavior). To access a value by position, use `ser.iloc[pos]`\n",
      "  full_value = full_payments_value[group[\"order_id\"]][0]\n",
      "C:\\Users\\PW\\AppData\\Local\\Temp\\ipykernel_8168\\3155147829.py:20: FutureWarning: Series.__getitem__ treating keys as positions is deprecated. In a future version, integer keys will always be treated as labels (consistent with DataFrame behavior). To access a value by position, use `ser.iloc[pos]`\n",
      "  full_value = full_payments_value[group[\"order_id\"]][0]\n",
      "C:\\Users\\PW\\AppData\\Local\\Temp\\ipykernel_8168\\3155147829.py:20: FutureWarning: Series.__getitem__ treating keys as positions is deprecated. In a future version, integer keys will always be treated as labels (consistent with DataFrame behavior). To access a value by position, use `ser.iloc[pos]`\n",
      "  full_value = full_payments_value[group[\"order_id\"]][0]\n",
      "C:\\Users\\PW\\AppData\\Local\\Temp\\ipykernel_8168\\3155147829.py:20: FutureWarning: Series.__getitem__ treating keys as positions is deprecated. In a future version, integer keys will always be treated as labels (consistent with DataFrame behavior). To access a value by position, use `ser.iloc[pos]`\n",
      "  full_value = full_payments_value[group[\"order_id\"]][0]\n",
      "C:\\Users\\PW\\AppData\\Local\\Temp\\ipykernel_8168\\3155147829.py:20: FutureWarning: Series.__getitem__ treating keys as positions is deprecated. In a future version, integer keys will always be treated as labels (consistent with DataFrame behavior). To access a value by position, use `ser.iloc[pos]`\n",
      "  full_value = full_payments_value[group[\"order_id\"]][0]\n",
      "C:\\Users\\PW\\AppData\\Local\\Temp\\ipykernel_8168\\3155147829.py:20: FutureWarning: Series.__getitem__ treating keys as positions is deprecated. In a future version, integer keys will always be treated as labels (consistent with DataFrame behavior). To access a value by position, use `ser.iloc[pos]`\n",
      "  full_value = full_payments_value[group[\"order_id\"]][0]\n",
      "C:\\Users\\PW\\AppData\\Local\\Temp\\ipykernel_8168\\3155147829.py:20: FutureWarning: Series.__getitem__ treating keys as positions is deprecated. In a future version, integer keys will always be treated as labels (consistent with DataFrame behavior). To access a value by position, use `ser.iloc[pos]`\n",
      "  full_value = full_payments_value[group[\"order_id\"]][0]\n",
      "C:\\Users\\PW\\AppData\\Local\\Temp\\ipykernel_8168\\3155147829.py:20: FutureWarning: Series.__getitem__ treating keys as positions is deprecated. In a future version, integer keys will always be treated as labels (consistent with DataFrame behavior). To access a value by position, use `ser.iloc[pos]`\n",
      "  full_value = full_payments_value[group[\"order_id\"]][0]\n",
      "C:\\Users\\PW\\AppData\\Local\\Temp\\ipykernel_8168\\3155147829.py:20: FutureWarning: Series.__getitem__ treating keys as positions is deprecated. In a future version, integer keys will always be treated as labels (consistent with DataFrame behavior). To access a value by position, use `ser.iloc[pos]`\n",
      "  full_value = full_payments_value[group[\"order_id\"]][0]\n",
      "C:\\Users\\PW\\AppData\\Local\\Temp\\ipykernel_8168\\3155147829.py:20: FutureWarning: Series.__getitem__ treating keys as positions is deprecated. In a future version, integer keys will always be treated as labels (consistent with DataFrame behavior). To access a value by position, use `ser.iloc[pos]`\n",
      "  full_value = full_payments_value[group[\"order_id\"]][0]\n",
      "C:\\Users\\PW\\AppData\\Local\\Temp\\ipykernel_8168\\3155147829.py:20: FutureWarning: Series.__getitem__ treating keys as positions is deprecated. In a future version, integer keys will always be treated as labels (consistent with DataFrame behavior). To access a value by position, use `ser.iloc[pos]`\n",
      "  full_value = full_payments_value[group[\"order_id\"]][0]\n",
      "C:\\Users\\PW\\AppData\\Local\\Temp\\ipykernel_8168\\3155147829.py:20: FutureWarning: Series.__getitem__ treating keys as positions is deprecated. In a future version, integer keys will always be treated as labels (consistent with DataFrame behavior). To access a value by position, use `ser.iloc[pos]`\n",
      "  full_value = full_payments_value[group[\"order_id\"]][0]\n",
      "C:\\Users\\PW\\AppData\\Local\\Temp\\ipykernel_8168\\3155147829.py:20: FutureWarning: Series.__getitem__ treating keys as positions is deprecated. In a future version, integer keys will always be treated as labels (consistent with DataFrame behavior). To access a value by position, use `ser.iloc[pos]`\n",
      "  full_value = full_payments_value[group[\"order_id\"]][0]\n",
      "C:\\Users\\PW\\AppData\\Local\\Temp\\ipykernel_8168\\3155147829.py:20: FutureWarning: Series.__getitem__ treating keys as positions is deprecated. In a future version, integer keys will always be treated as labels (consistent with DataFrame behavior). To access a value by position, use `ser.iloc[pos]`\n",
      "  full_value = full_payments_value[group[\"order_id\"]][0]\n",
      "C:\\Users\\PW\\AppData\\Local\\Temp\\ipykernel_8168\\3155147829.py:20: FutureWarning: Series.__getitem__ treating keys as positions is deprecated. In a future version, integer keys will always be treated as labels (consistent with DataFrame behavior). To access a value by position, use `ser.iloc[pos]`\n",
      "  full_value = full_payments_value[group[\"order_id\"]][0]\n",
      "C:\\Users\\PW\\AppData\\Local\\Temp\\ipykernel_8168\\3155147829.py:20: FutureWarning: Series.__getitem__ treating keys as positions is deprecated. In a future version, integer keys will always be treated as labels (consistent with DataFrame behavior). To access a value by position, use `ser.iloc[pos]`\n",
      "  full_value = full_payments_value[group[\"order_id\"]][0]\n",
      "C:\\Users\\PW\\AppData\\Local\\Temp\\ipykernel_8168\\3155147829.py:20: FutureWarning: Series.__getitem__ treating keys as positions is deprecated. In a future version, integer keys will always be treated as labels (consistent with DataFrame behavior). To access a value by position, use `ser.iloc[pos]`\n",
      "  full_value = full_payments_value[group[\"order_id\"]][0]\n",
      "C:\\Users\\PW\\AppData\\Local\\Temp\\ipykernel_8168\\3155147829.py:20: FutureWarning: Series.__getitem__ treating keys as positions is deprecated. In a future version, integer keys will always be treated as labels (consistent with DataFrame behavior). To access a value by position, use `ser.iloc[pos]`\n",
      "  full_value = full_payments_value[group[\"order_id\"]][0]\n",
      "C:\\Users\\PW\\AppData\\Local\\Temp\\ipykernel_8168\\3155147829.py:20: FutureWarning: Series.__getitem__ treating keys as positions is deprecated. In a future version, integer keys will always be treated as labels (consistent with DataFrame behavior). To access a value by position, use `ser.iloc[pos]`\n",
      "  full_value = full_payments_value[group[\"order_id\"]][0]\n",
      "C:\\Users\\PW\\AppData\\Local\\Temp\\ipykernel_8168\\3155147829.py:20: FutureWarning: Series.__getitem__ treating keys as positions is deprecated. In a future version, integer keys will always be treated as labels (consistent with DataFrame behavior). To access a value by position, use `ser.iloc[pos]`\n",
      "  full_value = full_payments_value[group[\"order_id\"]][0]\n",
      "C:\\Users\\PW\\AppData\\Local\\Temp\\ipykernel_8168\\3155147829.py:20: FutureWarning: Series.__getitem__ treating keys as positions is deprecated. In a future version, integer keys will always be treated as labels (consistent with DataFrame behavior). To access a value by position, use `ser.iloc[pos]`\n",
      "  full_value = full_payments_value[group[\"order_id\"]][0]\n",
      "C:\\Users\\PW\\AppData\\Local\\Temp\\ipykernel_8168\\3155147829.py:20: FutureWarning: Series.__getitem__ treating keys as positions is deprecated. In a future version, integer keys will always be treated as labels (consistent with DataFrame behavior). To access a value by position, use `ser.iloc[pos]`\n",
      "  full_value = full_payments_value[group[\"order_id\"]][0]\n",
      "C:\\Users\\PW\\AppData\\Local\\Temp\\ipykernel_8168\\3155147829.py:20: FutureWarning: Series.__getitem__ treating keys as positions is deprecated. In a future version, integer keys will always be treated as labels (consistent with DataFrame behavior). To access a value by position, use `ser.iloc[pos]`\n",
      "  full_value = full_payments_value[group[\"order_id\"]][0]\n",
      "C:\\Users\\PW\\AppData\\Local\\Temp\\ipykernel_8168\\3155147829.py:20: FutureWarning: Series.__getitem__ treating keys as positions is deprecated. In a future version, integer keys will always be treated as labels (consistent with DataFrame behavior). To access a value by position, use `ser.iloc[pos]`\n",
      "  full_value = full_payments_value[group[\"order_id\"]][0]\n",
      "C:\\Users\\PW\\AppData\\Local\\Temp\\ipykernel_8168\\3155147829.py:20: FutureWarning: Series.__getitem__ treating keys as positions is deprecated. In a future version, integer keys will always be treated as labels (consistent with DataFrame behavior). To access a value by position, use `ser.iloc[pos]`\n",
      "  full_value = full_payments_value[group[\"order_id\"]][0]\n",
      "C:\\Users\\PW\\AppData\\Local\\Temp\\ipykernel_8168\\3155147829.py:20: FutureWarning: Series.__getitem__ treating keys as positions is deprecated. In a future version, integer keys will always be treated as labels (consistent with DataFrame behavior). To access a value by position, use `ser.iloc[pos]`\n",
      "  full_value = full_payments_value[group[\"order_id\"]][0]\n",
      "C:\\Users\\PW\\AppData\\Local\\Temp\\ipykernel_8168\\3155147829.py:20: FutureWarning: Series.__getitem__ treating keys as positions is deprecated. In a future version, integer keys will always be treated as labels (consistent with DataFrame behavior). To access a value by position, use `ser.iloc[pos]`\n",
      "  full_value = full_payments_value[group[\"order_id\"]][0]\n",
      "C:\\Users\\PW\\AppData\\Local\\Temp\\ipykernel_8168\\3155147829.py:20: FutureWarning: Series.__getitem__ treating keys as positions is deprecated. In a future version, integer keys will always be treated as labels (consistent with DataFrame behavior). To access a value by position, use `ser.iloc[pos]`\n",
      "  full_value = full_payments_value[group[\"order_id\"]][0]\n",
      "C:\\Users\\PW\\AppData\\Local\\Temp\\ipykernel_8168\\3155147829.py:20: FutureWarning: Series.__getitem__ treating keys as positions is deprecated. In a future version, integer keys will always be treated as labels (consistent with DataFrame behavior). To access a value by position, use `ser.iloc[pos]`\n",
      "  full_value = full_payments_value[group[\"order_id\"]][0]\n",
      "C:\\Users\\PW\\AppData\\Local\\Temp\\ipykernel_8168\\3155147829.py:20: FutureWarning: Series.__getitem__ treating keys as positions is deprecated. In a future version, integer keys will always be treated as labels (consistent with DataFrame behavior). To access a value by position, use `ser.iloc[pos]`\n",
      "  full_value = full_payments_value[group[\"order_id\"]][0]\n",
      "C:\\Users\\PW\\AppData\\Local\\Temp\\ipykernel_8168\\3155147829.py:20: FutureWarning: Series.__getitem__ treating keys as positions is deprecated. In a future version, integer keys will always be treated as labels (consistent with DataFrame behavior). To access a value by position, use `ser.iloc[pos]`\n",
      "  full_value = full_payments_value[group[\"order_id\"]][0]\n",
      "C:\\Users\\PW\\AppData\\Local\\Temp\\ipykernel_8168\\3155147829.py:20: FutureWarning: Series.__getitem__ treating keys as positions is deprecated. In a future version, integer keys will always be treated as labels (consistent with DataFrame behavior). To access a value by position, use `ser.iloc[pos]`\n",
      "  full_value = full_payments_value[group[\"order_id\"]][0]\n",
      "C:\\Users\\PW\\AppData\\Local\\Temp\\ipykernel_8168\\3155147829.py:20: FutureWarning: Series.__getitem__ treating keys as positions is deprecated. In a future version, integer keys will always be treated as labels (consistent with DataFrame behavior). To access a value by position, use `ser.iloc[pos]`\n",
      "  full_value = full_payments_value[group[\"order_id\"]][0]\n",
      "C:\\Users\\PW\\AppData\\Local\\Temp\\ipykernel_8168\\3155147829.py:20: FutureWarning: Series.__getitem__ treating keys as positions is deprecated. In a future version, integer keys will always be treated as labels (consistent with DataFrame behavior). To access a value by position, use `ser.iloc[pos]`\n",
      "  full_value = full_payments_value[group[\"order_id\"]][0]\n",
      "C:\\Users\\PW\\AppData\\Local\\Temp\\ipykernel_8168\\3155147829.py:20: FutureWarning: Series.__getitem__ treating keys as positions is deprecated. In a future version, integer keys will always be treated as labels (consistent with DataFrame behavior). To access a value by position, use `ser.iloc[pos]`\n",
      "  full_value = full_payments_value[group[\"order_id\"]][0]\n",
      "C:\\Users\\PW\\AppData\\Local\\Temp\\ipykernel_8168\\3155147829.py:20: FutureWarning: Series.__getitem__ treating keys as positions is deprecated. In a future version, integer keys will always be treated as labels (consistent with DataFrame behavior). To access a value by position, use `ser.iloc[pos]`\n",
      "  full_value = full_payments_value[group[\"order_id\"]][0]\n",
      "C:\\Users\\PW\\AppData\\Local\\Temp\\ipykernel_8168\\3155147829.py:20: FutureWarning: Series.__getitem__ treating keys as positions is deprecated. In a future version, integer keys will always be treated as labels (consistent with DataFrame behavior). To access a value by position, use `ser.iloc[pos]`\n",
      "  full_value = full_payments_value[group[\"order_id\"]][0]\n",
      "C:\\Users\\PW\\AppData\\Local\\Temp\\ipykernel_8168\\3155147829.py:20: FutureWarning: Series.__getitem__ treating keys as positions is deprecated. In a future version, integer keys will always be treated as labels (consistent with DataFrame behavior). To access a value by position, use `ser.iloc[pos]`\n",
      "  full_value = full_payments_value[group[\"order_id\"]][0]\n",
      "C:\\Users\\PW\\AppData\\Local\\Temp\\ipykernel_8168\\3155147829.py:20: FutureWarning: Series.__getitem__ treating keys as positions is deprecated. In a future version, integer keys will always be treated as labels (consistent with DataFrame behavior). To access a value by position, use `ser.iloc[pos]`\n",
      "  full_value = full_payments_value[group[\"order_id\"]][0]\n",
      "C:\\Users\\PW\\AppData\\Local\\Temp\\ipykernel_8168\\3155147829.py:20: FutureWarning: Series.__getitem__ treating keys as positions is deprecated. In a future version, integer keys will always be treated as labels (consistent with DataFrame behavior). To access a value by position, use `ser.iloc[pos]`\n",
      "  full_value = full_payments_value[group[\"order_id\"]][0]\n",
      "C:\\Users\\PW\\AppData\\Local\\Temp\\ipykernel_8168\\3155147829.py:20: FutureWarning: Series.__getitem__ treating keys as positions is deprecated. In a future version, integer keys will always be treated as labels (consistent with DataFrame behavior). To access a value by position, use `ser.iloc[pos]`\n",
      "  full_value = full_payments_value[group[\"order_id\"]][0]\n",
      "C:\\Users\\PW\\AppData\\Local\\Temp\\ipykernel_8168\\3155147829.py:20: FutureWarning: Series.__getitem__ treating keys as positions is deprecated. In a future version, integer keys will always be treated as labels (consistent with DataFrame behavior). To access a value by position, use `ser.iloc[pos]`\n",
      "  full_value = full_payments_value[group[\"order_id\"]][0]\n",
      "C:\\Users\\PW\\AppData\\Local\\Temp\\ipykernel_8168\\3155147829.py:20: FutureWarning: Series.__getitem__ treating keys as positions is deprecated. In a future version, integer keys will always be treated as labels (consistent with DataFrame behavior). To access a value by position, use `ser.iloc[pos]`\n",
      "  full_value = full_payments_value[group[\"order_id\"]][0]\n",
      "C:\\Users\\PW\\AppData\\Local\\Temp\\ipykernel_8168\\3155147829.py:20: FutureWarning: Series.__getitem__ treating keys as positions is deprecated. In a future version, integer keys will always be treated as labels (consistent with DataFrame behavior). To access a value by position, use `ser.iloc[pos]`\n",
      "  full_value = full_payments_value[group[\"order_id\"]][0]\n",
      "C:\\Users\\PW\\AppData\\Local\\Temp\\ipykernel_8168\\3155147829.py:20: FutureWarning: Series.__getitem__ treating keys as positions is deprecated. In a future version, integer keys will always be treated as labels (consistent with DataFrame behavior). To access a value by position, use `ser.iloc[pos]`\n",
      "  full_value = full_payments_value[group[\"order_id\"]][0]\n",
      "C:\\Users\\PW\\AppData\\Local\\Temp\\ipykernel_8168\\3155147829.py:20: FutureWarning: Series.__getitem__ treating keys as positions is deprecated. In a future version, integer keys will always be treated as labels (consistent with DataFrame behavior). To access a value by position, use `ser.iloc[pos]`\n",
      "  full_value = full_payments_value[group[\"order_id\"]][0]\n",
      "C:\\Users\\PW\\AppData\\Local\\Temp\\ipykernel_8168\\3155147829.py:20: FutureWarning: Series.__getitem__ treating keys as positions is deprecated. In a future version, integer keys will always be treated as labels (consistent with DataFrame behavior). To access a value by position, use `ser.iloc[pos]`\n",
      "  full_value = full_payments_value[group[\"order_id\"]][0]\n",
      "C:\\Users\\PW\\AppData\\Local\\Temp\\ipykernel_8168\\3155147829.py:20: FutureWarning: Series.__getitem__ treating keys as positions is deprecated. In a future version, integer keys will always be treated as labels (consistent with DataFrame behavior). To access a value by position, use `ser.iloc[pos]`\n",
      "  full_value = full_payments_value[group[\"order_id\"]][0]\n",
      "C:\\Users\\PW\\AppData\\Local\\Temp\\ipykernel_8168\\3155147829.py:20: FutureWarning: Series.__getitem__ treating keys as positions is deprecated. In a future version, integer keys will always be treated as labels (consistent with DataFrame behavior). To access a value by position, use `ser.iloc[pos]`\n",
      "  full_value = full_payments_value[group[\"order_id\"]][0]\n",
      "C:\\Users\\PW\\AppData\\Local\\Temp\\ipykernel_8168\\3155147829.py:20: FutureWarning: Series.__getitem__ treating keys as positions is deprecated. In a future version, integer keys will always be treated as labels (consistent with DataFrame behavior). To access a value by position, use `ser.iloc[pos]`\n",
      "  full_value = full_payments_value[group[\"order_id\"]][0]\n",
      "C:\\Users\\PW\\AppData\\Local\\Temp\\ipykernel_8168\\3155147829.py:20: FutureWarning: Series.__getitem__ treating keys as positions is deprecated. In a future version, integer keys will always be treated as labels (consistent with DataFrame behavior). To access a value by position, use `ser.iloc[pos]`\n",
      "  full_value = full_payments_value[group[\"order_id\"]][0]\n",
      "C:\\Users\\PW\\AppData\\Local\\Temp\\ipykernel_8168\\3155147829.py:20: FutureWarning: Series.__getitem__ treating keys as positions is deprecated. In a future version, integer keys will always be treated as labels (consistent with DataFrame behavior). To access a value by position, use `ser.iloc[pos]`\n",
      "  full_value = full_payments_value[group[\"order_id\"]][0]\n",
      "C:\\Users\\PW\\AppData\\Local\\Temp\\ipykernel_8168\\3155147829.py:20: FutureWarning: Series.__getitem__ treating keys as positions is deprecated. In a future version, integer keys will always be treated as labels (consistent with DataFrame behavior). To access a value by position, use `ser.iloc[pos]`\n",
      "  full_value = full_payments_value[group[\"order_id\"]][0]\n",
      "C:\\Users\\PW\\AppData\\Local\\Temp\\ipykernel_8168\\3155147829.py:20: FutureWarning: Series.__getitem__ treating keys as positions is deprecated. In a future version, integer keys will always be treated as labels (consistent with DataFrame behavior). To access a value by position, use `ser.iloc[pos]`\n",
      "  full_value = full_payments_value[group[\"order_id\"]][0]\n",
      "C:\\Users\\PW\\AppData\\Local\\Temp\\ipykernel_8168\\3155147829.py:20: FutureWarning: Series.__getitem__ treating keys as positions is deprecated. In a future version, integer keys will always be treated as labels (consistent with DataFrame behavior). To access a value by position, use `ser.iloc[pos]`\n",
      "  full_value = full_payments_value[group[\"order_id\"]][0]\n",
      "C:\\Users\\PW\\AppData\\Local\\Temp\\ipykernel_8168\\3155147829.py:20: FutureWarning: Series.__getitem__ treating keys as positions is deprecated. In a future version, integer keys will always be treated as labels (consistent with DataFrame behavior). To access a value by position, use `ser.iloc[pos]`\n",
      "  full_value = full_payments_value[group[\"order_id\"]][0]\n",
      "C:\\Users\\PW\\AppData\\Local\\Temp\\ipykernel_8168\\3155147829.py:20: FutureWarning: Series.__getitem__ treating keys as positions is deprecated. In a future version, integer keys will always be treated as labels (consistent with DataFrame behavior). To access a value by position, use `ser.iloc[pos]`\n",
      "  full_value = full_payments_value[group[\"order_id\"]][0]\n",
      "C:\\Users\\PW\\AppData\\Local\\Temp\\ipykernel_8168\\3155147829.py:20: FutureWarning: Series.__getitem__ treating keys as positions is deprecated. In a future version, integer keys will always be treated as labels (consistent with DataFrame behavior). To access a value by position, use `ser.iloc[pos]`\n",
      "  full_value = full_payments_value[group[\"order_id\"]][0]\n",
      "C:\\Users\\PW\\AppData\\Local\\Temp\\ipykernel_8168\\3155147829.py:20: FutureWarning: Series.__getitem__ treating keys as positions is deprecated. In a future version, integer keys will always be treated as labels (consistent with DataFrame behavior). To access a value by position, use `ser.iloc[pos]`\n",
      "  full_value = full_payments_value[group[\"order_id\"]][0]\n",
      "C:\\Users\\PW\\AppData\\Local\\Temp\\ipykernel_8168\\3155147829.py:20: FutureWarning: Series.__getitem__ treating keys as positions is deprecated. In a future version, integer keys will always be treated as labels (consistent with DataFrame behavior). To access a value by position, use `ser.iloc[pos]`\n",
      "  full_value = full_payments_value[group[\"order_id\"]][0]\n",
      "C:\\Users\\PW\\AppData\\Local\\Temp\\ipykernel_8168\\3155147829.py:20: FutureWarning: Series.__getitem__ treating keys as positions is deprecated. In a future version, integer keys will always be treated as labels (consistent with DataFrame behavior). To access a value by position, use `ser.iloc[pos]`\n",
      "  full_value = full_payments_value[group[\"order_id\"]][0]\n",
      "C:\\Users\\PW\\AppData\\Local\\Temp\\ipykernel_8168\\3155147829.py:20: FutureWarning: Series.__getitem__ treating keys as positions is deprecated. In a future version, integer keys will always be treated as labels (consistent with DataFrame behavior). To access a value by position, use `ser.iloc[pos]`\n",
      "  full_value = full_payments_value[group[\"order_id\"]][0]\n",
      "C:\\Users\\PW\\AppData\\Local\\Temp\\ipykernel_8168\\3155147829.py:20: FutureWarning: Series.__getitem__ treating keys as positions is deprecated. In a future version, integer keys will always be treated as labels (consistent with DataFrame behavior). To access a value by position, use `ser.iloc[pos]`\n",
      "  full_value = full_payments_value[group[\"order_id\"]][0]\n",
      "C:\\Users\\PW\\AppData\\Local\\Temp\\ipykernel_8168\\3155147829.py:20: FutureWarning: Series.__getitem__ treating keys as positions is deprecated. In a future version, integer keys will always be treated as labels (consistent with DataFrame behavior). To access a value by position, use `ser.iloc[pos]`\n",
      "  full_value = full_payments_value[group[\"order_id\"]][0]\n",
      "C:\\Users\\PW\\AppData\\Local\\Temp\\ipykernel_8168\\3155147829.py:20: FutureWarning: Series.__getitem__ treating keys as positions is deprecated. In a future version, integer keys will always be treated as labels (consistent with DataFrame behavior). To access a value by position, use `ser.iloc[pos]`\n",
      "  full_value = full_payments_value[group[\"order_id\"]][0]\n",
      "C:\\Users\\PW\\AppData\\Local\\Temp\\ipykernel_8168\\3155147829.py:20: FutureWarning: Series.__getitem__ treating keys as positions is deprecated. In a future version, integer keys will always be treated as labels (consistent with DataFrame behavior). To access a value by position, use `ser.iloc[pos]`\n",
      "  full_value = full_payments_value[group[\"order_id\"]][0]\n",
      "C:\\Users\\PW\\AppData\\Local\\Temp\\ipykernel_8168\\3155147829.py:20: FutureWarning: Series.__getitem__ treating keys as positions is deprecated. In a future version, integer keys will always be treated as labels (consistent with DataFrame behavior). To access a value by position, use `ser.iloc[pos]`\n",
      "  full_value = full_payments_value[group[\"order_id\"]][0]\n",
      "C:\\Users\\PW\\AppData\\Local\\Temp\\ipykernel_8168\\3155147829.py:20: FutureWarning: Series.__getitem__ treating keys as positions is deprecated. In a future version, integer keys will always be treated as labels (consistent with DataFrame behavior). To access a value by position, use `ser.iloc[pos]`\n",
      "  full_value = full_payments_value[group[\"order_id\"]][0]\n",
      "C:\\Users\\PW\\AppData\\Local\\Temp\\ipykernel_8168\\3155147829.py:20: FutureWarning: Series.__getitem__ treating keys as positions is deprecated. In a future version, integer keys will always be treated as labels (consistent with DataFrame behavior). To access a value by position, use `ser.iloc[pos]`\n",
      "  full_value = full_payments_value[group[\"order_id\"]][0]\n",
      "C:\\Users\\PW\\AppData\\Local\\Temp\\ipykernel_8168\\3155147829.py:20: FutureWarning: Series.__getitem__ treating keys as positions is deprecated. In a future version, integer keys will always be treated as labels (consistent with DataFrame behavior). To access a value by position, use `ser.iloc[pos]`\n",
      "  full_value = full_payments_value[group[\"order_id\"]][0]\n",
      "C:\\Users\\PW\\AppData\\Local\\Temp\\ipykernel_8168\\3155147829.py:20: FutureWarning: Series.__getitem__ treating keys as positions is deprecated. In a future version, integer keys will always be treated as labels (consistent with DataFrame behavior). To access a value by position, use `ser.iloc[pos]`\n",
      "  full_value = full_payments_value[group[\"order_id\"]][0]\n",
      "C:\\Users\\PW\\AppData\\Local\\Temp\\ipykernel_8168\\3155147829.py:20: FutureWarning: Series.__getitem__ treating keys as positions is deprecated. In a future version, integer keys will always be treated as labels (consistent with DataFrame behavior). To access a value by position, use `ser.iloc[pos]`\n",
      "  full_value = full_payments_value[group[\"order_id\"]][0]\n",
      "C:\\Users\\PW\\AppData\\Local\\Temp\\ipykernel_8168\\3155147829.py:20: FutureWarning: Series.__getitem__ treating keys as positions is deprecated. In a future version, integer keys will always be treated as labels (consistent with DataFrame behavior). To access a value by position, use `ser.iloc[pos]`\n",
      "  full_value = full_payments_value[group[\"order_id\"]][0]\n",
      "C:\\Users\\PW\\AppData\\Local\\Temp\\ipykernel_8168\\3155147829.py:20: FutureWarning: Series.__getitem__ treating keys as positions is deprecated. In a future version, integer keys will always be treated as labels (consistent with DataFrame behavior). To access a value by position, use `ser.iloc[pos]`\n",
      "  full_value = full_payments_value[group[\"order_id\"]][0]\n",
      "C:\\Users\\PW\\AppData\\Local\\Temp\\ipykernel_8168\\3155147829.py:20: FutureWarning: Series.__getitem__ treating keys as positions is deprecated. In a future version, integer keys will always be treated as labels (consistent with DataFrame behavior). To access a value by position, use `ser.iloc[pos]`\n",
      "  full_value = full_payments_value[group[\"order_id\"]][0]\n",
      "C:\\Users\\PW\\AppData\\Local\\Temp\\ipykernel_8168\\3155147829.py:20: FutureWarning: Series.__getitem__ treating keys as positions is deprecated. In a future version, integer keys will always be treated as labels (consistent with DataFrame behavior). To access a value by position, use `ser.iloc[pos]`\n",
      "  full_value = full_payments_value[group[\"order_id\"]][0]\n",
      "C:\\Users\\PW\\AppData\\Local\\Temp\\ipykernel_8168\\3155147829.py:20: FutureWarning: Series.__getitem__ treating keys as positions is deprecated. In a future version, integer keys will always be treated as labels (consistent with DataFrame behavior). To access a value by position, use `ser.iloc[pos]`\n",
      "  full_value = full_payments_value[group[\"order_id\"]][0]\n",
      "C:\\Users\\PW\\AppData\\Local\\Temp\\ipykernel_8168\\3155147829.py:20: FutureWarning: Series.__getitem__ treating keys as positions is deprecated. In a future version, integer keys will always be treated as labels (consistent with DataFrame behavior). To access a value by position, use `ser.iloc[pos]`\n",
      "  full_value = full_payments_value[group[\"order_id\"]][0]\n",
      "C:\\Users\\PW\\AppData\\Local\\Temp\\ipykernel_8168\\3155147829.py:20: FutureWarning: Series.__getitem__ treating keys as positions is deprecated. In a future version, integer keys will always be treated as labels (consistent with DataFrame behavior). To access a value by position, use `ser.iloc[pos]`\n",
      "  full_value = full_payments_value[group[\"order_id\"]][0]\n",
      "C:\\Users\\PW\\AppData\\Local\\Temp\\ipykernel_8168\\3155147829.py:20: FutureWarning: Series.__getitem__ treating keys as positions is deprecated. In a future version, integer keys will always be treated as labels (consistent with DataFrame behavior). To access a value by position, use `ser.iloc[pos]`\n",
      "  full_value = full_payments_value[group[\"order_id\"]][0]\n",
      "C:\\Users\\PW\\AppData\\Local\\Temp\\ipykernel_8168\\3155147829.py:20: FutureWarning: Series.__getitem__ treating keys as positions is deprecated. In a future version, integer keys will always be treated as labels (consistent with DataFrame behavior). To access a value by position, use `ser.iloc[pos]`\n",
      "  full_value = full_payments_value[group[\"order_id\"]][0]\n",
      "C:\\Users\\PW\\AppData\\Local\\Temp\\ipykernel_8168\\3155147829.py:20: FutureWarning: Series.__getitem__ treating keys as positions is deprecated. In a future version, integer keys will always be treated as labels (consistent with DataFrame behavior). To access a value by position, use `ser.iloc[pos]`\n",
      "  full_value = full_payments_value[group[\"order_id\"]][0]\n",
      "C:\\Users\\PW\\AppData\\Local\\Temp\\ipykernel_8168\\3155147829.py:20: FutureWarning: Series.__getitem__ treating keys as positions is deprecated. In a future version, integer keys will always be treated as labels (consistent with DataFrame behavior). To access a value by position, use `ser.iloc[pos]`\n",
      "  full_value = full_payments_value[group[\"order_id\"]][0]\n",
      "C:\\Users\\PW\\AppData\\Local\\Temp\\ipykernel_8168\\3155147829.py:20: FutureWarning: Series.__getitem__ treating keys as positions is deprecated. In a future version, integer keys will always be treated as labels (consistent with DataFrame behavior). To access a value by position, use `ser.iloc[pos]`\n",
      "  full_value = full_payments_value[group[\"order_id\"]][0]\n",
      "C:\\Users\\PW\\AppData\\Local\\Temp\\ipykernel_8168\\3155147829.py:20: FutureWarning: Series.__getitem__ treating keys as positions is deprecated. In a future version, integer keys will always be treated as labels (consistent with DataFrame behavior). To access a value by position, use `ser.iloc[pos]`\n",
      "  full_value = full_payments_value[group[\"order_id\"]][0]\n",
      "C:\\Users\\PW\\AppData\\Local\\Temp\\ipykernel_8168\\3155147829.py:20: FutureWarning: Series.__getitem__ treating keys as positions is deprecated. In a future version, integer keys will always be treated as labels (consistent with DataFrame behavior). To access a value by position, use `ser.iloc[pos]`\n",
      "  full_value = full_payments_value[group[\"order_id\"]][0]\n",
      "C:\\Users\\PW\\AppData\\Local\\Temp\\ipykernel_8168\\3155147829.py:20: FutureWarning: Series.__getitem__ treating keys as positions is deprecated. In a future version, integer keys will always be treated as labels (consistent with DataFrame behavior). To access a value by position, use `ser.iloc[pos]`\n",
      "  full_value = full_payments_value[group[\"order_id\"]][0]\n",
      "C:\\Users\\PW\\AppData\\Local\\Temp\\ipykernel_8168\\3155147829.py:20: FutureWarning: Series.__getitem__ treating keys as positions is deprecated. In a future version, integer keys will always be treated as labels (consistent with DataFrame behavior). To access a value by position, use `ser.iloc[pos]`\n",
      "  full_value = full_payments_value[group[\"order_id\"]][0]\n",
      "C:\\Users\\PW\\AppData\\Local\\Temp\\ipykernel_8168\\3155147829.py:20: FutureWarning: Series.__getitem__ treating keys as positions is deprecated. In a future version, integer keys will always be treated as labels (consistent with DataFrame behavior). To access a value by position, use `ser.iloc[pos]`\n",
      "  full_value = full_payments_value[group[\"order_id\"]][0]\n",
      "C:\\Users\\PW\\AppData\\Local\\Temp\\ipykernel_8168\\3155147829.py:20: FutureWarning: Series.__getitem__ treating keys as positions is deprecated. In a future version, integer keys will always be treated as labels (consistent with DataFrame behavior). To access a value by position, use `ser.iloc[pos]`\n",
      "  full_value = full_payments_value[group[\"order_id\"]][0]\n",
      "C:\\Users\\PW\\AppData\\Local\\Temp\\ipykernel_8168\\3155147829.py:20: FutureWarning: Series.__getitem__ treating keys as positions is deprecated. In a future version, integer keys will always be treated as labels (consistent with DataFrame behavior). To access a value by position, use `ser.iloc[pos]`\n",
      "  full_value = full_payments_value[group[\"order_id\"]][0]\n",
      "C:\\Users\\PW\\AppData\\Local\\Temp\\ipykernel_8168\\3155147829.py:20: FutureWarning: Series.__getitem__ treating keys as positions is deprecated. In a future version, integer keys will always be treated as labels (consistent with DataFrame behavior). To access a value by position, use `ser.iloc[pos]`\n",
      "  full_value = full_payments_value[group[\"order_id\"]][0]\n",
      "C:\\Users\\PW\\AppData\\Local\\Temp\\ipykernel_8168\\3155147829.py:20: FutureWarning: Series.__getitem__ treating keys as positions is deprecated. In a future version, integer keys will always be treated as labels (consistent with DataFrame behavior). To access a value by position, use `ser.iloc[pos]`\n",
      "  full_value = full_payments_value[group[\"order_id\"]][0]\n",
      "C:\\Users\\PW\\AppData\\Local\\Temp\\ipykernel_8168\\3155147829.py:20: FutureWarning: Series.__getitem__ treating keys as positions is deprecated. In a future version, integer keys will always be treated as labels (consistent with DataFrame behavior). To access a value by position, use `ser.iloc[pos]`\n",
      "  full_value = full_payments_value[group[\"order_id\"]][0]\n",
      "C:\\Users\\PW\\AppData\\Local\\Temp\\ipykernel_8168\\3155147829.py:20: FutureWarning: Series.__getitem__ treating keys as positions is deprecated. In a future version, integer keys will always be treated as labels (consistent with DataFrame behavior). To access a value by position, use `ser.iloc[pos]`\n",
      "  full_value = full_payments_value[group[\"order_id\"]][0]\n",
      "C:\\Users\\PW\\AppData\\Local\\Temp\\ipykernel_8168\\3155147829.py:20: FutureWarning: Series.__getitem__ treating keys as positions is deprecated. In a future version, integer keys will always be treated as labels (consistent with DataFrame behavior). To access a value by position, use `ser.iloc[pos]`\n",
      "  full_value = full_payments_value[group[\"order_id\"]][0]\n",
      "C:\\Users\\PW\\AppData\\Local\\Temp\\ipykernel_8168\\3155147829.py:20: FutureWarning: Series.__getitem__ treating keys as positions is deprecated. In a future version, integer keys will always be treated as labels (consistent with DataFrame behavior). To access a value by position, use `ser.iloc[pos]`\n",
      "  full_value = full_payments_value[group[\"order_id\"]][0]\n",
      "C:\\Users\\PW\\AppData\\Local\\Temp\\ipykernel_8168\\3155147829.py:20: FutureWarning: Series.__getitem__ treating keys as positions is deprecated. In a future version, integer keys will always be treated as labels (consistent with DataFrame behavior). To access a value by position, use `ser.iloc[pos]`\n",
      "  full_value = full_payments_value[group[\"order_id\"]][0]\n",
      "C:\\Users\\PW\\AppData\\Local\\Temp\\ipykernel_8168\\3155147829.py:20: FutureWarning: Series.__getitem__ treating keys as positions is deprecated. In a future version, integer keys will always be treated as labels (consistent with DataFrame behavior). To access a value by position, use `ser.iloc[pos]`\n",
      "  full_value = full_payments_value[group[\"order_id\"]][0]\n",
      "C:\\Users\\PW\\AppData\\Local\\Temp\\ipykernel_8168\\3155147829.py:20: FutureWarning: Series.__getitem__ treating keys as positions is deprecated. In a future version, integer keys will always be treated as labels (consistent with DataFrame behavior). To access a value by position, use `ser.iloc[pos]`\n",
      "  full_value = full_payments_value[group[\"order_id\"]][0]\n",
      "C:\\Users\\PW\\AppData\\Local\\Temp\\ipykernel_8168\\3155147829.py:20: FutureWarning: Series.__getitem__ treating keys as positions is deprecated. In a future version, integer keys will always be treated as labels (consistent with DataFrame behavior). To access a value by position, use `ser.iloc[pos]`\n",
      "  full_value = full_payments_value[group[\"order_id\"]][0]\n",
      "C:\\Users\\PW\\AppData\\Local\\Temp\\ipykernel_8168\\3155147829.py:20: FutureWarning: Series.__getitem__ treating keys as positions is deprecated. In a future version, integer keys will always be treated as labels (consistent with DataFrame behavior). To access a value by position, use `ser.iloc[pos]`\n",
      "  full_value = full_payments_value[group[\"order_id\"]][0]\n",
      "C:\\Users\\PW\\AppData\\Local\\Temp\\ipykernel_8168\\3155147829.py:20: FutureWarning: Series.__getitem__ treating keys as positions is deprecated. In a future version, integer keys will always be treated as labels (consistent with DataFrame behavior). To access a value by position, use `ser.iloc[pos]`\n",
      "  full_value = full_payments_value[group[\"order_id\"]][0]\n",
      "C:\\Users\\PW\\AppData\\Local\\Temp\\ipykernel_8168\\3155147829.py:20: FutureWarning: Series.__getitem__ treating keys as positions is deprecated. In a future version, integer keys will always be treated as labels (consistent with DataFrame behavior). To access a value by position, use `ser.iloc[pos]`\n",
      "  full_value = full_payments_value[group[\"order_id\"]][0]\n",
      "C:\\Users\\PW\\AppData\\Local\\Temp\\ipykernel_8168\\3155147829.py:20: FutureWarning: Series.__getitem__ treating keys as positions is deprecated. In a future version, integer keys will always be treated as labels (consistent with DataFrame behavior). To access a value by position, use `ser.iloc[pos]`\n",
      "  full_value = full_payments_value[group[\"order_id\"]][0]\n",
      "C:\\Users\\PW\\AppData\\Local\\Temp\\ipykernel_8168\\3155147829.py:20: FutureWarning: Series.__getitem__ treating keys as positions is deprecated. In a future version, integer keys will always be treated as labels (consistent with DataFrame behavior). To access a value by position, use `ser.iloc[pos]`\n",
      "  full_value = full_payments_value[group[\"order_id\"]][0]\n",
      "C:\\Users\\PW\\AppData\\Local\\Temp\\ipykernel_8168\\3155147829.py:20: FutureWarning: Series.__getitem__ treating keys as positions is deprecated. In a future version, integer keys will always be treated as labels (consistent with DataFrame behavior). To access a value by position, use `ser.iloc[pos]`\n",
      "  full_value = full_payments_value[group[\"order_id\"]][0]\n",
      "C:\\Users\\PW\\AppData\\Local\\Temp\\ipykernel_8168\\3155147829.py:20: FutureWarning: Series.__getitem__ treating keys as positions is deprecated. In a future version, integer keys will always be treated as labels (consistent with DataFrame behavior). To access a value by position, use `ser.iloc[pos]`\n",
      "  full_value = full_payments_value[group[\"order_id\"]][0]\n",
      "C:\\Users\\PW\\AppData\\Local\\Temp\\ipykernel_8168\\3155147829.py:20: FutureWarning: Series.__getitem__ treating keys as positions is deprecated. In a future version, integer keys will always be treated as labels (consistent with DataFrame behavior). To access a value by position, use `ser.iloc[pos]`\n",
      "  full_value = full_payments_value[group[\"order_id\"]][0]\n",
      "C:\\Users\\PW\\AppData\\Local\\Temp\\ipykernel_8168\\3155147829.py:20: FutureWarning: Series.__getitem__ treating keys as positions is deprecated. In a future version, integer keys will always be treated as labels (consistent with DataFrame behavior). To access a value by position, use `ser.iloc[pos]`\n",
      "  full_value = full_payments_value[group[\"order_id\"]][0]\n",
      "C:\\Users\\PW\\AppData\\Local\\Temp\\ipykernel_8168\\3155147829.py:20: FutureWarning: Series.__getitem__ treating keys as positions is deprecated. In a future version, integer keys will always be treated as labels (consistent with DataFrame behavior). To access a value by position, use `ser.iloc[pos]`\n",
      "  full_value = full_payments_value[group[\"order_id\"]][0]\n",
      "C:\\Users\\PW\\AppData\\Local\\Temp\\ipykernel_8168\\3155147829.py:20: FutureWarning: Series.__getitem__ treating keys as positions is deprecated. In a future version, integer keys will always be treated as labels (consistent with DataFrame behavior). To access a value by position, use `ser.iloc[pos]`\n",
      "  full_value = full_payments_value[group[\"order_id\"]][0]\n",
      "C:\\Users\\PW\\AppData\\Local\\Temp\\ipykernel_8168\\3155147829.py:20: FutureWarning: Series.__getitem__ treating keys as positions is deprecated. In a future version, integer keys will always be treated as labels (consistent with DataFrame behavior). To access a value by position, use `ser.iloc[pos]`\n",
      "  full_value = full_payments_value[group[\"order_id\"]][0]\n",
      "C:\\Users\\PW\\AppData\\Local\\Temp\\ipykernel_8168\\3155147829.py:20: FutureWarning: Series.__getitem__ treating keys as positions is deprecated. In a future version, integer keys will always be treated as labels (consistent with DataFrame behavior). To access a value by position, use `ser.iloc[pos]`\n",
      "  full_value = full_payments_value[group[\"order_id\"]][0]\n",
      "C:\\Users\\PW\\AppData\\Local\\Temp\\ipykernel_8168\\3155147829.py:20: FutureWarning: Series.__getitem__ treating keys as positions is deprecated. In a future version, integer keys will always be treated as labels (consistent with DataFrame behavior). To access a value by position, use `ser.iloc[pos]`\n",
      "  full_value = full_payments_value[group[\"order_id\"]][0]\n",
      "C:\\Users\\PW\\AppData\\Local\\Temp\\ipykernel_8168\\3155147829.py:20: FutureWarning: Series.__getitem__ treating keys as positions is deprecated. In a future version, integer keys will always be treated as labels (consistent with DataFrame behavior). To access a value by position, use `ser.iloc[pos]`\n",
      "  full_value = full_payments_value[group[\"order_id\"]][0]\n",
      "C:\\Users\\PW\\AppData\\Local\\Temp\\ipykernel_8168\\3155147829.py:20: FutureWarning: Series.__getitem__ treating keys as positions is deprecated. In a future version, integer keys will always be treated as labels (consistent with DataFrame behavior). To access a value by position, use `ser.iloc[pos]`\n",
      "  full_value = full_payments_value[group[\"order_id\"]][0]\n",
      "C:\\Users\\PW\\AppData\\Local\\Temp\\ipykernel_8168\\3155147829.py:20: FutureWarning: Series.__getitem__ treating keys as positions is deprecated. In a future version, integer keys will always be treated as labels (consistent with DataFrame behavior). To access a value by position, use `ser.iloc[pos]`\n",
      "  full_value = full_payments_value[group[\"order_id\"]][0]\n",
      "C:\\Users\\PW\\AppData\\Local\\Temp\\ipykernel_8168\\3155147829.py:20: FutureWarning: Series.__getitem__ treating keys as positions is deprecated. In a future version, integer keys will always be treated as labels (consistent with DataFrame behavior). To access a value by position, use `ser.iloc[pos]`\n",
      "  full_value = full_payments_value[group[\"order_id\"]][0]\n",
      "C:\\Users\\PW\\AppData\\Local\\Temp\\ipykernel_8168\\3155147829.py:20: FutureWarning: Series.__getitem__ treating keys as positions is deprecated. In a future version, integer keys will always be treated as labels (consistent with DataFrame behavior). To access a value by position, use `ser.iloc[pos]`\n",
      "  full_value = full_payments_value[group[\"order_id\"]][0]\n",
      "C:\\Users\\PW\\AppData\\Local\\Temp\\ipykernel_8168\\3155147829.py:20: FutureWarning: Series.__getitem__ treating keys as positions is deprecated. In a future version, integer keys will always be treated as labels (consistent with DataFrame behavior). To access a value by position, use `ser.iloc[pos]`\n",
      "  full_value = full_payments_value[group[\"order_id\"]][0]\n",
      "C:\\Users\\PW\\AppData\\Local\\Temp\\ipykernel_8168\\3155147829.py:20: FutureWarning: Series.__getitem__ treating keys as positions is deprecated. In a future version, integer keys will always be treated as labels (consistent with DataFrame behavior). To access a value by position, use `ser.iloc[pos]`\n",
      "  full_value = full_payments_value[group[\"order_id\"]][0]\n",
      "C:\\Users\\PW\\AppData\\Local\\Temp\\ipykernel_8168\\3155147829.py:20: FutureWarning: Series.__getitem__ treating keys as positions is deprecated. In a future version, integer keys will always be treated as labels (consistent with DataFrame behavior). To access a value by position, use `ser.iloc[pos]`\n",
      "  full_value = full_payments_value[group[\"order_id\"]][0]\n",
      "C:\\Users\\PW\\AppData\\Local\\Temp\\ipykernel_8168\\3155147829.py:20: FutureWarning: Series.__getitem__ treating keys as positions is deprecated. In a future version, integer keys will always be treated as labels (consistent with DataFrame behavior). To access a value by position, use `ser.iloc[pos]`\n",
      "  full_value = full_payments_value[group[\"order_id\"]][0]\n",
      "C:\\Users\\PW\\AppData\\Local\\Temp\\ipykernel_8168\\3155147829.py:20: FutureWarning: Series.__getitem__ treating keys as positions is deprecated. In a future version, integer keys will always be treated as labels (consistent with DataFrame behavior). To access a value by position, use `ser.iloc[pos]`\n",
      "  full_value = full_payments_value[group[\"order_id\"]][0]\n",
      "C:\\Users\\PW\\AppData\\Local\\Temp\\ipykernel_8168\\3155147829.py:20: FutureWarning: Series.__getitem__ treating keys as positions is deprecated. In a future version, integer keys will always be treated as labels (consistent with DataFrame behavior). To access a value by position, use `ser.iloc[pos]`\n",
      "  full_value = full_payments_value[group[\"order_id\"]][0]\n",
      "C:\\Users\\PW\\AppData\\Local\\Temp\\ipykernel_8168\\3155147829.py:20: FutureWarning: Series.__getitem__ treating keys as positions is deprecated. In a future version, integer keys will always be treated as labels (consistent with DataFrame behavior). To access a value by position, use `ser.iloc[pos]`\n",
      "  full_value = full_payments_value[group[\"order_id\"]][0]\n",
      "C:\\Users\\PW\\AppData\\Local\\Temp\\ipykernel_8168\\3155147829.py:20: FutureWarning: Series.__getitem__ treating keys as positions is deprecated. In a future version, integer keys will always be treated as labels (consistent with DataFrame behavior). To access a value by position, use `ser.iloc[pos]`\n",
      "  full_value = full_payments_value[group[\"order_id\"]][0]\n",
      "C:\\Users\\PW\\AppData\\Local\\Temp\\ipykernel_8168\\3155147829.py:20: FutureWarning: Series.__getitem__ treating keys as positions is deprecated. In a future version, integer keys will always be treated as labels (consistent with DataFrame behavior). To access a value by position, use `ser.iloc[pos]`\n",
      "  full_value = full_payments_value[group[\"order_id\"]][0]\n",
      "C:\\Users\\PW\\AppData\\Local\\Temp\\ipykernel_8168\\3155147829.py:20: FutureWarning: Series.__getitem__ treating keys as positions is deprecated. In a future version, integer keys will always be treated as labels (consistent with DataFrame behavior). To access a value by position, use `ser.iloc[pos]`\n",
      "  full_value = full_payments_value[group[\"order_id\"]][0]\n",
      "C:\\Users\\PW\\AppData\\Local\\Temp\\ipykernel_8168\\3155147829.py:20: FutureWarning: Series.__getitem__ treating keys as positions is deprecated. In a future version, integer keys will always be treated as labels (consistent with DataFrame behavior). To access a value by position, use `ser.iloc[pos]`\n",
      "  full_value = full_payments_value[group[\"order_id\"]][0]\n",
      "C:\\Users\\PW\\AppData\\Local\\Temp\\ipykernel_8168\\3155147829.py:20: FutureWarning: Series.__getitem__ treating keys as positions is deprecated. In a future version, integer keys will always be treated as labels (consistent with DataFrame behavior). To access a value by position, use `ser.iloc[pos]`\n",
      "  full_value = full_payments_value[group[\"order_id\"]][0]\n",
      "C:\\Users\\PW\\AppData\\Local\\Temp\\ipykernel_8168\\3155147829.py:20: FutureWarning: Series.__getitem__ treating keys as positions is deprecated. In a future version, integer keys will always be treated as labels (consistent with DataFrame behavior). To access a value by position, use `ser.iloc[pos]`\n",
      "  full_value = full_payments_value[group[\"order_id\"]][0]\n",
      "C:\\Users\\PW\\AppData\\Local\\Temp\\ipykernel_8168\\3155147829.py:20: FutureWarning: Series.__getitem__ treating keys as positions is deprecated. In a future version, integer keys will always be treated as labels (consistent with DataFrame behavior). To access a value by position, use `ser.iloc[pos]`\n",
      "  full_value = full_payments_value[group[\"order_id\"]][0]\n",
      "C:\\Users\\PW\\AppData\\Local\\Temp\\ipykernel_8168\\3155147829.py:20: FutureWarning: Series.__getitem__ treating keys as positions is deprecated. In a future version, integer keys will always be treated as labels (consistent with DataFrame behavior). To access a value by position, use `ser.iloc[pos]`\n",
      "  full_value = full_payments_value[group[\"order_id\"]][0]\n",
      "C:\\Users\\PW\\AppData\\Local\\Temp\\ipykernel_8168\\3155147829.py:20: FutureWarning: Series.__getitem__ treating keys as positions is deprecated. In a future version, integer keys will always be treated as labels (consistent with DataFrame behavior). To access a value by position, use `ser.iloc[pos]`\n",
      "  full_value = full_payments_value[group[\"order_id\"]][0]\n",
      "C:\\Users\\PW\\AppData\\Local\\Temp\\ipykernel_8168\\3155147829.py:20: FutureWarning: Series.__getitem__ treating keys as positions is deprecated. In a future version, integer keys will always be treated as labels (consistent with DataFrame behavior). To access a value by position, use `ser.iloc[pos]`\n",
      "  full_value = full_payments_value[group[\"order_id\"]][0]\n",
      "C:\\Users\\PW\\AppData\\Local\\Temp\\ipykernel_8168\\3155147829.py:20: FutureWarning: Series.__getitem__ treating keys as positions is deprecated. In a future version, integer keys will always be treated as labels (consistent with DataFrame behavior). To access a value by position, use `ser.iloc[pos]`\n",
      "  full_value = full_payments_value[group[\"order_id\"]][0]\n",
      "C:\\Users\\PW\\AppData\\Local\\Temp\\ipykernel_8168\\3155147829.py:20: FutureWarning: Series.__getitem__ treating keys as positions is deprecated. In a future version, integer keys will always be treated as labels (consistent with DataFrame behavior). To access a value by position, use `ser.iloc[pos]`\n",
      "  full_value = full_payments_value[group[\"order_id\"]][0]\n",
      "C:\\Users\\PW\\AppData\\Local\\Temp\\ipykernel_8168\\3155147829.py:20: FutureWarning: Series.__getitem__ treating keys as positions is deprecated. In a future version, integer keys will always be treated as labels (consistent with DataFrame behavior). To access a value by position, use `ser.iloc[pos]`\n",
      "  full_value = full_payments_value[group[\"order_id\"]][0]\n",
      "C:\\Users\\PW\\AppData\\Local\\Temp\\ipykernel_8168\\3155147829.py:20: FutureWarning: Series.__getitem__ treating keys as positions is deprecated. In a future version, integer keys will always be treated as labels (consistent with DataFrame behavior). To access a value by position, use `ser.iloc[pos]`\n",
      "  full_value = full_payments_value[group[\"order_id\"]][0]\n",
      "C:\\Users\\PW\\AppData\\Local\\Temp\\ipykernel_8168\\3155147829.py:20: FutureWarning: Series.__getitem__ treating keys as positions is deprecated. In a future version, integer keys will always be treated as labels (consistent with DataFrame behavior). To access a value by position, use `ser.iloc[pos]`\n",
      "  full_value = full_payments_value[group[\"order_id\"]][0]\n",
      "C:\\Users\\PW\\AppData\\Local\\Temp\\ipykernel_8168\\3155147829.py:20: FutureWarning: Series.__getitem__ treating keys as positions is deprecated. In a future version, integer keys will always be treated as labels (consistent with DataFrame behavior). To access a value by position, use `ser.iloc[pos]`\n",
      "  full_value = full_payments_value[group[\"order_id\"]][0]\n",
      "C:\\Users\\PW\\AppData\\Local\\Temp\\ipykernel_8168\\3155147829.py:20: FutureWarning: Series.__getitem__ treating keys as positions is deprecated. In a future version, integer keys will always be treated as labels (consistent with DataFrame behavior). To access a value by position, use `ser.iloc[pos]`\n",
      "  full_value = full_payments_value[group[\"order_id\"]][0]\n",
      "C:\\Users\\PW\\AppData\\Local\\Temp\\ipykernel_8168\\3155147829.py:20: FutureWarning: Series.__getitem__ treating keys as positions is deprecated. In a future version, integer keys will always be treated as labels (consistent with DataFrame behavior). To access a value by position, use `ser.iloc[pos]`\n",
      "  full_value = full_payments_value[group[\"order_id\"]][0]\n",
      "C:\\Users\\PW\\AppData\\Local\\Temp\\ipykernel_8168\\3155147829.py:20: FutureWarning: Series.__getitem__ treating keys as positions is deprecated. In a future version, integer keys will always be treated as labels (consistent with DataFrame behavior). To access a value by position, use `ser.iloc[pos]`\n",
      "  full_value = full_payments_value[group[\"order_id\"]][0]\n",
      "C:\\Users\\PW\\AppData\\Local\\Temp\\ipykernel_8168\\3155147829.py:20: FutureWarning: Series.__getitem__ treating keys as positions is deprecated. In a future version, integer keys will always be treated as labels (consistent with DataFrame behavior). To access a value by position, use `ser.iloc[pos]`\n",
      "  full_value = full_payments_value[group[\"order_id\"]][0]\n",
      "C:\\Users\\PW\\AppData\\Local\\Temp\\ipykernel_8168\\3155147829.py:20: FutureWarning: Series.__getitem__ treating keys as positions is deprecated. In a future version, integer keys will always be treated as labels (consistent with DataFrame behavior). To access a value by position, use `ser.iloc[pos]`\n",
      "  full_value = full_payments_value[group[\"order_id\"]][0]\n",
      "C:\\Users\\PW\\AppData\\Local\\Temp\\ipykernel_8168\\3155147829.py:20: FutureWarning: Series.__getitem__ treating keys as positions is deprecated. In a future version, integer keys will always be treated as labels (consistent with DataFrame behavior). To access a value by position, use `ser.iloc[pos]`\n",
      "  full_value = full_payments_value[group[\"order_id\"]][0]\n",
      "C:\\Users\\PW\\AppData\\Local\\Temp\\ipykernel_8168\\3155147829.py:20: FutureWarning: Series.__getitem__ treating keys as positions is deprecated. In a future version, integer keys will always be treated as labels (consistent with DataFrame behavior). To access a value by position, use `ser.iloc[pos]`\n",
      "  full_value = full_payments_value[group[\"order_id\"]][0]\n",
      "C:\\Users\\PW\\AppData\\Local\\Temp\\ipykernel_8168\\3155147829.py:20: FutureWarning: Series.__getitem__ treating keys as positions is deprecated. In a future version, integer keys will always be treated as labels (consistent with DataFrame behavior). To access a value by position, use `ser.iloc[pos]`\n",
      "  full_value = full_payments_value[group[\"order_id\"]][0]\n",
      "C:\\Users\\PW\\AppData\\Local\\Temp\\ipykernel_8168\\3155147829.py:20: FutureWarning: Series.__getitem__ treating keys as positions is deprecated. In a future version, integer keys will always be treated as labels (consistent with DataFrame behavior). To access a value by position, use `ser.iloc[pos]`\n",
      "  full_value = full_payments_value[group[\"order_id\"]][0]\n",
      "C:\\Users\\PW\\AppData\\Local\\Temp\\ipykernel_8168\\3155147829.py:20: FutureWarning: Series.__getitem__ treating keys as positions is deprecated. In a future version, integer keys will always be treated as labels (consistent with DataFrame behavior). To access a value by position, use `ser.iloc[pos]`\n",
      "  full_value = full_payments_value[group[\"order_id\"]][0]\n",
      "C:\\Users\\PW\\AppData\\Local\\Temp\\ipykernel_8168\\3155147829.py:20: FutureWarning: Series.__getitem__ treating keys as positions is deprecated. In a future version, integer keys will always be treated as labels (consistent with DataFrame behavior). To access a value by position, use `ser.iloc[pos]`\n",
      "  full_value = full_payments_value[group[\"order_id\"]][0]\n",
      "C:\\Users\\PW\\AppData\\Local\\Temp\\ipykernel_8168\\3155147829.py:20: FutureWarning: Series.__getitem__ treating keys as positions is deprecated. In a future version, integer keys will always be treated as labels (consistent with DataFrame behavior). To access a value by position, use `ser.iloc[pos]`\n",
      "  full_value = full_payments_value[group[\"order_id\"]][0]\n",
      "C:\\Users\\PW\\AppData\\Local\\Temp\\ipykernel_8168\\3155147829.py:20: FutureWarning: Series.__getitem__ treating keys as positions is deprecated. In a future version, integer keys will always be treated as labels (consistent with DataFrame behavior). To access a value by position, use `ser.iloc[pos]`\n",
      "  full_value = full_payments_value[group[\"order_id\"]][0]\n",
      "C:\\Users\\PW\\AppData\\Local\\Temp\\ipykernel_8168\\3155147829.py:20: FutureWarning: Series.__getitem__ treating keys as positions is deprecated. In a future version, integer keys will always be treated as labels (consistent with DataFrame behavior). To access a value by position, use `ser.iloc[pos]`\n",
      "  full_value = full_payments_value[group[\"order_id\"]][0]\n",
      "C:\\Users\\PW\\AppData\\Local\\Temp\\ipykernel_8168\\3155147829.py:20: FutureWarning: Series.__getitem__ treating keys as positions is deprecated. In a future version, integer keys will always be treated as labels (consistent with DataFrame behavior). To access a value by position, use `ser.iloc[pos]`\n",
      "  full_value = full_payments_value[group[\"order_id\"]][0]\n",
      "C:\\Users\\PW\\AppData\\Local\\Temp\\ipykernel_8168\\3155147829.py:20: FutureWarning: Series.__getitem__ treating keys as positions is deprecated. In a future version, integer keys will always be treated as labels (consistent with DataFrame behavior). To access a value by position, use `ser.iloc[pos]`\n",
      "  full_value = full_payments_value[group[\"order_id\"]][0]\n",
      "C:\\Users\\PW\\AppData\\Local\\Temp\\ipykernel_8168\\3155147829.py:20: FutureWarning: Series.__getitem__ treating keys as positions is deprecated. In a future version, integer keys will always be treated as labels (consistent with DataFrame behavior). To access a value by position, use `ser.iloc[pos]`\n",
      "  full_value = full_payments_value[group[\"order_id\"]][0]\n",
      "C:\\Users\\PW\\AppData\\Local\\Temp\\ipykernel_8168\\3155147829.py:20: FutureWarning: Series.__getitem__ treating keys as positions is deprecated. In a future version, integer keys will always be treated as labels (consistent with DataFrame behavior). To access a value by position, use `ser.iloc[pos]`\n",
      "  full_value = full_payments_value[group[\"order_id\"]][0]\n",
      "C:\\Users\\PW\\AppData\\Local\\Temp\\ipykernel_8168\\3155147829.py:20: FutureWarning: Series.__getitem__ treating keys as positions is deprecated. In a future version, integer keys will always be treated as labels (consistent with DataFrame behavior). To access a value by position, use `ser.iloc[pos]`\n",
      "  full_value = full_payments_value[group[\"order_id\"]][0]\n",
      "C:\\Users\\PW\\AppData\\Local\\Temp\\ipykernel_8168\\3155147829.py:20: FutureWarning: Series.__getitem__ treating keys as positions is deprecated. In a future version, integer keys will always be treated as labels (consistent with DataFrame behavior). To access a value by position, use `ser.iloc[pos]`\n",
      "  full_value = full_payments_value[group[\"order_id\"]][0]\n",
      "C:\\Users\\PW\\AppData\\Local\\Temp\\ipykernel_8168\\3155147829.py:20: FutureWarning: Series.__getitem__ treating keys as positions is deprecated. In a future version, integer keys will always be treated as labels (consistent with DataFrame behavior). To access a value by position, use `ser.iloc[pos]`\n",
      "  full_value = full_payments_value[group[\"order_id\"]][0]\n",
      "C:\\Users\\PW\\AppData\\Local\\Temp\\ipykernel_8168\\3155147829.py:20: FutureWarning: Series.__getitem__ treating keys as positions is deprecated. In a future version, integer keys will always be treated as labels (consistent with DataFrame behavior). To access a value by position, use `ser.iloc[pos]`\n",
      "  full_value = full_payments_value[group[\"order_id\"]][0]\n",
      "C:\\Users\\PW\\AppData\\Local\\Temp\\ipykernel_8168\\3155147829.py:20: FutureWarning: Series.__getitem__ treating keys as positions is deprecated. In a future version, integer keys will always be treated as labels (consistent with DataFrame behavior). To access a value by position, use `ser.iloc[pos]`\n",
      "  full_value = full_payments_value[group[\"order_id\"]][0]\n",
      "C:\\Users\\PW\\AppData\\Local\\Temp\\ipykernel_8168\\3155147829.py:20: FutureWarning: Series.__getitem__ treating keys as positions is deprecated. In a future version, integer keys will always be treated as labels (consistent with DataFrame behavior). To access a value by position, use `ser.iloc[pos]`\n",
      "  full_value = full_payments_value[group[\"order_id\"]][0]\n",
      "C:\\Users\\PW\\AppData\\Local\\Temp\\ipykernel_8168\\3155147829.py:20: FutureWarning: Series.__getitem__ treating keys as positions is deprecated. In a future version, integer keys will always be treated as labels (consistent with DataFrame behavior). To access a value by position, use `ser.iloc[pos]`\n",
      "  full_value = full_payments_value[group[\"order_id\"]][0]\n",
      "C:\\Users\\PW\\AppData\\Local\\Temp\\ipykernel_8168\\3155147829.py:20: FutureWarning: Series.__getitem__ treating keys as positions is deprecated. In a future version, integer keys will always be treated as labels (consistent with DataFrame behavior). To access a value by position, use `ser.iloc[pos]`\n",
      "  full_value = full_payments_value[group[\"order_id\"]][0]\n",
      "C:\\Users\\PW\\AppData\\Local\\Temp\\ipykernel_8168\\3155147829.py:20: FutureWarning: Series.__getitem__ treating keys as positions is deprecated. In a future version, integer keys will always be treated as labels (consistent with DataFrame behavior). To access a value by position, use `ser.iloc[pos]`\n",
      "  full_value = full_payments_value[group[\"order_id\"]][0]\n",
      "C:\\Users\\PW\\AppData\\Local\\Temp\\ipykernel_8168\\3155147829.py:20: FutureWarning: Series.__getitem__ treating keys as positions is deprecated. In a future version, integer keys will always be treated as labels (consistent with DataFrame behavior). To access a value by position, use `ser.iloc[pos]`\n",
      "  full_value = full_payments_value[group[\"order_id\"]][0]\n",
      "C:\\Users\\PW\\AppData\\Local\\Temp\\ipykernel_8168\\3155147829.py:20: FutureWarning: Series.__getitem__ treating keys as positions is deprecated. In a future version, integer keys will always be treated as labels (consistent with DataFrame behavior). To access a value by position, use `ser.iloc[pos]`\n",
      "  full_value = full_payments_value[group[\"order_id\"]][0]\n",
      "C:\\Users\\PW\\AppData\\Local\\Temp\\ipykernel_8168\\3155147829.py:20: FutureWarning: Series.__getitem__ treating keys as positions is deprecated. In a future version, integer keys will always be treated as labels (consistent with DataFrame behavior). To access a value by position, use `ser.iloc[pos]`\n",
      "  full_value = full_payments_value[group[\"order_id\"]][0]\n",
      "C:\\Users\\PW\\AppData\\Local\\Temp\\ipykernel_8168\\3155147829.py:20: FutureWarning: Series.__getitem__ treating keys as positions is deprecated. In a future version, integer keys will always be treated as labels (consistent with DataFrame behavior). To access a value by position, use `ser.iloc[pos]`\n",
      "  full_value = full_payments_value[group[\"order_id\"]][0]\n",
      "C:\\Users\\PW\\AppData\\Local\\Temp\\ipykernel_8168\\3155147829.py:20: FutureWarning: Series.__getitem__ treating keys as positions is deprecated. In a future version, integer keys will always be treated as labels (consistent with DataFrame behavior). To access a value by position, use `ser.iloc[pos]`\n",
      "  full_value = full_payments_value[group[\"order_id\"]][0]\n",
      "C:\\Users\\PW\\AppData\\Local\\Temp\\ipykernel_8168\\3155147829.py:20: FutureWarning: Series.__getitem__ treating keys as positions is deprecated. In a future version, integer keys will always be treated as labels (consistent with DataFrame behavior). To access a value by position, use `ser.iloc[pos]`\n",
      "  full_value = full_payments_value[group[\"order_id\"]][0]\n",
      "C:\\Users\\PW\\AppData\\Local\\Temp\\ipykernel_8168\\3155147829.py:20: FutureWarning: Series.__getitem__ treating keys as positions is deprecated. In a future version, integer keys will always be treated as labels (consistent with DataFrame behavior). To access a value by position, use `ser.iloc[pos]`\n",
      "  full_value = full_payments_value[group[\"order_id\"]][0]\n",
      "C:\\Users\\PW\\AppData\\Local\\Temp\\ipykernel_8168\\3155147829.py:20: FutureWarning: Series.__getitem__ treating keys as positions is deprecated. In a future version, integer keys will always be treated as labels (consistent with DataFrame behavior). To access a value by position, use `ser.iloc[pos]`\n",
      "  full_value = full_payments_value[group[\"order_id\"]][0]\n",
      "C:\\Users\\PW\\AppData\\Local\\Temp\\ipykernel_8168\\3155147829.py:20: FutureWarning: Series.__getitem__ treating keys as positions is deprecated. In a future version, integer keys will always be treated as labels (consistent with DataFrame behavior). To access a value by position, use `ser.iloc[pos]`\n",
      "  full_value = full_payments_value[group[\"order_id\"]][0]\n",
      "C:\\Users\\PW\\AppData\\Local\\Temp\\ipykernel_8168\\3155147829.py:20: FutureWarning: Series.__getitem__ treating keys as positions is deprecated. In a future version, integer keys will always be treated as labels (consistent with DataFrame behavior). To access a value by position, use `ser.iloc[pos]`\n",
      "  full_value = full_payments_value[group[\"order_id\"]][0]\n",
      "C:\\Users\\PW\\AppData\\Local\\Temp\\ipykernel_8168\\3155147829.py:20: FutureWarning: Series.__getitem__ treating keys as positions is deprecated. In a future version, integer keys will always be treated as labels (consistent with DataFrame behavior). To access a value by position, use `ser.iloc[pos]`\n",
      "  full_value = full_payments_value[group[\"order_id\"]][0]\n",
      "C:\\Users\\PW\\AppData\\Local\\Temp\\ipykernel_8168\\3155147829.py:20: FutureWarning: Series.__getitem__ treating keys as positions is deprecated. In a future version, integer keys will always be treated as labels (consistent with DataFrame behavior). To access a value by position, use `ser.iloc[pos]`\n",
      "  full_value = full_payments_value[group[\"order_id\"]][0]\n",
      "C:\\Users\\PW\\AppData\\Local\\Temp\\ipykernel_8168\\3155147829.py:20: FutureWarning: Series.__getitem__ treating keys as positions is deprecated. In a future version, integer keys will always be treated as labels (consistent with DataFrame behavior). To access a value by position, use `ser.iloc[pos]`\n",
      "  full_value = full_payments_value[group[\"order_id\"]][0]\n",
      "C:\\Users\\PW\\AppData\\Local\\Temp\\ipykernel_8168\\3155147829.py:20: FutureWarning: Series.__getitem__ treating keys as positions is deprecated. In a future version, integer keys will always be treated as labels (consistent with DataFrame behavior). To access a value by position, use `ser.iloc[pos]`\n",
      "  full_value = full_payments_value[group[\"order_id\"]][0]\n",
      "C:\\Users\\PW\\AppData\\Local\\Temp\\ipykernel_8168\\3155147829.py:20: FutureWarning: Series.__getitem__ treating keys as positions is deprecated. In a future version, integer keys will always be treated as labels (consistent with DataFrame behavior). To access a value by position, use `ser.iloc[pos]`\n",
      "  full_value = full_payments_value[group[\"order_id\"]][0]\n",
      "C:\\Users\\PW\\AppData\\Local\\Temp\\ipykernel_8168\\3155147829.py:20: FutureWarning: Series.__getitem__ treating keys as positions is deprecated. In a future version, integer keys will always be treated as labels (consistent with DataFrame behavior). To access a value by position, use `ser.iloc[pos]`\n",
      "  full_value = full_payments_value[group[\"order_id\"]][0]\n",
      "C:\\Users\\PW\\AppData\\Local\\Temp\\ipykernel_8168\\3155147829.py:20: FutureWarning: Series.__getitem__ treating keys as positions is deprecated. In a future version, integer keys will always be treated as labels (consistent with DataFrame behavior). To access a value by position, use `ser.iloc[pos]`\n",
      "  full_value = full_payments_value[group[\"order_id\"]][0]\n",
      "C:\\Users\\PW\\AppData\\Local\\Temp\\ipykernel_8168\\3155147829.py:20: FutureWarning: Series.__getitem__ treating keys as positions is deprecated. In a future version, integer keys will always be treated as labels (consistent with DataFrame behavior). To access a value by position, use `ser.iloc[pos]`\n",
      "  full_value = full_payments_value[group[\"order_id\"]][0]\n",
      "C:\\Users\\PW\\AppData\\Local\\Temp\\ipykernel_8168\\3155147829.py:20: FutureWarning: Series.__getitem__ treating keys as positions is deprecated. In a future version, integer keys will always be treated as labels (consistent with DataFrame behavior). To access a value by position, use `ser.iloc[pos]`\n",
      "  full_value = full_payments_value[group[\"order_id\"]][0]\n",
      "C:\\Users\\PW\\AppData\\Local\\Temp\\ipykernel_8168\\3155147829.py:20: FutureWarning: Series.__getitem__ treating keys as positions is deprecated. In a future version, integer keys will always be treated as labels (consistent with DataFrame behavior). To access a value by position, use `ser.iloc[pos]`\n",
      "  full_value = full_payments_value[group[\"order_id\"]][0]\n",
      "C:\\Users\\PW\\AppData\\Local\\Temp\\ipykernel_8168\\3155147829.py:20: FutureWarning: Series.__getitem__ treating keys as positions is deprecated. In a future version, integer keys will always be treated as labels (consistent with DataFrame behavior). To access a value by position, use `ser.iloc[pos]`\n",
      "  full_value = full_payments_value[group[\"order_id\"]][0]\n",
      "C:\\Users\\PW\\AppData\\Local\\Temp\\ipykernel_8168\\3155147829.py:20: FutureWarning: Series.__getitem__ treating keys as positions is deprecated. In a future version, integer keys will always be treated as labels (consistent with DataFrame behavior). To access a value by position, use `ser.iloc[pos]`\n",
      "  full_value = full_payments_value[group[\"order_id\"]][0]\n",
      "C:\\Users\\PW\\AppData\\Local\\Temp\\ipykernel_8168\\3155147829.py:20: FutureWarning: Series.__getitem__ treating keys as positions is deprecated. In a future version, integer keys will always be treated as labels (consistent with DataFrame behavior). To access a value by position, use `ser.iloc[pos]`\n",
      "  full_value = full_payments_value[group[\"order_id\"]][0]\n",
      "C:\\Users\\PW\\AppData\\Local\\Temp\\ipykernel_8168\\3155147829.py:20: FutureWarning: Series.__getitem__ treating keys as positions is deprecated. In a future version, integer keys will always be treated as labels (consistent with DataFrame behavior). To access a value by position, use `ser.iloc[pos]`\n",
      "  full_value = full_payments_value[group[\"order_id\"]][0]\n",
      "C:\\Users\\PW\\AppData\\Local\\Temp\\ipykernel_8168\\3155147829.py:20: FutureWarning: Series.__getitem__ treating keys as positions is deprecated. In a future version, integer keys will always be treated as labels (consistent with DataFrame behavior). To access a value by position, use `ser.iloc[pos]`\n",
      "  full_value = full_payments_value[group[\"order_id\"]][0]\n",
      "C:\\Users\\PW\\AppData\\Local\\Temp\\ipykernel_8168\\3155147829.py:20: FutureWarning: Series.__getitem__ treating keys as positions is deprecated. In a future version, integer keys will always be treated as labels (consistent with DataFrame behavior). To access a value by position, use `ser.iloc[pos]`\n",
      "  full_value = full_payments_value[group[\"order_id\"]][0]\n",
      "C:\\Users\\PW\\AppData\\Local\\Temp\\ipykernel_8168\\3155147829.py:20: FutureWarning: Series.__getitem__ treating keys as positions is deprecated. In a future version, integer keys will always be treated as labels (consistent with DataFrame behavior). To access a value by position, use `ser.iloc[pos]`\n",
      "  full_value = full_payments_value[group[\"order_id\"]][0]\n",
      "C:\\Users\\PW\\AppData\\Local\\Temp\\ipykernel_8168\\3155147829.py:20: FutureWarning: Series.__getitem__ treating keys as positions is deprecated. In a future version, integer keys will always be treated as labels (consistent with DataFrame behavior). To access a value by position, use `ser.iloc[pos]`\n",
      "  full_value = full_payments_value[group[\"order_id\"]][0]\n",
      "C:\\Users\\PW\\AppData\\Local\\Temp\\ipykernel_8168\\3155147829.py:20: FutureWarning: Series.__getitem__ treating keys as positions is deprecated. In a future version, integer keys will always be treated as labels (consistent with DataFrame behavior). To access a value by position, use `ser.iloc[pos]`\n",
      "  full_value = full_payments_value[group[\"order_id\"]][0]\n",
      "C:\\Users\\PW\\AppData\\Local\\Temp\\ipykernel_8168\\3155147829.py:20: FutureWarning: Series.__getitem__ treating keys as positions is deprecated. In a future version, integer keys will always be treated as labels (consistent with DataFrame behavior). To access a value by position, use `ser.iloc[pos]`\n",
      "  full_value = full_payments_value[group[\"order_id\"]][0]\n",
      "C:\\Users\\PW\\AppData\\Local\\Temp\\ipykernel_8168\\3155147829.py:20: FutureWarning: Series.__getitem__ treating keys as positions is deprecated. In a future version, integer keys will always be treated as labels (consistent with DataFrame behavior). To access a value by position, use `ser.iloc[pos]`\n",
      "  full_value = full_payments_value[group[\"order_id\"]][0]\n",
      "C:\\Users\\PW\\AppData\\Local\\Temp\\ipykernel_8168\\3155147829.py:20: FutureWarning: Series.__getitem__ treating keys as positions is deprecated. In a future version, integer keys will always be treated as labels (consistent with DataFrame behavior). To access a value by position, use `ser.iloc[pos]`\n",
      "  full_value = full_payments_value[group[\"order_id\"]][0]\n",
      "C:\\Users\\PW\\AppData\\Local\\Temp\\ipykernel_8168\\3155147829.py:20: FutureWarning: Series.__getitem__ treating keys as positions is deprecated. In a future version, integer keys will always be treated as labels (consistent with DataFrame behavior). To access a value by position, use `ser.iloc[pos]`\n",
      "  full_value = full_payments_value[group[\"order_id\"]][0]\n",
      "C:\\Users\\PW\\AppData\\Local\\Temp\\ipykernel_8168\\3155147829.py:20: FutureWarning: Series.__getitem__ treating keys as positions is deprecated. In a future version, integer keys will always be treated as labels (consistent with DataFrame behavior). To access a value by position, use `ser.iloc[pos]`\n",
      "  full_value = full_payments_value[group[\"order_id\"]][0]\n",
      "C:\\Users\\PW\\AppData\\Local\\Temp\\ipykernel_8168\\3155147829.py:20: FutureWarning: Series.__getitem__ treating keys as positions is deprecated. In a future version, integer keys will always be treated as labels (consistent with DataFrame behavior). To access a value by position, use `ser.iloc[pos]`\n",
      "  full_value = full_payments_value[group[\"order_id\"]][0]\n",
      "C:\\Users\\PW\\AppData\\Local\\Temp\\ipykernel_8168\\3155147829.py:20: FutureWarning: Series.__getitem__ treating keys as positions is deprecated. In a future version, integer keys will always be treated as labels (consistent with DataFrame behavior). To access a value by position, use `ser.iloc[pos]`\n",
      "  full_value = full_payments_value[group[\"order_id\"]][0]\n",
      "C:\\Users\\PW\\AppData\\Local\\Temp\\ipykernel_8168\\3155147829.py:20: FutureWarning: Series.__getitem__ treating keys as positions is deprecated. In a future version, integer keys will always be treated as labels (consistent with DataFrame behavior). To access a value by position, use `ser.iloc[pos]`\n",
      "  full_value = full_payments_value[group[\"order_id\"]][0]\n",
      "C:\\Users\\PW\\AppData\\Local\\Temp\\ipykernel_8168\\3155147829.py:20: FutureWarning: Series.__getitem__ treating keys as positions is deprecated. In a future version, integer keys will always be treated as labels (consistent with DataFrame behavior). To access a value by position, use `ser.iloc[pos]`\n",
      "  full_value = full_payments_value[group[\"order_id\"]][0]\n",
      "C:\\Users\\PW\\AppData\\Local\\Temp\\ipykernel_8168\\3155147829.py:20: FutureWarning: Series.__getitem__ treating keys as positions is deprecated. In a future version, integer keys will always be treated as labels (consistent with DataFrame behavior). To access a value by position, use `ser.iloc[pos]`\n",
      "  full_value = full_payments_value[group[\"order_id\"]][0]\n",
      "C:\\Users\\PW\\AppData\\Local\\Temp\\ipykernel_8168\\3155147829.py:20: FutureWarning: Series.__getitem__ treating keys as positions is deprecated. In a future version, integer keys will always be treated as labels (consistent with DataFrame behavior). To access a value by position, use `ser.iloc[pos]`\n",
      "  full_value = full_payments_value[group[\"order_id\"]][0]\n",
      "C:\\Users\\PW\\AppData\\Local\\Temp\\ipykernel_8168\\3155147829.py:20: FutureWarning: Series.__getitem__ treating keys as positions is deprecated. In a future version, integer keys will always be treated as labels (consistent with DataFrame behavior). To access a value by position, use `ser.iloc[pos]`\n",
      "  full_value = full_payments_value[group[\"order_id\"]][0]\n",
      "C:\\Users\\PW\\AppData\\Local\\Temp\\ipykernel_8168\\3155147829.py:20: FutureWarning: Series.__getitem__ treating keys as positions is deprecated. In a future version, integer keys will always be treated as labels (consistent with DataFrame behavior). To access a value by position, use `ser.iloc[pos]`\n",
      "  full_value = full_payments_value[group[\"order_id\"]][0]\n",
      "C:\\Users\\PW\\AppData\\Local\\Temp\\ipykernel_8168\\3155147829.py:20: FutureWarning: Series.__getitem__ treating keys as positions is deprecated. In a future version, integer keys will always be treated as labels (consistent with DataFrame behavior). To access a value by position, use `ser.iloc[pos]`\n",
      "  full_value = full_payments_value[group[\"order_id\"]][0]\n",
      "C:\\Users\\PW\\AppData\\Local\\Temp\\ipykernel_8168\\3155147829.py:20: FutureWarning: Series.__getitem__ treating keys as positions is deprecated. In a future version, integer keys will always be treated as labels (consistent with DataFrame behavior). To access a value by position, use `ser.iloc[pos]`\n",
      "  full_value = full_payments_value[group[\"order_id\"]][0]\n",
      "C:\\Users\\PW\\AppData\\Local\\Temp\\ipykernel_8168\\3155147829.py:20: FutureWarning: Series.__getitem__ treating keys as positions is deprecated. In a future version, integer keys will always be treated as labels (consistent with DataFrame behavior). To access a value by position, use `ser.iloc[pos]`\n",
      "  full_value = full_payments_value[group[\"order_id\"]][0]\n",
      "C:\\Users\\PW\\AppData\\Local\\Temp\\ipykernel_8168\\3155147829.py:20: FutureWarning: Series.__getitem__ treating keys as positions is deprecated. In a future version, integer keys will always be treated as labels (consistent with DataFrame behavior). To access a value by position, use `ser.iloc[pos]`\n",
      "  full_value = full_payments_value[group[\"order_id\"]][0]\n",
      "C:\\Users\\PW\\AppData\\Local\\Temp\\ipykernel_8168\\3155147829.py:20: FutureWarning: Series.__getitem__ treating keys as positions is deprecated. In a future version, integer keys will always be treated as labels (consistent with DataFrame behavior). To access a value by position, use `ser.iloc[pos]`\n",
      "  full_value = full_payments_value[group[\"order_id\"]][0]\n",
      "C:\\Users\\PW\\AppData\\Local\\Temp\\ipykernel_8168\\3155147829.py:20: FutureWarning: Series.__getitem__ treating keys as positions is deprecated. In a future version, integer keys will always be treated as labels (consistent with DataFrame behavior). To access a value by position, use `ser.iloc[pos]`\n",
      "  full_value = full_payments_value[group[\"order_id\"]][0]\n",
      "C:\\Users\\PW\\AppData\\Local\\Temp\\ipykernel_8168\\3155147829.py:20: FutureWarning: Series.__getitem__ treating keys as positions is deprecated. In a future version, integer keys will always be treated as labels (consistent with DataFrame behavior). To access a value by position, use `ser.iloc[pos]`\n",
      "  full_value = full_payments_value[group[\"order_id\"]][0]\n",
      "C:\\Users\\PW\\AppData\\Local\\Temp\\ipykernel_8168\\3155147829.py:20: FutureWarning: Series.__getitem__ treating keys as positions is deprecated. In a future version, integer keys will always be treated as labels (consistent with DataFrame behavior). To access a value by position, use `ser.iloc[pos]`\n",
      "  full_value = full_payments_value[group[\"order_id\"]][0]\n",
      "C:\\Users\\PW\\AppData\\Local\\Temp\\ipykernel_8168\\3155147829.py:20: FutureWarning: Series.__getitem__ treating keys as positions is deprecated. In a future version, integer keys will always be treated as labels (consistent with DataFrame behavior). To access a value by position, use `ser.iloc[pos]`\n",
      "  full_value = full_payments_value[group[\"order_id\"]][0]\n",
      "C:\\Users\\PW\\AppData\\Local\\Temp\\ipykernel_8168\\3155147829.py:20: FutureWarning: Series.__getitem__ treating keys as positions is deprecated. In a future version, integer keys will always be treated as labels (consistent with DataFrame behavior). To access a value by position, use `ser.iloc[pos]`\n",
      "  full_value = full_payments_value[group[\"order_id\"]][0]\n",
      "C:\\Users\\PW\\AppData\\Local\\Temp\\ipykernel_8168\\3155147829.py:20: FutureWarning: Series.__getitem__ treating keys as positions is deprecated. In a future version, integer keys will always be treated as labels (consistent with DataFrame behavior). To access a value by position, use `ser.iloc[pos]`\n",
      "  full_value = full_payments_value[group[\"order_id\"]][0]\n",
      "C:\\Users\\PW\\AppData\\Local\\Temp\\ipykernel_8168\\3155147829.py:20: FutureWarning: Series.__getitem__ treating keys as positions is deprecated. In a future version, integer keys will always be treated as labels (consistent with DataFrame behavior). To access a value by position, use `ser.iloc[pos]`\n",
      "  full_value = full_payments_value[group[\"order_id\"]][0]\n",
      "C:\\Users\\PW\\AppData\\Local\\Temp\\ipykernel_8168\\3155147829.py:20: FutureWarning: Series.__getitem__ treating keys as positions is deprecated. In a future version, integer keys will always be treated as labels (consistent with DataFrame behavior). To access a value by position, use `ser.iloc[pos]`\n",
      "  full_value = full_payments_value[group[\"order_id\"]][0]\n",
      "C:\\Users\\PW\\AppData\\Local\\Temp\\ipykernel_8168\\3155147829.py:20: FutureWarning: Series.__getitem__ treating keys as positions is deprecated. In a future version, integer keys will always be treated as labels (consistent with DataFrame behavior). To access a value by position, use `ser.iloc[pos]`\n",
      "  full_value = full_payments_value[group[\"order_id\"]][0]\n",
      "C:\\Users\\PW\\AppData\\Local\\Temp\\ipykernel_8168\\3155147829.py:20: FutureWarning: Series.__getitem__ treating keys as positions is deprecated. In a future version, integer keys will always be treated as labels (consistent with DataFrame behavior). To access a value by position, use `ser.iloc[pos]`\n",
      "  full_value = full_payments_value[group[\"order_id\"]][0]\n",
      "C:\\Users\\PW\\AppData\\Local\\Temp\\ipykernel_8168\\3155147829.py:20: FutureWarning: Series.__getitem__ treating keys as positions is deprecated. In a future version, integer keys will always be treated as labels (consistent with DataFrame behavior). To access a value by position, use `ser.iloc[pos]`\n",
      "  full_value = full_payments_value[group[\"order_id\"]][0]\n",
      "C:\\Users\\PW\\AppData\\Local\\Temp\\ipykernel_8168\\3155147829.py:20: FutureWarning: Series.__getitem__ treating keys as positions is deprecated. In a future version, integer keys will always be treated as labels (consistent with DataFrame behavior). To access a value by position, use `ser.iloc[pos]`\n",
      "  full_value = full_payments_value[group[\"order_id\"]][0]\n",
      "C:\\Users\\PW\\AppData\\Local\\Temp\\ipykernel_8168\\3155147829.py:20: FutureWarning: Series.__getitem__ treating keys as positions is deprecated. In a future version, integer keys will always be treated as labels (consistent with DataFrame behavior). To access a value by position, use `ser.iloc[pos]`\n",
      "  full_value = full_payments_value[group[\"order_id\"]][0]\n",
      "C:\\Users\\PW\\AppData\\Local\\Temp\\ipykernel_8168\\3155147829.py:20: FutureWarning: Series.__getitem__ treating keys as positions is deprecated. In a future version, integer keys will always be treated as labels (consistent with DataFrame behavior). To access a value by position, use `ser.iloc[pos]`\n",
      "  full_value = full_payments_value[group[\"order_id\"]][0]\n",
      "C:\\Users\\PW\\AppData\\Local\\Temp\\ipykernel_8168\\3155147829.py:20: FutureWarning: Series.__getitem__ treating keys as positions is deprecated. In a future version, integer keys will always be treated as labels (consistent with DataFrame behavior). To access a value by position, use `ser.iloc[pos]`\n",
      "  full_value = full_payments_value[group[\"order_id\"]][0]\n",
      "C:\\Users\\PW\\AppData\\Local\\Temp\\ipykernel_8168\\3155147829.py:20: FutureWarning: Series.__getitem__ treating keys as positions is deprecated. In a future version, integer keys will always be treated as labels (consistent with DataFrame behavior). To access a value by position, use `ser.iloc[pos]`\n",
      "  full_value = full_payments_value[group[\"order_id\"]][0]\n",
      "C:\\Users\\PW\\AppData\\Local\\Temp\\ipykernel_8168\\3155147829.py:20: FutureWarning: Series.__getitem__ treating keys as positions is deprecated. In a future version, integer keys will always be treated as labels (consistent with DataFrame behavior). To access a value by position, use `ser.iloc[pos]`\n",
      "  full_value = full_payments_value[group[\"order_id\"]][0]\n",
      "C:\\Users\\PW\\AppData\\Local\\Temp\\ipykernel_8168\\3155147829.py:20: FutureWarning: Series.__getitem__ treating keys as positions is deprecated. In a future version, integer keys will always be treated as labels (consistent with DataFrame behavior). To access a value by position, use `ser.iloc[pos]`\n",
      "  full_value = full_payments_value[group[\"order_id\"]][0]\n",
      "C:\\Users\\PW\\AppData\\Local\\Temp\\ipykernel_8168\\3155147829.py:20: FutureWarning: Series.__getitem__ treating keys as positions is deprecated. In a future version, integer keys will always be treated as labels (consistent with DataFrame behavior). To access a value by position, use `ser.iloc[pos]`\n",
      "  full_value = full_payments_value[group[\"order_id\"]][0]\n",
      "C:\\Users\\PW\\AppData\\Local\\Temp\\ipykernel_8168\\3155147829.py:20: FutureWarning: Series.__getitem__ treating keys as positions is deprecated. In a future version, integer keys will always be treated as labels (consistent with DataFrame behavior). To access a value by position, use `ser.iloc[pos]`\n",
      "  full_value = full_payments_value[group[\"order_id\"]][0]\n",
      "C:\\Users\\PW\\AppData\\Local\\Temp\\ipykernel_8168\\3155147829.py:20: FutureWarning: Series.__getitem__ treating keys as positions is deprecated. In a future version, integer keys will always be treated as labels (consistent with DataFrame behavior). To access a value by position, use `ser.iloc[pos]`\n",
      "  full_value = full_payments_value[group[\"order_id\"]][0]\n",
      "C:\\Users\\PW\\AppData\\Local\\Temp\\ipykernel_8168\\3155147829.py:20: FutureWarning: Series.__getitem__ treating keys as positions is deprecated. In a future version, integer keys will always be treated as labels (consistent with DataFrame behavior). To access a value by position, use `ser.iloc[pos]`\n",
      "  full_value = full_payments_value[group[\"order_id\"]][0]\n",
      "C:\\Users\\PW\\AppData\\Local\\Temp\\ipykernel_8168\\3155147829.py:20: FutureWarning: Series.__getitem__ treating keys as positions is deprecated. In a future version, integer keys will always be treated as labels (consistent with DataFrame behavior). To access a value by position, use `ser.iloc[pos]`\n",
      "  full_value = full_payments_value[group[\"order_id\"]][0]\n",
      "C:\\Users\\PW\\AppData\\Local\\Temp\\ipykernel_8168\\3155147829.py:20: FutureWarning: Series.__getitem__ treating keys as positions is deprecated. In a future version, integer keys will always be treated as labels (consistent with DataFrame behavior). To access a value by position, use `ser.iloc[pos]`\n",
      "  full_value = full_payments_value[group[\"order_id\"]][0]\n",
      "C:\\Users\\PW\\AppData\\Local\\Temp\\ipykernel_8168\\3155147829.py:20: FutureWarning: Series.__getitem__ treating keys as positions is deprecated. In a future version, integer keys will always be treated as labels (consistent with DataFrame behavior). To access a value by position, use `ser.iloc[pos]`\n",
      "  full_value = full_payments_value[group[\"order_id\"]][0]\n",
      "C:\\Users\\PW\\AppData\\Local\\Temp\\ipykernel_8168\\3155147829.py:20: FutureWarning: Series.__getitem__ treating keys as positions is deprecated. In a future version, integer keys will always be treated as labels (consistent with DataFrame behavior). To access a value by position, use `ser.iloc[pos]`\n",
      "  full_value = full_payments_value[group[\"order_id\"]][0]\n",
      "C:\\Users\\PW\\AppData\\Local\\Temp\\ipykernel_8168\\3155147829.py:20: FutureWarning: Series.__getitem__ treating keys as positions is deprecated. In a future version, integer keys will always be treated as labels (consistent with DataFrame behavior). To access a value by position, use `ser.iloc[pos]`\n",
      "  full_value = full_payments_value[group[\"order_id\"]][0]\n",
      "C:\\Users\\PW\\AppData\\Local\\Temp\\ipykernel_8168\\3155147829.py:20: FutureWarning: Series.__getitem__ treating keys as positions is deprecated. In a future version, integer keys will always be treated as labels (consistent with DataFrame behavior). To access a value by position, use `ser.iloc[pos]`\n",
      "  full_value = full_payments_value[group[\"order_id\"]][0]\n",
      "C:\\Users\\PW\\AppData\\Local\\Temp\\ipykernel_8168\\3155147829.py:20: FutureWarning: Series.__getitem__ treating keys as positions is deprecated. In a future version, integer keys will always be treated as labels (consistent with DataFrame behavior). To access a value by position, use `ser.iloc[pos]`\n",
      "  full_value = full_payments_value[group[\"order_id\"]][0]\n",
      "C:\\Users\\PW\\AppData\\Local\\Temp\\ipykernel_8168\\3155147829.py:20: FutureWarning: Series.__getitem__ treating keys as positions is deprecated. In a future version, integer keys will always be treated as labels (consistent with DataFrame behavior). To access a value by position, use `ser.iloc[pos]`\n",
      "  full_value = full_payments_value[group[\"order_id\"]][0]\n",
      "C:\\Users\\PW\\AppData\\Local\\Temp\\ipykernel_8168\\3155147829.py:20: FutureWarning: Series.__getitem__ treating keys as positions is deprecated. In a future version, integer keys will always be treated as labels (consistent with DataFrame behavior). To access a value by position, use `ser.iloc[pos]`\n",
      "  full_value = full_payments_value[group[\"order_id\"]][0]\n",
      "C:\\Users\\PW\\AppData\\Local\\Temp\\ipykernel_8168\\3155147829.py:20: FutureWarning: Series.__getitem__ treating keys as positions is deprecated. In a future version, integer keys will always be treated as labels (consistent with DataFrame behavior). To access a value by position, use `ser.iloc[pos]`\n",
      "  full_value = full_payments_value[group[\"order_id\"]][0]\n",
      "C:\\Users\\PW\\AppData\\Local\\Temp\\ipykernel_8168\\3155147829.py:20: FutureWarning: Series.__getitem__ treating keys as positions is deprecated. In a future version, integer keys will always be treated as labels (consistent with DataFrame behavior). To access a value by position, use `ser.iloc[pos]`\n",
      "  full_value = full_payments_value[group[\"order_id\"]][0]\n",
      "C:\\Users\\PW\\AppData\\Local\\Temp\\ipykernel_8168\\3155147829.py:20: FutureWarning: Series.__getitem__ treating keys as positions is deprecated. In a future version, integer keys will always be treated as labels (consistent with DataFrame behavior). To access a value by position, use `ser.iloc[pos]`\n",
      "  full_value = full_payments_value[group[\"order_id\"]][0]\n",
      "C:\\Users\\PW\\AppData\\Local\\Temp\\ipykernel_8168\\3155147829.py:20: FutureWarning: Series.__getitem__ treating keys as positions is deprecated. In a future version, integer keys will always be treated as labels (consistent with DataFrame behavior). To access a value by position, use `ser.iloc[pos]`\n",
      "  full_value = full_payments_value[group[\"order_id\"]][0]\n",
      "C:\\Users\\PW\\AppData\\Local\\Temp\\ipykernel_8168\\3155147829.py:20: FutureWarning: Series.__getitem__ treating keys as positions is deprecated. In a future version, integer keys will always be treated as labels (consistent with DataFrame behavior). To access a value by position, use `ser.iloc[pos]`\n",
      "  full_value = full_payments_value[group[\"order_id\"]][0]\n",
      "C:\\Users\\PW\\AppData\\Local\\Temp\\ipykernel_8168\\3155147829.py:20: FutureWarning: Series.__getitem__ treating keys as positions is deprecated. In a future version, integer keys will always be treated as labels (consistent with DataFrame behavior). To access a value by position, use `ser.iloc[pos]`\n",
      "  full_value = full_payments_value[group[\"order_id\"]][0]\n",
      "C:\\Users\\PW\\AppData\\Local\\Temp\\ipykernel_8168\\3155147829.py:20: FutureWarning: Series.__getitem__ treating keys as positions is deprecated. In a future version, integer keys will always be treated as labels (consistent with DataFrame behavior). To access a value by position, use `ser.iloc[pos]`\n",
      "  full_value = full_payments_value[group[\"order_id\"]][0]\n",
      "C:\\Users\\PW\\AppData\\Local\\Temp\\ipykernel_8168\\3155147829.py:20: FutureWarning: Series.__getitem__ treating keys as positions is deprecated. In a future version, integer keys will always be treated as labels (consistent with DataFrame behavior). To access a value by position, use `ser.iloc[pos]`\n",
      "  full_value = full_payments_value[group[\"order_id\"]][0]\n",
      "C:\\Users\\PW\\AppData\\Local\\Temp\\ipykernel_8168\\3155147829.py:20: FutureWarning: Series.__getitem__ treating keys as positions is deprecated. In a future version, integer keys will always be treated as labels (consistent with DataFrame behavior). To access a value by position, use `ser.iloc[pos]`\n",
      "  full_value = full_payments_value[group[\"order_id\"]][0]\n",
      "C:\\Users\\PW\\AppData\\Local\\Temp\\ipykernel_8168\\3155147829.py:20: FutureWarning: Series.__getitem__ treating keys as positions is deprecated. In a future version, integer keys will always be treated as labels (consistent with DataFrame behavior). To access a value by position, use `ser.iloc[pos]`\n",
      "  full_value = full_payments_value[group[\"order_id\"]][0]\n",
      "C:\\Users\\PW\\AppData\\Local\\Temp\\ipykernel_8168\\3155147829.py:20: FutureWarning: Series.__getitem__ treating keys as positions is deprecated. In a future version, integer keys will always be treated as labels (consistent with DataFrame behavior). To access a value by position, use `ser.iloc[pos]`\n",
      "  full_value = full_payments_value[group[\"order_id\"]][0]\n",
      "C:\\Users\\PW\\AppData\\Local\\Temp\\ipykernel_8168\\3155147829.py:20: FutureWarning: Series.__getitem__ treating keys as positions is deprecated. In a future version, integer keys will always be treated as labels (consistent with DataFrame behavior). To access a value by position, use `ser.iloc[pos]`\n",
      "  full_value = full_payments_value[group[\"order_id\"]][0]\n",
      "C:\\Users\\PW\\AppData\\Local\\Temp\\ipykernel_8168\\3155147829.py:20: FutureWarning: Series.__getitem__ treating keys as positions is deprecated. In a future version, integer keys will always be treated as labels (consistent with DataFrame behavior). To access a value by position, use `ser.iloc[pos]`\n",
      "  full_value = full_payments_value[group[\"order_id\"]][0]\n",
      "C:\\Users\\PW\\AppData\\Local\\Temp\\ipykernel_8168\\3155147829.py:20: FutureWarning: Series.__getitem__ treating keys as positions is deprecated. In a future version, integer keys will always be treated as labels (consistent with DataFrame behavior). To access a value by position, use `ser.iloc[pos]`\n",
      "  full_value = full_payments_value[group[\"order_id\"]][0]\n",
      "C:\\Users\\PW\\AppData\\Local\\Temp\\ipykernel_8168\\3155147829.py:20: FutureWarning: Series.__getitem__ treating keys as positions is deprecated. In a future version, integer keys will always be treated as labels (consistent with DataFrame behavior). To access a value by position, use `ser.iloc[pos]`\n",
      "  full_value = full_payments_value[group[\"order_id\"]][0]\n",
      "C:\\Users\\PW\\AppData\\Local\\Temp\\ipykernel_8168\\3155147829.py:20: FutureWarning: Series.__getitem__ treating keys as positions is deprecated. In a future version, integer keys will always be treated as labels (consistent with DataFrame behavior). To access a value by position, use `ser.iloc[pos]`\n",
      "  full_value = full_payments_value[group[\"order_id\"]][0]\n",
      "C:\\Users\\PW\\AppData\\Local\\Temp\\ipykernel_8168\\3155147829.py:20: FutureWarning: Series.__getitem__ treating keys as positions is deprecated. In a future version, integer keys will always be treated as labels (consistent with DataFrame behavior). To access a value by position, use `ser.iloc[pos]`\n",
      "  full_value = full_payments_value[group[\"order_id\"]][0]\n",
      "C:\\Users\\PW\\AppData\\Local\\Temp\\ipykernel_8168\\3155147829.py:20: FutureWarning: Series.__getitem__ treating keys as positions is deprecated. In a future version, integer keys will always be treated as labels (consistent with DataFrame behavior). To access a value by position, use `ser.iloc[pos]`\n",
      "  full_value = full_payments_value[group[\"order_id\"]][0]\n",
      "C:\\Users\\PW\\AppData\\Local\\Temp\\ipykernel_8168\\3155147829.py:20: FutureWarning: Series.__getitem__ treating keys as positions is deprecated. In a future version, integer keys will always be treated as labels (consistent with DataFrame behavior). To access a value by position, use `ser.iloc[pos]`\n",
      "  full_value = full_payments_value[group[\"order_id\"]][0]\n",
      "C:\\Users\\PW\\AppData\\Local\\Temp\\ipykernel_8168\\3155147829.py:20: FutureWarning: Series.__getitem__ treating keys as positions is deprecated. In a future version, integer keys will always be treated as labels (consistent with DataFrame behavior). To access a value by position, use `ser.iloc[pos]`\n",
      "  full_value = full_payments_value[group[\"order_id\"]][0]\n",
      "C:\\Users\\PW\\AppData\\Local\\Temp\\ipykernel_8168\\3155147829.py:20: FutureWarning: Series.__getitem__ treating keys as positions is deprecated. In a future version, integer keys will always be treated as labels (consistent with DataFrame behavior). To access a value by position, use `ser.iloc[pos]`\n",
      "  full_value = full_payments_value[group[\"order_id\"]][0]\n",
      "C:\\Users\\PW\\AppData\\Local\\Temp\\ipykernel_8168\\3155147829.py:20: FutureWarning: Series.__getitem__ treating keys as positions is deprecated. In a future version, integer keys will always be treated as labels (consistent with DataFrame behavior). To access a value by position, use `ser.iloc[pos]`\n",
      "  full_value = full_payments_value[group[\"order_id\"]][0]\n",
      "C:\\Users\\PW\\AppData\\Local\\Temp\\ipykernel_8168\\3155147829.py:20: FutureWarning: Series.__getitem__ treating keys as positions is deprecated. In a future version, integer keys will always be treated as labels (consistent with DataFrame behavior). To access a value by position, use `ser.iloc[pos]`\n",
      "  full_value = full_payments_value[group[\"order_id\"]][0]\n",
      "C:\\Users\\PW\\AppData\\Local\\Temp\\ipykernel_8168\\3155147829.py:20: FutureWarning: Series.__getitem__ treating keys as positions is deprecated. In a future version, integer keys will always be treated as labels (consistent with DataFrame behavior). To access a value by position, use `ser.iloc[pos]`\n",
      "  full_value = full_payments_value[group[\"order_id\"]][0]\n",
      "C:\\Users\\PW\\AppData\\Local\\Temp\\ipykernel_8168\\3155147829.py:20: FutureWarning: Series.__getitem__ treating keys as positions is deprecated. In a future version, integer keys will always be treated as labels (consistent with DataFrame behavior). To access a value by position, use `ser.iloc[pos]`\n",
      "  full_value = full_payments_value[group[\"order_id\"]][0]\n",
      "C:\\Users\\PW\\AppData\\Local\\Temp\\ipykernel_8168\\3155147829.py:20: FutureWarning: Series.__getitem__ treating keys as positions is deprecated. In a future version, integer keys will always be treated as labels (consistent with DataFrame behavior). To access a value by position, use `ser.iloc[pos]`\n",
      "  full_value = full_payments_value[group[\"order_id\"]][0]\n",
      "C:\\Users\\PW\\AppData\\Local\\Temp\\ipykernel_8168\\3155147829.py:20: FutureWarning: Series.__getitem__ treating keys as positions is deprecated. In a future version, integer keys will always be treated as labels (consistent with DataFrame behavior). To access a value by position, use `ser.iloc[pos]`\n",
      "  full_value = full_payments_value[group[\"order_id\"]][0]\n",
      "C:\\Users\\PW\\AppData\\Local\\Temp\\ipykernel_8168\\3155147829.py:20: FutureWarning: Series.__getitem__ treating keys as positions is deprecated. In a future version, integer keys will always be treated as labels (consistent with DataFrame behavior). To access a value by position, use `ser.iloc[pos]`\n",
      "  full_value = full_payments_value[group[\"order_id\"]][0]\n",
      "C:\\Users\\PW\\AppData\\Local\\Temp\\ipykernel_8168\\3155147829.py:20: FutureWarning: Series.__getitem__ treating keys as positions is deprecated. In a future version, integer keys will always be treated as labels (consistent with DataFrame behavior). To access a value by position, use `ser.iloc[pos]`\n",
      "  full_value = full_payments_value[group[\"order_id\"]][0]\n",
      "C:\\Users\\PW\\AppData\\Local\\Temp\\ipykernel_8168\\3155147829.py:20: FutureWarning: Series.__getitem__ treating keys as positions is deprecated. In a future version, integer keys will always be treated as labels (consistent with DataFrame behavior). To access a value by position, use `ser.iloc[pos]`\n",
      "  full_value = full_payments_value[group[\"order_id\"]][0]\n",
      "C:\\Users\\PW\\AppData\\Local\\Temp\\ipykernel_8168\\3155147829.py:20: FutureWarning: Series.__getitem__ treating keys as positions is deprecated. In a future version, integer keys will always be treated as labels (consistent with DataFrame behavior). To access a value by position, use `ser.iloc[pos]`\n",
      "  full_value = full_payments_value[group[\"order_id\"]][0]\n",
      "C:\\Users\\PW\\AppData\\Local\\Temp\\ipykernel_8168\\3155147829.py:20: FutureWarning: Series.__getitem__ treating keys as positions is deprecated. In a future version, integer keys will always be treated as labels (consistent with DataFrame behavior). To access a value by position, use `ser.iloc[pos]`\n",
      "  full_value = full_payments_value[group[\"order_id\"]][0]\n",
      "C:\\Users\\PW\\AppData\\Local\\Temp\\ipykernel_8168\\3155147829.py:20: FutureWarning: Series.__getitem__ treating keys as positions is deprecated. In a future version, integer keys will always be treated as labels (consistent with DataFrame behavior). To access a value by position, use `ser.iloc[pos]`\n",
      "  full_value = full_payments_value[group[\"order_id\"]][0]\n",
      "C:\\Users\\PW\\AppData\\Local\\Temp\\ipykernel_8168\\3155147829.py:20: FutureWarning: Series.__getitem__ treating keys as positions is deprecated. In a future version, integer keys will always be treated as labels (consistent with DataFrame behavior). To access a value by position, use `ser.iloc[pos]`\n",
      "  full_value = full_payments_value[group[\"order_id\"]][0]\n",
      "C:\\Users\\PW\\AppData\\Local\\Temp\\ipykernel_8168\\3155147829.py:20: FutureWarning: Series.__getitem__ treating keys as positions is deprecated. In a future version, integer keys will always be treated as labels (consistent with DataFrame behavior). To access a value by position, use `ser.iloc[pos]`\n",
      "  full_value = full_payments_value[group[\"order_id\"]][0]\n",
      "C:\\Users\\PW\\AppData\\Local\\Temp\\ipykernel_8168\\3155147829.py:20: FutureWarning: Series.__getitem__ treating keys as positions is deprecated. In a future version, integer keys will always be treated as labels (consistent with DataFrame behavior). To access a value by position, use `ser.iloc[pos]`\n",
      "  full_value = full_payments_value[group[\"order_id\"]][0]\n",
      "C:\\Users\\PW\\AppData\\Local\\Temp\\ipykernel_8168\\3155147829.py:20: FutureWarning: Series.__getitem__ treating keys as positions is deprecated. In a future version, integer keys will always be treated as labels (consistent with DataFrame behavior). To access a value by position, use `ser.iloc[pos]`\n",
      "  full_value = full_payments_value[group[\"order_id\"]][0]\n",
      "C:\\Users\\PW\\AppData\\Local\\Temp\\ipykernel_8168\\3155147829.py:20: FutureWarning: Series.__getitem__ treating keys as positions is deprecated. In a future version, integer keys will always be treated as labels (consistent with DataFrame behavior). To access a value by position, use `ser.iloc[pos]`\n",
      "  full_value = full_payments_value[group[\"order_id\"]][0]\n",
      "C:\\Users\\PW\\AppData\\Local\\Temp\\ipykernel_8168\\3155147829.py:20: FutureWarning: Series.__getitem__ treating keys as positions is deprecated. In a future version, integer keys will always be treated as labels (consistent with DataFrame behavior). To access a value by position, use `ser.iloc[pos]`\n",
      "  full_value = full_payments_value[group[\"order_id\"]][0]\n",
      "C:\\Users\\PW\\AppData\\Local\\Temp\\ipykernel_8168\\3155147829.py:20: FutureWarning: Series.__getitem__ treating keys as positions is deprecated. In a future version, integer keys will always be treated as labels (consistent with DataFrame behavior). To access a value by position, use `ser.iloc[pos]`\n",
      "  full_value = full_payments_value[group[\"order_id\"]][0]\n",
      "C:\\Users\\PW\\AppData\\Local\\Temp\\ipykernel_8168\\3155147829.py:20: FutureWarning: Series.__getitem__ treating keys as positions is deprecated. In a future version, integer keys will always be treated as labels (consistent with DataFrame behavior). To access a value by position, use `ser.iloc[pos]`\n",
      "  full_value = full_payments_value[group[\"order_id\"]][0]\n",
      "C:\\Users\\PW\\AppData\\Local\\Temp\\ipykernel_8168\\3155147829.py:20: FutureWarning: Series.__getitem__ treating keys as positions is deprecated. In a future version, integer keys will always be treated as labels (consistent with DataFrame behavior). To access a value by position, use `ser.iloc[pos]`\n",
      "  full_value = full_payments_value[group[\"order_id\"]][0]\n",
      "C:\\Users\\PW\\AppData\\Local\\Temp\\ipykernel_8168\\3155147829.py:20: FutureWarning: Series.__getitem__ treating keys as positions is deprecated. In a future version, integer keys will always be treated as labels (consistent with DataFrame behavior). To access a value by position, use `ser.iloc[pos]`\n",
      "  full_value = full_payments_value[group[\"order_id\"]][0]\n",
      "C:\\Users\\PW\\AppData\\Local\\Temp\\ipykernel_8168\\3155147829.py:20: FutureWarning: Series.__getitem__ treating keys as positions is deprecated. In a future version, integer keys will always be treated as labels (consistent with DataFrame behavior). To access a value by position, use `ser.iloc[pos]`\n",
      "  full_value = full_payments_value[group[\"order_id\"]][0]\n",
      "C:\\Users\\PW\\AppData\\Local\\Temp\\ipykernel_8168\\3155147829.py:20: FutureWarning: Series.__getitem__ treating keys as positions is deprecated. In a future version, integer keys will always be treated as labels (consistent with DataFrame behavior). To access a value by position, use `ser.iloc[pos]`\n",
      "  full_value = full_payments_value[group[\"order_id\"]][0]\n",
      "C:\\Users\\PW\\AppData\\Local\\Temp\\ipykernel_8168\\3155147829.py:20: FutureWarning: Series.__getitem__ treating keys as positions is deprecated. In a future version, integer keys will always be treated as labels (consistent with DataFrame behavior). To access a value by position, use `ser.iloc[pos]`\n",
      "  full_value = full_payments_value[group[\"order_id\"]][0]\n",
      "C:\\Users\\PW\\AppData\\Local\\Temp\\ipykernel_8168\\3155147829.py:20: FutureWarning: Series.__getitem__ treating keys as positions is deprecated. In a future version, integer keys will always be treated as labels (consistent with DataFrame behavior). To access a value by position, use `ser.iloc[pos]`\n",
      "  full_value = full_payments_value[group[\"order_id\"]][0]\n",
      "C:\\Users\\PW\\AppData\\Local\\Temp\\ipykernel_8168\\3155147829.py:20: FutureWarning: Series.__getitem__ treating keys as positions is deprecated. In a future version, integer keys will always be treated as labels (consistent with DataFrame behavior). To access a value by position, use `ser.iloc[pos]`\n",
      "  full_value = full_payments_value[group[\"order_id\"]][0]\n",
      "C:\\Users\\PW\\AppData\\Local\\Temp\\ipykernel_8168\\3155147829.py:20: FutureWarning: Series.__getitem__ treating keys as positions is deprecated. In a future version, integer keys will always be treated as labels (consistent with DataFrame behavior). To access a value by position, use `ser.iloc[pos]`\n",
      "  full_value = full_payments_value[group[\"order_id\"]][0]\n",
      "C:\\Users\\PW\\AppData\\Local\\Temp\\ipykernel_8168\\3155147829.py:20: FutureWarning: Series.__getitem__ treating keys as positions is deprecated. In a future version, integer keys will always be treated as labels (consistent with DataFrame behavior). To access a value by position, use `ser.iloc[pos]`\n",
      "  full_value = full_payments_value[group[\"order_id\"]][0]\n",
      "C:\\Users\\PW\\AppData\\Local\\Temp\\ipykernel_8168\\3155147829.py:20: FutureWarning: Series.__getitem__ treating keys as positions is deprecated. In a future version, integer keys will always be treated as labels (consistent with DataFrame behavior). To access a value by position, use `ser.iloc[pos]`\n",
      "  full_value = full_payments_value[group[\"order_id\"]][0]\n",
      "C:\\Users\\PW\\AppData\\Local\\Temp\\ipykernel_8168\\3155147829.py:20: FutureWarning: Series.__getitem__ treating keys as positions is deprecated. In a future version, integer keys will always be treated as labels (consistent with DataFrame behavior). To access a value by position, use `ser.iloc[pos]`\n",
      "  full_value = full_payments_value[group[\"order_id\"]][0]\n",
      "C:\\Users\\PW\\AppData\\Local\\Temp\\ipykernel_8168\\3155147829.py:20: FutureWarning: Series.__getitem__ treating keys as positions is deprecated. In a future version, integer keys will always be treated as labels (consistent with DataFrame behavior). To access a value by position, use `ser.iloc[pos]`\n",
      "  full_value = full_payments_value[group[\"order_id\"]][0]\n",
      "C:\\Users\\PW\\AppData\\Local\\Temp\\ipykernel_8168\\3155147829.py:20: FutureWarning: Series.__getitem__ treating keys as positions is deprecated. In a future version, integer keys will always be treated as labels (consistent with DataFrame behavior). To access a value by position, use `ser.iloc[pos]`\n",
      "  full_value = full_payments_value[group[\"order_id\"]][0]\n",
      "C:\\Users\\PW\\AppData\\Local\\Temp\\ipykernel_8168\\3155147829.py:20: FutureWarning: Series.__getitem__ treating keys as positions is deprecated. In a future version, integer keys will always be treated as labels (consistent with DataFrame behavior). To access a value by position, use `ser.iloc[pos]`\n",
      "  full_value = full_payments_value[group[\"order_id\"]][0]\n",
      "C:\\Users\\PW\\AppData\\Local\\Temp\\ipykernel_8168\\3155147829.py:20: FutureWarning: Series.__getitem__ treating keys as positions is deprecated. In a future version, integer keys will always be treated as labels (consistent with DataFrame behavior). To access a value by position, use `ser.iloc[pos]`\n",
      "  full_value = full_payments_value[group[\"order_id\"]][0]\n",
      "C:\\Users\\PW\\AppData\\Local\\Temp\\ipykernel_8168\\3155147829.py:20: FutureWarning: Series.__getitem__ treating keys as positions is deprecated. In a future version, integer keys will always be treated as labels (consistent with DataFrame behavior). To access a value by position, use `ser.iloc[pos]`\n",
      "  full_value = full_payments_value[group[\"order_id\"]][0]\n",
      "C:\\Users\\PW\\AppData\\Local\\Temp\\ipykernel_8168\\3155147829.py:20: FutureWarning: Series.__getitem__ treating keys as positions is deprecated. In a future version, integer keys will always be treated as labels (consistent with DataFrame behavior). To access a value by position, use `ser.iloc[pos]`\n",
      "  full_value = full_payments_value[group[\"order_id\"]][0]\n",
      "C:\\Users\\PW\\AppData\\Local\\Temp\\ipykernel_8168\\3155147829.py:20: FutureWarning: Series.__getitem__ treating keys as positions is deprecated. In a future version, integer keys will always be treated as labels (consistent with DataFrame behavior). To access a value by position, use `ser.iloc[pos]`\n",
      "  full_value = full_payments_value[group[\"order_id\"]][0]\n",
      "C:\\Users\\PW\\AppData\\Local\\Temp\\ipykernel_8168\\3155147829.py:20: FutureWarning: Series.__getitem__ treating keys as positions is deprecated. In a future version, integer keys will always be treated as labels (consistent with DataFrame behavior). To access a value by position, use `ser.iloc[pos]`\n",
      "  full_value = full_payments_value[group[\"order_id\"]][0]\n",
      "C:\\Users\\PW\\AppData\\Local\\Temp\\ipykernel_8168\\3155147829.py:20: FutureWarning: Series.__getitem__ treating keys as positions is deprecated. In a future version, integer keys will always be treated as labels (consistent with DataFrame behavior). To access a value by position, use `ser.iloc[pos]`\n",
      "  full_value = full_payments_value[group[\"order_id\"]][0]\n",
      "C:\\Users\\PW\\AppData\\Local\\Temp\\ipykernel_8168\\3155147829.py:20: FutureWarning: Series.__getitem__ treating keys as positions is deprecated. In a future version, integer keys will always be treated as labels (consistent with DataFrame behavior). To access a value by position, use `ser.iloc[pos]`\n",
      "  full_value = full_payments_value[group[\"order_id\"]][0]\n",
      "C:\\Users\\PW\\AppData\\Local\\Temp\\ipykernel_8168\\3155147829.py:20: FutureWarning: Series.__getitem__ treating keys as positions is deprecated. In a future version, integer keys will always be treated as labels (consistent with DataFrame behavior). To access a value by position, use `ser.iloc[pos]`\n",
      "  full_value = full_payments_value[group[\"order_id\"]][0]\n",
      "C:\\Users\\PW\\AppData\\Local\\Temp\\ipykernel_8168\\3155147829.py:20: FutureWarning: Series.__getitem__ treating keys as positions is deprecated. In a future version, integer keys will always be treated as labels (consistent with DataFrame behavior). To access a value by position, use `ser.iloc[pos]`\n",
      "  full_value = full_payments_value[group[\"order_id\"]][0]\n",
      "C:\\Users\\PW\\AppData\\Local\\Temp\\ipykernel_8168\\3155147829.py:20: FutureWarning: Series.__getitem__ treating keys as positions is deprecated. In a future version, integer keys will always be treated as labels (consistent with DataFrame behavior). To access a value by position, use `ser.iloc[pos]`\n",
      "  full_value = full_payments_value[group[\"order_id\"]][0]\n",
      "C:\\Users\\PW\\AppData\\Local\\Temp\\ipykernel_8168\\3155147829.py:20: FutureWarning: Series.__getitem__ treating keys as positions is deprecated. In a future version, integer keys will always be treated as labels (consistent with DataFrame behavior). To access a value by position, use `ser.iloc[pos]`\n",
      "  full_value = full_payments_value[group[\"order_id\"]][0]\n",
      "C:\\Users\\PW\\AppData\\Local\\Temp\\ipykernel_8168\\3155147829.py:20: FutureWarning: Series.__getitem__ treating keys as positions is deprecated. In a future version, integer keys will always be treated as labels (consistent with DataFrame behavior). To access a value by position, use `ser.iloc[pos]`\n",
      "  full_value = full_payments_value[group[\"order_id\"]][0]\n",
      "C:\\Users\\PW\\AppData\\Local\\Temp\\ipykernel_8168\\3155147829.py:20: FutureWarning: Series.__getitem__ treating keys as positions is deprecated. In a future version, integer keys will always be treated as labels (consistent with DataFrame behavior). To access a value by position, use `ser.iloc[pos]`\n",
      "  full_value = full_payments_value[group[\"order_id\"]][0]\n",
      "C:\\Users\\PW\\AppData\\Local\\Temp\\ipykernel_8168\\3155147829.py:20: FutureWarning: Series.__getitem__ treating keys as positions is deprecated. In a future version, integer keys will always be treated as labels (consistent with DataFrame behavior). To access a value by position, use `ser.iloc[pos]`\n",
      "  full_value = full_payments_value[group[\"order_id\"]][0]\n",
      "C:\\Users\\PW\\AppData\\Local\\Temp\\ipykernel_8168\\3155147829.py:20: FutureWarning: Series.__getitem__ treating keys as positions is deprecated. In a future version, integer keys will always be treated as labels (consistent with DataFrame behavior). To access a value by position, use `ser.iloc[pos]`\n",
      "  full_value = full_payments_value[group[\"order_id\"]][0]\n",
      "C:\\Users\\PW\\AppData\\Local\\Temp\\ipykernel_8168\\3155147829.py:20: FutureWarning: Series.__getitem__ treating keys as positions is deprecated. In a future version, integer keys will always be treated as labels (consistent with DataFrame behavior). To access a value by position, use `ser.iloc[pos]`\n",
      "  full_value = full_payments_value[group[\"order_id\"]][0]\n",
      "C:\\Users\\PW\\AppData\\Local\\Temp\\ipykernel_8168\\3155147829.py:20: FutureWarning: Series.__getitem__ treating keys as positions is deprecated. In a future version, integer keys will always be treated as labels (consistent with DataFrame behavior). To access a value by position, use `ser.iloc[pos]`\n",
      "  full_value = full_payments_value[group[\"order_id\"]][0]\n",
      "C:\\Users\\PW\\AppData\\Local\\Temp\\ipykernel_8168\\3155147829.py:20: FutureWarning: Series.__getitem__ treating keys as positions is deprecated. In a future version, integer keys will always be treated as labels (consistent with DataFrame behavior). To access a value by position, use `ser.iloc[pos]`\n",
      "  full_value = full_payments_value[group[\"order_id\"]][0]\n",
      "C:\\Users\\PW\\AppData\\Local\\Temp\\ipykernel_8168\\3155147829.py:20: FutureWarning: Series.__getitem__ treating keys as positions is deprecated. In a future version, integer keys will always be treated as labels (consistent with DataFrame behavior). To access a value by position, use `ser.iloc[pos]`\n",
      "  full_value = full_payments_value[group[\"order_id\"]][0]\n",
      "C:\\Users\\PW\\AppData\\Local\\Temp\\ipykernel_8168\\3155147829.py:20: FutureWarning: Series.__getitem__ treating keys as positions is deprecated. In a future version, integer keys will always be treated as labels (consistent with DataFrame behavior). To access a value by position, use `ser.iloc[pos]`\n",
      "  full_value = full_payments_value[group[\"order_id\"]][0]\n",
      "C:\\Users\\PW\\AppData\\Local\\Temp\\ipykernel_8168\\3155147829.py:20: FutureWarning: Series.__getitem__ treating keys as positions is deprecated. In a future version, integer keys will always be treated as labels (consistent with DataFrame behavior). To access a value by position, use `ser.iloc[pos]`\n",
      "  full_value = full_payments_value[group[\"order_id\"]][0]\n",
      "C:\\Users\\PW\\AppData\\Local\\Temp\\ipykernel_8168\\3155147829.py:20: FutureWarning: Series.__getitem__ treating keys as positions is deprecated. In a future version, integer keys will always be treated as labels (consistent with DataFrame behavior). To access a value by position, use `ser.iloc[pos]`\n",
      "  full_value = full_payments_value[group[\"order_id\"]][0]\n",
      "C:\\Users\\PW\\AppData\\Local\\Temp\\ipykernel_8168\\3155147829.py:20: FutureWarning: Series.__getitem__ treating keys as positions is deprecated. In a future version, integer keys will always be treated as labels (consistent with DataFrame behavior). To access a value by position, use `ser.iloc[pos]`\n",
      "  full_value = full_payments_value[group[\"order_id\"]][0]\n",
      "C:\\Users\\PW\\AppData\\Local\\Temp\\ipykernel_8168\\3155147829.py:20: FutureWarning: Series.__getitem__ treating keys as positions is deprecated. In a future version, integer keys will always be treated as labels (consistent with DataFrame behavior). To access a value by position, use `ser.iloc[pos]`\n",
      "  full_value = full_payments_value[group[\"order_id\"]][0]\n",
      "C:\\Users\\PW\\AppData\\Local\\Temp\\ipykernel_8168\\3155147829.py:20: FutureWarning: Series.__getitem__ treating keys as positions is deprecated. In a future version, integer keys will always be treated as labels (consistent with DataFrame behavior). To access a value by position, use `ser.iloc[pos]`\n",
      "  full_value = full_payments_value[group[\"order_id\"]][0]\n",
      "C:\\Users\\PW\\AppData\\Local\\Temp\\ipykernel_8168\\3155147829.py:20: FutureWarning: Series.__getitem__ treating keys as positions is deprecated. In a future version, integer keys will always be treated as labels (consistent with DataFrame behavior). To access a value by position, use `ser.iloc[pos]`\n",
      "  full_value = full_payments_value[group[\"order_id\"]][0]\n",
      "C:\\Users\\PW\\AppData\\Local\\Temp\\ipykernel_8168\\3155147829.py:20: FutureWarning: Series.__getitem__ treating keys as positions is deprecated. In a future version, integer keys will always be treated as labels (consistent with DataFrame behavior). To access a value by position, use `ser.iloc[pos]`\n",
      "  full_value = full_payments_value[group[\"order_id\"]][0]\n",
      "C:\\Users\\PW\\AppData\\Local\\Temp\\ipykernel_8168\\3155147829.py:20: FutureWarning: Series.__getitem__ treating keys as positions is deprecated. In a future version, integer keys will always be treated as labels (consistent with DataFrame behavior). To access a value by position, use `ser.iloc[pos]`\n",
      "  full_value = full_payments_value[group[\"order_id\"]][0]\n",
      "C:\\Users\\PW\\AppData\\Local\\Temp\\ipykernel_8168\\3155147829.py:20: FutureWarning: Series.__getitem__ treating keys as positions is deprecated. In a future version, integer keys will always be treated as labels (consistent with DataFrame behavior). To access a value by position, use `ser.iloc[pos]`\n",
      "  full_value = full_payments_value[group[\"order_id\"]][0]\n",
      "C:\\Users\\PW\\AppData\\Local\\Temp\\ipykernel_8168\\3155147829.py:20: FutureWarning: Series.__getitem__ treating keys as positions is deprecated. In a future version, integer keys will always be treated as labels (consistent with DataFrame behavior). To access a value by position, use `ser.iloc[pos]`\n",
      "  full_value = full_payments_value[group[\"order_id\"]][0]\n",
      "C:\\Users\\PW\\AppData\\Local\\Temp\\ipykernel_8168\\3155147829.py:20: FutureWarning: Series.__getitem__ treating keys as positions is deprecated. In a future version, integer keys will always be treated as labels (consistent with DataFrame behavior). To access a value by position, use `ser.iloc[pos]`\n",
      "  full_value = full_payments_value[group[\"order_id\"]][0]\n",
      "C:\\Users\\PW\\AppData\\Local\\Temp\\ipykernel_8168\\3155147829.py:20: FutureWarning: Series.__getitem__ treating keys as positions is deprecated. In a future version, integer keys will always be treated as labels (consistent with DataFrame behavior). To access a value by position, use `ser.iloc[pos]`\n",
      "  full_value = full_payments_value[group[\"order_id\"]][0]\n",
      "C:\\Users\\PW\\AppData\\Local\\Temp\\ipykernel_8168\\3155147829.py:20: FutureWarning: Series.__getitem__ treating keys as positions is deprecated. In a future version, integer keys will always be treated as labels (consistent with DataFrame behavior). To access a value by position, use `ser.iloc[pos]`\n",
      "  full_value = full_payments_value[group[\"order_id\"]][0]\n",
      "C:\\Users\\PW\\AppData\\Local\\Temp\\ipykernel_8168\\3155147829.py:20: FutureWarning: Series.__getitem__ treating keys as positions is deprecated. In a future version, integer keys will always be treated as labels (consistent with DataFrame behavior). To access a value by position, use `ser.iloc[pos]`\n",
      "  full_value = full_payments_value[group[\"order_id\"]][0]\n",
      "C:\\Users\\PW\\AppData\\Local\\Temp\\ipykernel_8168\\3155147829.py:20: FutureWarning: Series.__getitem__ treating keys as positions is deprecated. In a future version, integer keys will always be treated as labels (consistent with DataFrame behavior). To access a value by position, use `ser.iloc[pos]`\n",
      "  full_value = full_payments_value[group[\"order_id\"]][0]\n",
      "C:\\Users\\PW\\AppData\\Local\\Temp\\ipykernel_8168\\3155147829.py:20: FutureWarning: Series.__getitem__ treating keys as positions is deprecated. In a future version, integer keys will always be treated as labels (consistent with DataFrame behavior). To access a value by position, use `ser.iloc[pos]`\n",
      "  full_value = full_payments_value[group[\"order_id\"]][0]\n",
      "C:\\Users\\PW\\AppData\\Local\\Temp\\ipykernel_8168\\3155147829.py:20: FutureWarning: Series.__getitem__ treating keys as positions is deprecated. In a future version, integer keys will always be treated as labels (consistent with DataFrame behavior). To access a value by position, use `ser.iloc[pos]`\n",
      "  full_value = full_payments_value[group[\"order_id\"]][0]\n",
      "C:\\Users\\PW\\AppData\\Local\\Temp\\ipykernel_8168\\3155147829.py:20: FutureWarning: Series.__getitem__ treating keys as positions is deprecated. In a future version, integer keys will always be treated as labels (consistent with DataFrame behavior). To access a value by position, use `ser.iloc[pos]`\n",
      "  full_value = full_payments_value[group[\"order_id\"]][0]\n",
      "C:\\Users\\PW\\AppData\\Local\\Temp\\ipykernel_8168\\3155147829.py:20: FutureWarning: Series.__getitem__ treating keys as positions is deprecated. In a future version, integer keys will always be treated as labels (consistent with DataFrame behavior). To access a value by position, use `ser.iloc[pos]`\n",
      "  full_value = full_payments_value[group[\"order_id\"]][0]\n",
      "C:\\Users\\PW\\AppData\\Local\\Temp\\ipykernel_8168\\3155147829.py:20: FutureWarning: Series.__getitem__ treating keys as positions is deprecated. In a future version, integer keys will always be treated as labels (consistent with DataFrame behavior). To access a value by position, use `ser.iloc[pos]`\n",
      "  full_value = full_payments_value[group[\"order_id\"]][0]\n",
      "C:\\Users\\PW\\AppData\\Local\\Temp\\ipykernel_8168\\3155147829.py:20: FutureWarning: Series.__getitem__ treating keys as positions is deprecated. In a future version, integer keys will always be treated as labels (consistent with DataFrame behavior). To access a value by position, use `ser.iloc[pos]`\n",
      "  full_value = full_payments_value[group[\"order_id\"]][0]\n",
      "C:\\Users\\PW\\AppData\\Local\\Temp\\ipykernel_8168\\3155147829.py:20: FutureWarning: Series.__getitem__ treating keys as positions is deprecated. In a future version, integer keys will always be treated as labels (consistent with DataFrame behavior). To access a value by position, use `ser.iloc[pos]`\n",
      "  full_value = full_payments_value[group[\"order_id\"]][0]\n",
      "C:\\Users\\PW\\AppData\\Local\\Temp\\ipykernel_8168\\3155147829.py:20: FutureWarning: Series.__getitem__ treating keys as positions is deprecated. In a future version, integer keys will always be treated as labels (consistent with DataFrame behavior). To access a value by position, use `ser.iloc[pos]`\n",
      "  full_value = full_payments_value[group[\"order_id\"]][0]\n",
      "C:\\Users\\PW\\AppData\\Local\\Temp\\ipykernel_8168\\3155147829.py:20: FutureWarning: Series.__getitem__ treating keys as positions is deprecated. In a future version, integer keys will always be treated as labels (consistent with DataFrame behavior). To access a value by position, use `ser.iloc[pos]`\n",
      "  full_value = full_payments_value[group[\"order_id\"]][0]\n",
      "C:\\Users\\PW\\AppData\\Local\\Temp\\ipykernel_8168\\3155147829.py:20: FutureWarning: Series.__getitem__ treating keys as positions is deprecated. In a future version, integer keys will always be treated as labels (consistent with DataFrame behavior). To access a value by position, use `ser.iloc[pos]`\n",
      "  full_value = full_payments_value[group[\"order_id\"]][0]\n",
      "C:\\Users\\PW\\AppData\\Local\\Temp\\ipykernel_8168\\3155147829.py:20: FutureWarning: Series.__getitem__ treating keys as positions is deprecated. In a future version, integer keys will always be treated as labels (consistent with DataFrame behavior). To access a value by position, use `ser.iloc[pos]`\n",
      "  full_value = full_payments_value[group[\"order_id\"]][0]\n",
      "C:\\Users\\PW\\AppData\\Local\\Temp\\ipykernel_8168\\3155147829.py:20: FutureWarning: Series.__getitem__ treating keys as positions is deprecated. In a future version, integer keys will always be treated as labels (consistent with DataFrame behavior). To access a value by position, use `ser.iloc[pos]`\n",
      "  full_value = full_payments_value[group[\"order_id\"]][0]\n",
      "C:\\Users\\PW\\AppData\\Local\\Temp\\ipykernel_8168\\3155147829.py:20: FutureWarning: Series.__getitem__ treating keys as positions is deprecated. In a future version, integer keys will always be treated as labels (consistent with DataFrame behavior). To access a value by position, use `ser.iloc[pos]`\n",
      "  full_value = full_payments_value[group[\"order_id\"]][0]\n",
      "C:\\Users\\PW\\AppData\\Local\\Temp\\ipykernel_8168\\3155147829.py:20: FutureWarning: Series.__getitem__ treating keys as positions is deprecated. In a future version, integer keys will always be treated as labels (consistent with DataFrame behavior). To access a value by position, use `ser.iloc[pos]`\n",
      "  full_value = full_payments_value[group[\"order_id\"]][0]\n",
      "C:\\Users\\PW\\AppData\\Local\\Temp\\ipykernel_8168\\3155147829.py:20: FutureWarning: Series.__getitem__ treating keys as positions is deprecated. In a future version, integer keys will always be treated as labels (consistent with DataFrame behavior). To access a value by position, use `ser.iloc[pos]`\n",
      "  full_value = full_payments_value[group[\"order_id\"]][0]\n",
      "C:\\Users\\PW\\AppData\\Local\\Temp\\ipykernel_8168\\3155147829.py:20: FutureWarning: Series.__getitem__ treating keys as positions is deprecated. In a future version, integer keys will always be treated as labels (consistent with DataFrame behavior). To access a value by position, use `ser.iloc[pos]`\n",
      "  full_value = full_payments_value[group[\"order_id\"]][0]\n",
      "C:\\Users\\PW\\AppData\\Local\\Temp\\ipykernel_8168\\3155147829.py:20: FutureWarning: Series.__getitem__ treating keys as positions is deprecated. In a future version, integer keys will always be treated as labels (consistent with DataFrame behavior). To access a value by position, use `ser.iloc[pos]`\n",
      "  full_value = full_payments_value[group[\"order_id\"]][0]\n",
      "C:\\Users\\PW\\AppData\\Local\\Temp\\ipykernel_8168\\3155147829.py:20: FutureWarning: Series.__getitem__ treating keys as positions is deprecated. In a future version, integer keys will always be treated as labels (consistent with DataFrame behavior). To access a value by position, use `ser.iloc[pos]`\n",
      "  full_value = full_payments_value[group[\"order_id\"]][0]\n",
      "C:\\Users\\PW\\AppData\\Local\\Temp\\ipykernel_8168\\3155147829.py:20: FutureWarning: Series.__getitem__ treating keys as positions is deprecated. In a future version, integer keys will always be treated as labels (consistent with DataFrame behavior). To access a value by position, use `ser.iloc[pos]`\n",
      "  full_value = full_payments_value[group[\"order_id\"]][0]\n",
      "C:\\Users\\PW\\AppData\\Local\\Temp\\ipykernel_8168\\3155147829.py:20: FutureWarning: Series.__getitem__ treating keys as positions is deprecated. In a future version, integer keys will always be treated as labels (consistent with DataFrame behavior). To access a value by position, use `ser.iloc[pos]`\n",
      "  full_value = full_payments_value[group[\"order_id\"]][0]\n",
      "C:\\Users\\PW\\AppData\\Local\\Temp\\ipykernel_8168\\3155147829.py:20: FutureWarning: Series.__getitem__ treating keys as positions is deprecated. In a future version, integer keys will always be treated as labels (consistent with DataFrame behavior). To access a value by position, use `ser.iloc[pos]`\n",
      "  full_value = full_payments_value[group[\"order_id\"]][0]\n",
      "C:\\Users\\PW\\AppData\\Local\\Temp\\ipykernel_8168\\3155147829.py:20: FutureWarning: Series.__getitem__ treating keys as positions is deprecated. In a future version, integer keys will always be treated as labels (consistent with DataFrame behavior). To access a value by position, use `ser.iloc[pos]`\n",
      "  full_value = full_payments_value[group[\"order_id\"]][0]\n",
      "C:\\Users\\PW\\AppData\\Local\\Temp\\ipykernel_8168\\3155147829.py:20: FutureWarning: Series.__getitem__ treating keys as positions is deprecated. In a future version, integer keys will always be treated as labels (consistent with DataFrame behavior). To access a value by position, use `ser.iloc[pos]`\n",
      "  full_value = full_payments_value[group[\"order_id\"]][0]\n",
      "C:\\Users\\PW\\AppData\\Local\\Temp\\ipykernel_8168\\3155147829.py:20: FutureWarning: Series.__getitem__ treating keys as positions is deprecated. In a future version, integer keys will always be treated as labels (consistent with DataFrame behavior). To access a value by position, use `ser.iloc[pos]`\n",
      "  full_value = full_payments_value[group[\"order_id\"]][0]\n",
      "C:\\Users\\PW\\AppData\\Local\\Temp\\ipykernel_8168\\3155147829.py:20: FutureWarning: Series.__getitem__ treating keys as positions is deprecated. In a future version, integer keys will always be treated as labels (consistent with DataFrame behavior). To access a value by position, use `ser.iloc[pos]`\n",
      "  full_value = full_payments_value[group[\"order_id\"]][0]\n",
      "C:\\Users\\PW\\AppData\\Local\\Temp\\ipykernel_8168\\3155147829.py:20: FutureWarning: Series.__getitem__ treating keys as positions is deprecated. In a future version, integer keys will always be treated as labels (consistent with DataFrame behavior). To access a value by position, use `ser.iloc[pos]`\n",
      "  full_value = full_payments_value[group[\"order_id\"]][0]\n",
      "C:\\Users\\PW\\AppData\\Local\\Temp\\ipykernel_8168\\3155147829.py:20: FutureWarning: Series.__getitem__ treating keys as positions is deprecated. In a future version, integer keys will always be treated as labels (consistent with DataFrame behavior). To access a value by position, use `ser.iloc[pos]`\n",
      "  full_value = full_payments_value[group[\"order_id\"]][0]\n",
      "C:\\Users\\PW\\AppData\\Local\\Temp\\ipykernel_8168\\3155147829.py:20: FutureWarning: Series.__getitem__ treating keys as positions is deprecated. In a future version, integer keys will always be treated as labels (consistent with DataFrame behavior). To access a value by position, use `ser.iloc[pos]`\n",
      "  full_value = full_payments_value[group[\"order_id\"]][0]\n",
      "C:\\Users\\PW\\AppData\\Local\\Temp\\ipykernel_8168\\3155147829.py:20: FutureWarning: Series.__getitem__ treating keys as positions is deprecated. In a future version, integer keys will always be treated as labels (consistent with DataFrame behavior). To access a value by position, use `ser.iloc[pos]`\n",
      "  full_value = full_payments_value[group[\"order_id\"]][0]\n",
      "C:\\Users\\PW\\AppData\\Local\\Temp\\ipykernel_8168\\3155147829.py:20: FutureWarning: Series.__getitem__ treating keys as positions is deprecated. In a future version, integer keys will always be treated as labels (consistent with DataFrame behavior). To access a value by position, use `ser.iloc[pos]`\n",
      "  full_value = full_payments_value[group[\"order_id\"]][0]\n",
      "C:\\Users\\PW\\AppData\\Local\\Temp\\ipykernel_8168\\3155147829.py:20: FutureWarning: Series.__getitem__ treating keys as positions is deprecated. In a future version, integer keys will always be treated as labels (consistent with DataFrame behavior). To access a value by position, use `ser.iloc[pos]`\n",
      "  full_value = full_payments_value[group[\"order_id\"]][0]\n",
      "C:\\Users\\PW\\AppData\\Local\\Temp\\ipykernel_8168\\3155147829.py:20: FutureWarning: Series.__getitem__ treating keys as positions is deprecated. In a future version, integer keys will always be treated as labels (consistent with DataFrame behavior). To access a value by position, use `ser.iloc[pos]`\n",
      "  full_value = full_payments_value[group[\"order_id\"]][0]\n",
      "C:\\Users\\PW\\AppData\\Local\\Temp\\ipykernel_8168\\3155147829.py:20: FutureWarning: Series.__getitem__ treating keys as positions is deprecated. In a future version, integer keys will always be treated as labels (consistent with DataFrame behavior). To access a value by position, use `ser.iloc[pos]`\n",
      "  full_value = full_payments_value[group[\"order_id\"]][0]\n",
      "C:\\Users\\PW\\AppData\\Local\\Temp\\ipykernel_8168\\3155147829.py:20: FutureWarning: Series.__getitem__ treating keys as positions is deprecated. In a future version, integer keys will always be treated as labels (consistent with DataFrame behavior). To access a value by position, use `ser.iloc[pos]`\n",
      "  full_value = full_payments_value[group[\"order_id\"]][0]\n",
      "C:\\Users\\PW\\AppData\\Local\\Temp\\ipykernel_8168\\3155147829.py:20: FutureWarning: Series.__getitem__ treating keys as positions is deprecated. In a future version, integer keys will always be treated as labels (consistent with DataFrame behavior). To access a value by position, use `ser.iloc[pos]`\n",
      "  full_value = full_payments_value[group[\"order_id\"]][0]\n",
      "C:\\Users\\PW\\AppData\\Local\\Temp\\ipykernel_8168\\3155147829.py:20: FutureWarning: Series.__getitem__ treating keys as positions is deprecated. In a future version, integer keys will always be treated as labels (consistent with DataFrame behavior). To access a value by position, use `ser.iloc[pos]`\n",
      "  full_value = full_payments_value[group[\"order_id\"]][0]\n",
      "C:\\Users\\PW\\AppData\\Local\\Temp\\ipykernel_8168\\3155147829.py:20: FutureWarning: Series.__getitem__ treating keys as positions is deprecated. In a future version, integer keys will always be treated as labels (consistent with DataFrame behavior). To access a value by position, use `ser.iloc[pos]`\n",
      "  full_value = full_payments_value[group[\"order_id\"]][0]\n",
      "C:\\Users\\PW\\AppData\\Local\\Temp\\ipykernel_8168\\3155147829.py:20: FutureWarning: Series.__getitem__ treating keys as positions is deprecated. In a future version, integer keys will always be treated as labels (consistent with DataFrame behavior). To access a value by position, use `ser.iloc[pos]`\n",
      "  full_value = full_payments_value[group[\"order_id\"]][0]\n",
      "C:\\Users\\PW\\AppData\\Local\\Temp\\ipykernel_8168\\3155147829.py:20: FutureWarning: Series.__getitem__ treating keys as positions is deprecated. In a future version, integer keys will always be treated as labels (consistent with DataFrame behavior). To access a value by position, use `ser.iloc[pos]`\n",
      "  full_value = full_payments_value[group[\"order_id\"]][0]\n",
      "C:\\Users\\PW\\AppData\\Local\\Temp\\ipykernel_8168\\3155147829.py:20: FutureWarning: Series.__getitem__ treating keys as positions is deprecated. In a future version, integer keys will always be treated as labels (consistent with DataFrame behavior). To access a value by position, use `ser.iloc[pos]`\n",
      "  full_value = full_payments_value[group[\"order_id\"]][0]\n",
      "C:\\Users\\PW\\AppData\\Local\\Temp\\ipykernel_8168\\3155147829.py:20: FutureWarning: Series.__getitem__ treating keys as positions is deprecated. In a future version, integer keys will always be treated as labels (consistent with DataFrame behavior). To access a value by position, use `ser.iloc[pos]`\n",
      "  full_value = full_payments_value[group[\"order_id\"]][0]\n",
      "C:\\Users\\PW\\AppData\\Local\\Temp\\ipykernel_8168\\3155147829.py:20: FutureWarning: Series.__getitem__ treating keys as positions is deprecated. In a future version, integer keys will always be treated as labels (consistent with DataFrame behavior). To access a value by position, use `ser.iloc[pos]`\n",
      "  full_value = full_payments_value[group[\"order_id\"]][0]\n",
      "C:\\Users\\PW\\AppData\\Local\\Temp\\ipykernel_8168\\3155147829.py:20: FutureWarning: Series.__getitem__ treating keys as positions is deprecated. In a future version, integer keys will always be treated as labels (consistent with DataFrame behavior). To access a value by position, use `ser.iloc[pos]`\n",
      "  full_value = full_payments_value[group[\"order_id\"]][0]\n",
      "C:\\Users\\PW\\AppData\\Local\\Temp\\ipykernel_8168\\3155147829.py:20: FutureWarning: Series.__getitem__ treating keys as positions is deprecated. In a future version, integer keys will always be treated as labels (consistent with DataFrame behavior). To access a value by position, use `ser.iloc[pos]`\n",
      "  full_value = full_payments_value[group[\"order_id\"]][0]\n",
      "C:\\Users\\PW\\AppData\\Local\\Temp\\ipykernel_8168\\3155147829.py:20: FutureWarning: Series.__getitem__ treating keys as positions is deprecated. In a future version, integer keys will always be treated as labels (consistent with DataFrame behavior). To access a value by position, use `ser.iloc[pos]`\n",
      "  full_value = full_payments_value[group[\"order_id\"]][0]\n",
      "C:\\Users\\PW\\AppData\\Local\\Temp\\ipykernel_8168\\3155147829.py:20: FutureWarning: Series.__getitem__ treating keys as positions is deprecated. In a future version, integer keys will always be treated as labels (consistent with DataFrame behavior). To access a value by position, use `ser.iloc[pos]`\n",
      "  full_value = full_payments_value[group[\"order_id\"]][0]\n",
      "C:\\Users\\PW\\AppData\\Local\\Temp\\ipykernel_8168\\3155147829.py:20: FutureWarning: Series.__getitem__ treating keys as positions is deprecated. In a future version, integer keys will always be treated as labels (consistent with DataFrame behavior). To access a value by position, use `ser.iloc[pos]`\n",
      "  full_value = full_payments_value[group[\"order_id\"]][0]\n",
      "C:\\Users\\PW\\AppData\\Local\\Temp\\ipykernel_8168\\3155147829.py:20: FutureWarning: Series.__getitem__ treating keys as positions is deprecated. In a future version, integer keys will always be treated as labels (consistent with DataFrame behavior). To access a value by position, use `ser.iloc[pos]`\n",
      "  full_value = full_payments_value[group[\"order_id\"]][0]\n",
      "C:\\Users\\PW\\AppData\\Local\\Temp\\ipykernel_8168\\3155147829.py:20: FutureWarning: Series.__getitem__ treating keys as positions is deprecated. In a future version, integer keys will always be treated as labels (consistent with DataFrame behavior). To access a value by position, use `ser.iloc[pos]`\n",
      "  full_value = full_payments_value[group[\"order_id\"]][0]\n",
      "C:\\Users\\PW\\AppData\\Local\\Temp\\ipykernel_8168\\3155147829.py:20: FutureWarning: Series.__getitem__ treating keys as positions is deprecated. In a future version, integer keys will always be treated as labels (consistent with DataFrame behavior). To access a value by position, use `ser.iloc[pos]`\n",
      "  full_value = full_payments_value[group[\"order_id\"]][0]\n",
      "C:\\Users\\PW\\AppData\\Local\\Temp\\ipykernel_8168\\3155147829.py:20: FutureWarning: Series.__getitem__ treating keys as positions is deprecated. In a future version, integer keys will always be treated as labels (consistent with DataFrame behavior). To access a value by position, use `ser.iloc[pos]`\n",
      "  full_value = full_payments_value[group[\"order_id\"]][0]\n",
      "C:\\Users\\PW\\AppData\\Local\\Temp\\ipykernel_8168\\3155147829.py:20: FutureWarning: Series.__getitem__ treating keys as positions is deprecated. In a future version, integer keys will always be treated as labels (consistent with DataFrame behavior). To access a value by position, use `ser.iloc[pos]`\n",
      "  full_value = full_payments_value[group[\"order_id\"]][0]\n",
      "C:\\Users\\PW\\AppData\\Local\\Temp\\ipykernel_8168\\3155147829.py:20: FutureWarning: Series.__getitem__ treating keys as positions is deprecated. In a future version, integer keys will always be treated as labels (consistent with DataFrame behavior). To access a value by position, use `ser.iloc[pos]`\n",
      "  full_value = full_payments_value[group[\"order_id\"]][0]\n",
      "C:\\Users\\PW\\AppData\\Local\\Temp\\ipykernel_8168\\3155147829.py:20: FutureWarning: Series.__getitem__ treating keys as positions is deprecated. In a future version, integer keys will always be treated as labels (consistent with DataFrame behavior). To access a value by position, use `ser.iloc[pos]`\n",
      "  full_value = full_payments_value[group[\"order_id\"]][0]\n",
      "C:\\Users\\PW\\AppData\\Local\\Temp\\ipykernel_8168\\3155147829.py:20: FutureWarning: Series.__getitem__ treating keys as positions is deprecated. In a future version, integer keys will always be treated as labels (consistent with DataFrame behavior). To access a value by position, use `ser.iloc[pos]`\n",
      "  full_value = full_payments_value[group[\"order_id\"]][0]\n",
      "C:\\Users\\PW\\AppData\\Local\\Temp\\ipykernel_8168\\3155147829.py:20: FutureWarning: Series.__getitem__ treating keys as positions is deprecated. In a future version, integer keys will always be treated as labels (consistent with DataFrame behavior). To access a value by position, use `ser.iloc[pos]`\n",
      "  full_value = full_payments_value[group[\"order_id\"]][0]\n",
      "C:\\Users\\PW\\AppData\\Local\\Temp\\ipykernel_8168\\3155147829.py:20: FutureWarning: Series.__getitem__ treating keys as positions is deprecated. In a future version, integer keys will always be treated as labels (consistent with DataFrame behavior). To access a value by position, use `ser.iloc[pos]`\n",
      "  full_value = full_payments_value[group[\"order_id\"]][0]\n",
      "C:\\Users\\PW\\AppData\\Local\\Temp\\ipykernel_8168\\3155147829.py:20: FutureWarning: Series.__getitem__ treating keys as positions is deprecated. In a future version, integer keys will always be treated as labels (consistent with DataFrame behavior). To access a value by position, use `ser.iloc[pos]`\n",
      "  full_value = full_payments_value[group[\"order_id\"]][0]\n",
      "C:\\Users\\PW\\AppData\\Local\\Temp\\ipykernel_8168\\3155147829.py:20: FutureWarning: Series.__getitem__ treating keys as positions is deprecated. In a future version, integer keys will always be treated as labels (consistent with DataFrame behavior). To access a value by position, use `ser.iloc[pos]`\n",
      "  full_value = full_payments_value[group[\"order_id\"]][0]\n",
      "C:\\Users\\PW\\AppData\\Local\\Temp\\ipykernel_8168\\3155147829.py:20: FutureWarning: Series.__getitem__ treating keys as positions is deprecated. In a future version, integer keys will always be treated as labels (consistent with DataFrame behavior). To access a value by position, use `ser.iloc[pos]`\n",
      "  full_value = full_payments_value[group[\"order_id\"]][0]\n",
      "C:\\Users\\PW\\AppData\\Local\\Temp\\ipykernel_8168\\3155147829.py:20: FutureWarning: Series.__getitem__ treating keys as positions is deprecated. In a future version, integer keys will always be treated as labels (consistent with DataFrame behavior). To access a value by position, use `ser.iloc[pos]`\n",
      "  full_value = full_payments_value[group[\"order_id\"]][0]\n",
      "C:\\Users\\PW\\AppData\\Local\\Temp\\ipykernel_8168\\3155147829.py:20: FutureWarning: Series.__getitem__ treating keys as positions is deprecated. In a future version, integer keys will always be treated as labels (consistent with DataFrame behavior). To access a value by position, use `ser.iloc[pos]`\n",
      "  full_value = full_payments_value[group[\"order_id\"]][0]\n",
      "C:\\Users\\PW\\AppData\\Local\\Temp\\ipykernel_8168\\3155147829.py:20: FutureWarning: Series.__getitem__ treating keys as positions is deprecated. In a future version, integer keys will always be treated as labels (consistent with DataFrame behavior). To access a value by position, use `ser.iloc[pos]`\n",
      "  full_value = full_payments_value[group[\"order_id\"]][0]\n",
      "C:\\Users\\PW\\AppData\\Local\\Temp\\ipykernel_8168\\3155147829.py:20: FutureWarning: Series.__getitem__ treating keys as positions is deprecated. In a future version, integer keys will always be treated as labels (consistent with DataFrame behavior). To access a value by position, use `ser.iloc[pos]`\n",
      "  full_value = full_payments_value[group[\"order_id\"]][0]\n",
      "C:\\Users\\PW\\AppData\\Local\\Temp\\ipykernel_8168\\3155147829.py:20: FutureWarning: Series.__getitem__ treating keys as positions is deprecated. In a future version, integer keys will always be treated as labels (consistent with DataFrame behavior). To access a value by position, use `ser.iloc[pos]`\n",
      "  full_value = full_payments_value[group[\"order_id\"]][0]\n",
      "C:\\Users\\PW\\AppData\\Local\\Temp\\ipykernel_8168\\3155147829.py:20: FutureWarning: Series.__getitem__ treating keys as positions is deprecated. In a future version, integer keys will always be treated as labels (consistent with DataFrame behavior). To access a value by position, use `ser.iloc[pos]`\n",
      "  full_value = full_payments_value[group[\"order_id\"]][0]\n",
      "C:\\Users\\PW\\AppData\\Local\\Temp\\ipykernel_8168\\3155147829.py:20: FutureWarning: Series.__getitem__ treating keys as positions is deprecated. In a future version, integer keys will always be treated as labels (consistent with DataFrame behavior). To access a value by position, use `ser.iloc[pos]`\n",
      "  full_value = full_payments_value[group[\"order_id\"]][0]\n",
      "C:\\Users\\PW\\AppData\\Local\\Temp\\ipykernel_8168\\3155147829.py:20: FutureWarning: Series.__getitem__ treating keys as positions is deprecated. In a future version, integer keys will always be treated as labels (consistent with DataFrame behavior). To access a value by position, use `ser.iloc[pos]`\n",
      "  full_value = full_payments_value[group[\"order_id\"]][0]\n",
      "C:\\Users\\PW\\AppData\\Local\\Temp\\ipykernel_8168\\3155147829.py:20: FutureWarning: Series.__getitem__ treating keys as positions is deprecated. In a future version, integer keys will always be treated as labels (consistent with DataFrame behavior). To access a value by position, use `ser.iloc[pos]`\n",
      "  full_value = full_payments_value[group[\"order_id\"]][0]\n",
      "C:\\Users\\PW\\AppData\\Local\\Temp\\ipykernel_8168\\3155147829.py:20: FutureWarning: Series.__getitem__ treating keys as positions is deprecated. In a future version, integer keys will always be treated as labels (consistent with DataFrame behavior). To access a value by position, use `ser.iloc[pos]`\n",
      "  full_value = full_payments_value[group[\"order_id\"]][0]\n",
      "C:\\Users\\PW\\AppData\\Local\\Temp\\ipykernel_8168\\3155147829.py:20: FutureWarning: Series.__getitem__ treating keys as positions is deprecated. In a future version, integer keys will always be treated as labels (consistent with DataFrame behavior). To access a value by position, use `ser.iloc[pos]`\n",
      "  full_value = full_payments_value[group[\"order_id\"]][0]\n",
      "C:\\Users\\PW\\AppData\\Local\\Temp\\ipykernel_8168\\3155147829.py:20: FutureWarning: Series.__getitem__ treating keys as positions is deprecated. In a future version, integer keys will always be treated as labels (consistent with DataFrame behavior). To access a value by position, use `ser.iloc[pos]`\n",
      "  full_value = full_payments_value[group[\"order_id\"]][0]\n",
      "C:\\Users\\PW\\AppData\\Local\\Temp\\ipykernel_8168\\3155147829.py:20: FutureWarning: Series.__getitem__ treating keys as positions is deprecated. In a future version, integer keys will always be treated as labels (consistent with DataFrame behavior). To access a value by position, use `ser.iloc[pos]`\n",
      "  full_value = full_payments_value[group[\"order_id\"]][0]\n",
      "C:\\Users\\PW\\AppData\\Local\\Temp\\ipykernel_8168\\3155147829.py:20: FutureWarning: Series.__getitem__ treating keys as positions is deprecated. In a future version, integer keys will always be treated as labels (consistent with DataFrame behavior). To access a value by position, use `ser.iloc[pos]`\n",
      "  full_value = full_payments_value[group[\"order_id\"]][0]\n",
      "C:\\Users\\PW\\AppData\\Local\\Temp\\ipykernel_8168\\3155147829.py:20: FutureWarning: Series.__getitem__ treating keys as positions is deprecated. In a future version, integer keys will always be treated as labels (consistent with DataFrame behavior). To access a value by position, use `ser.iloc[pos]`\n",
      "  full_value = full_payments_value[group[\"order_id\"]][0]\n",
      "C:\\Users\\PW\\AppData\\Local\\Temp\\ipykernel_8168\\3155147829.py:20: FutureWarning: Series.__getitem__ treating keys as positions is deprecated. In a future version, integer keys will always be treated as labels (consistent with DataFrame behavior). To access a value by position, use `ser.iloc[pos]`\n",
      "  full_value = full_payments_value[group[\"order_id\"]][0]\n",
      "C:\\Users\\PW\\AppData\\Local\\Temp\\ipykernel_8168\\3155147829.py:20: FutureWarning: Series.__getitem__ treating keys as positions is deprecated. In a future version, integer keys will always be treated as labels (consistent with DataFrame behavior). To access a value by position, use `ser.iloc[pos]`\n",
      "  full_value = full_payments_value[group[\"order_id\"]][0]\n",
      "C:\\Users\\PW\\AppData\\Local\\Temp\\ipykernel_8168\\3155147829.py:20: FutureWarning: Series.__getitem__ treating keys as positions is deprecated. In a future version, integer keys will always be treated as labels (consistent with DataFrame behavior). To access a value by position, use `ser.iloc[pos]`\n",
      "  full_value = full_payments_value[group[\"order_id\"]][0]\n",
      "C:\\Users\\PW\\AppData\\Local\\Temp\\ipykernel_8168\\3155147829.py:20: FutureWarning: Series.__getitem__ treating keys as positions is deprecated. In a future version, integer keys will always be treated as labels (consistent with DataFrame behavior). To access a value by position, use `ser.iloc[pos]`\n",
      "  full_value = full_payments_value[group[\"order_id\"]][0]\n",
      "C:\\Users\\PW\\AppData\\Local\\Temp\\ipykernel_8168\\3155147829.py:20: FutureWarning: Series.__getitem__ treating keys as positions is deprecated. In a future version, integer keys will always be treated as labels (consistent with DataFrame behavior). To access a value by position, use `ser.iloc[pos]`\n",
      "  full_value = full_payments_value[group[\"order_id\"]][0]\n",
      "C:\\Users\\PW\\AppData\\Local\\Temp\\ipykernel_8168\\3155147829.py:20: FutureWarning: Series.__getitem__ treating keys as positions is deprecated. In a future version, integer keys will always be treated as labels (consistent with DataFrame behavior). To access a value by position, use `ser.iloc[pos]`\n",
      "  full_value = full_payments_value[group[\"order_id\"]][0]\n",
      "C:\\Users\\PW\\AppData\\Local\\Temp\\ipykernel_8168\\3155147829.py:20: FutureWarning: Series.__getitem__ treating keys as positions is deprecated. In a future version, integer keys will always be treated as labels (consistent with DataFrame behavior). To access a value by position, use `ser.iloc[pos]`\n",
      "  full_value = full_payments_value[group[\"order_id\"]][0]\n",
      "C:\\Users\\PW\\AppData\\Local\\Temp\\ipykernel_8168\\3155147829.py:20: FutureWarning: Series.__getitem__ treating keys as positions is deprecated. In a future version, integer keys will always be treated as labels (consistent with DataFrame behavior). To access a value by position, use `ser.iloc[pos]`\n",
      "  full_value = full_payments_value[group[\"order_id\"]][0]\n",
      "C:\\Users\\PW\\AppData\\Local\\Temp\\ipykernel_8168\\3155147829.py:20: FutureWarning: Series.__getitem__ treating keys as positions is deprecated. In a future version, integer keys will always be treated as labels (consistent with DataFrame behavior). To access a value by position, use `ser.iloc[pos]`\n",
      "  full_value = full_payments_value[group[\"order_id\"]][0]\n",
      "C:\\Users\\PW\\AppData\\Local\\Temp\\ipykernel_8168\\3155147829.py:20: FutureWarning: Series.__getitem__ treating keys as positions is deprecated. In a future version, integer keys will always be treated as labels (consistent with DataFrame behavior). To access a value by position, use `ser.iloc[pos]`\n",
      "  full_value = full_payments_value[group[\"order_id\"]][0]\n",
      "C:\\Users\\PW\\AppData\\Local\\Temp\\ipykernel_8168\\3155147829.py:20: FutureWarning: Series.__getitem__ treating keys as positions is deprecated. In a future version, integer keys will always be treated as labels (consistent with DataFrame behavior). To access a value by position, use `ser.iloc[pos]`\n",
      "  full_value = full_payments_value[group[\"order_id\"]][0]\n",
      "C:\\Users\\PW\\AppData\\Local\\Temp\\ipykernel_8168\\3155147829.py:20: FutureWarning: Series.__getitem__ treating keys as positions is deprecated. In a future version, integer keys will always be treated as labels (consistent with DataFrame behavior). To access a value by position, use `ser.iloc[pos]`\n",
      "  full_value = full_payments_value[group[\"order_id\"]][0]\n",
      "C:\\Users\\PW\\AppData\\Local\\Temp\\ipykernel_8168\\3155147829.py:20: FutureWarning: Series.__getitem__ treating keys as positions is deprecated. In a future version, integer keys will always be treated as labels (consistent with DataFrame behavior). To access a value by position, use `ser.iloc[pos]`\n",
      "  full_value = full_payments_value[group[\"order_id\"]][0]\n",
      "C:\\Users\\PW\\AppData\\Local\\Temp\\ipykernel_8168\\3155147829.py:20: FutureWarning: Series.__getitem__ treating keys as positions is deprecated. In a future version, integer keys will always be treated as labels (consistent with DataFrame behavior). To access a value by position, use `ser.iloc[pos]`\n",
      "  full_value = full_payments_value[group[\"order_id\"]][0]\n",
      "C:\\Users\\PW\\AppData\\Local\\Temp\\ipykernel_8168\\3155147829.py:20: FutureWarning: Series.__getitem__ treating keys as positions is deprecated. In a future version, integer keys will always be treated as labels (consistent with DataFrame behavior). To access a value by position, use `ser.iloc[pos]`\n",
      "  full_value = full_payments_value[group[\"order_id\"]][0]\n",
      "C:\\Users\\PW\\AppData\\Local\\Temp\\ipykernel_8168\\3155147829.py:20: FutureWarning: Series.__getitem__ treating keys as positions is deprecated. In a future version, integer keys will always be treated as labels (consistent with DataFrame behavior). To access a value by position, use `ser.iloc[pos]`\n",
      "  full_value = full_payments_value[group[\"order_id\"]][0]\n",
      "C:\\Users\\PW\\AppData\\Local\\Temp\\ipykernel_8168\\3155147829.py:20: FutureWarning: Series.__getitem__ treating keys as positions is deprecated. In a future version, integer keys will always be treated as labels (consistent with DataFrame behavior). To access a value by position, use `ser.iloc[pos]`\n",
      "  full_value = full_payments_value[group[\"order_id\"]][0]\n",
      "C:\\Users\\PW\\AppData\\Local\\Temp\\ipykernel_8168\\3155147829.py:20: FutureWarning: Series.__getitem__ treating keys as positions is deprecated. In a future version, integer keys will always be treated as labels (consistent with DataFrame behavior). To access a value by position, use `ser.iloc[pos]`\n",
      "  full_value = full_payments_value[group[\"order_id\"]][0]\n",
      "C:\\Users\\PW\\AppData\\Local\\Temp\\ipykernel_8168\\3155147829.py:20: FutureWarning: Series.__getitem__ treating keys as positions is deprecated. In a future version, integer keys will always be treated as labels (consistent with DataFrame behavior). To access a value by position, use `ser.iloc[pos]`\n",
      "  full_value = full_payments_value[group[\"order_id\"]][0]\n",
      "C:\\Users\\PW\\AppData\\Local\\Temp\\ipykernel_8168\\3155147829.py:20: FutureWarning: Series.__getitem__ treating keys as positions is deprecated. In a future version, integer keys will always be treated as labels (consistent with DataFrame behavior). To access a value by position, use `ser.iloc[pos]`\n",
      "  full_value = full_payments_value[group[\"order_id\"]][0]\n",
      "C:\\Users\\PW\\AppData\\Local\\Temp\\ipykernel_8168\\3155147829.py:20: FutureWarning: Series.__getitem__ treating keys as positions is deprecated. In a future version, integer keys will always be treated as labels (consistent with DataFrame behavior). To access a value by position, use `ser.iloc[pos]`\n",
      "  full_value = full_payments_value[group[\"order_id\"]][0]\n",
      "C:\\Users\\PW\\AppData\\Local\\Temp\\ipykernel_8168\\3155147829.py:20: FutureWarning: Series.__getitem__ treating keys as positions is deprecated. In a future version, integer keys will always be treated as labels (consistent with DataFrame behavior). To access a value by position, use `ser.iloc[pos]`\n",
      "  full_value = full_payments_value[group[\"order_id\"]][0]\n",
      "C:\\Users\\PW\\AppData\\Local\\Temp\\ipykernel_8168\\3155147829.py:20: FutureWarning: Series.__getitem__ treating keys as positions is deprecated. In a future version, integer keys will always be treated as labels (consistent with DataFrame behavior). To access a value by position, use `ser.iloc[pos]`\n",
      "  full_value = full_payments_value[group[\"order_id\"]][0]\n",
      "C:\\Users\\PW\\AppData\\Local\\Temp\\ipykernel_8168\\3155147829.py:20: FutureWarning: Series.__getitem__ treating keys as positions is deprecated. In a future version, integer keys will always be treated as labels (consistent with DataFrame behavior). To access a value by position, use `ser.iloc[pos]`\n",
      "  full_value = full_payments_value[group[\"order_id\"]][0]\n",
      "C:\\Users\\PW\\AppData\\Local\\Temp\\ipykernel_8168\\3155147829.py:20: FutureWarning: Series.__getitem__ treating keys as positions is deprecated. In a future version, integer keys will always be treated as labels (consistent with DataFrame behavior). To access a value by position, use `ser.iloc[pos]`\n",
      "  full_value = full_payments_value[group[\"order_id\"]][0]\n",
      "C:\\Users\\PW\\AppData\\Local\\Temp\\ipykernel_8168\\3155147829.py:20: FutureWarning: Series.__getitem__ treating keys as positions is deprecated. In a future version, integer keys will always be treated as labels (consistent with DataFrame behavior). To access a value by position, use `ser.iloc[pos]`\n",
      "  full_value = full_payments_value[group[\"order_id\"]][0]\n",
      "C:\\Users\\PW\\AppData\\Local\\Temp\\ipykernel_8168\\3155147829.py:20: FutureWarning: Series.__getitem__ treating keys as positions is deprecated. In a future version, integer keys will always be treated as labels (consistent with DataFrame behavior). To access a value by position, use `ser.iloc[pos]`\n",
      "  full_value = full_payments_value[group[\"order_id\"]][0]\n",
      "C:\\Users\\PW\\AppData\\Local\\Temp\\ipykernel_8168\\3155147829.py:20: FutureWarning: Series.__getitem__ treating keys as positions is deprecated. In a future version, integer keys will always be treated as labels (consistent with DataFrame behavior). To access a value by position, use `ser.iloc[pos]`\n",
      "  full_value = full_payments_value[group[\"order_id\"]][0]\n",
      "C:\\Users\\PW\\AppData\\Local\\Temp\\ipykernel_8168\\3155147829.py:20: FutureWarning: Series.__getitem__ treating keys as positions is deprecated. In a future version, integer keys will always be treated as labels (consistent with DataFrame behavior). To access a value by position, use `ser.iloc[pos]`\n",
      "  full_value = full_payments_value[group[\"order_id\"]][0]\n",
      "C:\\Users\\PW\\AppData\\Local\\Temp\\ipykernel_8168\\3155147829.py:20: FutureWarning: Series.__getitem__ treating keys as positions is deprecated. In a future version, integer keys will always be treated as labels (consistent with DataFrame behavior). To access a value by position, use `ser.iloc[pos]`\n",
      "  full_value = full_payments_value[group[\"order_id\"]][0]\n",
      "C:\\Users\\PW\\AppData\\Local\\Temp\\ipykernel_8168\\3155147829.py:20: FutureWarning: Series.__getitem__ treating keys as positions is deprecated. In a future version, integer keys will always be treated as labels (consistent with DataFrame behavior). To access a value by position, use `ser.iloc[pos]`\n",
      "  full_value = full_payments_value[group[\"order_id\"]][0]\n",
      "C:\\Users\\PW\\AppData\\Local\\Temp\\ipykernel_8168\\3155147829.py:20: FutureWarning: Series.__getitem__ treating keys as positions is deprecated. In a future version, integer keys will always be treated as labels (consistent with DataFrame behavior). To access a value by position, use `ser.iloc[pos]`\n",
      "  full_value = full_payments_value[group[\"order_id\"]][0]\n",
      "C:\\Users\\PW\\AppData\\Local\\Temp\\ipykernel_8168\\3155147829.py:20: FutureWarning: Series.__getitem__ treating keys as positions is deprecated. In a future version, integer keys will always be treated as labels (consistent with DataFrame behavior). To access a value by position, use `ser.iloc[pos]`\n",
      "  full_value = full_payments_value[group[\"order_id\"]][0]\n",
      "C:\\Users\\PW\\AppData\\Local\\Temp\\ipykernel_8168\\3155147829.py:20: FutureWarning: Series.__getitem__ treating keys as positions is deprecated. In a future version, integer keys will always be treated as labels (consistent with DataFrame behavior). To access a value by position, use `ser.iloc[pos]`\n",
      "  full_value = full_payments_value[group[\"order_id\"]][0]\n",
      "C:\\Users\\PW\\AppData\\Local\\Temp\\ipykernel_8168\\3155147829.py:20: FutureWarning: Series.__getitem__ treating keys as positions is deprecated. In a future version, integer keys will always be treated as labels (consistent with DataFrame behavior). To access a value by position, use `ser.iloc[pos]`\n",
      "  full_value = full_payments_value[group[\"order_id\"]][0]\n",
      "C:\\Users\\PW\\AppData\\Local\\Temp\\ipykernel_8168\\3155147829.py:20: FutureWarning: Series.__getitem__ treating keys as positions is deprecated. In a future version, integer keys will always be treated as labels (consistent with DataFrame behavior). To access a value by position, use `ser.iloc[pos]`\n",
      "  full_value = full_payments_value[group[\"order_id\"]][0]\n",
      "C:\\Users\\PW\\AppData\\Local\\Temp\\ipykernel_8168\\3155147829.py:20: FutureWarning: Series.__getitem__ treating keys as positions is deprecated. In a future version, integer keys will always be treated as labels (consistent with DataFrame behavior). To access a value by position, use `ser.iloc[pos]`\n",
      "  full_value = full_payments_value[group[\"order_id\"]][0]\n",
      "C:\\Users\\PW\\AppData\\Local\\Temp\\ipykernel_8168\\3155147829.py:20: FutureWarning: Series.__getitem__ treating keys as positions is deprecated. In a future version, integer keys will always be treated as labels (consistent with DataFrame behavior). To access a value by position, use `ser.iloc[pos]`\n",
      "  full_value = full_payments_value[group[\"order_id\"]][0]\n",
      "C:\\Users\\PW\\AppData\\Local\\Temp\\ipykernel_8168\\3155147829.py:20: FutureWarning: Series.__getitem__ treating keys as positions is deprecated. In a future version, integer keys will always be treated as labels (consistent with DataFrame behavior). To access a value by position, use `ser.iloc[pos]`\n",
      "  full_value = full_payments_value[group[\"order_id\"]][0]\n",
      "C:\\Users\\PW\\AppData\\Local\\Temp\\ipykernel_8168\\3155147829.py:20: FutureWarning: Series.__getitem__ treating keys as positions is deprecated. In a future version, integer keys will always be treated as labels (consistent with DataFrame behavior). To access a value by position, use `ser.iloc[pos]`\n",
      "  full_value = full_payments_value[group[\"order_id\"]][0]\n",
      "C:\\Users\\PW\\AppData\\Local\\Temp\\ipykernel_8168\\3155147829.py:20: FutureWarning: Series.__getitem__ treating keys as positions is deprecated. In a future version, integer keys will always be treated as labels (consistent with DataFrame behavior). To access a value by position, use `ser.iloc[pos]`\n",
      "  full_value = full_payments_value[group[\"order_id\"]][0]\n",
      "C:\\Users\\PW\\AppData\\Local\\Temp\\ipykernel_8168\\3155147829.py:20: FutureWarning: Series.__getitem__ treating keys as positions is deprecated. In a future version, integer keys will always be treated as labels (consistent with DataFrame behavior). To access a value by position, use `ser.iloc[pos]`\n",
      "  full_value = full_payments_value[group[\"order_id\"]][0]\n",
      "C:\\Users\\PW\\AppData\\Local\\Temp\\ipykernel_8168\\3155147829.py:20: FutureWarning: Series.__getitem__ treating keys as positions is deprecated. In a future version, integer keys will always be treated as labels (consistent with DataFrame behavior). To access a value by position, use `ser.iloc[pos]`\n",
      "  full_value = full_payments_value[group[\"order_id\"]][0]\n",
      "C:\\Users\\PW\\AppData\\Local\\Temp\\ipykernel_8168\\3155147829.py:20: FutureWarning: Series.__getitem__ treating keys as positions is deprecated. In a future version, integer keys will always be treated as labels (consistent with DataFrame behavior). To access a value by position, use `ser.iloc[pos]`\n",
      "  full_value = full_payments_value[group[\"order_id\"]][0]\n",
      "C:\\Users\\PW\\AppData\\Local\\Temp\\ipykernel_8168\\3155147829.py:20: FutureWarning: Series.__getitem__ treating keys as positions is deprecated. In a future version, integer keys will always be treated as labels (consistent with DataFrame behavior). To access a value by position, use `ser.iloc[pos]`\n",
      "  full_value = full_payments_value[group[\"order_id\"]][0]\n",
      "C:\\Users\\PW\\AppData\\Local\\Temp\\ipykernel_8168\\3155147829.py:20: FutureWarning: Series.__getitem__ treating keys as positions is deprecated. In a future version, integer keys will always be treated as labels (consistent with DataFrame behavior). To access a value by position, use `ser.iloc[pos]`\n",
      "  full_value = full_payments_value[group[\"order_id\"]][0]\n",
      "C:\\Users\\PW\\AppData\\Local\\Temp\\ipykernel_8168\\3155147829.py:20: FutureWarning: Series.__getitem__ treating keys as positions is deprecated. In a future version, integer keys will always be treated as labels (consistent with DataFrame behavior). To access a value by position, use `ser.iloc[pos]`\n",
      "  full_value = full_payments_value[group[\"order_id\"]][0]\n",
      "C:\\Users\\PW\\AppData\\Local\\Temp\\ipykernel_8168\\3155147829.py:20: FutureWarning: Series.__getitem__ treating keys as positions is deprecated. In a future version, integer keys will always be treated as labels (consistent with DataFrame behavior). To access a value by position, use `ser.iloc[pos]`\n",
      "  full_value = full_payments_value[group[\"order_id\"]][0]\n",
      "C:\\Users\\PW\\AppData\\Local\\Temp\\ipykernel_8168\\3155147829.py:20: FutureWarning: Series.__getitem__ treating keys as positions is deprecated. In a future version, integer keys will always be treated as labels (consistent with DataFrame behavior). To access a value by position, use `ser.iloc[pos]`\n",
      "  full_value = full_payments_value[group[\"order_id\"]][0]\n",
      "C:\\Users\\PW\\AppData\\Local\\Temp\\ipykernel_8168\\3155147829.py:20: FutureWarning: Series.__getitem__ treating keys as positions is deprecated. In a future version, integer keys will always be treated as labels (consistent with DataFrame behavior). To access a value by position, use `ser.iloc[pos]`\n",
      "  full_value = full_payments_value[group[\"order_id\"]][0]\n",
      "C:\\Users\\PW\\AppData\\Local\\Temp\\ipykernel_8168\\3155147829.py:20: FutureWarning: Series.__getitem__ treating keys as positions is deprecated. In a future version, integer keys will always be treated as labels (consistent with DataFrame behavior). To access a value by position, use `ser.iloc[pos]`\n",
      "  full_value = full_payments_value[group[\"order_id\"]][0]\n",
      "C:\\Users\\PW\\AppData\\Local\\Temp\\ipykernel_8168\\3155147829.py:20: FutureWarning: Series.__getitem__ treating keys as positions is deprecated. In a future version, integer keys will always be treated as labels (consistent with DataFrame behavior). To access a value by position, use `ser.iloc[pos]`\n",
      "  full_value = full_payments_value[group[\"order_id\"]][0]\n",
      "C:\\Users\\PW\\AppData\\Local\\Temp\\ipykernel_8168\\3155147829.py:20: FutureWarning: Series.__getitem__ treating keys as positions is deprecated. In a future version, integer keys will always be treated as labels (consistent with DataFrame behavior). To access a value by position, use `ser.iloc[pos]`\n",
      "  full_value = full_payments_value[group[\"order_id\"]][0]\n",
      "C:\\Users\\PW\\AppData\\Local\\Temp\\ipykernel_8168\\3155147829.py:20: FutureWarning: Series.__getitem__ treating keys as positions is deprecated. In a future version, integer keys will always be treated as labels (consistent with DataFrame behavior). To access a value by position, use `ser.iloc[pos]`\n",
      "  full_value = full_payments_value[group[\"order_id\"]][0]\n",
      "C:\\Users\\PW\\AppData\\Local\\Temp\\ipykernel_8168\\3155147829.py:20: FutureWarning: Series.__getitem__ treating keys as positions is deprecated. In a future version, integer keys will always be treated as labels (consistent with DataFrame behavior). To access a value by position, use `ser.iloc[pos]`\n",
      "  full_value = full_payments_value[group[\"order_id\"]][0]\n",
      "C:\\Users\\PW\\AppData\\Local\\Temp\\ipykernel_8168\\3155147829.py:20: FutureWarning: Series.__getitem__ treating keys as positions is deprecated. In a future version, integer keys will always be treated as labels (consistent with DataFrame behavior). To access a value by position, use `ser.iloc[pos]`\n",
      "  full_value = full_payments_value[group[\"order_id\"]][0]\n",
      "C:\\Users\\PW\\AppData\\Local\\Temp\\ipykernel_8168\\3155147829.py:20: FutureWarning: Series.__getitem__ treating keys as positions is deprecated. In a future version, integer keys will always be treated as labels (consistent with DataFrame behavior). To access a value by position, use `ser.iloc[pos]`\n",
      "  full_value = full_payments_value[group[\"order_id\"]][0]\n",
      "C:\\Users\\PW\\AppData\\Local\\Temp\\ipykernel_8168\\3155147829.py:20: FutureWarning: Series.__getitem__ treating keys as positions is deprecated. In a future version, integer keys will always be treated as labels (consistent with DataFrame behavior). To access a value by position, use `ser.iloc[pos]`\n",
      "  full_value = full_payments_value[group[\"order_id\"]][0]\n",
      "C:\\Users\\PW\\AppData\\Local\\Temp\\ipykernel_8168\\3155147829.py:20: FutureWarning: Series.__getitem__ treating keys as positions is deprecated. In a future version, integer keys will always be treated as labels (consistent with DataFrame behavior). To access a value by position, use `ser.iloc[pos]`\n",
      "  full_value = full_payments_value[group[\"order_id\"]][0]\n",
      "C:\\Users\\PW\\AppData\\Local\\Temp\\ipykernel_8168\\3155147829.py:20: FutureWarning: Series.__getitem__ treating keys as positions is deprecated. In a future version, integer keys will always be treated as labels (consistent with DataFrame behavior). To access a value by position, use `ser.iloc[pos]`\n",
      "  full_value = full_payments_value[group[\"order_id\"]][0]\n",
      "C:\\Users\\PW\\AppData\\Local\\Temp\\ipykernel_8168\\3155147829.py:20: FutureWarning: Series.__getitem__ treating keys as positions is deprecated. In a future version, integer keys will always be treated as labels (consistent with DataFrame behavior). To access a value by position, use `ser.iloc[pos]`\n",
      "  full_value = full_payments_value[group[\"order_id\"]][0]\n",
      "C:\\Users\\PW\\AppData\\Local\\Temp\\ipykernel_8168\\3155147829.py:20: FutureWarning: Series.__getitem__ treating keys as positions is deprecated. In a future version, integer keys will always be treated as labels (consistent with DataFrame behavior). To access a value by position, use `ser.iloc[pos]`\n",
      "  full_value = full_payments_value[group[\"order_id\"]][0]\n",
      "C:\\Users\\PW\\AppData\\Local\\Temp\\ipykernel_8168\\3155147829.py:20: FutureWarning: Series.__getitem__ treating keys as positions is deprecated. In a future version, integer keys will always be treated as labels (consistent with DataFrame behavior). To access a value by position, use `ser.iloc[pos]`\n",
      "  full_value = full_payments_value[group[\"order_id\"]][0]\n",
      "C:\\Users\\PW\\AppData\\Local\\Temp\\ipykernel_8168\\3155147829.py:20: FutureWarning: Series.__getitem__ treating keys as positions is deprecated. In a future version, integer keys will always be treated as labels (consistent with DataFrame behavior). To access a value by position, use `ser.iloc[pos]`\n",
      "  full_value = full_payments_value[group[\"order_id\"]][0]\n",
      "C:\\Users\\PW\\AppData\\Local\\Temp\\ipykernel_8168\\3155147829.py:20: FutureWarning: Series.__getitem__ treating keys as positions is deprecated. In a future version, integer keys will always be treated as labels (consistent with DataFrame behavior). To access a value by position, use `ser.iloc[pos]`\n",
      "  full_value = full_payments_value[group[\"order_id\"]][0]\n",
      "C:\\Users\\PW\\AppData\\Local\\Temp\\ipykernel_8168\\3155147829.py:20: FutureWarning: Series.__getitem__ treating keys as positions is deprecated. In a future version, integer keys will always be treated as labels (consistent with DataFrame behavior). To access a value by position, use `ser.iloc[pos]`\n",
      "  full_value = full_payments_value[group[\"order_id\"]][0]\n",
      "C:\\Users\\PW\\AppData\\Local\\Temp\\ipykernel_8168\\3155147829.py:20: FutureWarning: Series.__getitem__ treating keys as positions is deprecated. In a future version, integer keys will always be treated as labels (consistent with DataFrame behavior). To access a value by position, use `ser.iloc[pos]`\n",
      "  full_value = full_payments_value[group[\"order_id\"]][0]\n",
      "C:\\Users\\PW\\AppData\\Local\\Temp\\ipykernel_8168\\3155147829.py:20: FutureWarning: Series.__getitem__ treating keys as positions is deprecated. In a future version, integer keys will always be treated as labels (consistent with DataFrame behavior). To access a value by position, use `ser.iloc[pos]`\n",
      "  full_value = full_payments_value[group[\"order_id\"]][0]\n",
      "C:\\Users\\PW\\AppData\\Local\\Temp\\ipykernel_8168\\3155147829.py:20: FutureWarning: Series.__getitem__ treating keys as positions is deprecated. In a future version, integer keys will always be treated as labels (consistent with DataFrame behavior). To access a value by position, use `ser.iloc[pos]`\n",
      "  full_value = full_payments_value[group[\"order_id\"]][0]\n",
      "C:\\Users\\PW\\AppData\\Local\\Temp\\ipykernel_8168\\3155147829.py:20: FutureWarning: Series.__getitem__ treating keys as positions is deprecated. In a future version, integer keys will always be treated as labels (consistent with DataFrame behavior). To access a value by position, use `ser.iloc[pos]`\n",
      "  full_value = full_payments_value[group[\"order_id\"]][0]\n",
      "C:\\Users\\PW\\AppData\\Local\\Temp\\ipykernel_8168\\3155147829.py:20: FutureWarning: Series.__getitem__ treating keys as positions is deprecated. In a future version, integer keys will always be treated as labels (consistent with DataFrame behavior). To access a value by position, use `ser.iloc[pos]`\n",
      "  full_value = full_payments_value[group[\"order_id\"]][0]\n",
      "C:\\Users\\PW\\AppData\\Local\\Temp\\ipykernel_8168\\3155147829.py:20: FutureWarning: Series.__getitem__ treating keys as positions is deprecated. In a future version, integer keys will always be treated as labels (consistent with DataFrame behavior). To access a value by position, use `ser.iloc[pos]`\n",
      "  full_value = full_payments_value[group[\"order_id\"]][0]\n",
      "C:\\Users\\PW\\AppData\\Local\\Temp\\ipykernel_8168\\3155147829.py:20: FutureWarning: Series.__getitem__ treating keys as positions is deprecated. In a future version, integer keys will always be treated as labels (consistent with DataFrame behavior). To access a value by position, use `ser.iloc[pos]`\n",
      "  full_value = full_payments_value[group[\"order_id\"]][0]\n",
      "C:\\Users\\PW\\AppData\\Local\\Temp\\ipykernel_8168\\3155147829.py:20: FutureWarning: Series.__getitem__ treating keys as positions is deprecated. In a future version, integer keys will always be treated as labels (consistent with DataFrame behavior). To access a value by position, use `ser.iloc[pos]`\n",
      "  full_value = full_payments_value[group[\"order_id\"]][0]\n",
      "C:\\Users\\PW\\AppData\\Local\\Temp\\ipykernel_8168\\3155147829.py:20: FutureWarning: Series.__getitem__ treating keys as positions is deprecated. In a future version, integer keys will always be treated as labels (consistent with DataFrame behavior). To access a value by position, use `ser.iloc[pos]`\n",
      "  full_value = full_payments_value[group[\"order_id\"]][0]\n",
      "C:\\Users\\PW\\AppData\\Local\\Temp\\ipykernel_8168\\3155147829.py:20: FutureWarning: Series.__getitem__ treating keys as positions is deprecated. In a future version, integer keys will always be treated as labels (consistent with DataFrame behavior). To access a value by position, use `ser.iloc[pos]`\n",
      "  full_value = full_payments_value[group[\"order_id\"]][0]\n",
      "C:\\Users\\PW\\AppData\\Local\\Temp\\ipykernel_8168\\3155147829.py:20: FutureWarning: Series.__getitem__ treating keys as positions is deprecated. In a future version, integer keys will always be treated as labels (consistent with DataFrame behavior). To access a value by position, use `ser.iloc[pos]`\n",
      "  full_value = full_payments_value[group[\"order_id\"]][0]\n",
      "C:\\Users\\PW\\AppData\\Local\\Temp\\ipykernel_8168\\3155147829.py:20: FutureWarning: Series.__getitem__ treating keys as positions is deprecated. In a future version, integer keys will always be treated as labels (consistent with DataFrame behavior). To access a value by position, use `ser.iloc[pos]`\n",
      "  full_value = full_payments_value[group[\"order_id\"]][0]\n",
      "C:\\Users\\PW\\AppData\\Local\\Temp\\ipykernel_8168\\3155147829.py:20: FutureWarning: Series.__getitem__ treating keys as positions is deprecated. In a future version, integer keys will always be treated as labels (consistent with DataFrame behavior). To access a value by position, use `ser.iloc[pos]`\n",
      "  full_value = full_payments_value[group[\"order_id\"]][0]\n",
      "C:\\Users\\PW\\AppData\\Local\\Temp\\ipykernel_8168\\3155147829.py:20: FutureWarning: Series.__getitem__ treating keys as positions is deprecated. In a future version, integer keys will always be treated as labels (consistent with DataFrame behavior). To access a value by position, use `ser.iloc[pos]`\n",
      "  full_value = full_payments_value[group[\"order_id\"]][0]\n",
      "C:\\Users\\PW\\AppData\\Local\\Temp\\ipykernel_8168\\3155147829.py:20: FutureWarning: Series.__getitem__ treating keys as positions is deprecated. In a future version, integer keys will always be treated as labels (consistent with DataFrame behavior). To access a value by position, use `ser.iloc[pos]`\n",
      "  full_value = full_payments_value[group[\"order_id\"]][0]\n",
      "C:\\Users\\PW\\AppData\\Local\\Temp\\ipykernel_8168\\3155147829.py:20: FutureWarning: Series.__getitem__ treating keys as positions is deprecated. In a future version, integer keys will always be treated as labels (consistent with DataFrame behavior). To access a value by position, use `ser.iloc[pos]`\n",
      "  full_value = full_payments_value[group[\"order_id\"]][0]\n",
      "C:\\Users\\PW\\AppData\\Local\\Temp\\ipykernel_8168\\3155147829.py:20: FutureWarning: Series.__getitem__ treating keys as positions is deprecated. In a future version, integer keys will always be treated as labels (consistent with DataFrame behavior). To access a value by position, use `ser.iloc[pos]`\n",
      "  full_value = full_payments_value[group[\"order_id\"]][0]\n",
      "C:\\Users\\PW\\AppData\\Local\\Temp\\ipykernel_8168\\3155147829.py:20: FutureWarning: Series.__getitem__ treating keys as positions is deprecated. In a future version, integer keys will always be treated as labels (consistent with DataFrame behavior). To access a value by position, use `ser.iloc[pos]`\n",
      "  full_value = full_payments_value[group[\"order_id\"]][0]\n",
      "C:\\Users\\PW\\AppData\\Local\\Temp\\ipykernel_8168\\3155147829.py:20: FutureWarning: Series.__getitem__ treating keys as positions is deprecated. In a future version, integer keys will always be treated as labels (consistent with DataFrame behavior). To access a value by position, use `ser.iloc[pos]`\n",
      "  full_value = full_payments_value[group[\"order_id\"]][0]\n",
      "C:\\Users\\PW\\AppData\\Local\\Temp\\ipykernel_8168\\3155147829.py:20: FutureWarning: Series.__getitem__ treating keys as positions is deprecated. In a future version, integer keys will always be treated as labels (consistent with DataFrame behavior). To access a value by position, use `ser.iloc[pos]`\n",
      "  full_value = full_payments_value[group[\"order_id\"]][0]\n",
      "C:\\Users\\PW\\AppData\\Local\\Temp\\ipykernel_8168\\3155147829.py:20: FutureWarning: Series.__getitem__ treating keys as positions is deprecated. In a future version, integer keys will always be treated as labels (consistent with DataFrame behavior). To access a value by position, use `ser.iloc[pos]`\n",
      "  full_value = full_payments_value[group[\"order_id\"]][0]\n",
      "C:\\Users\\PW\\AppData\\Local\\Temp\\ipykernel_8168\\3155147829.py:20: FutureWarning: Series.__getitem__ treating keys as positions is deprecated. In a future version, integer keys will always be treated as labels (consistent with DataFrame behavior). To access a value by position, use `ser.iloc[pos]`\n",
      "  full_value = full_payments_value[group[\"order_id\"]][0]\n",
      "C:\\Users\\PW\\AppData\\Local\\Temp\\ipykernel_8168\\3155147829.py:20: FutureWarning: Series.__getitem__ treating keys as positions is deprecated. In a future version, integer keys will always be treated as labels (consistent with DataFrame behavior). To access a value by position, use `ser.iloc[pos]`\n",
      "  full_value = full_payments_value[group[\"order_id\"]][0]\n",
      "C:\\Users\\PW\\AppData\\Local\\Temp\\ipykernel_8168\\3155147829.py:20: FutureWarning: Series.__getitem__ treating keys as positions is deprecated. In a future version, integer keys will always be treated as labels (consistent with DataFrame behavior). To access a value by position, use `ser.iloc[pos]`\n",
      "  full_value = full_payments_value[group[\"order_id\"]][0]\n",
      "C:\\Users\\PW\\AppData\\Local\\Temp\\ipykernel_8168\\3155147829.py:20: FutureWarning: Series.__getitem__ treating keys as positions is deprecated. In a future version, integer keys will always be treated as labels (consistent with DataFrame behavior). To access a value by position, use `ser.iloc[pos]`\n",
      "  full_value = full_payments_value[group[\"order_id\"]][0]\n",
      "C:\\Users\\PW\\AppData\\Local\\Temp\\ipykernel_8168\\3155147829.py:20: FutureWarning: Series.__getitem__ treating keys as positions is deprecated. In a future version, integer keys will always be treated as labels (consistent with DataFrame behavior). To access a value by position, use `ser.iloc[pos]`\n",
      "  full_value = full_payments_value[group[\"order_id\"]][0]\n",
      "C:\\Users\\PW\\AppData\\Local\\Temp\\ipykernel_8168\\3155147829.py:20: FutureWarning: Series.__getitem__ treating keys as positions is deprecated. In a future version, integer keys will always be treated as labels (consistent with DataFrame behavior). To access a value by position, use `ser.iloc[pos]`\n",
      "  full_value = full_payments_value[group[\"order_id\"]][0]\n",
      "C:\\Users\\PW\\AppData\\Local\\Temp\\ipykernel_8168\\3155147829.py:20: FutureWarning: Series.__getitem__ treating keys as positions is deprecated. In a future version, integer keys will always be treated as labels (consistent with DataFrame behavior). To access a value by position, use `ser.iloc[pos]`\n",
      "  full_value = full_payments_value[group[\"order_id\"]][0]\n",
      "C:\\Users\\PW\\AppData\\Local\\Temp\\ipykernel_8168\\3155147829.py:20: FutureWarning: Series.__getitem__ treating keys as positions is deprecated. In a future version, integer keys will always be treated as labels (consistent with DataFrame behavior). To access a value by position, use `ser.iloc[pos]`\n",
      "  full_value = full_payments_value[group[\"order_id\"]][0]\n",
      "C:\\Users\\PW\\AppData\\Local\\Temp\\ipykernel_8168\\3155147829.py:20: FutureWarning: Series.__getitem__ treating keys as positions is deprecated. In a future version, integer keys will always be treated as labels (consistent with DataFrame behavior). To access a value by position, use `ser.iloc[pos]`\n",
      "  full_value = full_payments_value[group[\"order_id\"]][0]\n",
      "C:\\Users\\PW\\AppData\\Local\\Temp\\ipykernel_8168\\3155147829.py:20: FutureWarning: Series.__getitem__ treating keys as positions is deprecated. In a future version, integer keys will always be treated as labels (consistent with DataFrame behavior). To access a value by position, use `ser.iloc[pos]`\n",
      "  full_value = full_payments_value[group[\"order_id\"]][0]\n",
      "C:\\Users\\PW\\AppData\\Local\\Temp\\ipykernel_8168\\3155147829.py:20: FutureWarning: Series.__getitem__ treating keys as positions is deprecated. In a future version, integer keys will always be treated as labels (consistent with DataFrame behavior). To access a value by position, use `ser.iloc[pos]`\n",
      "  full_value = full_payments_value[group[\"order_id\"]][0]\n",
      "C:\\Users\\PW\\AppData\\Local\\Temp\\ipykernel_8168\\3155147829.py:20: FutureWarning: Series.__getitem__ treating keys as positions is deprecated. In a future version, integer keys will always be treated as labels (consistent with DataFrame behavior). To access a value by position, use `ser.iloc[pos]`\n",
      "  full_value = full_payments_value[group[\"order_id\"]][0]\n",
      "C:\\Users\\PW\\AppData\\Local\\Temp\\ipykernel_8168\\3155147829.py:20: FutureWarning: Series.__getitem__ treating keys as positions is deprecated. In a future version, integer keys will always be treated as labels (consistent with DataFrame behavior). To access a value by position, use `ser.iloc[pos]`\n",
      "  full_value = full_payments_value[group[\"order_id\"]][0]\n",
      "C:\\Users\\PW\\AppData\\Local\\Temp\\ipykernel_8168\\3155147829.py:20: FutureWarning: Series.__getitem__ treating keys as positions is deprecated. In a future version, integer keys will always be treated as labels (consistent with DataFrame behavior). To access a value by position, use `ser.iloc[pos]`\n",
      "  full_value = full_payments_value[group[\"order_id\"]][0]\n",
      "C:\\Users\\PW\\AppData\\Local\\Temp\\ipykernel_8168\\3155147829.py:20: FutureWarning: Series.__getitem__ treating keys as positions is deprecated. In a future version, integer keys will always be treated as labels (consistent with DataFrame behavior). To access a value by position, use `ser.iloc[pos]`\n",
      "  full_value = full_payments_value[group[\"order_id\"]][0]\n",
      "C:\\Users\\PW\\AppData\\Local\\Temp\\ipykernel_8168\\3155147829.py:20: FutureWarning: Series.__getitem__ treating keys as positions is deprecated. In a future version, integer keys will always be treated as labels (consistent with DataFrame behavior). To access a value by position, use `ser.iloc[pos]`\n",
      "  full_value = full_payments_value[group[\"order_id\"]][0]\n",
      "C:\\Users\\PW\\AppData\\Local\\Temp\\ipykernel_8168\\3155147829.py:20: FutureWarning: Series.__getitem__ treating keys as positions is deprecated. In a future version, integer keys will always be treated as labels (consistent with DataFrame behavior). To access a value by position, use `ser.iloc[pos]`\n",
      "  full_value = full_payments_value[group[\"order_id\"]][0]\n",
      "C:\\Users\\PW\\AppData\\Local\\Temp\\ipykernel_8168\\3155147829.py:20: FutureWarning: Series.__getitem__ treating keys as positions is deprecated. In a future version, integer keys will always be treated as labels (consistent with DataFrame behavior). To access a value by position, use `ser.iloc[pos]`\n",
      "  full_value = full_payments_value[group[\"order_id\"]][0]\n",
      "C:\\Users\\PW\\AppData\\Local\\Temp\\ipykernel_8168\\3155147829.py:20: FutureWarning: Series.__getitem__ treating keys as positions is deprecated. In a future version, integer keys will always be treated as labels (consistent with DataFrame behavior). To access a value by position, use `ser.iloc[pos]`\n",
      "  full_value = full_payments_value[group[\"order_id\"]][0]\n",
      "C:\\Users\\PW\\AppData\\Local\\Temp\\ipykernel_8168\\3155147829.py:20: FutureWarning: Series.__getitem__ treating keys as positions is deprecated. In a future version, integer keys will always be treated as labels (consistent with DataFrame behavior). To access a value by position, use `ser.iloc[pos]`\n",
      "  full_value = full_payments_value[group[\"order_id\"]][0]\n",
      "C:\\Users\\PW\\AppData\\Local\\Temp\\ipykernel_8168\\3155147829.py:20: FutureWarning: Series.__getitem__ treating keys as positions is deprecated. In a future version, integer keys will always be treated as labels (consistent with DataFrame behavior). To access a value by position, use `ser.iloc[pos]`\n",
      "  full_value = full_payments_value[group[\"order_id\"]][0]\n",
      "C:\\Users\\PW\\AppData\\Local\\Temp\\ipykernel_8168\\3155147829.py:20: FutureWarning: Series.__getitem__ treating keys as positions is deprecated. In a future version, integer keys will always be treated as labels (consistent with DataFrame behavior). To access a value by position, use `ser.iloc[pos]`\n",
      "  full_value = full_payments_value[group[\"order_id\"]][0]\n",
      "C:\\Users\\PW\\AppData\\Local\\Temp\\ipykernel_8168\\3155147829.py:20: FutureWarning: Series.__getitem__ treating keys as positions is deprecated. In a future version, integer keys will always be treated as labels (consistent with DataFrame behavior). To access a value by position, use `ser.iloc[pos]`\n",
      "  full_value = full_payments_value[group[\"order_id\"]][0]\n",
      "C:\\Users\\PW\\AppData\\Local\\Temp\\ipykernel_8168\\3155147829.py:20: FutureWarning: Series.__getitem__ treating keys as positions is deprecated. In a future version, integer keys will always be treated as labels (consistent with DataFrame behavior). To access a value by position, use `ser.iloc[pos]`\n",
      "  full_value = full_payments_value[group[\"order_id\"]][0]\n",
      "C:\\Users\\PW\\AppData\\Local\\Temp\\ipykernel_8168\\3155147829.py:20: FutureWarning: Series.__getitem__ treating keys as positions is deprecated. In a future version, integer keys will always be treated as labels (consistent with DataFrame behavior). To access a value by position, use `ser.iloc[pos]`\n",
      "  full_value = full_payments_value[group[\"order_id\"]][0]\n",
      "C:\\Users\\PW\\AppData\\Local\\Temp\\ipykernel_8168\\3155147829.py:20: FutureWarning: Series.__getitem__ treating keys as positions is deprecated. In a future version, integer keys will always be treated as labels (consistent with DataFrame behavior). To access a value by position, use `ser.iloc[pos]`\n",
      "  full_value = full_payments_value[group[\"order_id\"]][0]\n",
      "C:\\Users\\PW\\AppData\\Local\\Temp\\ipykernel_8168\\3155147829.py:20: FutureWarning: Series.__getitem__ treating keys as positions is deprecated. In a future version, integer keys will always be treated as labels (consistent with DataFrame behavior). To access a value by position, use `ser.iloc[pos]`\n",
      "  full_value = full_payments_value[group[\"order_id\"]][0]\n",
      "C:\\Users\\PW\\AppData\\Local\\Temp\\ipykernel_8168\\3155147829.py:20: FutureWarning: Series.__getitem__ treating keys as positions is deprecated. In a future version, integer keys will always be treated as labels (consistent with DataFrame behavior). To access a value by position, use `ser.iloc[pos]`\n",
      "  full_value = full_payments_value[group[\"order_id\"]][0]\n",
      "C:\\Users\\PW\\AppData\\Local\\Temp\\ipykernel_8168\\3155147829.py:20: FutureWarning: Series.__getitem__ treating keys as positions is deprecated. In a future version, integer keys will always be treated as labels (consistent with DataFrame behavior). To access a value by position, use `ser.iloc[pos]`\n",
      "  full_value = full_payments_value[group[\"order_id\"]][0]\n",
      "C:\\Users\\PW\\AppData\\Local\\Temp\\ipykernel_8168\\3155147829.py:20: FutureWarning: Series.__getitem__ treating keys as positions is deprecated. In a future version, integer keys will always be treated as labels (consistent with DataFrame behavior). To access a value by position, use `ser.iloc[pos]`\n",
      "  full_value = full_payments_value[group[\"order_id\"]][0]\n",
      "C:\\Users\\PW\\AppData\\Local\\Temp\\ipykernel_8168\\3155147829.py:20: FutureWarning: Series.__getitem__ treating keys as positions is deprecated. In a future version, integer keys will always be treated as labels (consistent with DataFrame behavior). To access a value by position, use `ser.iloc[pos]`\n",
      "  full_value = full_payments_value[group[\"order_id\"]][0]\n",
      "C:\\Users\\PW\\AppData\\Local\\Temp\\ipykernel_8168\\3155147829.py:20: FutureWarning: Series.__getitem__ treating keys as positions is deprecated. In a future version, integer keys will always be treated as labels (consistent with DataFrame behavior). To access a value by position, use `ser.iloc[pos]`\n",
      "  full_value = full_payments_value[group[\"order_id\"]][0]\n",
      "C:\\Users\\PW\\AppData\\Local\\Temp\\ipykernel_8168\\3155147829.py:20: FutureWarning: Series.__getitem__ treating keys as positions is deprecated. In a future version, integer keys will always be treated as labels (consistent with DataFrame behavior). To access a value by position, use `ser.iloc[pos]`\n",
      "  full_value = full_payments_value[group[\"order_id\"]][0]\n",
      "C:\\Users\\PW\\AppData\\Local\\Temp\\ipykernel_8168\\3155147829.py:20: FutureWarning: Series.__getitem__ treating keys as positions is deprecated. In a future version, integer keys will always be treated as labels (consistent with DataFrame behavior). To access a value by position, use `ser.iloc[pos]`\n",
      "  full_value = full_payments_value[group[\"order_id\"]][0]\n",
      "C:\\Users\\PW\\AppData\\Local\\Temp\\ipykernel_8168\\3155147829.py:20: FutureWarning: Series.__getitem__ treating keys as positions is deprecated. In a future version, integer keys will always be treated as labels (consistent with DataFrame behavior). To access a value by position, use `ser.iloc[pos]`\n",
      "  full_value = full_payments_value[group[\"order_id\"]][0]\n",
      "C:\\Users\\PW\\AppData\\Local\\Temp\\ipykernel_8168\\3155147829.py:20: FutureWarning: Series.__getitem__ treating keys as positions is deprecated. In a future version, integer keys will always be treated as labels (consistent with DataFrame behavior). To access a value by position, use `ser.iloc[pos]`\n",
      "  full_value = full_payments_value[group[\"order_id\"]][0]\n",
      "C:\\Users\\PW\\AppData\\Local\\Temp\\ipykernel_8168\\3155147829.py:20: FutureWarning: Series.__getitem__ treating keys as positions is deprecated. In a future version, integer keys will always be treated as labels (consistent with DataFrame behavior). To access a value by position, use `ser.iloc[pos]`\n",
      "  full_value = full_payments_value[group[\"order_id\"]][0]\n",
      "C:\\Users\\PW\\AppData\\Local\\Temp\\ipykernel_8168\\3155147829.py:20: FutureWarning: Series.__getitem__ treating keys as positions is deprecated. In a future version, integer keys will always be treated as labels (consistent with DataFrame behavior). To access a value by position, use `ser.iloc[pos]`\n",
      "  full_value = full_payments_value[group[\"order_id\"]][0]\n",
      "C:\\Users\\PW\\AppData\\Local\\Temp\\ipykernel_8168\\3155147829.py:20: FutureWarning: Series.__getitem__ treating keys as positions is deprecated. In a future version, integer keys will always be treated as labels (consistent with DataFrame behavior). To access a value by position, use `ser.iloc[pos]`\n",
      "  full_value = full_payments_value[group[\"order_id\"]][0]\n",
      "C:\\Users\\PW\\AppData\\Local\\Temp\\ipykernel_8168\\3155147829.py:20: FutureWarning: Series.__getitem__ treating keys as positions is deprecated. In a future version, integer keys will always be treated as labels (consistent with DataFrame behavior). To access a value by position, use `ser.iloc[pos]`\n",
      "  full_value = full_payments_value[group[\"order_id\"]][0]\n",
      "C:\\Users\\PW\\AppData\\Local\\Temp\\ipykernel_8168\\3155147829.py:20: FutureWarning: Series.__getitem__ treating keys as positions is deprecated. In a future version, integer keys will always be treated as labels (consistent with DataFrame behavior). To access a value by position, use `ser.iloc[pos]`\n",
      "  full_value = full_payments_value[group[\"order_id\"]][0]\n",
      "C:\\Users\\PW\\AppData\\Local\\Temp\\ipykernel_8168\\3155147829.py:20: FutureWarning: Series.__getitem__ treating keys as positions is deprecated. In a future version, integer keys will always be treated as labels (consistent with DataFrame behavior). To access a value by position, use `ser.iloc[pos]`\n",
      "  full_value = full_payments_value[group[\"order_id\"]][0]\n",
      "C:\\Users\\PW\\AppData\\Local\\Temp\\ipykernel_8168\\3155147829.py:20: FutureWarning: Series.__getitem__ treating keys as positions is deprecated. In a future version, integer keys will always be treated as labels (consistent with DataFrame behavior). To access a value by position, use `ser.iloc[pos]`\n",
      "  full_value = full_payments_value[group[\"order_id\"]][0]\n",
      "C:\\Users\\PW\\AppData\\Local\\Temp\\ipykernel_8168\\3155147829.py:20: FutureWarning: Series.__getitem__ treating keys as positions is deprecated. In a future version, integer keys will always be treated as labels (consistent with DataFrame behavior). To access a value by position, use `ser.iloc[pos]`\n",
      "  full_value = full_payments_value[group[\"order_id\"]][0]\n",
      "C:\\Users\\PW\\AppData\\Local\\Temp\\ipykernel_8168\\3155147829.py:20: FutureWarning: Series.__getitem__ treating keys as positions is deprecated. In a future version, integer keys will always be treated as labels (consistent with DataFrame behavior). To access a value by position, use `ser.iloc[pos]`\n",
      "  full_value = full_payments_value[group[\"order_id\"]][0]\n",
      "C:\\Users\\PW\\AppData\\Local\\Temp\\ipykernel_8168\\3155147829.py:20: FutureWarning: Series.__getitem__ treating keys as positions is deprecated. In a future version, integer keys will always be treated as labels (consistent with DataFrame behavior). To access a value by position, use `ser.iloc[pos]`\n",
      "  full_value = full_payments_value[group[\"order_id\"]][0]\n",
      "C:\\Users\\PW\\AppData\\Local\\Temp\\ipykernel_8168\\3155147829.py:20: FutureWarning: Series.__getitem__ treating keys as positions is deprecated. In a future version, integer keys will always be treated as labels (consistent with DataFrame behavior). To access a value by position, use `ser.iloc[pos]`\n",
      "  full_value = full_payments_value[group[\"order_id\"]][0]\n",
      "C:\\Users\\PW\\AppData\\Local\\Temp\\ipykernel_8168\\3155147829.py:20: FutureWarning: Series.__getitem__ treating keys as positions is deprecated. In a future version, integer keys will always be treated as labels (consistent with DataFrame behavior). To access a value by position, use `ser.iloc[pos]`\n",
      "  full_value = full_payments_value[group[\"order_id\"]][0]\n",
      "C:\\Users\\PW\\AppData\\Local\\Temp\\ipykernel_8168\\3155147829.py:20: FutureWarning: Series.__getitem__ treating keys as positions is deprecated. In a future version, integer keys will always be treated as labels (consistent with DataFrame behavior). To access a value by position, use `ser.iloc[pos]`\n",
      "  full_value = full_payments_value[group[\"order_id\"]][0]\n",
      "C:\\Users\\PW\\AppData\\Local\\Temp\\ipykernel_8168\\3155147829.py:20: FutureWarning: Series.__getitem__ treating keys as positions is deprecated. In a future version, integer keys will always be treated as labels (consistent with DataFrame behavior). To access a value by position, use `ser.iloc[pos]`\n",
      "  full_value = full_payments_value[group[\"order_id\"]][0]\n",
      "C:\\Users\\PW\\AppData\\Local\\Temp\\ipykernel_8168\\3155147829.py:20: FutureWarning: Series.__getitem__ treating keys as positions is deprecated. In a future version, integer keys will always be treated as labels (consistent with DataFrame behavior). To access a value by position, use `ser.iloc[pos]`\n",
      "  full_value = full_payments_value[group[\"order_id\"]][0]\n",
      "C:\\Users\\PW\\AppData\\Local\\Temp\\ipykernel_8168\\3155147829.py:20: FutureWarning: Series.__getitem__ treating keys as positions is deprecated. In a future version, integer keys will always be treated as labels (consistent with DataFrame behavior). To access a value by position, use `ser.iloc[pos]`\n",
      "  full_value = full_payments_value[group[\"order_id\"]][0]\n",
      "C:\\Users\\PW\\AppData\\Local\\Temp\\ipykernel_8168\\3155147829.py:20: FutureWarning: Series.__getitem__ treating keys as positions is deprecated. In a future version, integer keys will always be treated as labels (consistent with DataFrame behavior). To access a value by position, use `ser.iloc[pos]`\n",
      "  full_value = full_payments_value[group[\"order_id\"]][0]\n",
      "C:\\Users\\PW\\AppData\\Local\\Temp\\ipykernel_8168\\3155147829.py:20: FutureWarning: Series.__getitem__ treating keys as positions is deprecated. In a future version, integer keys will always be treated as labels (consistent with DataFrame behavior). To access a value by position, use `ser.iloc[pos]`\n",
      "  full_value = full_payments_value[group[\"order_id\"]][0]\n",
      "C:\\Users\\PW\\AppData\\Local\\Temp\\ipykernel_8168\\3155147829.py:20: FutureWarning: Series.__getitem__ treating keys as positions is deprecated. In a future version, integer keys will always be treated as labels (consistent with DataFrame behavior). To access a value by position, use `ser.iloc[pos]`\n",
      "  full_value = full_payments_value[group[\"order_id\"]][0]\n",
      "C:\\Users\\PW\\AppData\\Local\\Temp\\ipykernel_8168\\3155147829.py:20: FutureWarning: Series.__getitem__ treating keys as positions is deprecated. In a future version, integer keys will always be treated as labels (consistent with DataFrame behavior). To access a value by position, use `ser.iloc[pos]`\n",
      "  full_value = full_payments_value[group[\"order_id\"]][0]\n",
      "C:\\Users\\PW\\AppData\\Local\\Temp\\ipykernel_8168\\3155147829.py:20: FutureWarning: Series.__getitem__ treating keys as positions is deprecated. In a future version, integer keys will always be treated as labels (consistent with DataFrame behavior). To access a value by position, use `ser.iloc[pos]`\n",
      "  full_value = full_payments_value[group[\"order_id\"]][0]\n",
      "C:\\Users\\PW\\AppData\\Local\\Temp\\ipykernel_8168\\3155147829.py:20: FutureWarning: Series.__getitem__ treating keys as positions is deprecated. In a future version, integer keys will always be treated as labels (consistent with DataFrame behavior). To access a value by position, use `ser.iloc[pos]`\n",
      "  full_value = full_payments_value[group[\"order_id\"]][0]\n",
      "C:\\Users\\PW\\AppData\\Local\\Temp\\ipykernel_8168\\3155147829.py:20: FutureWarning: Series.__getitem__ treating keys as positions is deprecated. In a future version, integer keys will always be treated as labels (consistent with DataFrame behavior). To access a value by position, use `ser.iloc[pos]`\n",
      "  full_value = full_payments_value[group[\"order_id\"]][0]\n",
      "C:\\Users\\PW\\AppData\\Local\\Temp\\ipykernel_8168\\3155147829.py:20: FutureWarning: Series.__getitem__ treating keys as positions is deprecated. In a future version, integer keys will always be treated as labels (consistent with DataFrame behavior). To access a value by position, use `ser.iloc[pos]`\n",
      "  full_value = full_payments_value[group[\"order_id\"]][0]\n",
      "C:\\Users\\PW\\AppData\\Local\\Temp\\ipykernel_8168\\3155147829.py:20: FutureWarning: Series.__getitem__ treating keys as positions is deprecated. In a future version, integer keys will always be treated as labels (consistent with DataFrame behavior). To access a value by position, use `ser.iloc[pos]`\n",
      "  full_value = full_payments_value[group[\"order_id\"]][0]\n",
      "C:\\Users\\PW\\AppData\\Local\\Temp\\ipykernel_8168\\3155147829.py:20: FutureWarning: Series.__getitem__ treating keys as positions is deprecated. In a future version, integer keys will always be treated as labels (consistent with DataFrame behavior). To access a value by position, use `ser.iloc[pos]`\n",
      "  full_value = full_payments_value[group[\"order_id\"]][0]\n",
      "C:\\Users\\PW\\AppData\\Local\\Temp\\ipykernel_8168\\3155147829.py:20: FutureWarning: Series.__getitem__ treating keys as positions is deprecated. In a future version, integer keys will always be treated as labels (consistent with DataFrame behavior). To access a value by position, use `ser.iloc[pos]`\n",
      "  full_value = full_payments_value[group[\"order_id\"]][0]\n",
      "C:\\Users\\PW\\AppData\\Local\\Temp\\ipykernel_8168\\3155147829.py:20: FutureWarning: Series.__getitem__ treating keys as positions is deprecated. In a future version, integer keys will always be treated as labels (consistent with DataFrame behavior). To access a value by position, use `ser.iloc[pos]`\n",
      "  full_value = full_payments_value[group[\"order_id\"]][0]\n",
      "C:\\Users\\PW\\AppData\\Local\\Temp\\ipykernel_8168\\3155147829.py:20: FutureWarning: Series.__getitem__ treating keys as positions is deprecated. In a future version, integer keys will always be treated as labels (consistent with DataFrame behavior). To access a value by position, use `ser.iloc[pos]`\n",
      "  full_value = full_payments_value[group[\"order_id\"]][0]\n",
      "C:\\Users\\PW\\AppData\\Local\\Temp\\ipykernel_8168\\3155147829.py:20: FutureWarning: Series.__getitem__ treating keys as positions is deprecated. In a future version, integer keys will always be treated as labels (consistent with DataFrame behavior). To access a value by position, use `ser.iloc[pos]`\n",
      "  full_value = full_payments_value[group[\"order_id\"]][0]\n",
      "C:\\Users\\PW\\AppData\\Local\\Temp\\ipykernel_8168\\3155147829.py:20: FutureWarning: Series.__getitem__ treating keys as positions is deprecated. In a future version, integer keys will always be treated as labels (consistent with DataFrame behavior). To access a value by position, use `ser.iloc[pos]`\n",
      "  full_value = full_payments_value[group[\"order_id\"]][0]\n",
      "C:\\Users\\PW\\AppData\\Local\\Temp\\ipykernel_8168\\3155147829.py:20: FutureWarning: Series.__getitem__ treating keys as positions is deprecated. In a future version, integer keys will always be treated as labels (consistent with DataFrame behavior). To access a value by position, use `ser.iloc[pos]`\n",
      "  full_value = full_payments_value[group[\"order_id\"]][0]\n",
      "C:\\Users\\PW\\AppData\\Local\\Temp\\ipykernel_8168\\3155147829.py:20: FutureWarning: Series.__getitem__ treating keys as positions is deprecated. In a future version, integer keys will always be treated as labels (consistent with DataFrame behavior). To access a value by position, use `ser.iloc[pos]`\n",
      "  full_value = full_payments_value[group[\"order_id\"]][0]\n",
      "C:\\Users\\PW\\AppData\\Local\\Temp\\ipykernel_8168\\3155147829.py:20: FutureWarning: Series.__getitem__ treating keys as positions is deprecated. In a future version, integer keys will always be treated as labels (consistent with DataFrame behavior). To access a value by position, use `ser.iloc[pos]`\n",
      "  full_value = full_payments_value[group[\"order_id\"]][0]\n",
      "C:\\Users\\PW\\AppData\\Local\\Temp\\ipykernel_8168\\3155147829.py:20: FutureWarning: Series.__getitem__ treating keys as positions is deprecated. In a future version, integer keys will always be treated as labels (consistent with DataFrame behavior). To access a value by position, use `ser.iloc[pos]`\n",
      "  full_value = full_payments_value[group[\"order_id\"]][0]\n",
      "C:\\Users\\PW\\AppData\\Local\\Temp\\ipykernel_8168\\3155147829.py:20: FutureWarning: Series.__getitem__ treating keys as positions is deprecated. In a future version, integer keys will always be treated as labels (consistent with DataFrame behavior). To access a value by position, use `ser.iloc[pos]`\n",
      "  full_value = full_payments_value[group[\"order_id\"]][0]\n",
      "C:\\Users\\PW\\AppData\\Local\\Temp\\ipykernel_8168\\3155147829.py:20: FutureWarning: Series.__getitem__ treating keys as positions is deprecated. In a future version, integer keys will always be treated as labels (consistent with DataFrame behavior). To access a value by position, use `ser.iloc[pos]`\n",
      "  full_value = full_payments_value[group[\"order_id\"]][0]\n",
      "C:\\Users\\PW\\AppData\\Local\\Temp\\ipykernel_8168\\3155147829.py:20: FutureWarning: Series.__getitem__ treating keys as positions is deprecated. In a future version, integer keys will always be treated as labels (consistent with DataFrame behavior). To access a value by position, use `ser.iloc[pos]`\n",
      "  full_value = full_payments_value[group[\"order_id\"]][0]\n",
      "C:\\Users\\PW\\AppData\\Local\\Temp\\ipykernel_8168\\3155147829.py:20: FutureWarning: Series.__getitem__ treating keys as positions is deprecated. In a future version, integer keys will always be treated as labels (consistent with DataFrame behavior). To access a value by position, use `ser.iloc[pos]`\n",
      "  full_value = full_payments_value[group[\"order_id\"]][0]\n",
      "C:\\Users\\PW\\AppData\\Local\\Temp\\ipykernel_8168\\3155147829.py:20: FutureWarning: Series.__getitem__ treating keys as positions is deprecated. In a future version, integer keys will always be treated as labels (consistent with DataFrame behavior). To access a value by position, use `ser.iloc[pos]`\n",
      "  full_value = full_payments_value[group[\"order_id\"]][0]\n",
      "C:\\Users\\PW\\AppData\\Local\\Temp\\ipykernel_8168\\3155147829.py:20: FutureWarning: Series.__getitem__ treating keys as positions is deprecated. In a future version, integer keys will always be treated as labels (consistent with DataFrame behavior). To access a value by position, use `ser.iloc[pos]`\n",
      "  full_value = full_payments_value[group[\"order_id\"]][0]\n",
      "C:\\Users\\PW\\AppData\\Local\\Temp\\ipykernel_8168\\3155147829.py:20: FutureWarning: Series.__getitem__ treating keys as positions is deprecated. In a future version, integer keys will always be treated as labels (consistent with DataFrame behavior). To access a value by position, use `ser.iloc[pos]`\n",
      "  full_value = full_payments_value[group[\"order_id\"]][0]\n",
      "C:\\Users\\PW\\AppData\\Local\\Temp\\ipykernel_8168\\3155147829.py:20: FutureWarning: Series.__getitem__ treating keys as positions is deprecated. In a future version, integer keys will always be treated as labels (consistent with DataFrame behavior). To access a value by position, use `ser.iloc[pos]`\n",
      "  full_value = full_payments_value[group[\"order_id\"]][0]\n",
      "C:\\Users\\PW\\AppData\\Local\\Temp\\ipykernel_8168\\3155147829.py:20: FutureWarning: Series.__getitem__ treating keys as positions is deprecated. In a future version, integer keys will always be treated as labels (consistent with DataFrame behavior). To access a value by position, use `ser.iloc[pos]`\n",
      "  full_value = full_payments_value[group[\"order_id\"]][0]\n",
      "C:\\Users\\PW\\AppData\\Local\\Temp\\ipykernel_8168\\3155147829.py:20: FutureWarning: Series.__getitem__ treating keys as positions is deprecated. In a future version, integer keys will always be treated as labels (consistent with DataFrame behavior). To access a value by position, use `ser.iloc[pos]`\n",
      "  full_value = full_payments_value[group[\"order_id\"]][0]\n",
      "C:\\Users\\PW\\AppData\\Local\\Temp\\ipykernel_8168\\3155147829.py:20: FutureWarning: Series.__getitem__ treating keys as positions is deprecated. In a future version, integer keys will always be treated as labels (consistent with DataFrame behavior). To access a value by position, use `ser.iloc[pos]`\n",
      "  full_value = full_payments_value[group[\"order_id\"]][0]\n",
      "C:\\Users\\PW\\AppData\\Local\\Temp\\ipykernel_8168\\3155147829.py:20: FutureWarning: Series.__getitem__ treating keys as positions is deprecated. In a future version, integer keys will always be treated as labels (consistent with DataFrame behavior). To access a value by position, use `ser.iloc[pos]`\n",
      "  full_value = full_payments_value[group[\"order_id\"]][0]\n",
      "C:\\Users\\PW\\AppData\\Local\\Temp\\ipykernel_8168\\3155147829.py:20: FutureWarning: Series.__getitem__ treating keys as positions is deprecated. In a future version, integer keys will always be treated as labels (consistent with DataFrame behavior). To access a value by position, use `ser.iloc[pos]`\n",
      "  full_value = full_payments_value[group[\"order_id\"]][0]\n",
      "C:\\Users\\PW\\AppData\\Local\\Temp\\ipykernel_8168\\3155147829.py:20: FutureWarning: Series.__getitem__ treating keys as positions is deprecated. In a future version, integer keys will always be treated as labels (consistent with DataFrame behavior). To access a value by position, use `ser.iloc[pos]`\n",
      "  full_value = full_payments_value[group[\"order_id\"]][0]\n",
      "C:\\Users\\PW\\AppData\\Local\\Temp\\ipykernel_8168\\3155147829.py:20: FutureWarning: Series.__getitem__ treating keys as positions is deprecated. In a future version, integer keys will always be treated as labels (consistent with DataFrame behavior). To access a value by position, use `ser.iloc[pos]`\n",
      "  full_value = full_payments_value[group[\"order_id\"]][0]\n",
      "C:\\Users\\PW\\AppData\\Local\\Temp\\ipykernel_8168\\3155147829.py:20: FutureWarning: Series.__getitem__ treating keys as positions is deprecated. In a future version, integer keys will always be treated as labels (consistent with DataFrame behavior). To access a value by position, use `ser.iloc[pos]`\n",
      "  full_value = full_payments_value[group[\"order_id\"]][0]\n",
      "C:\\Users\\PW\\AppData\\Local\\Temp\\ipykernel_8168\\3155147829.py:20: FutureWarning: Series.__getitem__ treating keys as positions is deprecated. In a future version, integer keys will always be treated as labels (consistent with DataFrame behavior). To access a value by position, use `ser.iloc[pos]`\n",
      "  full_value = full_payments_value[group[\"order_id\"]][0]\n",
      "C:\\Users\\PW\\AppData\\Local\\Temp\\ipykernel_8168\\3155147829.py:20: FutureWarning: Series.__getitem__ treating keys as positions is deprecated. In a future version, integer keys will always be treated as labels (consistent with DataFrame behavior). To access a value by position, use `ser.iloc[pos]`\n",
      "  full_value = full_payments_value[group[\"order_id\"]][0]\n",
      "C:\\Users\\PW\\AppData\\Local\\Temp\\ipykernel_8168\\3155147829.py:20: FutureWarning: Series.__getitem__ treating keys as positions is deprecated. In a future version, integer keys will always be treated as labels (consistent with DataFrame behavior). To access a value by position, use `ser.iloc[pos]`\n",
      "  full_value = full_payments_value[group[\"order_id\"]][0]\n",
      "C:\\Users\\PW\\AppData\\Local\\Temp\\ipykernel_8168\\3155147829.py:20: FutureWarning: Series.__getitem__ treating keys as positions is deprecated. In a future version, integer keys will always be treated as labels (consistent with DataFrame behavior). To access a value by position, use `ser.iloc[pos]`\n",
      "  full_value = full_payments_value[group[\"order_id\"]][0]\n",
      "C:\\Users\\PW\\AppData\\Local\\Temp\\ipykernel_8168\\3155147829.py:20: FutureWarning: Series.__getitem__ treating keys as positions is deprecated. In a future version, integer keys will always be treated as labels (consistent with DataFrame behavior). To access a value by position, use `ser.iloc[pos]`\n",
      "  full_value = full_payments_value[group[\"order_id\"]][0]\n",
      "C:\\Users\\PW\\AppData\\Local\\Temp\\ipykernel_8168\\3155147829.py:20: FutureWarning: Series.__getitem__ treating keys as positions is deprecated. In a future version, integer keys will always be treated as labels (consistent with DataFrame behavior). To access a value by position, use `ser.iloc[pos]`\n",
      "  full_value = full_payments_value[group[\"order_id\"]][0]\n",
      "C:\\Users\\PW\\AppData\\Local\\Temp\\ipykernel_8168\\3155147829.py:20: FutureWarning: Series.__getitem__ treating keys as positions is deprecated. In a future version, integer keys will always be treated as labels (consistent with DataFrame behavior). To access a value by position, use `ser.iloc[pos]`\n",
      "  full_value = full_payments_value[group[\"order_id\"]][0]\n",
      "C:\\Users\\PW\\AppData\\Local\\Temp\\ipykernel_8168\\3155147829.py:20: FutureWarning: Series.__getitem__ treating keys as positions is deprecated. In a future version, integer keys will always be treated as labels (consistent with DataFrame behavior). To access a value by position, use `ser.iloc[pos]`\n",
      "  full_value = full_payments_value[group[\"order_id\"]][0]\n",
      "C:\\Users\\PW\\AppData\\Local\\Temp\\ipykernel_8168\\3155147829.py:20: FutureWarning: Series.__getitem__ treating keys as positions is deprecated. In a future version, integer keys will always be treated as labels (consistent with DataFrame behavior). To access a value by position, use `ser.iloc[pos]`\n",
      "  full_value = full_payments_value[group[\"order_id\"]][0]\n",
      "C:\\Users\\PW\\AppData\\Local\\Temp\\ipykernel_8168\\3155147829.py:20: FutureWarning: Series.__getitem__ treating keys as positions is deprecated. In a future version, integer keys will always be treated as labels (consistent with DataFrame behavior). To access a value by position, use `ser.iloc[pos]`\n",
      "  full_value = full_payments_value[group[\"order_id\"]][0]\n",
      "C:\\Users\\PW\\AppData\\Local\\Temp\\ipykernel_8168\\3155147829.py:20: FutureWarning: Series.__getitem__ treating keys as positions is deprecated. In a future version, integer keys will always be treated as labels (consistent with DataFrame behavior). To access a value by position, use `ser.iloc[pos]`\n",
      "  full_value = full_payments_value[group[\"order_id\"]][0]\n",
      "C:\\Users\\PW\\AppData\\Local\\Temp\\ipykernel_8168\\3155147829.py:20: FutureWarning: Series.__getitem__ treating keys as positions is deprecated. In a future version, integer keys will always be treated as labels (consistent with DataFrame behavior). To access a value by position, use `ser.iloc[pos]`\n",
      "  full_value = full_payments_value[group[\"order_id\"]][0]\n",
      "C:\\Users\\PW\\AppData\\Local\\Temp\\ipykernel_8168\\3155147829.py:20: FutureWarning: Series.__getitem__ treating keys as positions is deprecated. In a future version, integer keys will always be treated as labels (consistent with DataFrame behavior). To access a value by position, use `ser.iloc[pos]`\n",
      "  full_value = full_payments_value[group[\"order_id\"]][0]\n",
      "C:\\Users\\PW\\AppData\\Local\\Temp\\ipykernel_8168\\3155147829.py:20: FutureWarning: Series.__getitem__ treating keys as positions is deprecated. In a future version, integer keys will always be treated as labels (consistent with DataFrame behavior). To access a value by position, use `ser.iloc[pos]`\n",
      "  full_value = full_payments_value[group[\"order_id\"]][0]\n",
      "C:\\Users\\PW\\AppData\\Local\\Temp\\ipykernel_8168\\3155147829.py:20: FutureWarning: Series.__getitem__ treating keys as positions is deprecated. In a future version, integer keys will always be treated as labels (consistent with DataFrame behavior). To access a value by position, use `ser.iloc[pos]`\n",
      "  full_value = full_payments_value[group[\"order_id\"]][0]\n",
      "C:\\Users\\PW\\AppData\\Local\\Temp\\ipykernel_8168\\3155147829.py:20: FutureWarning: Series.__getitem__ treating keys as positions is deprecated. In a future version, integer keys will always be treated as labels (consistent with DataFrame behavior). To access a value by position, use `ser.iloc[pos]`\n",
      "  full_value = full_payments_value[group[\"order_id\"]][0]\n",
      "C:\\Users\\PW\\AppData\\Local\\Temp\\ipykernel_8168\\3155147829.py:20: FutureWarning: Series.__getitem__ treating keys as positions is deprecated. In a future version, integer keys will always be treated as labels (consistent with DataFrame behavior). To access a value by position, use `ser.iloc[pos]`\n",
      "  full_value = full_payments_value[group[\"order_id\"]][0]\n",
      "C:\\Users\\PW\\AppData\\Local\\Temp\\ipykernel_8168\\3155147829.py:20: FutureWarning: Series.__getitem__ treating keys as positions is deprecated. In a future version, integer keys will always be treated as labels (consistent with DataFrame behavior). To access a value by position, use `ser.iloc[pos]`\n",
      "  full_value = full_payments_value[group[\"order_id\"]][0]\n",
      "C:\\Users\\PW\\AppData\\Local\\Temp\\ipykernel_8168\\3155147829.py:20: FutureWarning: Series.__getitem__ treating keys as positions is deprecated. In a future version, integer keys will always be treated as labels (consistent with DataFrame behavior). To access a value by position, use `ser.iloc[pos]`\n",
      "  full_value = full_payments_value[group[\"order_id\"]][0]\n",
      "C:\\Users\\PW\\AppData\\Local\\Temp\\ipykernel_8168\\3155147829.py:20: FutureWarning: Series.__getitem__ treating keys as positions is deprecated. In a future version, integer keys will always be treated as labels (consistent with DataFrame behavior). To access a value by position, use `ser.iloc[pos]`\n",
      "  full_value = full_payments_value[group[\"order_id\"]][0]\n",
      "C:\\Users\\PW\\AppData\\Local\\Temp\\ipykernel_8168\\3155147829.py:20: FutureWarning: Series.__getitem__ treating keys as positions is deprecated. In a future version, integer keys will always be treated as labels (consistent with DataFrame behavior). To access a value by position, use `ser.iloc[pos]`\n",
      "  full_value = full_payments_value[group[\"order_id\"]][0]\n",
      "C:\\Users\\PW\\AppData\\Local\\Temp\\ipykernel_8168\\3155147829.py:20: FutureWarning: Series.__getitem__ treating keys as positions is deprecated. In a future version, integer keys will always be treated as labels (consistent with DataFrame behavior). To access a value by position, use `ser.iloc[pos]`\n",
      "  full_value = full_payments_value[group[\"order_id\"]][0]\n",
      "C:\\Users\\PW\\AppData\\Local\\Temp\\ipykernel_8168\\3155147829.py:20: FutureWarning: Series.__getitem__ treating keys as positions is deprecated. In a future version, integer keys will always be treated as labels (consistent with DataFrame behavior). To access a value by position, use `ser.iloc[pos]`\n",
      "  full_value = full_payments_value[group[\"order_id\"]][0]\n",
      "C:\\Users\\PW\\AppData\\Local\\Temp\\ipykernel_8168\\3155147829.py:20: FutureWarning: Series.__getitem__ treating keys as positions is deprecated. In a future version, integer keys will always be treated as labels (consistent with DataFrame behavior). To access a value by position, use `ser.iloc[pos]`\n",
      "  full_value = full_payments_value[group[\"order_id\"]][0]\n",
      "C:\\Users\\PW\\AppData\\Local\\Temp\\ipykernel_8168\\3155147829.py:20: FutureWarning: Series.__getitem__ treating keys as positions is deprecated. In a future version, integer keys will always be treated as labels (consistent with DataFrame behavior). To access a value by position, use `ser.iloc[pos]`\n",
      "  full_value = full_payments_value[group[\"order_id\"]][0]\n",
      "C:\\Users\\PW\\AppData\\Local\\Temp\\ipykernel_8168\\3155147829.py:20: FutureWarning: Series.__getitem__ treating keys as positions is deprecated. In a future version, integer keys will always be treated as labels (consistent with DataFrame behavior). To access a value by position, use `ser.iloc[pos]`\n",
      "  full_value = full_payments_value[group[\"order_id\"]][0]\n",
      "C:\\Users\\PW\\AppData\\Local\\Temp\\ipykernel_8168\\3155147829.py:20: FutureWarning: Series.__getitem__ treating keys as positions is deprecated. In a future version, integer keys will always be treated as labels (consistent with DataFrame behavior). To access a value by position, use `ser.iloc[pos]`\n",
      "  full_value = full_payments_value[group[\"order_id\"]][0]\n",
      "C:\\Users\\PW\\AppData\\Local\\Temp\\ipykernel_8168\\3155147829.py:20: FutureWarning: Series.__getitem__ treating keys as positions is deprecated. In a future version, integer keys will always be treated as labels (consistent with DataFrame behavior). To access a value by position, use `ser.iloc[pos]`\n",
      "  full_value = full_payments_value[group[\"order_id\"]][0]\n",
      "C:\\Users\\PW\\AppData\\Local\\Temp\\ipykernel_8168\\3155147829.py:20: FutureWarning: Series.__getitem__ treating keys as positions is deprecated. In a future version, integer keys will always be treated as labels (consistent with DataFrame behavior). To access a value by position, use `ser.iloc[pos]`\n",
      "  full_value = full_payments_value[group[\"order_id\"]][0]\n",
      "C:\\Users\\PW\\AppData\\Local\\Temp\\ipykernel_8168\\3155147829.py:20: FutureWarning: Series.__getitem__ treating keys as positions is deprecated. In a future version, integer keys will always be treated as labels (consistent with DataFrame behavior). To access a value by position, use `ser.iloc[pos]`\n",
      "  full_value = full_payments_value[group[\"order_id\"]][0]\n",
      "C:\\Users\\PW\\AppData\\Local\\Temp\\ipykernel_8168\\3155147829.py:20: FutureWarning: Series.__getitem__ treating keys as positions is deprecated. In a future version, integer keys will always be treated as labels (consistent with DataFrame behavior). To access a value by position, use `ser.iloc[pos]`\n",
      "  full_value = full_payments_value[group[\"order_id\"]][0]\n",
      "C:\\Users\\PW\\AppData\\Local\\Temp\\ipykernel_8168\\3155147829.py:20: FutureWarning: Series.__getitem__ treating keys as positions is deprecated. In a future version, integer keys will always be treated as labels (consistent with DataFrame behavior). To access a value by position, use `ser.iloc[pos]`\n",
      "  full_value = full_payments_value[group[\"order_id\"]][0]\n",
      "C:\\Users\\PW\\AppData\\Local\\Temp\\ipykernel_8168\\3155147829.py:20: FutureWarning: Series.__getitem__ treating keys as positions is deprecated. In a future version, integer keys will always be treated as labels (consistent with DataFrame behavior). To access a value by position, use `ser.iloc[pos]`\n",
      "  full_value = full_payments_value[group[\"order_id\"]][0]\n",
      "C:\\Users\\PW\\AppData\\Local\\Temp\\ipykernel_8168\\3155147829.py:20: FutureWarning: Series.__getitem__ treating keys as positions is deprecated. In a future version, integer keys will always be treated as labels (consistent with DataFrame behavior). To access a value by position, use `ser.iloc[pos]`\n",
      "  full_value = full_payments_value[group[\"order_id\"]][0]\n",
      "C:\\Users\\PW\\AppData\\Local\\Temp\\ipykernel_8168\\3155147829.py:20: FutureWarning: Series.__getitem__ treating keys as positions is deprecated. In a future version, integer keys will always be treated as labels (consistent with DataFrame behavior). To access a value by position, use `ser.iloc[pos]`\n",
      "  full_value = full_payments_value[group[\"order_id\"]][0]\n",
      "C:\\Users\\PW\\AppData\\Local\\Temp\\ipykernel_8168\\3155147829.py:20: FutureWarning: Series.__getitem__ treating keys as positions is deprecated. In a future version, integer keys will always be treated as labels (consistent with DataFrame behavior). To access a value by position, use `ser.iloc[pos]`\n",
      "  full_value = full_payments_value[group[\"order_id\"]][0]\n",
      "C:\\Users\\PW\\AppData\\Local\\Temp\\ipykernel_8168\\3155147829.py:20: FutureWarning: Series.__getitem__ treating keys as positions is deprecated. In a future version, integer keys will always be treated as labels (consistent with DataFrame behavior). To access a value by position, use `ser.iloc[pos]`\n",
      "  full_value = full_payments_value[group[\"order_id\"]][0]\n",
      "C:\\Users\\PW\\AppData\\Local\\Temp\\ipykernel_8168\\3155147829.py:20: FutureWarning: Series.__getitem__ treating keys as positions is deprecated. In a future version, integer keys will always be treated as labels (consistent with DataFrame behavior). To access a value by position, use `ser.iloc[pos]`\n",
      "  full_value = full_payments_value[group[\"order_id\"]][0]\n",
      "C:\\Users\\PW\\AppData\\Local\\Temp\\ipykernel_8168\\3155147829.py:20: FutureWarning: Series.__getitem__ treating keys as positions is deprecated. In a future version, integer keys will always be treated as labels (consistent with DataFrame behavior). To access a value by position, use `ser.iloc[pos]`\n",
      "  full_value = full_payments_value[group[\"order_id\"]][0]\n",
      "C:\\Users\\PW\\AppData\\Local\\Temp\\ipykernel_8168\\3155147829.py:20: FutureWarning: Series.__getitem__ treating keys as positions is deprecated. In a future version, integer keys will always be treated as labels (consistent with DataFrame behavior). To access a value by position, use `ser.iloc[pos]`\n",
      "  full_value = full_payments_value[group[\"order_id\"]][0]\n",
      "C:\\Users\\PW\\AppData\\Local\\Temp\\ipykernel_8168\\3155147829.py:20: FutureWarning: Series.__getitem__ treating keys as positions is deprecated. In a future version, integer keys will always be treated as labels (consistent with DataFrame behavior). To access a value by position, use `ser.iloc[pos]`\n",
      "  full_value = full_payments_value[group[\"order_id\"]][0]\n",
      "C:\\Users\\PW\\AppData\\Local\\Temp\\ipykernel_8168\\3155147829.py:20: FutureWarning: Series.__getitem__ treating keys as positions is deprecated. In a future version, integer keys will always be treated as labels (consistent with DataFrame behavior). To access a value by position, use `ser.iloc[pos]`\n",
      "  full_value = full_payments_value[group[\"order_id\"]][0]\n",
      "C:\\Users\\PW\\AppData\\Local\\Temp\\ipykernel_8168\\3155147829.py:20: FutureWarning: Series.__getitem__ treating keys as positions is deprecated. In a future version, integer keys will always be treated as labels (consistent with DataFrame behavior). To access a value by position, use `ser.iloc[pos]`\n",
      "  full_value = full_payments_value[group[\"order_id\"]][0]\n",
      "C:\\Users\\PW\\AppData\\Local\\Temp\\ipykernel_8168\\3155147829.py:20: FutureWarning: Series.__getitem__ treating keys as positions is deprecated. In a future version, integer keys will always be treated as labels (consistent with DataFrame behavior). To access a value by position, use `ser.iloc[pos]`\n",
      "  full_value = full_payments_value[group[\"order_id\"]][0]\n",
      "C:\\Users\\PW\\AppData\\Local\\Temp\\ipykernel_8168\\3155147829.py:20: FutureWarning: Series.__getitem__ treating keys as positions is deprecated. In a future version, integer keys will always be treated as labels (consistent with DataFrame behavior). To access a value by position, use `ser.iloc[pos]`\n",
      "  full_value = full_payments_value[group[\"order_id\"]][0]\n",
      "C:\\Users\\PW\\AppData\\Local\\Temp\\ipykernel_8168\\3155147829.py:20: FutureWarning: Series.__getitem__ treating keys as positions is deprecated. In a future version, integer keys will always be treated as labels (consistent with DataFrame behavior). To access a value by position, use `ser.iloc[pos]`\n",
      "  full_value = full_payments_value[group[\"order_id\"]][0]\n",
      "C:\\Users\\PW\\AppData\\Local\\Temp\\ipykernel_8168\\3155147829.py:20: FutureWarning: Series.__getitem__ treating keys as positions is deprecated. In a future version, integer keys will always be treated as labels (consistent with DataFrame behavior). To access a value by position, use `ser.iloc[pos]`\n",
      "  full_value = full_payments_value[group[\"order_id\"]][0]\n",
      "C:\\Users\\PW\\AppData\\Local\\Temp\\ipykernel_8168\\3155147829.py:20: FutureWarning: Series.__getitem__ treating keys as positions is deprecated. In a future version, integer keys will always be treated as labels (consistent with DataFrame behavior). To access a value by position, use `ser.iloc[pos]`\n",
      "  full_value = full_payments_value[group[\"order_id\"]][0]\n",
      "C:\\Users\\PW\\AppData\\Local\\Temp\\ipykernel_8168\\3155147829.py:20: FutureWarning: Series.__getitem__ treating keys as positions is deprecated. In a future version, integer keys will always be treated as labels (consistent with DataFrame behavior). To access a value by position, use `ser.iloc[pos]`\n",
      "  full_value = full_payments_value[group[\"order_id\"]][0]\n",
      "C:\\Users\\PW\\AppData\\Local\\Temp\\ipykernel_8168\\3155147829.py:20: FutureWarning: Series.__getitem__ treating keys as positions is deprecated. In a future version, integer keys will always be treated as labels (consistent with DataFrame behavior). To access a value by position, use `ser.iloc[pos]`\n",
      "  full_value = full_payments_value[group[\"order_id\"]][0]\n",
      "C:\\Users\\PW\\AppData\\Local\\Temp\\ipykernel_8168\\3155147829.py:20: FutureWarning: Series.__getitem__ treating keys as positions is deprecated. In a future version, integer keys will always be treated as labels (consistent with DataFrame behavior). To access a value by position, use `ser.iloc[pos]`\n",
      "  full_value = full_payments_value[group[\"order_id\"]][0]\n",
      "C:\\Users\\PW\\AppData\\Local\\Temp\\ipykernel_8168\\3155147829.py:20: FutureWarning: Series.__getitem__ treating keys as positions is deprecated. In a future version, integer keys will always be treated as labels (consistent with DataFrame behavior). To access a value by position, use `ser.iloc[pos]`\n",
      "  full_value = full_payments_value[group[\"order_id\"]][0]\n",
      "C:\\Users\\PW\\AppData\\Local\\Temp\\ipykernel_8168\\3155147829.py:20: FutureWarning: Series.__getitem__ treating keys as positions is deprecated. In a future version, integer keys will always be treated as labels (consistent with DataFrame behavior). To access a value by position, use `ser.iloc[pos]`\n",
      "  full_value = full_payments_value[group[\"order_id\"]][0]\n",
      "C:\\Users\\PW\\AppData\\Local\\Temp\\ipykernel_8168\\3155147829.py:20: FutureWarning: Series.__getitem__ treating keys as positions is deprecated. In a future version, integer keys will always be treated as labels (consistent with DataFrame behavior). To access a value by position, use `ser.iloc[pos]`\n",
      "  full_value = full_payments_value[group[\"order_id\"]][0]\n",
      "C:\\Users\\PW\\AppData\\Local\\Temp\\ipykernel_8168\\3155147829.py:20: FutureWarning: Series.__getitem__ treating keys as positions is deprecated. In a future version, integer keys will always be treated as labels (consistent with DataFrame behavior). To access a value by position, use `ser.iloc[pos]`\n",
      "  full_value = full_payments_value[group[\"order_id\"]][0]\n",
      "C:\\Users\\PW\\AppData\\Local\\Temp\\ipykernel_8168\\3155147829.py:20: FutureWarning: Series.__getitem__ treating keys as positions is deprecated. In a future version, integer keys will always be treated as labels (consistent with DataFrame behavior). To access a value by position, use `ser.iloc[pos]`\n",
      "  full_value = full_payments_value[group[\"order_id\"]][0]\n",
      "C:\\Users\\PW\\AppData\\Local\\Temp\\ipykernel_8168\\3155147829.py:20: FutureWarning: Series.__getitem__ treating keys as positions is deprecated. In a future version, integer keys will always be treated as labels (consistent with DataFrame behavior). To access a value by position, use `ser.iloc[pos]`\n",
      "  full_value = full_payments_value[group[\"order_id\"]][0]\n",
      "C:\\Users\\PW\\AppData\\Local\\Temp\\ipykernel_8168\\3155147829.py:20: FutureWarning: Series.__getitem__ treating keys as positions is deprecated. In a future version, integer keys will always be treated as labels (consistent with DataFrame behavior). To access a value by position, use `ser.iloc[pos]`\n",
      "  full_value = full_payments_value[group[\"order_id\"]][0]\n",
      "C:\\Users\\PW\\AppData\\Local\\Temp\\ipykernel_8168\\3155147829.py:20: FutureWarning: Series.__getitem__ treating keys as positions is deprecated. In a future version, integer keys will always be treated as labels (consistent with DataFrame behavior). To access a value by position, use `ser.iloc[pos]`\n",
      "  full_value = full_payments_value[group[\"order_id\"]][0]\n",
      "C:\\Users\\PW\\AppData\\Local\\Temp\\ipykernel_8168\\3155147829.py:20: FutureWarning: Series.__getitem__ treating keys as positions is deprecated. In a future version, integer keys will always be treated as labels (consistent with DataFrame behavior). To access a value by position, use `ser.iloc[pos]`\n",
      "  full_value = full_payments_value[group[\"order_id\"]][0]\n",
      "C:\\Users\\PW\\AppData\\Local\\Temp\\ipykernel_8168\\3155147829.py:20: FutureWarning: Series.__getitem__ treating keys as positions is deprecated. In a future version, integer keys will always be treated as labels (consistent with DataFrame behavior). To access a value by position, use `ser.iloc[pos]`\n",
      "  full_value = full_payments_value[group[\"order_id\"]][0]\n",
      "C:\\Users\\PW\\AppData\\Local\\Temp\\ipykernel_8168\\3155147829.py:20: FutureWarning: Series.__getitem__ treating keys as positions is deprecated. In a future version, integer keys will always be treated as labels (consistent with DataFrame behavior). To access a value by position, use `ser.iloc[pos]`\n",
      "  full_value = full_payments_value[group[\"order_id\"]][0]\n",
      "C:\\Users\\PW\\AppData\\Local\\Temp\\ipykernel_8168\\3155147829.py:20: FutureWarning: Series.__getitem__ treating keys as positions is deprecated. In a future version, integer keys will always be treated as labels (consistent with DataFrame behavior). To access a value by position, use `ser.iloc[pos]`\n",
      "  full_value = full_payments_value[group[\"order_id\"]][0]\n",
      "C:\\Users\\PW\\AppData\\Local\\Temp\\ipykernel_8168\\3155147829.py:20: FutureWarning: Series.__getitem__ treating keys as positions is deprecated. In a future version, integer keys will always be treated as labels (consistent with DataFrame behavior). To access a value by position, use `ser.iloc[pos]`\n",
      "  full_value = full_payments_value[group[\"order_id\"]][0]\n",
      "C:\\Users\\PW\\AppData\\Local\\Temp\\ipykernel_8168\\3155147829.py:20: FutureWarning: Series.__getitem__ treating keys as positions is deprecated. In a future version, integer keys will always be treated as labels (consistent with DataFrame behavior). To access a value by position, use `ser.iloc[pos]`\n",
      "  full_value = full_payments_value[group[\"order_id\"]][0]\n",
      "C:\\Users\\PW\\AppData\\Local\\Temp\\ipykernel_8168\\3155147829.py:20: FutureWarning: Series.__getitem__ treating keys as positions is deprecated. In a future version, integer keys will always be treated as labels (consistent with DataFrame behavior). To access a value by position, use `ser.iloc[pos]`\n",
      "  full_value = full_payments_value[group[\"order_id\"]][0]\n",
      "C:\\Users\\PW\\AppData\\Local\\Temp\\ipykernel_8168\\3155147829.py:20: FutureWarning: Series.__getitem__ treating keys as positions is deprecated. In a future version, integer keys will always be treated as labels (consistent with DataFrame behavior). To access a value by position, use `ser.iloc[pos]`\n",
      "  full_value = full_payments_value[group[\"order_id\"]][0]\n",
      "C:\\Users\\PW\\AppData\\Local\\Temp\\ipykernel_8168\\3155147829.py:20: FutureWarning: Series.__getitem__ treating keys as positions is deprecated. In a future version, integer keys will always be treated as labels (consistent with DataFrame behavior). To access a value by position, use `ser.iloc[pos]`\n",
      "  full_value = full_payments_value[group[\"order_id\"]][0]\n",
      "C:\\Users\\PW\\AppData\\Local\\Temp\\ipykernel_8168\\3155147829.py:20: FutureWarning: Series.__getitem__ treating keys as positions is deprecated. In a future version, integer keys will always be treated as labels (consistent with DataFrame behavior). To access a value by position, use `ser.iloc[pos]`\n",
      "  full_value = full_payments_value[group[\"order_id\"]][0]\n",
      "C:\\Users\\PW\\AppData\\Local\\Temp\\ipykernel_8168\\3155147829.py:20: FutureWarning: Series.__getitem__ treating keys as positions is deprecated. In a future version, integer keys will always be treated as labels (consistent with DataFrame behavior). To access a value by position, use `ser.iloc[pos]`\n",
      "  full_value = full_payments_value[group[\"order_id\"]][0]\n",
      "C:\\Users\\PW\\AppData\\Local\\Temp\\ipykernel_8168\\3155147829.py:20: FutureWarning: Series.__getitem__ treating keys as positions is deprecated. In a future version, integer keys will always be treated as labels (consistent with DataFrame behavior). To access a value by position, use `ser.iloc[pos]`\n",
      "  full_value = full_payments_value[group[\"order_id\"]][0]\n",
      "C:\\Users\\PW\\AppData\\Local\\Temp\\ipykernel_8168\\3155147829.py:20: FutureWarning: Series.__getitem__ treating keys as positions is deprecated. In a future version, integer keys will always be treated as labels (consistent with DataFrame behavior). To access a value by position, use `ser.iloc[pos]`\n",
      "  full_value = full_payments_value[group[\"order_id\"]][0]\n",
      "C:\\Users\\PW\\AppData\\Local\\Temp\\ipykernel_8168\\3155147829.py:20: FutureWarning: Series.__getitem__ treating keys as positions is deprecated. In a future version, integer keys will always be treated as labels (consistent with DataFrame behavior). To access a value by position, use `ser.iloc[pos]`\n",
      "  full_value = full_payments_value[group[\"order_id\"]][0]\n",
      "C:\\Users\\PW\\AppData\\Local\\Temp\\ipykernel_8168\\3155147829.py:20: FutureWarning: Series.__getitem__ treating keys as positions is deprecated. In a future version, integer keys will always be treated as labels (consistent with DataFrame behavior). To access a value by position, use `ser.iloc[pos]`\n",
      "  full_value = full_payments_value[group[\"order_id\"]][0]\n",
      "C:\\Users\\PW\\AppData\\Local\\Temp\\ipykernel_8168\\3155147829.py:20: FutureWarning: Series.__getitem__ treating keys as positions is deprecated. In a future version, integer keys will always be treated as labels (consistent with DataFrame behavior). To access a value by position, use `ser.iloc[pos]`\n",
      "  full_value = full_payments_value[group[\"order_id\"]][0]\n",
      "C:\\Users\\PW\\AppData\\Local\\Temp\\ipykernel_8168\\3155147829.py:20: FutureWarning: Series.__getitem__ treating keys as positions is deprecated. In a future version, integer keys will always be treated as labels (consistent with DataFrame behavior). To access a value by position, use `ser.iloc[pos]`\n",
      "  full_value = full_payments_value[group[\"order_id\"]][0]\n",
      "C:\\Users\\PW\\AppData\\Local\\Temp\\ipykernel_8168\\3155147829.py:20: FutureWarning: Series.__getitem__ treating keys as positions is deprecated. In a future version, integer keys will always be treated as labels (consistent with DataFrame behavior). To access a value by position, use `ser.iloc[pos]`\n",
      "  full_value = full_payments_value[group[\"order_id\"]][0]\n",
      "C:\\Users\\PW\\AppData\\Local\\Temp\\ipykernel_8168\\3155147829.py:20: FutureWarning: Series.__getitem__ treating keys as positions is deprecated. In a future version, integer keys will always be treated as labels (consistent with DataFrame behavior). To access a value by position, use `ser.iloc[pos]`\n",
      "  full_value = full_payments_value[group[\"order_id\"]][0]\n",
      "C:\\Users\\PW\\AppData\\Local\\Temp\\ipykernel_8168\\3155147829.py:20: FutureWarning: Series.__getitem__ treating keys as positions is deprecated. In a future version, integer keys will always be treated as labels (consistent with DataFrame behavior). To access a value by position, use `ser.iloc[pos]`\n",
      "  full_value = full_payments_value[group[\"order_id\"]][0]\n",
      "C:\\Users\\PW\\AppData\\Local\\Temp\\ipykernel_8168\\3155147829.py:20: FutureWarning: Series.__getitem__ treating keys as positions is deprecated. In a future version, integer keys will always be treated as labels (consistent with DataFrame behavior). To access a value by position, use `ser.iloc[pos]`\n",
      "  full_value = full_payments_value[group[\"order_id\"]][0]\n",
      "C:\\Users\\PW\\AppData\\Local\\Temp\\ipykernel_8168\\3155147829.py:20: FutureWarning: Series.__getitem__ treating keys as positions is deprecated. In a future version, integer keys will always be treated as labels (consistent with DataFrame behavior). To access a value by position, use `ser.iloc[pos]`\n",
      "  full_value = full_payments_value[group[\"order_id\"]][0]\n",
      "C:\\Users\\PW\\AppData\\Local\\Temp\\ipykernel_8168\\3155147829.py:20: FutureWarning: Series.__getitem__ treating keys as positions is deprecated. In a future version, integer keys will always be treated as labels (consistent with DataFrame behavior). To access a value by position, use `ser.iloc[pos]`\n",
      "  full_value = full_payments_value[group[\"order_id\"]][0]\n",
      "C:\\Users\\PW\\AppData\\Local\\Temp\\ipykernel_8168\\3155147829.py:20: FutureWarning: Series.__getitem__ treating keys as positions is deprecated. In a future version, integer keys will always be treated as labels (consistent with DataFrame behavior). To access a value by position, use `ser.iloc[pos]`\n",
      "  full_value = full_payments_value[group[\"order_id\"]][0]\n",
      "C:\\Users\\PW\\AppData\\Local\\Temp\\ipykernel_8168\\3155147829.py:20: FutureWarning: Series.__getitem__ treating keys as positions is deprecated. In a future version, integer keys will always be treated as labels (consistent with DataFrame behavior). To access a value by position, use `ser.iloc[pos]`\n",
      "  full_value = full_payments_value[group[\"order_id\"]][0]\n",
      "C:\\Users\\PW\\AppData\\Local\\Temp\\ipykernel_8168\\3155147829.py:20: FutureWarning: Series.__getitem__ treating keys as positions is deprecated. In a future version, integer keys will always be treated as labels (consistent with DataFrame behavior). To access a value by position, use `ser.iloc[pos]`\n",
      "  full_value = full_payments_value[group[\"order_id\"]][0]\n",
      "C:\\Users\\PW\\AppData\\Local\\Temp\\ipykernel_8168\\3155147829.py:20: FutureWarning: Series.__getitem__ treating keys as positions is deprecated. In a future version, integer keys will always be treated as labels (consistent with DataFrame behavior). To access a value by position, use `ser.iloc[pos]`\n",
      "  full_value = full_payments_value[group[\"order_id\"]][0]\n",
      "C:\\Users\\PW\\AppData\\Local\\Temp\\ipykernel_8168\\3155147829.py:20: FutureWarning: Series.__getitem__ treating keys as positions is deprecated. In a future version, integer keys will always be treated as labels (consistent with DataFrame behavior). To access a value by position, use `ser.iloc[pos]`\n",
      "  full_value = full_payments_value[group[\"order_id\"]][0]\n",
      "C:\\Users\\PW\\AppData\\Local\\Temp\\ipykernel_8168\\3155147829.py:20: FutureWarning: Series.__getitem__ treating keys as positions is deprecated. In a future version, integer keys will always be treated as labels (consistent with DataFrame behavior). To access a value by position, use `ser.iloc[pos]`\n",
      "  full_value = full_payments_value[group[\"order_id\"]][0]\n",
      "C:\\Users\\PW\\AppData\\Local\\Temp\\ipykernel_8168\\3155147829.py:20: FutureWarning: Series.__getitem__ treating keys as positions is deprecated. In a future version, integer keys will always be treated as labels (consistent with DataFrame behavior). To access a value by position, use `ser.iloc[pos]`\n",
      "  full_value = full_payments_value[group[\"order_id\"]][0]\n",
      "C:\\Users\\PW\\AppData\\Local\\Temp\\ipykernel_8168\\3155147829.py:20: FutureWarning: Series.__getitem__ treating keys as positions is deprecated. In a future version, integer keys will always be treated as labels (consistent with DataFrame behavior). To access a value by position, use `ser.iloc[pos]`\n",
      "  full_value = full_payments_value[group[\"order_id\"]][0]\n",
      "C:\\Users\\PW\\AppData\\Local\\Temp\\ipykernel_8168\\3155147829.py:20: FutureWarning: Series.__getitem__ treating keys as positions is deprecated. In a future version, integer keys will always be treated as labels (consistent with DataFrame behavior). To access a value by position, use `ser.iloc[pos]`\n",
      "  full_value = full_payments_value[group[\"order_id\"]][0]\n",
      "C:\\Users\\PW\\AppData\\Local\\Temp\\ipykernel_8168\\3155147829.py:20: FutureWarning: Series.__getitem__ treating keys as positions is deprecated. In a future version, integer keys will always be treated as labels (consistent with DataFrame behavior). To access a value by position, use `ser.iloc[pos]`\n",
      "  full_value = full_payments_value[group[\"order_id\"]][0]\n",
      "C:\\Users\\PW\\AppData\\Local\\Temp\\ipykernel_8168\\3155147829.py:20: FutureWarning: Series.__getitem__ treating keys as positions is deprecated. In a future version, integer keys will always be treated as labels (consistent with DataFrame behavior). To access a value by position, use `ser.iloc[pos]`\n",
      "  full_value = full_payments_value[group[\"order_id\"]][0]\n",
      "C:\\Users\\PW\\AppData\\Local\\Temp\\ipykernel_8168\\3155147829.py:20: FutureWarning: Series.__getitem__ treating keys as positions is deprecated. In a future version, integer keys will always be treated as labels (consistent with DataFrame behavior). To access a value by position, use `ser.iloc[pos]`\n",
      "  full_value = full_payments_value[group[\"order_id\"]][0]\n",
      "C:\\Users\\PW\\AppData\\Local\\Temp\\ipykernel_8168\\3155147829.py:20: FutureWarning: Series.__getitem__ treating keys as positions is deprecated. In a future version, integer keys will always be treated as labels (consistent with DataFrame behavior). To access a value by position, use `ser.iloc[pos]`\n",
      "  full_value = full_payments_value[group[\"order_id\"]][0]\n",
      "C:\\Users\\PW\\AppData\\Local\\Temp\\ipykernel_8168\\3155147829.py:20: FutureWarning: Series.__getitem__ treating keys as positions is deprecated. In a future version, integer keys will always be treated as labels (consistent with DataFrame behavior). To access a value by position, use `ser.iloc[pos]`\n",
      "  full_value = full_payments_value[group[\"order_id\"]][0]\n",
      "C:\\Users\\PW\\AppData\\Local\\Temp\\ipykernel_8168\\3155147829.py:20: FutureWarning: Series.__getitem__ treating keys as positions is deprecated. In a future version, integer keys will always be treated as labels (consistent with DataFrame behavior). To access a value by position, use `ser.iloc[pos]`\n",
      "  full_value = full_payments_value[group[\"order_id\"]][0]\n",
      "C:\\Users\\PW\\AppData\\Local\\Temp\\ipykernel_8168\\3155147829.py:20: FutureWarning: Series.__getitem__ treating keys as positions is deprecated. In a future version, integer keys will always be treated as labels (consistent with DataFrame behavior). To access a value by position, use `ser.iloc[pos]`\n",
      "  full_value = full_payments_value[group[\"order_id\"]][0]\n",
      "C:\\Users\\PW\\AppData\\Local\\Temp\\ipykernel_8168\\3155147829.py:20: FutureWarning: Series.__getitem__ treating keys as positions is deprecated. In a future version, integer keys will always be treated as labels (consistent with DataFrame behavior). To access a value by position, use `ser.iloc[pos]`\n",
      "  full_value = full_payments_value[group[\"order_id\"]][0]\n",
      "C:\\Users\\PW\\AppData\\Local\\Temp\\ipykernel_8168\\3155147829.py:20: FutureWarning: Series.__getitem__ treating keys as positions is deprecated. In a future version, integer keys will always be treated as labels (consistent with DataFrame behavior). To access a value by position, use `ser.iloc[pos]`\n",
      "  full_value = full_payments_value[group[\"order_id\"]][0]\n",
      "C:\\Users\\PW\\AppData\\Local\\Temp\\ipykernel_8168\\3155147829.py:20: FutureWarning: Series.__getitem__ treating keys as positions is deprecated. In a future version, integer keys will always be treated as labels (consistent with DataFrame behavior). To access a value by position, use `ser.iloc[pos]`\n",
      "  full_value = full_payments_value[group[\"order_id\"]][0]\n",
      "C:\\Users\\PW\\AppData\\Local\\Temp\\ipykernel_8168\\3155147829.py:20: FutureWarning: Series.__getitem__ treating keys as positions is deprecated. In a future version, integer keys will always be treated as labels (consistent with DataFrame behavior). To access a value by position, use `ser.iloc[pos]`\n",
      "  full_value = full_payments_value[group[\"order_id\"]][0]\n",
      "C:\\Users\\PW\\AppData\\Local\\Temp\\ipykernel_8168\\3155147829.py:20: FutureWarning: Series.__getitem__ treating keys as positions is deprecated. In a future version, integer keys will always be treated as labels (consistent with DataFrame behavior). To access a value by position, use `ser.iloc[pos]`\n",
      "  full_value = full_payments_value[group[\"order_id\"]][0]\n",
      "C:\\Users\\PW\\AppData\\Local\\Temp\\ipykernel_8168\\3155147829.py:20: FutureWarning: Series.__getitem__ treating keys as positions is deprecated. In a future version, integer keys will always be treated as labels (consistent with DataFrame behavior). To access a value by position, use `ser.iloc[pos]`\n",
      "  full_value = full_payments_value[group[\"order_id\"]][0]\n",
      "C:\\Users\\PW\\AppData\\Local\\Temp\\ipykernel_8168\\3155147829.py:20: FutureWarning: Series.__getitem__ treating keys as positions is deprecated. In a future version, integer keys will always be treated as labels (consistent with DataFrame behavior). To access a value by position, use `ser.iloc[pos]`\n",
      "  full_value = full_payments_value[group[\"order_id\"]][0]\n",
      "C:\\Users\\PW\\AppData\\Local\\Temp\\ipykernel_8168\\3155147829.py:20: FutureWarning: Series.__getitem__ treating keys as positions is deprecated. In a future version, integer keys will always be treated as labels (consistent with DataFrame behavior). To access a value by position, use `ser.iloc[pos]`\n",
      "  full_value = full_payments_value[group[\"order_id\"]][0]\n",
      "C:\\Users\\PW\\AppData\\Local\\Temp\\ipykernel_8168\\3155147829.py:20: FutureWarning: Series.__getitem__ treating keys as positions is deprecated. In a future version, integer keys will always be treated as labels (consistent with DataFrame behavior). To access a value by position, use `ser.iloc[pos]`\n",
      "  full_value = full_payments_value[group[\"order_id\"]][0]\n",
      "C:\\Users\\PW\\AppData\\Local\\Temp\\ipykernel_8168\\3155147829.py:20: FutureWarning: Series.__getitem__ treating keys as positions is deprecated. In a future version, integer keys will always be treated as labels (consistent with DataFrame behavior). To access a value by position, use `ser.iloc[pos]`\n",
      "  full_value = full_payments_value[group[\"order_id\"]][0]\n",
      "C:\\Users\\PW\\AppData\\Local\\Temp\\ipykernel_8168\\3155147829.py:20: FutureWarning: Series.__getitem__ treating keys as positions is deprecated. In a future version, integer keys will always be treated as labels (consistent with DataFrame behavior). To access a value by position, use `ser.iloc[pos]`\n",
      "  full_value = full_payments_value[group[\"order_id\"]][0]\n",
      "C:\\Users\\PW\\AppData\\Local\\Temp\\ipykernel_8168\\3155147829.py:20: FutureWarning: Series.__getitem__ treating keys as positions is deprecated. In a future version, integer keys will always be treated as labels (consistent with DataFrame behavior). To access a value by position, use `ser.iloc[pos]`\n",
      "  full_value = full_payments_value[group[\"order_id\"]][0]\n",
      "C:\\Users\\PW\\AppData\\Local\\Temp\\ipykernel_8168\\3155147829.py:20: FutureWarning: Series.__getitem__ treating keys as positions is deprecated. In a future version, integer keys will always be treated as labels (consistent with DataFrame behavior). To access a value by position, use `ser.iloc[pos]`\n",
      "  full_value = full_payments_value[group[\"order_id\"]][0]\n",
      "C:\\Users\\PW\\AppData\\Local\\Temp\\ipykernel_8168\\3155147829.py:20: FutureWarning: Series.__getitem__ treating keys as positions is deprecated. In a future version, integer keys will always be treated as labels (consistent with DataFrame behavior). To access a value by position, use `ser.iloc[pos]`\n",
      "  full_value = full_payments_value[group[\"order_id\"]][0]\n",
      "C:\\Users\\PW\\AppData\\Local\\Temp\\ipykernel_8168\\3155147829.py:20: FutureWarning: Series.__getitem__ treating keys as positions is deprecated. In a future version, integer keys will always be treated as labels (consistent with DataFrame behavior). To access a value by position, use `ser.iloc[pos]`\n",
      "  full_value = full_payments_value[group[\"order_id\"]][0]\n",
      "C:\\Users\\PW\\AppData\\Local\\Temp\\ipykernel_8168\\3155147829.py:20: FutureWarning: Series.__getitem__ treating keys as positions is deprecated. In a future version, integer keys will always be treated as labels (consistent with DataFrame behavior). To access a value by position, use `ser.iloc[pos]`\n",
      "  full_value = full_payments_value[group[\"order_id\"]][0]\n",
      "C:\\Users\\PW\\AppData\\Local\\Temp\\ipykernel_8168\\3155147829.py:20: FutureWarning: Series.__getitem__ treating keys as positions is deprecated. In a future version, integer keys will always be treated as labels (consistent with DataFrame behavior). To access a value by position, use `ser.iloc[pos]`\n",
      "  full_value = full_payments_value[group[\"order_id\"]][0]\n",
      "C:\\Users\\PW\\AppData\\Local\\Temp\\ipykernel_8168\\3155147829.py:20: FutureWarning: Series.__getitem__ treating keys as positions is deprecated. In a future version, integer keys will always be treated as labels (consistent with DataFrame behavior). To access a value by position, use `ser.iloc[pos]`\n",
      "  full_value = full_payments_value[group[\"order_id\"]][0]\n",
      "C:\\Users\\PW\\AppData\\Local\\Temp\\ipykernel_8168\\3155147829.py:20: FutureWarning: Series.__getitem__ treating keys as positions is deprecated. In a future version, integer keys will always be treated as labels (consistent with DataFrame behavior). To access a value by position, use `ser.iloc[pos]`\n",
      "  full_value = full_payments_value[group[\"order_id\"]][0]\n",
      "C:\\Users\\PW\\AppData\\Local\\Temp\\ipykernel_8168\\3155147829.py:20: FutureWarning: Series.__getitem__ treating keys as positions is deprecated. In a future version, integer keys will always be treated as labels (consistent with DataFrame behavior). To access a value by position, use `ser.iloc[pos]`\n",
      "  full_value = full_payments_value[group[\"order_id\"]][0]\n",
      "C:\\Users\\PW\\AppData\\Local\\Temp\\ipykernel_8168\\3155147829.py:20: FutureWarning: Series.__getitem__ treating keys as positions is deprecated. In a future version, integer keys will always be treated as labels (consistent with DataFrame behavior). To access a value by position, use `ser.iloc[pos]`\n",
      "  full_value = full_payments_value[group[\"order_id\"]][0]\n",
      "C:\\Users\\PW\\AppData\\Local\\Temp\\ipykernel_8168\\3155147829.py:20: FutureWarning: Series.__getitem__ treating keys as positions is deprecated. In a future version, integer keys will always be treated as labels (consistent with DataFrame behavior). To access a value by position, use `ser.iloc[pos]`\n",
      "  full_value = full_payments_value[group[\"order_id\"]][0]\n",
      "C:\\Users\\PW\\AppData\\Local\\Temp\\ipykernel_8168\\3155147829.py:20: FutureWarning: Series.__getitem__ treating keys as positions is deprecated. In a future version, integer keys will always be treated as labels (consistent with DataFrame behavior). To access a value by position, use `ser.iloc[pos]`\n",
      "  full_value = full_payments_value[group[\"order_id\"]][0]\n",
      "C:\\Users\\PW\\AppData\\Local\\Temp\\ipykernel_8168\\3155147829.py:20: FutureWarning: Series.__getitem__ treating keys as positions is deprecated. In a future version, integer keys will always be treated as labels (consistent with DataFrame behavior). To access a value by position, use `ser.iloc[pos]`\n",
      "  full_value = full_payments_value[group[\"order_id\"]][0]\n",
      "C:\\Users\\PW\\AppData\\Local\\Temp\\ipykernel_8168\\3155147829.py:20: FutureWarning: Series.__getitem__ treating keys as positions is deprecated. In a future version, integer keys will always be treated as labels (consistent with DataFrame behavior). To access a value by position, use `ser.iloc[pos]`\n",
      "  full_value = full_payments_value[group[\"order_id\"]][0]\n",
      "C:\\Users\\PW\\AppData\\Local\\Temp\\ipykernel_8168\\3155147829.py:20: FutureWarning: Series.__getitem__ treating keys as positions is deprecated. In a future version, integer keys will always be treated as labels (consistent with DataFrame behavior). To access a value by position, use `ser.iloc[pos]`\n",
      "  full_value = full_payments_value[group[\"order_id\"]][0]\n",
      "C:\\Users\\PW\\AppData\\Local\\Temp\\ipykernel_8168\\3155147829.py:20: FutureWarning: Series.__getitem__ treating keys as positions is deprecated. In a future version, integer keys will always be treated as labels (consistent with DataFrame behavior). To access a value by position, use `ser.iloc[pos]`\n",
      "  full_value = full_payments_value[group[\"order_id\"]][0]\n",
      "C:\\Users\\PW\\AppData\\Local\\Temp\\ipykernel_8168\\3155147829.py:20: FutureWarning: Series.__getitem__ treating keys as positions is deprecated. In a future version, integer keys will always be treated as labels (consistent with DataFrame behavior). To access a value by position, use `ser.iloc[pos]`\n",
      "  full_value = full_payments_value[group[\"order_id\"]][0]\n",
      "C:\\Users\\PW\\AppData\\Local\\Temp\\ipykernel_8168\\3155147829.py:20: FutureWarning: Series.__getitem__ treating keys as positions is deprecated. In a future version, integer keys will always be treated as labels (consistent with DataFrame behavior). To access a value by position, use `ser.iloc[pos]`\n",
      "  full_value = full_payments_value[group[\"order_id\"]][0]\n",
      "C:\\Users\\PW\\AppData\\Local\\Temp\\ipykernel_8168\\3155147829.py:20: FutureWarning: Series.__getitem__ treating keys as positions is deprecated. In a future version, integer keys will always be treated as labels (consistent with DataFrame behavior). To access a value by position, use `ser.iloc[pos]`\n",
      "  full_value = full_payments_value[group[\"order_id\"]][0]\n",
      "C:\\Users\\PW\\AppData\\Local\\Temp\\ipykernel_8168\\3155147829.py:20: FutureWarning: Series.__getitem__ treating keys as positions is deprecated. In a future version, integer keys will always be treated as labels (consistent with DataFrame behavior). To access a value by position, use `ser.iloc[pos]`\n",
      "  full_value = full_payments_value[group[\"order_id\"]][0]\n",
      "C:\\Users\\PW\\AppData\\Local\\Temp\\ipykernel_8168\\3155147829.py:20: FutureWarning: Series.__getitem__ treating keys as positions is deprecated. In a future version, integer keys will always be treated as labels (consistent with DataFrame behavior). To access a value by position, use `ser.iloc[pos]`\n",
      "  full_value = full_payments_value[group[\"order_id\"]][0]\n",
      "C:\\Users\\PW\\AppData\\Local\\Temp\\ipykernel_8168\\3155147829.py:20: FutureWarning: Series.__getitem__ treating keys as positions is deprecated. In a future version, integer keys will always be treated as labels (consistent with DataFrame behavior). To access a value by position, use `ser.iloc[pos]`\n",
      "  full_value = full_payments_value[group[\"order_id\"]][0]\n",
      "C:\\Users\\PW\\AppData\\Local\\Temp\\ipykernel_8168\\3155147829.py:20: FutureWarning: Series.__getitem__ treating keys as positions is deprecated. In a future version, integer keys will always be treated as labels (consistent with DataFrame behavior). To access a value by position, use `ser.iloc[pos]`\n",
      "  full_value = full_payments_value[group[\"order_id\"]][0]\n",
      "C:\\Users\\PW\\AppData\\Local\\Temp\\ipykernel_8168\\3155147829.py:20: FutureWarning: Series.__getitem__ treating keys as positions is deprecated. In a future version, integer keys will always be treated as labels (consistent with DataFrame behavior). To access a value by position, use `ser.iloc[pos]`\n",
      "  full_value = full_payments_value[group[\"order_id\"]][0]\n",
      "C:\\Users\\PW\\AppData\\Local\\Temp\\ipykernel_8168\\3155147829.py:20: FutureWarning: Series.__getitem__ treating keys as positions is deprecated. In a future version, integer keys will always be treated as labels (consistent with DataFrame behavior). To access a value by position, use `ser.iloc[pos]`\n",
      "  full_value = full_payments_value[group[\"order_id\"]][0]\n",
      "C:\\Users\\PW\\AppData\\Local\\Temp\\ipykernel_8168\\3155147829.py:20: FutureWarning: Series.__getitem__ treating keys as positions is deprecated. In a future version, integer keys will always be treated as labels (consistent with DataFrame behavior). To access a value by position, use `ser.iloc[pos]`\n",
      "  full_value = full_payments_value[group[\"order_id\"]][0]\n",
      "C:\\Users\\PW\\AppData\\Local\\Temp\\ipykernel_8168\\3155147829.py:20: FutureWarning: Series.__getitem__ treating keys as positions is deprecated. In a future version, integer keys will always be treated as labels (consistent with DataFrame behavior). To access a value by position, use `ser.iloc[pos]`\n",
      "  full_value = full_payments_value[group[\"order_id\"]][0]\n",
      "C:\\Users\\PW\\AppData\\Local\\Temp\\ipykernel_8168\\3155147829.py:20: FutureWarning: Series.__getitem__ treating keys as positions is deprecated. In a future version, integer keys will always be treated as labels (consistent with DataFrame behavior). To access a value by position, use `ser.iloc[pos]`\n",
      "  full_value = full_payments_value[group[\"order_id\"]][0]\n",
      "C:\\Users\\PW\\AppData\\Local\\Temp\\ipykernel_8168\\3155147829.py:20: FutureWarning: Series.__getitem__ treating keys as positions is deprecated. In a future version, integer keys will always be treated as labels (consistent with DataFrame behavior). To access a value by position, use `ser.iloc[pos]`\n",
      "  full_value = full_payments_value[group[\"order_id\"]][0]\n",
      "C:\\Users\\PW\\AppData\\Local\\Temp\\ipykernel_8168\\3155147829.py:20: FutureWarning: Series.__getitem__ treating keys as positions is deprecated. In a future version, integer keys will always be treated as labels (consistent with DataFrame behavior). To access a value by position, use `ser.iloc[pos]`\n",
      "  full_value = full_payments_value[group[\"order_id\"]][0]\n",
      "C:\\Users\\PW\\AppData\\Local\\Temp\\ipykernel_8168\\3155147829.py:20: FutureWarning: Series.__getitem__ treating keys as positions is deprecated. In a future version, integer keys will always be treated as labels (consistent with DataFrame behavior). To access a value by position, use `ser.iloc[pos]`\n",
      "  full_value = full_payments_value[group[\"order_id\"]][0]\n",
      "C:\\Users\\PW\\AppData\\Local\\Temp\\ipykernel_8168\\3155147829.py:20: FutureWarning: Series.__getitem__ treating keys as positions is deprecated. In a future version, integer keys will always be treated as labels (consistent with DataFrame behavior). To access a value by position, use `ser.iloc[pos]`\n",
      "  full_value = full_payments_value[group[\"order_id\"]][0]\n",
      "C:\\Users\\PW\\AppData\\Local\\Temp\\ipykernel_8168\\3155147829.py:20: FutureWarning: Series.__getitem__ treating keys as positions is deprecated. In a future version, integer keys will always be treated as labels (consistent with DataFrame behavior). To access a value by position, use `ser.iloc[pos]`\n",
      "  full_value = full_payments_value[group[\"order_id\"]][0]\n",
      "C:\\Users\\PW\\AppData\\Local\\Temp\\ipykernel_8168\\3155147829.py:20: FutureWarning: Series.__getitem__ treating keys as positions is deprecated. In a future version, integer keys will always be treated as labels (consistent with DataFrame behavior). To access a value by position, use `ser.iloc[pos]`\n",
      "  full_value = full_payments_value[group[\"order_id\"]][0]\n",
      "C:\\Users\\PW\\AppData\\Local\\Temp\\ipykernel_8168\\3155147829.py:20: FutureWarning: Series.__getitem__ treating keys as positions is deprecated. In a future version, integer keys will always be treated as labels (consistent with DataFrame behavior). To access a value by position, use `ser.iloc[pos]`\n",
      "  full_value = full_payments_value[group[\"order_id\"]][0]\n",
      "C:\\Users\\PW\\AppData\\Local\\Temp\\ipykernel_8168\\3155147829.py:20: FutureWarning: Series.__getitem__ treating keys as positions is deprecated. In a future version, integer keys will always be treated as labels (consistent with DataFrame behavior). To access a value by position, use `ser.iloc[pos]`\n",
      "  full_value = full_payments_value[group[\"order_id\"]][0]\n",
      "C:\\Users\\PW\\AppData\\Local\\Temp\\ipykernel_8168\\3155147829.py:20: FutureWarning: Series.__getitem__ treating keys as positions is deprecated. In a future version, integer keys will always be treated as labels (consistent with DataFrame behavior). To access a value by position, use `ser.iloc[pos]`\n",
      "  full_value = full_payments_value[group[\"order_id\"]][0]\n",
      "C:\\Users\\PW\\AppData\\Local\\Temp\\ipykernel_8168\\3155147829.py:20: FutureWarning: Series.__getitem__ treating keys as positions is deprecated. In a future version, integer keys will always be treated as labels (consistent with DataFrame behavior). To access a value by position, use `ser.iloc[pos]`\n",
      "  full_value = full_payments_value[group[\"order_id\"]][0]\n",
      "C:\\Users\\PW\\AppData\\Local\\Temp\\ipykernel_8168\\3155147829.py:20: FutureWarning: Series.__getitem__ treating keys as positions is deprecated. In a future version, integer keys will always be treated as labels (consistent with DataFrame behavior). To access a value by position, use `ser.iloc[pos]`\n",
      "  full_value = full_payments_value[group[\"order_id\"]][0]\n",
      "C:\\Users\\PW\\AppData\\Local\\Temp\\ipykernel_8168\\3155147829.py:20: FutureWarning: Series.__getitem__ treating keys as positions is deprecated. In a future version, integer keys will always be treated as labels (consistent with DataFrame behavior). To access a value by position, use `ser.iloc[pos]`\n",
      "  full_value = full_payments_value[group[\"order_id\"]][0]\n",
      "C:\\Users\\PW\\AppData\\Local\\Temp\\ipykernel_8168\\3155147829.py:20: FutureWarning: Series.__getitem__ treating keys as positions is deprecated. In a future version, integer keys will always be treated as labels (consistent with DataFrame behavior). To access a value by position, use `ser.iloc[pos]`\n",
      "  full_value = full_payments_value[group[\"order_id\"]][0]\n",
      "C:\\Users\\PW\\AppData\\Local\\Temp\\ipykernel_8168\\3155147829.py:20: FutureWarning: Series.__getitem__ treating keys as positions is deprecated. In a future version, integer keys will always be treated as labels (consistent with DataFrame behavior). To access a value by position, use `ser.iloc[pos]`\n",
      "  full_value = full_payments_value[group[\"order_id\"]][0]\n",
      "C:\\Users\\PW\\AppData\\Local\\Temp\\ipykernel_8168\\3155147829.py:20: FutureWarning: Series.__getitem__ treating keys as positions is deprecated. In a future version, integer keys will always be treated as labels (consistent with DataFrame behavior). To access a value by position, use `ser.iloc[pos]`\n",
      "  full_value = full_payments_value[group[\"order_id\"]][0]\n",
      "C:\\Users\\PW\\AppData\\Local\\Temp\\ipykernel_8168\\3155147829.py:20: FutureWarning: Series.__getitem__ treating keys as positions is deprecated. In a future version, integer keys will always be treated as labels (consistent with DataFrame behavior). To access a value by position, use `ser.iloc[pos]`\n",
      "  full_value = full_payments_value[group[\"order_id\"]][0]\n",
      "C:\\Users\\PW\\AppData\\Local\\Temp\\ipykernel_8168\\3155147829.py:20: FutureWarning: Series.__getitem__ treating keys as positions is deprecated. In a future version, integer keys will always be treated as labels (consistent with DataFrame behavior). To access a value by position, use `ser.iloc[pos]`\n",
      "  full_value = full_payments_value[group[\"order_id\"]][0]\n",
      "C:\\Users\\PW\\AppData\\Local\\Temp\\ipykernel_8168\\3155147829.py:20: FutureWarning: Series.__getitem__ treating keys as positions is deprecated. In a future version, integer keys will always be treated as labels (consistent with DataFrame behavior). To access a value by position, use `ser.iloc[pos]`\n",
      "  full_value = full_payments_value[group[\"order_id\"]][0]\n",
      "C:\\Users\\PW\\AppData\\Local\\Temp\\ipykernel_8168\\3155147829.py:20: FutureWarning: Series.__getitem__ treating keys as positions is deprecated. In a future version, integer keys will always be treated as labels (consistent with DataFrame behavior). To access a value by position, use `ser.iloc[pos]`\n",
      "  full_value = full_payments_value[group[\"order_id\"]][0]\n",
      "C:\\Users\\PW\\AppData\\Local\\Temp\\ipykernel_8168\\3155147829.py:20: FutureWarning: Series.__getitem__ treating keys as positions is deprecated. In a future version, integer keys will always be treated as labels (consistent with DataFrame behavior). To access a value by position, use `ser.iloc[pos]`\n",
      "  full_value = full_payments_value[group[\"order_id\"]][0]\n",
      "C:\\Users\\PW\\AppData\\Local\\Temp\\ipykernel_8168\\3155147829.py:20: FutureWarning: Series.__getitem__ treating keys as positions is deprecated. In a future version, integer keys will always be treated as labels (consistent with DataFrame behavior). To access a value by position, use `ser.iloc[pos]`\n",
      "  full_value = full_payments_value[group[\"order_id\"]][0]\n",
      "C:\\Users\\PW\\AppData\\Local\\Temp\\ipykernel_8168\\3155147829.py:20: FutureWarning: Series.__getitem__ treating keys as positions is deprecated. In a future version, integer keys will always be treated as labels (consistent with DataFrame behavior). To access a value by position, use `ser.iloc[pos]`\n",
      "  full_value = full_payments_value[group[\"order_id\"]][0]\n",
      "C:\\Users\\PW\\AppData\\Local\\Temp\\ipykernel_8168\\3155147829.py:20: FutureWarning: Series.__getitem__ treating keys as positions is deprecated. In a future version, integer keys will always be treated as labels (consistent with DataFrame behavior). To access a value by position, use `ser.iloc[pos]`\n",
      "  full_value = full_payments_value[group[\"order_id\"]][0]\n",
      "C:\\Users\\PW\\AppData\\Local\\Temp\\ipykernel_8168\\3155147829.py:20: FutureWarning: Series.__getitem__ treating keys as positions is deprecated. In a future version, integer keys will always be treated as labels (consistent with DataFrame behavior). To access a value by position, use `ser.iloc[pos]`\n",
      "  full_value = full_payments_value[group[\"order_id\"]][0]\n",
      "C:\\Users\\PW\\AppData\\Local\\Temp\\ipykernel_8168\\3155147829.py:20: FutureWarning: Series.__getitem__ treating keys as positions is deprecated. In a future version, integer keys will always be treated as labels (consistent with DataFrame behavior). To access a value by position, use `ser.iloc[pos]`\n",
      "  full_value = full_payments_value[group[\"order_id\"]][0]\n",
      "C:\\Users\\PW\\AppData\\Local\\Temp\\ipykernel_8168\\3155147829.py:20: FutureWarning: Series.__getitem__ treating keys as positions is deprecated. In a future version, integer keys will always be treated as labels (consistent with DataFrame behavior). To access a value by position, use `ser.iloc[pos]`\n",
      "  full_value = full_payments_value[group[\"order_id\"]][0]\n",
      "C:\\Users\\PW\\AppData\\Local\\Temp\\ipykernel_8168\\3155147829.py:20: FutureWarning: Series.__getitem__ treating keys as positions is deprecated. In a future version, integer keys will always be treated as labels (consistent with DataFrame behavior). To access a value by position, use `ser.iloc[pos]`\n",
      "  full_value = full_payments_value[group[\"order_id\"]][0]\n",
      "C:\\Users\\PW\\AppData\\Local\\Temp\\ipykernel_8168\\3155147829.py:20: FutureWarning: Series.__getitem__ treating keys as positions is deprecated. In a future version, integer keys will always be treated as labels (consistent with DataFrame behavior). To access a value by position, use `ser.iloc[pos]`\n",
      "  full_value = full_payments_value[group[\"order_id\"]][0]\n",
      "C:\\Users\\PW\\AppData\\Local\\Temp\\ipykernel_8168\\3155147829.py:20: FutureWarning: Series.__getitem__ treating keys as positions is deprecated. In a future version, integer keys will always be treated as labels (consistent with DataFrame behavior). To access a value by position, use `ser.iloc[pos]`\n",
      "  full_value = full_payments_value[group[\"order_id\"]][0]\n",
      "C:\\Users\\PW\\AppData\\Local\\Temp\\ipykernel_8168\\3155147829.py:20: FutureWarning: Series.__getitem__ treating keys as positions is deprecated. In a future version, integer keys will always be treated as labels (consistent with DataFrame behavior). To access a value by position, use `ser.iloc[pos]`\n",
      "  full_value = full_payments_value[group[\"order_id\"]][0]\n",
      "C:\\Users\\PW\\AppData\\Local\\Temp\\ipykernel_8168\\3155147829.py:20: FutureWarning: Series.__getitem__ treating keys as positions is deprecated. In a future version, integer keys will always be treated as labels (consistent with DataFrame behavior). To access a value by position, use `ser.iloc[pos]`\n",
      "  full_value = full_payments_value[group[\"order_id\"]][0]\n",
      "C:\\Users\\PW\\AppData\\Local\\Temp\\ipykernel_8168\\3155147829.py:20: FutureWarning: Series.__getitem__ treating keys as positions is deprecated. In a future version, integer keys will always be treated as labels (consistent with DataFrame behavior). To access a value by position, use `ser.iloc[pos]`\n",
      "  full_value = full_payments_value[group[\"order_id\"]][0]\n",
      "C:\\Users\\PW\\AppData\\Local\\Temp\\ipykernel_8168\\3155147829.py:20: FutureWarning: Series.__getitem__ treating keys as positions is deprecated. In a future version, integer keys will always be treated as labels (consistent with DataFrame behavior). To access a value by position, use `ser.iloc[pos]`\n",
      "  full_value = full_payments_value[group[\"order_id\"]][0]\n",
      "C:\\Users\\PW\\AppData\\Local\\Temp\\ipykernel_8168\\3155147829.py:20: FutureWarning: Series.__getitem__ treating keys as positions is deprecated. In a future version, integer keys will always be treated as labels (consistent with DataFrame behavior). To access a value by position, use `ser.iloc[pos]`\n",
      "  full_value = full_payments_value[group[\"order_id\"]][0]\n",
      "C:\\Users\\PW\\AppData\\Local\\Temp\\ipykernel_8168\\3155147829.py:20: FutureWarning: Series.__getitem__ treating keys as positions is deprecated. In a future version, integer keys will always be treated as labels (consistent with DataFrame behavior). To access a value by position, use `ser.iloc[pos]`\n",
      "  full_value = full_payments_value[group[\"order_id\"]][0]\n",
      "C:\\Users\\PW\\AppData\\Local\\Temp\\ipykernel_8168\\3155147829.py:20: FutureWarning: Series.__getitem__ treating keys as positions is deprecated. In a future version, integer keys will always be treated as labels (consistent with DataFrame behavior). To access a value by position, use `ser.iloc[pos]`\n",
      "  full_value = full_payments_value[group[\"order_id\"]][0]\n",
      "C:\\Users\\PW\\AppData\\Local\\Temp\\ipykernel_8168\\3155147829.py:20: FutureWarning: Series.__getitem__ treating keys as positions is deprecated. In a future version, integer keys will always be treated as labels (consistent with DataFrame behavior). To access a value by position, use `ser.iloc[pos]`\n",
      "  full_value = full_payments_value[group[\"order_id\"]][0]\n",
      "C:\\Users\\PW\\AppData\\Local\\Temp\\ipykernel_8168\\3155147829.py:20: FutureWarning: Series.__getitem__ treating keys as positions is deprecated. In a future version, integer keys will always be treated as labels (consistent with DataFrame behavior). To access a value by position, use `ser.iloc[pos]`\n",
      "  full_value = full_payments_value[group[\"order_id\"]][0]\n",
      "C:\\Users\\PW\\AppData\\Local\\Temp\\ipykernel_8168\\3155147829.py:20: FutureWarning: Series.__getitem__ treating keys as positions is deprecated. In a future version, integer keys will always be treated as labels (consistent with DataFrame behavior). To access a value by position, use `ser.iloc[pos]`\n",
      "  full_value = full_payments_value[group[\"order_id\"]][0]\n",
      "C:\\Users\\PW\\AppData\\Local\\Temp\\ipykernel_8168\\3155147829.py:20: FutureWarning: Series.__getitem__ treating keys as positions is deprecated. In a future version, integer keys will always be treated as labels (consistent with DataFrame behavior). To access a value by position, use `ser.iloc[pos]`\n",
      "  full_value = full_payments_value[group[\"order_id\"]][0]\n",
      "C:\\Users\\PW\\AppData\\Local\\Temp\\ipykernel_8168\\3155147829.py:20: FutureWarning: Series.__getitem__ treating keys as positions is deprecated. In a future version, integer keys will always be treated as labels (consistent with DataFrame behavior). To access a value by position, use `ser.iloc[pos]`\n",
      "  full_value = full_payments_value[group[\"order_id\"]][0]\n",
      "C:\\Users\\PW\\AppData\\Local\\Temp\\ipykernel_8168\\3155147829.py:20: FutureWarning: Series.__getitem__ treating keys as positions is deprecated. In a future version, integer keys will always be treated as labels (consistent with DataFrame behavior). To access a value by position, use `ser.iloc[pos]`\n",
      "  full_value = full_payments_value[group[\"order_id\"]][0]\n",
      "C:\\Users\\PW\\AppData\\Local\\Temp\\ipykernel_8168\\3155147829.py:20: FutureWarning: Series.__getitem__ treating keys as positions is deprecated. In a future version, integer keys will always be treated as labels (consistent with DataFrame behavior). To access a value by position, use `ser.iloc[pos]`\n",
      "  full_value = full_payments_value[group[\"order_id\"]][0]\n",
      "C:\\Users\\PW\\AppData\\Local\\Temp\\ipykernel_8168\\3155147829.py:20: FutureWarning: Series.__getitem__ treating keys as positions is deprecated. In a future version, integer keys will always be treated as labels (consistent with DataFrame behavior). To access a value by position, use `ser.iloc[pos]`\n",
      "  full_value = full_payments_value[group[\"order_id\"]][0]\n",
      "C:\\Users\\PW\\AppData\\Local\\Temp\\ipykernel_8168\\3155147829.py:20: FutureWarning: Series.__getitem__ treating keys as positions is deprecated. In a future version, integer keys will always be treated as labels (consistent with DataFrame behavior). To access a value by position, use `ser.iloc[pos]`\n",
      "  full_value = full_payments_value[group[\"order_id\"]][0]\n",
      "C:\\Users\\PW\\AppData\\Local\\Temp\\ipykernel_8168\\3155147829.py:20: FutureWarning: Series.__getitem__ treating keys as positions is deprecated. In a future version, integer keys will always be treated as labels (consistent with DataFrame behavior). To access a value by position, use `ser.iloc[pos]`\n",
      "  full_value = full_payments_value[group[\"order_id\"]][0]\n",
      "C:\\Users\\PW\\AppData\\Local\\Temp\\ipykernel_8168\\3155147829.py:20: FutureWarning: Series.__getitem__ treating keys as positions is deprecated. In a future version, integer keys will always be treated as labels (consistent with DataFrame behavior). To access a value by position, use `ser.iloc[pos]`\n",
      "  full_value = full_payments_value[group[\"order_id\"]][0]\n",
      "C:\\Users\\PW\\AppData\\Local\\Temp\\ipykernel_8168\\3155147829.py:20: FutureWarning: Series.__getitem__ treating keys as positions is deprecated. In a future version, integer keys will always be treated as labels (consistent with DataFrame behavior). To access a value by position, use `ser.iloc[pos]`\n",
      "  full_value = full_payments_value[group[\"order_id\"]][0]\n",
      "C:\\Users\\PW\\AppData\\Local\\Temp\\ipykernel_8168\\3155147829.py:20: FutureWarning: Series.__getitem__ treating keys as positions is deprecated. In a future version, integer keys will always be treated as labels (consistent with DataFrame behavior). To access a value by position, use `ser.iloc[pos]`\n",
      "  full_value = full_payments_value[group[\"order_id\"]][0]\n",
      "C:\\Users\\PW\\AppData\\Local\\Temp\\ipykernel_8168\\3155147829.py:20: FutureWarning: Series.__getitem__ treating keys as positions is deprecated. In a future version, integer keys will always be treated as labels (consistent with DataFrame behavior). To access a value by position, use `ser.iloc[pos]`\n",
      "  full_value = full_payments_value[group[\"order_id\"]][0]\n",
      "C:\\Users\\PW\\AppData\\Local\\Temp\\ipykernel_8168\\3155147829.py:20: FutureWarning: Series.__getitem__ treating keys as positions is deprecated. In a future version, integer keys will always be treated as labels (consistent with DataFrame behavior). To access a value by position, use `ser.iloc[pos]`\n",
      "  full_value = full_payments_value[group[\"order_id\"]][0]\n",
      "C:\\Users\\PW\\AppData\\Local\\Temp\\ipykernel_8168\\3155147829.py:20: FutureWarning: Series.__getitem__ treating keys as positions is deprecated. In a future version, integer keys will always be treated as labels (consistent with DataFrame behavior). To access a value by position, use `ser.iloc[pos]`\n",
      "  full_value = full_payments_value[group[\"order_id\"]][0]\n",
      "C:\\Users\\PW\\AppData\\Local\\Temp\\ipykernel_8168\\3155147829.py:20: FutureWarning: Series.__getitem__ treating keys as positions is deprecated. In a future version, integer keys will always be treated as labels (consistent with DataFrame behavior). To access a value by position, use `ser.iloc[pos]`\n",
      "  full_value = full_payments_value[group[\"order_id\"]][0]\n",
      "C:\\Users\\PW\\AppData\\Local\\Temp\\ipykernel_8168\\3155147829.py:20: FutureWarning: Series.__getitem__ treating keys as positions is deprecated. In a future version, integer keys will always be treated as labels (consistent with DataFrame behavior). To access a value by position, use `ser.iloc[pos]`\n",
      "  full_value = full_payments_value[group[\"order_id\"]][0]\n",
      "C:\\Users\\PW\\AppData\\Local\\Temp\\ipykernel_8168\\3155147829.py:20: FutureWarning: Series.__getitem__ treating keys as positions is deprecated. In a future version, integer keys will always be treated as labels (consistent with DataFrame behavior). To access a value by position, use `ser.iloc[pos]`\n",
      "  full_value = full_payments_value[group[\"order_id\"]][0]\n",
      "C:\\Users\\PW\\AppData\\Local\\Temp\\ipykernel_8168\\3155147829.py:20: FutureWarning: Series.__getitem__ treating keys as positions is deprecated. In a future version, integer keys will always be treated as labels (consistent with DataFrame behavior). To access a value by position, use `ser.iloc[pos]`\n",
      "  full_value = full_payments_value[group[\"order_id\"]][0]\n",
      "C:\\Users\\PW\\AppData\\Local\\Temp\\ipykernel_8168\\3155147829.py:20: FutureWarning: Series.__getitem__ treating keys as positions is deprecated. In a future version, integer keys will always be treated as labels (consistent with DataFrame behavior). To access a value by position, use `ser.iloc[pos]`\n",
      "  full_value = full_payments_value[group[\"order_id\"]][0]\n",
      "C:\\Users\\PW\\AppData\\Local\\Temp\\ipykernel_8168\\3155147829.py:20: FutureWarning: Series.__getitem__ treating keys as positions is deprecated. In a future version, integer keys will always be treated as labels (consistent with DataFrame behavior). To access a value by position, use `ser.iloc[pos]`\n",
      "  full_value = full_payments_value[group[\"order_id\"]][0]\n",
      "C:\\Users\\PW\\AppData\\Local\\Temp\\ipykernel_8168\\3155147829.py:20: FutureWarning: Series.__getitem__ treating keys as positions is deprecated. In a future version, integer keys will always be treated as labels (consistent with DataFrame behavior). To access a value by position, use `ser.iloc[pos]`\n",
      "  full_value = full_payments_value[group[\"order_id\"]][0]\n",
      "C:\\Users\\PW\\AppData\\Local\\Temp\\ipykernel_8168\\3155147829.py:20: FutureWarning: Series.__getitem__ treating keys as positions is deprecated. In a future version, integer keys will always be treated as labels (consistent with DataFrame behavior). To access a value by position, use `ser.iloc[pos]`\n",
      "  full_value = full_payments_value[group[\"order_id\"]][0]\n",
      "C:\\Users\\PW\\AppData\\Local\\Temp\\ipykernel_8168\\3155147829.py:20: FutureWarning: Series.__getitem__ treating keys as positions is deprecated. In a future version, integer keys will always be treated as labels (consistent with DataFrame behavior). To access a value by position, use `ser.iloc[pos]`\n",
      "  full_value = full_payments_value[group[\"order_id\"]][0]\n",
      "C:\\Users\\PW\\AppData\\Local\\Temp\\ipykernel_8168\\3155147829.py:20: FutureWarning: Series.__getitem__ treating keys as positions is deprecated. In a future version, integer keys will always be treated as labels (consistent with DataFrame behavior). To access a value by position, use `ser.iloc[pos]`\n",
      "  full_value = full_payments_value[group[\"order_id\"]][0]\n",
      "C:\\Users\\PW\\AppData\\Local\\Temp\\ipykernel_8168\\3155147829.py:20: FutureWarning: Series.__getitem__ treating keys as positions is deprecated. In a future version, integer keys will always be treated as labels (consistent with DataFrame behavior). To access a value by position, use `ser.iloc[pos]`\n",
      "  full_value = full_payments_value[group[\"order_id\"]][0]\n",
      "C:\\Users\\PW\\AppData\\Local\\Temp\\ipykernel_8168\\3155147829.py:20: FutureWarning: Series.__getitem__ treating keys as positions is deprecated. In a future version, integer keys will always be treated as labels (consistent with DataFrame behavior). To access a value by position, use `ser.iloc[pos]`\n",
      "  full_value = full_payments_value[group[\"order_id\"]][0]\n",
      "C:\\Users\\PW\\AppData\\Local\\Temp\\ipykernel_8168\\3155147829.py:20: FutureWarning: Series.__getitem__ treating keys as positions is deprecated. In a future version, integer keys will always be treated as labels (consistent with DataFrame behavior). To access a value by position, use `ser.iloc[pos]`\n",
      "  full_value = full_payments_value[group[\"order_id\"]][0]\n",
      "C:\\Users\\PW\\AppData\\Local\\Temp\\ipykernel_8168\\3155147829.py:20: FutureWarning: Series.__getitem__ treating keys as positions is deprecated. In a future version, integer keys will always be treated as labels (consistent with DataFrame behavior). To access a value by position, use `ser.iloc[pos]`\n",
      "  full_value = full_payments_value[group[\"order_id\"]][0]\n",
      "C:\\Users\\PW\\AppData\\Local\\Temp\\ipykernel_8168\\3155147829.py:20: FutureWarning: Series.__getitem__ treating keys as positions is deprecated. In a future version, integer keys will always be treated as labels (consistent with DataFrame behavior). To access a value by position, use `ser.iloc[pos]`\n",
      "  full_value = full_payments_value[group[\"order_id\"]][0]\n",
      "C:\\Users\\PW\\AppData\\Local\\Temp\\ipykernel_8168\\3155147829.py:20: FutureWarning: Series.__getitem__ treating keys as positions is deprecated. In a future version, integer keys will always be treated as labels (consistent with DataFrame behavior). To access a value by position, use `ser.iloc[pos]`\n",
      "  full_value = full_payments_value[group[\"order_id\"]][0]\n",
      "C:\\Users\\PW\\AppData\\Local\\Temp\\ipykernel_8168\\3155147829.py:20: FutureWarning: Series.__getitem__ treating keys as positions is deprecated. In a future version, integer keys will always be treated as labels (consistent with DataFrame behavior). To access a value by position, use `ser.iloc[pos]`\n",
      "  full_value = full_payments_value[group[\"order_id\"]][0]\n",
      "C:\\Users\\PW\\AppData\\Local\\Temp\\ipykernel_8168\\3155147829.py:20: FutureWarning: Series.__getitem__ treating keys as positions is deprecated. In a future version, integer keys will always be treated as labels (consistent with DataFrame behavior). To access a value by position, use `ser.iloc[pos]`\n",
      "  full_value = full_payments_value[group[\"order_id\"]][0]\n",
      "C:\\Users\\PW\\AppData\\Local\\Temp\\ipykernel_8168\\3155147829.py:20: FutureWarning: Series.__getitem__ treating keys as positions is deprecated. In a future version, integer keys will always be treated as labels (consistent with DataFrame behavior). To access a value by position, use `ser.iloc[pos]`\n",
      "  full_value = full_payments_value[group[\"order_id\"]][0]\n",
      "C:\\Users\\PW\\AppData\\Local\\Temp\\ipykernel_8168\\3155147829.py:20: FutureWarning: Series.__getitem__ treating keys as positions is deprecated. In a future version, integer keys will always be treated as labels (consistent with DataFrame behavior). To access a value by position, use `ser.iloc[pos]`\n",
      "  full_value = full_payments_value[group[\"order_id\"]][0]\n",
      "C:\\Users\\PW\\AppData\\Local\\Temp\\ipykernel_8168\\3155147829.py:20: FutureWarning: Series.__getitem__ treating keys as positions is deprecated. In a future version, integer keys will always be treated as labels (consistent with DataFrame behavior). To access a value by position, use `ser.iloc[pos]`\n",
      "  full_value = full_payments_value[group[\"order_id\"]][0]\n",
      "C:\\Users\\PW\\AppData\\Local\\Temp\\ipykernel_8168\\3155147829.py:20: FutureWarning: Series.__getitem__ treating keys as positions is deprecated. In a future version, integer keys will always be treated as labels (consistent with DataFrame behavior). To access a value by position, use `ser.iloc[pos]`\n",
      "  full_value = full_payments_value[group[\"order_id\"]][0]\n",
      "C:\\Users\\PW\\AppData\\Local\\Temp\\ipykernel_8168\\3155147829.py:20: FutureWarning: Series.__getitem__ treating keys as positions is deprecated. In a future version, integer keys will always be treated as labels (consistent with DataFrame behavior). To access a value by position, use `ser.iloc[pos]`\n",
      "  full_value = full_payments_value[group[\"order_id\"]][0]\n",
      "C:\\Users\\PW\\AppData\\Local\\Temp\\ipykernel_8168\\3155147829.py:20: FutureWarning: Series.__getitem__ treating keys as positions is deprecated. In a future version, integer keys will always be treated as labels (consistent with DataFrame behavior). To access a value by position, use `ser.iloc[pos]`\n",
      "  full_value = full_payments_value[group[\"order_id\"]][0]\n",
      "C:\\Users\\PW\\AppData\\Local\\Temp\\ipykernel_8168\\3155147829.py:20: FutureWarning: Series.__getitem__ treating keys as positions is deprecated. In a future version, integer keys will always be treated as labels (consistent with DataFrame behavior). To access a value by position, use `ser.iloc[pos]`\n",
      "  full_value = full_payments_value[group[\"order_id\"]][0]\n",
      "C:\\Users\\PW\\AppData\\Local\\Temp\\ipykernel_8168\\3155147829.py:20: FutureWarning: Series.__getitem__ treating keys as positions is deprecated. In a future version, integer keys will always be treated as labels (consistent with DataFrame behavior). To access a value by position, use `ser.iloc[pos]`\n",
      "  full_value = full_payments_value[group[\"order_id\"]][0]\n",
      "C:\\Users\\PW\\AppData\\Local\\Temp\\ipykernel_8168\\3155147829.py:20: FutureWarning: Series.__getitem__ treating keys as positions is deprecated. In a future version, integer keys will always be treated as labels (consistent with DataFrame behavior). To access a value by position, use `ser.iloc[pos]`\n",
      "  full_value = full_payments_value[group[\"order_id\"]][0]\n",
      "C:\\Users\\PW\\AppData\\Local\\Temp\\ipykernel_8168\\3155147829.py:20: FutureWarning: Series.__getitem__ treating keys as positions is deprecated. In a future version, integer keys will always be treated as labels (consistent with DataFrame behavior). To access a value by position, use `ser.iloc[pos]`\n",
      "  full_value = full_payments_value[group[\"order_id\"]][0]\n",
      "C:\\Users\\PW\\AppData\\Local\\Temp\\ipykernel_8168\\3155147829.py:20: FutureWarning: Series.__getitem__ treating keys as positions is deprecated. In a future version, integer keys will always be treated as labels (consistent with DataFrame behavior). To access a value by position, use `ser.iloc[pos]`\n",
      "  full_value = full_payments_value[group[\"order_id\"]][0]\n",
      "C:\\Users\\PW\\AppData\\Local\\Temp\\ipykernel_8168\\3155147829.py:20: FutureWarning: Series.__getitem__ treating keys as positions is deprecated. In a future version, integer keys will always be treated as labels (consistent with DataFrame behavior). To access a value by position, use `ser.iloc[pos]`\n",
      "  full_value = full_payments_value[group[\"order_id\"]][0]\n",
      "C:\\Users\\PW\\AppData\\Local\\Temp\\ipykernel_8168\\3155147829.py:20: FutureWarning: Series.__getitem__ treating keys as positions is deprecated. In a future version, integer keys will always be treated as labels (consistent with DataFrame behavior). To access a value by position, use `ser.iloc[pos]`\n",
      "  full_value = full_payments_value[group[\"order_id\"]][0]\n",
      "C:\\Users\\PW\\AppData\\Local\\Temp\\ipykernel_8168\\3155147829.py:20: FutureWarning: Series.__getitem__ treating keys as positions is deprecated. In a future version, integer keys will always be treated as labels (consistent with DataFrame behavior). To access a value by position, use `ser.iloc[pos]`\n",
      "  full_value = full_payments_value[group[\"order_id\"]][0]\n",
      "C:\\Users\\PW\\AppData\\Local\\Temp\\ipykernel_8168\\3155147829.py:20: FutureWarning: Series.__getitem__ treating keys as positions is deprecated. In a future version, integer keys will always be treated as labels (consistent with DataFrame behavior). To access a value by position, use `ser.iloc[pos]`\n",
      "  full_value = full_payments_value[group[\"order_id\"]][0]\n",
      "C:\\Users\\PW\\AppData\\Local\\Temp\\ipykernel_8168\\3155147829.py:20: FutureWarning: Series.__getitem__ treating keys as positions is deprecated. In a future version, integer keys will always be treated as labels (consistent with DataFrame behavior). To access a value by position, use `ser.iloc[pos]`\n",
      "  full_value = full_payments_value[group[\"order_id\"]][0]\n",
      "C:\\Users\\PW\\AppData\\Local\\Temp\\ipykernel_8168\\3155147829.py:20: FutureWarning: Series.__getitem__ treating keys as positions is deprecated. In a future version, integer keys will always be treated as labels (consistent with DataFrame behavior). To access a value by position, use `ser.iloc[pos]`\n",
      "  full_value = full_payments_value[group[\"order_id\"]][0]\n",
      "C:\\Users\\PW\\AppData\\Local\\Temp\\ipykernel_8168\\3155147829.py:20: FutureWarning: Series.__getitem__ treating keys as positions is deprecated. In a future version, integer keys will always be treated as labels (consistent with DataFrame behavior). To access a value by position, use `ser.iloc[pos]`\n",
      "  full_value = full_payments_value[group[\"order_id\"]][0]\n",
      "C:\\Users\\PW\\AppData\\Local\\Temp\\ipykernel_8168\\3155147829.py:20: FutureWarning: Series.__getitem__ treating keys as positions is deprecated. In a future version, integer keys will always be treated as labels (consistent with DataFrame behavior). To access a value by position, use `ser.iloc[pos]`\n",
      "  full_value = full_payments_value[group[\"order_id\"]][0]\n",
      "C:\\Users\\PW\\AppData\\Local\\Temp\\ipykernel_8168\\3155147829.py:20: FutureWarning: Series.__getitem__ treating keys as positions is deprecated. In a future version, integer keys will always be treated as labels (consistent with DataFrame behavior). To access a value by position, use `ser.iloc[pos]`\n",
      "  full_value = full_payments_value[group[\"order_id\"]][0]\n",
      "C:\\Users\\PW\\AppData\\Local\\Temp\\ipykernel_8168\\3155147829.py:20: FutureWarning: Series.__getitem__ treating keys as positions is deprecated. In a future version, integer keys will always be treated as labels (consistent with DataFrame behavior). To access a value by position, use `ser.iloc[pos]`\n",
      "  full_value = full_payments_value[group[\"order_id\"]][0]\n",
      "C:\\Users\\PW\\AppData\\Local\\Temp\\ipykernel_8168\\3155147829.py:20: FutureWarning: Series.__getitem__ treating keys as positions is deprecated. In a future version, integer keys will always be treated as labels (consistent with DataFrame behavior). To access a value by position, use `ser.iloc[pos]`\n",
      "  full_value = full_payments_value[group[\"order_id\"]][0]\n",
      "C:\\Users\\PW\\AppData\\Local\\Temp\\ipykernel_8168\\3155147829.py:20: FutureWarning: Series.__getitem__ treating keys as positions is deprecated. In a future version, integer keys will always be treated as labels (consistent with DataFrame behavior). To access a value by position, use `ser.iloc[pos]`\n",
      "  full_value = full_payments_value[group[\"order_id\"]][0]\n",
      "C:\\Users\\PW\\AppData\\Local\\Temp\\ipykernel_8168\\3155147829.py:20: FutureWarning: Series.__getitem__ treating keys as positions is deprecated. In a future version, integer keys will always be treated as labels (consistent with DataFrame behavior). To access a value by position, use `ser.iloc[pos]`\n",
      "  full_value = full_payments_value[group[\"order_id\"]][0]\n",
      "C:\\Users\\PW\\AppData\\Local\\Temp\\ipykernel_8168\\3155147829.py:20: FutureWarning: Series.__getitem__ treating keys as positions is deprecated. In a future version, integer keys will always be treated as labels (consistent with DataFrame behavior). To access a value by position, use `ser.iloc[pos]`\n",
      "  full_value = full_payments_value[group[\"order_id\"]][0]\n",
      "C:\\Users\\PW\\AppData\\Local\\Temp\\ipykernel_8168\\3155147829.py:20: FutureWarning: Series.__getitem__ treating keys as positions is deprecated. In a future version, integer keys will always be treated as labels (consistent with DataFrame behavior). To access a value by position, use `ser.iloc[pos]`\n",
      "  full_value = full_payments_value[group[\"order_id\"]][0]\n",
      "C:\\Users\\PW\\AppData\\Local\\Temp\\ipykernel_8168\\3155147829.py:20: FutureWarning: Series.__getitem__ treating keys as positions is deprecated. In a future version, integer keys will always be treated as labels (consistent with DataFrame behavior). To access a value by position, use `ser.iloc[pos]`\n",
      "  full_value = full_payments_value[group[\"order_id\"]][0]\n",
      "C:\\Users\\PW\\AppData\\Local\\Temp\\ipykernel_8168\\3155147829.py:20: FutureWarning: Series.__getitem__ treating keys as positions is deprecated. In a future version, integer keys will always be treated as labels (consistent with DataFrame behavior). To access a value by position, use `ser.iloc[pos]`\n",
      "  full_value = full_payments_value[group[\"order_id\"]][0]\n",
      "C:\\Users\\PW\\AppData\\Local\\Temp\\ipykernel_8168\\3155147829.py:20: FutureWarning: Series.__getitem__ treating keys as positions is deprecated. In a future version, integer keys will always be treated as labels (consistent with DataFrame behavior). To access a value by position, use `ser.iloc[pos]`\n",
      "  full_value = full_payments_value[group[\"order_id\"]][0]\n",
      "C:\\Users\\PW\\AppData\\Local\\Temp\\ipykernel_8168\\3155147829.py:20: FutureWarning: Series.__getitem__ treating keys as positions is deprecated. In a future version, integer keys will always be treated as labels (consistent with DataFrame behavior). To access a value by position, use `ser.iloc[pos]`\n",
      "  full_value = full_payments_value[group[\"order_id\"]][0]\n",
      "C:\\Users\\PW\\AppData\\Local\\Temp\\ipykernel_8168\\3155147829.py:20: FutureWarning: Series.__getitem__ treating keys as positions is deprecated. In a future version, integer keys will always be treated as labels (consistent with DataFrame behavior). To access a value by position, use `ser.iloc[pos]`\n",
      "  full_value = full_payments_value[group[\"order_id\"]][0]\n",
      "C:\\Users\\PW\\AppData\\Local\\Temp\\ipykernel_8168\\3155147829.py:20: FutureWarning: Series.__getitem__ treating keys as positions is deprecated. In a future version, integer keys will always be treated as labels (consistent with DataFrame behavior). To access a value by position, use `ser.iloc[pos]`\n",
      "  full_value = full_payments_value[group[\"order_id\"]][0]\n",
      "C:\\Users\\PW\\AppData\\Local\\Temp\\ipykernel_8168\\3155147829.py:20: FutureWarning: Series.__getitem__ treating keys as positions is deprecated. In a future version, integer keys will always be treated as labels (consistent with DataFrame behavior). To access a value by position, use `ser.iloc[pos]`\n",
      "  full_value = full_payments_value[group[\"order_id\"]][0]\n",
      "C:\\Users\\PW\\AppData\\Local\\Temp\\ipykernel_8168\\3155147829.py:20: FutureWarning: Series.__getitem__ treating keys as positions is deprecated. In a future version, integer keys will always be treated as labels (consistent with DataFrame behavior). To access a value by position, use `ser.iloc[pos]`\n",
      "  full_value = full_payments_value[group[\"order_id\"]][0]\n",
      "C:\\Users\\PW\\AppData\\Local\\Temp\\ipykernel_8168\\3155147829.py:20: FutureWarning: Series.__getitem__ treating keys as positions is deprecated. In a future version, integer keys will always be treated as labels (consistent with DataFrame behavior). To access a value by position, use `ser.iloc[pos]`\n",
      "  full_value = full_payments_value[group[\"order_id\"]][0]\n",
      "C:\\Users\\PW\\AppData\\Local\\Temp\\ipykernel_8168\\3155147829.py:20: FutureWarning: Series.__getitem__ treating keys as positions is deprecated. In a future version, integer keys will always be treated as labels (consistent with DataFrame behavior). To access a value by position, use `ser.iloc[pos]`\n",
      "  full_value = full_payments_value[group[\"order_id\"]][0]\n",
      "C:\\Users\\PW\\AppData\\Local\\Temp\\ipykernel_8168\\3155147829.py:20: FutureWarning: Series.__getitem__ treating keys as positions is deprecated. In a future version, integer keys will always be treated as labels (consistent with DataFrame behavior). To access a value by position, use `ser.iloc[pos]`\n",
      "  full_value = full_payments_value[group[\"order_id\"]][0]\n",
      "C:\\Users\\PW\\AppData\\Local\\Temp\\ipykernel_8168\\3155147829.py:20: FutureWarning: Series.__getitem__ treating keys as positions is deprecated. In a future version, integer keys will always be treated as labels (consistent with DataFrame behavior). To access a value by position, use `ser.iloc[pos]`\n",
      "  full_value = full_payments_value[group[\"order_id\"]][0]\n",
      "C:\\Users\\PW\\AppData\\Local\\Temp\\ipykernel_8168\\3155147829.py:20: FutureWarning: Series.__getitem__ treating keys as positions is deprecated. In a future version, integer keys will always be treated as labels (consistent with DataFrame behavior). To access a value by position, use `ser.iloc[pos]`\n",
      "  full_value = full_payments_value[group[\"order_id\"]][0]\n",
      "C:\\Users\\PW\\AppData\\Local\\Temp\\ipykernel_8168\\3155147829.py:20: FutureWarning: Series.__getitem__ treating keys as positions is deprecated. In a future version, integer keys will always be treated as labels (consistent with DataFrame behavior). To access a value by position, use `ser.iloc[pos]`\n",
      "  full_value = full_payments_value[group[\"order_id\"]][0]\n",
      "C:\\Users\\PW\\AppData\\Local\\Temp\\ipykernel_8168\\3155147829.py:20: FutureWarning: Series.__getitem__ treating keys as positions is deprecated. In a future version, integer keys will always be treated as labels (consistent with DataFrame behavior). To access a value by position, use `ser.iloc[pos]`\n",
      "  full_value = full_payments_value[group[\"order_id\"]][0]\n",
      "C:\\Users\\PW\\AppData\\Local\\Temp\\ipykernel_8168\\3155147829.py:20: FutureWarning: Series.__getitem__ treating keys as positions is deprecated. In a future version, integer keys will always be treated as labels (consistent with DataFrame behavior). To access a value by position, use `ser.iloc[pos]`\n",
      "  full_value = full_payments_value[group[\"order_id\"]][0]\n",
      "C:\\Users\\PW\\AppData\\Local\\Temp\\ipykernel_8168\\3155147829.py:20: FutureWarning: Series.__getitem__ treating keys as positions is deprecated. In a future version, integer keys will always be treated as labels (consistent with DataFrame behavior). To access a value by position, use `ser.iloc[pos]`\n",
      "  full_value = full_payments_value[group[\"order_id\"]][0]\n",
      "C:\\Users\\PW\\AppData\\Local\\Temp\\ipykernel_8168\\3155147829.py:20: FutureWarning: Series.__getitem__ treating keys as positions is deprecated. In a future version, integer keys will always be treated as labels (consistent with DataFrame behavior). To access a value by position, use `ser.iloc[pos]`\n",
      "  full_value = full_payments_value[group[\"order_id\"]][0]\n",
      "C:\\Users\\PW\\AppData\\Local\\Temp\\ipykernel_8168\\3155147829.py:20: FutureWarning: Series.__getitem__ treating keys as positions is deprecated. In a future version, integer keys will always be treated as labels (consistent with DataFrame behavior). To access a value by position, use `ser.iloc[pos]`\n",
      "  full_value = full_payments_value[group[\"order_id\"]][0]\n",
      "C:\\Users\\PW\\AppData\\Local\\Temp\\ipykernel_8168\\3155147829.py:20: FutureWarning: Series.__getitem__ treating keys as positions is deprecated. In a future version, integer keys will always be treated as labels (consistent with DataFrame behavior). To access a value by position, use `ser.iloc[pos]`\n",
      "  full_value = full_payments_value[group[\"order_id\"]][0]\n",
      "C:\\Users\\PW\\AppData\\Local\\Temp\\ipykernel_8168\\3155147829.py:20: FutureWarning: Series.__getitem__ treating keys as positions is deprecated. In a future version, integer keys will always be treated as labels (consistent with DataFrame behavior). To access a value by position, use `ser.iloc[pos]`\n",
      "  full_value = full_payments_value[group[\"order_id\"]][0]\n",
      "C:\\Users\\PW\\AppData\\Local\\Temp\\ipykernel_8168\\3155147829.py:20: FutureWarning: Series.__getitem__ treating keys as positions is deprecated. In a future version, integer keys will always be treated as labels (consistent with DataFrame behavior). To access a value by position, use `ser.iloc[pos]`\n",
      "  full_value = full_payments_value[group[\"order_id\"]][0]\n",
      "C:\\Users\\PW\\AppData\\Local\\Temp\\ipykernel_8168\\3155147829.py:20: FutureWarning: Series.__getitem__ treating keys as positions is deprecated. In a future version, integer keys will always be treated as labels (consistent with DataFrame behavior). To access a value by position, use `ser.iloc[pos]`\n",
      "  full_value = full_payments_value[group[\"order_id\"]][0]\n",
      "C:\\Users\\PW\\AppData\\Local\\Temp\\ipykernel_8168\\3155147829.py:20: FutureWarning: Series.__getitem__ treating keys as positions is deprecated. In a future version, integer keys will always be treated as labels (consistent with DataFrame behavior). To access a value by position, use `ser.iloc[pos]`\n",
      "  full_value = full_payments_value[group[\"order_id\"]][0]\n",
      "C:\\Users\\PW\\AppData\\Local\\Temp\\ipykernel_8168\\3155147829.py:20: FutureWarning: Series.__getitem__ treating keys as positions is deprecated. In a future version, integer keys will always be treated as labels (consistent with DataFrame behavior). To access a value by position, use `ser.iloc[pos]`\n",
      "  full_value = full_payments_value[group[\"order_id\"]][0]\n",
      "C:\\Users\\PW\\AppData\\Local\\Temp\\ipykernel_8168\\3155147829.py:20: FutureWarning: Series.__getitem__ treating keys as positions is deprecated. In a future version, integer keys will always be treated as labels (consistent with DataFrame behavior). To access a value by position, use `ser.iloc[pos]`\n",
      "  full_value = full_payments_value[group[\"order_id\"]][0]\n",
      "C:\\Users\\PW\\AppData\\Local\\Temp\\ipykernel_8168\\3155147829.py:20: FutureWarning: Series.__getitem__ treating keys as positions is deprecated. In a future version, integer keys will always be treated as labels (consistent with DataFrame behavior). To access a value by position, use `ser.iloc[pos]`\n",
      "  full_value = full_payments_value[group[\"order_id\"]][0]\n",
      "C:\\Users\\PW\\AppData\\Local\\Temp\\ipykernel_8168\\3155147829.py:20: FutureWarning: Series.__getitem__ treating keys as positions is deprecated. In a future version, integer keys will always be treated as labels (consistent with DataFrame behavior). To access a value by position, use `ser.iloc[pos]`\n",
      "  full_value = full_payments_value[group[\"order_id\"]][0]\n",
      "C:\\Users\\PW\\AppData\\Local\\Temp\\ipykernel_8168\\3155147829.py:20: FutureWarning: Series.__getitem__ treating keys as positions is deprecated. In a future version, integer keys will always be treated as labels (consistent with DataFrame behavior). To access a value by position, use `ser.iloc[pos]`\n",
      "  full_value = full_payments_value[group[\"order_id\"]][0]\n",
      "C:\\Users\\PW\\AppData\\Local\\Temp\\ipykernel_8168\\3155147829.py:20: FutureWarning: Series.__getitem__ treating keys as positions is deprecated. In a future version, integer keys will always be treated as labels (consistent with DataFrame behavior). To access a value by position, use `ser.iloc[pos]`\n",
      "  full_value = full_payments_value[group[\"order_id\"]][0]\n",
      "C:\\Users\\PW\\AppData\\Local\\Temp\\ipykernel_8168\\3155147829.py:20: FutureWarning: Series.__getitem__ treating keys as positions is deprecated. In a future version, integer keys will always be treated as labels (consistent with DataFrame behavior). To access a value by position, use `ser.iloc[pos]`\n",
      "  full_value = full_payments_value[group[\"order_id\"]][0]\n",
      "C:\\Users\\PW\\AppData\\Local\\Temp\\ipykernel_8168\\3155147829.py:20: FutureWarning: Series.__getitem__ treating keys as positions is deprecated. In a future version, integer keys will always be treated as labels (consistent with DataFrame behavior). To access a value by position, use `ser.iloc[pos]`\n",
      "  full_value = full_payments_value[group[\"order_id\"]][0]\n",
      "C:\\Users\\PW\\AppData\\Local\\Temp\\ipykernel_8168\\3155147829.py:20: FutureWarning: Series.__getitem__ treating keys as positions is deprecated. In a future version, integer keys will always be treated as labels (consistent with DataFrame behavior). To access a value by position, use `ser.iloc[pos]`\n",
      "  full_value = full_payments_value[group[\"order_id\"]][0]\n",
      "C:\\Users\\PW\\AppData\\Local\\Temp\\ipykernel_8168\\3155147829.py:20: FutureWarning: Series.__getitem__ treating keys as positions is deprecated. In a future version, integer keys will always be treated as labels (consistent with DataFrame behavior). To access a value by position, use `ser.iloc[pos]`\n",
      "  full_value = full_payments_value[group[\"order_id\"]][0]\n",
      "C:\\Users\\PW\\AppData\\Local\\Temp\\ipykernel_8168\\3155147829.py:20: FutureWarning: Series.__getitem__ treating keys as positions is deprecated. In a future version, integer keys will always be treated as labels (consistent with DataFrame behavior). To access a value by position, use `ser.iloc[pos]`\n",
      "  full_value = full_payments_value[group[\"order_id\"]][0]\n",
      "C:\\Users\\PW\\AppData\\Local\\Temp\\ipykernel_8168\\3155147829.py:20: FutureWarning: Series.__getitem__ treating keys as positions is deprecated. In a future version, integer keys will always be treated as labels (consistent with DataFrame behavior). To access a value by position, use `ser.iloc[pos]`\n",
      "  full_value = full_payments_value[group[\"order_id\"]][0]\n",
      "C:\\Users\\PW\\AppData\\Local\\Temp\\ipykernel_8168\\3155147829.py:20: FutureWarning: Series.__getitem__ treating keys as positions is deprecated. In a future version, integer keys will always be treated as labels (consistent with DataFrame behavior). To access a value by position, use `ser.iloc[pos]`\n",
      "  full_value = full_payments_value[group[\"order_id\"]][0]\n",
      "C:\\Users\\PW\\AppData\\Local\\Temp\\ipykernel_8168\\3155147829.py:20: FutureWarning: Series.__getitem__ treating keys as positions is deprecated. In a future version, integer keys will always be treated as labels (consistent with DataFrame behavior). To access a value by position, use `ser.iloc[pos]`\n",
      "  full_value = full_payments_value[group[\"order_id\"]][0]\n",
      "C:\\Users\\PW\\AppData\\Local\\Temp\\ipykernel_8168\\3155147829.py:20: FutureWarning: Series.__getitem__ treating keys as positions is deprecated. In a future version, integer keys will always be treated as labels (consistent with DataFrame behavior). To access a value by position, use `ser.iloc[pos]`\n",
      "  full_value = full_payments_value[group[\"order_id\"]][0]\n",
      "C:\\Users\\PW\\AppData\\Local\\Temp\\ipykernel_8168\\3155147829.py:20: FutureWarning: Series.__getitem__ treating keys as positions is deprecated. In a future version, integer keys will always be treated as labels (consistent with DataFrame behavior). To access a value by position, use `ser.iloc[pos]`\n",
      "  full_value = full_payments_value[group[\"order_id\"]][0]\n",
      "C:\\Users\\PW\\AppData\\Local\\Temp\\ipykernel_8168\\3155147829.py:20: FutureWarning: Series.__getitem__ treating keys as positions is deprecated. In a future version, integer keys will always be treated as labels (consistent with DataFrame behavior). To access a value by position, use `ser.iloc[pos]`\n",
      "  full_value = full_payments_value[group[\"order_id\"]][0]\n",
      "C:\\Users\\PW\\AppData\\Local\\Temp\\ipykernel_8168\\3155147829.py:20: FutureWarning: Series.__getitem__ treating keys as positions is deprecated. In a future version, integer keys will always be treated as labels (consistent with DataFrame behavior). To access a value by position, use `ser.iloc[pos]`\n",
      "  full_value = full_payments_value[group[\"order_id\"]][0]\n",
      "C:\\Users\\PW\\AppData\\Local\\Temp\\ipykernel_8168\\3155147829.py:20: FutureWarning: Series.__getitem__ treating keys as positions is deprecated. In a future version, integer keys will always be treated as labels (consistent with DataFrame behavior). To access a value by position, use `ser.iloc[pos]`\n",
      "  full_value = full_payments_value[group[\"order_id\"]][0]\n",
      "C:\\Users\\PW\\AppData\\Local\\Temp\\ipykernel_8168\\3155147829.py:20: FutureWarning: Series.__getitem__ treating keys as positions is deprecated. In a future version, integer keys will always be treated as labels (consistent with DataFrame behavior). To access a value by position, use `ser.iloc[pos]`\n",
      "  full_value = full_payments_value[group[\"order_id\"]][0]\n",
      "C:\\Users\\PW\\AppData\\Local\\Temp\\ipykernel_8168\\3155147829.py:20: FutureWarning: Series.__getitem__ treating keys as positions is deprecated. In a future version, integer keys will always be treated as labels (consistent with DataFrame behavior). To access a value by position, use `ser.iloc[pos]`\n",
      "  full_value = full_payments_value[group[\"order_id\"]][0]\n",
      "C:\\Users\\PW\\AppData\\Local\\Temp\\ipykernel_8168\\3155147829.py:20: FutureWarning: Series.__getitem__ treating keys as positions is deprecated. In a future version, integer keys will always be treated as labels (consistent with DataFrame behavior). To access a value by position, use `ser.iloc[pos]`\n",
      "  full_value = full_payments_value[group[\"order_id\"]][0]\n",
      "C:\\Users\\PW\\AppData\\Local\\Temp\\ipykernel_8168\\3155147829.py:20: FutureWarning: Series.__getitem__ treating keys as positions is deprecated. In a future version, integer keys will always be treated as labels (consistent with DataFrame behavior). To access a value by position, use `ser.iloc[pos]`\n",
      "  full_value = full_payments_value[group[\"order_id\"]][0]\n",
      "C:\\Users\\PW\\AppData\\Local\\Temp\\ipykernel_8168\\3155147829.py:20: FutureWarning: Series.__getitem__ treating keys as positions is deprecated. In a future version, integer keys will always be treated as labels (consistent with DataFrame behavior). To access a value by position, use `ser.iloc[pos]`\n",
      "  full_value = full_payments_value[group[\"order_id\"]][0]\n",
      "C:\\Users\\PW\\AppData\\Local\\Temp\\ipykernel_8168\\3155147829.py:20: FutureWarning: Series.__getitem__ treating keys as positions is deprecated. In a future version, integer keys will always be treated as labels (consistent with DataFrame behavior). To access a value by position, use `ser.iloc[pos]`\n",
      "  full_value = full_payments_value[group[\"order_id\"]][0]\n",
      "C:\\Users\\PW\\AppData\\Local\\Temp\\ipykernel_8168\\3155147829.py:20: FutureWarning: Series.__getitem__ treating keys as positions is deprecated. In a future version, integer keys will always be treated as labels (consistent with DataFrame behavior). To access a value by position, use `ser.iloc[pos]`\n",
      "  full_value = full_payments_value[group[\"order_id\"]][0]\n",
      "C:\\Users\\PW\\AppData\\Local\\Temp\\ipykernel_8168\\3155147829.py:20: FutureWarning: Series.__getitem__ treating keys as positions is deprecated. In a future version, integer keys will always be treated as labels (consistent with DataFrame behavior). To access a value by position, use `ser.iloc[pos]`\n",
      "  full_value = full_payments_value[group[\"order_id\"]][0]\n",
      "C:\\Users\\PW\\AppData\\Local\\Temp\\ipykernel_8168\\3155147829.py:20: FutureWarning: Series.__getitem__ treating keys as positions is deprecated. In a future version, integer keys will always be treated as labels (consistent with DataFrame behavior). To access a value by position, use `ser.iloc[pos]`\n",
      "  full_value = full_payments_value[group[\"order_id\"]][0]\n",
      "C:\\Users\\PW\\AppData\\Local\\Temp\\ipykernel_8168\\3155147829.py:20: FutureWarning: Series.__getitem__ treating keys as positions is deprecated. In a future version, integer keys will always be treated as labels (consistent with DataFrame behavior). To access a value by position, use `ser.iloc[pos]`\n",
      "  full_value = full_payments_value[group[\"order_id\"]][0]\n",
      "C:\\Users\\PW\\AppData\\Local\\Temp\\ipykernel_8168\\3155147829.py:20: FutureWarning: Series.__getitem__ treating keys as positions is deprecated. In a future version, integer keys will always be treated as labels (consistent with DataFrame behavior). To access a value by position, use `ser.iloc[pos]`\n",
      "  full_value = full_payments_value[group[\"order_id\"]][0]\n",
      "C:\\Users\\PW\\AppData\\Local\\Temp\\ipykernel_8168\\3155147829.py:20: FutureWarning: Series.__getitem__ treating keys as positions is deprecated. In a future version, integer keys will always be treated as labels (consistent with DataFrame behavior). To access a value by position, use `ser.iloc[pos]`\n",
      "  full_value = full_payments_value[group[\"order_id\"]][0]\n",
      "C:\\Users\\PW\\AppData\\Local\\Temp\\ipykernel_8168\\3155147829.py:20: FutureWarning: Series.__getitem__ treating keys as positions is deprecated. In a future version, integer keys will always be treated as labels (consistent with DataFrame behavior). To access a value by position, use `ser.iloc[pos]`\n",
      "  full_value = full_payments_value[group[\"order_id\"]][0]\n",
      "C:\\Users\\PW\\AppData\\Local\\Temp\\ipykernel_8168\\3155147829.py:20: FutureWarning: Series.__getitem__ treating keys as positions is deprecated. In a future version, integer keys will always be treated as labels (consistent with DataFrame behavior). To access a value by position, use `ser.iloc[pos]`\n",
      "  full_value = full_payments_value[group[\"order_id\"]][0]\n",
      "C:\\Users\\PW\\AppData\\Local\\Temp\\ipykernel_8168\\3155147829.py:20: FutureWarning: Series.__getitem__ treating keys as positions is deprecated. In a future version, integer keys will always be treated as labels (consistent with DataFrame behavior). To access a value by position, use `ser.iloc[pos]`\n",
      "  full_value = full_payments_value[group[\"order_id\"]][0]\n",
      "C:\\Users\\PW\\AppData\\Local\\Temp\\ipykernel_8168\\3155147829.py:20: FutureWarning: Series.__getitem__ treating keys as positions is deprecated. In a future version, integer keys will always be treated as labels (consistent with DataFrame behavior). To access a value by position, use `ser.iloc[pos]`\n",
      "  full_value = full_payments_value[group[\"order_id\"]][0]\n",
      "C:\\Users\\PW\\AppData\\Local\\Temp\\ipykernel_8168\\3155147829.py:20: FutureWarning: Series.__getitem__ treating keys as positions is deprecated. In a future version, integer keys will always be treated as labels (consistent with DataFrame behavior). To access a value by position, use `ser.iloc[pos]`\n",
      "  full_value = full_payments_value[group[\"order_id\"]][0]\n",
      "C:\\Users\\PW\\AppData\\Local\\Temp\\ipykernel_8168\\3155147829.py:20: FutureWarning: Series.__getitem__ treating keys as positions is deprecated. In a future version, integer keys will always be treated as labels (consistent with DataFrame behavior). To access a value by position, use `ser.iloc[pos]`\n",
      "  full_value = full_payments_value[group[\"order_id\"]][0]\n",
      "C:\\Users\\PW\\AppData\\Local\\Temp\\ipykernel_8168\\3155147829.py:20: FutureWarning: Series.__getitem__ treating keys as positions is deprecated. In a future version, integer keys will always be treated as labels (consistent with DataFrame behavior). To access a value by position, use `ser.iloc[pos]`\n",
      "  full_value = full_payments_value[group[\"order_id\"]][0]\n",
      "C:\\Users\\PW\\AppData\\Local\\Temp\\ipykernel_8168\\3155147829.py:20: FutureWarning: Series.__getitem__ treating keys as positions is deprecated. In a future version, integer keys will always be treated as labels (consistent with DataFrame behavior). To access a value by position, use `ser.iloc[pos]`\n",
      "  full_value = full_payments_value[group[\"order_id\"]][0]\n",
      "C:\\Users\\PW\\AppData\\Local\\Temp\\ipykernel_8168\\3155147829.py:20: FutureWarning: Series.__getitem__ treating keys as positions is deprecated. In a future version, integer keys will always be treated as labels (consistent with DataFrame behavior). To access a value by position, use `ser.iloc[pos]`\n",
      "  full_value = full_payments_value[group[\"order_id\"]][0]\n",
      "C:\\Users\\PW\\AppData\\Local\\Temp\\ipykernel_8168\\3155147829.py:20: FutureWarning: Series.__getitem__ treating keys as positions is deprecated. In a future version, integer keys will always be treated as labels (consistent with DataFrame behavior). To access a value by position, use `ser.iloc[pos]`\n",
      "  full_value = full_payments_value[group[\"order_id\"]][0]\n",
      "C:\\Users\\PW\\AppData\\Local\\Temp\\ipykernel_8168\\3155147829.py:20: FutureWarning: Series.__getitem__ treating keys as positions is deprecated. In a future version, integer keys will always be treated as labels (consistent with DataFrame behavior). To access a value by position, use `ser.iloc[pos]`\n",
      "  full_value = full_payments_value[group[\"order_id\"]][0]\n",
      "C:\\Users\\PW\\AppData\\Local\\Temp\\ipykernel_8168\\3155147829.py:20: FutureWarning: Series.__getitem__ treating keys as positions is deprecated. In a future version, integer keys will always be treated as labels (consistent with DataFrame behavior). To access a value by position, use `ser.iloc[pos]`\n",
      "  full_value = full_payments_value[group[\"order_id\"]][0]\n",
      "C:\\Users\\PW\\AppData\\Local\\Temp\\ipykernel_8168\\3155147829.py:20: FutureWarning: Series.__getitem__ treating keys as positions is deprecated. In a future version, integer keys will always be treated as labels (consistent with DataFrame behavior). To access a value by position, use `ser.iloc[pos]`\n",
      "  full_value = full_payments_value[group[\"order_id\"]][0]\n",
      "C:\\Users\\PW\\AppData\\Local\\Temp\\ipykernel_8168\\3155147829.py:20: FutureWarning: Series.__getitem__ treating keys as positions is deprecated. In a future version, integer keys will always be treated as labels (consistent with DataFrame behavior). To access a value by position, use `ser.iloc[pos]`\n",
      "  full_value = full_payments_value[group[\"order_id\"]][0]\n",
      "C:\\Users\\PW\\AppData\\Local\\Temp\\ipykernel_8168\\3155147829.py:20: FutureWarning: Series.__getitem__ treating keys as positions is deprecated. In a future version, integer keys will always be treated as labels (consistent with DataFrame behavior). To access a value by position, use `ser.iloc[pos]`\n",
      "  full_value = full_payments_value[group[\"order_id\"]][0]\n",
      "C:\\Users\\PW\\AppData\\Local\\Temp\\ipykernel_8168\\3155147829.py:20: FutureWarning: Series.__getitem__ treating keys as positions is deprecated. In a future version, integer keys will always be treated as labels (consistent with DataFrame behavior). To access a value by position, use `ser.iloc[pos]`\n",
      "  full_value = full_payments_value[group[\"order_id\"]][0]\n",
      "C:\\Users\\PW\\AppData\\Local\\Temp\\ipykernel_8168\\3155147829.py:20: FutureWarning: Series.__getitem__ treating keys as positions is deprecated. In a future version, integer keys will always be treated as labels (consistent with DataFrame behavior). To access a value by position, use `ser.iloc[pos]`\n",
      "  full_value = full_payments_value[group[\"order_id\"]][0]\n",
      "C:\\Users\\PW\\AppData\\Local\\Temp\\ipykernel_8168\\3155147829.py:20: FutureWarning: Series.__getitem__ treating keys as positions is deprecated. In a future version, integer keys will always be treated as labels (consistent with DataFrame behavior). To access a value by position, use `ser.iloc[pos]`\n",
      "  full_value = full_payments_value[group[\"order_id\"]][0]\n",
      "C:\\Users\\PW\\AppData\\Local\\Temp\\ipykernel_8168\\3155147829.py:20: FutureWarning: Series.__getitem__ treating keys as positions is deprecated. In a future version, integer keys will always be treated as labels (consistent with DataFrame behavior). To access a value by position, use `ser.iloc[pos]`\n",
      "  full_value = full_payments_value[group[\"order_id\"]][0]\n",
      "C:\\Users\\PW\\AppData\\Local\\Temp\\ipykernel_8168\\3155147829.py:20: FutureWarning: Series.__getitem__ treating keys as positions is deprecated. In a future version, integer keys will always be treated as labels (consistent with DataFrame behavior). To access a value by position, use `ser.iloc[pos]`\n",
      "  full_value = full_payments_value[group[\"order_id\"]][0]\n",
      "C:\\Users\\PW\\AppData\\Local\\Temp\\ipykernel_8168\\3155147829.py:20: FutureWarning: Series.__getitem__ treating keys as positions is deprecated. In a future version, integer keys will always be treated as labels (consistent with DataFrame behavior). To access a value by position, use `ser.iloc[pos]`\n",
      "  full_value = full_payments_value[group[\"order_id\"]][0]\n",
      "C:\\Users\\PW\\AppData\\Local\\Temp\\ipykernel_8168\\3155147829.py:20: FutureWarning: Series.__getitem__ treating keys as positions is deprecated. In a future version, integer keys will always be treated as labels (consistent with DataFrame behavior). To access a value by position, use `ser.iloc[pos]`\n",
      "  full_value = full_payments_value[group[\"order_id\"]][0]\n",
      "C:\\Users\\PW\\AppData\\Local\\Temp\\ipykernel_8168\\3155147829.py:20: FutureWarning: Series.__getitem__ treating keys as positions is deprecated. In a future version, integer keys will always be treated as labels (consistent with DataFrame behavior). To access a value by position, use `ser.iloc[pos]`\n",
      "  full_value = full_payments_value[group[\"order_id\"]][0]\n",
      "C:\\Users\\PW\\AppData\\Local\\Temp\\ipykernel_8168\\3155147829.py:20: FutureWarning: Series.__getitem__ treating keys as positions is deprecated. In a future version, integer keys will always be treated as labels (consistent with DataFrame behavior). To access a value by position, use `ser.iloc[pos]`\n",
      "  full_value = full_payments_value[group[\"order_id\"]][0]\n",
      "C:\\Users\\PW\\AppData\\Local\\Temp\\ipykernel_8168\\3155147829.py:20: FutureWarning: Series.__getitem__ treating keys as positions is deprecated. In a future version, integer keys will always be treated as labels (consistent with DataFrame behavior). To access a value by position, use `ser.iloc[pos]`\n",
      "  full_value = full_payments_value[group[\"order_id\"]][0]\n",
      "C:\\Users\\PW\\AppData\\Local\\Temp\\ipykernel_8168\\3155147829.py:20: FutureWarning: Series.__getitem__ treating keys as positions is deprecated. In a future version, integer keys will always be treated as labels (consistent with DataFrame behavior). To access a value by position, use `ser.iloc[pos]`\n",
      "  full_value = full_payments_value[group[\"order_id\"]][0]\n",
      "C:\\Users\\PW\\AppData\\Local\\Temp\\ipykernel_8168\\3155147829.py:20: FutureWarning: Series.__getitem__ treating keys as positions is deprecated. In a future version, integer keys will always be treated as labels (consistent with DataFrame behavior). To access a value by position, use `ser.iloc[pos]`\n",
      "  full_value = full_payments_value[group[\"order_id\"]][0]\n",
      "C:\\Users\\PW\\AppData\\Local\\Temp\\ipykernel_8168\\3155147829.py:20: FutureWarning: Series.__getitem__ treating keys as positions is deprecated. In a future version, integer keys will always be treated as labels (consistent with DataFrame behavior). To access a value by position, use `ser.iloc[pos]`\n",
      "  full_value = full_payments_value[group[\"order_id\"]][0]\n",
      "C:\\Users\\PW\\AppData\\Local\\Temp\\ipykernel_8168\\3155147829.py:20: FutureWarning: Series.__getitem__ treating keys as positions is deprecated. In a future version, integer keys will always be treated as labels (consistent with DataFrame behavior). To access a value by position, use `ser.iloc[pos]`\n",
      "  full_value = full_payments_value[group[\"order_id\"]][0]\n",
      "C:\\Users\\PW\\AppData\\Local\\Temp\\ipykernel_8168\\3155147829.py:20: FutureWarning: Series.__getitem__ treating keys as positions is deprecated. In a future version, integer keys will always be treated as labels (consistent with DataFrame behavior). To access a value by position, use `ser.iloc[pos]`\n",
      "  full_value = full_payments_value[group[\"order_id\"]][0]\n",
      "C:\\Users\\PW\\AppData\\Local\\Temp\\ipykernel_8168\\3155147829.py:20: FutureWarning: Series.__getitem__ treating keys as positions is deprecated. In a future version, integer keys will always be treated as labels (consistent with DataFrame behavior). To access a value by position, use `ser.iloc[pos]`\n",
      "  full_value = full_payments_value[group[\"order_id\"]][0]\n",
      "C:\\Users\\PW\\AppData\\Local\\Temp\\ipykernel_8168\\3155147829.py:20: FutureWarning: Series.__getitem__ treating keys as positions is deprecated. In a future version, integer keys will always be treated as labels (consistent with DataFrame behavior). To access a value by position, use `ser.iloc[pos]`\n",
      "  full_value = full_payments_value[group[\"order_id\"]][0]\n",
      "C:\\Users\\PW\\AppData\\Local\\Temp\\ipykernel_8168\\3155147829.py:20: FutureWarning: Series.__getitem__ treating keys as positions is deprecated. In a future version, integer keys will always be treated as labels (consistent with DataFrame behavior). To access a value by position, use `ser.iloc[pos]`\n",
      "  full_value = full_payments_value[group[\"order_id\"]][0]\n",
      "C:\\Users\\PW\\AppData\\Local\\Temp\\ipykernel_8168\\3155147829.py:20: FutureWarning: Series.__getitem__ treating keys as positions is deprecated. In a future version, integer keys will always be treated as labels (consistent with DataFrame behavior). To access a value by position, use `ser.iloc[pos]`\n",
      "  full_value = full_payments_value[group[\"order_id\"]][0]\n",
      "C:\\Users\\PW\\AppData\\Local\\Temp\\ipykernel_8168\\3155147829.py:20: FutureWarning: Series.__getitem__ treating keys as positions is deprecated. In a future version, integer keys will always be treated as labels (consistent with DataFrame behavior). To access a value by position, use `ser.iloc[pos]`\n",
      "  full_value = full_payments_value[group[\"order_id\"]][0]\n",
      "C:\\Users\\PW\\AppData\\Local\\Temp\\ipykernel_8168\\3155147829.py:20: FutureWarning: Series.__getitem__ treating keys as positions is deprecated. In a future version, integer keys will always be treated as labels (consistent with DataFrame behavior). To access a value by position, use `ser.iloc[pos]`\n",
      "  full_value = full_payments_value[group[\"order_id\"]][0]\n",
      "C:\\Users\\PW\\AppData\\Local\\Temp\\ipykernel_8168\\3155147829.py:20: FutureWarning: Series.__getitem__ treating keys as positions is deprecated. In a future version, integer keys will always be treated as labels (consistent with DataFrame behavior). To access a value by position, use `ser.iloc[pos]`\n",
      "  full_value = full_payments_value[group[\"order_id\"]][0]\n",
      "C:\\Users\\PW\\AppData\\Local\\Temp\\ipykernel_8168\\3155147829.py:20: FutureWarning: Series.__getitem__ treating keys as positions is deprecated. In a future version, integer keys will always be treated as labels (consistent with DataFrame behavior). To access a value by position, use `ser.iloc[pos]`\n",
      "  full_value = full_payments_value[group[\"order_id\"]][0]\n",
      "C:\\Users\\PW\\AppData\\Local\\Temp\\ipykernel_8168\\3155147829.py:20: FutureWarning: Series.__getitem__ treating keys as positions is deprecated. In a future version, integer keys will always be treated as labels (consistent with DataFrame behavior). To access a value by position, use `ser.iloc[pos]`\n",
      "  full_value = full_payments_value[group[\"order_id\"]][0]\n",
      "C:\\Users\\PW\\AppData\\Local\\Temp\\ipykernel_8168\\3155147829.py:20: FutureWarning: Series.__getitem__ treating keys as positions is deprecated. In a future version, integer keys will always be treated as labels (consistent with DataFrame behavior). To access a value by position, use `ser.iloc[pos]`\n",
      "  full_value = full_payments_value[group[\"order_id\"]][0]\n",
      "C:\\Users\\PW\\AppData\\Local\\Temp\\ipykernel_8168\\3155147829.py:20: FutureWarning: Series.__getitem__ treating keys as positions is deprecated. In a future version, integer keys will always be treated as labels (consistent with DataFrame behavior). To access a value by position, use `ser.iloc[pos]`\n",
      "  full_value = full_payments_value[group[\"order_id\"]][0]\n",
      "C:\\Users\\PW\\AppData\\Local\\Temp\\ipykernel_8168\\3155147829.py:20: FutureWarning: Series.__getitem__ treating keys as positions is deprecated. In a future version, integer keys will always be treated as labels (consistent with DataFrame behavior). To access a value by position, use `ser.iloc[pos]`\n",
      "  full_value = full_payments_value[group[\"order_id\"]][0]\n",
      "C:\\Users\\PW\\AppData\\Local\\Temp\\ipykernel_8168\\3155147829.py:20: FutureWarning: Series.__getitem__ treating keys as positions is deprecated. In a future version, integer keys will always be treated as labels (consistent with DataFrame behavior). To access a value by position, use `ser.iloc[pos]`\n",
      "  full_value = full_payments_value[group[\"order_id\"]][0]\n",
      "C:\\Users\\PW\\AppData\\Local\\Temp\\ipykernel_8168\\3155147829.py:20: FutureWarning: Series.__getitem__ treating keys as positions is deprecated. In a future version, integer keys will always be treated as labels (consistent with DataFrame behavior). To access a value by position, use `ser.iloc[pos]`\n",
      "  full_value = full_payments_value[group[\"order_id\"]][0]\n",
      "C:\\Users\\PW\\AppData\\Local\\Temp\\ipykernel_8168\\3155147829.py:20: FutureWarning: Series.__getitem__ treating keys as positions is deprecated. In a future version, integer keys will always be treated as labels (consistent with DataFrame behavior). To access a value by position, use `ser.iloc[pos]`\n",
      "  full_value = full_payments_value[group[\"order_id\"]][0]\n",
      "C:\\Users\\PW\\AppData\\Local\\Temp\\ipykernel_8168\\3155147829.py:20: FutureWarning: Series.__getitem__ treating keys as positions is deprecated. In a future version, integer keys will always be treated as labels (consistent with DataFrame behavior). To access a value by position, use `ser.iloc[pos]`\n",
      "  full_value = full_payments_value[group[\"order_id\"]][0]\n",
      "C:\\Users\\PW\\AppData\\Local\\Temp\\ipykernel_8168\\3155147829.py:20: FutureWarning: Series.__getitem__ treating keys as positions is deprecated. In a future version, integer keys will always be treated as labels (consistent with DataFrame behavior). To access a value by position, use `ser.iloc[pos]`\n",
      "  full_value = full_payments_value[group[\"order_id\"]][0]\n",
      "C:\\Users\\PW\\AppData\\Local\\Temp\\ipykernel_8168\\3155147829.py:20: FutureWarning: Series.__getitem__ treating keys as positions is deprecated. In a future version, integer keys will always be treated as labels (consistent with DataFrame behavior). To access a value by position, use `ser.iloc[pos]`\n",
      "  full_value = full_payments_value[group[\"order_id\"]][0]\n",
      "C:\\Users\\PW\\AppData\\Local\\Temp\\ipykernel_8168\\3155147829.py:20: FutureWarning: Series.__getitem__ treating keys as positions is deprecated. In a future version, integer keys will always be treated as labels (consistent with DataFrame behavior). To access a value by position, use `ser.iloc[pos]`\n",
      "  full_value = full_payments_value[group[\"order_id\"]][0]\n",
      "C:\\Users\\PW\\AppData\\Local\\Temp\\ipykernel_8168\\3155147829.py:20: FutureWarning: Series.__getitem__ treating keys as positions is deprecated. In a future version, integer keys will always be treated as labels (consistent with DataFrame behavior). To access a value by position, use `ser.iloc[pos]`\n",
      "  full_value = full_payments_value[group[\"order_id\"]][0]\n",
      "C:\\Users\\PW\\AppData\\Local\\Temp\\ipykernel_8168\\3155147829.py:20: FutureWarning: Series.__getitem__ treating keys as positions is deprecated. In a future version, integer keys will always be treated as labels (consistent with DataFrame behavior). To access a value by position, use `ser.iloc[pos]`\n",
      "  full_value = full_payments_value[group[\"order_id\"]][0]\n",
      "C:\\Users\\PW\\AppData\\Local\\Temp\\ipykernel_8168\\3155147829.py:20: FutureWarning: Series.__getitem__ treating keys as positions is deprecated. In a future version, integer keys will always be treated as labels (consistent with DataFrame behavior). To access a value by position, use `ser.iloc[pos]`\n",
      "  full_value = full_payments_value[group[\"order_id\"]][0]\n",
      "C:\\Users\\PW\\AppData\\Local\\Temp\\ipykernel_8168\\3155147829.py:20: FutureWarning: Series.__getitem__ treating keys as positions is deprecated. In a future version, integer keys will always be treated as labels (consistent with DataFrame behavior). To access a value by position, use `ser.iloc[pos]`\n",
      "  full_value = full_payments_value[group[\"order_id\"]][0]\n",
      "C:\\Users\\PW\\AppData\\Local\\Temp\\ipykernel_8168\\3155147829.py:20: FutureWarning: Series.__getitem__ treating keys as positions is deprecated. In a future version, integer keys will always be treated as labels (consistent with DataFrame behavior). To access a value by position, use `ser.iloc[pos]`\n",
      "  full_value = full_payments_value[group[\"order_id\"]][0]\n",
      "C:\\Users\\PW\\AppData\\Local\\Temp\\ipykernel_8168\\3155147829.py:20: FutureWarning: Series.__getitem__ treating keys as positions is deprecated. In a future version, integer keys will always be treated as labels (consistent with DataFrame behavior). To access a value by position, use `ser.iloc[pos]`\n",
      "  full_value = full_payments_value[group[\"order_id\"]][0]\n",
      "C:\\Users\\PW\\AppData\\Local\\Temp\\ipykernel_8168\\3155147829.py:20: FutureWarning: Series.__getitem__ treating keys as positions is deprecated. In a future version, integer keys will always be treated as labels (consistent with DataFrame behavior). To access a value by position, use `ser.iloc[pos]`\n",
      "  full_value = full_payments_value[group[\"order_id\"]][0]\n",
      "C:\\Users\\PW\\AppData\\Local\\Temp\\ipykernel_8168\\3155147829.py:20: FutureWarning: Series.__getitem__ treating keys as positions is deprecated. In a future version, integer keys will always be treated as labels (consistent with DataFrame behavior). To access a value by position, use `ser.iloc[pos]`\n",
      "  full_value = full_payments_value[group[\"order_id\"]][0]\n",
      "C:\\Users\\PW\\AppData\\Local\\Temp\\ipykernel_8168\\3155147829.py:20: FutureWarning: Series.__getitem__ treating keys as positions is deprecated. In a future version, integer keys will always be treated as labels (consistent with DataFrame behavior). To access a value by position, use `ser.iloc[pos]`\n",
      "  full_value = full_payments_value[group[\"order_id\"]][0]\n",
      "C:\\Users\\PW\\AppData\\Local\\Temp\\ipykernel_8168\\3155147829.py:20: FutureWarning: Series.__getitem__ treating keys as positions is deprecated. In a future version, integer keys will always be treated as labels (consistent with DataFrame behavior). To access a value by position, use `ser.iloc[pos]`\n",
      "  full_value = full_payments_value[group[\"order_id\"]][0]\n",
      "C:\\Users\\PW\\AppData\\Local\\Temp\\ipykernel_8168\\3155147829.py:20: FutureWarning: Series.__getitem__ treating keys as positions is deprecated. In a future version, integer keys will always be treated as labels (consistent with DataFrame behavior). To access a value by position, use `ser.iloc[pos]`\n",
      "  full_value = full_payments_value[group[\"order_id\"]][0]\n",
      "C:\\Users\\PW\\AppData\\Local\\Temp\\ipykernel_8168\\3155147829.py:20: FutureWarning: Series.__getitem__ treating keys as positions is deprecated. In a future version, integer keys will always be treated as labels (consistent with DataFrame behavior). To access a value by position, use `ser.iloc[pos]`\n",
      "  full_value = full_payments_value[group[\"order_id\"]][0]\n",
      "C:\\Users\\PW\\AppData\\Local\\Temp\\ipykernel_8168\\3155147829.py:20: FutureWarning: Series.__getitem__ treating keys as positions is deprecated. In a future version, integer keys will always be treated as labels (consistent with DataFrame behavior). To access a value by position, use `ser.iloc[pos]`\n",
      "  full_value = full_payments_value[group[\"order_id\"]][0]\n",
      "C:\\Users\\PW\\AppData\\Local\\Temp\\ipykernel_8168\\3155147829.py:20: FutureWarning: Series.__getitem__ treating keys as positions is deprecated. In a future version, integer keys will always be treated as labels (consistent with DataFrame behavior). To access a value by position, use `ser.iloc[pos]`\n",
      "  full_value = full_payments_value[group[\"order_id\"]][0]\n",
      "C:\\Users\\PW\\AppData\\Local\\Temp\\ipykernel_8168\\3155147829.py:20: FutureWarning: Series.__getitem__ treating keys as positions is deprecated. In a future version, integer keys will always be treated as labels (consistent with DataFrame behavior). To access a value by position, use `ser.iloc[pos]`\n",
      "  full_value = full_payments_value[group[\"order_id\"]][0]\n",
      "C:\\Users\\PW\\AppData\\Local\\Temp\\ipykernel_8168\\3155147829.py:20: FutureWarning: Series.__getitem__ treating keys as positions is deprecated. In a future version, integer keys will always be treated as labels (consistent with DataFrame behavior). To access a value by position, use `ser.iloc[pos]`\n",
      "  full_value = full_payments_value[group[\"order_id\"]][0]\n",
      "C:\\Users\\PW\\AppData\\Local\\Temp\\ipykernel_8168\\3155147829.py:20: FutureWarning: Series.__getitem__ treating keys as positions is deprecated. In a future version, integer keys will always be treated as labels (consistent with DataFrame behavior). To access a value by position, use `ser.iloc[pos]`\n",
      "  full_value = full_payments_value[group[\"order_id\"]][0]\n",
      "C:\\Users\\PW\\AppData\\Local\\Temp\\ipykernel_8168\\3155147829.py:20: FutureWarning: Series.__getitem__ treating keys as positions is deprecated. In a future version, integer keys will always be treated as labels (consistent with DataFrame behavior). To access a value by position, use `ser.iloc[pos]`\n",
      "  full_value = full_payments_value[group[\"order_id\"]][0]\n",
      "C:\\Users\\PW\\AppData\\Local\\Temp\\ipykernel_8168\\3155147829.py:20: FutureWarning: Series.__getitem__ treating keys as positions is deprecated. In a future version, integer keys will always be treated as labels (consistent with DataFrame behavior). To access a value by position, use `ser.iloc[pos]`\n",
      "  full_value = full_payments_value[group[\"order_id\"]][0]\n",
      "C:\\Users\\PW\\AppData\\Local\\Temp\\ipykernel_8168\\3155147829.py:20: FutureWarning: Series.__getitem__ treating keys as positions is deprecated. In a future version, integer keys will always be treated as labels (consistent with DataFrame behavior). To access a value by position, use `ser.iloc[pos]`\n",
      "  full_value = full_payments_value[group[\"order_id\"]][0]\n",
      "C:\\Users\\PW\\AppData\\Local\\Temp\\ipykernel_8168\\3155147829.py:20: FutureWarning: Series.__getitem__ treating keys as positions is deprecated. In a future version, integer keys will always be treated as labels (consistent with DataFrame behavior). To access a value by position, use `ser.iloc[pos]`\n",
      "  full_value = full_payments_value[group[\"order_id\"]][0]\n",
      "C:\\Users\\PW\\AppData\\Local\\Temp\\ipykernel_8168\\3155147829.py:20: FutureWarning: Series.__getitem__ treating keys as positions is deprecated. In a future version, integer keys will always be treated as labels (consistent with DataFrame behavior). To access a value by position, use `ser.iloc[pos]`\n",
      "  full_value = full_payments_value[group[\"order_id\"]][0]\n",
      "C:\\Users\\PW\\AppData\\Local\\Temp\\ipykernel_8168\\3155147829.py:20: FutureWarning: Series.__getitem__ treating keys as positions is deprecated. In a future version, integer keys will always be treated as labels (consistent with DataFrame behavior). To access a value by position, use `ser.iloc[pos]`\n",
      "  full_value = full_payments_value[group[\"order_id\"]][0]\n",
      "C:\\Users\\PW\\AppData\\Local\\Temp\\ipykernel_8168\\3155147829.py:20: FutureWarning: Series.__getitem__ treating keys as positions is deprecated. In a future version, integer keys will always be treated as labels (consistent with DataFrame behavior). To access a value by position, use `ser.iloc[pos]`\n",
      "  full_value = full_payments_value[group[\"order_id\"]][0]\n",
      "C:\\Users\\PW\\AppData\\Local\\Temp\\ipykernel_8168\\3155147829.py:20: FutureWarning: Series.__getitem__ treating keys as positions is deprecated. In a future version, integer keys will always be treated as labels (consistent with DataFrame behavior). To access a value by position, use `ser.iloc[pos]`\n",
      "  full_value = full_payments_value[group[\"order_id\"]][0]\n",
      "C:\\Users\\PW\\AppData\\Local\\Temp\\ipykernel_8168\\3155147829.py:20: FutureWarning: Series.__getitem__ treating keys as positions is deprecated. In a future version, integer keys will always be treated as labels (consistent with DataFrame behavior). To access a value by position, use `ser.iloc[pos]`\n",
      "  full_value = full_payments_value[group[\"order_id\"]][0]\n",
      "C:\\Users\\PW\\AppData\\Local\\Temp\\ipykernel_8168\\3155147829.py:20: FutureWarning: Series.__getitem__ treating keys as positions is deprecated. In a future version, integer keys will always be treated as labels (consistent with DataFrame behavior). To access a value by position, use `ser.iloc[pos]`\n",
      "  full_value = full_payments_value[group[\"order_id\"]][0]\n",
      "C:\\Users\\PW\\AppData\\Local\\Temp\\ipykernel_8168\\3155147829.py:20: FutureWarning: Series.__getitem__ treating keys as positions is deprecated. In a future version, integer keys will always be treated as labels (consistent with DataFrame behavior). To access a value by position, use `ser.iloc[pos]`\n",
      "  full_value = full_payments_value[group[\"order_id\"]][0]\n",
      "C:\\Users\\PW\\AppData\\Local\\Temp\\ipykernel_8168\\3155147829.py:20: FutureWarning: Series.__getitem__ treating keys as positions is deprecated. In a future version, integer keys will always be treated as labels (consistent with DataFrame behavior). To access a value by position, use `ser.iloc[pos]`\n",
      "  full_value = full_payments_value[group[\"order_id\"]][0]\n",
      "C:\\Users\\PW\\AppData\\Local\\Temp\\ipykernel_8168\\3155147829.py:20: FutureWarning: Series.__getitem__ treating keys as positions is deprecated. In a future version, integer keys will always be treated as labels (consistent with DataFrame behavior). To access a value by position, use `ser.iloc[pos]`\n",
      "  full_value = full_payments_value[group[\"order_id\"]][0]\n",
      "C:\\Users\\PW\\AppData\\Local\\Temp\\ipykernel_8168\\3155147829.py:20: FutureWarning: Series.__getitem__ treating keys as positions is deprecated. In a future version, integer keys will always be treated as labels (consistent with DataFrame behavior). To access a value by position, use `ser.iloc[pos]`\n",
      "  full_value = full_payments_value[group[\"order_id\"]][0]\n",
      "C:\\Users\\PW\\AppData\\Local\\Temp\\ipykernel_8168\\3155147829.py:20: FutureWarning: Series.__getitem__ treating keys as positions is deprecated. In a future version, integer keys will always be treated as labels (consistent with DataFrame behavior). To access a value by position, use `ser.iloc[pos]`\n",
      "  full_value = full_payments_value[group[\"order_id\"]][0]\n",
      "C:\\Users\\PW\\AppData\\Local\\Temp\\ipykernel_8168\\3155147829.py:20: FutureWarning: Series.__getitem__ treating keys as positions is deprecated. In a future version, integer keys will always be treated as labels (consistent with DataFrame behavior). To access a value by position, use `ser.iloc[pos]`\n",
      "  full_value = full_payments_value[group[\"order_id\"]][0]\n",
      "C:\\Users\\PW\\AppData\\Local\\Temp\\ipykernel_8168\\3155147829.py:20: FutureWarning: Series.__getitem__ treating keys as positions is deprecated. In a future version, integer keys will always be treated as labels (consistent with DataFrame behavior). To access a value by position, use `ser.iloc[pos]`\n",
      "  full_value = full_payments_value[group[\"order_id\"]][0]\n",
      "C:\\Users\\PW\\AppData\\Local\\Temp\\ipykernel_8168\\3155147829.py:20: FutureWarning: Series.__getitem__ treating keys as positions is deprecated. In a future version, integer keys will always be treated as labels (consistent with DataFrame behavior). To access a value by position, use `ser.iloc[pos]`\n",
      "  full_value = full_payments_value[group[\"order_id\"]][0]\n",
      "C:\\Users\\PW\\AppData\\Local\\Temp\\ipykernel_8168\\3155147829.py:20: FutureWarning: Series.__getitem__ treating keys as positions is deprecated. In a future version, integer keys will always be treated as labels (consistent with DataFrame behavior). To access a value by position, use `ser.iloc[pos]`\n",
      "  full_value = full_payments_value[group[\"order_id\"]][0]\n",
      "C:\\Users\\PW\\AppData\\Local\\Temp\\ipykernel_8168\\3155147829.py:20: FutureWarning: Series.__getitem__ treating keys as positions is deprecated. In a future version, integer keys will always be treated as labels (consistent with DataFrame behavior). To access a value by position, use `ser.iloc[pos]`\n",
      "  full_value = full_payments_value[group[\"order_id\"]][0]\n",
      "C:\\Users\\PW\\AppData\\Local\\Temp\\ipykernel_8168\\3155147829.py:20: FutureWarning: Series.__getitem__ treating keys as positions is deprecated. In a future version, integer keys will always be treated as labels (consistent with DataFrame behavior). To access a value by position, use `ser.iloc[pos]`\n",
      "  full_value = full_payments_value[group[\"order_id\"]][0]\n",
      "C:\\Users\\PW\\AppData\\Local\\Temp\\ipykernel_8168\\3155147829.py:20: FutureWarning: Series.__getitem__ treating keys as positions is deprecated. In a future version, integer keys will always be treated as labels (consistent with DataFrame behavior). To access a value by position, use `ser.iloc[pos]`\n",
      "  full_value = full_payments_value[group[\"order_id\"]][0]\n",
      "C:\\Users\\PW\\AppData\\Local\\Temp\\ipykernel_8168\\3155147829.py:20: FutureWarning: Series.__getitem__ treating keys as positions is deprecated. In a future version, integer keys will always be treated as labels (consistent with DataFrame behavior). To access a value by position, use `ser.iloc[pos]`\n",
      "  full_value = full_payments_value[group[\"order_id\"]][0]\n",
      "C:\\Users\\PW\\AppData\\Local\\Temp\\ipykernel_8168\\3155147829.py:20: FutureWarning: Series.__getitem__ treating keys as positions is deprecated. In a future version, integer keys will always be treated as labels (consistent with DataFrame behavior). To access a value by position, use `ser.iloc[pos]`\n",
      "  full_value = full_payments_value[group[\"order_id\"]][0]\n",
      "C:\\Users\\PW\\AppData\\Local\\Temp\\ipykernel_8168\\3155147829.py:20: FutureWarning: Series.__getitem__ treating keys as positions is deprecated. In a future version, integer keys will always be treated as labels (consistent with DataFrame behavior). To access a value by position, use `ser.iloc[pos]`\n",
      "  full_value = full_payments_value[group[\"order_id\"]][0]\n",
      "C:\\Users\\PW\\AppData\\Local\\Temp\\ipykernel_8168\\3155147829.py:20: FutureWarning: Series.__getitem__ treating keys as positions is deprecated. In a future version, integer keys will always be treated as labels (consistent with DataFrame behavior). To access a value by position, use `ser.iloc[pos]`\n",
      "  full_value = full_payments_value[group[\"order_id\"]][0]\n",
      "C:\\Users\\PW\\AppData\\Local\\Temp\\ipykernel_8168\\3155147829.py:20: FutureWarning: Series.__getitem__ treating keys as positions is deprecated. In a future version, integer keys will always be treated as labels (consistent with DataFrame behavior). To access a value by position, use `ser.iloc[pos]`\n",
      "  full_value = full_payments_value[group[\"order_id\"]][0]\n",
      "C:\\Users\\PW\\AppData\\Local\\Temp\\ipykernel_8168\\3155147829.py:20: FutureWarning: Series.__getitem__ treating keys as positions is deprecated. In a future version, integer keys will always be treated as labels (consistent with DataFrame behavior). To access a value by position, use `ser.iloc[pos]`\n",
      "  full_value = full_payments_value[group[\"order_id\"]][0]\n",
      "C:\\Users\\PW\\AppData\\Local\\Temp\\ipykernel_8168\\3155147829.py:20: FutureWarning: Series.__getitem__ treating keys as positions is deprecated. In a future version, integer keys will always be treated as labels (consistent with DataFrame behavior). To access a value by position, use `ser.iloc[pos]`\n",
      "  full_value = full_payments_value[group[\"order_id\"]][0]\n",
      "C:\\Users\\PW\\AppData\\Local\\Temp\\ipykernel_8168\\3155147829.py:20: FutureWarning: Series.__getitem__ treating keys as positions is deprecated. In a future version, integer keys will always be treated as labels (consistent with DataFrame behavior). To access a value by position, use `ser.iloc[pos]`\n",
      "  full_value = full_payments_value[group[\"order_id\"]][0]\n",
      "C:\\Users\\PW\\AppData\\Local\\Temp\\ipykernel_8168\\3155147829.py:20: FutureWarning: Series.__getitem__ treating keys as positions is deprecated. In a future version, integer keys will always be treated as labels (consistent with DataFrame behavior). To access a value by position, use `ser.iloc[pos]`\n",
      "  full_value = full_payments_value[group[\"order_id\"]][0]\n",
      "C:\\Users\\PW\\AppData\\Local\\Temp\\ipykernel_8168\\3155147829.py:20: FutureWarning: Series.__getitem__ treating keys as positions is deprecated. In a future version, integer keys will always be treated as labels (consistent with DataFrame behavior). To access a value by position, use `ser.iloc[pos]`\n",
      "  full_value = full_payments_value[group[\"order_id\"]][0]\n",
      "C:\\Users\\PW\\AppData\\Local\\Temp\\ipykernel_8168\\3155147829.py:20: FutureWarning: Series.__getitem__ treating keys as positions is deprecated. In a future version, integer keys will always be treated as labels (consistent with DataFrame behavior). To access a value by position, use `ser.iloc[pos]`\n",
      "  full_value = full_payments_value[group[\"order_id\"]][0]\n",
      "C:\\Users\\PW\\AppData\\Local\\Temp\\ipykernel_8168\\3155147829.py:20: FutureWarning: Series.__getitem__ treating keys as positions is deprecated. In a future version, integer keys will always be treated as labels (consistent with DataFrame behavior). To access a value by position, use `ser.iloc[pos]`\n",
      "  full_value = full_payments_value[group[\"order_id\"]][0]\n",
      "C:\\Users\\PW\\AppData\\Local\\Temp\\ipykernel_8168\\3155147829.py:20: FutureWarning: Series.__getitem__ treating keys as positions is deprecated. In a future version, integer keys will always be treated as labels (consistent with DataFrame behavior). To access a value by position, use `ser.iloc[pos]`\n",
      "  full_value = full_payments_value[group[\"order_id\"]][0]\n",
      "C:\\Users\\PW\\AppData\\Local\\Temp\\ipykernel_8168\\3155147829.py:20: FutureWarning: Series.__getitem__ treating keys as positions is deprecated. In a future version, integer keys will always be treated as labels (consistent with DataFrame behavior). To access a value by position, use `ser.iloc[pos]`\n",
      "  full_value = full_payments_value[group[\"order_id\"]][0]\n",
      "C:\\Users\\PW\\AppData\\Local\\Temp\\ipykernel_8168\\3155147829.py:20: FutureWarning: Series.__getitem__ treating keys as positions is deprecated. In a future version, integer keys will always be treated as labels (consistent with DataFrame behavior). To access a value by position, use `ser.iloc[pos]`\n",
      "  full_value = full_payments_value[group[\"order_id\"]][0]\n",
      "C:\\Users\\PW\\AppData\\Local\\Temp\\ipykernel_8168\\3155147829.py:20: FutureWarning: Series.__getitem__ treating keys as positions is deprecated. In a future version, integer keys will always be treated as labels (consistent with DataFrame behavior). To access a value by position, use `ser.iloc[pos]`\n",
      "  full_value = full_payments_value[group[\"order_id\"]][0]\n",
      "C:\\Users\\PW\\AppData\\Local\\Temp\\ipykernel_8168\\3155147829.py:20: FutureWarning: Series.__getitem__ treating keys as positions is deprecated. In a future version, integer keys will always be treated as labels (consistent with DataFrame behavior). To access a value by position, use `ser.iloc[pos]`\n",
      "  full_value = full_payments_value[group[\"order_id\"]][0]\n"
     ]
    }
   ],
   "source": [
    "for order_id, group in part_empty_payment_value.groupby(by=\"order_id\"):\n",
    "    # Jeśli grupa jest jednoelementowa to całość kwoty będzie brana z order_items\n",
    "    try:\n",
    "        if len(group) == 1:\n",
    "            part_empty_payment_value.loc[group.index,\"payment_value\"] = group[\"payment_value\"].fillna(group[\"order_id\"].map(mapping))\n",
    "        \n",
    "        else: \n",
    "            current_payment_sum = group[\"payment_value\"].sum()\n",
    "            full_value = full_payments_value[group[\"order_id\"]][0]\n",
    "            mask = group[\"payment_value\"].isna()\n",
    "            nan_counts = len(mask[mask])\n",
    "            value_to_fulfill = (full_value - current_payment_sum)/nan_counts\n",
    "            part_empty_payment_value.loc[group.index,\"payment_value\"] = group[\"payment_value\"].fillna(value_to_fulfill)\n",
    "        \n",
    "    except KeyError:\n",
    "        continue"
   ]
  },
  {
   "cell_type": "code",
   "execution_count": null,
   "id": "02fb5172",
   "metadata": {},
   "outputs": [
    {
     "data": {
      "application/vnd.microsoft.datawrangler.viewer.v0+json": {
       "columns": [
        {
         "name": "order_id",
         "rawType": "object",
         "type": "string"
        },
        {
         "name": "count",
         "rawType": "int64",
         "type": "integer"
        }
       ],
       "ref": "abc54497-c38c-4491-8050-6f677ff9bbec",
       "rows": [
        [
         "0b398dbb3e7c81005f3c69b01488c4c9",
         "3"
        ],
        [
         "cdf36cd4632fe33085adec5cf3d6b306",
         "2"
        ],
        [
         "6ec704c9a120baaa6b3e162255ec684b",
         "2"
        ],
        [
         "c037dd9db2ac27aa44381219612e91ba",
         "1"
        ],
        [
         "bd7585a77f0aa76b3775bb68fb293356",
         "1"
        ],
        [
         "ec60e48662eb9eaf9ae685a3afa56518",
         "1"
        ],
        [
         "4ffaf2cdcc432ea3cd8ae0ab7a789cb0",
         "1"
        ],
        [
         "bd51fae4e79d90bca958267d6e6bee30",
         "1"
        ],
        [
         "2f634e2cebf8c0283e7ef0989f77d217",
         "1"
        ],
        [
         "85fc293d3e0bf416c547c15d991e096a",
         "1"
        ],
        [
         "8ac55ad4ce4706e06f7284f61746503a",
         "1"
        ],
        [
         "21a00b08cbeb5716bbb66105e3dbd850",
         "1"
        ],
        [
         "489b43fc6f7840318ee5d83ee35b86c1",
         "1"
        ],
        [
         "3438960569bf3e42fa63f8e7bab0ac03",
         "1"
        ],
        [
         "feae5ecdf2cc16c1007741be785fe3cd",
         "1"
        ],
        [
         "2ff205d5135b1c7763c6561d2643df51",
         "1"
        ],
        [
         "897b4da63b6edde1a33a9fb7caf1dd10",
         "1"
        ],
        [
         "342505ef4323f0572eda009be6080f6c",
         "1"
        ],
        [
         "d49363a0cc2a1915a5a11f85ea08ea48",
         "1"
        ],
        [
         "574f906eedf477adaf3507222887d81f",
         "1"
        ],
        [
         "4317fe882d992cda2fb3d51baeb2751c",
         "1"
        ],
        [
         "91427fef1ca1431d3d86d7bcd0b51ebc",
         "1"
        ],
        [
         "6dd0cc64fed627388bf95943af884f70",
         "1"
        ],
        [
         "46ac809c6b319398df696f5668806fee",
         "1"
        ],
        [
         "2f30c0b1905c65a8ff6c6358bc909625",
         "1"
        ],
        [
         "c581b368f1c9fc02caaa71e42809baf9",
         "1"
        ],
        [
         "6d97e3d5d9043bb4fa4f8fd0b4d9f230",
         "1"
        ],
        [
         "6e98de3a85c84ead6689189b825d35b5",
         "1"
        ],
        [
         "03d1edbd314ca7682ec0f3e67d3763e2",
         "1"
        ],
        [
         "e6152cd6ca627fc4f0f5deddea24f7c2",
         "1"
        ],
        [
         "0623dbbd06c0d4059dbfefab8748a491",
         "1"
        ],
        [
         "6111350dd1f8b825ac82e9caea339f07",
         "1"
        ],
        [
         "b4ef4b05fef13db5a94b0ccd497c521c",
         "1"
        ],
        [
         "92a195ed387f8e7f9151eae7a7ec13f0",
         "1"
        ],
        [
         "adf5a3d223336c6b7965f3027bb7ddc2",
         "1"
        ],
        [
         "52dfaf3e430903d40571c0eb44d324b5",
         "1"
        ],
        [
         "10a045cdf6a5650c21e9cfeb60384c16",
         "1"
        ],
        [
         "05e8a1fd3d354369a3de6e7230a3651f",
         "1"
        ],
        [
         "f63be24880200ae32aa24f5b458a3dc3",
         "1"
        ],
        [
         "24cee263ae15271412b77854eb10b840",
         "1"
        ],
        [
         "f8303e6eff198d1749d04649a1eb2bb6",
         "1"
        ],
        [
         "6e7f938e1ebc4eb4b205b2ad66c5525d",
         "1"
        ],
        [
         "aaab15da689073f8f9aa978a390a69d1",
         "1"
        ],
        [
         "50bb0c134ee3365dd06e13da6cda15fe",
         "1"
        ],
        [
         "b2fc127731e4fc8f7bd2d2c1898e59ca",
         "1"
        ],
        [
         "f05fbff4a434f4d0c1e09000bf45f06f",
         "1"
        ],
        [
         "1f5833c59dc618d2d3b9072f51195d16",
         "1"
        ],
        [
         "8a20e2954602a0738f264299255fd5af",
         "1"
        ],
        [
         "a84212c880e5635e2a0888ba25c027c7",
         "1"
        ],
        [
         "1c7c8ab324927f5b6e52338bd110bef4",
         "1"
        ]
       ],
       "shape": {
        "columns": 1,
        "rows": 152
       }
      },
      "text/plain": [
       "order_id\n",
       "0b398dbb3e7c81005f3c69b01488c4c9    3\n",
       "cdf36cd4632fe33085adec5cf3d6b306    2\n",
       "6ec704c9a120baaa6b3e162255ec684b    2\n",
       "c037dd9db2ac27aa44381219612e91ba    1\n",
       "bd7585a77f0aa76b3775bb68fb293356    1\n",
       "                                   ..\n",
       "d8a40a1358d3b2dca231abdaa566b054    1\n",
       "15ec3d48383c58c0dc96cd66f8884630    1\n",
       "115b01b1f77f0e02812425b6f5cd8f2f    1\n",
       "85a22eb264ad44ff56c4955a66876fed    1\n",
       "35de4050331c6c644cddc86f4f2d0d64    1\n",
       "Name: count, Length: 152, dtype: int64"
      ]
     },
     "execution_count": 64,
     "metadata": {},
     "output_type": "execute_result"
    }
   ],
   "source": [
    "mask = part_empty_payment_value[\"payment_value\"].isna()\n",
    "part_empty_payment_value.loc[mask][\"order_id\"].value_counts()"
   ]
  },
  {
   "cell_type": "code",
   "execution_count": null,
   "id": "d14ae5c3",
   "metadata": {},
   "outputs": [
    {
     "data": {
      "text/plain": [
       "np.int64(156)"
      ]
     },
     "execution_count": 65,
     "metadata": {},
     "output_type": "execute_result"
    }
   ],
   "source": [
    "part_empty_payment_value[\"payment_value\"].isna().sum()"
   ]
  },
  {
   "cell_type": "markdown",
   "id": "c5203a34",
   "metadata": {},
   "source": [
    "Po uzupełnieniu brakujących danych zostało 156 wierszy które nie mają uzupełnionych payment_value, z czego jest 152 unikalnych order_id (czyli takich pustych wierszy które nie mają swojego odzwierciedlenia w order_items - Te wiersze będzie można usunąć)"
   ]
  },
  {
   "cell_type": "markdown",
   "id": "edd18ce5",
   "metadata": {},
   "source": [
    "4. Usunięcie dla niektórych wartości z kolumny order_estimated_delivery_date dla tabeli 'olist_orders_dataset' i następnie uzupełnienie poprzez sumę order_purchase_timestamp + 30 dni (przyjmujemy takie założenie że gdzie jest nieuzupełnione tam będzie dostarczone za miesiąc) / LUB na podstawie mediany czasu dostarczenia zamówień dla tego seller_city i customer_city "
   ]
  },
  {
   "cell_type": "code",
   "execution_count": 66,
   "id": "66ff5eb4",
   "metadata": {},
   "outputs": [
    {
     "data": {
      "application/vnd.microsoft.datawrangler.viewer.v0+json": {
       "columns": [
        {
         "name": "index",
         "rawType": "int64",
         "type": "integer"
        },
        {
         "name": "order_id",
         "rawType": "object",
         "type": "string"
        },
        {
         "name": "customer_id",
         "rawType": "object",
         "type": "string"
        },
        {
         "name": "order_status",
         "rawType": "object",
         "type": "string"
        },
        {
         "name": "order_purchase_timestamp",
         "rawType": "datetime64[ns]",
         "type": "datetime"
        },
        {
         "name": "order_approved_at",
         "rawType": "datetime64[ns]",
         "type": "datetime"
        },
        {
         "name": "order_delivered_carrier_date",
         "rawType": "datetime64[ns]",
         "type": "datetime"
        },
        {
         "name": "order_delivered_customer_date",
         "rawType": "datetime64[ns]",
         "type": "datetime"
        },
        {
         "name": "order_estimated_delivery_date",
         "rawType": "datetime64[ns]",
         "type": "datetime"
        }
       ],
       "ref": "ff63ce77-1751-4d73-ad0f-f45a2c31a98d",
       "rows": [
        [
         "0",
         "00010242fe8c5a6d1ba2dd792cb16214",
         "3ce436f183e68e07877b285a838db11a",
         "delivered",
         "2017-09-13 08:59:02",
         "2017-09-13 09:45:35",
         "2017-09-19 18:34:16",
         "2017-09-20 23:43:48",
         "2017-09-29 00:00:00"
        ],
        [
         "1",
         "00018f77f2f0320c557190d7a144bdd3",
         "f6dd3ec061db4e3987629fe6b26e5cce",
         "delivered",
         "2017-04-26 10:53:06",
         "2017-04-26 11:05:13",
         "2017-05-04 14:35:00",
         "2017-05-12 16:04:24",
         "2017-05-15 00:00:00"
        ],
        [
         "2",
         "000229ec398224ef6ca0657da4fc703e",
         "6489ae5e4333f3693df5ad4372dab6d3",
         "delivered",
         "2018-01-14 14:33:31",
         "2018-01-14 14:48:30",
         "2018-01-16 12:36:48",
         "2018-01-22 13:19:16",
         "2018-02-05 00:00:00"
        ],
        [
         "3",
         "00024acbcdf0a6daa1e931b038114c75",
         "d4eb9395c8c0431ee92fce09860c5a06",
         "delivered",
         "2018-08-08 10:00:35",
         "2018-08-08 10:10:18",
         "2018-08-10 13:28:00",
         "2018-08-14 13:32:39",
         "2018-08-20 00:00:00"
        ],
        [
         "4",
         "00042b26cf59d7ce69dfabb4e55b4fd9",
         "58dbd0b2d70206bf40e62cd34e84d795",
         "delivered",
         "2017-02-04 13:57:51",
         "2017-02-04 14:10:13",
         "2017-02-16 09:46:09",
         "2017-03-01 16:42:31",
         "2017-03-17 00:00:00"
        ]
       ],
       "shape": {
        "columns": 8,
        "rows": 5
       }
      },
      "text/html": [
       "<div>\n",
       "<style scoped>\n",
       "    .dataframe tbody tr th:only-of-type {\n",
       "        vertical-align: middle;\n",
       "    }\n",
       "\n",
       "    .dataframe tbody tr th {\n",
       "        vertical-align: top;\n",
       "    }\n",
       "\n",
       "    .dataframe thead th {\n",
       "        text-align: right;\n",
       "    }\n",
       "</style>\n",
       "<table border=\"1\" class=\"dataframe\">\n",
       "  <thead>\n",
       "    <tr style=\"text-align: right;\">\n",
       "      <th></th>\n",
       "      <th>order_id</th>\n",
       "      <th>customer_id</th>\n",
       "      <th>order_status</th>\n",
       "      <th>order_purchase_timestamp</th>\n",
       "      <th>order_approved_at</th>\n",
       "      <th>order_delivered_carrier_date</th>\n",
       "      <th>order_delivered_customer_date</th>\n",
       "      <th>order_estimated_delivery_date</th>\n",
       "    </tr>\n",
       "  </thead>\n",
       "  <tbody>\n",
       "    <tr>\n",
       "      <th>0</th>\n",
       "      <td>00010242fe8c5a6d1ba2dd792cb16214</td>\n",
       "      <td>3ce436f183e68e07877b285a838db11a</td>\n",
       "      <td>delivered</td>\n",
       "      <td>2017-09-13 08:59:02</td>\n",
       "      <td>2017-09-13 09:45:35</td>\n",
       "      <td>2017-09-19 18:34:16</td>\n",
       "      <td>2017-09-20 23:43:48</td>\n",
       "      <td>2017-09-29</td>\n",
       "    </tr>\n",
       "    <tr>\n",
       "      <th>1</th>\n",
       "      <td>00018f77f2f0320c557190d7a144bdd3</td>\n",
       "      <td>f6dd3ec061db4e3987629fe6b26e5cce</td>\n",
       "      <td>delivered</td>\n",
       "      <td>2017-04-26 10:53:06</td>\n",
       "      <td>2017-04-26 11:05:13</td>\n",
       "      <td>2017-05-04 14:35:00</td>\n",
       "      <td>2017-05-12 16:04:24</td>\n",
       "      <td>2017-05-15</td>\n",
       "    </tr>\n",
       "    <tr>\n",
       "      <th>2</th>\n",
       "      <td>000229ec398224ef6ca0657da4fc703e</td>\n",
       "      <td>6489ae5e4333f3693df5ad4372dab6d3</td>\n",
       "      <td>delivered</td>\n",
       "      <td>2018-01-14 14:33:31</td>\n",
       "      <td>2018-01-14 14:48:30</td>\n",
       "      <td>2018-01-16 12:36:48</td>\n",
       "      <td>2018-01-22 13:19:16</td>\n",
       "      <td>2018-02-05</td>\n",
       "    </tr>\n",
       "    <tr>\n",
       "      <th>3</th>\n",
       "      <td>00024acbcdf0a6daa1e931b038114c75</td>\n",
       "      <td>d4eb9395c8c0431ee92fce09860c5a06</td>\n",
       "      <td>delivered</td>\n",
       "      <td>2018-08-08 10:00:35</td>\n",
       "      <td>2018-08-08 10:10:18</td>\n",
       "      <td>2018-08-10 13:28:00</td>\n",
       "      <td>2018-08-14 13:32:39</td>\n",
       "      <td>2018-08-20</td>\n",
       "    </tr>\n",
       "    <tr>\n",
       "      <th>4</th>\n",
       "      <td>00042b26cf59d7ce69dfabb4e55b4fd9</td>\n",
       "      <td>58dbd0b2d70206bf40e62cd34e84d795</td>\n",
       "      <td>delivered</td>\n",
       "      <td>2017-02-04 13:57:51</td>\n",
       "      <td>2017-02-04 14:10:13</td>\n",
       "      <td>2017-02-16 09:46:09</td>\n",
       "      <td>2017-03-01 16:42:31</td>\n",
       "      <td>2017-03-17</td>\n",
       "    </tr>\n",
       "  </tbody>\n",
       "</table>\n",
       "</div>"
      ],
      "text/plain": [
       "                           order_id                       customer_id  \\\n",
       "0  00010242fe8c5a6d1ba2dd792cb16214  3ce436f183e68e07877b285a838db11a   \n",
       "1  00018f77f2f0320c557190d7a144bdd3  f6dd3ec061db4e3987629fe6b26e5cce   \n",
       "2  000229ec398224ef6ca0657da4fc703e  6489ae5e4333f3693df5ad4372dab6d3   \n",
       "3  00024acbcdf0a6daa1e931b038114c75  d4eb9395c8c0431ee92fce09860c5a06   \n",
       "4  00042b26cf59d7ce69dfabb4e55b4fd9  58dbd0b2d70206bf40e62cd34e84d795   \n",
       "\n",
       "  order_status order_purchase_timestamp   order_approved_at  \\\n",
       "0    delivered      2017-09-13 08:59:02 2017-09-13 09:45:35   \n",
       "1    delivered      2017-04-26 10:53:06 2017-04-26 11:05:13   \n",
       "2    delivered      2018-01-14 14:33:31 2018-01-14 14:48:30   \n",
       "3    delivered      2018-08-08 10:00:35 2018-08-08 10:10:18   \n",
       "4    delivered      2017-02-04 13:57:51 2017-02-04 14:10:13   \n",
       "\n",
       "  order_delivered_carrier_date order_delivered_customer_date  \\\n",
       "0          2017-09-19 18:34:16           2017-09-20 23:43:48   \n",
       "1          2017-05-04 14:35:00           2017-05-12 16:04:24   \n",
       "2          2018-01-16 12:36:48           2018-01-22 13:19:16   \n",
       "3          2018-08-10 13:28:00           2018-08-14 13:32:39   \n",
       "4          2017-02-16 09:46:09           2017-03-01 16:42:31   \n",
       "\n",
       "  order_estimated_delivery_date  \n",
       "0                    2017-09-29  \n",
       "1                    2017-05-15  \n",
       "2                    2018-02-05  \n",
       "3                    2018-08-20  \n",
       "4                    2017-03-17  "
      ]
     },
     "execution_count": 66,
     "metadata": {},
     "output_type": "execute_result"
    }
   ],
   "source": [
    "df_orders = pd.read_sql('SELECT * FROM dbo.orders', engine)\n",
    "df_orders.head()"
   ]
  },
  {
   "cell_type": "code",
   "execution_count": 67,
   "id": "c09bfac3",
   "metadata": {},
   "outputs": [
    {
     "data": {
      "application/vnd.microsoft.datawrangler.viewer.v0+json": {
       "columns": [
        {
         "name": "index",
         "rawType": "object",
         "type": "string"
        },
        {
         "name": "0",
         "rawType": "int64",
         "type": "integer"
        }
       ],
       "ref": "f62fca03-9765-415b-b0c9-695ad96a98d9",
       "rows": [
        [
         "order_id",
         "0"
        ],
        [
         "customer_id",
         "0"
        ],
        [
         "order_status",
         "0"
        ],
        [
         "order_purchase_timestamp",
         "0"
        ],
        [
         "order_approved_at",
         "160"
        ],
        [
         "order_delivered_carrier_date",
         "1783"
        ],
        [
         "order_delivered_customer_date",
         "2965"
        ],
        [
         "order_estimated_delivery_date",
         "339"
        ]
       ],
       "shape": {
        "columns": 1,
        "rows": 8
       }
      },
      "text/plain": [
       "order_id                            0\n",
       "customer_id                         0\n",
       "order_status                        0\n",
       "order_purchase_timestamp            0\n",
       "order_approved_at                 160\n",
       "order_delivered_carrier_date     1783\n",
       "order_delivered_customer_date    2965\n",
       "order_estimated_delivery_date     339\n",
       "dtype: int64"
      ]
     },
     "execution_count": 67,
     "metadata": {},
     "output_type": "execute_result"
    }
   ],
   "source": [
    "df_orders.isna().sum()"
   ]
  },
  {
   "cell_type": "code",
   "execution_count": 86,
   "id": "a7cbfd16",
   "metadata": {},
   "outputs": [
    {
     "data": {
      "text/plain": [
       "['00571ded73b3c061925584feab0db425',\n",
       " '01855f880aae9a984c7c33b26fcf2e02',\n",
       " '01a75ac3dd000b7628a684be97c29234',\n",
       " '02aec12849744e266394182861265286',\n",
       " '0341b60065c49221a27293793f11b117']"
      ]
     },
     "execution_count": 86,
     "metadata": {},
     "output_type": "execute_result"
    }
   ],
   "source": [
    "mask = df_orders[\"order_estimated_delivery_date\"].isna() & df_orders[\"order_approved_at\"].notna()\n",
    "orders = df_orders.loc[mask,\"order_id\"].to_list()\n",
    "orders[:5]"
   ]
  },
  {
   "cell_type": "markdown",
   "id": "9ce825d4",
   "metadata": {},
   "source": [
    "I teraz na podstawie tej listy zamówień trzeba obliczyć jaki jest średni czas dostarczenia zamówienia od danego seller_city do customer_city na podstawie zamówień archiwalnych </br>\n",
    "W tym celu potrzebuje tabel Customers, Sellers, geolocation</br>\n",
    "Sellers ma brakujące dane w city i state, dlatego trzeba się cofnąć i po I transoformacji zrobić transformacje dla tabeli Sellers (i wprowadzić brakujące dane)"
   ]
  },
  {
   "cell_type": "code",
   "execution_count": 154,
   "id": "1b31f0d9",
   "metadata": {},
   "outputs": [
    {
     "data": {
      "application/vnd.microsoft.datawrangler.viewer.v0+json": {
       "columns": [
        {
         "name": "index",
         "rawType": "object",
         "type": "string"
        },
        {
         "name": "0",
         "rawType": "int64",
         "type": "integer"
        }
       ],
       "ref": "2b789fcf-f4a6-4fdb-a570-d828b5a59807",
       "rows": [
        [
         "customer_id",
         "0"
        ],
        [
         "customer_unique_id",
         "0"
        ],
        [
         "customer_zip_code_prefix",
         "0"
        ],
        [
         "customer_city",
         "0"
        ],
        [
         "customer_state",
         "0"
        ]
       ],
       "shape": {
        "columns": 1,
        "rows": 5
       }
      },
      "text/plain": [
       "customer_id                 0\n",
       "customer_unique_id          0\n",
       "customer_zip_code_prefix    0\n",
       "customer_city               0\n",
       "customer_state              0\n",
       "dtype: int64"
      ]
     },
     "execution_count": 154,
     "metadata": {},
     "output_type": "execute_result"
    }
   ],
   "source": [
    "df_customers.isna().sum()"
   ]
  },
  {
   "cell_type": "code",
   "execution_count": 159,
   "id": "ae122337",
   "metadata": {},
   "outputs": [],
   "source": [
    "df_sellers = df_sellers.dropna()"
   ]
  },
  {
   "cell_type": "code",
   "execution_count": 161,
   "id": "025b218c",
   "metadata": {},
   "outputs": [
    {
     "data": {
      "application/vnd.microsoft.datawrangler.viewer.v0+json": {
       "columns": [
        {
         "name": "index",
         "rawType": "object",
         "type": "string"
        },
        {
         "name": "0",
         "rawType": "int64",
         "type": "integer"
        }
       ],
       "ref": "1f366337-4413-4f8c-8450-6a52b085f69b",
       "rows": [
        [
         "seller_zip_code_prefix",
         "0"
        ],
        [
         "seller_id",
         "0"
        ],
        [
         "seller_city",
         "0"
        ],
        [
         "seller_state",
         "0"
        ]
       ],
       "shape": {
        "columns": 1,
        "rows": 4
       }
      },
      "text/plain": [
       "seller_zip_code_prefix    0\n",
       "seller_id                 0\n",
       "seller_city               0\n",
       "seller_state              0\n",
       "dtype: int64"
      ]
     },
     "execution_count": 161,
     "metadata": {},
     "output_type": "execute_result"
    }
   ],
   "source": [
    "df_sellers.isna().sum()"
   ]
  },
  {
   "cell_type": "code",
   "execution_count": 156,
   "id": "fd008df9",
   "metadata": {},
   "outputs": [
    {
     "data": {
      "application/vnd.microsoft.datawrangler.viewer.v0+json": {
       "columns": [
        {
         "name": "index",
         "rawType": "object",
         "type": "string"
        },
        {
         "name": "0",
         "rawType": "int64",
         "type": "integer"
        }
       ],
       "ref": "f1f41731-e7fa-43ad-9f0f-948641289cea",
       "rows": [
        [
         "geolocation_zip_code_prefix",
         "0"
        ],
        [
         "geolocation_lat",
         "0"
        ],
        [
         "geolocation_lng",
         "0"
        ],
        [
         "geolocation_city",
         "0"
        ],
        [
         "geolocation_state",
         "0"
        ]
       ],
       "shape": {
        "columns": 1,
        "rows": 5
       }
      },
      "text/plain": [
       "geolocation_zip_code_prefix    0\n",
       "geolocation_lat                0\n",
       "geolocation_lng                0\n",
       "geolocation_city               0\n",
       "geolocation_state              0\n",
       "dtype: int64"
      ]
     },
     "execution_count": 156,
     "metadata": {},
     "output_type": "execute_result"
    }
   ],
   "source": [
    "df_geolocation.isna().sum()"
   ]
  },
  {
   "cell_type": "code",
   "execution_count": 162,
   "id": "09c53b81",
   "metadata": {},
   "outputs": [
    {
     "data": {
      "text/plain": [
       "'00571ded73b3c061925584feab0db425'"
      ]
     },
     "execution_count": 162,
     "metadata": {},
     "output_type": "execute_result"
    }
   ],
   "source": [
    "orders[0]"
   ]
  },
  {
   "cell_type": "code",
   "execution_count": 166,
   "id": "a9fbe4cd",
   "metadata": {},
   "outputs": [
    {
     "data": {
      "text/plain": [
       "99441"
      ]
     },
     "execution_count": 166,
     "metadata": {},
     "output_type": "execute_result"
    }
   ],
   "source": [
    "len(df_orders)"
   ]
  },
  {
   "cell_type": "code",
   "execution_count": null,
   "id": "29c4871b",
   "metadata": {},
   "outputs": [
    {
     "data": {
      "application/vnd.microsoft.datawrangler.viewer.v0+json": {
       "columns": [
        {
         "name": "index",
         "rawType": "int64",
         "type": "integer"
        },
        {
         "name": "order_id",
         "rawType": "object",
         "type": "string"
        },
        {
         "name": "customer_id",
         "rawType": "object",
         "type": "string"
        },
        {
         "name": "order_status",
         "rawType": "object",
         "type": "string"
        },
        {
         "name": "order_purchase_timestamp",
         "rawType": "datetime64[ns]",
         "type": "datetime"
        },
        {
         "name": "order_approved_at",
         "rawType": "datetime64[ns]",
         "type": "datetime"
        },
        {
         "name": "order_delivered_carrier_date",
         "rawType": "datetime64[ns]",
         "type": "datetime"
        },
        {
         "name": "order_delivered_customer_date",
         "rawType": "datetime64[ns]",
         "type": "datetime"
        },
        {
         "name": "order_estimated_delivery_date",
         "rawType": "datetime64[ns]",
         "type": "datetime"
        },
        {
         "name": "customer_unique_id",
         "rawType": "object",
         "type": "string"
        },
        {
         "name": "customer_zip_code_prefix",
         "rawType": "int64",
         "type": "integer"
        },
        {
         "name": "customer_city",
         "rawType": "object",
         "type": "string"
        },
        {
         "name": "customer_state",
         "rawType": "object",
         "type": "string"
        }
       ],
       "ref": "2fc5337f-599b-412e-a8fc-731d2e86bbc1",
       "rows": [
        [
         "0",
         "00010242fe8c5a6d1ba2dd792cb16214",
         "3ce436f183e68e07877b285a838db11a",
         "delivered",
         "2017-09-13 08:59:02",
         "2017-09-13 09:45:35",
         "2017-09-19 18:34:16",
         "2017-09-20 23:43:48",
         "2017-09-29 00:00:00",
         "871766c5855e863f6eccc05f988b23cb",
         "28013",
         "campos dos goytacazes",
         "RJ"
        ],
        [
         "1",
         "00018f77f2f0320c557190d7a144bdd3",
         "f6dd3ec061db4e3987629fe6b26e5cce",
         "delivered",
         "2017-04-26 10:53:06",
         "2017-04-26 11:05:13",
         "2017-05-04 14:35:00",
         "2017-05-12 16:04:24",
         "2017-05-15 00:00:00",
         "eb28e67c4c0b83846050ddfb8a35d051",
         "15775",
         "santa fe do sul",
         "SP"
        ],
        [
         "2",
         "000229ec398224ef6ca0657da4fc703e",
         "6489ae5e4333f3693df5ad4372dab6d3",
         "delivered",
         "2018-01-14 14:33:31",
         "2018-01-14 14:48:30",
         "2018-01-16 12:36:48",
         "2018-01-22 13:19:16",
         "2018-02-05 00:00:00",
         "3818d81c6709e39d06b2738a8d3a2474",
         "35661",
         "para de minas",
         "MG"
        ],
        [
         "3",
         "00024acbcdf0a6daa1e931b038114c75",
         "d4eb9395c8c0431ee92fce09860c5a06",
         "delivered",
         "2018-08-08 10:00:35",
         "2018-08-08 10:10:18",
         "2018-08-10 13:28:00",
         "2018-08-14 13:32:39",
         "2018-08-20 00:00:00",
         "af861d436cfc08b2c2ddefd0ba074622",
         "12952",
         "atibaia",
         "SP"
        ],
        [
         "4",
         "00042b26cf59d7ce69dfabb4e55b4fd9",
         "58dbd0b2d70206bf40e62cd34e84d795",
         "delivered",
         "2017-02-04 13:57:51",
         "2017-02-04 14:10:13",
         "2017-02-16 09:46:09",
         "2017-03-01 16:42:31",
         "2017-03-17 00:00:00",
         "64b576fb70d441e8f1b2d7d446e483c5",
         "13226",
         "varzea paulista",
         "SP"
        ],
        [
         "5",
         "00048cc3ae777c65dbb7d2a0634bc1ea",
         "816cbea969fe5b689b39cfc97a506742",
         "delivered",
         "2017-05-15 21:42:34",
         "2017-05-17 03:55:27",
         "2017-05-17 11:05:55",
         "2017-05-22 13:44:35",
         "2017-06-06 00:00:00",
         "85c835d128beae5b4ce8602c491bf385",
         "38017",
         "uberaba",
         "MG"
        ],
        [
         "6",
         "00054e8431b9d7675808bcb819fb4a32",
         "32e2e6ab09e778d99bf2e0ecd4898718",
         "delivered",
         "2017-12-10 11:53:48",
         "2017-12-10 12:10:31",
         "2017-12-12 01:07:48",
         "2017-12-18 22:03:38",
         "2018-01-04 00:00:00",
         "635d9ac1680f03288e72ada3a1035803",
         "16700",
         "guararapes",
         "SP"
        ],
        [
         "7",
         "000576fe39319847cbb9d288c5617fa6",
         "9ed5e522dd9dd85b4af4a077526d8117",
         "delivered",
         "2018-07-04 12:08:27",
         "2018-07-05 16:35:48",
         "2018-07-05 12:15:00",
         "2018-07-09 14:04:07",
         "2018-07-25 00:00:00",
         "fda4476abb6307ab3c415b7e6d026526",
         "11702",
         "praia grande",
         "SP"
        ],
        [
         "8",
         "0005a1a1728c9d785b8e2b08b904576c",
         "16150771dfd4776261284213b89c304e",
         "delivered",
         "2018-03-19 18:40:33",
         "2018-03-20 18:35:21",
         "2018-03-28 00:37:42",
         "2018-03-29 18:17:31",
         "2018-03-29 00:00:00",
         "639d23421f5517f69d0c3d6e6564cf0e",
         "11075",
         "santos",
         "SP"
        ],
        [
         "9",
         "0005f50442cb953dcd1d21e1fb923495",
         "351d3cb2cee3c7fd0af6616c82df21d3",
         "delivered",
         "2018-07-02 13:59:39",
         "2018-07-02 14:10:56",
         "2018-07-03 14:25:00",
         "2018-07-04 17:28:31",
         "2018-07-23 00:00:00",
         "0782c41380992a5a533489063df0eef6",
         "6636",
         "sao paulo",
         "SP"
        ],
        [
         "10",
         "00061f2a7bc09da83e415a52dc8a4af1",
         "c6fc061d86fab1e2b2eac259bac71a49",
         "delivered",
         "2018-03-24 22:16:10",
         "2018-03-24 22:28:09",
         "2018-03-27 05:26:55",
         "2018-03-29 00:04:19",
         "2018-04-09 00:00:00",
         "107e6259485efac66428a56f10801f4f",
         "13419",
         "piracicaba",
         "SP"
        ],
        [
         "11",
         "00063b381e2406b52ad429470734ebd5",
         "6a899e55865de6549a58d2c6845e5604",
         "delivered",
         "2018-07-27 17:21:27",
         "2018-07-27 18:00:06",
         "2018-07-30 14:52:00",
         "2018-08-07 13:56:52",
         "2018-08-07 00:00:00",
         "3fb97204945ca0c01bcf3eee6031c5f1",
         "15910",
         "monte alto",
         "SP"
        ],
        [
         "12",
         "0006ec9db01a64e59a68b2c340bf65a7",
         "5d178120c29c61748ea95bac23cb8f25",
         "delivered",
         "2018-07-24 17:04:17",
         "2018-07-24 17:24:20",
         "2018-07-25 11:02:00",
         "2018-07-31 01:04:15",
         "2018-08-22 00:00:00",
         "7ed0ea20347f67fe61d1c99fdf8556ae",
         "21810",
         "rio de janeiro",
         "RJ"
        ],
        [
         "13",
         "0008288aa423d2a3f00fcb17cd7d8719",
         "2355af7c75e7c98b43a87b2a7f210dc5",
         "delivered",
         "2018-02-13 22:10:21",
         "2018-02-15 03:55:52",
         "2018-02-20 18:23:28",
         "2018-02-26 13:55:22",
         "2018-03-06 00:00:00",
         "9e4159995424971423b98c4a8bc11529",
         "6600",
         "jandira",
         "SP"
        ],
        [
         "14",
         "0009792311464db532ff765bf7b182ae",
         "2a30c97668e81df7c17a8b14447aeeba",
         "delivered",
         "2018-08-14 20:43:09",
         "2018-08-15 12:15:10",
         "2018-08-15 15:28:00",
         "2018-08-22 12:02:27",
         "2018-08-28 00:00:00",
         "4987996ddcd0ddb20740fdce7c2bfbb1",
         "37137",
         "alfenas",
         "MG"
        ],
        [
         "15",
         "0009c9a17f916a706d71784483a5d643",
         "8a250edc40ebc5c3940ebc940f16a7eb",
         "delivered",
         "2018-04-25 09:10:41",
         "2018-04-25 09:33:19",
         "2018-04-27 15:14:00",
         "2018-04-30 17:54:25",
         "2018-05-09 00:00:00",
         "6062db572f3ef38b7a8ff4307abbfad3",
         "13044",
         "campinas",
         "SP"
        ],
        [
         "16",
         "000aed2e25dbad2f9ddb70584c5a2ded",
         "fff5169e583fd07fac9fec88962f189d",
         "delivered",
         "2018-05-11 20:33:38",
         "2018-05-11 20:57:03",
         "2018-05-16 14:26:00",
         "2018-05-18 16:46:31",
         "2018-05-22 00:00:00",
         "6457be0b331148fb5454efc88d1e03d9",
         "13458",
         "santa barbara d'oeste",
         "SP"
        ],
        [
         "17",
         "000c3e6612759851cc3cbb4b83257986",
         "3773bcf1a6fbd29233ea1c1b573c4f22",
         "delivered",
         "2017-08-12 10:08:57",
         "2017-08-15 03:35:32",
         "2017-08-15 15:32:51",
         "2017-08-19 15:22:17",
         "2017-09-01 00:00:00",
         "f5f088001070650f9e9a8cd773621f35",
         "13208",
         "jundiai",
         "SP"
        ],
        [
         "18",
         "000e562887b1f2006d75e0be9558292e",
         "2b01d668726fb0b751c55918c0437b7b",
         "delivered",
         "2018-02-22 11:54:42",
         "2018-02-22 12:08:37",
         "2018-02-26 14:18:32",
         "2018-03-12 18:46:34",
         "2018-03-19 00:00:00",
         "b2c72d1e9f6430603b8337d8f1394a99",
         "11533",
         "cubatao",
         "SP"
        ],
        [
         "19",
         "000e63d38ae8c00bbcb5a30573b99628",
         "98884e672c5ba85f4394f2044e1a3eab",
         "delivered",
         "2018-03-23 19:48:26",
         "2018-03-23 20:07:49",
         "2018-03-26 21:38:48",
         "2018-03-27 14:51:47",
         "2018-04-05 00:00:00",
         "860fc00d3154ce2346c43ebe47b9b6ce",
         "4679",
         "sao paulo",
         "SP"
        ],
        [
         "20",
         "000e906b789b55f64edcb1f84030f90d",
         "6a3b2fc9f270df258605e22bef19fd88",
         "delivered",
         "2017-11-21 18:54:23",
         "2017-11-21 19:09:02",
         "2017-11-22 20:46:54",
         "2017-12-09 17:27:23",
         "2017-12-07 00:00:00",
         "3588484a539617d91500764822230fb6",
         "18900",
         "santa cruz do rio pardo",
         "SP"
        ],
        [
         "21",
         "000f25f4d72195062c040b12dce9a18a",
         "86ade8ebc14f18dd6c3ea75bd0eb7534",
         "delivered",
         "2018-03-07 10:33:13",
         "2018-03-07 11:10:11",
         "2018-03-16 15:58:31",
         "2018-03-22 16:51:52",
         "2018-04-11 00:00:00",
         "1a6cbc34ea404cb0af7ed74df0999354",
         "27213",
         "volta redonda",
         "RJ"
        ],
        [
         "22",
         "001021efaa8636c29475e7734483457d",
         "2dfbf74859104caf100df3720a1d833d",
         "delivered",
         "2018-02-27 09:27:14",
         "2018-02-27 09:35:41",
         "2018-02-27 21:43:46",
         "2018-03-08 20:06:33",
         "2018-03-23 00:00:00",
         "2193383c470dc9cec894ce78afd0ebd6",
         "86870",
         "ivaipora",
         "PR"
        ],
        [
         "23",
         "0010b2e5201cc5f1ae7e9c6cc8f5bd00",
         "57ef317d4818cb42680fc9dfd13867ce",
         "delivered",
         "2017-09-11 17:39:33",
         "2017-09-11 18:04:37",
         "2017-09-12 17:02:57",
         "2017-09-23 13:21:21",
         "2017-09-27 00:00:00",
         "e883f26917e2095c439f70c2cf8c914b",
         "22461",
         "rio de janeiro",
         "RJ"
        ],
        [
         "24",
         "0010dedd556712d7bb69a19cb7bbd37a",
         "3a92efdb6e6163dc1734d44f2f5f6d04",
         "unavailable",
         "2017-10-21 19:32:06",
         "2017-10-24 03:25:32",
         null,
         null,
         "2017-11-03 00:00:00",
         "a77550dd00887c5bb24100ccbd08cbe9",
         "4851",
         "sao paulo",
         "SP"
        ],
        [
         "25",
         "00119ff934e539cf26f92b9ef0cdfed8",
         "7dd2e283f47deac853cf70f3b63c8d86",
         "delivered",
         "2017-08-06 00:42:49",
         "2017-08-07 00:35:12",
         "2017-08-07 21:12:34",
         "2017-08-16 17:29:59",
         "2017-08-31 00:00:00",
         "13df7b623839b4edc579ee40279d57c8",
         "26263",
         "nova iguacu",
         "RJ"
        ],
        [
         "26",
         "0011d82c4b53e22e84023405fb467e57",
         "2013d892495e1a101d742d533d2d1119",
         "delivered",
         "2018-01-16 21:43:23",
         "2018-01-16 21:51:25",
         "2018-01-23 22:08:06",
         "2018-01-26 22:14:02",
         "2018-02-15 00:00:00",
         "02daaa0e021d624d1784c4ea5cc84ace",
         "1033",
         "sao paulo",
         "SP"
        ],
        [
         "27",
         "00125cb692d04887809806618a2a145f",
         "8afb90a97ee661103014329b1bcea1a2",
         "delivered",
         "2017-03-23 12:21:17",
         "2017-03-23 13:05:42",
         "2017-03-27 08:58:04",
         "2017-04-07 15:32:47",
         "2017-04-20 00:00:00",
         "7ac26eac431c6848694a2de6f0327524",
         "75123",
         "anapolis",
         "GO"
        ],
        [
         "28",
         "00130c0eee84a3d909e75bc08c5c3ca1",
         "47d656c08a282ec5ab4c1f18303a3a30",
         "delivered",
         "2018-06-11 21:17:00",
         "2018-06-12 05:16:24",
         "2018-06-12 14:22:00",
         "2018-06-13 15:28:25",
         "2018-06-20 00:00:00",
         "b5910f24d2483d697b37e3857b621061",
         "9820",
         "sao bernardo do campo",
         "SP"
        ],
        [
         "29",
         "0013503b13da1eac686219390b7d641b",
         "f7277fce45fad3165379c15cacf5ddbe",
         "delivered",
         "2017-12-05 23:40:59",
         "2017-12-07 03:16:36",
         "2017-12-07 22:59:30",
         "2017-12-20 22:46:28",
         "2017-12-28 00:00:00",
         "1544f85dff3797491b60f2a5241d14c1",
         "6160",
         "osasco",
         "SP"
        ],
        [
         "30",
         "00137e170939bba5a3134e2386413108",
         "7b63cba66b8e6d002e94d0990c1e2868",
         "delivered",
         "2017-11-24 16:50:38",
         "2017-11-25 06:30:55",
         "2017-11-28 19:43:52",
         "2017-12-11 19:12:55",
         "2017-12-18 00:00:00",
         "38c3bc2d6df03905e3e8d3d5b079acf4",
         "22790",
         "rio de janeiro",
         "RJ"
        ],
        [
         "31",
         "001427c0ec99cf8af737bd88e92fd444",
         "eab9c552374be06ed15923016dc9e588",
         "delivered",
         "2018-04-07 18:51:22",
         "2018-04-07 19:08:28",
         "2018-04-09 23:29:32",
         "2018-04-25 23:38:41",
         "2018-05-10 00:00:00",
         "2ada69d1c5528233e3d9aa3f1d8da1b1",
         "38304",
         "ituiutaba",
         "MG"
        ],
        [
         "32",
         "00143d0f86d6fbd9f9b38ab440ac16f5",
         "2e45292979b9b2700ea09560eeb0f803",
         "delivered",
         "2017-10-16 15:29:43",
         "2017-10-16 16:07:52",
         "2017-10-16 23:04:43",
         "2017-10-27 18:43:56",
         "2017-11-06 00:00:00",
         "bb8a37225e0279ac8a274c9765617eaf",
         "74663",
         "goiania",
         "GO"
        ],
        [
         "33",
         "0014ae671de39511f7575066200733b7",
         "41065d9dcea52218c3943d2eed072b97",
         "delivered",
         "2017-05-22 13:49:03",
         "2017-05-23 03:15:24",
         "2017-05-29 09:04:02",
         "2017-06-07 13:52:52",
         "2017-06-13 00:00:00",
         "8e5a8d9363eb6296154b65750c8702ca",
         "83325",
         "pinhais",
         "PR"
        ],
        [
         "34",
         "0015ebb40fb17286bea51d4607c4733c",
         "da43a556bf5c36a1104c473cff77de6c",
         "delivered",
         "2018-01-14 09:01:36",
         "2018-01-14 09:11:24",
         "2018-01-17 22:56:36",
         "2018-02-01 20:29:51",
         "2018-02-15 00:00:00",
         "2e0daa38f7fd081ddcda32d972e5ec50",
         "85948",
         "pato bragado",
         "PR"
        ],
        [
         "35",
         "00169e31ef4b29deaae414f9a5e95929",
         "efb3830adb68fb8a89c948774388ec28",
         "delivered",
         "2018-01-16 09:26:39",
         "2018-01-17 03:35:47",
         "2018-01-17 16:46:04",
         "2018-01-23 20:19:04",
         "2018-02-07 00:00:00",
         "577edb526f98771b20d6db4a51d79423",
         "22775",
         "rio de janeiro",
         "RJ"
        ],
        [
         "36",
         "0016dfedd97fc2950e388d2971d718c7",
         "2c8b917c5d7dd720ebe36a5ed3b501ec",
         "delivered",
         "2017-04-28 19:54:40",
         "2017-04-29 10:05:12",
         "2017-05-16 08:40:49",
         "2017-05-22 18:32:21",
         "2017-06-01 00:00:00",
         "33febb33a42a35f5826a22584b127f9d",
         "45860",
         "canavieiras",
         "BA"
        ],
        [
         "37",
         "0017afd5076e074a48f1f1a4c7bac9c5",
         "8085a9af46f619bc25966f151a362b0d",
         "delivered",
         "2017-04-06 22:16:10",
         "2017-04-06 22:25:19",
         "2017-04-17 13:54:37",
         "2017-05-23 08:32:07",
         "2017-05-19 00:00:00",
         "98758d88bf4b8eef1372ddee45d63178",
         "57250",
         "campo alegre",
         "AL"
        ],
        [
         "38",
         "001862358bf858722e1e2ae000cfed8b",
         "2cf869dd40c98f29686f636d83545cce",
         "delivered",
         "2018-02-06 19:11:57",
         "2018-02-07 19:10:37",
         "2018-02-08 17:44:13",
         "2018-02-15 22:57:01",
         "2018-03-02 00:00:00",
         "eb2568a7ba9b2ca9bf1f818a8dea82ce",
         "12530",
         "cunha",
         "SP"
        ],
        [
         "39",
         "0019c29108428acffd089c36103c9440",
         "5f6bbac628ae418db4e0f92932f899c1",
         "delivered",
         "2018-03-06 06:40:28",
         "2018-03-06 06:50:26",
         "2018-03-07 01:20:05",
         "2018-03-16 22:34:53",
         "2018-04-11 00:00:00",
         "d02e64b28b7c386aab81bb6ce148799a",
         "37580",
         "monte siao",
         "MG"
        ],
        [
         "40",
         "001ab0a7578dd66cd4b0a71f5b6e1e41",
         "8bb3bef4e75a95524235cdc11a7331af",
         "delivered",
         "2017-12-27 00:38:47",
         "2017-12-28 02:33:42",
         "2017-12-28 18:09:35",
         "2018-01-17 20:43:29",
         "2018-01-29 00:00:00",
         "d1f24d1d504e27bee13b415e40daeab0",
         "40055",
         "salvador",
         "BA"
        ],
        [
         "41",
         "001ac194d4a326a6fa99b581e9a3d963",
         "f4f17ada91ef010cbde3892ae54e625f",
         "delivered",
         "2018-07-04 11:39:11",
         "2018-07-06 02:51:10",
         "2018-07-06 08:58:00",
         "2018-07-12 17:48:49",
         "2018-07-17 00:00:00",
         "3d01f9412759a6a68f249b76eca0de78",
         "11500",
         "cubatao",
         "SP"
        ],
        [
         "42",
         "001b76dd48a5b1eee3e87778daa40df8",
         "a62843b08086d1629415a203a7fd419d",
         "delivered",
         "2018-03-26 17:42:53",
         "2018-03-26 17:50:17",
         "2018-03-29 23:32:44",
         "2018-04-06 18:36:23",
         "2018-04-27 00:00:00",
         "b32ff8caad5902c55fa167e7dc77cc69",
         "15768",
         "santa salete",
         "SP"
        ],
        [
         "43",
         "001c85b5f68d2be0cb0797afc9e8ce9a",
         "48ed31e735f1c420ed6ca3637b7c744d",
         "delivered",
         "2017-11-24 19:19:18",
         "2017-11-24 22:38:47",
         "2017-11-27 12:42:15",
         "2017-12-22 18:37:40",
         "2017-12-14 00:00:00",
         "55a269f324455e78349e7b9b7e7e5911",
         "8072",
         "sao paulo",
         "SP"
        ],
        [
         "44",
         "001d8f0e34a38c37f7dba2a37d4eba8b",
         "d987da9fb4086ab7c2c0f83963cd6722",
         "delivered",
         "2017-05-14 17:19:44",
         "2017-05-14 17:35:11",
         "2017-05-24 15:45:01",
         "2017-05-26 13:14:50",
         "2017-05-24 00:00:00",
         "870a0bdc769f9a7870309036740e79ea",
         "2929",
         "sao paulo",
         "SP"
        ],
        [
         "45",
         "001daeb0eddc45b999bad0801ad9d273",
         "3ba02060e681d361d603d5f7ef0a730b",
         "delivered",
         "2017-05-17 23:19:34",
         "2017-05-19 02:15:20",
         "2017-05-19 10:03:49",
         "2017-06-08 15:34:07",
         "2017-06-19 00:00:00",
         "dc5aa19797b8fb7a4929ad109fb25553",
         "48475",
         "itapicuru",
         "BA"
        ],
        [
         "46",
         "001dbc16dc51075e987543d23a0507c7",
         "698a74f33469466fa4172e829505d1c6",
         "delivered",
         "2017-01-28 13:17:57",
         "2017-01-28 13:32:16",
         "2017-02-01 15:59:46",
         "2017-02-13 13:17:47",
         "2017-03-20 00:00:00",
         "c6f624cf0e9908fe310d59a80350bea0",
         "36240",
         "santos dumont",
         "MG"
        ],
        [
         "47",
         "001e7ba991be1b19605ca0316e7130f9",
         "b6a1445ee505f3a95c827e7a5188ad02",
         "delivered",
         "2017-03-18 11:47:37",
         "2017-03-18 11:47:37",
         "2017-03-20 10:14:45",
         "2017-03-28 14:23:33",
         "2017-04-12 00:00:00",
         "100bf2da12cc1fd1b556507aa87bf3a1",
         "79117",
         "campo grande",
         "MS"
        ],
        [
         "48",
         "001e7cf2ad6bef3ade12ebc56ceaf0f3",
         "d1684ed69f8fd574b7c344de923f379a",
         "delivered",
         "2018-05-19 10:29:23",
         "2018-05-19 10:59:50",
         "2018-05-21 14:34:00",
         "2018-06-04 18:08:23",
         "2018-06-05 00:00:00",
         "43860f86362fea12550bfa19ef73015f",
         "38550",
         "coromandel",
         "MG"
        ],
        [
         "49",
         "0020262c8a370bd5a174ea6a2a267321",
         "9ec353f970bdf785f6568724d9ea19aa",
         "delivered",
         "2017-11-28 09:32:49",
         "2017-11-28 09:58:07",
         "2017-11-29 00:09:20",
         "2017-12-02 12:27:33",
         "2017-12-22 00:00:00",
         "484689f7961df6e755f6373221aff64d",
         "83280",
         "guaratuba",
         "PR"
        ]
       ],
       "shape": {
        "columns": 12,
        "rows": 99441
       }
      },
      "text/html": [
       "<div>\n",
       "<style scoped>\n",
       "    .dataframe tbody tr th:only-of-type {\n",
       "        vertical-align: middle;\n",
       "    }\n",
       "\n",
       "    .dataframe tbody tr th {\n",
       "        vertical-align: top;\n",
       "    }\n",
       "\n",
       "    .dataframe thead th {\n",
       "        text-align: right;\n",
       "    }\n",
       "</style>\n",
       "<table border=\"1\" class=\"dataframe\">\n",
       "  <thead>\n",
       "    <tr style=\"text-align: right;\">\n",
       "      <th></th>\n",
       "      <th>order_id</th>\n",
       "      <th>customer_id</th>\n",
       "      <th>order_status</th>\n",
       "      <th>order_purchase_timestamp</th>\n",
       "      <th>order_approved_at</th>\n",
       "      <th>order_delivered_carrier_date</th>\n",
       "      <th>order_delivered_customer_date</th>\n",
       "      <th>order_estimated_delivery_date</th>\n",
       "      <th>customer_unique_id</th>\n",
       "      <th>customer_zip_code_prefix</th>\n",
       "      <th>customer_city</th>\n",
       "      <th>customer_state</th>\n",
       "    </tr>\n",
       "  </thead>\n",
       "  <tbody>\n",
       "    <tr>\n",
       "      <th>0</th>\n",
       "      <td>00010242fe8c5a6d1ba2dd792cb16214</td>\n",
       "      <td>3ce436f183e68e07877b285a838db11a</td>\n",
       "      <td>delivered</td>\n",
       "      <td>2017-09-13 08:59:02</td>\n",
       "      <td>2017-09-13 09:45:35</td>\n",
       "      <td>2017-09-19 18:34:16</td>\n",
       "      <td>2017-09-20 23:43:48</td>\n",
       "      <td>2017-09-29</td>\n",
       "      <td>871766c5855e863f6eccc05f988b23cb</td>\n",
       "      <td>28013</td>\n",
       "      <td>campos dos goytacazes</td>\n",
       "      <td>RJ</td>\n",
       "    </tr>\n",
       "    <tr>\n",
       "      <th>1</th>\n",
       "      <td>00018f77f2f0320c557190d7a144bdd3</td>\n",
       "      <td>f6dd3ec061db4e3987629fe6b26e5cce</td>\n",
       "      <td>delivered</td>\n",
       "      <td>2017-04-26 10:53:06</td>\n",
       "      <td>2017-04-26 11:05:13</td>\n",
       "      <td>2017-05-04 14:35:00</td>\n",
       "      <td>2017-05-12 16:04:24</td>\n",
       "      <td>2017-05-15</td>\n",
       "      <td>eb28e67c4c0b83846050ddfb8a35d051</td>\n",
       "      <td>15775</td>\n",
       "      <td>santa fe do sul</td>\n",
       "      <td>SP</td>\n",
       "    </tr>\n",
       "    <tr>\n",
       "      <th>2</th>\n",
       "      <td>000229ec398224ef6ca0657da4fc703e</td>\n",
       "      <td>6489ae5e4333f3693df5ad4372dab6d3</td>\n",
       "      <td>delivered</td>\n",
       "      <td>2018-01-14 14:33:31</td>\n",
       "      <td>2018-01-14 14:48:30</td>\n",
       "      <td>2018-01-16 12:36:48</td>\n",
       "      <td>2018-01-22 13:19:16</td>\n",
       "      <td>2018-02-05</td>\n",
       "      <td>3818d81c6709e39d06b2738a8d3a2474</td>\n",
       "      <td>35661</td>\n",
       "      <td>para de minas</td>\n",
       "      <td>MG</td>\n",
       "    </tr>\n",
       "    <tr>\n",
       "      <th>3</th>\n",
       "      <td>00024acbcdf0a6daa1e931b038114c75</td>\n",
       "      <td>d4eb9395c8c0431ee92fce09860c5a06</td>\n",
       "      <td>delivered</td>\n",
       "      <td>2018-08-08 10:00:35</td>\n",
       "      <td>2018-08-08 10:10:18</td>\n",
       "      <td>2018-08-10 13:28:00</td>\n",
       "      <td>2018-08-14 13:32:39</td>\n",
       "      <td>2018-08-20</td>\n",
       "      <td>af861d436cfc08b2c2ddefd0ba074622</td>\n",
       "      <td>12952</td>\n",
       "      <td>atibaia</td>\n",
       "      <td>SP</td>\n",
       "    </tr>\n",
       "    <tr>\n",
       "      <th>4</th>\n",
       "      <td>00042b26cf59d7ce69dfabb4e55b4fd9</td>\n",
       "      <td>58dbd0b2d70206bf40e62cd34e84d795</td>\n",
       "      <td>delivered</td>\n",
       "      <td>2017-02-04 13:57:51</td>\n",
       "      <td>2017-02-04 14:10:13</td>\n",
       "      <td>2017-02-16 09:46:09</td>\n",
       "      <td>2017-03-01 16:42:31</td>\n",
       "      <td>2017-03-17</td>\n",
       "      <td>64b576fb70d441e8f1b2d7d446e483c5</td>\n",
       "      <td>13226</td>\n",
       "      <td>varzea paulista</td>\n",
       "      <td>SP</td>\n",
       "    </tr>\n",
       "    <tr>\n",
       "      <th>...</th>\n",
       "      <td>...</td>\n",
       "      <td>...</td>\n",
       "      <td>...</td>\n",
       "      <td>...</td>\n",
       "      <td>...</td>\n",
       "      <td>...</td>\n",
       "      <td>...</td>\n",
       "      <td>...</td>\n",
       "      <td>...</td>\n",
       "      <td>...</td>\n",
       "      <td>...</td>\n",
       "      <td>...</td>\n",
       "    </tr>\n",
       "    <tr>\n",
       "      <th>99436</th>\n",
       "      <td>fffc94f6ce00a00581880bf54a75a037</td>\n",
       "      <td>b51593916b4b8e0d6f66f2ae24f2673d</td>\n",
       "      <td>delivered</td>\n",
       "      <td>2018-04-23 13:57:06</td>\n",
       "      <td>2018-04-25 04:11:01</td>\n",
       "      <td>2018-04-25 12:09:00</td>\n",
       "      <td>2018-05-10 22:56:40</td>\n",
       "      <td>2018-05-18</td>\n",
       "      <td>0c9aeda10a71f369396d0c04dce13a64</td>\n",
       "      <td>65077</td>\n",
       "      <td>sao luis</td>\n",
       "      <td>MA</td>\n",
       "    </tr>\n",
       "    <tr>\n",
       "      <th>99437</th>\n",
       "      <td>fffcd46ef2263f404302a634eb57f7eb</td>\n",
       "      <td>84c5d4fbaf120aae381fad077416eaa0</td>\n",
       "      <td>delivered</td>\n",
       "      <td>2018-07-14 10:26:46</td>\n",
       "      <td>2018-07-17 04:31:48</td>\n",
       "      <td>2018-07-17 08:05:00</td>\n",
       "      <td>2018-07-23 20:31:55</td>\n",
       "      <td>2018-08-01</td>\n",
       "      <td>0da9fe112eae0c74d3ba1fe16de0988b</td>\n",
       "      <td>81690</td>\n",
       "      <td>curitiba</td>\n",
       "      <td>PR</td>\n",
       "    </tr>\n",
       "    <tr>\n",
       "      <th>99438</th>\n",
       "      <td>fffce4705a9662cd70adb13d4a31832d</td>\n",
       "      <td>29309aa813182aaddc9b259e31b870e6</td>\n",
       "      <td>delivered</td>\n",
       "      <td>2017-10-23 17:07:56</td>\n",
       "      <td>2017-10-24 17:14:25</td>\n",
       "      <td>2017-10-26 15:13:14</td>\n",
       "      <td>2017-10-28 12:22:22</td>\n",
       "      <td>2017-11-10</td>\n",
       "      <td>cd79b407828f02fdbba457111c38e4c4</td>\n",
       "      <td>4039</td>\n",
       "      <td>sao paulo</td>\n",
       "      <td>SP</td>\n",
       "    </tr>\n",
       "    <tr>\n",
       "      <th>99439</th>\n",
       "      <td>fffe18544ffabc95dfada21779c9644f</td>\n",
       "      <td>b5e6afd5a41800fdf401e0272ca74655</td>\n",
       "      <td>delivered</td>\n",
       "      <td>2017-08-14 23:02:59</td>\n",
       "      <td>2017-08-15 00:04:32</td>\n",
       "      <td>2017-08-15 19:02:53</td>\n",
       "      <td>2017-08-16 21:59:40</td>\n",
       "      <td>2017-08-25</td>\n",
       "      <td>eb803377c9315b564bdedad672039306</td>\n",
       "      <td>13289</td>\n",
       "      <td>vinhedo</td>\n",
       "      <td>SP</td>\n",
       "    </tr>\n",
       "    <tr>\n",
       "      <th>99440</th>\n",
       "      <td>fffe41c64501cc87c801fd61db3f6244</td>\n",
       "      <td>96d649da0cc4ff33bb408b199d4c7dcf</td>\n",
       "      <td>delivered</td>\n",
       "      <td>2018-06-09 17:00:18</td>\n",
       "      <td>2018-06-09 17:10:13</td>\n",
       "      <td>2018-06-11 14:11:00</td>\n",
       "      <td>2018-06-14 17:56:26</td>\n",
       "      <td>2018-06-28</td>\n",
       "      <td>cd76a00d8e3ca5e6ab9ed9ecb6667ac4</td>\n",
       "      <td>18605</td>\n",
       "      <td>botucatu</td>\n",
       "      <td>SP</td>\n",
       "    </tr>\n",
       "  </tbody>\n",
       "</table>\n",
       "<p>99441 rows × 12 columns</p>\n",
       "</div>"
      ],
      "text/plain": [
       "                               order_id                       customer_id  \\\n",
       "0      00010242fe8c5a6d1ba2dd792cb16214  3ce436f183e68e07877b285a838db11a   \n",
       "1      00018f77f2f0320c557190d7a144bdd3  f6dd3ec061db4e3987629fe6b26e5cce   \n",
       "2      000229ec398224ef6ca0657da4fc703e  6489ae5e4333f3693df5ad4372dab6d3   \n",
       "3      00024acbcdf0a6daa1e931b038114c75  d4eb9395c8c0431ee92fce09860c5a06   \n",
       "4      00042b26cf59d7ce69dfabb4e55b4fd9  58dbd0b2d70206bf40e62cd34e84d795   \n",
       "...                                 ...                               ...   \n",
       "99436  fffc94f6ce00a00581880bf54a75a037  b51593916b4b8e0d6f66f2ae24f2673d   \n",
       "99437  fffcd46ef2263f404302a634eb57f7eb  84c5d4fbaf120aae381fad077416eaa0   \n",
       "99438  fffce4705a9662cd70adb13d4a31832d  29309aa813182aaddc9b259e31b870e6   \n",
       "99439  fffe18544ffabc95dfada21779c9644f  b5e6afd5a41800fdf401e0272ca74655   \n",
       "99440  fffe41c64501cc87c801fd61db3f6244  96d649da0cc4ff33bb408b199d4c7dcf   \n",
       "\n",
       "      order_status order_purchase_timestamp   order_approved_at  \\\n",
       "0        delivered      2017-09-13 08:59:02 2017-09-13 09:45:35   \n",
       "1        delivered      2017-04-26 10:53:06 2017-04-26 11:05:13   \n",
       "2        delivered      2018-01-14 14:33:31 2018-01-14 14:48:30   \n",
       "3        delivered      2018-08-08 10:00:35 2018-08-08 10:10:18   \n",
       "4        delivered      2017-02-04 13:57:51 2017-02-04 14:10:13   \n",
       "...            ...                      ...                 ...   \n",
       "99436    delivered      2018-04-23 13:57:06 2018-04-25 04:11:01   \n",
       "99437    delivered      2018-07-14 10:26:46 2018-07-17 04:31:48   \n",
       "99438    delivered      2017-10-23 17:07:56 2017-10-24 17:14:25   \n",
       "99439    delivered      2017-08-14 23:02:59 2017-08-15 00:04:32   \n",
       "99440    delivered      2018-06-09 17:00:18 2018-06-09 17:10:13   \n",
       "\n",
       "      order_delivered_carrier_date order_delivered_customer_date  \\\n",
       "0              2017-09-19 18:34:16           2017-09-20 23:43:48   \n",
       "1              2017-05-04 14:35:00           2017-05-12 16:04:24   \n",
       "2              2018-01-16 12:36:48           2018-01-22 13:19:16   \n",
       "3              2018-08-10 13:28:00           2018-08-14 13:32:39   \n",
       "4              2017-02-16 09:46:09           2017-03-01 16:42:31   \n",
       "...                            ...                           ...   \n",
       "99436          2018-04-25 12:09:00           2018-05-10 22:56:40   \n",
       "99437          2018-07-17 08:05:00           2018-07-23 20:31:55   \n",
       "99438          2017-10-26 15:13:14           2017-10-28 12:22:22   \n",
       "99439          2017-08-15 19:02:53           2017-08-16 21:59:40   \n",
       "99440          2018-06-11 14:11:00           2018-06-14 17:56:26   \n",
       "\n",
       "      order_estimated_delivery_date                customer_unique_id  \\\n",
       "0                        2017-09-29  871766c5855e863f6eccc05f988b23cb   \n",
       "1                        2017-05-15  eb28e67c4c0b83846050ddfb8a35d051   \n",
       "2                        2018-02-05  3818d81c6709e39d06b2738a8d3a2474   \n",
       "3                        2018-08-20  af861d436cfc08b2c2ddefd0ba074622   \n",
       "4                        2017-03-17  64b576fb70d441e8f1b2d7d446e483c5   \n",
       "...                             ...                               ...   \n",
       "99436                    2018-05-18  0c9aeda10a71f369396d0c04dce13a64   \n",
       "99437                    2018-08-01  0da9fe112eae0c74d3ba1fe16de0988b   \n",
       "99438                    2017-11-10  cd79b407828f02fdbba457111c38e4c4   \n",
       "99439                    2017-08-25  eb803377c9315b564bdedad672039306   \n",
       "99440                    2018-06-28  cd76a00d8e3ca5e6ab9ed9ecb6667ac4   \n",
       "\n",
       "       customer_zip_code_prefix          customer_city customer_state  \n",
       "0                         28013  campos dos goytacazes             RJ  \n",
       "1                         15775        santa fe do sul             SP  \n",
       "2                         35661          para de minas             MG  \n",
       "3                         12952                atibaia             SP  \n",
       "4                         13226        varzea paulista             SP  \n",
       "...                         ...                    ...            ...  \n",
       "99436                     65077               sao luis             MA  \n",
       "99437                     81690               curitiba             PR  \n",
       "99438                      4039              sao paulo             SP  \n",
       "99439                     13289                vinhedo             SP  \n",
       "99440                     18605               botucatu             SP  \n",
       "\n",
       "[99441 rows x 12 columns]"
      ]
     },
     "execution_count": 163,
     "metadata": {},
     "output_type": "execute_result"
    }
   ],
   "source": [
    "result = df_customers.merge(df_sellers, how = \"left\", on = \"customer_id\")\n",
    "result"
   ]
  }
 ],
 "metadata": {
  "kernelspec": {
   "display_name": "Python 3",
   "language": "python",
   "name": "python3"
  },
  "language_info": {
   "codemirror_mode": {
    "name": "ipython",
    "version": 3
   },
   "file_extension": ".py",
   "mimetype": "text/x-python",
   "name": "python",
   "nbconvert_exporter": "python",
   "pygments_lexer": "ipython3",
   "version": "3.13.7"
  }
 },
 "nbformat": 4,
 "nbformat_minor": 5
}
